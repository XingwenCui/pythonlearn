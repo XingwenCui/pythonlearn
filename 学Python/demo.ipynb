{
 "cells": [
  {
   "cell_type": "code",
   "execution_count": 3,
   "id": "fa11e31a",
   "metadata": {},
   "outputs": [],
   "source": [
    "import math\n",
    "def function(a_list):\n",
    "    name = a_list[0]\n",
    "    A = eval(a_list[2])\n",
    "    phi = eval(a_list[3])\n",
    "    y = A*math.sin(2*math.pi*0.3 + (phi/180)*math.pi)\n",
    "    y2 = A*math.sin(2*math.pi*0.7 + (phi/180)*math.pi)\n",
    "    print(\"{}的 x = 0.3, y = {:.2f}\".format(name,y))\n",
    "    print(\"{}的 x = 0.7, y = {:.2f}\".format(name,y2))"
   ]
  },
  {
   "cell_type": "code",
   "execution_count": 4,
   "id": "ddd84d2c",
   "metadata": {},
   "outputs": [],
   "source": [
    "import math\n",
    "def sandiantu(a_list):\n",
    "    name = a_list[0]\n",
    "    A = eval(a_list[2])\n",
    "    phi = eval(a_list[3])\n",
    "    x = A*math.cos((phi/180)*math.pi)\n",
    "    y = A*math.sin((phi/180)*math.pi)\n",
    "    print(\"{}的点是({:.2f},{:.2f})\".format(name,x,y))"
   ]
  },
  {
   "cell_type": "code",
   "execution_count": 40,
   "id": "0f13ba7e",
   "metadata": {},
   "outputs": [
    {
     "name": "stdout",
     "output_type": "stream",
     "text": [
      "0000的 x = 0.3, y = 0.64\n",
      "0000的 x = 0.7, y = -1.26\n",
      "0001的 x = 0.3, y = 1.28\n",
      "0001的 x = 0.7, y = -2.52\n",
      "0010的 x = 0.3, y = 0.33\n",
      "0010的 x = 0.7, y = -1.57\n",
      "0011的 x = 0.3, y = 1.60\n",
      "0011的 x = 0.7, y = -2.21\n",
      "0100的 x = 0.3, y = -1.26\n",
      "0100的 x = 0.7, y = 0.64\n",
      "0101的 x = 0.3, y = -2.52\n",
      "0101的 x = 0.7, y = 1.28\n",
      "0110的 x = 0.3, y = -2.21\n",
      "0110的 x = 0.7, y = 1.60\n",
      "0111的 x = 0.3, y = -1.57\n",
      "0111的 x = 0.7, y = 0.33\n",
      "1000的 x = 0.3, y = -0.64\n",
      "1000的 x = 0.7, y = 1.26\n",
      "1001的 x = 0.3, y = -1.28\n",
      "1001的 x = 0.7, y = 2.52\n",
      "1010的 x = 0.3, y = -0.33\n",
      "1010的 x = 0.7, y = 1.57\n",
      "1011的 x = 0.3, y = -1.60\n",
      "1011的 x = 0.7, y = 2.21\n",
      "1100的 x = 0.3, y = 1.26\n",
      "1100的 x = 0.7, y = -0.64\n",
      "1101的 x = 0.3, y = 2.52\n",
      "1101的 x = 0.7, y = -1.28\n",
      "1110的 x = 0.3, y = 2.21\n",
      "1110的 x = 0.7, y = -1.60\n",
      "1111的 x = 0.3, y = 1.57\n",
      "1111的 x = 0.7, y = -0.33\n"
     ]
    }
   ],
   "source": [
    "x= '''\n",
    "0000\t1Hz\t1.41\t45\n",
    "0001\t1Hz\t2.83\t45\n",
    "0010\t1Hz\t2.24\t63.43\n",
    "0011\t1Hz\t2.24\t26.57\n",
    "0100\t1Hz\t1.41\t135\n",
    "0101\t1Hz\t2.83\t135\n",
    "0110\t1Hz\t2.24\t153.43\n",
    "0111\t1Hz\t2.24\t116.57\n",
    "1000\t1Hz\t1.41\t225\n",
    "1001\t1Hz\t2.83\t225\n",
    "1010\t1Hz\t2.24\t243.43\n",
    "1011\t1Hz\t2.24\t206.57\n",
    "1100\t1Hz\t1.41\t315\n",
    "1101\t1Hz\t2.83\t315\n",
    "1110\t1Hz\t2.24\t333.43\n",
    "1111\t1Hz\t2.24\t296.57\n",
    "'''\n",
    "\n",
    "x = [i.split('\\t') for i in x.strip().split('\\n')]\n",
    "ls = [i[:] for i in x]\n",
    "ls\n",
    "for i in ls:\n",
    "    function(i)"
   ]
  },
  {
   "cell_type": "code",
   "execution_count": 45,
   "id": "35f11927",
   "metadata": {},
   "outputs": [
    {
     "name": "stdout",
     "output_type": "stream",
     "text": [
      "0000的点是(1.00,1.00)\n",
      "0001的点是(2.00,2.00)\n",
      "0010的点是(1.00,2.00)\n",
      "0011的点是(2.00,1.00)\n",
      "0100的点是(-1.00,1.00)\n",
      "0101的点是(-2.00,2.00)\n",
      "0110的点是(-2.00,1.00)\n",
      "0111的点是(-1.00,2.00)\n",
      "1000的点是(-1.00,-1.00)\n",
      "1001的点是(-2.00,-2.00)\n",
      "1010的点是(-1.00,-2.00)\n",
      "1011的点是(-2.00,-1.00)\n",
      "1100的点是(1.00,-1.00)\n",
      "1101的点是(2.00,-2.00)\n",
      "1110的点是(2.00,-1.00)\n",
      "1111的点是(1.00,-2.00)\n"
     ]
    }
   ],
   "source": [
    "for i in ls:\n",
    "    sandiantu(i)"
   ]
  },
  {
   "cell_type": "code",
   "execution_count": 5,
   "id": "e3cdd66c",
   "metadata": {},
   "outputs": [
    {
     "name": "stdout",
     "output_type": "stream",
     "text": [
      "00的 x = 0.3, y = 0.93\n",
      "00的 x = 0.7, y = 0.93\n",
      "01的 x = 0.3, y = -0.93\n",
      "01的 x = 0.7, y = -0.93\n",
      "10的 x = 0.3, y = 0.62\n",
      "10的 x = 0.7, y = 0.62\n",
      "11的 x = 0.3, y = -0.62\n",
      "11的 x = 0.7, y = -0.62\n"
     ]
    }
   ],
   "source": [
    "x = '''\n",
    "00\t1Hz\t3.0\t270\n",
    "01\t1Hz\t3.0\t90\n",
    "10\t1Hz\t2\t270\n",
    "11\t1Hz\t2\t90\n",
    "'''\n",
    "x = [i.split('\\t') for i in x.strip().split('\\n')]\n",
    "ls = [i[:] for i in x]\n",
    "ls\n",
    "for i in ls:\n",
    "    function(i)"
   ]
  },
  {
   "cell_type": "code",
   "execution_count": 6,
   "id": "54bf71c0",
   "metadata": {},
   "outputs": [
    {
     "name": "stdout",
     "output_type": "stream",
     "text": [
      "00的点是(-0.00,-3.00)\n",
      "01的点是(0.00,3.00)\n",
      "10的点是(-0.00,-2.00)\n",
      "11的点是(0.00,2.00)\n"
     ]
    }
   ],
   "source": [
    "for i in ls:\n",
    "    sandiantu(i)"
   ]
  }
 ],
 "metadata": {
  "kernelspec": {
   "display_name": "Python 3",
   "language": "python",
   "name": "python3"
  },
  "language_info": {
   "codemirror_mode": {
    "name": "ipython",
    "version": 3
   },
   "file_extension": ".py",
   "mimetype": "text/x-python",
   "name": "python",
   "nbconvert_exporter": "python",
   "pygments_lexer": "ipython3",
   "version": "3.8.8"
  }
 },
 "nbformat": 4,
 "nbformat_minor": 5
}
