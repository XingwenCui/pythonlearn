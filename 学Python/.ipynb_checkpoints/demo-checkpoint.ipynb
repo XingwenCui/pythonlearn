{
 "cells": [
  {
   "cell_type": "code",
   "execution_count": 29,
   "id": "b03e40a5",
   "metadata": {},
   "outputs": [],
   "source": [
    "import math\n",
    "def function(a_list):\n",
    "    A = eval(a_list[0])\n",
    "    phi = eval(a_list[1])\n",
    "    y = A*(2*math.pi*0.3 + (phi/180)*math.pi)\n",
    "    y2 = A*(2*math.pi*0.7 + (phi/180)*math.pi)\n",
    "    print(\"x = 0.3, y = {:.2f}\".format(y))\n",
    "    print(\"x = 0.7, y = {:.2f}\".format(y2))"
   ]
  },
  {
   "cell_type": "code",
   "execution_count": 30,
   "id": "05e37173",
   "metadata": {},
   "outputs": [
    {
     "name": "stdout",
     "output_type": "stream",
     "text": [
      "x = 0.3, y = 3.77\n",
      "x = 0.7, y = 7.31\n",
      "x = 0.3, y = 7.56\n",
      "x = 0.7, y = 14.67\n",
      "x = 0.3, y = 6.70\n",
      "x = 0.7, y = 12.33\n",
      "x = 0.3, y = 5.26\n",
      "x = 0.7, y = 10.89\n",
      "x = 0.3, y = 5.98\n",
      "x = 0.7, y = 9.52\n",
      "x = 0.3, y = 12.00\n",
      "x = 0.7, y = 19.12\n",
      "x = 0.3, y = 10.22\n",
      "x = 0.7, y = 15.85\n",
      "x = 0.3, y = 8.78\n",
      "x = 0.7, y = 14.41\n",
      "x = 0.3, y = 8.19\n",
      "x = 0.7, y = 11.74\n",
      "x = 0.3, y = 16.45\n",
      "x = 0.7, y = 23.56\n",
      "x = 0.3, y = 13.74\n",
      "x = 0.7, y = 19.37\n",
      "x = 0.3, y = 12.30\n",
      "x = 0.7, y = 17.93\n",
      "x = 0.3, y = 10.41\n",
      "x = 0.7, y = 13.95\n",
      "x = 0.3, y = 20.89\n",
      "x = 0.7, y = 28.01\n",
      "x = 0.3, y = 17.26\n",
      "x = 0.7, y = 22.89\n",
      "x = 0.3, y = 15.82\n",
      "x = 0.7, y = 21.45\n"
     ]
    }
   ],
   "source": [
    "x= '''\n",
    "0000\t1Hz\t1.41\t45\n",
    "0001\t1Hz\t2.83\t45\n",
    "0010\t1Hz\t2.24\t63.43\n",
    "0011\t1Hz\t2.24\t26.57\n",
    "0100\t1Hz\t1.41\t135\n",
    "0101\t1Hz\t2.83\t135\n",
    "0110\t1Hz\t2.24\t153.43\n",
    "0111\t1Hz\t2.24\t116.57\n",
    "1000\t1Hz\t1.41\t225\n",
    "1001\t1Hz\t2.83\t225\n",
    "1010\t1Hz\t2.24\t243.43\n",
    "1011\t1Hz\t2.24\t206.57\n",
    "1100\t1Hz\t1.41\t315\n",
    "1101\t1Hz\t2.83\t315\n",
    "1110\t1Hz\t2.24\t333.43\n",
    "1111\t1Hz\t2.24\t296.57\n",
    "'''\n",
    "\n",
    "x = [i.split('\\t') for i in x.strip().split('\\n')]\n",
    "ls = [i[2:] for i in x]\n",
    "ls\n",
    "for i in ls:\n",
    "    function(i)"
   ]
  },
  {
   "cell_type": "code",
   "execution_count": 14,
   "id": "4f906b1e",
   "metadata": {},
   "outputs": [
    {
     "data": {
      "text/plain": [
       "['0000\\t1Hz\\t1.41\\t45',\n",
       " '0001\\t1Hz\\t2.83\\t45',\n",
       " '0010\\t1Hz\\t2.24\\t63.43',\n",
       " '0011\\t1Hz\\t2.24\\t26.57',\n",
       " '0100\\t1Hz\\t1.41\\t135',\n",
       " '0101\\t1Hz\\t2.83\\t135',\n",
       " '0110\\t1Hz\\t2.24\\t153.43',\n",
       " '0111\\t1Hz\\t2.24\\t116.57',\n",
       " '1000\\t1Hz\\t1.41\\t225',\n",
       " '1001\\t1Hz\\t2.83\\t225',\n",
       " '1010\\t1Hz\\t2.24\\t243.43',\n",
       " '1011\\t1Hz\\t2.24\\t206.57',\n",
       " '1100\\t1Hz\\t1.41\\t315',\n",
       " '1101\\t1Hz\\t2.83\\t315',\n",
       " '1110\\t1Hz\\t2.24\\t333.43',\n",
       " '1111\\t1Hz\\t2.24\\t296.57']"
      ]
     },
     "execution_count": 14,
     "metadata": {},
     "output_type": "execute_result"
    }
   ],
   "source": [
    "x.strip().split('\\n')"
   ]
  },
  {
   "cell_type": "code",
   "execution_count": null,
   "id": "998997c0",
   "metadata": {},
   "outputs": [],
   "source": []
  }
 ],
 "metadata": {
  "kernelspec": {
   "display_name": "Python 3",
   "language": "python",
   "name": "python3"
  },
  "language_info": {
   "codemirror_mode": {
    "name": "ipython",
    "version": 3
   },
   "file_extension": ".py",
   "mimetype": "text/x-python",
   "name": "python",
   "nbconvert_exporter": "python",
   "pygments_lexer": "ipython3",
   "version": "3.8.8"
  }
 },
 "nbformat": 4,
 "nbformat_minor": 5
}
