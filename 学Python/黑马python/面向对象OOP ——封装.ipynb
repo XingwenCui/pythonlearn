{
 "cells": [
  {
   "cell_type": "markdown",
   "id": "d69a31b3",
   "metadata": {},
   "source": [
    "# 面向对象(OOP)基本概念\n",
    "\n",
    "**面向对象编程** —— `Object Oriented Programming` 简写 `OOP`\n",
    "\n",
    "## 目标\n",
    "\n",
    "* 了解 **面向对象** 基本概念\n",
    "\n",
    "## 01. 面向对象基本概念\n",
    "\n",
    "* 我们之前学习的编程方式就是 **面向过程** 的\n",
    "* **面相过程** 和 **面相对象**，是两种不同的 **编程方式**\n",
    "* 对比 **面向过程** 的特点，可以更好地了解什么是 **面向对象**\n",
    "\n",
    "### 1.1 过程和函数（科普）\n",
    "\n",
    "* **过程** 是早期的一个编程概念\n",
    "* **过程** 类似于函数，只能执行，但是没有返回值\n",
    "* **函数** 不仅能执行，还可以返回结果\n",
    "\n",
    "### 1.2 面相过程 和 面相对象 基本概念\n",
    "\n",
    "#### 1) **面相过程** —— **怎么做**？\n",
    "\n",
    "1. 把完成某一个需求的 `所有步骤` `从头到尾` 逐步实现\n",
    "2. 根据开发需求，将某些 **功能独立** 的代码 **封装** 成一个又一个 **函数**\n",
    "3. 最后完成的代码，就是顺序地调用 **不同的函数**\n",
    "\n",
    "**特点**\n",
    "\n",
    "1. 注重 **步骤与过程**，不注重职责分工\n",
    "2. 如果需求复杂，代码会变得很复杂\n",
    "3. **开发复杂项目，没有固定的套路，开发难度很大！**\n",
    "\n",
    "\n",
    "\n",
    "\n",
    "#### 2) **面向对象** —— **谁来做**？\n",
    "\n",
    "> 相比较函数，**面向对象** 是 **更大** 的 **封装**，根据 **职责** 在 **一个对象中 封装 多个方法**\n",
    "\n",
    "1. 在完成某一个需求前，首先确定 **职责** —— **要做的事情（方法）**\n",
    "2. 根据 **职责** 确定不同的 **对象**，在 **对象** 内部封装不同的 **方法**（多个）\n",
    "3. 最后完成的代码，就是顺序地让 **不同的对象** 调用 **不同的方法**\n",
    "\n",
    "**特点**\n",
    "\n",
    "1. 注重 **对象和职责**，不同的对象承担不同的职责\n",
    "2. 更加适合应对复杂的需求变化，**是专门应对复杂项目开发，提供的固定套路**\n",
    "3. **需要在面向过程基础上，再学习一些面向对象的语法**"
   ]
  },
  {
   "cell_type": "markdown",
   "id": "1033a1cc",
   "metadata": {},
   "source": [
    "# 类和对象\n",
    "\n",
    "## 目标\n",
    "\n",
    "* 类和对象的概念\n",
    "* 类和对象的关系\n",
    "* 类的设计\n",
    "\n",
    "## 01. 类和对象的概念\n",
    "\n",
    "**类** 和 **对象** 是 **面向对象编程的 两个 核心概念**\n",
    "\n",
    "### 1.1 类\n",
    "\n",
    "* **类** 是对一群具有 **相同 特征** 或者 **行为** 的事物的一个统称，是抽象的，**不能直接使用**\n",
    "    * **特征** 被称为 **属性**\n",
    "    * **行为** 被称为 **方法**\n",
    "* **类** 就相当于制造飞机时的**图纸**，是一个 **模板**，是 **负责创建对象的**\n",
    "\n",
    "![002_飞机设计图纸](media/15006069346510/002_%E9%A3%9E%E6%9C%BA%E8%AE%BE%E8%AE%A1%E5%9B%BE%E7%BA%B8.png)\n",
    "\n",
    "### 1.2 对象\n",
    "\n",
    "* **对象** 是 **由类创建出来的一个具体存在**，可以直接使用\n",
    "* 由 **哪一个类** 创建出来的 **对象**，就拥有在 **哪一个类** 中定义的：\n",
    "    * 属性\n",
    "    * 方法\n",
    "* **对象** 就相当于用 **图纸** **制造** 的飞机\n",
    "\n",
    "> 在程序开发中，应该 **先有类，再有对象**\n",
    "\n",
    "![003_飞机对象](media/15006069346510/003_%E9%A3%9E%E6%9C%BA%E5%AF%B9%E8%B1%A1.png)\n",
    "\n",
    "## 02. 类和对象的关系\n",
    "\n",
    "* **类是模板**，**对象** 是根据 **类** 这个模板创建出来的，应该 **先有类，再有对象**\n",
    "* **类** 只有一个，而 **对象** 可以有很多个\n",
    "    * **不同的对象** 之间 **属性** 可能会各不相同\n",
    "* **类** 中定义了什么 **属性和方法**，**对象** 中就有什么属性和方法，**不可能多，也不可能少**\n",
    "\n",
    "## 03. 类的设计\n",
    "\n",
    "在使用面相对象开发前，应该首先分析需求，确定一下，程序中需要包含哪些类！\n",
    "\n",
    "![001_植物大战僵尸类图](media/15006069346510/001_%E6%A4%8D%E7%89%A9%E5%A4%A7%E6%88%98%E5%83%B5%E5%B0%B8%E7%B1%BB%E5%9B%BE.png)\n",
    "\n",
    "在程序开发中，要设计一个类，通常需要满足一下三个要素：\n",
    "\n",
    "1. **类名** 这类事物的名字，**满足大驼峰命名法**\n",
    "2. **属性** 这类事物具有什么样的特征\n",
    "3. **方法** 这类事物具有什么样的行为\n",
    "\n",
    "### 大驼峰命名法\n",
    "\n",
    "`CapWords`\n",
    "\n",
    "1. 每一个单词的首字母大写\n",
    "2. 单词与单词之间没有下划线\n",
    "\n",
    "### 3.1 类名的确定\n",
    "\n",
    "**名词提炼法** 分析 **整个业务流程**，出现的 **名词**，通常就是找到的类\n",
    "\n",
    "### 3.2 属性和方法的确定\n",
    "\n",
    "* 对 **对象的特征描述**，通常可以定义成 **属性**\n",
    "* **对象具有的行为**（动词），通常可以定义成 **方法**\n",
    "\n",
    "> 提示：需求中没有涉及的属性或者方法在设计类时，不需要考虑"
   ]
  },
  {
   "cell_type": "markdown",
   "id": "971f945c",
   "metadata": {},
   "source": [
    "# 面向对象基础语法\n",
    "## 01. `dir` 内置函数（知道）\n",
    "\n",
    "* 在 `Python` 中 **对象几乎是无所不在的**，我们之前学习的 **变量**、**数据**、**函数** 都是对象\n",
    "\n",
    "在 `Python` 中可以使用以下两个方法验证：\n",
    "\n",
    "1. 在 **标识符** / **数据** 后输入一个 `.`，然后按下 `TAB` 键，`iPython` 会提示该对象能够调用的 **方法列表**\n",
    "2. 使用内置函数 `dir` 传入 **标识符** / **数据**，可以查看对象内的 **所有属性及方法**\n",
    "\n",
    "**提示** `__方法名__` 格式的方法是 `Python` 提供的 **内置方法 / 属性**，稍后会给大家介绍一些常用的 内置方法 / 属性\n",
    "\n",
    "| 序号 | 方法名 | 类型 | 作用 |\n",
    "| :---: | :---: | :---: | --- | \n",
    "| 01 | `__new__` | 方法 | **创建对象**时，会被 **自动** 调用 |\n",
    "| 02 | `__init__` | 方法 | **对象被初始化**时，会被 **自动** 调用 |\n",
    "| 03 | `__del__` | 方法 | **对象被从内存中销毁**前，会被 **自动** 调用 |\n",
    "| 04 | `__str__` | 方法 | 返回**对象的描述信息**，`print` 函数输出使用 |\n",
    "\n",
    "**提示** 利用好 `dir()` 函数，在学习时很多内容就不需要死记硬背了\n",
    "## 02. 定义简单的类（只包含方法）\n",
    "\n",
    "> **面向对象** 是 **更大** 的 **封装**，在 **一个类中 封装 多个方法**，这样 **通过这个类创建出来的对象，就可以直接调用这些方法了**！\n",
    "\n",
    "### 2.1定义只包含方法的类\n",
    "与定义函数的区别在于，第一个参数必须是self  \n",
    "\n",
    "class 类名:\n",
    "    \n",
    "    def 方法1(self,paramter):\n",
    "        pass\n",
    "    \n",
    "    def 方法2(self,paramter):\n",
    "        pass"
   ]
  },
  {
   "cell_type": "markdown",
   "id": "1a86272b",
   "metadata": {},
   "source": [
    "## 2.2 创建对象\n",
    "当一个类定义完成之后，要使用这个类来创建对象，语法格式如下：对象变量 = 类名()"
   ]
  },
  {
   "cell_type": "code",
   "execution_count": 3,
   "id": "3fd01bb6",
   "metadata": {},
   "outputs": [
    {
     "name": "stdout",
     "output_type": "stream",
     "text": [
      "cat drink water\n",
      "cat eat fish\n",
      "<__main__.Cat object at 0x000001A14CBC16A0>\n"
     ]
    }
   ],
   "source": [
    "class Cat:\n",
    "    \n",
    "    def eat(self):\n",
    "        print(\"cat eat fish\")\n",
    "        \n",
    "    def drink(self):\n",
    "        print(\"cat drink water\")\n",
    "        \n",
    "tom = Cat() #创建Cat类的对象\n",
    "tom.drink() #调用Cat类中的函数\n",
    "tom.eat()\n",
    "\n",
    "print(tom)"
   ]
  },
  {
   "cell_type": "markdown",
   "id": "c6e65828",
   "metadata": {},
   "source": [
    "再创建一个对象，这两个对象是同一个类的，但不同内存地址"
   ]
  },
  {
   "cell_type": "code",
   "execution_count": 4,
   "id": "0e227074",
   "metadata": {},
   "outputs": [
    {
     "name": "stdout",
     "output_type": "stream",
     "text": [
      "cat drink water\n",
      "cat eat fish\n",
      "<__main__.Cat object at 0x000001A14CB858E0>\n"
     ]
    }
   ],
   "source": [
    "lazy_cat = Cat()  #再创建一个猫对象\n",
    "lazy_cat.drink()\n",
    "lazy_cat.eat()\n",
    "print(lazy_cat)"
   ]
  },
  {
   "cell_type": "markdown",
   "id": "1b0b03c9",
   "metadata": {},
   "source": [
    "# 3.方法中的self参数\n",
    "哪一个对象调用的方法，self就是哪一个对象的引用  \n",
    "在类的外部，通过变量名访问对象的属性和方法  \n",
    "在类封装的方法中，通过slef访问对像的属性和方法\n",
    "## 3.1案例改造 -- 给对象增加属性\n",
    "在python中可以在外边直接修改,但是这样并没有将对象属性封装在类的内部"
   ]
  },
  {
   "cell_type": "code",
   "execution_count": 11,
   "id": "6f5cc13b",
   "metadata": {},
   "outputs": [],
   "source": [
    "tom.name = \"Tom\"\n",
    "\n"
   ]
  },
  {
   "cell_type": "code",
   "execution_count": 12,
   "id": "b03249ec",
   "metadata": {},
   "outputs": [
    {
     "data": {
      "text/plain": [
       "'Tom'"
      ]
     },
     "execution_count": 12,
     "metadata": {},
     "output_type": "execute_result"
    }
   ],
   "source": [
    "tom.name"
   ]
  },
  {
   "cell_type": "code",
   "execution_count": 13,
   "id": "d375ff66",
   "metadata": {},
   "outputs": [
    {
     "name": "stdout",
     "output_type": "stream",
     "text": [
      "<__main__.Cat object at 0x000001A14CBC16A0>\n"
     ]
    }
   ],
   "source": [
    "print(tom)"
   ]
  },
  {
   "cell_type": "code",
   "execution_count": 33,
   "id": "7c45adc8",
   "metadata": {},
   "outputs": [
    {
     "name": "stdout",
     "output_type": "stream",
     "text": [
      "Tom eat fish\n"
     ]
    }
   ],
   "source": [
    "class Cat:\n",
    "    \n",
    "    def eat(self):\n",
    "        print(\"%s eat fish\"%self.name)  #用self调用方法\n",
    "        \n",
    "    def drink(self):\n",
    "        print(\"cat drink water\")\n",
    "\n",
    "\n",
    "\n",
    "tom = Cat()\n",
    "tom.name = \"Tom\"  #在外部给class添加属性，但是如果把他放在后边的话会报错\n",
    "tom.eat()"
   ]
  },
  {
   "cell_type": "code",
   "execution_count": 35,
   "id": "6d1f24bf",
   "metadata": {},
   "outputs": [
    {
     "ename": "AttributeError",
     "evalue": "'Cat' object has no attribute 'name'",
     "output_type": "error",
     "traceback": [
      "\u001b[1;31m---------------------------------------------------------------------------\u001b[0m",
      "\u001b[1;31mAttributeError\u001b[0m                            Traceback (most recent call last)",
      "\u001b[1;32m<ipython-input-35-6480c16f01d2>\u001b[0m in \u001b[0;36m<module>\u001b[1;34m\u001b[0m\n\u001b[0;32m      1\u001b[0m \u001b[0mtom\u001b[0m \u001b[1;33m=\u001b[0m \u001b[0mCat\u001b[0m\u001b[1;33m(\u001b[0m\u001b[1;33m)\u001b[0m\u001b[1;33m\u001b[0m\u001b[1;33m\u001b[0m\u001b[0m\n\u001b[1;32m----> 2\u001b[1;33m \u001b[0mtom\u001b[0m\u001b[1;33m.\u001b[0m\u001b[0meat\u001b[0m\u001b[1;33m(\u001b[0m\u001b[1;33m)\u001b[0m\u001b[1;33m\u001b[0m\u001b[1;33m\u001b[0m\u001b[0m\n\u001b[0m",
      "\u001b[1;32m<ipython-input-33-1c01ce18f8f0>\u001b[0m in \u001b[0;36meat\u001b[1;34m(self)\u001b[0m\n\u001b[0;32m      2\u001b[0m \u001b[1;33m\u001b[0m\u001b[0m\n\u001b[0;32m      3\u001b[0m     \u001b[1;32mdef\u001b[0m \u001b[0meat\u001b[0m\u001b[1;33m(\u001b[0m\u001b[0mself\u001b[0m\u001b[1;33m)\u001b[0m\u001b[1;33m:\u001b[0m\u001b[1;33m\u001b[0m\u001b[1;33m\u001b[0m\u001b[0m\n\u001b[1;32m----> 4\u001b[1;33m         \u001b[0mprint\u001b[0m\u001b[1;33m(\u001b[0m\u001b[1;34m\"%s eat fish\"\u001b[0m\u001b[1;33m%\u001b[0m\u001b[0mself\u001b[0m\u001b[1;33m.\u001b[0m\u001b[0mname\u001b[0m\u001b[1;33m)\u001b[0m  \u001b[1;31m#用self调用方法\u001b[0m\u001b[1;33m\u001b[0m\u001b[1;33m\u001b[0m\u001b[0m\n\u001b[0m\u001b[0;32m      5\u001b[0m \u001b[1;33m\u001b[0m\u001b[0m\n\u001b[0;32m      6\u001b[0m     \u001b[1;32mdef\u001b[0m \u001b[0mdrink\u001b[0m\u001b[1;33m(\u001b[0m\u001b[0mself\u001b[0m\u001b[1;33m)\u001b[0m\u001b[1;33m:\u001b[0m\u001b[1;33m\u001b[0m\u001b[1;33m\u001b[0m\u001b[0m\n",
      "\u001b[1;31mAttributeError\u001b[0m: 'Cat' object has no attribute 'name'"
     ]
    }
   ],
   "source": [
    "tom = Cat()\n",
    "tom.eat()"
   ]
  },
  {
   "cell_type": "markdown",
   "id": "f035284f",
   "metadata": {},
   "source": [
    "# 4.初始化方法\n",
    "## 4.1在类的外部给对象增加属性会出现问题"
   ]
  },
  {
   "cell_type": "markdown",
   "id": "c80580bb",
   "metadata": {},
   "source": [
    "## 4.2 初始化方法\n",
    "当使用类名创建对象时，会自动执行操作：\n",
    "- 为对象在内存中分配空间 -- 创建对象\n",
    "- 为对象的属性设置初始值 -- 初始化方法(init) (内置方法)"
   ]
  },
  {
   "cell_type": "code",
   "execution_count": 39,
   "id": "8603df9c",
   "metadata": {},
   "outputs": [
    {
     "name": "stdout",
     "output_type": "stream",
     "text": [
      "这是一个初始化方法\n"
     ]
    }
   ],
   "source": [
    "class Cat:\n",
    "    \n",
    "    def __init__(self):\n",
    "        print(\"这是一个初始化方法\")\n",
    "    \n",
    "    def eat(self):\n",
    "        print(\"%s eat fish\"%self.name)  #用self调用方法\n",
    "        \n",
    "    def drink(self):\n",
    "        print(\"cat drink water\")\n",
    "#使用类名()创建方法时，会自动调用初始化方法__init__\n",
    "tom = Cat()"
   ]
  },
  {
   "cell_type": "markdown",
   "id": "e045f440",
   "metadata": {},
   "source": [
    "## 4.3在初始化方法内部定义属性\n",
    "- 在__init__ 方法内部使用` self.属性名 = 属性的初始值 `就可以定义属性\n",
    "- 定义属性之后，再使用Cat类创建的对象，都会有该属性 "
   ]
  },
  {
   "cell_type": "code",
   "execution_count": 42,
   "id": "bbc02627",
   "metadata": {},
   "outputs": [
    {
     "name": "stdout",
     "output_type": "stream",
     "text": [
      "这是一个初始化方法\n",
      "Tom\n"
     ]
    }
   ],
   "source": [
    "class Cat:\n",
    "    \n",
    "    def __init__(self):\n",
    "        print(\"这是一个初始化方法\")\n",
    "        \n",
    "        #self.属性名 = 属性的初始值\n",
    "        self.name = \"Tom\"\n",
    "        \n",
    "    def eat(self):\n",
    "        print(\"%s eat fish\"%self.name)  #用self调用方法\n",
    "        \n",
    "    def drink(self):\n",
    "        print(\"cat drink water\")\n",
    "#使用类名()创建方法时，会自动调用初始化方法__init__\n",
    "tom = Cat()\n",
    "print(tom.name) "
   ]
  },
  {
   "cell_type": "markdown",
   "id": "2e740ea1",
   "metadata": {},
   "source": [
    "## 4.4改造初始化方法--初始化同时设置初始值"
   ]
  },
  {
   "cell_type": "code",
   "execution_count": 46,
   "id": "00efd6c8",
   "metadata": {},
   "outputs": [
    {
     "name": "stdout",
     "output_type": "stream",
     "text": [
      "这是一个初始化方法\n",
      "tom1\n"
     ]
    }
   ],
   "source": [
    "class Cat:\n",
    "    \n",
    "    def __init__(self,new_name):  #设置一个形参\n",
    "        print(\"这是一个初始化方法\")\n",
    "        \n",
    "        #self.属性名 = 属性的初始值\n",
    "        self.name = new_name\n",
    "        \n",
    "    def eat(self):\n",
    "        print(\"%s eat fish\"%self.name)  #用self调用方法\n",
    "        \n",
    "    def drink(self):\n",
    "        print(\"cat drink water\")\n",
    "#使用类名()创建方法时，会自动调用初始化方法__init__\n",
    "tom = Cat('tom1')  #在创建对象时，使用类名（参数）调用\n",
    "print(tom.name) "
   ]
  },
  {
   "cell_type": "markdown",
   "id": "0532999b",
   "metadata": {},
   "source": [
    "# 5.内置方法和属性\n",
    "## 5.1 \\__del__\n",
    "- 当使用类名()创建对象时，为对象分配完空间后，自动调用 \\__init__ 方法\n",
    "- 当一个对象被从内存中销毁前，会自动调用\\__del__ 方法\n",
    "### 应用场景\n",
    "- __init__ 改造初始化方法，可以让创建对象更加灵活\n",
    "- __del__ 如果希望在对象被销毁前，再做一些事情 可以考虑该方法\n",
    "### 生命周期\n",
    "- 一个对象从调用类名()创建，生命周期开始\n",
    "- 一个对象的__del__ 方法一旦被调用，生命周期结束\n",
    "- 在生命周期内，可以操作该对象"
   ]
  },
  {
   "cell_type": "code",
   "execution_count": 51,
   "id": "50fcd5d0",
   "metadata": {},
   "outputs": [
    {
     "name": "stdout",
     "output_type": "stream",
     "text": [
      "Tom来了\n",
      "Tom\n",
      "Tom我去了\n",
      "<__main__.Cat object at 0x000001A14CEC3460>\n"
     ]
    }
   ],
   "source": [
    "class Cat:\n",
    "    \n",
    "    def __init__(self,new_name):\n",
    "        self.name = new_name\n",
    "        print(\"%s来了\"%self.name)\n",
    "        \n",
    "    def __del__(self):\n",
    "        print(\"%s我去了\"%self.name)\n",
    "        \n",
    "tom = Cat(\"Tom\")\n",
    "print(tom.name)\n",
    "\n",
    "tom.__del__()\n",
    "\n",
    "print(tom)"
   ]
  },
  {
   "cell_type": "markdown",
   "id": "693b0a99",
   "metadata": {},
   "source": [
    "## 5.2 \\__str__方法\n",
    "如果在开发中，希望**使用print输出对象变量**时，能够打印自定义内容，就可以利用 \\__str__ 这个内置方法\n",
    "- 注意\\__str__方法必须返回一个字符串"
   ]
  },
  {
   "cell_type": "code",
   "execution_count": 54,
   "id": "a09f12f1",
   "metadata": {},
   "outputs": [
    {
     "name": "stdout",
     "output_type": "stream",
     "text": [
      "Tom来了\n",
      "Tom\n",
      "我是小猫：Tom\n"
     ]
    }
   ],
   "source": [
    "class Cat:\n",
    "    \n",
    "    def __init__(self,new_name):\n",
    "        self.name = new_name\n",
    "        print(\"%s来了\"%self.name)\n",
    "        \n",
    "    def __del__(self):\n",
    "        print(\"%s我去了\"%self.name)\n",
    "    \n",
    "    def __str__(self):\n",
    "        return \"我是小猫：%s\"%self.name\n",
    "tom = Cat(\"Tom\")\n",
    "print(tom.name)\n",
    "print(tom)  #使用print输出对象变量"
   ]
  },
  {
   "attachments": {
    "image.png": {
     "image/png": "[encoded data removed]"
    }
   },
   "cell_type": "markdown",
   "id": "240df2f8",
   "metadata": {},
   "source": [
    "# 私有属性和私有方法\n",
    "\n",
    "## 01. 应用场景及定义方式\n",
    "\n",
    "**应用场景**\n",
    "\n",
    "* 在实际开发中，**对象** 的 **某些属性或方法** 可能只希望 **在对象的内部被使用**，而 **不希望在外部被访问到**\n",
    "* **私有属性** 就是 **对象** 不希望公开的 **属性**\n",
    "* **私有方法** 就是 **对象** 不希望公开的 **方法**\n",
    "\n",
    "**定义方式**\n",
    "\n",
    "* 在 **定义属性或方法时**，在 **属性名或者方法名前** 增加 **两个下划线**，定义的就是 **私有** 属性或方法\n",
    "\n",
    "![image.png](attachment:image.png)\n",
    "\n",
    "```python\n",
    "class Women:\n",
    "\n",
    "    def __init__(self, name):\n",
    "\n",
    "        self.name = name\n",
    "        # 不要问女生的年龄\n",
    "        self.__age = 18\n",
    "\n",
    "    def __secret(self):\n",
    "        print(\"我的年龄是 %d\" % self.__age)\n",
    "\n",
    "\n",
    "xiaofang = Women(\"小芳\")\n",
    "# 私有属性，外部不能直接访问\n",
    "# print(xiaofang.__age)\n",
    "\n",
    "# 私有方法，外部不能直接调用\n",
    "# xiaofang.__secret()\n",
    "\n",
    "```\n",
    "\n",
    "## 02. 伪私有属性和私有方法（科普）\n",
    "\n",
    "> 提示：在日常开发中，**不要使用这种方式**，**访问对象的 私有属性 或 私有方法**\n",
    "\n",
    "`Python` 中，并没有 **真正意义** 的 **私有**\n",
    "\n",
    "* 在给 **属性**、**方法** 命名时，实际是对 **名称** 做了一些特殊处理，使得外界无法访问到\n",
    "* **处理方式**：在 **名称** 前面加上 `_类名` => `_类名__名称`\n",
    "\n",
    "```python\n",
    "# 私有属性，外部不能直接访问到\n",
    "print(xiaofang._Women__age)\n",
    "\n",
    "# 私有方法，外部不能直接调用\n",
    "xiaofang._Women__secret()\n",
    "\n",
    "```"
   ]
  },
  {
   "cell_type": "code",
   "execution_count": 7,
   "id": "8e168d07",
   "metadata": {},
   "outputs": [
    {
     "name": "stdout",
     "output_type": "stream",
     "text": [
      "我的年龄是 18\n"
     ]
    },
    {
     "data": {
      "text/plain": [
       "18"
      ]
     },
     "execution_count": 7,
     "metadata": {},
     "output_type": "execute_result"
    }
   ],
   "source": [
    "class Women:\n",
    "\n",
    "    def __init__(self, name):\n",
    "\n",
    "        self.name = name\n",
    "        # 不要问女生的年龄\n",
    "        self.__age = 18\n",
    "\n",
    "    def secret(self):\n",
    "        # 在对象的方法内部是可以访问私有属性的\n",
    "        print(\"我的年龄是 %d\" % self.__age)\n",
    "\n",
    "\n",
    "xiaofang = Women(\"小芳\")\n",
    "xiaofang.secret()\n",
    "# xiaofang.__age()#私有属性不能直接访问\n",
    "xiaofang._Women__age  #访问私有属性\n"
   ]
  }
 ],
 "metadata": {
  "kernelspec": {
   "display_name": "Python 3",
   "language": "python",
   "name": "python3"
  },
  "language_info": {
   "codemirror_mode": {
    "name": "ipython",
    "version": 3
   },
   "file_extension": ".py",
   "mimetype": "text/x-python",
   "name": "python",
   "nbconvert_exporter": "python",
   "pygments_lexer": "ipython3",
   "version": "3.8.8"
  }
 },
 "nbformat": 4,
 "nbformat_minor": 5
}
