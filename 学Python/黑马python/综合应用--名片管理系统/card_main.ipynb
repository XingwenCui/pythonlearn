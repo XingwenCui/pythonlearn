{
 "cells": [
  {
   "cell_type": "markdown",
   "id": "840b9bf0",
   "metadata": {},
   "source": [
    "## 编写一个无限循环\n",
    "直到主动退出，才结束循环"
   ]
  },
  {
   "cell_type": "code",
   "execution_count": null,
   "id": "48f6f358",
   "metadata": {},
   "outputs": [
    {
     "name": "stdout",
     "output_type": "stream",
     "text": [
      "**************************************************\n",
      "欢迎使用【名片管理系统】V1.0\n",
      "\n",
      "1.新增名片\n",
      "2.显示全部\n",
      "3.搜索名片\n",
      "\n",
      "0.退出系统\n",
      "**************************************************\n",
      "请选择希望执行的操作：1\n",
      "您选择的操作是1\n",
      "新增名片\n",
      "**************************************************\n",
      "欢迎使用【名片管理系统】V1.0\n",
      "\n",
      "1.新增名片\n",
      "2.显示全部\n",
      "3.搜索名片\n",
      "\n",
      "0.退出系统\n",
      "**************************************************\n",
      "请选择希望执行的操作：1\n",
      "您选择的操作是1\n",
      "新增名片\n",
      "**************************************************\n",
      "欢迎使用【名片管理系统】V1.0\n",
      "\n",
      "1.新增名片\n",
      "2.显示全部\n",
      "3.搜索名片\n",
      "\n",
      "0.退出系统\n",
      "**************************************************\n"
     ]
    }
   ],
   "source": [
    "import card_tools\n",
    "\n",
    "while True:\n",
    "    \n",
    "    # TODO(gero) 显示功能菜单\n",
    "    card_tools.show_menu()\n",
    "    \n",
    "    action_str = input(\"请选择希望执行的操作：\")\n",
    "    print(\"您选择的操作是%s\"%action_str)\n",
    "    \n",
    "    # 1,2,3针对名片的操作\n",
    "    if action_str in [\"1\",\"2\",\"3\"]:\n",
    "        #pass #如果不希望现在执行，可以使用pass占位符，保证结构正确\n",
    "\n",
    "        #新增名片\n",
    "        if action_str == \"1\":\n",
    "            card_tools.new_card()\n",
    "        #显示全部\n",
    "        elif action_str == \"2\":\n",
    "            card_tools.show_all()\n",
    "        #查询名片\n",
    "        elif action_str == \"3\":\n",
    "            card_tools.search_card()\n",
    "    #0退出系统\n",
    "    elif action_str == \"0\":\n",
    "        print(\"欢迎再次使用【名片管理系统】\")\n",
    "        break\n",
    "        pass\n",
    "    else:\n",
    "        print(\"您输入的不正确，请重新选择\")"
   ]
  }
 ],
 "metadata": {
  "kernelspec": {
   "display_name": "Python 3",
   "language": "python",
   "name": "python3"
  }
 },
 "nbformat": 4,
 "nbformat_minor": 5
}
