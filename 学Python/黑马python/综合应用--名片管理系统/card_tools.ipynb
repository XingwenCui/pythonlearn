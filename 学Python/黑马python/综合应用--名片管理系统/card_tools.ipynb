{
 "cells": [
  {
   "cell_type": "markdown",
   "id": "78828195",
   "metadata": {},
   "source": [
    "## 定义名片列表变量\n",
    "- 在card_tools文件顶部增加一个列表变量\n",
    " - card_list = []\n",
    "- 所有名片相关操作，都需要这个列表，所有设置在顶部\n",
    "- 程序刚运行时，没有数据，所有是空列表"
   ]
  },
  {
   "cell_type": "code",
   "execution_count": 16,
   "id": "c177ddc4",
   "metadata": {},
   "outputs": [],
   "source": [
    "#记录所有名片\n",
    "card_list = []"
   ]
  },
  {
   "cell_type": "markdown",
   "id": "9bd6e13f",
   "metadata": {},
   "source": [
    "## 显示名片"
   ]
  },
  {
   "cell_type": "code",
   "execution_count": 4,
   "id": "3cde926e",
   "metadata": {},
   "outputs": [],
   "source": [
    "def show_menu():\n",
    "    \n",
    "    '''显示菜单'''\n",
    "    print(\"*\"*50)\n",
    "    print(\"欢迎使用【名片管理系统】V1.0\")\n",
    "    print(\"\")\n",
    "    print(\"1.新增名片\")\n",
    "    print(\"2.显示全部\")\n",
    "    print(\"3.搜索名片\")\n",
    "    print(\"\")\n",
    "    print(\"0.退出系统\")\n",
    "    print(\"*\"*50)\n",
    "    \n"
   ]
  },
  {
   "cell_type": "markdown",
   "id": "0f883679",
   "metadata": {},
   "source": [
    "## 新增名片"
   ]
  },
  {
   "cell_type": "code",
   "execution_count": 5,
   "id": "6e13a512",
   "metadata": {},
   "outputs": [],
   "source": [
    "def new_card():\n",
    "    \n",
    "    '''新增名片'''\n",
    "    print(\"-\"*50)\n",
    "    print(\"新增名片\")\n",
    "    \n",
    "    #1.提示用户输入名片的详细信息\n",
    "    name = input(\"name:\")\n",
    "    phone = input(\"phone number\")\n",
    "    qq = input(\"qq number\")\n",
    "    email = input(\"email number\")\n",
    "    \n",
    "    #2.使用用户输入的信息建立一个名片字典\n",
    "    card_dict = {\"name\":name,\n",
    "                 \"phone\":phone,\n",
    "                 \"qq\":qq,\n",
    "                 \"email\":email}\n",
    "    \n",
    "    #3.将名片字典添加到列表\n",
    "    card_list.append(card_dict)\n",
    "    print(card_list)\n",
    "    #4.提示用户添加成功\n",
    "    print(\"添加%s的名片成功\"%name)"
   ]
  },
  {
   "cell_type": "markdown",
   "id": "4f5f9755",
   "metadata": {},
   "source": [
    "## 显示全部"
   ]
  },
  {
   "cell_type": "code",
   "execution_count": 14,
   "id": "de6b6000",
   "metadata": {},
   "outputs": [],
   "source": [
    "def show_all():\n",
    "    \n",
    "    '''显示全部'''\n",
    "    print(\"-\"*50)\n",
    "    print(\"显示全部\")\n",
    "    \n",
    "    #判断是否存在名片记录，如果没有，提示用户并返回\n",
    "    if len(card_list) == 0:\n",
    "        print(\"当前没有任何名片记录，请使用新增功能添加名片\")\n",
    "        \n",
    "        return\n",
    "    #打印表头\n",
    "    for name in ['name','phone','qq','email']:\n",
    "        print(name,end=\"\\t\\t\")\n",
    "        \n",
    "    print(\"\")\n",
    "    \n",
    "    #打印分割线\n",
    "    print('='*60)\n",
    "    \n",
    "    #遍历名片列表依次输出字典信息\n",
    "    for card_dict in card_list:\n",
    "        print(\"%s\\t\\t%s\\t\\t%s\\t\\t%s\\t\\t\"%(card_dict[\"name\"],card_dict[\"phone\"],card_dict[\"qq\"],card_dict[\"email\"]))"
   ]
  },
  {
   "cell_type": "markdown",
   "id": "1e5dcf92",
   "metadata": {},
   "source": [
    "## 查询名片"
   ]
  },
  {
   "cell_type": "code",
   "execution_count": 18,
   "id": "8b293dcc",
   "metadata": {},
   "outputs": [],
   "source": [
    "def search_card():\n",
    "    \n",
    "    '''查询名片'''\n",
    "    print(\"-\"*50)\n",
    "    print(\"查询名片\")\n",
    "    \n",
    "    #1.提示用户输入要搜索的姓名\n",
    "    find_name = input(\"请输入要搜索的name\")\n",
    "    \n",
    "    #2.遍历名片列表，查询要搜索的姓名，如果没找到，提示用户\n",
    "    for card_dict in card_list:\n",
    "        if card_dict['name'] == find_name:\n",
    "            for name in ['name','phone','qq','email']:\n",
    "                print(name,end=\"\\t\\t\")\n",
    "            print(\"=\"*90)\n",
    "            print(\"%s\\t\\t%s\\t\\t%s\\t\\t%s\\t\\t\"%(card_dict[\"name\"],card_dict[\"phone\"],card_dict[\"qq\"],card_dict[\"email\"]))\n",
    "            deal_card(card_dict)\n",
    "            break\n",
    "    else:\n",
    "        print(\"抱歉没有找到%s\"%find_name)"
   ]
  },
  {
   "cell_type": "markdown",
   "id": "f46c4fa1",
   "metadata": {},
   "source": [
    "## 处理名片"
   ]
  },
  {
   "cell_type": "code",
   "execution_count": 20,
   "id": "4505e624",
   "metadata": {},
   "outputs": [],
   "source": [
    "def deal_card(find_dict):\n",
    "    \n",
    "    print(find_dict)\n",
    "    \n",
    "    action_str = input(\"请选择要执行的操作 1修改 2删除 0返回上级\")\n",
    "    \n",
    "    if action_str == \"1\":\n",
    "        \n",
    "        find_dict['name'] = input_card(find_dict['name'],'name:')\n",
    "        find_dict['phone'] = input_card(find_dict['phone'],'phone:')\n",
    "        find_dict['qq'] = input_card(find_dict['qq'],'qq:')\n",
    "        find_dict['email'] = input_card(find_dict['email'],'email')\n",
    "        \n",
    "        print(\"修改名片成功！\")\n",
    "        \n",
    "    elif action_str == \"2\":\n",
    "        \n",
    "        card_list.remove(find_dict)\n",
    "        print(\"删除名片\")"
   ]
  },
  {
   "cell_type": "markdown",
   "id": "28fbcf70",
   "metadata": {},
   "source": [
    "## 自己定义输入函数"
   ]
  },
  {
   "cell_type": "code",
   "execution_count": 19,
   "id": "228c6eab",
   "metadata": {},
   "outputs": [],
   "source": [
    "def input_card(dict_value,tip_message):\n",
    "    #1.提示用户输入内容\n",
    "    result_str = input(tip_message)\n",
    "    \n",
    "    #2.针对用户输入进行判断，如果用户输入了内容，直接返回结果\n",
    "    if len(result_str) > 0:\n",
    "        return result_str\n",
    "    #3.如果没有输入内容，返回字典中原有的值\n",
    "    else:\n",
    "        return dict_value"
   ]
  }
 ],
 "metadata": {
  "kernelspec": {
   "display_name": "Python 3",
   "language": "python",
   "name": "python3"
  },
  "language_info": {
   "codemirror_mode": {
    "name": "ipython",
    "version": 3
   },
   "file_extension": ".py",
   "mimetype": "text/x-python",
   "name": "python",
   "nbconvert_exporter": "python",
   "pygments_lexer": "ipython3",
   "version": "3.8.8"
  }
 },
 "nbformat": 4,
 "nbformat_minor": 5
}
