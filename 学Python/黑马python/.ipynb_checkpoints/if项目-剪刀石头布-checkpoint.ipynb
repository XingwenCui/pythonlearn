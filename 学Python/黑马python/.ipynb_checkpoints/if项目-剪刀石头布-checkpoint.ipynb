{
 "cells": [
  {
   "cell_type": "markdown",
   "id": "99d3cbd7",
   "metadata": {},
   "source": [
    "# 石头剪刀布\n",
    "## 目标\n",
    "1. 强化`多个条件`的`逻辑运算`\n",
    "2. 体会import导入模块（“工具包”）的使用\n",
    "\n",
    "## 需求\n",
    "1. 从控制台输入想要出的拳--石头(1)/剪刀(2)/布(3)\n",
    "2. 电脑随机出拳\n",
    "3. 比较胜负"
   ]
  },
  {
   "cell_type": "markdown",
   "id": "11a9a653",
   "metadata": {},
   "source": [
    "### 简单的模式 --- 电脑固定出1\n",
    "从控制台输入要出的拳--石头(1)/剪刀(2)/布(3)"
   ]
  },
  {
   "cell_type": "code",
   "execution_count": 4,
   "id": "82c89573",
   "metadata": {},
   "outputs": [
    {
     "name": "stdout",
     "output_type": "stream",
     "text": [
      "请输入要出的拳 石头(1)/剪刀(2)/布(3)1\n",
      "玩家选择的是1\n"
     ]
    }
   ],
   "source": [
    "player = int(input(\"请输入要出的拳 石头(1)/剪刀(2)/布(3)\"))\n",
    "print(\"玩家选择的是{}\".format(player))"
   ]
  },
  {
   "cell_type": "markdown",
   "id": "88821f58",
   "metadata": {},
   "source": [
    "比较胜负：1 石头胜剪刀，2 剪刀胜布，3 布胜石头"
   ]
  },
  {
   "cell_type": "code",
   "execution_count": 8,
   "id": "0da9b2c4",
   "metadata": {},
   "outputs": [
    {
     "name": "stdout",
     "output_type": "stream",
     "text": [
      "请输入要出的拳 石头(1)/剪刀(2)/布(3)3\n",
      "玩家选择的是3\n",
      "恭喜您赢了\n"
     ]
    }
   ],
   "source": [
    "player = int(input(\"请输入要出的拳 石头(1)/剪刀(2)/布(3)\"))\n",
    "print(\"玩家选择的是{}\".format(player))\n",
    "computer  = 1\n",
    "if player == 1 and computer == 2 or player == 2 and computer == 3 or player == 3 and computer == 1: \n",
    "    print(\"恭喜您赢了\")\n",
    "elif player == computer:   #平局情况\n",
    "    print(\"平局\")\n",
    "else:\n",
    "    print(\"你输了\")       #输了的情况"
   ]
  },
  {
   "cell_type": "markdown",
   "id": "75af839a",
   "metadata": {},
   "source": [
    "### 电脑随机出拳\n",
    "在python中，要用随机数，首先需要导入随机数的模块--工具包（random）"
   ]
  },
  {
   "cell_type": "code",
   "execution_count": 16,
   "id": "f43c5712",
   "metadata": {},
   "outputs": [
    {
     "name": "stdout",
     "output_type": "stream",
     "text": [
      "请输入要出的拳 石头(1)/剪刀(2)/布(3)1\n",
      "玩家选择的是1,电脑选择的是1\n",
      "平局\n"
     ]
    }
   ],
   "source": [
    "import random  #导入语句放在文件顶部\n",
    "player = int(input(\"请输入要出的拳 石头(1)/剪刀(2)/布(3)\"))\n",
    "computer = random.randint(1,3)  #电脑选择随机整数\n",
    "print(\"玩家选择的是{},电脑选择的是{}\".format(player,computer))\n",
    "if player == 1 and computer == 2 or player == 2 and computer == 3 or player == 3 and computer == 1: \n",
    "    print(\"恭喜您赢了\")\n",
    "elif player == computer:   #平局情况\n",
    "    print(\"平局\")\n",
    "else:\n",
    "    print(\"你输了\")       #输了的情况"
   ]
  }
 ],
 "metadata": {
  "kernelspec": {
   "display_name": "Python 3",
   "language": "python",
   "name": "python3"
  },
  "language_info": {
   "codemirror_mode": {
    "name": "ipython",
    "version": 3
   },
   "file_extension": ".py",
   "mimetype": "text/x-python",
   "name": "python",
   "nbconvert_exporter": "python",
   "pygments_lexer": "ipython3",
   "version": "3.8.8"
  }
 },
 "nbformat": 4,
 "nbformat_minor": 5
}
