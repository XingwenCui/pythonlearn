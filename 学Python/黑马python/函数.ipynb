{
 "cells": [
  {
   "cell_type": "markdown",
   "id": "86eaa13c",
   "metadata": {},
   "source": [
    "## 函数的形参与实参\n",
    "- 形参是定义函数时，小括号内的参数，为了让函数内部作为变量来使用，只有形没有实\n",
    "- 实参是调用函数时，小括号中的参数，是拔数据传递给函数内部用的"
   ]
  },
  {
   "cell_type": "markdown",
   "id": "cbf288a0",
   "metadata": {},
   "source": [
    "## 函数的嵌套\n",
    "一个函数内部调用了另一个函数"
   ]
  },
  {
   "cell_type": "markdown",
   "id": "832adef9",
   "metadata": {},
   "source": [
    "### 函数嵌套的演练---打印分割线\n",
    "1.定义一个print_line函数能够打印*组成的分割线"
   ]
  },
  {
   "cell_type": "code",
   "execution_count": 6,
   "id": "276d58f9",
   "metadata": {},
   "outputs": [
    {
     "name": "stdout",
     "output_type": "stream",
     "text": [
      "**************************************************\n"
     ]
    }
   ],
   "source": [
    "def print_line():\n",
    "    print(\"*\"*50)\n",
    "\n",
    "print_line()"
   ]
  },
  {
   "cell_type": "markdown",
   "id": "725f4d19",
   "metadata": {},
   "source": [
    "2.定义一个函数能够打印由任意字符组成的分隔线"
   ]
  },
  {
   "cell_type": "code",
   "execution_count": 8,
   "id": "dbe3bf19",
   "metadata": {},
   "outputs": [
    {
     "name": "stdout",
     "output_type": "stream",
     "text": [
      "--------------------------------------------------\n"
     ]
    }
   ],
   "source": [
    "def print_line(char):\n",
    "    print(char*50)\n",
    "    \n",
    "print_line(\"-\")"
   ]
  },
  {
   "cell_type": "markdown",
   "id": "621ff60e",
   "metadata": {},
   "source": [
    "3. 定义一个函数能够打印任意重复次数的分割线"
   ]
  },
  {
   "cell_type": "code",
   "execution_count": 3,
   "id": "5acfa215",
   "metadata": {},
   "outputs": [
    {
     "name": "stdout",
     "output_type": "stream",
     "text": [
      "================================================================================\n"
     ]
    }
   ],
   "source": [
    "def print_line(char,times):\n",
    "    print(char * times)\n",
    "\n",
    "print_line(\"=\",80)"
   ]
  },
  {
   "cell_type": "markdown",
   "id": "95a8a0b4",
   "metadata": {},
   "source": [
    "这个例子说明，想要那个参数发生变化，就给函数内的数据设一个形参，添加到括号中"
   ]
  },
  {
   "cell_type": "markdown",
   "id": "0d26111e",
   "metadata": {},
   "source": [
    "4. 定义一个单数能够打印5行分割线"
   ]
  },
  {
   "cell_type": "code",
   "execution_count": 7,
   "id": "44c64bd3",
   "metadata": {},
   "outputs": [
    {
     "name": "stdout",
     "output_type": "stream",
     "text": [
      "==========================================================================================\n",
      "==========================================================================================\n",
      "==========================================================================================\n",
      "==========================================================================================\n",
      "==========================================================================================\n"
     ]
    }
   ],
   "source": [
    "def five_line():\n",
    "    i = 0\n",
    "    while i < 5:\n",
    "        print_line(\"=\",90)   #直接调用定义过的函数，但提前定好，不具有通用性\n",
    "        i += 1\n",
    "five_line()"
   ]
  },
  {
   "cell_type": "markdown",
   "id": "6ae97649",
   "metadata": {},
   "source": [
    "5. 如何使调用的函数更具有通用性？"
   ]
  },
  {
   "cell_type": "code",
   "execution_count": 9,
   "id": "1c6238e6",
   "metadata": {},
   "outputs": [
    {
     "name": "stdout",
     "output_type": "stream",
     "text": [
      "--------------------\n",
      "--------------------\n",
      "--------------------\n",
      "--------------------\n",
      "--------------------\n"
     ]
    }
   ],
   "source": [
    "def five_line(char,times):  #加上形参，提高通用性\n",
    "    i = 0\n",
    "    while i < 5:\n",
    "        print_line(char,times)   #直接调用定义过的函数，但提前定好，不具有通用性\n",
    "        i += 1\n",
    "\n",
    "five_line(\"-\",20)"
   ]
  }
 ],
 "metadata": {
  "kernelspec": {
   "display_name": "Python 3",
   "language": "python",
   "name": "python3"
  },
  "language_info": {
   "codemirror_mode": {
    "name": "ipython",
    "version": 3
   },
   "file_extension": ".py",
   "mimetype": "text/x-python",
   "name": "python",
   "nbconvert_exporter": "python",
   "pygments_lexer": "ipython3",
   "version": "3.8.8"
  }
 },
 "nbformat": 4,
 "nbformat_minor": 5
}
