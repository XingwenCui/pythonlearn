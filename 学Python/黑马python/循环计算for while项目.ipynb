{
 "cells": [
  {
   "cell_type": "markdown",
   "id": "48d1cab9",
   "metadata": {},
   "source": [
    "在程序开发中利用循环重复计算，遇到这种需求，在while上方定义一个变量，用于存放最终计算结果，在循环内部，用最新的计算结果更新之前的变量"
   ]
  },
  {
   "cell_type": "markdown",
   "id": "7ff68150",
   "metadata": {},
   "source": [
    "## 实例计算0-100求和\n",
    "1. 定义一个整数变量，记录循环次数"
   ]
  },
  {
   "cell_type": "code",
   "execution_count": 3,
   "id": "68e48a96",
   "metadata": {},
   "outputs": [
    {
     "name": "stdout",
     "output_type": "stream",
     "text": [
      "0 1 2 3 4 5 6 7 8 9 10 11 12 13 14 15 16 17 18 19 20 21 22 23 24 25 26 27 28 29 30 31 32 33 34 35 36 37 38 39 40 41 42 43 44 45 46 47 48 49 50 51 52 53 54 55 56 57 58 59 60 61 62 63 64 65 66 67 68 69 70 71 72 73 74 75 76 77 78 79 80 81 82 83 84 85 86 87 88 89 90 91 92 93 94 95 96 97 98 99 100 "
     ]
    }
   ],
   "source": [
    "i = 0\n",
    "while i < 101:\n",
    "    print(i,end=' ')\n",
    "    i += 1\n",
    "    "
   ]
  },
  {
   "cell_type": "markdown",
   "id": "0c52c8a1",
   "metadata": {},
   "source": [
    "2. 定义一个最终结果变量，每次循环让result这个变量和i这个计数器相加"
   ]
  },
  {
   "cell_type": "code",
   "execution_count": 4,
   "id": "96b30a4d",
   "metadata": {},
   "outputs": [
    {
     "name": "stdout",
     "output_type": "stream",
     "text": [
      "5050\n"
     ]
    }
   ],
   "source": [
    "i = 0\n",
    "result = 0\n",
    "while i < 101:\n",
    "    result += i\n",
    "    i += 1\n",
    "\n",
    "print(result)"
   ]
  },
  {
   "cell_type": "markdown",
   "id": "f56f3bf3",
   "metadata": {},
   "source": [
    "## 进阶 计算0-100之间所以偶数的累计求和结果\n",
    "1. 编写计算需要的偶数"
   ]
  },
  {
   "cell_type": "code",
   "execution_count": 8,
   "id": "2f0c7dda",
   "metadata": {},
   "outputs": [
    {
     "name": "stdout",
     "output_type": "stream",
     "text": [
      "[0, 2, 4, 6, 8, 10, 12, 14, 16, 18, 20, 22, 24, 26, 28, 30, 32, 34, 36, 38, 40, 42, 44, 46, 48, 50, 52, 54, 56, 58, 60, 62, 64, 66, 68, 70, 72, 74, 76, 78, 80, 82, 84, 86, 88, 90, 92, 94, 96, 98, 100]\n"
     ]
    }
   ],
   "source": [
    "i = 0\n",
    "ls = []\n",
    "while i < 101:\n",
    "    if i%2 == 0:\n",
    "        ls.append(i)\n",
    "    i += 1\n",
    "print(ls)"
   ]
  },
  {
   "cell_type": "markdown",
   "id": "9260d720",
   "metadata": {},
   "source": [
    "2.计算得到的偶数和"
   ]
  },
  {
   "cell_type": "code",
   "execution_count": 12,
   "id": "35bcc6a4",
   "metadata": {},
   "outputs": [
    {
     "name": "stdout",
     "output_type": "stream",
     "text": [
      "2550\n"
     ]
    }
   ],
   "source": [
    "i = 0 \n",
    "result = 0 \n",
    "while i <= 100:\n",
    "    if i % 2 == 0:\n",
    "        result += i\n",
    "    i += 1\n",
    "print(result)"
   ]
  },
  {
   "cell_type": "markdown",
   "id": "f48b5fac",
   "metadata": {},
   "source": [
    "## 循环嵌套\n",
    "### 输出小星星\n",
    "1. 不用循环嵌套"
   ]
  },
  {
   "cell_type": "code",
   "execution_count": 1,
   "id": "fdff6f10",
   "metadata": {},
   "outputs": [
    {
     "name": "stdout",
     "output_type": "stream",
     "text": [
      "*\n",
      "**\n",
      "***\n",
      "****\n",
      "*****\n"
     ]
    }
   ],
   "source": [
    "#1 定义一个计数器变量，从数字1开始，循环比较方便\n",
    "row = 1\n",
    "#开始循环\n",
    "while row <= 5:\n",
    "    print(\"*\"*row)\n",
    "    row += 1"
   ]
  },
  {
   "cell_type": "markdown",
   "id": "e8b5de2e",
   "metadata": {},
   "source": [
    "2.使用循环嵌套,假设没有乘法"
   ]
  },
  {
   "cell_type": "code",
   "execution_count": 2,
   "id": "fde5a817",
   "metadata": {},
   "outputs": [
    {
     "name": "stdout",
     "output_type": "stream",
     "text": [
      "*\n",
      "*\n",
      "*\n",
      "*\n",
      "*\n"
     ]
    }
   ],
   "source": [
    "#1.设置初试行数\n",
    "row = 1\n",
    "\n",
    "#2. 对行数处理\n",
    "while row <= 5:\n",
    "    print(\"*\")  #每行内部的怎么处理？每一行的星星数量与行数一致\n",
    "    row += 1\n",
    "    \n",
    "    "
   ]
  },
  {
   "cell_type": "code",
   "execution_count": 19,
   "id": "e0627a93",
   "metadata": {},
   "outputs": [
    {
     "name": "stdout",
     "output_type": "stream",
     "text": [
      "*\n",
      "**\n",
      "***\n",
      "****\n",
      "*****\n"
     ]
    }
   ],
   "source": [
    "row = 1\n",
    "\n",
    "while row <= 5:\n",
    "    i = 1  #把i放在循环内\n",
    "    while i<= row:\n",
    "        print(\"*\",end='')\n",
    "        i += 1\n",
    "    print('',end='\\n')\n",
    "    row += 1\n",
    "        "
   ]
  },
  {
   "cell_type": "markdown",
   "id": "c5915e04",
   "metadata": {},
   "source": [
    "## 九九乘法表"
   ]
  },
  {
   "cell_type": "code",
   "execution_count": 25,
   "id": "9a3eab31",
   "metadata": {},
   "outputs": [
    {
     "name": "stdout",
     "output_type": "stream",
     "text": [
      "\t1*1=1 \n",
      "\t1*2=2 \t2*2=4 \n",
      "\t1*3=3 \t2*3=6 \t3*3=9 \n",
      "\t1*4=4 \t2*4=8 \t3*4=12 \t4*4=16 \n",
      "\t1*5=5 \t2*5=10 \t3*5=15 \t4*5=20 \t5*5=25 \n",
      "\t1*6=6 \t2*6=12 \t3*6=18 \t4*6=24 \t5*6=30 \t6*6=36 \n",
      "\t1*7=7 \t2*7=14 \t3*7=21 \t4*7=28 \t5*7=35 \t6*7=42 \t7*7=49 \n",
      "\t1*8=8 \t2*8=16 \t3*8=24 \t4*8=32 \t5*8=40 \t6*8=48 \t7*8=56 \t8*8=64 \n",
      "\t1*9=9 \t2*9=18 \t3*9=27 \t4*9=36 \t5*9=45 \t6*9=54 \t7*9=63 \t8*9=72 \t9*9=81 \n"
     ]
    }
   ],
   "source": [
    "row = 1\n",
    "while row <= 9:\n",
    "    col = 1\n",
    "    while col <= row:\n",
    "        print(\"\\t{}*{}={}\".format(col,row,col*row),end=' ')  #\\t用来对齐\n",
    "        col += 1\n",
    "    print('')\n",
    "    row += 1"
   ]
  },
  {
   "cell_type": "code",
   "execution_count": null,
   "id": "525b52b3",
   "metadata": {},
   "outputs": [],
   "source": []
  }
 ],
 "metadata": {
  "kernelspec": {
   "display_name": "Python 3",
   "language": "python",
   "name": "python3"
  },
  "language_info": {
   "codemirror_mode": {
    "name": "ipython",
    "version": 3
   },
   "file_extension": ".py",
   "mimetype": "text/x-python",
   "name": "python",
   "nbconvert_exporter": "python",
   "pygments_lexer": "ipython3",
   "version": "3.8.8"
  }
 },
 "nbformat": 4,
 "nbformat_minor": 5
}
