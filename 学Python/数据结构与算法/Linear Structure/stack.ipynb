{
 "cells": [
  {
   "attachments": {
    "image.png": {
     "image/png": "[encoded data removed]"
    }
   },
   "cell_type": "markdown",
   "id": "eaed839e",
   "metadata": {},
   "source": [
    "## What is a Stack?\n",
    "A stack (sometimes called a “push-down stack”) is an ordered collection of items where the addition of new items and the removal of existing items always takes place at the same end. This end is commonly referred to as the “top.” The end opposite the top is known as the “base.”  \n",
    "\n",
    "![image.png](attachment:image.png)\n",
    "\n",
    " This ordering principle is sometimes called **LIFO, last-in first-out.**\n",
    " \n",
    " #### What is use stack in cs?\n",
    " Web browser has back button, when navigate, those page are placed on a stack structure.\n",
    " \n",
    " #### Stack's operations\n",
    "- `Stack()` creates a new stack that is empty. It needs no parameters and returns an empty stack.\n",
    "\n",
    "- `push(item)` adds a new item to the top of the stack. It needs the item and returns nothing.\n",
    "\n",
    "- `pop()` removes the top item from the stack. It needs no parameters and returns the item. The stack is modified.\n",
    "\n",
    "- `peek()` returns the top item from the stack but does not remove it. It needs no parameters. The stack is not modified.\n",
    "\n",
    "- `is_empty()` tests to see whether the stack is empty. It needs no parameters and returns a boolean value.\n",
    "\n",
    "- `size()` returns the number of items on the stack. It needs no parameters and returns an integer."
   ]
  },
  {
   "cell_type": "code",
   "execution_count": 5,
   "id": "f2883f84",
   "metadata": {},
   "outputs": [],
   "source": [
    "# Implementing a Stack -- top is end\n",
    "class Stack:\n",
    "    def __init__(self):\n",
    "        self.items = []\n",
    "        \n",
    "    def isEmpty(self):\n",
    "        return self.items == []   # Judge whether item equal empty\n",
    "        # return not bool(self.items)\n",
    "    \n",
    "    def push(self,item):\n",
    "        self.items.append(item)\n",
    "        \n",
    "    def pop(self):\n",
    "        return self.items.pop()\n",
    "    \n",
    "    def peek(self):\n",
    "        return self.items[len(self.items)-1]\n",
    "    \n",
    "    def size(self):\n",
    "        return len(self.items)"
   ]
  },
  {
   "cell_type": "code",
   "execution_count": 4,
   "id": "4d7f6c83",
   "metadata": {},
   "outputs": [
    {
     "data": {
      "text/plain": [
       "1"
      ]
     },
     "execution_count": 4,
     "metadata": {},
     "output_type": "execute_result"
    }
   ],
   "source": [
    "s = Stack()\n",
    "s.push(1)\n",
    "s.size()\n",
    "s.isEmpty()\n",
    "s.pop()\n",
    "#s.pop()  # If empty it will occur an error"
   ]
  },
  {
   "cell_type": "code",
   "execution_count": 12,
   "id": "f335f943",
   "metadata": {},
   "outputs": [
    {
     "name": "stdout",
     "output_type": "stream",
     "text": [
      "1\n",
      "hello\n"
     ]
    },
    {
     "data": {
      "text/plain": [
       "0"
      ]
     },
     "execution_count": 12,
     "metadata": {},
     "output_type": "execute_result"
    }
   ],
   "source": [
    "# Implement a stack -- top is beginning\n",
    "class ReverseStack:\n",
    "    def __init__(self):\n",
    "        self.items = []\n",
    "        \n",
    "    def is_empty(self):\n",
    "        return self.items == []\n",
    "    \n",
    "    def push(self,item):\n",
    "        self.items.insert(0,item)\n",
    "        \n",
    "    def pop(self):\n",
    "        return self.items.pop(0)\n",
    "    \n",
    "    def peek(self):\n",
    "        return self.items[0]\n",
    "    \n",
    "    def size(self):\n",
    "        return len(self.items)\n",
    "\n",
    "    \n",
    "rs = ReverseStack()\n",
    "rs.push(\"hello\")\n",
    "print(rs.size())\n",
    "print(rs.pop())\n",
    "rs.size()"
   ]
  },
  {
   "cell_type": "markdown",
   "id": "1ab9d18e",
   "metadata": {},
   "source": [
    "### Application: reverse"
   ]
  },
  {
   "cell_type": "code",
   "execution_count": 15,
   "id": "4f4642f4",
   "metadata": {},
   "outputs": [
    {
     "data": {
      "text/plain": [
       "'4321'"
      ]
     },
     "execution_count": 15,
     "metadata": {},
     "output_type": "execute_result"
    }
   ],
   "source": [
    "def rev_string(my_str):\n",
    "    ss = Stack()\n",
    "    for i in my_str:\n",
    "        ss.push(i)\n",
    "    reverse_str = ''\n",
    "    num = 0\n",
    "    while not ss.isEmpty():\n",
    "        s = ss.pop()\n",
    "        reverse_str = reverse_str + s\n",
    "        num += 1\n",
    "    \n",
    "    return reverse_str\n",
    "\n",
    "rev_string(\"1234\")\n",
    "        "
   ]
  },
  {
   "cell_type": "markdown",
   "id": "365b3a44",
   "metadata": {},
   "source": [
    "### Application: Balance parentheses"
   ]
  },
  {
   "cell_type": "code",
   "execution_count": 19,
   "id": "f602ac78",
   "metadata": {},
   "outputs": [
    {
     "name": "stdout",
     "output_type": "stream",
     "text": [
      "True\n",
      "False\n",
      "True\n",
      "False\n"
     ]
    }
   ],
   "source": [
    "# Stack应用：简单括号匹配\n",
    "def parChecker(symbolString):\n",
    "    s = Stack()\n",
    "    balanced = True\n",
    "    index = 0\n",
    "    while index < len(symbolString) and balanced:\n",
    "        symbol = symbolString[index]\n",
    "        if symbol == '(':\n",
    "            s.push(symbol)\n",
    "        else:\n",
    "            if s.isEmpty():\n",
    "                balanced = False\n",
    "            else:\n",
    "                s.pop()\n",
    "                \n",
    "        index = index + 1 \n",
    "        \n",
    "    if balanced and s.isEmpty():\n",
    "        return True\n",
    "    else:\n",
    "        return False\n",
    "\n",
    "#简化版\n",
    "def parchecker(symbolString):\n",
    "    s = Stack()\n",
    "    for i in symbolString:\n",
    "        if i == '(':\n",
    "            s.push(i)\n",
    "        else:\n",
    "            if s.isEmpty():\n",
    "                return False\n",
    "            else:\n",
    "                s.pop()\n",
    "    return s.isEmpty()    \n",
    "\n",
    "\n",
    "print(parChecker(\"((()))\"))\n",
    "print(parChecker(\"(((((())))\"))\n",
    "\n",
    "print(parchecker(\"((()))\"))\n",
    "print(parchecker(\"(((((())))\"))"
   ]
  },
  {
   "cell_type": "code",
   "execution_count": 21,
   "id": "7a33342b",
   "metadata": {},
   "outputs": [
    {
     "name": "stdout",
     "output_type": "stream",
     "text": [
      "True\n",
      "False\n"
     ]
    }
   ],
   "source": [
    "# 通用括号匹配算法：代码\n",
    "def matches(open,close):\n",
    "    opens = \"([{\"\n",
    "    closers = \")]}\"\n",
    "    return opens.index(open) == closers.index(close)\n",
    "    \n",
    "def parCheckerAll(symbolString):\n",
    "    s = Stack()\n",
    "    balanced = True\n",
    "    index = 0 \n",
    "    while index < len(symbolString) and balanced:\n",
    "        symbol = symbolString[index]\n",
    "        if symbol in \"([{\":\n",
    "            s.push(symbol)\n",
    "        else:\n",
    "            if s.isEmpty():\n",
    "                balanced = False\n",
    "            else:\n",
    "                top = s.pop()\n",
    "                if not matches(top,symbol):\n",
    "                    balanced = False\n",
    "        index += 1\n",
    "    if balanced and s.isEmpty():\n",
    "        return True\n",
    "    else:\n",
    "        return False\n",
    "\n",
    "\n",
    "#简化版\n",
    "def parcheckerall(symbolString):\n",
    "    s = Stack()\n",
    "    for i in symbolString:\n",
    "        if i in \"{[(\":\n",
    "            s.push(i)\n",
    "        else:\n",
    "            if s.isEmpty():\n",
    "                return False\n",
    "            else:\n",
    "                if not matches(s.pop(),i):\n",
    "                    return False\n",
    "    return s.isEmpty()\n",
    "                \n",
    "    \n",
    "print(parCheckerAll('{{[[(({}))]]}}'))\n",
    "print(parcheckerall('[{()]'))"
   ]
  },
  {
   "cell_type": "markdown",
   "id": "ceddedd0",
   "metadata": {},
   "source": [
    "### Decimal Numbers to Binary Numbers"
   ]
  },
  {
   "cell_type": "code",
   "execution_count": 8,
   "id": "33b44c23",
   "metadata": {},
   "outputs": [
    {
     "data": {
      "text/plain": [
       "'100111000'"
      ]
     },
     "execution_count": 8,
     "metadata": {},
     "output_type": "execute_result"
    }
   ],
   "source": [
    "def divide_by_2(decimal_num):\n",
    "    rem_stack = Stack()\n",
    "    \n",
    "    while decimal_num > 0:\n",
    "        rem_stack.push(decimal_num%2)\n",
    "        decimal_num = decimal_num // 2\n",
    "    \n",
    "    binary = \"\"\n",
    "    while not rem_stack.isEmpty():\n",
    "        binary += str(rem_stack.pop())\n",
    "    \n",
    "    return binary\n",
    "\n",
    "divide_by_2(312)"
   ]
  }
 ],
 "metadata": {
  "kernelspec": {
   "display_name": "Python 3",
   "language": "python",
   "name": "python3"
  },
  "language_info": {
   "codemirror_mode": {
    "name": "ipython",
    "version": 3
   },
   "file_extension": ".py",
   "mimetype": "text/x-python",
   "name": "python",
   "nbconvert_exporter": "python",
   "pygments_lexer": "ipython3",
   "version": "3.8.8"
  }
 },
 "nbformat": 4,
 "nbformat_minor": 5
}
