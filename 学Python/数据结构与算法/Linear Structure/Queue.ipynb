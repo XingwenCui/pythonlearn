{
 "cells": [
  {
   "attachments": {
    "image.png": {
     "image/png": "[encoded data removed]"
    }
   },
   "cell_type": "markdown",
   "id": "a97e3486",
   "metadata": {},
   "source": [
    "## What Is a Queue?\n",
    "A queue is an ordered collection of items where the addition of new items happens at one end, called the “rear,” and the removal of existing items occurs at the other end, commonly called the “front.”   \n",
    "\n",
    "![image.png](attachment:image.png)\n",
    "\n",
    "This ordering principle is sometimes called FIFO, first-in first-out.\n",
    "\n",
    "#### What is use stack in cs?\n",
    " Operating systems use a number of different queues to control processes within a computer.  \n",
    " As we type, sometimes keystrokes get ahead of the characters that appear on the screen. This is due to the computer doing other work at that moment. The keystrokes are being placed in a queue-like buffer so that they can eventually be displayed on the screen in the proper order.--- keystrkes first char is the last char in a string.\n",
    "#### Queue's operations\n",
    "- `Queue()` creates a new queue that is empty. It needs no parameters and returns an empty queue.\n",
    "\n",
    "- `enqueue(item)` adds a new item to the rear of the queue. It needs the item and returns nothing.\n",
    "\n",
    "- `dequeue()` removes the front item from the queue. It needs no parameters and returns the item. The queue is modified.\n",
    "\n",
    "- `is_empty()` tests to see whether the queue is empty. It needs no parameters and returns a boolean value.\n",
    "\n",
    "- `size()`  returns the number of items in the queue. It needs no parameters and returns an integer."
   ]
  },
  {
   "cell_type": "code",
   "execution_count": 1,
   "id": "cd816a34",
   "metadata": {},
   "outputs": [],
   "source": [
    "class Queue:\n",
    "    \n",
    "    def __init__(self):\n",
    "        self.items = []\n",
    "        \n",
    "    def is_empty(self):\n",
    "        return self.items == []\n",
    "    \n",
    "    def enqueue(self,item):   # O(n)\n",
    "        return self.items.insert(0,item)\n",
    "        \n",
    "    def dequeue(self):  # O(1)\n",
    "        return self.items.pop()\n",
    "        \n",
    "    def size(self):\n",
    "        return len(self.items)\n",
    "                "
   ]
  },
  {
   "cell_type": "code",
   "execution_count": 11,
   "id": "941a13a5",
   "metadata": {},
   "outputs": [
    {
     "data": {
      "text/plain": [
       "1"
      ]
     },
     "execution_count": 11,
     "metadata": {},
     "output_type": "execute_result"
    }
   ],
   "source": [
    "q = Queue()\n",
    "q.enqueue(1)\n",
    "q.enqueue(2)\n",
    "q.dequeue()"
   ]
  },
  {
   "cell_type": "markdown",
   "id": "f0c280ae",
   "metadata": {},
   "source": [
    "### Application: Hot Potato game"
   ]
  },
  {
   "cell_type": "code",
   "execution_count": 12,
   "id": "d8cdf4c4",
   "metadata": {},
   "outputs": [
    {
     "name": "stdout",
     "output_type": "stream",
     "text": [
      "Susan\n"
     ]
    }
   ],
   "source": [
    "def hot_potato(name_list, num):\n",
    "    sim_queue = Queue()\n",
    "    for name in name_list:\n",
    "        sim_queue.enqueue(name)\n",
    "\n",
    "    while sim_queue.size() > 1:\n",
    "        for i in range(num):\n",
    "            sim_queue.enqueue(sim_queue.dequeue())\n",
    "\n",
    "        sim_queue.dequeue()\n",
    "\n",
    "    return sim_queue.dequeue()\n",
    "\n",
    "\n",
    "print(hot_potato([\"Bill\", \"David\", \"Susan\", \"Jane\", \"Kent\", \"Brad\"], 7))\n"
   ]
  },
  {
   "cell_type": "markdown",
   "id": "0219e05e",
   "metadata": {},
   "source": [
    "### Application: Printing Tasks"
   ]
  },
  {
   "cell_type": "code",
   "execution_count": null,
   "id": "40725468",
   "metadata": {},
   "outputs": [],
   "source": [
    "import random\n",
    "\n",
    "class Printer:\n",
    "    def __init__(self, ppm):\n",
    "        self.page_rate = ppm\n",
    "        self.current_task = None\n",
    "        self.time_remaining = 0\n",
    "        \n",
    "    def tick(self):\n",
    "        if self.current_task:\n",
    "            self.time_remaining -= 1\n",
    "            if self.time_remaining <= 0:\n",
    "                self.current_task = None\n",
    "                \n",
    "    def busy(self):\n",
    "        return bool(self.current_task)\n",
    "    \n",
    "    def start_next(self, new_task):\n",
    "        self.current_task = new_task\n",
    "        self.time_remaining = new_task.get_pages()*60 / self.page_rate\n",
    "        \n",
    "class Task:\n",
    "    def __init__(self, time):\n",
    "        self.time_stamp = time\n",
    "        self.pages = random.randrange(1,21)\n",
    "        \n",
    "    def get_stamp(self):\n",
    "        return self.time_stamp\n",
    "    \n",
    "    def get_pages(self):\n",
    "        return self.pages\n",
    "    \n",
    "    def wait_time(self,current_time):\n",
    "        return current_time - self.time_stamp\n",
    "    \n",
    "def simulation(num_seconds, page_per_minute):\n",
    "    lab_printer = Printer(page_per_minute)\n",
    "    print_queue = Queue()\n",
    "    waiting_times = []\n",
    "    \n",
    "    for current_second in range(num_seconds):\n",
    "        if new_pr\n"
   ]
  },
  {
   "cell_type": "code",
   "execution_count": 4,
   "id": "bbde0c4b",
   "metadata": {},
   "outputs": [
    {
     "data": {
      "text/plain": [
       "False"
      ]
     },
     "execution_count": 4,
     "metadata": {},
     "output_type": "execute_result"
    }
   ],
   "source": [
    "x = None\n",
    "bool(x)"
   ]
  }
 ],
 "metadata": {
  "kernelspec": {
   "display_name": "Python 3",
   "language": "python",
   "name": "python3"
  },
  "language_info": {
   "codemirror_mode": {
    "name": "ipython",
    "version": 3
   },
   "file_extension": ".py",
   "mimetype": "text/x-python",
   "name": "python",
   "nbconvert_exporter": "python",
   "pygments_lexer": "ipython3",
   "version": "3.8.8"
  }
 },
 "nbformat": 4,
 "nbformat_minor": 5
}
