{
 "cells": [
  {
   "cell_type": "markdown",
   "id": "df85d1c6",
   "metadata": {},
   "source": [
    "# Pandas库的介绍\n",
    "\n",
    "## Pandas库的引用\n",
    "\n",
    "Pandas是Python第三方库，提供了：\n",
    "\n",
    "+ 高性能易用数据类型\n",
    "+ 分析工具\n",
    "\n",
    "`Pandas`基于`Numpy`实现，常与`Numpy`和`Matplotlib`一同使用\n",
    "\n",
    "### 测试\n",
    "左边的一列是索引，右边的是值"
   ]
  },
  {
   "cell_type": "code",
   "execution_count": 6,
   "id": "b7382246",
   "metadata": {},
   "outputs": [
    {
     "data": {
      "text/plain": [
       "0      0\n",
       "1      1\n",
       "2      2\n",
       "3      3\n",
       "4      4\n",
       "5      5\n",
       "6      6\n",
       "7      7\n",
       "8      8\n",
       "9      9\n",
       "10    10\n",
       "11    11\n",
       "12    12\n",
       "13    13\n",
       "14    14\n",
       "15    15\n",
       "16    16\n",
       "17    17\n",
       "18    18\n",
       "19    19\n",
       "dtype: int64"
      ]
     },
     "execution_count": 6,
     "metadata": {},
     "output_type": "execute_result"
    }
   ],
   "source": [
    "import pandas as pd\n",
    "d = pd.Series(range(20))\n",
    "d"
   ]
  },
  {
   "cell_type": "markdown",
   "id": "c1e397a1",
   "metadata": {},
   "source": [
    "计算前N项的累加和"
   ]
  },
  {
   "cell_type": "code",
   "execution_count": 3,
   "id": "5fcddd6c",
   "metadata": {
    "scrolled": true
   },
   "outputs": [
    {
     "data": {
      "text/plain": [
       "0       0\n",
       "1       1\n",
       "2       3\n",
       "3       6\n",
       "4      10\n",
       "5      15\n",
       "6      21\n",
       "7      28\n",
       "8      36\n",
       "9      45\n",
       "10     55\n",
       "11     66\n",
       "12     78\n",
       "13     91\n",
       "14    105\n",
       "15    120\n",
       "16    136\n",
       "17    153\n",
       "18    171\n",
       "19    190\n",
       "dtype: int64"
      ]
     },
     "execution_count": 3,
     "metadata": {},
     "output_type": "execute_result"
    }
   ],
   "source": [
    "d.cumsum()"
   ]
  },
  {
   "cell_type": "markdown",
   "id": "79c78848",
   "metadata": {},
   "source": [
    "## Pandas库的理解\n",
    "\n",
    "两个数据类型：`Series`, `DataFrame`\n",
    "\n",
    "`Series`是一个**一维**数据类型\n",
    "\n",
    "`DataFrame`是一个**二维到多维**的数据类型\n",
    "\n",
    "围绕这两个数据类型，Pandas库提供了很多的操作功能：\n",
    "\n",
    "+ 基本操作\n",
    "+ 运算操作\n",
    "+ 特征类操作\n",
    "+ 关联类操作\n",
    "\n",
    "\n",
    "\n",
    "### 对比Numpy和Pandas库\n",
    "\n",
    "| Numpy                                                        | Pandas                                                       |\n",
    "| :------------------------------------------------------------: | :------------------------------------------------------------: |\n",
    "| 基础数据类型`ndarray`，用来表示n维数组                       | 提供了**两种**基于`ndarray`的扩展数据类型                        |\n",
    "| 关注数据的结构表达，数据的维度，用多少维度的数据结构存储这些数据 | 关注数据的应用表达，在使用这些数据的时候，如何更有效地提取数据和进行运算 |\n",
    "| 关注维度：数据间关系                                         | 关注数据与索引间关系                                         |\n",
    "\n",
    "****\n",
    "\n",
    "\n",
    "\n",
    "# 1. Pandas库的Series类型(一维)\n",
    "\n",
    "## Series类型\n",
    "\n",
    "Series类型由一组数据与之相关的数据索引组成\n",
    "\n",
    "每一个数据都有一个索引对应\n",
    "\n",
    "### 自动索引\n",
    "\n",
    "在生成一个Series数据类型的同时，自动生成的索引"
   ]
  },
  {
   "cell_type": "code",
   "execution_count": 4,
   "id": "9c6aef40",
   "metadata": {
    "scrolled": true
   },
   "outputs": [
    {
     "data": {
      "text/plain": [
       "0    9\n",
       "1    8\n",
       "2    7\n",
       "3    6\n",
       "dtype: int64"
      ]
     },
     "execution_count": 4,
     "metadata": {},
     "output_type": "execute_result"
    }
   ],
   "source": [
    "a = pd.Series([9,8,7,6])\n",
    "a"
   ]
  },
  {
   "cell_type": "markdown",
   "id": "c0f8350f",
   "metadata": {},
   "source": [
    "\n",
    "使用列表构造一个Series对象，赋值给a\n",
    "\n",
    "输出a，发现右边的每个元素都有一个在左边的索引对应，这个索引是自动生成的自动索引\n",
    "\n",
    "数据类型是int64\n",
    "\n",
    "### 自定义索引"
   ]
  },
  {
   "cell_type": "code",
   "execution_count": 5,
   "id": "f8d94ad7",
   "metadata": {
    "scrolled": true
   },
   "outputs": [
    {
     "data": {
      "text/plain": [
       "a    9\n",
       "b    8\n",
       "c    7\n",
       "d    6\n",
       "dtype: int64"
      ]
     },
     "execution_count": 5,
     "metadata": {},
     "output_type": "execute_result"
    }
   ],
   "source": [
    "b = pd.Series([9,8,7,6], index=['a','b','c','d'])\n",
    "b"
   ]
  },
  {
   "cell_type": "markdown",
   "id": "906d8a78",
   "metadata": {},
   "source": [
    "\n",
    "`pd.Series()`有两个参数，第一个是一组数据，第二个是索引\n",
    "\n",
    "这时，索引列变成了自定义索引\n",
    "\n",
    "在使用`pd.Series()`函数的时候，如果索引放在了第二个参数的位置，就可以省略`\"index=\"`\n",
    "\n",
    "## 创建Series类型\n",
    "\n",
    "Series类型可以由以下类型创建：\n",
    "\n",
    "+ Python列表\n",
    "+ 标量值\n",
    "+ Python字典\n",
    "+ ndarray\n",
    "+ 其它函数\n",
    "\n",
    "\n",
    "\n",
    "### - 从标量值创建"
   ]
  },
  {
   "cell_type": "code",
   "execution_count": 6,
   "id": "37cf2ab2",
   "metadata": {},
   "outputs": [
    {
     "data": {
      "text/plain": [
       "a    25\n",
       "b    25\n",
       "c    25\n",
       "dtype: int64"
      ]
     },
     "execution_count": 6,
     "metadata": {},
     "output_type": "execute_result"
    }
   ],
   "source": [
    "s = pd.Series(25, index=['a','b','c'])\n",
    "s"
   ]
  },
  {
   "cell_type": "markdown",
   "id": "b61013c9",
   "metadata": {},
   "source": [
    "\n",
    "在第一个参数位置只使用一个数字25来创建\n",
    "\n",
    "这时为了创建一个Series类型，必须在第二个位置增加index的参数，不然就只能创建一个数字的Series，不过`\"index=\"`标识符可以省略。\n",
    "\n",
    "### - 从字典类型创建\n",
    "\n",
    "#### 直接从字典中构造"
   ]
  },
  {
   "cell_type": "code",
   "execution_count": 7,
   "id": "8be42aa8",
   "metadata": {
    "scrolled": true
   },
   "outputs": [
    {
     "data": {
      "text/plain": [
       "a    9\n",
       "b    8\n",
       "c    7\n",
       "dtype: int64"
      ]
     },
     "execution_count": 7,
     "metadata": {},
     "output_type": "execute_result"
    }
   ],
   "source": [
    "d = pd.Series({'a':9,'b':8,'c':7})\n",
    "d"
   ]
  },
  {
   "cell_type": "markdown",
   "id": "7d39f8cb",
   "metadata": {},
   "source": [
    "\n",
    "直接将一个字典类型赋值给`pd.Series()`函数生成Series\n",
    "\n",
    "#### 在字典之后指定index挑选数据"
   ]
  },
  {
   "cell_type": "code",
   "execution_count": 8,
   "id": "0b53a911",
   "metadata": {
    "scrolled": true
   },
   "outputs": [
    {
     "data": {
      "text/plain": [
       "c    7.0\n",
       "a    9.0\n",
       "b    8.0\n",
       "d    NaN\n",
       "dtype: float64"
      ]
     },
     "execution_count": 8,
     "metadata": {},
     "output_type": "execute_result"
    }
   ],
   "source": [
    "e = pd.Series({'a':9, 'b':8, 'c':7}, index=['c','a','b','d'])\n",
    "e"
   ]
  },
  {
   "cell_type": "markdown",
   "id": "d408fbbd",
   "metadata": {},
   "source": [
    "\n",
    "在另外给出索引参数的时候，会按照索引的顺序输出字典中的数据，分别输出c，a，b，d四个索引对应的数据，这里d索引在字典中没有对应的数据所以输出的是空`NaN`\n",
    "\n",
    "### - 从ndarray类型创建\n",
    "\n",
    "从numpy类型ndarray创建\n",
    "\n",
    "#### 自动索引"
   ]
  },
  {
   "cell_type": "code",
   "execution_count": 7,
   "id": "fd42d06a",
   "metadata": {},
   "outputs": [
    {
     "data": {
      "text/plain": [
       "0    0\n",
       "1    1\n",
       "2    2\n",
       "3    3\n",
       "4    4\n",
       "dtype: int32"
      ]
     },
     "execution_count": 7,
     "metadata": {},
     "output_type": "execute_result"
    }
   ],
   "source": [
    "import numpy as np\n",
    "\n",
    "n = pd.Series(np.arange(5))\n",
    "n"
   ]
  },
  {
   "cell_type": "markdown",
   "id": "4a13ae4c",
   "metadata": {},
   "source": [
    "#### 使用ndarray索引"
   ]
  },
  {
   "cell_type": "code",
   "execution_count": 12,
   "id": "c8b60ffe",
   "metadata": {
    "scrolled": true
   },
   "outputs": [
    {
     "data": {
      "text/plain": [
       "9    0\n",
       "8    1\n",
       "7    2\n",
       "6    3\n",
       "5    4\n",
       "dtype: int32"
      ]
     },
     "execution_count": 12,
     "metadata": {},
     "output_type": "execute_result"
    }
   ],
   "source": [
    "m = pd.Series(np.arange(5), index=np.arange(9,4,-1))\n",
    "m"
   ]
  },
  {
   "cell_type": "markdown",
   "id": "e89a05e6",
   "metadata": {},
   "source": [
    "\n",
    "## Series类型的基本操作\n",
    "\n",
    "Series类型包括index和values两部分\n",
    "\n",
    "Series类型的操作类似`ndarray`和字典类型\n",
    "\n",
    "### 示例"
   ]
  },
  {
   "cell_type": "code",
   "execution_count": 13,
   "id": "99b1dc4d",
   "metadata": {
    "scrolled": true
   },
   "outputs": [
    {
     "data": {
      "text/plain": [
       "a    9\n",
       "b    8\n",
       "c    7\n",
       "d    6\n",
       "dtype: int64"
      ]
     },
     "execution_count": 13,
     "metadata": {},
     "output_type": "execute_result"
    }
   ],
   "source": [
    "b = pd.Series([9,8,7,6],['a','b','c','d'])\n",
    "b"
   ]
  },
  {
   "cell_type": "markdown",
   "id": "c5806169",
   "metadata": {},
   "source": [
    "#### 1. 获得索引\n",
    "\n",
    "使用`.index`获得索引"
   ]
  },
  {
   "cell_type": "code",
   "execution_count": 14,
   "id": "89131f3c",
   "metadata": {},
   "outputs": [
    {
     "data": {
      "text/plain": [
       "Index(['a', 'b', 'c', 'd'], dtype='object')"
      ]
     },
     "execution_count": 14,
     "metadata": {},
     "output_type": "execute_result"
    }
   ],
   "source": [
    "b.index"
   ]
  },
  {
   "cell_type": "markdown",
   "id": "6a2c1e13",
   "metadata": {},
   "source": [
    "\n",
    "Pandas中的索引的类型就是Index\n",
    "\n",
    "#### 2. 获得数据\n",
    "\n",
    "使用`.values`获得数据"
   ]
  },
  {
   "cell_type": "code",
   "execution_count": 16,
   "id": "820b25b8",
   "metadata": {},
   "outputs": [
    {
     "data": {
      "text/plain": [
       "array([9, 8, 7, 6], dtype=int64)"
      ]
     },
     "execution_count": 16,
     "metadata": {},
     "output_type": "execute_result"
    }
   ],
   "source": [
    "b.values"
   ]
  },
  {
   "cell_type": "markdown",
   "id": "d1adf771",
   "metadata": {},
   "source": [
    "\n",
    "数据是`numpy`类型array\n",
    "\n",
    "#### 3. 索引Series\n",
    "使用方括号['b']获取对应的值，也可以通过数字的索引来得到同样的值，这说明自动索引和自定义索引是共同存在的\n"
   ]
  },
  {
   "cell_type": "code",
   "execution_count": 20,
   "id": "0d2768d6",
   "metadata": {
    "scrolled": true
   },
   "outputs": [
    {
     "name": "stdout",
     "output_type": "stream",
     "text": [
      "8\n",
      "9\n"
     ]
    }
   ],
   "source": [
    "print(b['b'])\n",
    "print(b[0])"
   ]
  },
  {
   "cell_type": "markdown",
   "id": "2892d7ef",
   "metadata": {},
   "source": [
    "\n",
    "#### 4. 混合使用索引\n",
    "不能同时使用两套索引方法，混用会报错"
   ]
  },
  {
   "cell_type": "code",
   "execution_count": 21,
   "id": "6b89d276",
   "metadata": {
    "scrolled": true
   },
   "outputs": [
    {
     "ename": "KeyError",
     "evalue": "\"Passing list-likes to .loc or [] with any missing labels is no longer supported. The following labels were missing: Index([0], dtype='object'). See https://pandas.pydata.org/pandas-docs/stable/user_guide/indexing.html#deprecate-loc-reindex-listlike\"",
     "output_type": "error",
     "traceback": [
      "\u001b[1;31m---------------------------------------------------------------------------\u001b[0m",
      "\u001b[1;31mKeyError\u001b[0m                                  Traceback (most recent call last)",
      "\u001b[1;32m<ipython-input-21-9469556e3898>\u001b[0m in \u001b[0;36m<module>\u001b[1;34m\u001b[0m\n\u001b[1;32m----> 1\u001b[1;33m \u001b[0mb\u001b[0m\u001b[1;33m[\u001b[0m\u001b[1;33m[\u001b[0m\u001b[1;34m'c'\u001b[0m\u001b[1;33m,\u001b[0m\u001b[1;34m'd'\u001b[0m\u001b[1;33m,\u001b[0m\u001b[1;36m0\u001b[0m\u001b[1;33m]\u001b[0m\u001b[1;33m]\u001b[0m\u001b[1;33m\u001b[0m\u001b[1;33m\u001b[0m\u001b[0m\n\u001b[0m",
      "\u001b[1;32mD:\\ProgramData\\Anaconda3\\lib\\site-packages\\pandas\\core\\series.py\u001b[0m in \u001b[0;36m__getitem__\u001b[1;34m(self, key)\u001b[0m\n\u001b[0;32m    875\u001b[0m             \u001b[1;32mreturn\u001b[0m \u001b[0mself\u001b[0m\u001b[1;33m.\u001b[0m\u001b[0m_get_values\u001b[0m\u001b[1;33m(\u001b[0m\u001b[0mkey\u001b[0m\u001b[1;33m)\u001b[0m\u001b[1;33m\u001b[0m\u001b[1;33m\u001b[0m\u001b[0m\n\u001b[0;32m    876\u001b[0m \u001b[1;33m\u001b[0m\u001b[0m\n\u001b[1;32m--> 877\u001b[1;33m         \u001b[1;32mreturn\u001b[0m \u001b[0mself\u001b[0m\u001b[1;33m.\u001b[0m\u001b[0m_get_with\u001b[0m\u001b[1;33m(\u001b[0m\u001b[0mkey\u001b[0m\u001b[1;33m)\u001b[0m\u001b[1;33m\u001b[0m\u001b[1;33m\u001b[0m\u001b[0m\n\u001b[0m\u001b[0;32m    878\u001b[0m \u001b[1;33m\u001b[0m\u001b[0m\n\u001b[0;32m    879\u001b[0m     \u001b[1;32mdef\u001b[0m \u001b[0m_get_with\u001b[0m\u001b[1;33m(\u001b[0m\u001b[0mself\u001b[0m\u001b[1;33m,\u001b[0m \u001b[0mkey\u001b[0m\u001b[1;33m)\u001b[0m\u001b[1;33m:\u001b[0m\u001b[1;33m\u001b[0m\u001b[1;33m\u001b[0m\u001b[0m\n",
      "\u001b[1;32mD:\\ProgramData\\Anaconda3\\lib\\site-packages\\pandas\\core\\series.py\u001b[0m in \u001b[0;36m_get_with\u001b[1;34m(self, key)\u001b[0m\n\u001b[0;32m    915\u001b[0m \u001b[1;33m\u001b[0m\u001b[0m\n\u001b[0;32m    916\u001b[0m         \u001b[1;31m# handle the dup indexing case GH#4246\u001b[0m\u001b[1;33m\u001b[0m\u001b[1;33m\u001b[0m\u001b[1;33m\u001b[0m\u001b[0m\n\u001b[1;32m--> 917\u001b[1;33m         \u001b[1;32mreturn\u001b[0m \u001b[0mself\u001b[0m\u001b[1;33m.\u001b[0m\u001b[0mloc\u001b[0m\u001b[1;33m[\u001b[0m\u001b[0mkey\u001b[0m\u001b[1;33m]\u001b[0m\u001b[1;33m\u001b[0m\u001b[1;33m\u001b[0m\u001b[0m\n\u001b[0m\u001b[0;32m    918\u001b[0m \u001b[1;33m\u001b[0m\u001b[0m\n\u001b[0;32m    919\u001b[0m     \u001b[1;32mdef\u001b[0m \u001b[0m_get_values_tuple\u001b[0m\u001b[1;33m(\u001b[0m\u001b[0mself\u001b[0m\u001b[1;33m,\u001b[0m \u001b[0mkey\u001b[0m\u001b[1;33m)\u001b[0m\u001b[1;33m:\u001b[0m\u001b[1;33m\u001b[0m\u001b[1;33m\u001b[0m\u001b[0m\n",
      "\u001b[1;32mD:\\ProgramData\\Anaconda3\\lib\\site-packages\\pandas\\core\\indexing.py\u001b[0m in \u001b[0;36m__getitem__\u001b[1;34m(self, key)\u001b[0m\n\u001b[0;32m    893\u001b[0m \u001b[1;33m\u001b[0m\u001b[0m\n\u001b[0;32m    894\u001b[0m             \u001b[0mmaybe_callable\u001b[0m \u001b[1;33m=\u001b[0m \u001b[0mcom\u001b[0m\u001b[1;33m.\u001b[0m\u001b[0mapply_if_callable\u001b[0m\u001b[1;33m(\u001b[0m\u001b[0mkey\u001b[0m\u001b[1;33m,\u001b[0m \u001b[0mself\u001b[0m\u001b[1;33m.\u001b[0m\u001b[0mobj\u001b[0m\u001b[1;33m)\u001b[0m\u001b[1;33m\u001b[0m\u001b[1;33m\u001b[0m\u001b[0m\n\u001b[1;32m--> 895\u001b[1;33m             \u001b[1;32mreturn\u001b[0m \u001b[0mself\u001b[0m\u001b[1;33m.\u001b[0m\u001b[0m_getitem_axis\u001b[0m\u001b[1;33m(\u001b[0m\u001b[0mmaybe_callable\u001b[0m\u001b[1;33m,\u001b[0m \u001b[0maxis\u001b[0m\u001b[1;33m=\u001b[0m\u001b[0maxis\u001b[0m\u001b[1;33m)\u001b[0m\u001b[1;33m\u001b[0m\u001b[1;33m\u001b[0m\u001b[0m\n\u001b[0m\u001b[0;32m    896\u001b[0m \u001b[1;33m\u001b[0m\u001b[0m\n\u001b[0;32m    897\u001b[0m     \u001b[1;32mdef\u001b[0m \u001b[0m_is_scalar_access\u001b[0m\u001b[1;33m(\u001b[0m\u001b[0mself\u001b[0m\u001b[1;33m,\u001b[0m \u001b[0mkey\u001b[0m\u001b[1;33m:\u001b[0m \u001b[0mTuple\u001b[0m\u001b[1;33m)\u001b[0m\u001b[1;33m:\u001b[0m\u001b[1;33m\u001b[0m\u001b[1;33m\u001b[0m\u001b[0m\n",
      "\u001b[1;32mD:\\ProgramData\\Anaconda3\\lib\\site-packages\\pandas\\core\\indexing.py\u001b[0m in \u001b[0;36m_getitem_axis\u001b[1;34m(self, key, axis)\u001b[0m\n\u001b[0;32m   1111\u001b[0m                     \u001b[1;32mraise\u001b[0m \u001b[0mValueError\u001b[0m\u001b[1;33m(\u001b[0m\u001b[1;34m\"Cannot index with multidimensional key\"\u001b[0m\u001b[1;33m)\u001b[0m\u001b[1;33m\u001b[0m\u001b[1;33m\u001b[0m\u001b[0m\n\u001b[0;32m   1112\u001b[0m \u001b[1;33m\u001b[0m\u001b[0m\n\u001b[1;32m-> 1113\u001b[1;33m                 \u001b[1;32mreturn\u001b[0m \u001b[0mself\u001b[0m\u001b[1;33m.\u001b[0m\u001b[0m_getitem_iterable\u001b[0m\u001b[1;33m(\u001b[0m\u001b[0mkey\u001b[0m\u001b[1;33m,\u001b[0m \u001b[0maxis\u001b[0m\u001b[1;33m=\u001b[0m\u001b[0maxis\u001b[0m\u001b[1;33m)\u001b[0m\u001b[1;33m\u001b[0m\u001b[1;33m\u001b[0m\u001b[0m\n\u001b[0m\u001b[0;32m   1114\u001b[0m \u001b[1;33m\u001b[0m\u001b[0m\n\u001b[0;32m   1115\u001b[0m             \u001b[1;31m# nested tuple slicing\u001b[0m\u001b[1;33m\u001b[0m\u001b[1;33m\u001b[0m\u001b[1;33m\u001b[0m\u001b[0m\n",
      "\u001b[1;32mD:\\ProgramData\\Anaconda3\\lib\\site-packages\\pandas\\core\\indexing.py\u001b[0m in \u001b[0;36m_getitem_iterable\u001b[1;34m(self, key, axis)\u001b[0m\n\u001b[0;32m   1051\u001b[0m \u001b[1;33m\u001b[0m\u001b[0m\n\u001b[0;32m   1052\u001b[0m         \u001b[1;31m# A collection of keys\u001b[0m\u001b[1;33m\u001b[0m\u001b[1;33m\u001b[0m\u001b[1;33m\u001b[0m\u001b[0m\n\u001b[1;32m-> 1053\u001b[1;33m         \u001b[0mkeyarr\u001b[0m\u001b[1;33m,\u001b[0m \u001b[0mindexer\u001b[0m \u001b[1;33m=\u001b[0m \u001b[0mself\u001b[0m\u001b[1;33m.\u001b[0m\u001b[0m_get_listlike_indexer\u001b[0m\u001b[1;33m(\u001b[0m\u001b[0mkey\u001b[0m\u001b[1;33m,\u001b[0m \u001b[0maxis\u001b[0m\u001b[1;33m,\u001b[0m \u001b[0mraise_missing\u001b[0m\u001b[1;33m=\u001b[0m\u001b[1;32mFalse\u001b[0m\u001b[1;33m)\u001b[0m\u001b[1;33m\u001b[0m\u001b[1;33m\u001b[0m\u001b[0m\n\u001b[0m\u001b[0;32m   1054\u001b[0m         return self.obj._reindex_with_indexers(\n\u001b[0;32m   1055\u001b[0m             \u001b[1;33m{\u001b[0m\u001b[0maxis\u001b[0m\u001b[1;33m:\u001b[0m \u001b[1;33m[\u001b[0m\u001b[0mkeyarr\u001b[0m\u001b[1;33m,\u001b[0m \u001b[0mindexer\u001b[0m\u001b[1;33m]\u001b[0m\u001b[1;33m}\u001b[0m\u001b[1;33m,\u001b[0m \u001b[0mcopy\u001b[0m\u001b[1;33m=\u001b[0m\u001b[1;32mTrue\u001b[0m\u001b[1;33m,\u001b[0m \u001b[0mallow_dups\u001b[0m\u001b[1;33m=\u001b[0m\u001b[1;32mTrue\u001b[0m\u001b[1;33m\u001b[0m\u001b[1;33m\u001b[0m\u001b[0m\n",
      "\u001b[1;32mD:\\ProgramData\\Anaconda3\\lib\\site-packages\\pandas\\core\\indexing.py\u001b[0m in \u001b[0;36m_get_listlike_indexer\u001b[1;34m(self, key, axis, raise_missing)\u001b[0m\n\u001b[0;32m   1264\u001b[0m             \u001b[0mkeyarr\u001b[0m\u001b[1;33m,\u001b[0m \u001b[0mindexer\u001b[0m\u001b[1;33m,\u001b[0m \u001b[0mnew_indexer\u001b[0m \u001b[1;33m=\u001b[0m \u001b[0max\u001b[0m\u001b[1;33m.\u001b[0m\u001b[0m_reindex_non_unique\u001b[0m\u001b[1;33m(\u001b[0m\u001b[0mkeyarr\u001b[0m\u001b[1;33m)\u001b[0m\u001b[1;33m\u001b[0m\u001b[1;33m\u001b[0m\u001b[0m\n\u001b[0;32m   1265\u001b[0m \u001b[1;33m\u001b[0m\u001b[0m\n\u001b[1;32m-> 1266\u001b[1;33m         \u001b[0mself\u001b[0m\u001b[1;33m.\u001b[0m\u001b[0m_validate_read_indexer\u001b[0m\u001b[1;33m(\u001b[0m\u001b[0mkeyarr\u001b[0m\u001b[1;33m,\u001b[0m \u001b[0mindexer\u001b[0m\u001b[1;33m,\u001b[0m \u001b[0maxis\u001b[0m\u001b[1;33m,\u001b[0m \u001b[0mraise_missing\u001b[0m\u001b[1;33m=\u001b[0m\u001b[0mraise_missing\u001b[0m\u001b[1;33m)\u001b[0m\u001b[1;33m\u001b[0m\u001b[1;33m\u001b[0m\u001b[0m\n\u001b[0m\u001b[0;32m   1267\u001b[0m         \u001b[1;32mreturn\u001b[0m \u001b[0mkeyarr\u001b[0m\u001b[1;33m,\u001b[0m \u001b[0mindexer\u001b[0m\u001b[1;33m\u001b[0m\u001b[1;33m\u001b[0m\u001b[0m\n\u001b[0;32m   1268\u001b[0m \u001b[1;33m\u001b[0m\u001b[0m\n",
      "\u001b[1;32mD:\\ProgramData\\Anaconda3\\lib\\site-packages\\pandas\\core\\indexing.py\u001b[0m in \u001b[0;36m_validate_read_indexer\u001b[1;34m(self, key, indexer, axis, raise_missing)\u001b[0m\n\u001b[0;32m   1319\u001b[0m \u001b[1;33m\u001b[0m\u001b[0m\n\u001b[0;32m   1320\u001b[0m             \u001b[1;32mwith\u001b[0m \u001b[0moption_context\u001b[0m\u001b[1;33m(\u001b[0m\u001b[1;34m\"display.max_seq_items\"\u001b[0m\u001b[1;33m,\u001b[0m \u001b[1;36m10\u001b[0m\u001b[1;33m,\u001b[0m \u001b[1;34m\"display.width\"\u001b[0m\u001b[1;33m,\u001b[0m \u001b[1;36m80\u001b[0m\u001b[1;33m)\u001b[0m\u001b[1;33m:\u001b[0m\u001b[1;33m\u001b[0m\u001b[1;33m\u001b[0m\u001b[0m\n\u001b[1;32m-> 1321\u001b[1;33m                 raise KeyError(\n\u001b[0m\u001b[0;32m   1322\u001b[0m                     \u001b[1;34m\"Passing list-likes to .loc or [] with any missing labels \"\u001b[0m\u001b[1;33m\u001b[0m\u001b[1;33m\u001b[0m\u001b[0m\n\u001b[0;32m   1323\u001b[0m                     \u001b[1;34m\"is no longer supported. \"\u001b[0m\u001b[1;33m\u001b[0m\u001b[1;33m\u001b[0m\u001b[0m\n",
      "\u001b[1;31mKeyError\u001b[0m: \"Passing list-likes to .loc or [] with any missing labels is no longer supported. The following labels were missing: Index([0], dtype='object'). See https://pandas.pydata.org/pandas-docs/stable/user_guide/indexing.html#deprecate-loc-reindex-listlike\""
     ]
    }
   ],
   "source": [
    "b[['c','d',0]]"
   ]
  },
  {
   "cell_type": "code",
   "execution_count": 24,
   "id": "a438d58d",
   "metadata": {
    "scrolled": true
   },
   "outputs": [
    {
     "data": {
      "text/plain": [
       "c    7\n",
       "d    6\n",
       "a    9\n",
       "dtype: int64"
      ]
     },
     "execution_count": 24,
     "metadata": {},
     "output_type": "execute_result"
    }
   ],
   "source": [
    "b[['c','d','a']]"
   ]
  },
  {
   "cell_type": "markdown",
   "id": "71e74a02",
   "metadata": {},
   "source": [
    "### 与ndarray类型相似的操作方法\n",
    "\n",
    "1. 索引方法相同，采用方括号[]\n",
    "2. `Numpy`中运算和操作可用于Series类型\n",
    "3. 可以通过自定义索引的列表进行切片\n",
    "4. 可以通过自动索引进行切片，如果存在自定义索引，则会一同切片\n",
    "\n",
    "\n",
    "\n",
    "#### 4. 切片"
   ]
  },
  {
   "cell_type": "code",
   "execution_count": 25,
   "id": "d4174f1e",
   "metadata": {},
   "outputs": [
    {
     "data": {
      "text/plain": [
       "a    9\n",
       "b    8\n",
       "c    7\n",
       "d    6\n",
       "dtype: int64"
      ]
     },
     "execution_count": 25,
     "metadata": {},
     "output_type": "execute_result"
    }
   ],
   "source": [
    "b = pd.Series([9,8,7,6],['a','b','c','d'])\n",
    "b"
   ]
  },
  {
   "cell_type": "code",
   "execution_count": 27,
   "id": "e5772aaf",
   "metadata": {
    "scrolled": true
   },
   "outputs": [
    {
     "data": {
      "text/plain": [
       "a    9\n",
       "b    8\n",
       "c    7\n",
       "dtype: int64"
      ]
     },
     "execution_count": 27,
     "metadata": {},
     "output_type": "execute_result"
    }
   ],
   "source": [
    "b[:3]"
   ]
  },
  {
   "cell_type": "markdown",
   "id": "7b380e5f",
   "metadata": {},
   "source": [
    "\n",
    "由于Series存在自定义索引，所以索引也会被一同保留\n",
    "\n",
    "注意：\n",
    "\n",
    "+ 如果是索引一个元素，那返回的就是那个索引对应的值\n",
    "+ 如果做的是切片，那么切出的依然是Series类型，包含之前的索引\n",
    "\n",
    "\n",
    "#### 5. 使用比较关系切片"
   ]
  },
  {
   "cell_type": "code",
   "execution_count": 28,
   "id": "8c6d8aba",
   "metadata": {
    "scrolled": true
   },
   "outputs": [
    {
     "data": {
      "text/plain": [
       "a    9\n",
       "b    8\n",
       "dtype: int64"
      ]
     },
     "execution_count": 28,
     "metadata": {},
     "output_type": "execute_result"
    }
   ],
   "source": [
    "b[b>b.median()]"
   ]
  },
  {
   "cell_type": "markdown",
   "id": "d6620916",
   "metadata": {},
   "source": [
    "#### 6. 对Series做运算"
   ]
  },
  {
   "cell_type": "code",
   "execution_count": 29,
   "id": "61834521",
   "metadata": {
    "scrolled": true
   },
   "outputs": [
    {
     "data": {
      "text/plain": [
       "a    8103.083928\n",
       "b    2980.957987\n",
       "c    1096.633158\n",
       "d     403.428793\n",
       "dtype: float64"
      ]
     },
     "execution_count": 29,
     "metadata": {},
     "output_type": "execute_result"
    }
   ],
   "source": [
    "np.exp(b)"
   ]
  },
  {
   "cell_type": "markdown",
   "id": "9a8e52e6",
   "metadata": {},
   "source": [
    "理解：Series类型是索引加值的一种类型，对它的切片和运算全都是生成Series类型，即包含索引和值两部分。不过如果只选取Series中的一个值，那么返回的就是一个值而不是Series类型\n",
    "\n",
    "### 7. 与字典类型相似的操作\n",
    "\n",
    "1. 通过自定义索引访问\n",
    "2. 保留字in操作\n",
    "3. 使用`.get()`方法\n",
    "\n",
    "\n",
    "\n",
    "#### 示例"
   ]
  },
  {
   "cell_type": "code",
   "execution_count": 32,
   "id": "ba343ec5",
   "metadata": {},
   "outputs": [
    {
     "name": "stdout",
     "output_type": "stream",
     "text": [
      "True\n"
     ]
    },
    {
     "data": {
      "text/plain": [
       "100"
      ]
     },
     "execution_count": 32,
     "metadata": {},
     "output_type": "execute_result"
    }
   ],
   "source": [
    "print('c' in b)\n",
    "b.get('f',100)"
   ]
  },
  {
   "cell_type": "markdown",
   "id": "10490bf3",
   "metadata": {},
   "source": [
    "`.get()`函数指的是从b中提取标签'f'对应的值，如果这个值不存在，就把100返回回来，如果存在就返回'f'对应的值"
   ]
  },
  {
   "cell_type": "markdown",
   "id": "f3b140ea",
   "metadata": {},
   "source": [
    "### Series类型对齐操作\n",
    "\n",
    "#### 对齐\n"
   ]
  },
  {
   "cell_type": "code",
   "execution_count": 33,
   "id": "a3e4fb16",
   "metadata": {
    "scrolled": true
   },
   "outputs": [
    {
     "data": {
      "text/plain": [
       "a    NaN\n",
       "b    NaN\n",
       "c    8.0\n",
       "d    8.0\n",
       "e    NaN\n",
       "dtype: float64"
      ]
     },
     "execution_count": 33,
     "metadata": {},
     "output_type": "execute_result"
    }
   ],
   "source": [
    "a = pd.Series([1,2,3],['c','d','e'])\n",
    "b = pd.Series([9,8,7,6],['a','b','c','d'])\n",
    "a + b"
   ]
  },
  {
   "cell_type": "markdown",
   "id": "0e9cc476",
   "metadata": {},
   "source": [
    "\n",
    "生成了两个Series对象，一个是3个元素，一个是4个元素\n",
    "\n",
    "Series运算的时候考虑的是对应的索引，索引相同的值进行运算，不同的值不进行运算\n",
    "\n",
    "所以最终的结果是一个5个元素的Series对象，包含所有的索引\n",
    "\n",
    "因此Series类型在运算中会自动对齐不同索引的数据\n",
    "\n",
    "\n",
    "\n",
    "#### 对比Numpy\n",
    "\n",
    "在`Numpy`中，数据的运算是维度的运算，而在Series中，数据的运算要考虑索引\n",
    "\n",
    "\n",
    "\n",
    "### Series类型的name属性\n",
    "\n",
    "Series对象和索引都可以有一个名字，存储在属性`.name`中"
   ]
  },
  {
   "cell_type": "code",
   "execution_count": 34,
   "id": "8f1d996a",
   "metadata": {},
   "outputs": [],
   "source": [
    "b = pd.Series([9,8,7,6],['a','b','c','d'])\n",
    "b.name"
   ]
  },
  {
   "cell_type": "markdown",
   "id": "7d7ae261",
   "metadata": {},
   "source": [
    "输入`b.name`没有返回，说明现在b没有名字\n",
    "\n",
    "#### 添加名字\n",
    "如果给b指定名字之后，输入b，返回的结果中会出现名字"
   ]
  },
  {
   "cell_type": "code",
   "execution_count": 35,
   "id": "fb6c1774",
   "metadata": {
    "scrolled": true
   },
   "outputs": [
    {
     "data": {
      "text/plain": [
       "lst\n",
       "a    9\n",
       "b    8\n",
       "c    7\n",
       "d    6\n",
       "Name: object, dtype: int64"
      ]
     },
     "execution_count": 35,
     "metadata": {},
     "output_type": "execute_result"
    }
   ],
   "source": [
    "b.name = 'object'\n",
    "b.index.name = 'lst'\n",
    "b"
   ]
  },
  {
   "cell_type": "markdown",
   "id": "d89069df",
   "metadata": {},
   "source": [
    "### Series类型的修改(与dict类似)\n",
    "\n",
    "Series对象可以随时修改并即刻生效\n",
    "\n",
    "#### 修改示例"
   ]
  },
  {
   "cell_type": "code",
   "execution_count": 37,
   "id": "40572e20",
   "metadata": {
    "scrolled": true
   },
   "outputs": [
    {
     "data": {
      "text/plain": [
       "lst\n",
       "a    15\n",
       "b     8\n",
       "c     7\n",
       "d     6\n",
       "Name: object, dtype: int64"
      ]
     },
     "execution_count": 37,
     "metadata": {},
     "output_type": "execute_result"
    }
   ],
   "source": [
    "b['a'] = 15\n",
    "b"
   ]
  },
  {
   "attachments": {
    "image-3.png": {
     "image/png": "[encoded data removed]"
    },
    "image.png": {
     "image/png": "[encoded data removed]"
    }
   },
   "cell_type": "markdown",
   "id": "62ce7462",
   "metadata": {},
   "source": [
    "## 理解Series类型\n",
    "\n",
    "Series 类型是一个一维带标签的数组\n",
    "\n",
    "![image.png](attachment:image.png)\n",
    "\n",
    "存在索引和值两部分\n",
    "\n",
    "操作类似`ndarray`和字典，根据索引对齐\n",
    "\n",
    "****\n",
    "\n",
    "\n",
    "\n",
    "# 2. Pandas库的DataFrame类型（多维）\n",
    "\n",
    "## DataFrame类型的定义\n",
    "\n",
    "Pandas库的二维数据类型\n",
    "\n",
    "DataFrame类型由共用相同索引的数据组成，包含一个索引和多列数据\n",
    "\n",
    "类似一个表格，第一列和第一行是索引，其余是数据\n",
    "\n",
    "索引方式包含行索引和列索引\n",
    "\n",
    "纵向在0轴，axis=0\n",
    "\n",
    "横向在1轴，axis=1\n",
    "\n",
    "![image-3.png](attachment:image-3.png)\n",
    "\n",
    "### DataFrame类型的特点\n",
    "\n",
    "DataFrame是一个表格型的数据类型，每列值类型可以不同\n",
    "\n",
    "DataFrame既有行索引，也有列索引\n",
    "\n",
    "DataFrame常用于表达二维数据，但也可以表达多维数据\n",
    "\n",
    "\n",
    "\n",
    "## DataFrame类型的创建\n",
    "\n",
    "DataFrame可以由如下类型创建：\n",
    "\n",
    "+ 二维ndarray对象\n",
    "\n",
    "+ 由一维ndarray、列表、字典、元组或Series构成的字典\n",
    "\n",
    "+ Series类型\n",
    "+ 其它的DataFrame类型\n",
    "\n",
    "\n",
    "\n",
    "### 从二维ndarray对象创建\n",
    "\n",
    "#### 示例"
   ]
  },
  {
   "cell_type": "code",
   "execution_count": 39,
   "id": "270f8d07",
   "metadata": {},
   "outputs": [
    {
     "data": {
      "text/html": [
       "<div>\n",
       "<style scoped>\n",
       "    .dataframe tbody tr th:only-of-type {\n",
       "        vertical-align: middle;\n",
       "    }\n",
       "\n",
       "    .dataframe tbody tr th {\n",
       "        vertical-align: top;\n",
       "    }\n",
       "\n",
       "    .dataframe thead th {\n",
       "        text-align: right;\n",
       "    }\n",
       "</style>\n",
       "<table border=\"1\" class=\"dataframe\">\n",
       "  <thead>\n",
       "    <tr style=\"text-align: right;\">\n",
       "      <th></th>\n",
       "      <th>0</th>\n",
       "      <th>1</th>\n",
       "      <th>2</th>\n",
       "      <th>3</th>\n",
       "      <th>4</th>\n",
       "    </tr>\n",
       "  </thead>\n",
       "  <tbody>\n",
       "    <tr>\n",
       "      <th>0</th>\n",
       "      <td>0</td>\n",
       "      <td>1</td>\n",
       "      <td>2</td>\n",
       "      <td>3</td>\n",
       "      <td>4</td>\n",
       "    </tr>\n",
       "    <tr>\n",
       "      <th>1</th>\n",
       "      <td>5</td>\n",
       "      <td>6</td>\n",
       "      <td>7</td>\n",
       "      <td>8</td>\n",
       "      <td>9</td>\n",
       "    </tr>\n",
       "  </tbody>\n",
       "</table>\n",
       "</div>"
      ],
      "text/plain": [
       "   0  1  2  3  4\n",
       "0  0  1  2  3  4\n",
       "1  5  6  7  8  9"
      ]
     },
     "execution_count": 39,
     "metadata": {},
     "output_type": "execute_result"
    }
   ],
   "source": [
    "d = pd.DataFrame(np.arange(10).reshape(2,5))\n",
    "d"
   ]
  },
  {
   "cell_type": "markdown",
   "id": "6a33646a",
   "metadata": {},
   "source": [
    "\n",
    "生成一个10个元素的ndarray类型如何变为2*5的维度\n",
    "\n",
    "在d中除了0~9的元素本身外，还有两部分自动生成的索引，从0开始\n",
    "\n",
    "### 从一维ndarray对象字典创建\n",
    "两个series"
   ]
  },
  {
   "cell_type": "code",
   "execution_count": 41,
   "id": "bc7f6099",
   "metadata": {
    "scrolled": true
   },
   "outputs": [
    {
     "data": {
      "text/html": [
       "<div>\n",
       "<style scoped>\n",
       "    .dataframe tbody tr th:only-of-type {\n",
       "        vertical-align: middle;\n",
       "    }\n",
       "\n",
       "    .dataframe tbody tr th {\n",
       "        vertical-align: top;\n",
       "    }\n",
       "\n",
       "    .dataframe thead th {\n",
       "        text-align: right;\n",
       "    }\n",
       "</style>\n",
       "<table border=\"1\" class=\"dataframe\">\n",
       "  <thead>\n",
       "    <tr style=\"text-align: right;\">\n",
       "      <th></th>\n",
       "      <th>one</th>\n",
       "      <th>two</th>\n",
       "    </tr>\n",
       "  </thead>\n",
       "  <tbody>\n",
       "    <tr>\n",
       "      <th>a</th>\n",
       "      <td>1.0</td>\n",
       "      <td>9</td>\n",
       "    </tr>\n",
       "    <tr>\n",
       "      <th>b</th>\n",
       "      <td>2.0</td>\n",
       "      <td>8</td>\n",
       "    </tr>\n",
       "    <tr>\n",
       "      <th>c</th>\n",
       "      <td>3.0</td>\n",
       "      <td>7</td>\n",
       "    </tr>\n",
       "    <tr>\n",
       "      <th>d</th>\n",
       "      <td>NaN</td>\n",
       "      <td>6</td>\n",
       "    </tr>\n",
       "  </tbody>\n",
       "</table>\n",
       "</div>"
      ],
      "text/plain": [
       "   one  two\n",
       "a  1.0    9\n",
       "b  2.0    8\n",
       "c  3.0    7\n",
       "d  NaN    6"
      ]
     },
     "execution_count": 41,
     "metadata": {},
     "output_type": "execute_result"
    }
   ],
   "source": [
    "dt = {'one':pd.Series([1,2,3], index=['a','b','c']),\n",
    "      'two':pd.Series([9,8,7,6],index=['a','b','c','d'])}\n",
    "d = pd.DataFrame(dt)\n",
    "d"
   ]
  },
  {
   "cell_type": "markdown",
   "id": "516e67ec",
   "metadata": {},
   "source": [
    "从一个字典中创建DataFrame类型\n",
    "\n",
    "第一个元素的键是one，值是Series类型，这个Series类型包含数据[1,2,3]和索引['a','b','c']\n",
    "\n",
    "第二个元素的键是two，值也是Series类型\n",
    "\n",
    "从这个字典中创建的DataFrame类型包含两个自动索引部分，`a b c d`和`one two`\n",
    "\n",
    "其中字典的一个元素就是一列，而这个元素的键就是列索引的名字，分别是one和two\n",
    "\n",
    "键值对的值就是行数据，第一个元素的值是一个Series类型，包含3个数据和索引，第二个元素的值包含4个数据和索引"
   ]
  },
  {
   "cell_type": "code",
   "execution_count": 42,
   "id": "f9619219",
   "metadata": {
    "scrolled": true
   },
   "outputs": [
    {
     "data": {
      "text/html": [
       "<div>\n",
       "<style scoped>\n",
       "    .dataframe tbody tr th:only-of-type {\n",
       "        vertical-align: middle;\n",
       "    }\n",
       "\n",
       "    .dataframe tbody tr th {\n",
       "        vertical-align: top;\n",
       "    }\n",
       "\n",
       "    .dataframe thead th {\n",
       "        text-align: right;\n",
       "    }\n",
       "</style>\n",
       "<table border=\"1\" class=\"dataframe\">\n",
       "  <thead>\n",
       "    <tr style=\"text-align: right;\">\n",
       "      <th></th>\n",
       "      <th>two</th>\n",
       "      <th>three</th>\n",
       "    </tr>\n",
       "  </thead>\n",
       "  <tbody>\n",
       "    <tr>\n",
       "      <th>b</th>\n",
       "      <td>8</td>\n",
       "      <td>NaN</td>\n",
       "    </tr>\n",
       "    <tr>\n",
       "      <th>c</th>\n",
       "      <td>7</td>\n",
       "      <td>NaN</td>\n",
       "    </tr>\n",
       "    <tr>\n",
       "      <th>d</th>\n",
       "      <td>6</td>\n",
       "      <td>NaN</td>\n",
       "    </tr>\n",
       "  </tbody>\n",
       "</table>\n",
       "</div>"
      ],
      "text/plain": [
       "   two three\n",
       "b    8   NaN\n",
       "c    7   NaN\n",
       "d    6   NaN"
      ]
     },
     "execution_count": 42,
     "metadata": {},
     "output_type": "execute_result"
    }
   ],
   "source": [
    "pd.DataFrame(dt, index=['b','c','d'], columns=['two', 'three'])"
   ]
  },
  {
   "cell_type": "markdown",
   "id": "ec8f4ce9",
   "metadata": {},
   "source": [
    "\n",
    "这里试图从字典中创建一个DataFrame类型，包含行索引`bcd`和列索引`two three`\n",
    "\n",
    "由于字典中不存在three的元素，所以创建出的DataFrame类型的第二列为空，数据会用NaN补齐\n",
    "### 从列表类型的字典创建\n",
    "\n",
    "生成DataFrame类型一般都需要使用字典，不过字典中的元素的值可以使用不同的数据类型，这里使用列表来创建"
   ]
  },
  {
   "cell_type": "code",
   "execution_count": 44,
   "id": "ffa1b508",
   "metadata": {
    "scrolled": true
   },
   "outputs": [
    {
     "data": {
      "text/html": [
       "<div>\n",
       "<style scoped>\n",
       "    .dataframe tbody tr th:only-of-type {\n",
       "        vertical-align: middle;\n",
       "    }\n",
       "\n",
       "    .dataframe tbody tr th {\n",
       "        vertical-align: top;\n",
       "    }\n",
       "\n",
       "    .dataframe thead th {\n",
       "        text-align: right;\n",
       "    }\n",
       "</style>\n",
       "<table border=\"1\" class=\"dataframe\">\n",
       "  <thead>\n",
       "    <tr style=\"text-align: right;\">\n",
       "      <th></th>\n",
       "      <th>one</th>\n",
       "      <th>two</th>\n",
       "    </tr>\n",
       "  </thead>\n",
       "  <tbody>\n",
       "    <tr>\n",
       "      <th>a</th>\n",
       "      <td>1</td>\n",
       "      <td>9</td>\n",
       "    </tr>\n",
       "    <tr>\n",
       "      <th>b</th>\n",
       "      <td>2</td>\n",
       "      <td>8</td>\n",
       "    </tr>\n",
       "    <tr>\n",
       "      <th>c</th>\n",
       "      <td>3</td>\n",
       "      <td>7</td>\n",
       "    </tr>\n",
       "    <tr>\n",
       "      <th>d</th>\n",
       "      <td>4</td>\n",
       "      <td>6</td>\n",
       "    </tr>\n",
       "  </tbody>\n",
       "</table>\n",
       "</div>"
      ],
      "text/plain": [
       "   one  two\n",
       "a    1    9\n",
       "b    2    8\n",
       "c    3    7\n",
       "d    4    6"
      ]
     },
     "execution_count": 44,
     "metadata": {},
     "output_type": "execute_result"
    }
   ],
   "source": [
    "d1 = {'one': [1,2,3,4], 'two':[9,8,7,6]}\n",
    "d = pd.DataFrame(d1, index = ['a','b','c','d'])\n",
    "d"
   ]
  },
  {
   "cell_type": "markdown",
   "id": "3ce5d7f3",
   "metadata": {},
   "source": [
    "\n",
    "在这里生成DataFrame类型的时候，使用dl字典同时自定义索引为`abcd`"
   ]
  },
  {
   "cell_type": "markdown",
   "id": "7b4b25b9",
   "metadata": {},
   "source": [
    "## 例子：从房价表单生成DataFrame类型\n",
    "\n",
    "| 城市 | 环比  | 同比  | 定基  |\n",
    "| ---- | ----- | ----- | ----- |\n",
    "| 北京 | 101.5 | 120.7 | 121.4 |\n",
    "| 上海 | 101.2 | 127.3 | 127.8 |\n",
    "| 广州 | 101.3 | 119.4 | 120.0 |\n",
    "| 深圳 | 102.0 | 140.9 | 145.5 |\n",
    "| 沈阳 | 100.1 | 101.4 | 101.6 |"
   ]
  },
  {
   "cell_type": "code",
   "execution_count": 16,
   "id": "3a89dde3",
   "metadata": {},
   "outputs": [],
   "source": [
    "dl = {'城市': ['北京', '上海', '广州', '深圳', '沈阳'], \n",
    "      '环比': [101.5, 101.2, 101.3, 102.0, 100.1 ], \n",
    "      '同比': [120.7, 127.3, 119.4, 140.9, 101.4 ], \n",
    "      '定基': [121.4, 127.8, 120.0, 145.5, 101.6 ]}"
   ]
  },
  {
   "cell_type": "code",
   "execution_count": 17,
   "id": "0fd335d4",
   "metadata": {},
   "outputs": [
    {
     "data": {
      "text/html": [
       "<div>\n",
       "<style scoped>\n",
       "    .dataframe tbody tr th:only-of-type {\n",
       "        vertical-align: middle;\n",
       "    }\n",
       "\n",
       "    .dataframe tbody tr th {\n",
       "        vertical-align: top;\n",
       "    }\n",
       "\n",
       "    .dataframe thead th {\n",
       "        text-align: right;\n",
       "    }\n",
       "</style>\n",
       "<table border=\"1\" class=\"dataframe\">\n",
       "  <thead>\n",
       "    <tr style=\"text-align: right;\">\n",
       "      <th></th>\n",
       "      <th>城市</th>\n",
       "      <th>环比</th>\n",
       "      <th>同比</th>\n",
       "      <th>定基</th>\n",
       "    </tr>\n",
       "  </thead>\n",
       "  <tbody>\n",
       "    <tr>\n",
       "      <th>c1</th>\n",
       "      <td>北京</td>\n",
       "      <td>101.5</td>\n",
       "      <td>120.7</td>\n",
       "      <td>121.4</td>\n",
       "    </tr>\n",
       "    <tr>\n",
       "      <th>c2</th>\n",
       "      <td>上海</td>\n",
       "      <td>101.2</td>\n",
       "      <td>127.3</td>\n",
       "      <td>127.8</td>\n",
       "    </tr>\n",
       "    <tr>\n",
       "      <th>c3</th>\n",
       "      <td>广州</td>\n",
       "      <td>101.3</td>\n",
       "      <td>119.4</td>\n",
       "      <td>120.0</td>\n",
       "    </tr>\n",
       "    <tr>\n",
       "      <th>c4</th>\n",
       "      <td>深圳</td>\n",
       "      <td>102.0</td>\n",
       "      <td>140.9</td>\n",
       "      <td>145.5</td>\n",
       "    </tr>\n",
       "    <tr>\n",
       "      <th>c5</th>\n",
       "      <td>沈阳</td>\n",
       "      <td>100.1</td>\n",
       "      <td>101.4</td>\n",
       "      <td>101.6</td>\n",
       "    </tr>\n",
       "  </tbody>\n",
       "</table>\n",
       "</div>"
      ],
      "text/plain": [
       "    城市     环比     同比     定基\n",
       "c1  北京  101.5  120.7  121.4\n",
       "c2  上海  101.2  127.3  127.8\n",
       "c3  广州  101.3  119.4  120.0\n",
       "c4  深圳  102.0  140.9  145.5\n",
       "c5  沈阳  100.1  101.4  101.6"
      ]
     },
     "execution_count": 17,
     "metadata": {},
     "output_type": "execute_result"
    }
   ],
   "source": [
    "d = pd.DataFrame(dl, index=['c1','c2','c3','c4','c5'])\n",
    "d"
   ]
  },
  {
   "cell_type": "markdown",
   "id": "6ab774cb",
   "metadata": {},
   "source": [
    "\n",
    "### 查看DataFrame类型\n",
    "\n",
    "分别查看0轴索引，1轴索引和数据\n"
   ]
  },
  {
   "cell_type": "code",
   "execution_count": 48,
   "id": "bd415d25",
   "metadata": {},
   "outputs": [
    {
     "data": {
      "text/plain": [
       "Index(['c1', 'c2', 'c3', 'c4', 'c5'], dtype='object')"
      ]
     },
     "execution_count": 48,
     "metadata": {},
     "output_type": "execute_result"
    }
   ],
   "source": [
    "d.index"
   ]
  },
  {
   "cell_type": "code",
   "execution_count": 49,
   "id": "9a83492a",
   "metadata": {},
   "outputs": [
    {
     "data": {
      "text/plain": [
       "Index(['城市', '环比', '同比', '定基'], dtype='object')"
      ]
     },
     "execution_count": 49,
     "metadata": {},
     "output_type": "execute_result"
    }
   ],
   "source": [
    "d.columns"
   ]
  },
  {
   "cell_type": "code",
   "execution_count": 50,
   "id": "e676bc7a",
   "metadata": {
    "scrolled": true
   },
   "outputs": [
    {
     "data": {
      "text/plain": [
       "array([['北京', 101.5, 120.7, 121.4],\n",
       "       ['上海', 101.2, 127.3, 127.8],\n",
       "       ['广州', 101.3, 119.4, 120.0],\n",
       "       ['深圳', 102.0, 140.9, 145.5],\n",
       "       ['沈阳', 100.1, 101.4, 101.6]], dtype=object)"
      ]
     },
     "execution_count": 50,
     "metadata": {},
     "output_type": "execute_result"
    }
   ],
   "source": [
    "d.values"
   ]
  },
  {
   "cell_type": "markdown",
   "id": "6c0602de",
   "metadata": {},
   "source": [
    "### 获得DataFrame对象的元素\n",
    "\n",
    "#### 获取列"
   ]
  },
  {
   "cell_type": "code",
   "execution_count": 51,
   "id": "e2c32051",
   "metadata": {
    "scrolled": true
   },
   "outputs": [
    {
     "data": {
      "text/plain": [
       "c1    120.7\n",
       "c2    127.3\n",
       "c3    119.4\n",
       "c4    140.9\n",
       "c5    101.4\n",
       "Name: 同比, dtype: float64"
      ]
     },
     "execution_count": 51,
     "metadata": {},
     "output_type": "execute_result"
    }
   ],
   "source": [
    "d['同比']"
   ]
  },
  {
   "cell_type": "markdown",
   "id": "df17d63c",
   "metadata": {},
   "source": [
    "#### 获取行"
   ]
  },
  {
   "cell_type": "code",
   "execution_count": 55,
   "id": "f027cb2f",
   "metadata": {
    "scrolled": true
   },
   "outputs": [
    {
     "data": {
      "text/plain": [
       "城市       上海\n",
       "环比    101.2\n",
       "同比    127.3\n",
       "定基    127.8\n",
       "Name: c2, dtype: object"
      ]
     },
     "execution_count": 55,
     "metadata": {},
     "output_type": "execute_result"
    }
   ],
   "source": [
    "d.loc['c2']"
   ]
  },
  {
   "cell_type": "markdown",
   "id": "ac54451b",
   "metadata": {},
   "source": [
    "#### 获取某一个位置的数据\n",
    "\n",
    "这里不要使用`d.`，直接使用d后面跟上行索引和列索引"
   ]
  },
  {
   "cell_type": "code",
   "execution_count": 56,
   "id": "c1fc875e",
   "metadata": {
    "scrolled": true
   },
   "outputs": [
    {
     "data": {
      "text/plain": [
       "127.3"
      ]
     },
     "execution_count": 56,
     "metadata": {},
     "output_type": "execute_result"
    }
   ],
   "source": [
    "d['同比']['c2']"
   ]
  },
  {
   "attachments": {
    "image.png": {
     "image/png": "[encoded data removed]"
    }
   },
   "cell_type": "markdown",
   "id": "74c5eb79",
   "metadata": {},
   "source": [
    "\n",
    "## 理解DataFrame类型\n",
    "\n",
    "DataFrame是二维带“标签”的数组\n",
    "\n",
    "![image.png](attachment:image.png)\n",
    "所有的数据都是用行列索引来组织起来\n",
    "\n",
    "DataFrame基本操作类似Series，依据行列索引\n",
    "\n",
    "****\n",
    "\n",
    "# Pandas库的数据类型操作\n",
    "\n",
    "## 改变Series和DataFrame对象：增加，删除或重排\n",
    "\n",
    "增加和重排：使用重新索引\n",
    "\n",
    "删除：使用drop\n",
    "\n",
    "\n",
    "\n",
    "## 重新索引\n",
    "\n",
    "`.reindex()`能够改变或重排Series和DataFrame索引\n",
    "\n",
    "#### 例子\n",
    "\n",
    "调整行的顺序"
   ]
  },
  {
   "cell_type": "code",
   "execution_count": 58,
   "id": "7e3c51fb",
   "metadata": {
    "scrolled": true
   },
   "outputs": [
    {
     "data": {
      "text/html": [
       "<div>\n",
       "<style scoped>\n",
       "    .dataframe tbody tr th:only-of-type {\n",
       "        vertical-align: middle;\n",
       "    }\n",
       "\n",
       "    .dataframe tbody tr th {\n",
       "        vertical-align: top;\n",
       "    }\n",
       "\n",
       "    .dataframe thead th {\n",
       "        text-align: right;\n",
       "    }\n",
       "</style>\n",
       "<table border=\"1\" class=\"dataframe\">\n",
       "  <thead>\n",
       "    <tr style=\"text-align: right;\">\n",
       "      <th></th>\n",
       "      <th>城市</th>\n",
       "      <th>环比</th>\n",
       "      <th>同比</th>\n",
       "      <th>定基</th>\n",
       "    </tr>\n",
       "  </thead>\n",
       "  <tbody>\n",
       "    <tr>\n",
       "      <th>c5</th>\n",
       "      <td>沈阳</td>\n",
       "      <td>100.1</td>\n",
       "      <td>101.4</td>\n",
       "      <td>101.6</td>\n",
       "    </tr>\n",
       "    <tr>\n",
       "      <th>c4</th>\n",
       "      <td>深圳</td>\n",
       "      <td>102.0</td>\n",
       "      <td>140.9</td>\n",
       "      <td>145.5</td>\n",
       "    </tr>\n",
       "    <tr>\n",
       "      <th>c3</th>\n",
       "      <td>广州</td>\n",
       "      <td>101.3</td>\n",
       "      <td>119.4</td>\n",
       "      <td>120.0</td>\n",
       "    </tr>\n",
       "    <tr>\n",
       "      <th>c2</th>\n",
       "      <td>上海</td>\n",
       "      <td>101.2</td>\n",
       "      <td>127.3</td>\n",
       "      <td>127.8</td>\n",
       "    </tr>\n",
       "    <tr>\n",
       "      <th>c1</th>\n",
       "      <td>北京</td>\n",
       "      <td>101.5</td>\n",
       "      <td>120.7</td>\n",
       "      <td>121.4</td>\n",
       "    </tr>\n",
       "  </tbody>\n",
       "</table>\n",
       "</div>"
      ],
      "text/plain": [
       "    城市     环比     同比     定基\n",
       "c5  沈阳  100.1  101.4  101.6\n",
       "c4  深圳  102.0  140.9  145.5\n",
       "c3  广州  101.3  119.4  120.0\n",
       "c2  上海  101.2  127.3  127.8\n",
       "c1  北京  101.5  120.7  121.4"
      ]
     },
     "execution_count": 58,
     "metadata": {},
     "output_type": "execute_result"
    }
   ],
   "source": [
    "d = d.reindex(index=['c5','c4','c3','c2','c1'])\n",
    "d"
   ]
  },
  {
   "cell_type": "markdown",
   "id": "ab4d7574",
   "metadata": {},
   "source": [
    "调整列的顺序"
   ]
  },
  {
   "cell_type": "code",
   "execution_count": 61,
   "id": "8a9f8391",
   "metadata": {
    "scrolled": true
   },
   "outputs": [
    {
     "data": {
      "text/html": [
       "<div>\n",
       "<style scoped>\n",
       "    .dataframe tbody tr th:only-of-type {\n",
       "        vertical-align: middle;\n",
       "    }\n",
       "\n",
       "    .dataframe tbody tr th {\n",
       "        vertical-align: top;\n",
       "    }\n",
       "\n",
       "    .dataframe thead th {\n",
       "        text-align: right;\n",
       "    }\n",
       "</style>\n",
       "<table border=\"1\" class=\"dataframe\">\n",
       "  <thead>\n",
       "    <tr style=\"text-align: right;\">\n",
       "      <th></th>\n",
       "      <th>城市</th>\n",
       "      <th>同比</th>\n",
       "      <th>环比</th>\n",
       "      <th>定基</th>\n",
       "    </tr>\n",
       "  </thead>\n",
       "  <tbody>\n",
       "    <tr>\n",
       "      <th>c5</th>\n",
       "      <td>沈阳</td>\n",
       "      <td>101.4</td>\n",
       "      <td>100.1</td>\n",
       "      <td>101.6</td>\n",
       "    </tr>\n",
       "    <tr>\n",
       "      <th>c4</th>\n",
       "      <td>深圳</td>\n",
       "      <td>140.9</td>\n",
       "      <td>102.0</td>\n",
       "      <td>145.5</td>\n",
       "    </tr>\n",
       "    <tr>\n",
       "      <th>c3</th>\n",
       "      <td>广州</td>\n",
       "      <td>119.4</td>\n",
       "      <td>101.3</td>\n",
       "      <td>120.0</td>\n",
       "    </tr>\n",
       "    <tr>\n",
       "      <th>c2</th>\n",
       "      <td>上海</td>\n",
       "      <td>127.3</td>\n",
       "      <td>101.2</td>\n",
       "      <td>127.8</td>\n",
       "    </tr>\n",
       "    <tr>\n",
       "      <th>c1</th>\n",
       "      <td>北京</td>\n",
       "      <td>120.7</td>\n",
       "      <td>101.5</td>\n",
       "      <td>121.4</td>\n",
       "    </tr>\n",
       "  </tbody>\n",
       "</table>\n",
       "</div>"
      ],
      "text/plain": [
       "    城市     同比     环比     定基\n",
       "c5  沈阳  101.4  100.1  101.6\n",
       "c4  深圳  140.9  102.0  145.5\n",
       "c3  广州  119.4  101.3  120.0\n",
       "c2  上海  127.3  101.2  127.8\n",
       "c1  北京  120.7  101.5  121.4"
      ]
     },
     "execution_count": 61,
     "metadata": {},
     "output_type": "execute_result"
    }
   ],
   "source": [
    "d = d.reindex(columns=['城市', '同比', '环比', '定基'])\n",
    "d"
   ]
  },
  {
   "cell_type": "markdown",
   "id": "7d46348d",
   "metadata": {},
   "source": [
    "\n",
    "### 其它参数\n",
    "\n",
    "| 参数               | 说明                                             |\n",
    "| :------------------: | :------------------------------------------------: |\n",
    "| `index`, `columns` | 新的行列自定义索引                               |\n",
    "| `fill_value`       | 重新索引中，用于填充缺失位置的值，默认`NaN`      |\n",
    "| `method`           | 填充方法，`ffill`当前值向前填充，`bfill`向后填充 |\n",
    "| `limit`            | 最大填充值                                       |\n",
    "| `copy`             | 默认True，生成新的对象，False时，新旧相等不复制  |"
   ]
  },
  {
   "cell_type": "code",
   "execution_count": 67,
   "id": "7e0320ca",
   "metadata": {
    "scrolled": true
   },
   "outputs": [
    {
     "data": {
      "text/html": [
       "<div>\n",
       "<style scoped>\n",
       "    .dataframe tbody tr th:only-of-type {\n",
       "        vertical-align: middle;\n",
       "    }\n",
       "\n",
       "    .dataframe tbody tr th {\n",
       "        vertical-align: top;\n",
       "    }\n",
       "\n",
       "    .dataframe thead th {\n",
       "        text-align: right;\n",
       "    }\n",
       "</style>\n",
       "<table border=\"1\" class=\"dataframe\">\n",
       "  <thead>\n",
       "    <tr style=\"text-align: right;\">\n",
       "      <th></th>\n",
       "      <th>城市</th>\n",
       "      <th>环比</th>\n",
       "      <th>同比</th>\n",
       "      <th>定基</th>\n",
       "      <th>new</th>\n",
       "    </tr>\n",
       "  </thead>\n",
       "  <tbody>\n",
       "    <tr>\n",
       "      <th>c1</th>\n",
       "      <td>北京</td>\n",
       "      <td>101.5</td>\n",
       "      <td>120.7</td>\n",
       "      <td>121.4</td>\n",
       "      <td>200</td>\n",
       "    </tr>\n",
       "    <tr>\n",
       "      <th>c2</th>\n",
       "      <td>上海</td>\n",
       "      <td>101.2</td>\n",
       "      <td>127.3</td>\n",
       "      <td>127.8</td>\n",
       "      <td>200</td>\n",
       "    </tr>\n",
       "    <tr>\n",
       "      <th>c3</th>\n",
       "      <td>广州</td>\n",
       "      <td>101.3</td>\n",
       "      <td>119.4</td>\n",
       "      <td>120.0</td>\n",
       "      <td>200</td>\n",
       "    </tr>\n",
       "    <tr>\n",
       "      <th>c4</th>\n",
       "      <td>深圳</td>\n",
       "      <td>102.0</td>\n",
       "      <td>140.9</td>\n",
       "      <td>145.5</td>\n",
       "      <td>200</td>\n",
       "    </tr>\n",
       "    <tr>\n",
       "      <th>c5</th>\n",
       "      <td>沈阳</td>\n",
       "      <td>100.1</td>\n",
       "      <td>101.4</td>\n",
       "      <td>101.6</td>\n",
       "      <td>200</td>\n",
       "    </tr>\n",
       "  </tbody>\n",
       "</table>\n",
       "</div>"
      ],
      "text/plain": [
       "    城市     环比     同比     定基  new\n",
       "c1  北京  101.5  120.7  121.4  200\n",
       "c2  上海  101.2  127.3  127.8  200\n",
       "c3  广州  101.3  119.4  120.0  200\n",
       "c4  深圳  102.0  140.9  145.5  200\n",
       "c5  沈阳  100.1  101.4  101.6  200"
      ]
     },
     "execution_count": 67,
     "metadata": {},
     "output_type": "execute_result"
    }
   ],
   "source": [
    "d = pd.DataFrame(dl, index=['c1','c2','c3','c4','c5'])\n",
    "newc = d.columns.insert(4, 'new')\n",
    "newd = d.reindex(columns=newc, fill_value=200)\n",
    "newd"
   ]
  },
  {
   "cell_type": "markdown",
   "id": "ce74c71f",
   "metadata": {},
   "source": [
    "\n",
    "使用`d.columns.insert()`在4的位置增加一个列索引\n",
    "\n",
    "使用`d.reindex()`生成一个新的DataFrame对象，增加一个列索引，并用200填充这一列的元素\n",
    "### 索引类型的常用方法\n",
    "\n",
    "| 方法                 | 说明                                   |\n",
    "| :--------------------: | :--------------------------------------: |\n",
    "| `.append(idx)`       | 连接另一个Index对象，产生新的Index对象 |\n",
    "| `.diff(idx)`         | 计算差集，产生新的Index对象            |\n",
    "| `.intersection(idx)` | 计算交集                               |\n",
    "| `.union(idx)`        | 计算并集                               |\n",
    "| `.delete(loc)`       | 删除`loc`位置处的元素                  |\n",
    "| `.insert(loc,e)`     | 在`loc`位置增加一个元素e               |"
   ]
  },
  {
   "cell_type": "code",
   "execution_count": 72,
   "id": "37f66bc2",
   "metadata": {},
   "outputs": [
    {
     "data": {
      "text/html": [
       "<div>\n",
       "<style scoped>\n",
       "    .dataframe tbody tr th:only-of-type {\n",
       "        vertical-align: middle;\n",
       "    }\n",
       "\n",
       "    .dataframe tbody tr th {\n",
       "        vertical-align: top;\n",
       "    }\n",
       "\n",
       "    .dataframe thead th {\n",
       "        text-align: right;\n",
       "    }\n",
       "</style>\n",
       "<table border=\"1\" class=\"dataframe\">\n",
       "  <thead>\n",
       "    <tr style=\"text-align: right;\">\n",
       "      <th></th>\n",
       "      <th>城市</th>\n",
       "      <th>环比</th>\n",
       "      <th>定基</th>\n",
       "    </tr>\n",
       "  </thead>\n",
       "  <tbody>\n",
       "    <tr>\n",
       "      <th>c1</th>\n",
       "      <td>北京</td>\n",
       "      <td>101.5</td>\n",
       "      <td>121.4</td>\n",
       "    </tr>\n",
       "    <tr>\n",
       "      <th>c2</th>\n",
       "      <td>上海</td>\n",
       "      <td>101.2</td>\n",
       "      <td>127.8</td>\n",
       "    </tr>\n",
       "    <tr>\n",
       "      <th>c3</th>\n",
       "      <td>广州</td>\n",
       "      <td>101.3</td>\n",
       "      <td>120.0</td>\n",
       "    </tr>\n",
       "    <tr>\n",
       "      <th>c4</th>\n",
       "      <td>深圳</td>\n",
       "      <td>102.0</td>\n",
       "      <td>145.5</td>\n",
       "    </tr>\n",
       "    <tr>\n",
       "      <th>c5</th>\n",
       "      <td>沈阳</td>\n",
       "      <td>100.1</td>\n",
       "      <td>101.6</td>\n",
       "    </tr>\n",
       "    <tr>\n",
       "      <th>c6</th>\n",
       "      <td>沈阳</td>\n",
       "      <td>100.1</td>\n",
       "      <td>101.6</td>\n",
       "    </tr>\n",
       "  </tbody>\n",
       "</table>\n",
       "</div>"
      ],
      "text/plain": [
       "    城市     环比     定基\n",
       "c1  北京  101.5  121.4\n",
       "c2  上海  101.2  127.8\n",
       "c3  广州  101.3  120.0\n",
       "c4  深圳  102.0  145.5\n",
       "c5  沈阳  100.1  101.6\n",
       "c6  沈阳  100.1  101.6"
      ]
     },
     "execution_count": 72,
     "metadata": {},
     "output_type": "execute_result"
    }
   ],
   "source": [
    "nc = d.columns.delete(2)\n",
    "ni = d.index.insert(5,'c6')\n",
    "nd = d.reindex(index=ni, columns=nc).ffill()\n",
    "nd"
   ]
  },
  {
   "cell_type": "markdown",
   "id": "00f21bbb",
   "metadata": {},
   "source": [
    "## 删除指定索引对象\n",
    "\n",
    "使用`.drop()`删除Series和DataFrame指定行或列索引"
   ]
  },
  {
   "cell_type": "code",
   "execution_count": 10,
   "id": "aa6f57b6",
   "metadata": {},
   "outputs": [
    {
     "data": {
      "text/plain": [
       "a    9\n",
       "d    6\n",
       "dtype: int64"
      ]
     },
     "execution_count": 10,
     "metadata": {},
     "output_type": "execute_result"
    }
   ],
   "source": [
    "a = pd.Series([9, 8, 7, 6], index=['a', 'b', 'c', 'd'])\n",
    "a.drop(['b','c'])\n"
   ]
  },
  {
   "cell_type": "code",
   "execution_count": 12,
   "id": "e9c6d855",
   "metadata": {
    "scrolled": true
   },
   "outputs": [
    {
     "data": {
      "text/plain": [
       "a    9\n",
       "b    8\n",
       "c    7\n",
       "d    6\n",
       "dtype: int64"
      ]
     },
     "execution_count": 12,
     "metadata": {},
     "output_type": "execute_result"
    }
   ],
   "source": [
    "a"
   ]
  },
  {
   "cell_type": "markdown",
   "id": "01b3757d",
   "metadata": {},
   "source": [
    "使用`.drop()`方法可以删除对应的索引，不过对象本身不发生变化\n",
    "\n",
    "`.drop()`可以删除行索引和列索引"
   ]
  },
  {
   "cell_type": "code",
   "execution_count": 20,
   "id": "e42651e1",
   "metadata": {},
   "outputs": [
    {
     "data": {
      "text/html": [
       "<div>\n",
       "<style scoped>\n",
       "    .dataframe tbody tr th:only-of-type {\n",
       "        vertical-align: middle;\n",
       "    }\n",
       "\n",
       "    .dataframe tbody tr th {\n",
       "        vertical-align: top;\n",
       "    }\n",
       "\n",
       "    .dataframe thead th {\n",
       "        text-align: right;\n",
       "    }\n",
       "</style>\n",
       "<table border=\"1\" class=\"dataframe\">\n",
       "  <thead>\n",
       "    <tr style=\"text-align: right;\">\n",
       "      <th></th>\n",
       "      <th>城市</th>\n",
       "      <th>环比</th>\n",
       "      <th>同比</th>\n",
       "      <th>定基</th>\n",
       "    </tr>\n",
       "  </thead>\n",
       "  <tbody>\n",
       "    <tr>\n",
       "      <th>c1</th>\n",
       "      <td>北京</td>\n",
       "      <td>101.5</td>\n",
       "      <td>120.7</td>\n",
       "      <td>121.4</td>\n",
       "    </tr>\n",
       "    <tr>\n",
       "      <th>c2</th>\n",
       "      <td>上海</td>\n",
       "      <td>101.2</td>\n",
       "      <td>127.3</td>\n",
       "      <td>127.8</td>\n",
       "    </tr>\n",
       "    <tr>\n",
       "      <th>c3</th>\n",
       "      <td>广州</td>\n",
       "      <td>101.3</td>\n",
       "      <td>119.4</td>\n",
       "      <td>120.0</td>\n",
       "    </tr>\n",
       "    <tr>\n",
       "      <th>c4</th>\n",
       "      <td>深圳</td>\n",
       "      <td>102.0</td>\n",
       "      <td>140.9</td>\n",
       "      <td>145.5</td>\n",
       "    </tr>\n",
       "  </tbody>\n",
       "</table>\n",
       "</div>"
      ],
      "text/plain": [
       "    城市     环比     同比     定基\n",
       "c1  北京  101.5  120.7  121.4\n",
       "c2  上海  101.2  127.3  127.8\n",
       "c3  广州  101.3  119.4  120.0\n",
       "c4  深圳  102.0  140.9  145.5"
      ]
     },
     "execution_count": 20,
     "metadata": {},
     "output_type": "execute_result"
    }
   ],
   "source": [
    "d.drop('c5')"
   ]
  },
  {
   "cell_type": "code",
   "execution_count": 24,
   "id": "c2508b96",
   "metadata": {},
   "outputs": [
    {
     "data": {
      "text/html": [
       "<div>\n",
       "<style scoped>\n",
       "    .dataframe tbody tr th:only-of-type {\n",
       "        vertical-align: middle;\n",
       "    }\n",
       "\n",
       "    .dataframe tbody tr th {\n",
       "        vertical-align: top;\n",
       "    }\n",
       "\n",
       "    .dataframe thead th {\n",
       "        text-align: right;\n",
       "    }\n",
       "</style>\n",
       "<table border=\"1\" class=\"dataframe\">\n",
       "  <thead>\n",
       "    <tr style=\"text-align: right;\">\n",
       "      <th></th>\n",
       "      <th>城市</th>\n",
       "      <th>环比</th>\n",
       "      <th>定基</th>\n",
       "    </tr>\n",
       "  </thead>\n",
       "  <tbody>\n",
       "    <tr>\n",
       "      <th>c1</th>\n",
       "      <td>北京</td>\n",
       "      <td>101.5</td>\n",
       "      <td>121.4</td>\n",
       "    </tr>\n",
       "    <tr>\n",
       "      <th>c2</th>\n",
       "      <td>上海</td>\n",
       "      <td>101.2</td>\n",
       "      <td>127.8</td>\n",
       "    </tr>\n",
       "    <tr>\n",
       "      <th>c3</th>\n",
       "      <td>广州</td>\n",
       "      <td>101.3</td>\n",
       "      <td>120.0</td>\n",
       "    </tr>\n",
       "    <tr>\n",
       "      <th>c4</th>\n",
       "      <td>深圳</td>\n",
       "      <td>102.0</td>\n",
       "      <td>145.5</td>\n",
       "    </tr>\n",
       "    <tr>\n",
       "      <th>c5</th>\n",
       "      <td>沈阳</td>\n",
       "      <td>100.1</td>\n",
       "      <td>101.6</td>\n",
       "    </tr>\n",
       "  </tbody>\n",
       "</table>\n",
       "</div>"
      ],
      "text/plain": [
       "    城市     环比     定基\n",
       "c1  北京  101.5  121.4\n",
       "c2  上海  101.2  127.8\n",
       "c3  广州  101.3  120.0\n",
       "c4  深圳  102.0  145.5\n",
       "c5  沈阳  100.1  101.6"
      ]
     },
     "execution_count": 24,
     "metadata": {},
     "output_type": "execute_result"
    }
   ],
   "source": [
    "d.drop('同比',axis=1)"
   ]
  },
  {
   "cell_type": "markdown",
   "id": "8df83727",
   "metadata": {},
   "source": [
    "当希望删除列索引的时候，需要在参数中加上`axis=1`，不然函数默认删除行索引，如果找不到就会报错\n",
    "****\n",
    "\n",
    "\n",
    "\n",
    "# Pandas库的数据类型运算\n",
    "\n",
    "## 算术运算法则\n",
    "\n",
    "Series和DataFrame类型在运算的时候需要符合的法则：\n",
    "\n",
    "+ 算术运算是根据行列索引进行运算的，索引补齐后开始运算，不同索引之间不进行运算，只有索引值相同的行或列才进行运算，运算默认产生**浮点数**\n",
    "\n",
    "+ 补齐时缺项填充`NaN`(空)\n",
    "\n",
    "+ 当维度不同的数据进行运算的时候，采用广播运算，比如：\n",
    "  + 用二维的DataFrame和一维的Series进行运算的时候，采用广播运算的逻辑\n",
    "  + 用一维的Series和零维的数据（一个数）进行运算的时候，零维的数会与一维的Series中的每个数进行运算，这就是广播运算\n",
    "+ 采用+、-、*、/的符号进行的二元运算将产生新的对象\n",
    "\n",
    "\n",
    "\n",
    "### 例子\n",
    "\n",
    "创建两个DataFrame数据\n"
   ]
  },
  {
   "cell_type": "code",
   "execution_count": 26,
   "id": "dd0d9cd4",
   "metadata": {},
   "outputs": [],
   "source": [
    "a = pd.DataFrame(np.arange(12).reshape(3,4))\n",
    "b = pd.DataFrame(np.arange(20).reshape(4,5))"
   ]
  },
  {
   "cell_type": "markdown",
   "id": "dcac82fc",
   "metadata": {},
   "source": [
    "数据a和b都是二维DataFrame的数据，不过横纵数量不相同"
   ]
  },
  {
   "cell_type": "code",
   "execution_count": 27,
   "id": "ac53fee6",
   "metadata": {
    "scrolled": true
   },
   "outputs": [
    {
     "data": {
      "text/html": [
       "<div>\n",
       "<style scoped>\n",
       "    .dataframe tbody tr th:only-of-type {\n",
       "        vertical-align: middle;\n",
       "    }\n",
       "\n",
       "    .dataframe tbody tr th {\n",
       "        vertical-align: top;\n",
       "    }\n",
       "\n",
       "    .dataframe thead th {\n",
       "        text-align: right;\n",
       "    }\n",
       "</style>\n",
       "<table border=\"1\" class=\"dataframe\">\n",
       "  <thead>\n",
       "    <tr style=\"text-align: right;\">\n",
       "      <th></th>\n",
       "      <th>0</th>\n",
       "      <th>1</th>\n",
       "      <th>2</th>\n",
       "      <th>3</th>\n",
       "      <th>4</th>\n",
       "    </tr>\n",
       "  </thead>\n",
       "  <tbody>\n",
       "    <tr>\n",
       "      <th>0</th>\n",
       "      <td>0.0</td>\n",
       "      <td>2.0</td>\n",
       "      <td>4.0</td>\n",
       "      <td>6.0</td>\n",
       "      <td>NaN</td>\n",
       "    </tr>\n",
       "    <tr>\n",
       "      <th>1</th>\n",
       "      <td>9.0</td>\n",
       "      <td>11.0</td>\n",
       "      <td>13.0</td>\n",
       "      <td>15.0</td>\n",
       "      <td>NaN</td>\n",
       "    </tr>\n",
       "    <tr>\n",
       "      <th>2</th>\n",
       "      <td>18.0</td>\n",
       "      <td>20.0</td>\n",
       "      <td>22.0</td>\n",
       "      <td>24.0</td>\n",
       "      <td>NaN</td>\n",
       "    </tr>\n",
       "    <tr>\n",
       "      <th>3</th>\n",
       "      <td>NaN</td>\n",
       "      <td>NaN</td>\n",
       "      <td>NaN</td>\n",
       "      <td>NaN</td>\n",
       "      <td>NaN</td>\n",
       "    </tr>\n",
       "  </tbody>\n",
       "</table>\n",
       "</div>"
      ],
      "text/plain": [
       "      0     1     2     3   4\n",
       "0   0.0   2.0   4.0   6.0 NaN\n",
       "1   9.0  11.0  13.0  15.0 NaN\n",
       "2  18.0  20.0  22.0  24.0 NaN\n",
       "3   NaN   NaN   NaN   NaN NaN"
      ]
     },
     "execution_count": 27,
     "metadata": {},
     "output_type": "execute_result"
    }
   ],
   "source": [
    "a + b"
   ]
  },
  {
   "cell_type": "code",
   "execution_count": 28,
   "id": "cc9470bc",
   "metadata": {
    "scrolled": true
   },
   "outputs": [
    {
     "data": {
      "text/html": [
       "<div>\n",
       "<style scoped>\n",
       "    .dataframe tbody tr th:only-of-type {\n",
       "        vertical-align: middle;\n",
       "    }\n",
       "\n",
       "    .dataframe tbody tr th {\n",
       "        vertical-align: top;\n",
       "    }\n",
       "\n",
       "    .dataframe thead th {\n",
       "        text-align: right;\n",
       "    }\n",
       "</style>\n",
       "<table border=\"1\" class=\"dataframe\">\n",
       "  <thead>\n",
       "    <tr style=\"text-align: right;\">\n",
       "      <th></th>\n",
       "      <th>0</th>\n",
       "      <th>1</th>\n",
       "      <th>2</th>\n",
       "      <th>3</th>\n",
       "      <th>4</th>\n",
       "    </tr>\n",
       "  </thead>\n",
       "  <tbody>\n",
       "    <tr>\n",
       "      <th>0</th>\n",
       "      <td>0.0</td>\n",
       "      <td>1.0</td>\n",
       "      <td>4.0</td>\n",
       "      <td>9.0</td>\n",
       "      <td>NaN</td>\n",
       "    </tr>\n",
       "    <tr>\n",
       "      <th>1</th>\n",
       "      <td>20.0</td>\n",
       "      <td>30.0</td>\n",
       "      <td>42.0</td>\n",
       "      <td>56.0</td>\n",
       "      <td>NaN</td>\n",
       "    </tr>\n",
       "    <tr>\n",
       "      <th>2</th>\n",
       "      <td>80.0</td>\n",
       "      <td>99.0</td>\n",
       "      <td>120.0</td>\n",
       "      <td>143.0</td>\n",
       "      <td>NaN</td>\n",
       "    </tr>\n",
       "    <tr>\n",
       "      <th>3</th>\n",
       "      <td>NaN</td>\n",
       "      <td>NaN</td>\n",
       "      <td>NaN</td>\n",
       "      <td>NaN</td>\n",
       "      <td>NaN</td>\n",
       "    </tr>\n",
       "  </tbody>\n",
       "</table>\n",
       "</div>"
      ],
      "text/plain": [
       "      0     1      2      3   4\n",
       "0   0.0   1.0    4.0    9.0 NaN\n",
       "1  20.0  30.0   42.0   56.0 NaN\n",
       "2  80.0  99.0  120.0  143.0 NaN\n",
       "3   NaN   NaN    NaN    NaN NaN"
      ]
     },
     "execution_count": 28,
     "metadata": {},
     "output_type": "execute_result"
    }
   ],
   "source": [
    "a * b"
   ]
  },
  {
   "cell_type": "markdown",
   "id": "7bb3171f",
   "metadata": {},
   "source": [
    "\n",
    "标签相同的值进行运算，标签不同的值用`NaN`填充自动补齐\n",
    "\n",
    "\n",
    "\n",
    "## 方法形式的算术运算\n",
    "\n",
    "优点是可以增加可选参数\n",
    "\n",
    "| 方法              | 说明                     |\n",
    "| ----------------- | ------------------------ |\n",
    "| `.add(d,**argws)` | 类型间加法运算，可选参数 |\n",
    "| `.sub(d,**argws)` | 类型间减法运算，可选参数 |\n",
    "| `.mul(d,**argws)` | 类型间乘法运算，可选参数 |\n",
    "| `.div(d,**argws)` | 类型间除法运算，可选参数 |"
   ]
  },
  {
   "cell_type": "code",
   "execution_count": 32,
   "id": "96c01f26",
   "metadata": {
    "scrolled": true
   },
   "outputs": [
    {
     "data": {
      "text/html": [
       "<div>\n",
       "<style scoped>\n",
       "    .dataframe tbody tr th:only-of-type {\n",
       "        vertical-align: middle;\n",
       "    }\n",
       "\n",
       "    .dataframe tbody tr th {\n",
       "        vertical-align: top;\n",
       "    }\n",
       "\n",
       "    .dataframe thead th {\n",
       "        text-align: right;\n",
       "    }\n",
       "</style>\n",
       "<table border=\"1\" class=\"dataframe\">\n",
       "  <thead>\n",
       "    <tr style=\"text-align: right;\">\n",
       "      <th></th>\n",
       "      <th>0</th>\n",
       "      <th>1</th>\n",
       "      <th>2</th>\n",
       "      <th>3</th>\n",
       "      <th>4</th>\n",
       "    </tr>\n",
       "  </thead>\n",
       "  <tbody>\n",
       "    <tr>\n",
       "      <th>0</th>\n",
       "      <td>0.0</td>\n",
       "      <td>2.0</td>\n",
       "      <td>4.0</td>\n",
       "      <td>6.0</td>\n",
       "      <td>104.0</td>\n",
       "    </tr>\n",
       "    <tr>\n",
       "      <th>1</th>\n",
       "      <td>9.0</td>\n",
       "      <td>11.0</td>\n",
       "      <td>13.0</td>\n",
       "      <td>15.0</td>\n",
       "      <td>109.0</td>\n",
       "    </tr>\n",
       "    <tr>\n",
       "      <th>2</th>\n",
       "      <td>18.0</td>\n",
       "      <td>20.0</td>\n",
       "      <td>22.0</td>\n",
       "      <td>24.0</td>\n",
       "      <td>114.0</td>\n",
       "    </tr>\n",
       "    <tr>\n",
       "      <th>3</th>\n",
       "      <td>115.0</td>\n",
       "      <td>116.0</td>\n",
       "      <td>117.0</td>\n",
       "      <td>118.0</td>\n",
       "      <td>119.0</td>\n",
       "    </tr>\n",
       "  </tbody>\n",
       "</table>\n",
       "</div>"
      ],
      "text/plain": [
       "       0      1      2      3      4\n",
       "0    0.0    2.0    4.0    6.0  104.0\n",
       "1    9.0   11.0   13.0   15.0  109.0\n",
       "2   18.0   20.0   22.0   24.0  114.0\n",
       "3  115.0  116.0  117.0  118.0  119.0"
      ]
     },
     "execution_count": 32,
     "metadata": {},
     "output_type": "execute_result"
    }
   ],
   "source": [
    "b.add(a, fill_value = 100)"
   ]
  },
  {
   "cell_type": "code",
   "execution_count": 30,
   "id": "4e9b3084",
   "metadata": {
    "scrolled": true
   },
   "outputs": [
    {
     "data": {
      "text/html": [
       "<div>\n",
       "<style scoped>\n",
       "    .dataframe tbody tr th:only-of-type {\n",
       "        vertical-align: middle;\n",
       "    }\n",
       "\n",
       "    .dataframe tbody tr th {\n",
       "        vertical-align: top;\n",
       "    }\n",
       "\n",
       "    .dataframe thead th {\n",
       "        text-align: right;\n",
       "    }\n",
       "</style>\n",
       "<table border=\"1\" class=\"dataframe\">\n",
       "  <thead>\n",
       "    <tr style=\"text-align: right;\">\n",
       "      <th></th>\n",
       "      <th>0</th>\n",
       "      <th>1</th>\n",
       "      <th>2</th>\n",
       "      <th>3</th>\n",
       "      <th>4</th>\n",
       "    </tr>\n",
       "  </thead>\n",
       "  <tbody>\n",
       "    <tr>\n",
       "      <th>0</th>\n",
       "      <td>0.0</td>\n",
       "      <td>1.0</td>\n",
       "      <td>4.0</td>\n",
       "      <td>9.0</td>\n",
       "      <td>0.0</td>\n",
       "    </tr>\n",
       "    <tr>\n",
       "      <th>1</th>\n",
       "      <td>20.0</td>\n",
       "      <td>30.0</td>\n",
       "      <td>42.0</td>\n",
       "      <td>56.0</td>\n",
       "      <td>0.0</td>\n",
       "    </tr>\n",
       "    <tr>\n",
       "      <th>2</th>\n",
       "      <td>80.0</td>\n",
       "      <td>99.0</td>\n",
       "      <td>120.0</td>\n",
       "      <td>143.0</td>\n",
       "      <td>0.0</td>\n",
       "    </tr>\n",
       "    <tr>\n",
       "      <th>3</th>\n",
       "      <td>0.0</td>\n",
       "      <td>0.0</td>\n",
       "      <td>0.0</td>\n",
       "      <td>0.0</td>\n",
       "      <td>0.0</td>\n",
       "    </tr>\n",
       "  </tbody>\n",
       "</table>\n",
       "</div>"
      ],
      "text/plain": [
       "      0     1      2      3    4\n",
       "0   0.0   1.0    4.0    9.0  0.0\n",
       "1  20.0  30.0   42.0   56.0  0.0\n",
       "2  80.0  99.0  120.0  143.0  0.0\n",
       "3   0.0   0.0    0.0    0.0  0.0"
      ]
     },
     "execution_count": 30,
     "metadata": {},
     "output_type": "execute_result"
    }
   ],
   "source": [
    "a.mul(b, fill_value = 0)"
   ]
  },
  {
   "cell_type": "markdown",
   "id": "fdc7a515",
   "metadata": {},
   "source": [
    "`fill_value = 100`的作用是将运算中缺少的参数用100来补齐，补齐后再进行运算，可以替代`NaN`\n",
    "### 例子：不同维度数据的运算\n",
    "\n",
    "DataFrame数据类型和Series数据类型之间的运算"
   ]
  },
  {
   "cell_type": "code",
   "execution_count": 35,
   "id": "87f6e5e0",
   "metadata": {},
   "outputs": [
    {
     "data": {
      "text/plain": [
       "0    0\n",
       "1    1\n",
       "2    2\n",
       "3    3\n",
       "dtype: int32"
      ]
     },
     "execution_count": 35,
     "metadata": {},
     "output_type": "execute_result"
    }
   ],
   "source": [
    "b = pd.DataFrame(np.arange(20).reshape(4,5))\n",
    "c = pd.Series(np.arange(4))\n",
    "c"
   ]
  },
  {
   "cell_type": "code",
   "execution_count": 36,
   "id": "9897a44d",
   "metadata": {},
   "outputs": [
    {
     "data": {
      "text/plain": [
       "0   -10\n",
       "1    -9\n",
       "2    -8\n",
       "3    -7\n",
       "dtype: int32"
      ]
     },
     "execution_count": 36,
     "metadata": {},
     "output_type": "execute_result"
    }
   ],
   "source": [
    "c - 10"
   ]
  },
  {
   "cell_type": "code",
   "execution_count": 37,
   "id": "2a2220f4",
   "metadata": {
    "scrolled": true
   },
   "outputs": [
    {
     "data": {
      "text/html": [
       "<div>\n",
       "<style scoped>\n",
       "    .dataframe tbody tr th:only-of-type {\n",
       "        vertical-align: middle;\n",
       "    }\n",
       "\n",
       "    .dataframe tbody tr th {\n",
       "        vertical-align: top;\n",
       "    }\n",
       "\n",
       "    .dataframe thead th {\n",
       "        text-align: right;\n",
       "    }\n",
       "</style>\n",
       "<table border=\"1\" class=\"dataframe\">\n",
       "  <thead>\n",
       "    <tr style=\"text-align: right;\">\n",
       "      <th></th>\n",
       "      <th>0</th>\n",
       "      <th>1</th>\n",
       "      <th>2</th>\n",
       "      <th>3</th>\n",
       "      <th>4</th>\n",
       "    </tr>\n",
       "  </thead>\n",
       "  <tbody>\n",
       "    <tr>\n",
       "      <th>0</th>\n",
       "      <td>0.0</td>\n",
       "      <td>0.0</td>\n",
       "      <td>0.0</td>\n",
       "      <td>0.0</td>\n",
       "      <td>NaN</td>\n",
       "    </tr>\n",
       "    <tr>\n",
       "      <th>1</th>\n",
       "      <td>5.0</td>\n",
       "      <td>5.0</td>\n",
       "      <td>5.0</td>\n",
       "      <td>5.0</td>\n",
       "      <td>NaN</td>\n",
       "    </tr>\n",
       "    <tr>\n",
       "      <th>2</th>\n",
       "      <td>10.0</td>\n",
       "      <td>10.0</td>\n",
       "      <td>10.0</td>\n",
       "      <td>10.0</td>\n",
       "      <td>NaN</td>\n",
       "    </tr>\n",
       "    <tr>\n",
       "      <th>3</th>\n",
       "      <td>15.0</td>\n",
       "      <td>15.0</td>\n",
       "      <td>15.0</td>\n",
       "      <td>15.0</td>\n",
       "      <td>NaN</td>\n",
       "    </tr>\n",
       "  </tbody>\n",
       "</table>\n",
       "</div>"
      ],
      "text/plain": [
       "      0     1     2     3   4\n",
       "0   0.0   0.0   0.0   0.0 NaN\n",
       "1   5.0   5.0   5.0   5.0 NaN\n",
       "2  10.0  10.0  10.0  10.0 NaN\n",
       "3  15.0  15.0  15.0  15.0 NaN"
      ]
     },
     "execution_count": 37,
     "metadata": {},
     "output_type": "execute_result"
    }
   ],
   "source": [
    "b-c"
   ]
  },
  {
   "cell_type": "markdown",
   "id": "8cd28873",
   "metadata": {},
   "source": [
    "\n",
    "当一维数据和零维数据（10）进行运算的时候，Series中的每个数都和10进行运算\n",
    "\n",
    "不同维度间做广播运算，即当低维数据和高维数据进行运算的时候，低维会作用到高维的每一个元素上，一维Series默认在轴1参与运算\n",
    "\n",
    "同样的，当运算`b - c`时，低维的`c`也作用到了`b`的每一个维度上，`c`默认作用到`b`的1轴上，也就是说，`b`的每一行都与`c`做了运算\n",
    "\n",
    "如果希望运算发生在零轴上，也就是让`b`的每一列都减去`c`，需要使用`.sub()`函数"
   ]
  },
  {
   "cell_type": "code",
   "execution_count": 39,
   "id": "cbc9fb07",
   "metadata": {
    "scrolled": true
   },
   "outputs": [
    {
     "data": {
      "text/html": [
       "<div>\n",
       "<style scoped>\n",
       "    .dataframe tbody tr th:only-of-type {\n",
       "        vertical-align: middle;\n",
       "    }\n",
       "\n",
       "    .dataframe tbody tr th {\n",
       "        vertical-align: top;\n",
       "    }\n",
       "\n",
       "    .dataframe thead th {\n",
       "        text-align: right;\n",
       "    }\n",
       "</style>\n",
       "<table border=\"1\" class=\"dataframe\">\n",
       "  <thead>\n",
       "    <tr style=\"text-align: right;\">\n",
       "      <th></th>\n",
       "      <th>0</th>\n",
       "      <th>1</th>\n",
       "      <th>2</th>\n",
       "      <th>3</th>\n",
       "      <th>4</th>\n",
       "    </tr>\n",
       "  </thead>\n",
       "  <tbody>\n",
       "    <tr>\n",
       "      <th>0</th>\n",
       "      <td>0</td>\n",
       "      <td>1</td>\n",
       "      <td>2</td>\n",
       "      <td>3</td>\n",
       "      <td>4</td>\n",
       "    </tr>\n",
       "    <tr>\n",
       "      <th>1</th>\n",
       "      <td>4</td>\n",
       "      <td>5</td>\n",
       "      <td>6</td>\n",
       "      <td>7</td>\n",
       "      <td>8</td>\n",
       "    </tr>\n",
       "    <tr>\n",
       "      <th>2</th>\n",
       "      <td>8</td>\n",
       "      <td>9</td>\n",
       "      <td>10</td>\n",
       "      <td>11</td>\n",
       "      <td>12</td>\n",
       "    </tr>\n",
       "    <tr>\n",
       "      <th>3</th>\n",
       "      <td>12</td>\n",
       "      <td>13</td>\n",
       "      <td>14</td>\n",
       "      <td>15</td>\n",
       "      <td>16</td>\n",
       "    </tr>\n",
       "  </tbody>\n",
       "</table>\n",
       "</div>"
      ],
      "text/plain": [
       "    0   1   2   3   4\n",
       "0   0   1   2   3   4\n",
       "1   4   5   6   7   8\n",
       "2   8   9  10  11  12\n",
       "3  12  13  14  15  16"
      ]
     },
     "execution_count": 39,
     "metadata": {},
     "output_type": "execute_result"
    }
   ],
   "source": [
    "b.sub(c, axis = 0)"
   ]
  },
  {
   "cell_type": "markdown",
   "id": "b67cef97",
   "metadata": {},
   "source": [
    "\n",
    "## 比较运算\n",
    "\n",
    "### 法则\n",
    "\n",
    "比较运算只能比较相同索引的元素，不进行补齐\n",
    "\n",
    "二维和一维、一维和零维间为广播运算\n",
    "\n",
    "采用>、<、>=、<=、==、!=等符号进行的二元运算产生布尔对象\n",
    "\n",
    "### 例子：相同维度"
   ]
  },
  {
   "cell_type": "code",
   "execution_count": 40,
   "id": "76e8c6c8",
   "metadata": {},
   "outputs": [
    {
     "data": {
      "text/html": [
       "<div>\n",
       "<style scoped>\n",
       "    .dataframe tbody tr th:only-of-type {\n",
       "        vertical-align: middle;\n",
       "    }\n",
       "\n",
       "    .dataframe tbody tr th {\n",
       "        vertical-align: top;\n",
       "    }\n",
       "\n",
       "    .dataframe thead th {\n",
       "        text-align: right;\n",
       "    }\n",
       "</style>\n",
       "<table border=\"1\" class=\"dataframe\">\n",
       "  <thead>\n",
       "    <tr style=\"text-align: right;\">\n",
       "      <th></th>\n",
       "      <th>0</th>\n",
       "      <th>1</th>\n",
       "      <th>2</th>\n",
       "      <th>3</th>\n",
       "    </tr>\n",
       "  </thead>\n",
       "  <tbody>\n",
       "    <tr>\n",
       "      <th>0</th>\n",
       "      <td>False</td>\n",
       "      <td>False</td>\n",
       "      <td>False</td>\n",
       "      <td>False</td>\n",
       "    </tr>\n",
       "    <tr>\n",
       "      <th>1</th>\n",
       "      <td>False</td>\n",
       "      <td>False</td>\n",
       "      <td>False</td>\n",
       "      <td>True</td>\n",
       "    </tr>\n",
       "    <tr>\n",
       "      <th>2</th>\n",
       "      <td>True</td>\n",
       "      <td>True</td>\n",
       "      <td>True</td>\n",
       "      <td>True</td>\n",
       "    </tr>\n",
       "  </tbody>\n",
       "</table>\n",
       "</div>"
      ],
      "text/plain": [
       "       0      1      2      3\n",
       "0  False  False  False  False\n",
       "1  False  False  False   True\n",
       "2   True   True   True   True"
      ]
     },
     "execution_count": 40,
     "metadata": {},
     "output_type": "execute_result"
    }
   ],
   "source": [
    "d = pd.DataFrame(np.arange(12,0,-1).reshape(3,4))\n",
    "a > d"
   ]
  },
  {
   "cell_type": "code",
   "execution_count": 41,
   "id": "69d43981",
   "metadata": {
    "scrolled": true
   },
   "outputs": [
    {
     "data": {
      "text/html": [
       "<div>\n",
       "<style scoped>\n",
       "    .dataframe tbody tr th:only-of-type {\n",
       "        vertical-align: middle;\n",
       "    }\n",
       "\n",
       "    .dataframe tbody tr th {\n",
       "        vertical-align: top;\n",
       "    }\n",
       "\n",
       "    .dataframe thead th {\n",
       "        text-align: right;\n",
       "    }\n",
       "</style>\n",
       "<table border=\"1\" class=\"dataframe\">\n",
       "  <thead>\n",
       "    <tr style=\"text-align: right;\">\n",
       "      <th></th>\n",
       "      <th>0</th>\n",
       "      <th>1</th>\n",
       "      <th>2</th>\n",
       "      <th>3</th>\n",
       "    </tr>\n",
       "  </thead>\n",
       "  <tbody>\n",
       "    <tr>\n",
       "      <th>0</th>\n",
       "      <td>False</td>\n",
       "      <td>False</td>\n",
       "      <td>False</td>\n",
       "      <td>False</td>\n",
       "    </tr>\n",
       "    <tr>\n",
       "      <th>1</th>\n",
       "      <td>False</td>\n",
       "      <td>False</td>\n",
       "      <td>True</td>\n",
       "      <td>False</td>\n",
       "    </tr>\n",
       "    <tr>\n",
       "      <th>2</th>\n",
       "      <td>False</td>\n",
       "      <td>False</td>\n",
       "      <td>False</td>\n",
       "      <td>False</td>\n",
       "    </tr>\n",
       "  </tbody>\n",
       "</table>\n",
       "</div>"
      ],
      "text/plain": [
       "       0      1      2      3\n",
       "0  False  False  False  False\n",
       "1  False  False   True  False\n",
       "2  False  False  False  False"
      ]
     },
     "execution_count": 41,
     "metadata": {},
     "output_type": "execute_result"
    }
   ],
   "source": [
    "a == d"
   ]
  },
  {
   "cell_type": "markdown",
   "id": "27a2d66e",
   "metadata": {},
   "source": [
    "同维度运算（都是DataFrame），要求尺寸一致，不存在填充，如果尺寸不同，就会报错\n",
    "\n",
    "### 例子：不同维度"
   ]
  },
  {
   "cell_type": "code",
   "execution_count": 43,
   "id": "aee62a0c",
   "metadata": {},
   "outputs": [
    {
     "data": {
      "text/html": [
       "<div>\n",
       "<style scoped>\n",
       "    .dataframe tbody tr th:only-of-type {\n",
       "        vertical-align: middle;\n",
       "    }\n",
       "\n",
       "    .dataframe tbody tr th {\n",
       "        vertical-align: top;\n",
       "    }\n",
       "\n",
       "    .dataframe thead th {\n",
       "        text-align: right;\n",
       "    }\n",
       "</style>\n",
       "<table border=\"1\" class=\"dataframe\">\n",
       "  <thead>\n",
       "    <tr style=\"text-align: right;\">\n",
       "      <th></th>\n",
       "      <th>0</th>\n",
       "      <th>1</th>\n",
       "      <th>2</th>\n",
       "      <th>3</th>\n",
       "    </tr>\n",
       "  </thead>\n",
       "  <tbody>\n",
       "    <tr>\n",
       "      <th>0</th>\n",
       "      <td>False</td>\n",
       "      <td>False</td>\n",
       "      <td>False</td>\n",
       "      <td>False</td>\n",
       "    </tr>\n",
       "    <tr>\n",
       "      <th>1</th>\n",
       "      <td>True</td>\n",
       "      <td>True</td>\n",
       "      <td>True</td>\n",
       "      <td>True</td>\n",
       "    </tr>\n",
       "    <tr>\n",
       "      <th>2</th>\n",
       "      <td>True</td>\n",
       "      <td>True</td>\n",
       "      <td>True</td>\n",
       "      <td>True</td>\n",
       "    </tr>\n",
       "  </tbody>\n",
       "</table>\n",
       "</div>"
      ],
      "text/plain": [
       "       0      1      2      3\n",
       "0  False  False  False  False\n",
       "1   True   True   True   True\n",
       "2   True   True   True   True"
      ]
     },
     "execution_count": 43,
     "metadata": {},
     "output_type": "execute_result"
    }
   ],
   "source": [
    "a >c"
   ]
  },
  {
   "cell_type": "code",
   "execution_count": 44,
   "id": "05dedd89",
   "metadata": {
    "scrolled": true
   },
   "outputs": [
    {
     "data": {
      "text/plain": [
       "0    False\n",
       "1     True\n",
       "2     True\n",
       "3     True\n",
       "dtype: bool"
      ]
     },
     "execution_count": 44,
     "metadata": {},
     "output_type": "execute_result"
    }
   ],
   "source": [
    "c > 0"
   ]
  },
  {
   "cell_type": "markdown",
   "id": "723a5189",
   "metadata": {},
   "source": [
    "不同维度，广播运算，默认在1轴（行索引）"
   ]
  }
 ],
 "metadata": {
  "kernelspec": {
   "display_name": "Python 3",
   "language": "python",
   "name": "python3"
  },
  "language_info": {
   "codemirror_mode": {
    "name": "ipython",
    "version": 3
   },
   "file_extension": ".py",
   "mimetype": "text/x-python",
   "name": "python",
   "nbconvert_exporter": "python",
   "pygments_lexer": "ipython3",
   "version": "3.8.8"
  }
 },
 "nbformat": 4,
 "nbformat_minor": 5
}
