{
 "cells": [
  {
   "cell_type": "code",
   "execution_count": 6,
   "metadata": {
    "colab": {
     "base_uri": "https://localhost:8080/"
    },
    "executionInfo": {
     "elapsed": 1360,
     "status": "ok",
     "timestamp": 1635074472576,
     "user": {
      "displayName": "Kelvin Lo",
      "photoUrl": "https://lh3.googleusercontent.com/a-/AOh14Ggat1DO4WM3A1o0pmnr7y1jEmCWFqjCIpg9Yk0C=s64",
      "userId": "08004694506673442732"
     },
     "user_tz": -660
    },
    "id": "tzrfls11kFMc",
    "outputId": "0ebb4d07-53f8-40d7-d42d-7ccee7d1de9a"
   },
   "outputs": [
    {
     "name": "stderr",
     "output_type": "stream",
     "text": [
      "'gdown' 不是内部或外部命令，也不是可运行的程序\n",
      "或批处理文件。\n"
     ]
    }
   ],
   "source": [
    "# download input_script.txt from drive\n",
    "!gdown --id 1iP0K7yc0_FwBFIYqiJhyqRBgQO9-LEQt"
   ]
  },
  {
   "cell_type": "code",
   "execution_count": 5,
   "metadata": {
    "id": "1kBjkakYktQz"
   },
   "outputs": [],
   "source": [
    "import re\n",
    "class ScriptProcessor:\n",
    "    def __init__(self, filename):\n",
    "        self.filename = filename\n",
    "\n",
    "    def extract_dialogue(self, student_id = None, export = True):\n",
    "        \"\"\"\n",
    "        Read file and extract dialogue lines from file\n",
    "        Returns:\n",
    "        1. list[tuple[character_name, dialogue]]: list of tuples of dialogue lines and the corresponding characters\n",
    "        \"\"\"\n",
    "        \n",
    "        # open the file\n",
    "        with open(self.filename) as f:\n",
    "            lines = f.readlines()\n",
    "        \n",
    "        # remove meta-data from start of script\n",
    "        # First identify the last line of the header meta-data\n",
    "        # i.e. get the indices of lines that starts with '[Scene'\n",
    "        meta_idx = [idx for idx, line in enumerate(lines) if line.startswith('[Scene')]\n",
    "\n",
    "        # The first index we get will be the last line of header meta-data\n",
    "        header_last_idx = meta_idx[0]\n",
    "\n",
    "        # Remove header meta-data\n",
    "        lines = lines[header_last_idx + 1:]\n",
    "\n",
    "        # Second, extract dialogue lines using the 'character: dialogue' pattern and the line that does not start with '['\n",
    "        lines = [line for line in lines if len(line.split(':')) == 2 and not line.startswith('[')]\n",
    "\n",
    "        # Lastly, extract the character and dialogue from the lines and remove meta-data within the dialogue\n",
    "        dialogues = []\n",
    "        for line in lines:\n",
    "            character, dialogue = line.split(':')\n",
    "            dialogue = re.sub(r'\\(.*?\\)', '', dialogue)\n",
    "            dialogues.append((character,dialogue.strip()))\n",
    "\n",
    "        if student_id and export:\n",
    "            with open(student_id + '_clean_dialogue.txt', 'w') as f:\n",
    "                f.write(str(dialogues))\n",
    "\n",
    "        return dialogues\n",
    "\n",
    "    def separate_dialogue(self, student_id):\n",
    "        \"\"\"\n",
    "        Classify the dialogues based on characters spoken and export to their corresponding files\n",
    "        Args:\n",
    "        1. student_id(string): the student_id, which is used in file naming\n",
    "        Returns:\n",
    "        1. dict[string(character name): list[string(dialogue)]]: a dictionary with key as character name and value as a list of dialogues of that character\n",
    "        \"\"\"\n",
    "        # First of all, obtain the character-dialogue pairs from extract_dialogue function\n",
    "        dialogues = self.extract_dialogue(export = False)\n",
    "\n",
    "        # Create an empty dictionary to store all the dialogues from different characters\n",
    "        character_dialogue_dict = dict()\n",
    "\n",
    "        for dialogue in dialogues:\n",
    "            # for every character-dialogue pair, we get the lower-cased character name first\n",
    "            # if the lower-cased character name does not exist as a key in the dictionary\n",
    "            # we create a new key as the lower-cased character name and its value will be an empty list\n",
    "            if dialogue[0].lower() not in character_dialogue_dict:\n",
    "                character_dialogue_dict[dialogue[0].lower()] = []\n",
    "            # then, we append the dialogue to the list with the key of the lower-cased character name\n",
    "            character_dialogue_dict[dialogue[0].lower()].append(dialogue[1])\n",
    "        \n",
    "        # At last, we simply need to create output files for each character and dump the corresponding list to the file using '\\n' as concatenater\n",
    "        for character in character_dialogue_dict:\n",
    "            with open(student_id + '_' + character + '.txt', 'w') as f:\n",
    "                f.write('\\n'.join(character_dialogue_dict[character]))\n",
    "\n",
    "        # And return the dictionary\n",
    "        return character_dialogue_dict"
   ]
  },
  {
   "cell_type": "code",
   "execution_count": 8,
   "metadata": {
    "id": "u7CZ8NIEwMUR"
   },
   "outputs": [],
   "source": [
    "import pandas as pd\n",
    "from collections import Counter\n",
    "import matplotlib.pyplot as plt\n",
    "from matplotlib.lines import Line2D\n",
    "class ScriptAnalyser:\n",
    "    def __init__(self, dialogue_dict):\n",
    "        self.dialogue_dict = dialogue_dict\n",
    "\n",
    "    def top_five_words(self, student_id = None, export = True):\n",
    "        \"\"\"\n",
    "        Extract top 5 frequent words for characters who have spoken more than 100 unique words\n",
    "        Args:\n",
    "        1. student_id(str): the student_id used for export file naming\n",
    "        2. export(bool): indicates whether export of DataFrame is required\n",
    "        Returns:\n",
    "        1. DataFrame: a DataFrame that records the top 5 frequent words for characters who have spoken more than 100 unique words\n",
    "        \"\"\"\n",
    "\n",
    "        # check whether student_id is not None if export is True\n",
    "        assert not (not student_id and export), 'student_id should be specified if export is True'\n",
    "        \n",
    "        # a list of tuple that stores the 'rows' of DataFrame\n",
    "        top_five_tuples = []\n",
    "\n",
    "        for character in self.dialogue_dict:\n",
    "            unique_tokens = [] # a list that stores unique tokens for every dialogue\n",
    "            \n",
    "            for line in self.dialogue_dict[character]:\n",
    "                # for every dialogue line, we lower-case all the characters and get unique tokens of the line\n",
    "                # then, we extend the list of unique tokens to unique_tokens\n",
    "                unique_tokens.extend(list(set([token.lower() for token in line.split()])))\n",
    "\n",
    "            # the number of occurance of a word in unique_tokens list indicates the line frequency of each word\n",
    "            # we simply need to use Counter to count the occurance of each word\n",
    "            token_line_frequency = dict(Counter(unique_tokens))\n",
    "\n",
    "            # next, we check whether the character has spoken more than 100 unique words using the length of the count dictionary\n",
    "            if len(token_line_frequency) <= 100:\n",
    "                continue\n",
    "\n",
    "            # then, we sort the count dictionary using the values in descending order and extract the top 5 frequnent words\n",
    "            top_five = sorted(token_line_frequency.items(),key=lambda x: x[1], reverse=True)[:5]\n",
    "\n",
    "            # finally, we extend the information to top_five_tuples list\n",
    "            top_five_tuples.extend(list(zip([character] * len(top_five), [i[0] for i in top_five],[i[1] for i in top_five])))\n",
    "\n",
    "        # After we get all the rows from different characters, we can create a DataFrame\n",
    "        df = pd.DataFrame(top_five_tuples,columns=['role','word','freq'])\n",
    "\n",
    "        # If export is True, we need to export to csv file\n",
    "        if export:\n",
    "            df.to_csv(student_id + '_data.csv', index=False)\n",
    "        return df\n",
    "\n",
    "    def visualise(self):\n",
    "        \"\"\"\n",
    "        Create a bar plot of the top 5 frequent words\n",
    "        \"\"\"\n",
    "\n",
    "        # get data that we need to visualise\n",
    "        top5 = self.top_five_words(export = False)\n",
    "\n",
    "        # map character name with color and plot the bar plot\n",
    "        colors = dict(zip(top5['role'].unique(), plt.get_cmap('Set1').colors))\n",
    "        fig, ax = plt.subplots()\n",
    "        top5.plot.bar(x='word',y='freq',color = [colors[i] for i in top5['role']], ax=ax)\n",
    "\n",
    "#         # set legend and other labels\n",
    "#         ax.legend(handles=[Line2D([0], [0], color=i[1], lw=4, label=i[0]) for i in colors.items()])\n",
    "#         ax.set_title('Count of top 5 words of each role')\n",
    "#         ax.set_ylabel('count')"
   ]
  },
  {
   "cell_type": "code",
   "execution_count": 9,
   "metadata": {
    "colab": {
     "base_uri": "https://localhost:8080/",
     "height": 310
    },
    "executionInfo": {
     "elapsed": 635,
     "status": "ok",
     "timestamp": 1635074477177,
     "user": {
      "displayName": "Kelvin Lo",
      "photoUrl": "https://lh3.googleusercontent.com/a-/AOh14Ggat1DO4WM3A1o0pmnr7y1jEmCWFqjCIpg9Yk0C=s64",
      "userId": "08004694506673442732"
     },
     "user_tz": -660
    },
    "id": "P30yV6Nfq6on",
    "outputId": "3f1a5caa-419b-4165-f311-c274e713489a"
   },
   "outputs": [
    {
     "data": {
      "image/png": "[encoded data removed]",
      "text/plain": [
       "<Figure size 432x288 with 1 Axes>"
      ]
     },
     "metadata": {
      "needs_background": "light"
     },
     "output_type": "display_data"
    }
   ],
   "source": [
    "sp = ScriptProcessor('input_script (Marker version).txt')\n",
    "sp.extract_dialogue('12345678')\n",
    "dialogues = sp.separate_dialogue('12345678')\n",
    "\n",
    "\n",
    "sa = ScriptAnalyser(dialogues)\n",
    "sa.top_five_words('12345678')\n",
    "sa.visualise()"
   ]
  },
  {
   "cell_type": "markdown",
   "metadata": {
    "id": "aWzoYu3z_xxM"
   },
   "source": [
    "### Justification and observations from the graph\n",
    "\n",
    "The reason to choose colored bar chart is because it is easy to read and it can show multidimensional data in 2D plane. From the chart, we can observe that *i* is the most common top 5 words among the characters. However, it is interesting that Monica says *you* more than *i*."
   ]
  }
 ],
 "metadata": {
  "colab": {
   "collapsed_sections": [],
   "name": "Assignment_test.ipynb",
   "provenance": []
  },
  "kernelspec": {
   "display_name": "Python 3",
   "language": "python",
   "name": "python3"
  },
  "language_info": {
   "codemirror_mode": {
    "name": "ipython",
    "version": 3
   },
   "file_extension": ".py",
   "mimetype": "text/x-python",
   "name": "python",
   "nbconvert_exporter": "python",
   "pygments_lexer": "ipython3",
   "version": "3.8.8"
  }
 },
 "nbformat": 4,
 "nbformat_minor": 1
}
