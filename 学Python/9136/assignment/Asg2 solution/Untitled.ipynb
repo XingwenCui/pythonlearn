{
 "cells": [
  {
   "cell_type": "code",
   "execution_count": 1,
   "id": "2b90e92b",
   "metadata": {},
   "outputs": [],
   "source": [
    "import re"
   ]
  },
  {
   "cell_type": "code",
   "execution_count": 46,
   "id": "dfc90490",
   "metadata": {},
   "outputs": [],
   "source": [
    "with open(\"input_script (Marker version).txt\") as f:\n",
    "    lines = f.readlines()\n",
    "\n",
    "meta_index = [idx for idx,line in enumerate(lines) if line.startswith('[Scene')]\n",
    "header_index = meta_index[0]\n",
    "lines = lines[header_index+1:]\n",
    "lines = [line for line in lines if len(line.split(\":\")) == 2 and not line.startswith(\"[\")]\n",
    "dialogues = []\n",
    "for i in lines:\n",
    "    i = re.sub(r'\\(.*?\\)','',i)\n",
    "    line = i.strip()\n",
    "    dialogues.append(tuple(line.split(\":\")))\n",
    "    \n",
    "with open(\"www1w.txt\",'w') as f:\n",
    "    f.write(str(dialogues))\n",
    "    \n",
    "character_dialogues = {}\n",
    "for dialogue in dialogues:\n",
    "    if dialogue[0].lower() not in character_dialogues:\n",
    "        character_dialogues[dialogue[0].lower()] = []\n",
    "    \n",
    "    character_dialogues[dialogue[0].lower()].append(dialogue[1])\n",
    "character_dialogues\n",
    "for character in character_dialogues:\n",
    "    with open('32807961_'+character+'.txt','w') as f:\n",
    "        f.write('\\n'.join(character_dialogues[character]))\n"
   ]
  }
 ],
 "metadata": {
  "kernelspec": {
   "display_name": "Python 3",
   "language": "python",
   "name": "python3"
  },
  "language_info": {
   "codemirror_mode": {
    "name": "ipython",
    "version": 3
   },
   "file_extension": ".py",
   "mimetype": "text/x-python",
   "name": "python",
   "nbconvert_exporter": "python",
   "pygments_lexer": "ipython3",
   "version": "3.8.8"
  }
 },
 "nbformat": 4,
 "nbformat_minor": 5
}
