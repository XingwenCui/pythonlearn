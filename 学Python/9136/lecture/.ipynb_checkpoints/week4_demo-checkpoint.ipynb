{
 "cells": [
  {
   "cell_type": "markdown",
   "metadata": {
    "id": "NOLfj6QW2Urz"
   },
   "source": [
    "# Week 4 - Demos\n"
   ]
  },
  {
   "cell_type": "code",
   "execution_count": null,
   "metadata": {},
   "outputs": [],
   "source": [
    "# How for...in... works \n",
    "\n",
    "it = iter(range(0, 5))   # create an iterator from the iterable object, with values of [0,1,2,3,4]\n",
    "\n",
    "while True:\n",
    "    try: \n",
    "        x = next(it) # get the next value\n",
    "        print(x)\n",
    "    except:\n",
    "        break\n",
    "\n"
   ]
  },
  {
   "cell_type": "code",
   "execution_count": null,
   "metadata": {},
   "outputs": [],
   "source": [
    "# check whether an object is iterable\n",
    "from collections.abc import Iterable\n",
    "\n",
    "print(isinstance(range(0, 5), Iterable))\n",
    "print(isinstance([0,1,2,3,4], Iterable))\n"
   ]
  },
  {
   "cell_type": "code",
   "execution_count": null,
   "metadata": {},
   "outputs": [],
   "source": [
    "# embedded loops \n",
    "\n",
    "a_list = [1, 2, 3]\n",
    "b_list = [2, 5, 6]\n",
    "for itemA in a_list:    # outer loop\n",
    "    for itemB in b_list:   # inner loop\n",
    "        if itemA == itemB: \n",
    "            break\n",
    "        print(itemA, itemB)\n"
   ]
  },
  {
   "cell_type": "code",
   "execution_count": 7,
   "metadata": {},
   "outputs": [
    {
     "name": "stdout",
     "output_type": "stream",
     "text": [
      "1 2 5\n",
      "1 2 6\n",
      "1 2 10\n",
      "1 6 5\n",
      "3 2 5\n",
      "3 2 6\n",
      "3 2 10\n",
      "3 6 5\n"
     ]
    }
   ],
   "source": [
    "a_list = [1, 2, 3]\n",
    "b_list = [2, 5, 6]\n",
    "c_list = [5, 6, 10]\n",
    "for itemA in a_list:    \n",
    "    for itemB in b_list:\n",
    "        if itemA == itemB: \n",
    "            break\n",
    "        for itemC in c_list:\n",
    "            if itemB == itemC:\n",
    "                break\n",
    "            print(itemA, itemB, itemC)"
   ]
  },
  {
   "cell_type": "code",
   "execution_count": null,
   "metadata": {},
   "outputs": [],
   "source": []
  },
  {
   "cell_type": "markdown",
   "metadata": {
    "id": "w_vAqTbDUG9k"
   },
   "source": [
    "## Demo 1: check string contain unique characters\n",
    "Given a string variable, e.g.,  \n",
    "a_str = 'sfasfjkhfiosa'  \n",
    "Write the code to check whether a_str contains all unique characters.\n"
   ]
  },
  {
   "cell_type": "code",
   "execution_count": 1,
   "metadata": {
    "id": "vmmabbzQ1_lb"
   },
   "outputs": [
    {
     "name": "stdout",
     "output_type": "stream",
     "text": [
      "a_str has duplicate characters\n"
     ]
    }
   ],
   "source": [
    "# Solution 1:\n",
    "a_str = 'sgelihibahfs'\n",
    "\n",
    "flag = True  # assume a_str contains unique characters\n",
    "chars = []\n",
    "for c in a_str:\n",
    "    if c in chars:\n",
    "        print('a_str has duplicate characters')\n",
    "        flag = False\n",
    "        break\n",
    "    else:\n",
    "        chars.append(c)\n",
    "if flag:\n",
    "    print('a_str has all unique characters')       \n",
    "        \n",
    "        "
   ]
  },
  {
   "cell_type": "code",
   "execution_count": 3,
   "metadata": {
    "scrolled": true
   },
   "outputs": [
    {
     "name": "stdout",
     "output_type": "stream",
     "text": [
      "a_str has all unique characters\n"
     ]
    }
   ],
   "source": [
    "# Solution 2:\n",
    "a_str = 'sfjkhioa'\n",
    "flag = True\n",
    "i = 0\n",
    "chars = []  \n",
    "while i < len(a_str):  # the number of iterations should be no more than the length of the string\n",
    "    if a_str[i] in chars:\n",
    "        print('a_str has duplicate characters')\n",
    "        flag = False\n",
    "        break\n",
    "    else:\n",
    "        chars.append(c)\n",
    "    i = i + 1\n",
    "    \n",
    "if flag:\n",
    "    print('a_str has all unique characters')   \n",
    "    \n"
   ]
  },
  {
   "cell_type": "code",
   "execution_count": null,
   "metadata": {
    "id": "2VSAAPsZ1_lb"
   },
   "outputs": [],
   "source": [
    "# Solution 3: using set \n",
    "a_str = 'sfasfjkhfiosa'\n",
    "\n",
    "if len(set(a_str)) == len(a_str):\n",
    "    print('a_str has all unique characters')\n",
    "else:\n",
    "    print('a_str has duplicate characters')"
   ]
  },
  {
   "cell_type": "markdown",
   "metadata": {
    "id": "sYFohwE4UG9t"
   },
   "source": [
    "## Demo 2: checking palindrome\n",
    "Given a variable, e.g.,  \n",
    "a_str = 'abaninaba' \n",
    "Write the code to check whether a_str is a palindrome or not. "
   ]
  },
  {
   "cell_type": "code",
   "execution_count": 1,
   "metadata": {
    "id": "hezwBXa51_lb"
   },
   "outputs": [
    {
     "name": "stdout",
     "output_type": "stream",
     "text": [
      "The string is a palindrome.\n"
     ]
    }
   ],
   "source": [
    "a_str = 'abaninaba'\n",
    "\n",
    "l = len(a_str)\n",
    "palindrome = True # assume it is a palindrome\n",
    "\n",
    "for i in range(0,int(l/2)):\n",
    "    if a_str[i] != a_str[l-i-1]: # compare the corresponding letters\n",
    "        palindrome = False #no, it is not...\n",
    "        break\n",
    "        \n",
    "if palindrome:\n",
    "    print('The string is a palindrome.')\n",
    "else:\n",
    "    print('The string is not a palindrome.')"
   ]
  },
  {
   "cell_type": "markdown",
   "metadata": {
    "id": "zX1SBKEFUG9w"
   },
   "source": [
    "## Demo 3 The Guessing Game\n",
    "#### -- Control the flow of your program\n",
    "Assume there is a predefined integer, eg., number = 8. Write a guessing game program, where, you continue to ask user to input an integer, until the input integer matches the predefined number (8).   "
   ]
  },
  {
   "cell_type": "code",
   "execution_count": null,
   "metadata": {},
   "outputs": [],
   "source": [
    "number = 8\n",
    "\n",
    "while True:\n",
    "    guess = int(input('Please enter an integer : '))\n",
    "    if guess == number:\n",
    "        print('Congratulations, you guessed it.')\n",
    "        break\n",
    "    else: \n",
    "        if guess < number:    # give some hints to the user.\n",
    "            print('No, it is a little higher than that.')\n",
    "        else:\n",
    "            print('No, it is a little lower than that.')\n",
    "        \n",
    "print('Done! The while loop is over.')"
   ]
  },
  {
   "cell_type": "code",
   "execution_count": null,
   "metadata": {
    "id": "ieMUcpPV1_lc"
   },
   "outputs": [],
   "source": [
    "# simplify the code\n",
    "\n",
    "number = 8\n",
    "\n",
    "while True:\n",
    "    guess = int(input('Please enter an integer : '))\n",
    "    if guess == number:\n",
    "        print('Congratulations, you guessed it.')\n",
    "        break\n",
    "    elif guess < number:    # give some hints to the user.\n",
    "        print('No, it is a little higher than that.')\n",
    "    else:\n",
    "        print('No, it is a little lower than that.')\n",
    "        \n",
    "print('Done! The while loop is over.')"
   ]
  },
  {
   "cell_type": "markdown",
   "metadata": {
    "id": "pCeFYORdUG9z"
   },
   "source": [
    "#### Handling invalid input\n",
    "If the input is not an integer, you will print the error msg and continue to ask user for an integer.   \n",
    "Hint: you can use isdigit() method to test whether a string contain digits only.  "
   ]
  },
  {
   "cell_type": "code",
   "execution_count": null,
   "metadata": {
    "id": "OtaIVuqx1_ld"
   },
   "outputs": [],
   "source": [
    "number = 8\n",
    "\n",
    "while True:\n",
    "    guess = input('Please enter an integer : ')\n",
    "    if guess.isdigit():\n",
    "        guess = int(guess)\n",
    "        if guess == number:\n",
    "            print('Congratulations, you guessed it.')\n",
    "            break\n",
    "        elif guess < number:\n",
    "            print('No, it is a little higher than that.')\n",
    "        else:\n",
    "            print('No, it is a little lower than that.')\n",
    "    else:\n",
    "        print('You will need to enter a valid integer!')        \n",
    "        \n",
    "print('Done! The while loop is over.')"
   ]
  }
 ],
 "metadata": {
  "colab": {
   "collapsed_sections": [],
   "name": "Live Demo_week_2.ipynb",
   "provenance": []
  },
  "kernelspec": {
   "display_name": "Python 3",
   "language": "python",
   "name": "python3"
  },
  "language_info": {
   "codemirror_mode": {
    "name": "ipython",
    "version": 3
   },
   "file_extension": ".py",
   "mimetype": "text/x-python",
   "name": "python",
   "nbconvert_exporter": "python",
   "pygments_lexer": "ipython3",
   "version": "3.9.5"
  }
 },
 "nbformat": 4,
 "nbformat_minor": 1
}
