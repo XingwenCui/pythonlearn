{
 "cells": [
  {
   "cell_type": "markdown",
   "id": "4b2e969e",
   "metadata": {},
   "source": [
    "### file operations"
   ]
  },
  {
   "cell_type": "code",
   "execution_count": null,
   "id": "5a9a31fb",
   "metadata": {},
   "outputs": [],
   "source": [
    "file = open('example.txt', 'r')\n",
    "print(file.readline())\n",
    "print(file.readline())"
   ]
  },
  {
   "cell_type": "code",
   "execution_count": null,
   "id": "d706704d",
   "metadata": {},
   "outputs": [],
   "source": [
    "file = open('example.txt', 'r')\n",
    "while True:\n",
    "    a = file.readline()\n",
    "    if a:\n",
    "        print(a)\n",
    "    else:\n",
    "        break"
   ]
  },
  {
   "cell_type": "code",
   "execution_count": null,
   "id": "eda7d513",
   "metadata": {},
   "outputs": [],
   "source": [
    "file = open('example.txt', 'r')\n",
    "print(file.readlines())"
   ]
  },
  {
   "cell_type": "code",
   "execution_count": null,
   "id": "bd9afada",
   "metadata": {},
   "outputs": [],
   "source": [
    "file = open('example.txt', 'r')\n",
    "content = file.readlines()\n",
    "result = []\n",
    "for line in content:\n",
    "    line = line.strip('\\n')   # remove the newline\n",
    "    print(line)\n",
    "    result.append(line)\n",
    "print(result)"
   ]
  },
  {
   "cell_type": "code",
   "execution_count": null,
   "id": "0e571d72",
   "metadata": {},
   "outputs": [],
   "source": [
    "file = open('example.txt', 'r')\n",
    "print(file.read())   "
   ]
  },
  {
   "cell_type": "code",
   "execution_count": null,
   "id": "8ecbd7e9",
   "metadata": {},
   "outputs": [],
   "source": [
    "content = []\n",
    "with open('example.txt', 'r') as infile:\n",
    "    for line in infile:\n",
    "        line = line.strip('\\n') # remove the newline character\n",
    "        print(line)\n",
    "        content.append(line)\n",
    "print(content)"
   ]
  },
  {
   "cell_type": "code",
   "execution_count": null,
   "id": "acb0ed51",
   "metadata": {},
   "outputs": [],
   "source": [
    "write_file = open(\"demo.txt\", \"w\")\n",
    "for i in content:\n",
    "    write_file.write(i + '\\n')\n",
    "write_file.close()"
   ]
  },
  {
   "cell_type": "code",
   "execution_count": null,
   "id": "9b832e2a",
   "metadata": {},
   "outputs": [],
   "source": [
    "import os   # file/directory operation in python"
   ]
  },
  {
   "cell_type": "code",
   "execution_count": null,
   "id": "6921026d",
   "metadata": {},
   "outputs": [],
   "source": [
    "os.getcwd()   # check my current directory"
   ]
  },
  {
   "cell_type": "code",
   "execution_count": null,
   "id": "203d6faa",
   "metadata": {},
   "outputs": [],
   "source": [
    "os.mkdir('./demo')  # relative directory (add a subdirectory); if the directory already exists, throws error"
   ]
  },
  {
   "cell_type": "code",
   "execution_count": null,
   "id": "f2a1c5c0",
   "metadata": {},
   "outputs": [],
   "source": [
    "# how to avoid the duplicated directory error?"
   ]
  },
  {
   "cell_type": "code",
   "execution_count": null,
   "id": "3e15271d",
   "metadata": {},
   "outputs": [],
   "source": [
    "if not os.path.isdir('./demo'):   # check whether the dir exists\n",
    "    os.mkdir('./demo')"
   ]
  },
  {
   "cell_type": "code",
   "execution_count": null,
   "id": "ff8ad965",
   "metadata": {},
   "outputs": [],
   "source": [
    "# change my current working directory\n",
    "os.chdir('/Users/bzhu0012/Documents/FIT9136')"
   ]
  },
  {
   "cell_type": "code",
   "execution_count": null,
   "id": "a08d8df6",
   "metadata": {},
   "outputs": [],
   "source": [
    "# Another way to interact with the operating system: executing a shell command in python"
   ]
  },
  {
   "cell_type": "code",
   "execution_count": null,
   "id": "45d080f4",
   "metadata": {},
   "outputs": [],
   "source": [
    "!ls      # in ipython, ! + shell command"
   ]
  },
  {
   "cell_type": "code",
   "execution_count": 1,
   "id": "91acf710",
   "metadata": {},
   "outputs": [],
   "source": [
    "import subprocess    # use subprocess module"
   ]
  },
  {
   "cell_type": "code",
   "execution_count": null,
   "id": "6eb2cab5",
   "metadata": {},
   "outputs": [],
   "source": [
    "p=subprocess.Popen(\"mkdir extractions\", shell=True)   # use subprocess module for calling shell command lines"
   ]
  },
  {
   "cell_type": "code",
   "execution_count": 5,
   "id": "7c27a5b2",
   "metadata": {},
   "outputs": [],
   "source": [
    "p=subprocess.call(['sh', './crawler.sh', 'google', '10'])    # call external shell script"
   ]
  },
  {
   "cell_type": "markdown",
   "id": "af2a9791",
   "metadata": {},
   "source": [
    "### debugging"
   ]
  },
  {
   "cell_type": "code",
   "execution_count": null,
   "id": "1e036aa7",
   "metadata": {},
   "outputs": [],
   "source": [
    "def myadd(x, y):\n",
    "    if x<y:\n",
    "        return x+y\n",
    "    else:\n",
    "        print('x has to be smaller than y')\n",
    "    print('program done')"
   ]
  },
  {
   "cell_type": "code",
   "execution_count": null,
   "id": "f575c084",
   "metadata": {},
   "outputs": [],
   "source": [
    "myadd(3,2)  # this is a form of error handling"
   ]
  },
  {
   "cell_type": "code",
   "execution_count": null,
   "id": "1a36b752",
   "metadata": {},
   "outputs": [],
   "source": [
    "def myadd(x, y):\n",
    "    assert x<y, 'x has to be smaller than y'\n",
    "    return x+y\n",
    "    print('program done')"
   ]
  },
  {
   "cell_type": "code",
   "execution_count": null,
   "id": "39498b46",
   "metadata": {},
   "outputs": [],
   "source": [
    "myadd(3,2)   # error handling using assert statement"
   ]
  },
  {
   "cell_type": "code",
   "execution_count": null,
   "id": "ab049545",
   "metadata": {},
   "outputs": [],
   "source": [
    "import unittest\n",
    "\n",
    "def product_function(first_arg, second_arg):\n",
    "    result = first_arg * second_arg\n",
    "    return result\n",
    "\n",
    "class TestForFunction(unittest.TestCase):\n",
    "    def test_product_function(self):\n",
    "        self.assertEqual(product_function(2,3), 6)   # check equality\n",
    "\n",
    "if __name__ == '__main__':\n",
    "    unittest.main(argv=['first-arg-is-ignored'], exit=False)  # call unittest.main() to start testing"
   ]
  },
  {
   "cell_type": "code",
   "execution_count": null,
   "id": "54e8d997",
   "metadata": {},
   "outputs": [],
   "source": [
    "import unittest\n",
    "\n",
    "def product_function(first_arg, second_arg):\n",
    "    result = first_arg * second_arg\n",
    "    return result\n",
    "\n",
    "class Extra_Class:\n",
    "    x = 5\n",
    "\n",
    "class TestForFunction(unittest.TestCase):\n",
    "    def test_product_function(self):\n",
    "#        o1 = Extra_Class()\n",
    " #       o2 = Extra_Class()\n",
    "#        self.assertIs(product_function(2,3), 6)   # check whether arg1 and arg2 evaluated to the same object\n",
    "        self.assertIs(o1, o2)    \n",
    "\n",
    "if __name__ == '__main__':\n",
    "    unittest.main(argv=['first-arg-is-ignored'], exit=False)"
   ]
  },
  {
   "cell_type": "code",
   "execution_count": null,
   "id": "a7e6f7b0",
   "metadata": {},
   "outputs": [],
   "source": [
    "import unittest\n",
    "\n",
    "def product_function(first_arg, second_arg):\n",
    "    result = first_arg * second_arg\n",
    "    return result\n",
    "\n",
    "class TestForFunction(unittest.TestCase):\n",
    "    def test_product_function(self):\n",
    "        self.assertTrue(product_function(2,3))   # check boolean(product_function(2,3)) == True?\n",
    "\n",
    "if __name__ == '__main__':\n",
    "    unittest.main(argv=['first-arg-is-ignored'], exit=False)  # call unittest.main()"
   ]
  },
  {
   "cell_type": "markdown",
   "id": "0877ed9b",
   "metadata": {},
   "source": [
    "### error handling"
   ]
  },
  {
   "cell_type": "code",
   "execution_count": null,
   "id": "55fe6641",
   "metadata": {},
   "outputs": [],
   "source": [
    "file_name = 'another_input_file.txt'\n",
    "try: \n",
    "    file_handle = open(file_name, 'r')\n",
    "except IOError:\n",
    "    print('Cannot open', file_name)\n",
    "except RuntimeError:\n",
    "    print('A run-time error has occurred')\n",
    "else:\n",
    "    print(file_name, 'has', len(file_handle.readlines()), 'lines')\n",
    "    file_handle.close()\n",
    "finally:\n",
    "    print('Exiting file reading')\n"
   ]
  }
 ],
 "metadata": {
  "kernelspec": {
   "display_name": "Python 3",
   "language": "python",
   "name": "python3"
  },
  "language_info": {
   "codemirror_mode": {
    "name": "ipython",
    "version": 3
   },
   "file_extension": ".py",
   "mimetype": "text/x-python",
   "name": "python",
   "nbconvert_exporter": "python",
   "pygments_lexer": "ipython3",
   "version": "3.9.5"
  }
 },
 "nbformat": 4,
 "nbformat_minor": 5
}
