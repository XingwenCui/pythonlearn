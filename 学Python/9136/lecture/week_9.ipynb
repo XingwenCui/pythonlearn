{
 "cells": [
  {
   "cell_type": "code",
   "execution_count": 1,
   "id": "1ed2b3a0",
   "metadata": {},
   "outputs": [],
   "source": [
    "# re: regular expression     https://docs.python.org/3/library/re.html"
   ]
  },
  {
   "cell_type": "code",
   "execution_count": 25,
   "id": "c56df984",
   "metadata": {},
   "outputs": [],
   "source": [
    "# \\  escape character\n",
    "# \\d  match a number   \\w match a digit   \\s match a space\n",
    "# * match any number of characters (includes 0)   + match at least one character   ?  match 0 or 1 character"
   ]
  },
  {
   "cell_type": "code",
   "execution_count": 22,
   "id": "a72585f5",
   "metadata": {},
   "outputs": [
    {
     "name": "stdout",
     "output_type": "stream",
     "text": [
      "['a', 'b', '', 'c']\n"
     ]
    }
   ],
   "source": [
    "print('a b  c'.split(' '))  # cannot recognise consecutive spaces"
   ]
  },
  {
   "cell_type": "code",
   "execution_count": 26,
   "id": "7ef4f350",
   "metadata": {},
   "outputs": [
    {
     "data": {
      "text/plain": [
       "['a', 'b', 'c', 'd']"
      ]
     },
     "execution_count": 26,
     "metadata": {},
     "output_type": "execute_result"
    }
   ],
   "source": [
    "re.split(r'\\s+', 'a b c  d')   # deal with variable length patterns"
   ]
  },
  {
   "cell_type": "code",
   "execution_count": 3,
   "id": "7b945c73",
   "metadata": {},
   "outputs": [
    {
     "name": "stdout",
     "output_type": "stream",
     "text": [
      "2021959559\n"
     ]
    }
   ],
   "source": [
    "import re \n",
    "\n",
    "phone = '2021-959-559* #'\n",
    "num = re.sub(r'\\D', \"\", phone)   # remove characters that are not digits\n",
    "print(num)\n"
   ]
  },
  {
   "cell_type": "code",
   "execution_count": 2,
   "id": "7d4f802f",
   "metadata": {},
   "outputs": [
    {
     "name": "stdout",
     "output_type": "stream",
     "text": [
      "<re.Match object; span=(0, 3), match='www'>\n"
     ]
    }
   ],
   "source": [
    "import re\n",
    "\n",
    "print(re.search('www', 'www.googlewww.com'))  # exact match. only returns the first match"
   ]
  },
  {
   "cell_type": "code",
   "execution_count": 37,
   "id": "1a5c9b03",
   "metadata": {},
   "outputs": [
    {
     "name": "stdout",
     "output_type": "stream",
     "text": [
      "[<re.Match object; span=(0, 2), match='12'>, <re.Match object; span=(3, 5), match='32'>, <re.Match object; span=(7, 9), match='43'>, <re.Match object; span=(11, 12), match='3'>]\n"
     ]
    }
   ],
   "source": [
    "it = re.finditer(r\"\\d+\",\"12a32bc43jf3\")   #Find all substrings matched by the regular expression in the string\n",
    "print(list(it)) \n",
    "\n",
    "#it = re.finditer(r\"\\d+\",\"12a32bc43jf3\")    \n",
    "#for match in it:\n",
    "#    print(match.group())\n",
    "\n"
   ]
  },
  {
   "cell_type": "code",
   "execution_count": 5,
   "id": "3bba691f",
   "metadata": {},
   "outputs": [
    {
     "name": "stdout",
     "output_type": "stream",
     "text": [
      "--- 0.0009291172027587891 seconds ---\n"
     ]
    }
   ],
   "source": [
    "# time: get time of a Python program's execution\n",
    "\n",
    "import time\n",
    "\n",
    "start_time = time.time()\n",
    "i = 10000\n",
    "while i > 0:\n",
    "    i -= 1 \n",
    "print(\"--- %s seconds ---\" % (time.time() - start_time))"
   ]
  },
  {
   "cell_type": "markdown",
   "id": "9000801c",
   "metadata": {},
   "source": [
    "###  read configurations into a Python script"
   ]
  },
  {
   "cell_type": "code",
   "execution_count": 6,
   "id": "2c06e9da",
   "metadata": {},
   "outputs": [
    {
     "name": "stdout",
     "output_type": "stream",
     "text": [
      "{'MODEL': {'TYPE': 'generalized_rcnn', 'CONV_BODY': 'ResNet.add_ResNet50_conv4_body', 'NUM_CLASSES': 81, 'FASTER_RCNN': True}, 'NUM_GPUS': 8, 'SOLVER': {'WEIGHT_DECAY': 0.0001, 'LR_POLICY': 'steps_with_decay', 'BASE_LR': 0.01, 'GAMMA': 0.1, 'MAX_ITER': 180000, 'STEPS': [0, 120000, 160000]}, 'TRAIN': {'WEIGHTS': 'https://dl.fbaipublicfiles.com/detectron/ImageNetPretrained/MSRA/R-50.pkl', 'DATASETS': \"('coco_2014_train', 'coco_2014_valminusminival')\", 'SCALES': '(800,)', 'MAX_SIZE': 1333, 'IMS_PER_BATCH': 1, 'BATCH_SIZE_PER_IM': 512}, 'TEST': {'DATASETS': \"('coco_2014_minival',)\", 'SCALE': 800, 'MAX_SIZE': 1333, 'NMS': 0.5, 'RPN_PRE_NMS_TOP_N': 6000, 'RPN_POST_NMS_TOP_N': 1000}, 'OUTPUT_DIR': '.'}\n"
     ]
    }
   ],
   "source": [
    "# use yaml package\n",
    "\n",
    "import yaml\n",
    "\n",
    "with open('./example.yaml', 'r') as f:\n",
    "    config = yaml.load(f.read(), Loader=yaml.FullLoader)\n",
    "print(config)\n"
   ]
  },
  {
   "cell_type": "code",
   "execution_count": 7,
   "id": "1a0c066e",
   "metadata": {},
   "outputs": [
    {
     "name": "stdout",
     "output_type": "stream",
     "text": [
      "8\n"
     ]
    }
   ],
   "source": [
    "num_gpus = config['NUM_GPUS']\n",
    "print(num_gpus)"
   ]
  },
  {
   "cell_type": "code",
   "execution_count": 8,
   "id": "3de0d328",
   "metadata": {},
   "outputs": [
    {
     "name": "stdout",
     "output_type": "stream",
     "text": [
      "generalized_rcnn\n"
     ]
    }
   ],
   "source": [
    "print(config['MODEL']['TYPE'])"
   ]
  },
  {
   "cell_type": "code",
   "execution_count": 9,
   "id": "f7effaf6",
   "metadata": {},
   "outputs": [],
   "source": [
    "# use argparser, logging. See .py file"
   ]
  },
  {
   "cell_type": "code",
   "execution_count": 10,
   "id": "452730af",
   "metadata": {},
   "outputs": [
    {
     "ename": "Error",
     "evalue": "Destination path '../new.yaml' already exists",
     "output_type": "error",
     "traceback": [
      "\u001b[0;31m---------------------------------------------------------------------------\u001b[0m",
      "\u001b[0;31mError\u001b[0m                                     Traceback (most recent call last)",
      "\u001b[0;32m<ipython-input-10-35ff056d1717>\u001b[0m in \u001b[0;36m<module>\u001b[0;34m\u001b[0m\n\u001b[1;32m      3\u001b[0m \u001b[0;34m\u001b[0m\u001b[0m\n\u001b[1;32m      4\u001b[0m \u001b[0mshutil\u001b[0m\u001b[0;34m.\u001b[0m\u001b[0mcopyfile\u001b[0m\u001b[0;34m(\u001b[0m\u001b[0;34m'example.yaml'\u001b[0m\u001b[0;34m,\u001b[0m \u001b[0;34m'new.yaml'\u001b[0m\u001b[0;34m)\u001b[0m\u001b[0;34m\u001b[0m\u001b[0;34m\u001b[0m\u001b[0m\n\u001b[0;32m----> 5\u001b[0;31m \u001b[0mshutil\u001b[0m\u001b[0;34m.\u001b[0m\u001b[0mmove\u001b[0m\u001b[0;34m(\u001b[0m\u001b[0;34m'new.yaml'\u001b[0m\u001b[0;34m,\u001b[0m \u001b[0;34m'../'\u001b[0m\u001b[0;34m)\u001b[0m\u001b[0;34m\u001b[0m\u001b[0;34m\u001b[0m\u001b[0m\n\u001b[0m",
      "\u001b[0;32m~/miniconda3/envs/p3.9/lib/python3.9/shutil.py\u001b[0m in \u001b[0;36mmove\u001b[0;34m(src, dst, copy_function)\u001b[0m\n\u001b[1;32m    802\u001b[0m \u001b[0;34m\u001b[0m\u001b[0m\n\u001b[1;32m    803\u001b[0m         \u001b[0;32mif\u001b[0m \u001b[0mos\u001b[0m\u001b[0;34m.\u001b[0m\u001b[0mpath\u001b[0m\u001b[0;34m.\u001b[0m\u001b[0mexists\u001b[0m\u001b[0;34m(\u001b[0m\u001b[0mreal_dst\u001b[0m\u001b[0;34m)\u001b[0m\u001b[0;34m:\u001b[0m\u001b[0;34m\u001b[0m\u001b[0;34m\u001b[0m\u001b[0m\n\u001b[0;32m--> 804\u001b[0;31m             \u001b[0;32mraise\u001b[0m \u001b[0mError\u001b[0m\u001b[0;34m(\u001b[0m\u001b[0;34m\"Destination path '%s' already exists\"\u001b[0m \u001b[0;34m%\u001b[0m \u001b[0mreal_dst\u001b[0m\u001b[0;34m)\u001b[0m\u001b[0;34m\u001b[0m\u001b[0;34m\u001b[0m\u001b[0m\n\u001b[0m\u001b[1;32m    805\u001b[0m     \u001b[0;32mtry\u001b[0m\u001b[0;34m:\u001b[0m\u001b[0;34m\u001b[0m\u001b[0;34m\u001b[0m\u001b[0m\n\u001b[1;32m    806\u001b[0m         \u001b[0mos\u001b[0m\u001b[0;34m.\u001b[0m\u001b[0mrename\u001b[0m\u001b[0;34m(\u001b[0m\u001b[0msrc\u001b[0m\u001b[0;34m,\u001b[0m \u001b[0mreal_dst\u001b[0m\u001b[0;34m)\u001b[0m\u001b[0;34m\u001b[0m\u001b[0;34m\u001b[0m\u001b[0m\n",
      "\u001b[0;31mError\u001b[0m: Destination path '../new.yaml' already exists"
     ]
    }
   ],
   "source": [
    "# shutil, used for copy/rename/remove files/directories\n",
    "import shutil \n",
    "\n",
    "shutil.copyfile('example.yaml', 'new.yaml')\n",
    "shutil.move('new.yaml', '../')"
   ]
  },
  {
   "cell_type": "markdown",
   "id": "20865486",
   "metadata": {},
   "source": [
    "### important built_in functions in Python (lambda, filter, map, reduce)"
   ]
  },
  {
   "cell_type": "code",
   "execution_count": null,
   "id": "8d3ed5d3",
   "metadata": {},
   "outputs": [],
   "source": [
    "# lambda: define a function without name\n",
    "\n",
    "# lambda arg1, arg2, arg3:expression\n",
    "\n",
    "def multiplication(a,b,c,d):\n",
    "    return a*b*c*d\n",
    "\n",
    "f = lambda a,b,c,d:a*b*c*d  # f points to an anoynoumous function\n",
    "print(f)\n",
    "print(f(1,2,3,4))\n"
   ]
  },
  {
   "cell_type": "code",
   "execution_count": null,
   "id": "f6bf4817",
   "metadata": {},
   "outputs": [],
   "source": [
    "# use lambda with sorted() function\n",
    "# sorted(iterable, key=None, reverse=False). https://docs.python.org/3/library/functions.html#sorted\n",
    "\n",
    "a = [('b', 4), ('a', 5), ('d', 7), ('h', 6), ('j', 3)]\n",
    "sorted_a = sorted(a, key=lambda x:x[1], reverse=True)\n",
    "print(sorted_a)"
   ]
  },
  {
   "cell_type": "code",
   "execution_count": null,
   "id": "18b76b57",
   "metadata": {},
   "outputs": [],
   "source": [
    "# filter(): filter elements in an iterable object   \n",
    "# input:  a judgement function and an iterable object\n",
    "# output: an iterator\n",
    "\n",
    "def is_even(n): \n",
    "    return n % 2 == 0\n",
    "\n",
    "output = filter(is_even, range(10))   # return an iterator\n",
    "print(list(output))"
   ]
  },
  {
   "cell_type": "code",
   "execution_count": null,
   "id": "b58982ed",
   "metadata": {},
   "outputs": [],
   "source": [
    "# recall iterator\n",
    "\n",
    "#for i in range(4):\n",
    "#    print(i)\n",
    "    \n",
    "it = iter(range(4))  # create an iterator\n",
    "\n",
    "while True:\n",
    "    try:\n",
    "        print(it.__next__())   # use __next__() to get the next value\n",
    "    except StopIteration:\n",
    "        pass\n"
   ]
  },
  {
   "cell_type": "code",
   "execution_count": null,
   "id": "bf42d12f",
   "metadata": {},
   "outputs": [],
   "source": [
    "# map(): apply a function for each element in an iterable object   \n",
    "# input:  a function and an iterable object\n",
    "# output: an iterator\n",
    "\n",
    "iterator = map(lambda x:x**2, [1,2,3,4,5])\n",
    "print(list(iterator))"
   ]
  },
  {
   "cell_type": "code",
   "execution_count": null,
   "id": "8308bb65",
   "metadata": {},
   "outputs": [],
   "source": [
    "# reduce(f, [x1, x2, x3, x4]) = f(f(f(x1, x2), x3), x4)  accumulate...\n",
    "\n",
    "from functools import reduce\n",
    "\n",
    "def fn(x, y):\n",
    "    return x*10 + y\n",
    "\n",
    "reduce(fn, [1,3,5,7,9])"
   ]
  },
  {
   "cell_type": "code",
   "execution_count": null,
   "id": "5a63a9d0",
   "metadata": {},
   "outputs": [],
   "source": [
    "# calculate 5! + 4! + 3! + 2! + 1! \n",
    "from functools import reduce\n",
    "\n",
    "a = [5, 4, 3, 2, 1]\n",
    "\n",
    "def factorial(n):   # n!\n",
    "    if n == 1:\n",
    "        return n\n",
    "    else:\n",
    "        return reduce(lambda x,y:x*y, range(1, n+1))   # 1*2, (1*2)*3, ((1*2)*3)*4, .....\n",
    "\n",
    "print(reduce(lambda x,y:x+y, map(factorial, a)))\n"
   ]
  },
  {
   "cell_type": "markdown",
   "id": "7670b428",
   "metadata": {},
   "source": [
    "### numpy and scipy for scientific computing"
   ]
  },
  {
   "cell_type": "code",
   "execution_count": null,
   "id": "855fa95f",
   "metadata": {},
   "outputs": [],
   "source": [
    "import numpy as np\n",
    "\n",
    "data = np.array([1,2,3])  # 1-d array\n",
    "print(type(data))"
   ]
  },
  {
   "cell_type": "code",
   "execution_count": null,
   "id": "91f409e7",
   "metadata": {},
   "outputs": [],
   "source": [
    "data_2d = np.array([[1,2,3],[4,5,6],[7,8,9]])\n",
    "print(data_2d.shape)"
   ]
  },
  {
   "cell_type": "code",
   "execution_count": null,
   "id": "130a0ea6",
   "metadata": {},
   "outputs": [],
   "source": [
    "## array creation \n",
    "\n",
    "data = np.array([1,2,3,4])  # create from a python list\n",
    "# or \n",
    "\n",
    "a_list = [1,2,3,4]\n",
    "print(np.asarray(a_list), type(np.asarray(a_list)))\n"
   ]
  },
  {
   "cell_type": "code",
   "execution_count": null,
   "id": "766d3577",
   "metadata": {},
   "outputs": [],
   "source": [
    "# creat an array of ones\n",
    "\n",
    "data = np.ones((2,3), dtype=np.uint8)\n",
    "print(data)\n",
    "data = data.astype(np.int16)\n",
    "print(data.dtype)"
   ]
  },
  {
   "cell_type": "code",
   "execution_count": null,
   "id": "2b1cffec",
   "metadata": {},
   "outputs": [],
   "source": [
    "# create an array of integers \n",
    "\n",
    "array_integer = np.arange(1, 10)\n",
    "print(array_integer)"
   ]
  },
  {
   "cell_type": "code",
   "execution_count": null,
   "id": "a8dd46e2",
   "metadata": {},
   "outputs": [],
   "source": [
    "# create a random array\n",
    "data = np.random.rand(2,3)\n",
    "print(data)"
   ]
  },
  {
   "cell_type": "code",
   "execution_count": null,
   "id": "5e9de5d7",
   "metadata": {},
   "outputs": [],
   "source": [
    "# matrix element-wise multiplication \n",
    "\n",
    "matrix1 = np.random.rand(2,3)\n",
    "matrix2 = np.random.rand(2,3)\n",
    "output_1 = matrix1 * matrix2\n",
    "print(output_1)"
   ]
  },
  {
   "cell_type": "code",
   "execution_count": null,
   "id": "59ecd4f8",
   "metadata": {},
   "outputs": [],
   "source": [
    "# matrix dot product / inner product \n",
    "\n",
    "output_2 = np.dot(matrix1, matrix2.transpose())\n",
    "print(output_2)"
   ]
  },
  {
   "cell_type": "code",
   "execution_count": null,
   "id": "bbc175bb",
   "metadata": {},
   "outputs": [],
   "source": [
    "# indexing, slicing....\n",
    "# can apply on N-dimention\n",
    "\n",
    "print(output_1[1,1:])"
   ]
  },
  {
   "cell_type": "markdown",
   "id": "da0d1e2e",
   "metadata": {},
   "source": [
    "### matplotlib"
   ]
  },
  {
   "cell_type": "code",
   "execution_count": 3,
   "id": "49567786",
   "metadata": {},
   "outputs": [
    {
     "data": {
      "image/png": "[encoded data removed]",
      "text/plain": [
       "<Figure size 432x288 with 1 Axes>"
      ]
     },
     "metadata": {
      "needs_background": "light"
     },
     "output_type": "display_data"
    }
   ],
   "source": [
    "from matplotlib import pyplot as plt\n",
    "\n",
    "x = [1, 2, 3, 4]\n",
    "y = [1, 4, 9, 16]\n",
    "plt.plot(x, y)  # by default, plot a line\n",
    "plt.show()  # show the figure"
   ]
  },
  {
   "cell_type": "code",
   "execution_count": 4,
   "id": "30ef1a9e",
   "metadata": {},
   "outputs": [
    {
     "data": {
      "image/png": "[encoded data removed]",
      "text/plain": [
       "<Figure size 288x288 with 4 Axes>"
      ]
     },
     "metadata": {
      "needs_background": "light"
     },
     "output_type": "display_data"
    }
   ],
   "source": [
    "# plot subfigures\n",
    "\n",
    "fig=plt.figure(num=1,figsize=(4,4))\n",
    "ax1=fig.add_subplot(221) \n",
    "ax1.plot([1,2,3,4],[1,2,3,4])   \n",
    "ax2=fig.add_subplot(222)\n",
    "ax2.plot([1,2,3,4],[2,2,3,4])\n",
    "ax3=fig.add_subplot(223)\n",
    "ax3.plot([1,2,3,4],[1,2,2,4])\n",
    "ax4=fig.add_subplot(224)\n",
    "ax4.plot([1,2,3,4],[1,2,3,3])\n",
    "\n",
    "plt.show()"
   ]
  },
  {
   "cell_type": "code",
   "execution_count": 3,
   "id": "da8637b4",
   "metadata": {},
   "outputs": [
    {
     "data": {
      "image/png": "[encoded data removed]",
      "text/plain": [
       "<Figure size 432x432 with 1 Axes>"
      ]
     },
     "metadata": {
      "needs_background": "light"
     },
     "output_type": "display_data"
    }
   ],
   "source": [
    "## a complete example \n",
    "\n",
    "import matplotlib.pyplot as plt\n",
    "import numpy as np\n",
    "\n",
    "fulltime=[15,17,14,14,16,12,12]  \n",
    "parttime=[8,6,7,11,12,5,6]\n",
    "\n",
    "\n",
    "x=np.arange(1,8)\n",
    "fig=plt.figure(num=1,figsize=(6,6))\n",
    "\n",
    "\n",
    "ax=fig.add_subplot(111)   # only 1 figure\n",
    "ax.plot(x,fulltime,\"r-.d\",label=\"full-time\") \n",
    "ax.plot(x,parttime,\"c-d\",label=\"part-time\")\n",
    "\n",
    "\n",
    "ax.spines['right'].set_visible(False)  # remove the right edge\n",
    "ax.spines['top'].set_visible(False)  # remove the top edge\n",
    "\n",
    "\n",
    "ax.set_xlim([1,7.1])     # set the range of x-axis\n",
    "ax.set_ylim([0,20])      # set the range of y-axis\n",
    "\n",
    "\n",
    "ax.set_xticks(np.linspace(1,7,7))      \n",
    "ax.set_yticks(np.linspace(0,20,5))   # set the ticks, 5 points\n",
    "\n",
    "ax.set_xticklabels(['Monday','Tuesday','Wednesday','Thursday','Friday','Saturday','Sunday'])\n",
    "\n",
    "ax.set_ylabel('Working hours',fontsize=16)   # set the label of y-axis\n",
    "\n",
    "ax.set_title('Work load distribution',fontsize=18)  #  set the title\n",
    "\n",
    "#ax.legend(loc=3,labelspacing=1,handlelength=3,fontsize=14,shadow=True)  # create legend\n",
    "ax.legend()\n",
    "\n",
    "plt.show()\n"
   ]
  },
  {
   "cell_type": "code",
   "execution_count": 4,
   "id": "fefe5f18",
   "metadata": {},
   "outputs": [
    {
     "name": "stdout",
     "output_type": "stream",
     "text": [
      "      red_wine  white_wine\n",
      "1998         1           3\n",
      "1999         1           2\n",
      "2000         2           0\n"
     ]
    }
   ],
   "source": [
    "import pandas as pd\n",
    "nested_dict = {'red_wine': {1998:1, 1999:1, 2000:2},\n",
    "   'white_wine': {1998:3, 1999:2, 2000:0}}\n",
    "df = pd.DataFrame(nested_dict)\n",
    "print(df)"
   ]
  },
  {
   "cell_type": "code",
   "execution_count": 5,
   "id": "2b2c4624",
   "metadata": {},
   "outputs": [
    {
     "name": "stdout",
     "output_type": "stream",
     "text": [
      "      red_wine  white_wine\n",
      "1998         1           3\n"
     ]
    }
   ],
   "source": [
    "print(df[0:1])"
   ]
  },
  {
   "cell_type": "code",
   "execution_count": 6,
   "id": "4a1030f2",
   "metadata": {},
   "outputs": [
    {
     "name": "stdout",
     "output_type": "stream",
     "text": [
      "      red_wine  white_wine\n",
      "1998         1           3\n"
     ]
    }
   ],
   "source": [
    "print(df.iloc[[0]])"
   ]
  }
 ],
 "metadata": {
  "kernelspec": {
   "display_name": "Python 3",
   "language": "python",
   "name": "python3"
  },
  "language_info": {
   "codemirror_mode": {
    "name": "ipython",
    "version": 3
   },
   "file_extension": ".py",
   "mimetype": "text/x-python",
   "name": "python",
   "nbconvert_exporter": "python",
   "pygments_lexer": "ipython3",
   "version": "3.8.8"
  }
 },
 "nbformat": 4,
 "nbformat_minor": 5
}
