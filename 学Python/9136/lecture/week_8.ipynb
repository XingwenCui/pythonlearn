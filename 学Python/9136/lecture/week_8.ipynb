{
 "cells": [
  {
   "cell_type": "markdown",
   "id": "4b2e969e",
   "metadata": {},
   "source": [
    "### file operations"
   ]
  },
  {
   "cell_type": "code",
   "execution_count": 3,
   "id": "5a9a31fb",
   "metadata": {},
   "outputs": [
    {
     "ename": "FileNotFoundError",
     "evalue": "[Errno 2] No such file or directory: 'textfile.txt'",
     "output_type": "error",
     "traceback": [
      "\u001b[1;31m---------------------------------------------------------------------------\u001b[0m",
      "\u001b[1;31mFileNotFoundError\u001b[0m                         Traceback (most recent call last)",
      "\u001b[1;32m<ipython-input-3-29a524f8e8d1>\u001b[0m in \u001b[0;36m<module>\u001b[1;34m\u001b[0m\n\u001b[1;32m----> 1\u001b[1;33m \u001b[0mfile\u001b[0m \u001b[1;33m=\u001b[0m \u001b[0mopen\u001b[0m\u001b[1;33m(\u001b[0m\u001b[1;34m'textfile.txt'\u001b[0m\u001b[1;33m,\u001b[0m \u001b[1;34m'r'\u001b[0m\u001b[1;33m)\u001b[0m\u001b[1;33m\u001b[0m\u001b[1;33m\u001b[0m\u001b[0m\n\u001b[0m\u001b[0;32m      2\u001b[0m \u001b[0mprint\u001b[0m\u001b[1;33m(\u001b[0m\u001b[0mfile\u001b[0m\u001b[1;33m.\u001b[0m\u001b[0mreadline\u001b[0m\u001b[1;33m(\u001b[0m\u001b[1;33m)\u001b[0m\u001b[1;33m)\u001b[0m\u001b[1;33m\u001b[0m\u001b[1;33m\u001b[0m\u001b[0m\n\u001b[0;32m      3\u001b[0m \u001b[0mprint\u001b[0m\u001b[1;33m(\u001b[0m\u001b[0mfile\u001b[0m\u001b[1;33m.\u001b[0m\u001b[0mreadline\u001b[0m\u001b[1;33m(\u001b[0m\u001b[1;33m)\u001b[0m\u001b[1;33m)\u001b[0m\u001b[1;33m\u001b[0m\u001b[1;33m\u001b[0m\u001b[0m\n",
      "\u001b[1;31mFileNotFoundError\u001b[0m: [Errno 2] No such file or directory: 'textfile.txt'"
     ]
    }
   ],
   "source": [
    "file = open('textfile.txt', 'r')\n",
    "print(file.readline())\n",
    "print(file.readline())"
   ]
  },
  {
   "cell_type": "code",
   "execution_count": 7,
   "id": "d706704d",
   "metadata": {},
   "outputs": [
    {
     "name": "stdout",
     "output_type": "stream",
     "text": [
      "TV\n",
      "\n",
      "1. Spider-Man\n",
      "\n",
      "2. Spider-Man Strikes Back\n",
      "\n",
      "3. Spider-Man: The Dragon's Challenge\n",
      "\n",
      "Film\n",
      "\n",
      "4. Spider-Man\n",
      "\n",
      "5. Spider-Man 2\n",
      "\n",
      "6. Spider-Man 3\n",
      "\n",
      "7. The Amazing Spider-Man\n",
      "\n",
      "8. The Amazing Spider-Man 2\n",
      "\n",
      "9. Spider-Man: Homecoming\n",
      "\n",
      "10. Spider-Man: Far From Home\n",
      "\n",
      "11. Spider-Man: No Way Home\n"
     ]
    }
   ],
   "source": [
    "file = open('textfile.txt', 'r')\n",
    "while True:\n",
    "    a = file.readline()\n",
    "    if a:\n",
    "        print(a)\n",
    "    else:\n",
    "        break"
   ]
  },
  {
   "cell_type": "code",
   "execution_count": 14,
   "id": "eda7d513",
   "metadata": {},
   "outputs": [
    {
     "name": "stdout",
     "output_type": "stream",
     "text": [
      "['TV\\n', '1. Spider-Man\\n', '2. Spider-Man Strikes Back\\n', \"3. Spider-Man: The Dragon's Challenge\\n\", 'Film\\n', '4. Spider-Man\\n', '5. Spider-Man 2\\n', '6. Spider-Man 3\\n', '7. The Amazing Spider-Man\\n', '8. The Amazing Spider-Man 2\\n', '9. Spider-Man: Homecoming\\n', '10. Spider-Man: Far From Home\\n', '11. Spider-Man: No Way Home']\n"
     ]
    }
   ],
   "source": [
    "file = open('textfile.txt', 'r')\n",
    "print(file.readlines())"
   ]
  },
  {
   "cell_type": "code",
   "execution_count": 15,
   "id": "bd9afada",
   "metadata": {},
   "outputs": [
    {
     "name": "stdout",
     "output_type": "stream",
     "text": [
      "TV\n",
      "1. Spider-Man\n",
      "2. Spider-Man Strikes Back\n",
      "3. Spider-Man: The Dragon's Challenge\n",
      "Film\n",
      "4. Spider-Man\n",
      "5. Spider-Man 2\n",
      "6. Spider-Man 3\n",
      "7. The Amazing Spider-Man\n",
      "8. The Amazing Spider-Man 2\n",
      "9. Spider-Man: Homecoming\n",
      "10. Spider-Man: Far From Home\n",
      "11. Spider-Man: No Way Home\n",
      "['TV', '1. Spider-Man', '2. Spider-Man Strikes Back', \"3. Spider-Man: The Dragon's Challenge\", 'Film', '4. Spider-Man', '5. Spider-Man 2', '6. Spider-Man 3', '7. The Amazing Spider-Man', '8. The Amazing Spider-Man 2', '9. Spider-Man: Homecoming', '10. Spider-Man: Far From Home', '11. Spider-Man: No Way Home']\n"
     ]
    }
   ],
   "source": [
    "file = open('textfile.txt', 'r')\n",
    "content = file.readlines()\n",
    "result = []\n",
    "for line in content:\n",
    "    line = line.strip('\\n')   # remove the newline\n",
    "    print(line)\n",
    "    result.append(line)\n",
    "print(result)"
   ]
  },
  {
   "cell_type": "code",
   "execution_count": 17,
   "id": "0e571d72",
   "metadata": {},
   "outputs": [
    {
     "name": "stdout",
     "output_type": "stream",
     "text": [
      "TV\n",
      "1. Spider-Man\n",
      "2. Spider-Man Strikes Back\n",
      "3. Spider-Man: The Dragon's Challenge\n",
      "Film\n",
      "4. Spider-Man\n",
      "5. Spider-Man 2\n",
      "6. Spider-Man 3\n",
      "7. The Amazing Spider-Man\n",
      "8. The Amazing Spider-Man 2\n",
      "9. Spider-Man: Homecoming\n",
      "10. Spider-Man: Far From Home\n",
      "11. Spider-Man: No Way Home\n"
     ]
    }
   ],
   "source": [
    "file = open('textfile.txt', 'r')\n",
    "print(file.read())   "
   ]
  },
  {
   "cell_type": "code",
   "execution_count": 2,
   "id": "8ecbd7e9",
   "metadata": {},
   "outputs": [
    {
     "ename": "FileNotFoundError",
     "evalue": "[Errno 2] No such file or directory: 'textfile.txt'",
     "output_type": "error",
     "traceback": [
      "\u001b[1;31m---------------------------------------------------------------------------\u001b[0m",
      "\u001b[1;31mFileNotFoundError\u001b[0m                         Traceback (most recent call last)",
      "\u001b[1;32m<ipython-input-2-4bbd14a4b310>\u001b[0m in \u001b[0;36m<module>\u001b[1;34m\u001b[0m\n\u001b[0;32m      1\u001b[0m \u001b[0mcontent\u001b[0m \u001b[1;33m=\u001b[0m \u001b[1;33m[\u001b[0m\u001b[1;33m]\u001b[0m\u001b[1;33m\u001b[0m\u001b[1;33m\u001b[0m\u001b[0m\n\u001b[1;32m----> 2\u001b[1;33m \u001b[1;32mwith\u001b[0m \u001b[0mopen\u001b[0m\u001b[1;33m(\u001b[0m\u001b[1;34m'textfile.txt'\u001b[0m\u001b[1;33m,\u001b[0m \u001b[1;34m'r'\u001b[0m\u001b[1;33m)\u001b[0m \u001b[1;32mas\u001b[0m \u001b[0minfile\u001b[0m\u001b[1;33m:\u001b[0m\u001b[1;33m\u001b[0m\u001b[1;33m\u001b[0m\u001b[0m\n\u001b[0m\u001b[0;32m      3\u001b[0m     \u001b[1;32mfor\u001b[0m \u001b[0mline\u001b[0m \u001b[1;32min\u001b[0m \u001b[0minfile\u001b[0m\u001b[1;33m:\u001b[0m\u001b[1;33m\u001b[0m\u001b[1;33m\u001b[0m\u001b[0m\n\u001b[0;32m      4\u001b[0m         \u001b[0mline\u001b[0m \u001b[1;33m=\u001b[0m \u001b[0mline\u001b[0m\u001b[1;33m.\u001b[0m\u001b[0mstrip\u001b[0m\u001b[1;33m(\u001b[0m\u001b[1;34m'\\n'\u001b[0m\u001b[1;33m)\u001b[0m \u001b[1;31m# remove the newline character\u001b[0m\u001b[1;33m\u001b[0m\u001b[1;33m\u001b[0m\u001b[0m\n\u001b[0;32m      5\u001b[0m         \u001b[0mprint\u001b[0m\u001b[1;33m(\u001b[0m\u001b[0mline\u001b[0m\u001b[1;33m)\u001b[0m\u001b[1;33m\u001b[0m\u001b[1;33m\u001b[0m\u001b[0m\n",
      "\u001b[1;31mFileNotFoundError\u001b[0m: [Errno 2] No such file or directory: 'textfile.txt'"
     ]
    }
   ],
   "source": [
    "content = []\n",
    "with open('textfile.txt', 'r') as infile:\n",
    "    for line in infile:\n",
    "        line = line.strip('\\n') # remove the newline character\n",
    "        print(line)\n",
    "        content.append(line)\n",
    "print(content)"
   ]
  },
  {
   "cell_type": "code",
   "execution_count": 1,
   "id": "acb0ed51",
   "metadata": {},
   "outputs": [
    {
     "ename": "NameError",
     "evalue": "name 'content' is not defined",
     "output_type": "error",
     "traceback": [
      "\u001b[1;31m---------------------------------------------------------------------------\u001b[0m",
      "\u001b[1;31mNameError\u001b[0m                                 Traceback (most recent call last)",
      "\u001b[1;32m<ipython-input-1-f67b001b3f10>\u001b[0m in \u001b[0;36m<module>\u001b[1;34m\u001b[0m\n\u001b[0;32m      1\u001b[0m \u001b[0mwrite_file\u001b[0m \u001b[1;33m=\u001b[0m \u001b[0mopen\u001b[0m\u001b[1;33m(\u001b[0m\u001b[1;34m\"demo.txt\"\u001b[0m\u001b[1;33m,\u001b[0m \u001b[1;34m\"w\"\u001b[0m\u001b[1;33m)\u001b[0m\u001b[1;33m\u001b[0m\u001b[1;33m\u001b[0m\u001b[0m\n\u001b[1;32m----> 2\u001b[1;33m \u001b[1;32mfor\u001b[0m \u001b[0mi\u001b[0m \u001b[1;32min\u001b[0m \u001b[0mcontent\u001b[0m\u001b[1;33m:\u001b[0m\u001b[1;33m\u001b[0m\u001b[1;33m\u001b[0m\u001b[0m\n\u001b[0m\u001b[0;32m      3\u001b[0m     \u001b[0mwrite_file\u001b[0m\u001b[1;33m.\u001b[0m\u001b[0mwrite\u001b[0m\u001b[1;33m(\u001b[0m\u001b[0mi\u001b[0m \u001b[1;33m+\u001b[0m \u001b[1;34m'\\n'\u001b[0m\u001b[1;33m)\u001b[0m\u001b[1;33m\u001b[0m\u001b[1;33m\u001b[0m\u001b[0m\n\u001b[0;32m      4\u001b[0m \u001b[0mwrite_file\u001b[0m\u001b[1;33m.\u001b[0m\u001b[0mclose\u001b[0m\u001b[1;33m(\u001b[0m\u001b[1;33m)\u001b[0m\u001b[1;33m\u001b[0m\u001b[1;33m\u001b[0m\u001b[0m\n",
      "\u001b[1;31mNameError\u001b[0m: name 'content' is not defined"
     ]
    }
   ],
   "source": [
    "write_file = open(\"demo.txt\", \"w\")\n",
    "for i in content:\n",
    "    write_file.write(i + '\\n')\n",
    "write_file.close()"
   ]
  },
  {
   "cell_type": "code",
   "execution_count": 2,
   "id": "9b832e2a",
   "metadata": {},
   "outputs": [],
   "source": [
    "import os   # file/directory operation in python"
   ]
  },
  {
   "cell_type": "code",
   "execution_count": 8,
   "id": "6921026d",
   "metadata": {},
   "outputs": [
    {
     "data": {
      "text/plain": [
       "'C:\\\\Users\\\\cxw\\\\学Python\\\\9136\\\\lecture'"
      ]
     },
     "execution_count": 8,
     "metadata": {},
     "output_type": "execute_result"
    }
   ],
   "source": [
    "os.getcwd()   # check my current directory"
   ]
  },
  {
   "cell_type": "code",
   "execution_count": 12,
   "id": "b965d3f8",
   "metadata": {},
   "outputs": [
    {
     "data": {
      "text/plain": [
       "['.ipynb_checkpoints',\n",
       " 'arg_exp.py',\n",
       " 'demo',\n",
       " 'example.txt',\n",
       " 'example.yaml',\n",
       " 'list.txt',\n",
       " 'query_list.txt',\n",
       " 'test.py',\n",
       " 'week4_demo.ipynb',\n",
       " 'week_6.ipynb',\n",
       " 'week_8.ipynb',\n",
       " 'week_9.ipynb']"
      ]
     },
     "execution_count": 12,
     "metadata": {},
     "output_type": "execute_result"
    }
   ],
   "source": [
    "os.listdir()"
   ]
  },
  {
   "cell_type": "code",
   "execution_count": 6,
   "id": "203d6faa",
   "metadata": {},
   "outputs": [
    {
     "ename": "FileExistsError",
     "evalue": "[WinError 183] 当文件已存在时，无法创建该文件。: './demo'",
     "output_type": "error",
     "traceback": [
      "\u001b[1;31m---------------------------------------------------------------------------\u001b[0m",
      "\u001b[1;31mFileExistsError\u001b[0m                           Traceback (most recent call last)",
      "\u001b[1;32m<ipython-input-6-e6a399f10c37>\u001b[0m in \u001b[0;36m<module>\u001b[1;34m\u001b[0m\n\u001b[1;32m----> 1\u001b[1;33m \u001b[0mos\u001b[0m\u001b[1;33m.\u001b[0m\u001b[0mmkdir\u001b[0m\u001b[1;33m(\u001b[0m\u001b[1;34m'./demo'\u001b[0m\u001b[1;33m)\u001b[0m  \u001b[1;31m# relative directory (add a subdirectory); if the directory already exists, throws error\u001b[0m\u001b[1;33m\u001b[0m\u001b[1;33m\u001b[0m\u001b[0m\n\u001b[0m",
      "\u001b[1;31mFileExistsError\u001b[0m: [WinError 183] 当文件已存在时，无法创建该文件。: './demo'"
     ]
    }
   ],
   "source": [
    "os.mkdir('./demo')  # relative directory (add a subdirectory); if the directory already exists, throws error"
   ]
  },
  {
   "cell_type": "code",
   "execution_count": 24,
   "id": "f2a1c5c0",
   "metadata": {},
   "outputs": [],
   "source": [
    "# how to avoid the duplicated directory error?"
   ]
  },
  {
   "cell_type": "code",
   "execution_count": 7,
   "id": "3e15271d",
   "metadata": {},
   "outputs": [],
   "source": [
    "if not os.path.isdir('./demo'):   # check whether the dir exists\n",
    "    os.mkdir('./demo')"
   ]
  },
  {
   "cell_type": "code",
   "execution_count": 26,
   "id": "ff8ad965",
   "metadata": {},
   "outputs": [
    {
     "ename": "FileNotFoundError",
     "evalue": "[WinError 3] 系统找不到指定的路径。: '/Users/bzhu0012/Documents/FIT9136'",
     "output_type": "error",
     "traceback": [
      "\u001b[1;31m---------------------------------------------------------------------------\u001b[0m",
      "\u001b[1;31mFileNotFoundError\u001b[0m                         Traceback (most recent call last)",
      "\u001b[1;32m<ipython-input-26-44da3b3dee1b>\u001b[0m in \u001b[0;36m<module>\u001b[1;34m\u001b[0m\n\u001b[0;32m      1\u001b[0m \u001b[1;31m# change my current working directory\u001b[0m\u001b[1;33m\u001b[0m\u001b[1;33m\u001b[0m\u001b[1;33m\u001b[0m\u001b[0m\n\u001b[1;32m----> 2\u001b[1;33m \u001b[0mos\u001b[0m\u001b[1;33m.\u001b[0m\u001b[0mchdir\u001b[0m\u001b[1;33m(\u001b[0m\u001b[1;34m'/Users/bzhu0012/Documents/FIT9136'\u001b[0m\u001b[1;33m)\u001b[0m\u001b[1;33m\u001b[0m\u001b[1;33m\u001b[0m\u001b[0m\n\u001b[0m",
      "\u001b[1;31mFileNotFoundError\u001b[0m: [WinError 3] 系统找不到指定的路径。: '/Users/bzhu0012/Documents/FIT9136'"
     ]
    }
   ],
   "source": [
    "# change my current working directory\n",
    "os.chdir('/Users/bzhu0012/Documents/FIT9136')"
   ]
  },
  {
   "cell_type": "code",
   "execution_count": null,
   "id": "a08d8df6",
   "metadata": {},
   "outputs": [],
   "source": [
    "# Another way to interact with the operating system: executing a shell command in python"
   ]
  },
  {
   "cell_type": "code",
   "execution_count": 1,
   "id": "45d080f4",
   "metadata": {},
   "outputs": [
    {
     "name": "stderr",
     "output_type": "stream",
     "text": [
      "'ls' 不是内部或外部命令，也不是可运行的程序\n",
      "或批处理文件。\n"
     ]
    }
   ],
   "source": [
    "!ls      # in ipython, ! + shell command"
   ]
  },
  {
   "cell_type": "code",
   "execution_count": 1,
   "id": "91acf710",
   "metadata": {},
   "outputs": [],
   "source": [
    "import subprocess    # use subprocess module"
   ]
  },
  {
   "cell_type": "code",
   "execution_count": null,
   "id": "6eb2cab5",
   "metadata": {},
   "outputs": [],
   "source": [
    "p=subprocess.Popen(\"mkdir extractions\", shell=True)   # use subprocess module for calling shell command lines"
   ]
  },
  {
   "cell_type": "code",
   "execution_count": 5,
   "id": "7c27a5b2",
   "metadata": {},
   "outputs": [],
   "source": [
    "p=subprocess.call(['sh', './crawler.sh', 'google', '10'])    # call external shell script"
   ]
  },
  {
   "cell_type": "markdown",
   "id": "af2a9791",
   "metadata": {},
   "source": [
    "### debugging"
   ]
  },
  {
   "cell_type": "code",
   "execution_count": 1,
   "id": "1e036aa7",
   "metadata": {},
   "outputs": [],
   "source": [
    "def myadd(x, y):\n",
    "    if x<y:\n",
    "        return x+y\n",
    "    else:\n",
    "        print('x has to be smaller than y')\n",
    "    print('program done')"
   ]
  },
  {
   "cell_type": "code",
   "execution_count": 2,
   "id": "f575c084",
   "metadata": {},
   "outputs": [
    {
     "name": "stdout",
     "output_type": "stream",
     "text": [
      "x has to be smaller than y\n",
      "program done\n"
     ]
    }
   ],
   "source": [
    "myadd(3,2)  # this is a form of error handling"
   ]
  },
  {
   "cell_type": "code",
   "execution_count": 3,
   "id": "1a36b752",
   "metadata": {},
   "outputs": [],
   "source": [
    "def myadd(x, y):\n",
    "    assert x<y, 'x has to be smaller than y'\n",
    "    return x+y\n",
    "    print('program done')"
   ]
  },
  {
   "cell_type": "code",
   "execution_count": 4,
   "id": "39498b46",
   "metadata": {},
   "outputs": [
    {
     "ename": "AssertionError",
     "evalue": "x has to be smaller than y",
     "output_type": "error",
     "traceback": [
      "\u001b[1;31m---------------------------------------------------------------------------\u001b[0m",
      "\u001b[1;31mAssertionError\u001b[0m                            Traceback (most recent call last)",
      "\u001b[1;32m<ipython-input-4-e3df7b742b25>\u001b[0m in \u001b[0;36m<module>\u001b[1;34m\u001b[0m\n\u001b[1;32m----> 1\u001b[1;33m \u001b[0mmyadd\u001b[0m\u001b[1;33m(\u001b[0m\u001b[1;36m3\u001b[0m\u001b[1;33m,\u001b[0m\u001b[1;36m2\u001b[0m\u001b[1;33m)\u001b[0m   \u001b[1;31m# error handling using assert statement\u001b[0m\u001b[1;33m\u001b[0m\u001b[1;33m\u001b[0m\u001b[0m\n\u001b[0m",
      "\u001b[1;32m<ipython-input-3-02ad6d96cc36>\u001b[0m in \u001b[0;36mmyadd\u001b[1;34m(x, y)\u001b[0m\n\u001b[0;32m      1\u001b[0m \u001b[1;32mdef\u001b[0m \u001b[0mmyadd\u001b[0m\u001b[1;33m(\u001b[0m\u001b[0mx\u001b[0m\u001b[1;33m,\u001b[0m \u001b[0my\u001b[0m\u001b[1;33m)\u001b[0m\u001b[1;33m:\u001b[0m\u001b[1;33m\u001b[0m\u001b[1;33m\u001b[0m\u001b[0m\n\u001b[1;32m----> 2\u001b[1;33m     \u001b[1;32massert\u001b[0m \u001b[0mx\u001b[0m\u001b[1;33m<\u001b[0m\u001b[0my\u001b[0m\u001b[1;33m,\u001b[0m \u001b[1;34m'x has to be smaller than y'\u001b[0m\u001b[1;33m\u001b[0m\u001b[1;33m\u001b[0m\u001b[0m\n\u001b[0m\u001b[0;32m      3\u001b[0m     \u001b[1;32mreturn\u001b[0m \u001b[0mx\u001b[0m\u001b[1;33m+\u001b[0m\u001b[0my\u001b[0m\u001b[1;33m\u001b[0m\u001b[1;33m\u001b[0m\u001b[0m\n\u001b[0;32m      4\u001b[0m     \u001b[0mprint\u001b[0m\u001b[1;33m(\u001b[0m\u001b[1;34m'program done'\u001b[0m\u001b[1;33m)\u001b[0m\u001b[1;33m\u001b[0m\u001b[1;33m\u001b[0m\u001b[0m\n",
      "\u001b[1;31mAssertionError\u001b[0m: x has to be smaller than y"
     ]
    }
   ],
   "source": [
    "myadd(3,2)   # error handling using assert statement"
   ]
  },
  {
   "cell_type": "code",
   "execution_count": 5,
   "id": "ab049545",
   "metadata": {},
   "outputs": [
    {
     "name": "stderr",
     "output_type": "stream",
     "text": [
      ".\n",
      "----------------------------------------------------------------------\n",
      "Ran 1 test in 0.000s\n",
      "\n",
      "OK\n"
     ]
    }
   ],
   "source": [
    "import unittest\n",
    "\n",
    "def product_function(first_arg, second_arg):\n",
    "    result = first_arg * second_arg\n",
    "    return result\n",
    "\n",
    "class TestForFunction(unittest.TestCase):\n",
    "    def test_product_function(self):\n",
    "        self.assertEqual(product_function(2,3), 6)   # check equality\n",
    "\n",
    "if __name__ == '__main__':\n",
    "    unittest.main(argv=['first-arg-is-ignored'], exit=False)  # call unittest.main() to start testing"
   ]
  },
  {
   "cell_type": "code",
   "execution_count": 19,
   "id": "54e8d997",
   "metadata": {},
   "outputs": [
    {
     "name": "stderr",
     "output_type": "stream",
     "text": [
      "E\n",
      "======================================================================\n",
      "ERROR: test_product_function (__main__.TestForFunction)\n",
      "----------------------------------------------------------------------\n",
      "Traceback (most recent call last):\n",
      "  File \"<ipython-input-19-46fc01330aee>\", line 15, in test_product_function\n",
      "    self.assertIs(o1, o2)\n",
      "NameError: name 'o1' is not defined\n",
      "\n",
      "----------------------------------------------------------------------\n",
      "Ran 1 test in 0.002s\n",
      "\n",
      "FAILED (errors=1)\n"
     ]
    }
   ],
   "source": [
    "import unittest\n",
    "\n",
    "def product_function(first_arg, second_arg):\n",
    "    result = first_arg * second_arg\n",
    "    return result\n",
    "\n",
    "class Extra_Class:\n",
    "    x = 5\n",
    "\n",
    "class TestForFunction(unittest.TestCase):\n",
    "    def test_product_function(self):\n",
    "#        o1 = Extra_Class()\n",
    " #       o2 = Extra_Class()\n",
    "#        self.assertIs(product_function(2,3), 6)   # check whether arg1 and arg2 evaluated to the same object\n",
    "        self.assertIs(o1, o2)    \n",
    "\n",
    "if __name__ == '__main__':\n",
    "    unittest.main(argv=['first-arg-is-ignored'], exit=False)"
   ]
  },
  {
   "cell_type": "code",
   "execution_count": 20,
   "id": "a7e6f7b0",
   "metadata": {},
   "outputs": [
    {
     "name": "stderr",
     "output_type": "stream",
     "text": [
      ".\n",
      "----------------------------------------------------------------------\n",
      "Ran 1 test in 0.001s\n",
      "\n",
      "OK\n"
     ]
    }
   ],
   "source": [
    "import unittest\n",
    "\n",
    "def product_function(first_arg, second_arg):\n",
    "    result = first_arg * second_arg\n",
    "    return result\n",
    "\n",
    "class TestForFunction(unittest.TestCase):\n",
    "    def test_product_function(self):\n",
    "        self.assertTrue(product_function(2,3))   # check boolean(product_function(2,3)) == True?\n",
    "\n",
    "if __name__ == '__main__':\n",
    "    unittest.main(argv=['first-arg-is-ignored'], exit=False)  # call unittest.main()"
   ]
  },
  {
   "cell_type": "markdown",
   "id": "0877ed9b",
   "metadata": {},
   "source": [
    "### error handling"
   ]
  },
  {
   "cell_type": "code",
   "execution_count": 12,
   "id": "55fe6641",
   "metadata": {},
   "outputs": [
    {
     "name": "stdout",
     "output_type": "stream",
     "text": [
      "Cannot open another_input_file.txt\n",
      "Exiting file reading\n"
     ]
    }
   ],
   "source": [
    "file_name = 'another_input_file.txt'\n",
    "try: \n",
    "    file_handle = open(file_name, 'r')\n",
    "except FileNotFoundError:\n",
    "    print('Cannot open', file_name)\n",
    "except RuntimeError:\n",
    "    print('A run-time error has occurred')\n",
    "else:\n",
    "    print(file_name, 'has', len(file_handle.readlines()), 'lines')\n",
    "    file_handle.close()\n",
    "finally:\n",
    "    print('Exiting file reading')\n"
   ]
  }
 ],
 "metadata": {
  "kernelspec": {
   "display_name": "Python 3",
   "language": "python",
   "name": "python3"
  },
  "language_info": {
   "codemirror_mode": {
    "name": "ipython",
    "version": 3
   },
   "file_extension": ".py",
   "mimetype": "text/x-python",
   "name": "python",
   "nbconvert_exporter": "python",
   "pygments_lexer": "ipython3",
   "version": "3.8.8"
  }
 },
 "nbformat": 4,
 "nbformat_minor": 5
}
