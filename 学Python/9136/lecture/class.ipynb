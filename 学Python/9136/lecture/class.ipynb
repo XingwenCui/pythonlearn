{
 "cells": [
  {
   "cell_type": "markdown",
   "id": "7420a611",
   "metadata": {},
   "source": [
    "**Some empirical experience on when to use function or class**\n",
    "\n",
    "* When we have a bunch of functions that share states, or pass the same arguments to each function, we can reconsider the code usage class\n",
    "\n",
    "* Functions are very useful for small projects, but once the project starts to get bigger, just using functions can become messy. Classes are a very good way to organize and simplify code\n",
    "\n",
    "* Generally, if you want to call a self-defined function inside a function, you should consider writing a class. If we only have one function in a class, then please insist on writing only one function\n",
    "\n",
    "* If you need to preserve some states between function calls, it is best to use the class with this function as a method\n"
   ]
  },
  {
   "cell_type": "code",
   "execution_count": 2,
   "id": "7ab9149e",
   "metadata": {},
   "outputs": [],
   "source": [
    "class Point:\n",
    "    def __init__(self, x, y):   # constructor/initializer\n",
    "        self.x = x\n",
    "        self.y = y"
   ]
  },
  {
   "cell_type": "code",
   "execution_count": 3,
   "id": "c0725ca3",
   "metadata": {},
   "outputs": [],
   "source": [
    "point1 = Point(3, 4)    # creat an object of Class Point "
   ]
  },
  {
   "cell_type": "code",
   "execution_count": 4,
   "id": "5c814852",
   "metadata": {},
   "outputs": [
    {
     "name": "stdout",
     "output_type": "stream",
     "text": [
      "3\n",
      "4\n"
     ]
    }
   ],
   "source": [
    "print(point1.x)\n",
    "print(point1.y)"
   ]
  },
  {
   "cell_type": "code",
   "execution_count": 5,
   "id": "6b88e068",
   "metadata": {},
   "outputs": [
    {
     "data": {
      "text/plain": [
       "__main__.Point"
      ]
     },
     "execution_count": 5,
     "metadata": {},
     "output_type": "execute_result"
    }
   ],
   "source": [
    "type(point1)"
   ]
  },
  {
   "cell_type": "code",
   "execution_count": 6,
   "id": "c4586510",
   "metadata": {},
   "outputs": [
    {
     "name": "stdout",
     "output_type": "stream",
     "text": [
      "<__main__.Point object at 0x7f86692f5070>\n"
     ]
    }
   ],
   "source": [
    "print(point1)"
   ]
  },
  {
   "cell_type": "code",
   "execution_count": 7,
   "id": "5cbd3568",
   "metadata": {},
   "outputs": [],
   "source": [
    "class Point:\n",
    "    def __init__(self, x, y):   # constructor/initializer\n",
    "        self.x = x\n",
    "        self.y = y\n",
    "    def __str__(self):   # override the print() method\n",
    "        return 'The value of x is:' + str(self.x)\n",
    "        "
   ]
  },
  {
   "cell_type": "code",
   "execution_count": 8,
   "id": "7ecc9c5a",
   "metadata": {},
   "outputs": [],
   "source": [
    "point2 = Point(4, 5)"
   ]
  },
  {
   "cell_type": "code",
   "execution_count": 9,
   "id": "7b6d97a4",
   "metadata": {
    "scrolled": true
   },
   "outputs": [
    {
     "name": "stdout",
     "output_type": "stream",
     "text": [
      "The value of x is:4\n"
     ]
    }
   ],
   "source": [
    "print(point2)"
   ]
  },
  {
   "cell_type": "code",
   "execution_count": 15,
   "id": "9cb523e8",
   "metadata": {},
   "outputs": [
    {
     "name": "stdout",
     "output_type": "stream",
     "text": [
      "local x is:4\n",
      "global x is:5\n"
     ]
    }
   ],
   "source": [
    "#  local and global variables\n",
    "\n",
    "x = 5   # global variable\n",
    "def f(x=3):\n",
    "    x = x + 1    # local variable\n",
    "    print('local x is:' + str(x))\n",
    "    return x\n",
    "\n",
    "z = f()\n",
    "print('global x is:' + str(x))\n"
   ]
  }
 ],
 "metadata": {
  "kernelspec": {
   "display_name": "Python 3",
   "language": "python",
   "name": "python3"
  },
  "language_info": {
   "codemirror_mode": {
    "name": "ipython",
    "version": 3
   },
   "file_extension": ".py",
   "mimetype": "text/x-python",
   "name": "python",
   "nbconvert_exporter": "python",
   "pygments_lexer": "ipython3",
   "version": "3.9.5"
  }
 },
 "nbformat": 4,
 "nbformat_minor": 5
}
