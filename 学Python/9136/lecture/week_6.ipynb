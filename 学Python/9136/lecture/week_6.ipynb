{
 "cells": [
  {
   "cell_type": "code",
   "execution_count": 29,
   "id": "74c2882f",
   "metadata": {},
   "outputs": [
    {
     "ename": "NameError",
     "evalue": "name 'self' is not defined",
     "output_type": "error",
     "traceback": [
      "\u001b[1;31m---------------------------------------------------------------------------\u001b[0m",
      "\u001b[1;31mNameError\u001b[0m                                 Traceback (most recent call last)",
      "\u001b[1;32m<ipython-input-29-7ad2a9c3e60f>\u001b[0m in \u001b[0;36m<module>\u001b[1;34m\u001b[0m\n\u001b[0;32m      8\u001b[0m \u001b[1;33m\u001b[0m\u001b[0m\n\u001b[0;32m      9\u001b[0m \u001b[1;31m# child class\u001b[0m\u001b[1;33m\u001b[0m\u001b[1;33m\u001b[0m\u001b[1;33m\u001b[0m\u001b[0m\n\u001b[1;32m---> 10\u001b[1;33m \u001b[1;32mclass\u001b[0m \u001b[0mCanine\u001b[0m\u001b[1;33m(\u001b[0m\u001b[0mAnimal\u001b[0m\u001b[1;33m)\u001b[0m\u001b[1;33m:\u001b[0m\u001b[1;33m\u001b[0m\u001b[1;33m\u001b[0m\u001b[0m\n\u001b[0m\u001b[0;32m     11\u001b[0m \u001b[1;31m#     def __init__(self, name='bird', age=5, fur_colour = 'brown'):\u001b[0m\u001b[1;33m\u001b[0m\u001b[1;33m\u001b[0m\u001b[1;33m\u001b[0m\u001b[0m\n\u001b[0;32m     12\u001b[0m \u001b[1;31m#         self.fur_colour = fur_colour\u001b[0m\u001b[1;33m\u001b[0m\u001b[1;33m\u001b[0m\u001b[1;33m\u001b[0m\u001b[0m\n",
      "\u001b[1;32m<ipython-input-29-7ad2a9c3e60f>\u001b[0m in \u001b[0;36mCanine\u001b[1;34m()\u001b[0m\n\u001b[0;32m     16\u001b[0m \u001b[1;31m#         super().__init__(self)   # assign the child object to the argument 'name'\u001b[0m\u001b[1;33m\u001b[0m\u001b[1;33m\u001b[0m\u001b[1;33m\u001b[0m\u001b[0m\n\u001b[0;32m     17\u001b[0m \u001b[1;33m\u001b[0m\u001b[0m\n\u001b[1;32m---> 18\u001b[1;33m         \u001b[0mprint\u001b[0m\u001b[1;33m(\u001b[0m\u001b[1;34m'name is:'\u001b[0m\u001b[1;33m,\u001b[0m \u001b[0mself\u001b[0m\u001b[1;33m.\u001b[0m\u001b[0mname\u001b[0m\u001b[1;33m)\u001b[0m\u001b[1;33m\u001b[0m\u001b[1;33m\u001b[0m\u001b[0m\n\u001b[0m\u001b[0;32m     19\u001b[0m         \u001b[0mprint\u001b[0m\u001b[1;33m(\u001b[0m\u001b[1;34m'age is:'\u001b[0m\u001b[1;33m,\u001b[0m \u001b[0mself\u001b[0m\u001b[1;33m.\u001b[0m\u001b[0mage\u001b[0m\u001b[1;33m)\u001b[0m\u001b[1;33m\u001b[0m\u001b[1;33m\u001b[0m\u001b[0m\n\u001b[0;32m     20\u001b[0m \u001b[1;33m\u001b[0m\u001b[0m\n",
      "\u001b[1;31mNameError\u001b[0m: name 'self' is not defined"
     ]
    }
   ],
   "source": [
    "#  basic concept of inheritance\n",
    "\n",
    "# parent class\n",
    "class Animal:      \n",
    "    def __init__(self, name='animal', age=0):\n",
    "        self.name = name\n",
    "        self.age = age\n",
    "\n",
    "# child class        \n",
    "class Canine(Animal):\n",
    "#     def __init__(self, name='bird', age=5, fur_colour = 'brown'):\n",
    "#         self.fur_colour = fur_colour\n",
    "#         Animal.__init__(self)\n",
    "#         super().__init__()      # automatically pass in the child object to the parent constructor\n",
    "#         super().__init__(name, age)  \n",
    "#         super().__init__(self)   # assign the child object to the argument 'name'\n",
    "        \n",
    "        print('name is:', self.name)\n",
    "        print('age is:', self.age)\n",
    "    \n"
   ]
  },
  {
   "cell_type": "code",
   "execution_count": 28,
   "id": "0857cda8",
   "metadata": {},
   "outputs": [
    {
     "name": "stdout",
     "output_type": "stream",
     "text": [
      "name is: <__main__.Canine object at 0x0000020E2158D8B0>\n",
      "age is: 0\n"
     ]
    }
   ],
   "source": [
    "aa = Canine()"
   ]
  },
  {
   "cell_type": "code",
   "execution_count": 16,
   "id": "f986de73",
   "metadata": {},
   "outputs": [],
   "source": [
    "# single inheritance\n",
    "\n",
    "class A:\n",
    "    def __init__(self, n=0, k=0):\n",
    "        self.n = n\n",
    "        self.k = k\n",
    "\n",
    "    def add(self, m):\n",
    "        print('self is {0} @A.add'.format(self))\n",
    "        self.n += m    # B.n\n",
    "\n",
    "\n",
    "class B(A):\n",
    "    def __init__(self, n, k=15):   # override the constructor __init__()\n",
    "        super().__init__(n, k)\n",
    "        print('the value of attribute n is:', self.n)\n",
    "        print('the value of attribute k is:', self.k)\n",
    "\n",
    "    def add(self, m):\n",
    "        print('self is {0} @B.add'.format(self))\n",
    "        super().add(m)\n",
    "        self.n += 3"
   ]
  },
  {
   "cell_type": "code",
   "execution_count": 17,
   "id": "fd5645da",
   "metadata": {},
   "outputs": [
    {
     "name": "stdout",
     "output_type": "stream",
     "text": [
      "the value of attribute n is: 3\n",
      "the value of attribute k is: 15\n",
      "self is <__main__.B object at 0x0000020E1FEA56A0> @B.add\n",
      "self is <__main__.B object at 0x0000020E1FEA56A0> @A.add\n",
      "8\n"
     ]
    }
   ],
   "source": [
    "a = A()\n",
    "b = B(3)\n",
    "b.add(2)\n",
    "print(b.n)"
   ]
  },
  {
   "cell_type": "code",
   "execution_count": 18,
   "id": "bc7f84af",
   "metadata": {},
   "outputs": [],
   "source": [
    "# use parent class name to call __init__\n",
    "\n",
    "\n",
    "class GrandParent:\n",
    "    def __init__(self, name):  \n",
    "        print('Grandparent init begins')\n",
    "        self.name = name\n",
    "        print('Grandparent init ends')\n",
    "        \n",
    "class Parent1(GrandParent):\n",
    "    def __init__(self, name, age):  \n",
    "        print('Parent1 init begins')\n",
    "        self.age = age\n",
    "        GrandParent.__init__(self, name)\n",
    "        print('Parent1 init ends')\n",
    "        \n",
    "class Parent2(GrandParent):\n",
    "    def __init__(self, name, gender): \n",
    "        print('Parent2 init begins')\n",
    "        self.gender = gender\n",
    "        GrandParent.__init__(self, name)\n",
    "        print('Parent2 init ends')\n",
    "        \n",
    "        \n",
    "class Son(Parent1, Parent2):\n",
    "    def __init__(self, name, age, gender): \n",
    "        print('son init begins')\n",
    "        Parent1.__init__(self, name, age)  \n",
    "        Parent2.__init__(self, name, gender)\n",
    "        print('son init ends')        \n",
    "        "
   ]
  },
  {
   "cell_type": "code",
   "execution_count": 19,
   "id": "36172eff",
   "metadata": {},
   "outputs": [
    {
     "name": "stdout",
     "output_type": "stream",
     "text": [
      "son init begins\n",
      "Parent1 init begins\n",
      "Grandparent init begins\n",
      "Grandparent init ends\n",
      "Parent1 init ends\n",
      "Parent2 init begins\n",
      "Grandparent init begins\n",
      "Grandparent init ends\n",
      "Parent2 init ends\n",
      "son init ends\n",
      "name is: abcd\n",
      "name is: 20\n",
      "name is: unknown\n"
     ]
    }
   ],
   "source": [
    "sonson = Son('abcd', 20, 'unknown')\n",
    "print('name is:', sonson.name)\n",
    "print('name is:', sonson.age)\n",
    "print('name is:', sonson.gender)"
   ]
  },
  {
   "cell_type": "code",
   "execution_count": 29,
   "id": "a4b75363",
   "metadata": {},
   "outputs": [],
   "source": [
    "#  use super() to call __init__\n",
    "\n",
    "\n",
    "class GrandParent:\n",
    "    def __init__(self, name, *args, **kwargs):  # accept variable length arguments\n",
    "        print('Grandparent init begins')\n",
    "        self.name = name\n",
    "        print('Grandparent init ends')\n",
    "        \n",
    "class Parent1(GrandParent):\n",
    "    def __init__(self, name, age, *args, **kwargs):  # accept variable length arguments\n",
    "        print('Parent1 init begins')\n",
    "        self.age = age\n",
    "        super().__init__(name, *args, **kwargs)\n",
    "        print('Parent1 init ends')\n",
    "        \n",
    "class Parent2(GrandParent):\n",
    "    def __init__(self, name, gender, *args, **kwargs):  # accept variable length arguments\n",
    "        print('Parent2 init begins')\n",
    "        self.gender = gender\n",
    "        super().__init__(name, *args, **kwargs)\n",
    "        print('Parent2 init ends')\n",
    "        \n",
    "        \n",
    "class Son(Parent1, Parent2):\n",
    "    def __init__(self, name, age, gender): \n",
    "        print('son init begins')\n",
    "        super().__init__(name, age, gender)    # call the __init__ from both Parent1 and Parent2, in order\n",
    "        print('son init ends')        \n",
    "        "
   ]
  },
  {
   "cell_type": "code",
   "execution_count": 30,
   "id": "729e7703",
   "metadata": {},
   "outputs": [
    {
     "name": "stdout",
     "output_type": "stream",
     "text": [
      "son init begins\n",
      "Parent1 init begins\n",
      "Parent2 init begins\n",
      "Grandparent init begins\n",
      "Grandparent init ends\n",
      "Parent2 init ends\n",
      "Parent1 init ends\n",
      "son init ends\n",
      "name is: abcd\n",
      "name is: 20\n",
      "name is: unknown\n"
     ]
    }
   ],
   "source": [
    "sonson = Son('abcd', 20, 'unknown')\n",
    "print('name is:', sonson.name)\n",
    "print('name is:', sonson.age)\n",
    "print('name is:', sonson.gender)"
   ]
  },
  {
   "cell_type": "code",
   "execution_count": 7,
   "id": "3190cbfa",
   "metadata": {},
   "outputs": [],
   "source": [
    "# define some methods in multiple inheritance\n",
    "\n",
    "class A:   \n",
    "    def __init__(self):\n",
    "        self.n = 4\n",
    "\n",
    "    def add(self, m):  # fourth step\n",
    "        print('self is {0} @A.add'.format(self))   #self == d, self.n == d.n == 5\n",
    "        self.n += m    # d.n = 7\n",
    "\n",
    "\n",
    "class B(A):\n",
    "    \n",
    "    def __init__(self, n, k=15):   \n",
    "        super().__init__(n, k)\n",
    "\n",
    "    def add(self, m):   # second step\n",
    "        print('self is {0} @B.add'.format(self))   #self == d, self.n == d.n == 5\n",
    "        super().add(m)  # search add method from [C,A]\n",
    "        self.n += 3    # sixth step d.n = 14\n",
    "\n",
    "\n",
    "class C(A):\n",
    "    def __init__(self):\n",
    "        self.n = 4\n",
    "\n",
    "    def add(self, m):   # third step\n",
    "        print('self is {0} @C.add'.format(self))   #self == d, self.n == d.n == 5\n",
    "        super().add(m)  #  search add method from [A]\n",
    "        self.n += 4     # fifth step d.n = 11\n",
    "\n",
    "\n",
    "class D(B, C):\n",
    "    def __init__(self):\n",
    "        self.n = 5\n",
    "\n",
    "    def add(self, m):   # first step\n",
    "        print('self is {0} @D.add'.format(self))\n",
    "        super().add(m)  # super() is a class! Search add method from [B,C,A]\n",
    "        self.n += 5     # last step d.n = 19"
   ]
  },
  {
   "cell_type": "code",
   "execution_count": 8,
   "id": "2c8931a0",
   "metadata": {
    "scrolled": true
   },
   "outputs": [
    {
     "name": "stdout",
     "output_type": "stream",
     "text": [
      "self is <__main__.D object at 0x7fa20152d670> @D.add\n",
      "self is <__main__.D object at 0x7fa20152d670> @B.add\n",
      "self is <__main__.D object at 0x7fa20152d670> @C.add\n",
      "self is <__main__.D object at 0x7fa20152d670> @A.add\n",
      "19\n"
     ]
    }
   ],
   "source": [
    "d = D()\n",
    "d.add(2)\n",
    "print(d.n)"
   ]
  },
  {
   "cell_type": "code",
   "execution_count": 20,
   "id": "4ee217e6",
   "metadata": {},
   "outputs": [
    {
     "ename": "SyntaxError",
     "evalue": "invalid syntax (<ipython-input-20-38b9fd648bb7>, line 2)",
     "output_type": "error",
     "traceback": [
      "\u001b[1;36m  File \u001b[1;32m\"<ipython-input-20-38b9fd648bb7>\"\u001b[1;36m, line \u001b[1;32m2\u001b[0m\n\u001b[1;33m    class D(B, C):          class B(A):            class C(A):             class A:\u001b[0m\n\u001b[1;37m                            ^\u001b[0m\n\u001b[1;31mSyntaxError\u001b[0m\u001b[1;31m:\u001b[0m invalid syntax\n"
     ]
    }
   ],
   "source": [
    "# the execution process\n",
    "class D(B, C):          class B(A):            class C(A):             class A:\n",
    "    def add(self, m):       def add(self, m):      def add(self, m):       def add(self, m):\n",
    "        super().add(m)  1.--->  super().add(m) 2.--->  super().add(m)  3.--->  self.n += m\n",
    "        self.n += 5   <------6. self.n += 3    <----5. self.n += 4     <----4. <--|\n",
    "        (14+5=19)               (11+3=14)              (7+4=11)                (5+2=7)"
   ]
  },
  {
   "cell_type": "code",
   "execution_count": 35,
   "id": "d3961dcc",
   "metadata": {},
   "outputs": [],
   "source": [
    "# linked list\n",
    "\n",
    "class Node: \n",
    "    def __init__(self, value = None, next_address = None):\n",
    "        self.value = value\n",
    "        self.next = next_address  # to store the address of the next node\n",
    "        \n",
    "    def __str__(self):    # override the print function\n",
    "        return str(self.value)   \n"
   ]
  },
  {
   "cell_type": "code",
   "execution_count": 36,
   "id": "be9d1f1e",
   "metadata": {},
   "outputs": [],
   "source": [
    "# create the list\n",
    "\n",
    "node1 = Node(1)\n",
    "node2 = Node(2)\n",
    "node3 = Node(3)\n",
    "node1.next = node2    # node1 points to node2\n",
    "node2.next = node3"
   ]
  },
  {
   "cell_type": "code",
   "execution_count": 38,
   "id": "99113112",
   "metadata": {},
   "outputs": [],
   "source": [
    "# define the print list function\n",
    "\n",
    "def printList(node):\n",
    "    while node:\n",
    "        print(node)\n",
    "        node = node.next"
   ]
  },
  {
   "cell_type": "code",
   "execution_count": 39,
   "id": "eb8f64cc",
   "metadata": {},
   "outputs": [
    {
     "name": "stdout",
     "output_type": "stream",
     "text": [
      "1\n",
      "2\n",
      "3\n"
     ]
    }
   ],
   "source": [
    "printList(node1)"
   ]
  },
  {
   "cell_type": "code",
   "execution_count": 4,
   "id": "b81e7140",
   "metadata": {},
   "outputs": [
    {
     "name": "stdout",
     "output_type": "stream",
     "text": [
      "[1 2 3 4 5]\n",
      "[1, 2, 3, 4, 5]\n"
     ]
    }
   ],
   "source": [
    "# array\n",
    "\n",
    "# define a 1-dimentional array\n",
    "import numpy as np\n",
    "\n",
    "array_1 = np.array([1,2,3,4,5])\n",
    "list_1 = [1,2,3,4,5]\n",
    "print(array_1)\n",
    "print(list_1)\n"
   ]
  },
  {
   "cell_type": "code",
   "execution_count": 5,
   "id": "4fb5decb",
   "metadata": {},
   "outputs": [
    {
     "name": "stdout",
     "output_type": "stream",
     "text": [
      "[[0 1 2]\n",
      " [3 4 5]]\n",
      "[[0, 1, 2], [3, 4, 5]]\n"
     ]
    }
   ],
   "source": [
    "# create a 2-D array and list\n",
    "\n",
    "array_2 = np.arange(6).reshape(2,3)\n",
    "list_2 = [[0,1,2],[3,4,5]]\n",
    "\n",
    "print(array_2)\n",
    "print(list_2)"
   ]
  },
  {
   "cell_type": "code",
   "execution_count": 11,
   "id": "244f6e82",
   "metadata": {},
   "outputs": [
    {
     "name": "stdout",
     "output_type": "stream",
     "text": [
      "2\n",
      "2\n",
      "[2, 5]\n",
      "[2, 5]\n"
     ]
    }
   ],
   "source": [
    "# get the value at the 1st row, 3rd column\n",
    "print(array_2[0,2])\n",
    "print(list_2[0][2])\n",
    "\n",
    "# get the elements of the 3rd column \n",
    "print(list(array_2[0:,2]))    \n",
    "print([list_2[0][2],list_2[1][2]])"
   ]
  }
 ],
 "metadata": {
  "kernelspec": {
   "display_name": "Python 3",
   "language": "python",
   "name": "python3"
  },
  "language_info": {
   "codemirror_mode": {
    "name": "ipython",
    "version": 3
   },
   "file_extension": ".py",
   "mimetype": "text/x-python",
   "name": "python",
   "nbconvert_exporter": "python",
   "pygments_lexer": "ipython3",
   "version": "3.8.8"
  }
 },
 "nbformat": 4,
 "nbformat_minor": 5
}
