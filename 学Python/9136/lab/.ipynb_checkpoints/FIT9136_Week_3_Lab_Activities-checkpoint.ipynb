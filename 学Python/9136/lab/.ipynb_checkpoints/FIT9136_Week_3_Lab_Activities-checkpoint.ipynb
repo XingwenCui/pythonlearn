{
 "cells": [
  {
   "cell_type": "markdown",
   "metadata": {
    "id": "RDk2sbEPZb3b"
   },
   "source": [
    "# FIT9136 Algorithms and programming foundations in Python"
   ]
  },
  {
   "cell_type": "markdown",
   "metadata": {
    "id": "HCr6VvsSZb3g"
   },
   "source": [
    "# Week 3 Lab Activities: Introduction to Data Structures, Collective Data Types and Control Structures I\n",
    "\n",
    "\\#string \\#list \\#set \\#tuple \\#dictionary \\#collectiveDataTypes"
   ]
  },
  {
   "cell_type": "markdown",
   "metadata": {
    "id": "uXU6D7TXaaIP"
   },
   "source": [
    "Simply speaking, collective data types are different kinds of lockers, which can store 0 or more *objects*."
   ]
  },
  {
   "cell_type": "markdown",
   "metadata": {
    "id": "Lofu_MsWxGF2"
   },
   "source": [
    "### 1. String\n",
    "\\#ordered \\#immutable\n",
    "\n",
    "```\n",
    "Index:    0  1  2  3  4  5   ...\n",
    "          ↓  ↓  ↓  ↓  ↓  ↓\n",
    "         'p  y  t  h  o  n'  ...\n",
    "```"
   ]
  },
  {
   "cell_type": "markdown",
   "metadata": {
    "id": "_oshalheyJQN"
   },
   "source": [
    "#### 1.1 Creating a string"
   ]
  },
  {
   "cell_type": "code",
   "execution_count": null,
   "metadata": {
    "id": "b2Rdqn04x002"
   },
   "outputs": [],
   "source": [
    "'' # empty string"
   ]
  },
  {
   "cell_type": "code",
   "execution_count": null,
   "metadata": {
    "id": "aV_Yx2qSyO11"
   },
   "outputs": [],
   "source": [
    "\"\" # also an empty string "
   ]
  },
  {
   "cell_type": "code",
   "execution_count": null,
   "metadata": {
    "id": "4IG987M4ySCN"
   },
   "outputs": [],
   "source": [
    "'python' # 'python' as a string"
   ]
  },
  {
   "cell_type": "markdown",
   "metadata": {
    "id": "aXnm618bGx6j"
   },
   "source": [
    "#### 1.2 String Formatting\n",
    "String Formatting combines the (other)variables and string to provide meaningful output (using placeholders).\n",
    "\n",
    "Mainly there are three different ways to do string formatting:\n",
    "  1. \"%\" modulo operator\n",
    "  2. \"str.format()\"\n",
    "  3. f-string\n",
    "\n",
    "Want to learn more? Check [this](https://realpython.com/python-string-formatting/) out!"
   ]
  },
  {
   "cell_type": "markdown",
   "metadata": {
    "id": "rJ0m9y6MHztc"
   },
   "source": [
    "**str.format()**\n",
    "\n",
    "```python\n",
    "# values of str(var1) and str(var2) will be put into the first and second brackets respectively.\n",
    "'some string with {} placeholders {}.'.format(var1, var2)\n",
    "```"
   ]
  },
  {
   "cell_type": "code",
   "execution_count": null,
   "metadata": {
    "id": "lZ4b2rouIeT2"
   },
   "outputs": [],
   "source": [
    "# Example\n",
    "the_name = 'Sherlock Holmes'\n",
    "interest = 'solving crimes'\n",
    "the_age = 79.9999999 # Never going to 80\n",
    "# using positional arguments\n",
    "'My name is {}, {:.0f} years old. I love {}.'.format(the_name, the_age, interest) # What dose :.0f do?"
   ]
  },
  {
   "cell_type": "code",
   "execution_count": null,
   "metadata": {
    "id": "OkFm7BffL79t"
   },
   "outputs": [],
   "source": [
    "# using keyword arguments\n",
    "'My name is {str_name}, {str_age:.0f} years old. I love {str_interest}.'.format(str_name = the_name, str_age = the_age, str_interest = interest)"
   ]
  },
  {
   "cell_type": "markdown",
   "metadata": {
    "id": "4fbt2TJ9ylsL"
   },
   "source": [
    "**f-string**\n",
    "```python\n",
    "f'Some string with {variables inside curly brackets}.'\n",
    "```"
   ]
  },
  {
   "cell_type": "code",
   "execution_count": null,
   "metadata": {
    "id": "0-Xs-W6CyoM0"
   },
   "outputs": [],
   "source": [
    "# Example\n",
    "the_name = 'Sherlock Holmes'\n",
    "interest = 'solving crimes'\n",
    "the_age = 79.9999999\n",
    "f'My name is {the_name}, {the_age:.0f} years old. I love {interest}.'"
   ]
  },
  {
   "cell_type": "markdown",
   "metadata": {
    "id": "RUsomc-WJqse"
   },
   "source": [
    "**%**: more than just modulo\n",
    "```python\n",
    "'Some string with (%variable placeholder formats starting with %)' % (variables)\n",
    "```"
   ]
  },
  {
   "cell_type": "code",
   "execution_count": null,
   "metadata": {
    "id": "70ftuoSSJ1U0"
   },
   "outputs": [],
   "source": [
    "# Example\n",
    "the_name = 'Sherlock Holmes'\n",
    "interest = 'solving crimes'\n",
    "the_age = 79.9999999\n",
    "# substitute the placeholders in positional order using tuple\n",
    "'My name is %s, %.0f years old. I love %s.' % (the_name, the_age, interest) # what are %s and %.0f?"
   ]
  },
  {
   "cell_type": "code",
   "execution_count": null,
   "metadata": {
    "id": "v2DddPuKMCTk"
   },
   "outputs": [],
   "source": [
    "# substitute the placeholders according to keys of dictionary\n",
    "'My name is %(str_name)s, %(str_age).0f years old. I love %(str_interest)s.' % {'str_name': the_name, 'str_age':the_age, 'str_interest':interest}"
   ]
  },
  {
   "cell_type": "markdown",
   "metadata": {
    "id": "uLnI7VO0zuMF"
   },
   "source": [
    "#### 1.3 Retrieving / Modifying items in string\n",
    "\n",
    "Every item of a list is labeled by an index, and the index starts with 0.\n",
    "\n",
    "We can retrieve an item of a list using its index."
   ]
  },
  {
   "cell_type": "code",
   "execution_count": null,
   "metadata": {
    "id": "VlZHuQuT0N7K"
   },
   "outputs": [],
   "source": [
    "a_string = 'some thing'"
   ]
  },
  {
   "cell_type": "code",
   "execution_count": null,
   "metadata": {
    "id": "zfmu_DK70Y9G"
   },
   "outputs": [],
   "source": [
    "print(a_string[0]) # getting the 0th character from a_string"
   ]
  },
  {
   "cell_type": "code",
   "execution_count": null,
   "metadata": {
    "id": "_7ubAOiOTz_Z"
   },
   "outputs": [],
   "source": [
    "print(a_string[-1]) # getting the last character from a_string"
   ]
  },
  {
   "cell_type": "code",
   "execution_count": null,
   "metadata": {
    "id": "9HEeiflU0ZRn"
   },
   "outputs": [],
   "source": [
    "print(a_string[5:]) # getting the sub-string starting from index 5 to the end, this technique is called slicing"
   ]
  },
  {
   "cell_type": "code",
   "execution_count": null,
   "metadata": {
    "id": "qJMt__J-0i2E"
   },
   "outputs": [],
   "source": [
    "print(a_string[:4]) # getting the sub-string from the start up to index 3 ← BE CAREFUL! It is 3 not 4!!"
   ]
  },
  {
   "cell_type": "code",
   "execution_count": null,
   "metadata": {
    "id": "R3vhBdSA089U"
   },
   "outputs": [],
   "source": [
    "a_string[4] = 'a' # We want to change the space into 'a'. What will happen?"
   ]
  },
  {
   "cell_type": "markdown",
   "metadata": {
    "id": "R_cAgMXf1TKc"
   },
   "source": [
    "Remember, string is *immutable*. That means we could not modify the items in a string. \n",
    "\n",
    "<b><font color='red'> Question:</font></b> However, how can we change a_string from 'some thing' to 'something'?"
   ]
  },
  {
   "cell_type": "markdown",
   "metadata": {
    "id": "Ahmea2vPQr51"
   },
   "source": [
    "<b><font color='red'>Answer</font></b>"
   ]
  },
  {
   "cell_type": "code",
   "execution_count": null,
   "metadata": {
    "id": "MasfjKXc1tg2"
   },
   "outputs": [],
   "source": [
    "# Retrieve the substrings from indices between 0 to 3 and 5 to the end, CONCATENATE(+) them, and assign the value back to a_string\n",
    "a_string = 'some thing'\n",
    "\n",
    "new_string = ?"
   ]
  },
  {
   "cell_type": "markdown",
   "metadata": {
    "id": "Hfuff6JR1s1T"
   },
   "source": [
    "#### 1.4 Built-in methods of strings\n",
    "\n",
    "There are many useful built-in methods of the string objects. <br>Lets have a look at few of them:"
   ]
  },
  {
   "cell_type": "markdown",
   "metadata": {
    "id": "z8iZtyiC8S6U"
   },
   "source": [
    "**a. upper/lower/capitalise**: transform the string to uppercase/lowercase or capitalise the string."
   ]
  },
  {
   "cell_type": "code",
   "execution_count": null,
   "metadata": {
    "id": "63AKflAVR9c7"
   },
   "outputs": [],
   "source": [
    "'lower-case'.upper() # transform the string to upper case"
   ]
  },
  {
   "cell_type": "code",
   "execution_count": null,
   "metadata": {
    "id": "znS2QxNFSIFt"
   },
   "outputs": [],
   "source": [
    "'UPPER-CASE'.lower() # transform the string to lower case"
   ]
  },
  {
   "cell_type": "code",
   "execution_count": null,
   "metadata": {
    "id": "L9Vj0rHbSNu7"
   },
   "outputs": [],
   "source": [
    "'lower case. the end.'.capitalize() # transform the first character of the string to upper case"
   ]
  },
  {
   "cell_type": "markdown",
   "metadata": {
    "id": "Z78ajnPIR81E"
   },
   "source": [
    "**b. isdigit/isalpha/isalnum**: check if the string only contains digits, characters or digits and characters respectively."
   ]
  },
  {
   "cell_type": "code",
   "execution_count": null,
   "metadata": {
    "id": "sNZGn4GyS_58"
   },
   "outputs": [],
   "source": [
    "# check if the following strings contain digits only\n",
    "'123'.isdigit(), '123.45'.isdigit(), 'abc'.isdigit()"
   ]
  },
  {
   "cell_type": "code",
   "execution_count": null,
   "metadata": {
    "id": "IjoaFQWVTM4L"
   },
   "outputs": [],
   "source": [
    "# check if the following strings contain characters only\n",
    "'123'.isalpha(), '123.45'.isalpha(), 'abc'.isalpha()"
   ]
  },
  {
   "cell_type": "code",
   "execution_count": null,
   "metadata": {
    "id": "VlgW1wKCTSvD"
   },
   "outputs": [],
   "source": [
    "# check if the following strings contain digits and characters only\n",
    "'123'.isalnum(), '123.45'.isalnum(), 'abc'.isalnum()"
   ]
  },
  {
   "cell_type": "markdown",
   "metadata": {
    "id": "LCIjukvLTiuL"
   },
   "source": [
    "**c. startswith, endswith**: check if the string starts or ends with a pattern."
   ]
  },
  {
   "cell_type": "code",
   "execution_count": null,
   "metadata": {
    "id": "B1MRWhEPUGML"
   },
   "outputs": [],
   "source": [
    "'FIT9136 Python'.startswith('FI'), 'FIT9136 Python'.endswith(6) # What will be returned? Why is that?"
   ]
  },
  {
   "cell_type": "code",
   "execution_count": null,
   "metadata": {
    "id": "_2PNWaL2Uixl"
   },
   "outputs": [],
   "source": [
    "# remember, you can always seek help\n",
    "?str.endswith"
   ]
  },
  {
   "cell_type": "markdown",
   "metadata": {
    "id": "qQpexfIrU0zC"
   },
   "source": [
    "**d. find**: returns the index of first occurence of the pattern we want to search."
   ]
  },
  {
   "cell_type": "code",
   "execution_count": null,
   "metadata": {
    "id": "0vaVk7POU-Ap"
   },
   "outputs": [],
   "source": [
    "sentence = 'FIT9136 is so interesting.'\n",
    "sentence.find(i), sentence.find('E') # What will be returned?"
   ]
  },
  {
   "cell_type": "markdown",
   "metadata": {
    "id": "sDe4RtVdVd1U"
   },
   "source": [
    "**e. split**: split the string based on a pattern and returns a list of tokens."
   ]
  },
  {
   "cell_type": "code",
   "execution_count": null,
   "metadata": {
    "id": "Il_xWKDdVyhD"
   },
   "outputs": [],
   "source": [
    "sentence = 'FIT9136 is so interesting.'\n",
    "sentence.split()"
   ]
  },
  {
   "cell_type": "code",
   "execution_count": null,
   "metadata": {
    "id": "JIs4WZt8V2Tr"
   },
   "outputs": [],
   "source": [
    "# Now we want to split by pattern ' is so '\n",
    "sentence.split(' is so ')"
   ]
  },
  {
   "cell_type": "markdown",
   "metadata": {
    "id": "NjTqcVj570i8"
   },
   "source": [
    "For the details, please refer to the [documentation](https://docs.python.org/3/library/stdtypes.html#string-methods). "
   ]
  },
  {
   "cell_type": "markdown",
   "metadata": {
    "id": "W-3W7YTNbkXS"
   },
   "source": [
    "#### 1.5 String comparison\n",
    "\n",
    "'A' is greater or 'a' is greater?"
   ]
  },
  {
   "cell_type": "code",
   "execution_count": null,
   "metadata": {
    "id": "it5yHF9Fc2uv"
   },
   "outputs": [],
   "source": [
    "'A' > 'a' # True or False"
   ]
  },
  {
   "cell_type": "markdown",
   "metadata": {
    "id": "weuVP1rQdCjd"
   },
   "source": [
    "In Python, strings are compared **character by character** using their [ascii codes](https://www.asciitable.com/). Now, let's try to use `ord()` function to get the integer represention of 'A' and 'a' based on the ascii table."
   ]
  },
  {
   "cell_type": "code",
   "execution_count": null,
   "metadata": {
    "id": "3bGjcxR3dBvl"
   },
   "outputs": [],
   "source": [
    "ord('A'), ord('a')"
   ]
  },
  {
   "cell_type": "markdown",
   "metadata": {
    "id": "ZF6axANMoLu6"
   },
   "source": [
    "#### 1.6 String length\n",
    "\n",
    "We can obtain the **number of items** in a collective data type object using `len()` function."
   ]
  },
  {
   "cell_type": "code",
   "execution_count": null,
   "metadata": {
    "id": "CoZ3rRzLoe-U"
   },
   "outputs": [],
   "source": [
    "len('abcd')"
   ]
  },
  {
   "cell_type": "markdown",
   "metadata": {
    "id": "TQ7-6yDCfV-S"
   },
   "source": [
    "### 2. List\n",
    "\n",
    "\\#ordered \\#mutable\n",
    "\n",
    "```\n",
    "Index:    0   1   2   ...\n",
    "          ↓   ↓   ↓\n",
    "        ┌───┬───┬───┬\n",
    "Value:  │'a'│ 5 │'z'│ ...\n",
    "        └───┴───┴───┴\n",
    "```"
   ]
  },
  {
   "cell_type": "markdown",
   "metadata": {
    "id": "Ijvy69dCmcc8"
   },
   "source": [
    "#### 2.1 List creation"
   ]
  },
  {
   "cell_type": "code",
   "execution_count": null,
   "metadata": {
    "id": "k0v0XSJvYyKh"
   },
   "outputs": [],
   "source": [
    "list() # An empty list"
   ]
  },
  {
   "cell_type": "code",
   "execution_count": null,
   "metadata": {
    "id": "rqdS1Ia4m16l"
   },
   "outputs": [],
   "source": [
    "[] # Another empty list"
   ]
  },
  {
   "cell_type": "code",
   "execution_count": null,
   "metadata": {
    "id": "coi5S6wKm3Xj"
   },
   "outputs": [],
   "source": [
    "['a', 5, 'z'] # A list with items"
   ]
  },
  {
   "cell_type": "markdown",
   "metadata": {
    "id": "Aq2F7RWpnWOr"
   },
   "source": [
    "#### 2.2 Retriving / Modifying item of list\n",
    "\n"
   ]
  },
  {
   "cell_type": "code",
   "execution_count": null,
   "metadata": {
    "id": "6KYjM1AtncH1"
   },
   "outputs": [],
   "source": [
    "a_list = ['a', 5, 'z'] # remember a_list, the variable, is just a pointer to the list object created"
   ]
  },
  {
   "cell_type": "markdown",
   "metadata": {
    "id": "XTuAzNgOnlvL"
   },
   "source": [
    "Every item of a list is labeled by an **index**, and the index starts with 0.\n",
    "\n",
    "We can retrieve or modify an item of a list using its index."
   ]
  },
  {
   "cell_type": "code",
   "execution_count": null,
   "metadata": {
    "id": "sOfJPR-Tn72H"
   },
   "outputs": [],
   "source": [
    "a_list[0] # getting the 0th item from a_list → ?"
   ]
  },
  {
   "cell_type": "code",
   "execution_count": null,
   "metadata": {
    "id": "pzsel02KoRW0"
   },
   "outputs": [],
   "source": [
    "a_list[2] = 'abc' # set the item at index 2 of a_list to 'abc'\n",
    "a_list # What will a_list look like?"
   ]
  },
  {
   "cell_type": "markdown",
   "metadata": {
    "id": "ufQkoKycdL6r"
   },
   "source": [
    "**We can also use the keyword `in` to check whether an item is in a collective data type object.**"
   ]
  },
  {
   "cell_type": "code",
   "execution_count": null,
   "metadata": {
    "id": "OWLrIAMtdAQv"
   },
   "outputs": [],
   "source": [
    "'a' in a_list # check if 'a' is in a_list"
   ]
  },
  {
   "cell_type": "markdown",
   "metadata": {
    "id": "IQxw5F7Zhkl4"
   },
   "source": [
    "#### 2.3 List comparison\n",
    "\n",
    "What? Lists can be compared?!!!!"
   ]
  },
  {
   "cell_type": "code",
   "execution_count": null,
   "metadata": {
    "id": "Q1O1ubtwh74H"
   },
   "outputs": [],
   "source": [
    "a = [1, 2, 3]\n",
    "b = [1, 2, 3]\n",
    "c = [3, 2, 1]"
   ]
  },
  {
   "cell_type": "code",
   "execution_count": null,
   "metadata": {
    "id": "GzRrCtk-hs5-"
   },
   "outputs": [],
   "source": [
    "a == b"
   ]
  },
  {
   "cell_type": "code",
   "execution_count": null,
   "metadata": {
    "id": "r1CaOY1yh1EX"
   },
   "outputs": [],
   "source": [
    "a == c"
   ]
  },
  {
   "cell_type": "code",
   "execution_count": null,
   "metadata": {
    "id": "HqaTOKYPh3et"
   },
   "outputs": [],
   "source": [
    "a is b"
   ]
  },
  {
   "cell_type": "markdown",
   "metadata": {
    "id": "cUR8Bd_riG81"
   },
   "source": [
    "When we compare two lists using `==` operator, we are comparing the **values** of two lists **item-wise**. \n",
    "\n",
    "Since lists are **ordered**, so the order of items matters! That's why `a == b` while `a != c`.\n",
    "\n",
    "On the other hand, when we compare using `is`, we are comparing the ids of two lists. Since a and b are **different lists with same items**, so **a is not b**.\n",
    "\n",
    "How about the \"greated than\" or \"smaller than\" comparisons?"
   ]
  },
  {
   "cell_type": "code",
   "execution_count": null,
   "metadata": {
    "id": "rsjrY72iijRb"
   },
   "outputs": [],
   "source": [
    "[1, 2, 3] < [2, 1, 3]"
   ]
  },
  {
   "cell_type": "code",
   "execution_count": null,
   "metadata": {
    "id": "c_K_PuUWksSa"
   },
   "outputs": [],
   "source": [
    "[1, 2, 3] < [1, 3]"
   ]
  },
  {
   "cell_type": "markdown",
   "metadata": {
    "id": "vkMGDnFtEenB"
   },
   "source": [
    "**Yes**, your thinking is right. It checks based on the element's values in order."
   ]
  },
  {
   "cell_type": "markdown",
   "metadata": {
    "id": "2_Pz3zt5JlFw"
   },
   "source": [
    "### 3. Tuple\n",
    "\n",
    "\\#ordered #immutable\n",
    "\n",
    "Tuple is exactly like list, but:\n",
    "<blockquote>\n",
    "IT IS IMMUTABLE, which means you cannot modify the items of it.\n",
    "</blockquote>"
   ]
  },
  {
   "cell_type": "markdown",
   "metadata": {
    "id": "jd_DiCjNMG3y"
   },
   "source": [
    "#### 3.1 Tuple creation"
   ]
  },
  {
   "cell_type": "code",
   "execution_count": null,
   "metadata": {
    "id": "icoJ8qxVMLH_"
   },
   "outputs": [],
   "source": [
    "tuple()"
   ]
  },
  {
   "cell_type": "code",
   "execution_count": null,
   "metadata": {
    "id": "Od-KGamTMPo2"
   },
   "outputs": [],
   "source": [
    "()"
   ]
  },
  {
   "cell_type": "code",
   "execution_count": null,
   "metadata": {
    "id": "tL_eUICbMTM-"
   },
   "outputs": [],
   "source": [
    "(1) # Is this a tuple? How can we create a tuple with only one element?"
   ]
  },
  {
   "cell_type": "markdown",
   "metadata": {
    "id": "0FyouUv_MBlF"
   },
   "source": [
    "<b><font color='red'> Question:</font></b> Can we change a tuple from `(1,[1,2,3],2)` to `(1,[1,2],2)`?"
   ]
  },
  {
   "cell_type": "markdown",
   "metadata": {
    "id": "yBYlfAbZM7rW"
   },
   "source": [
    "The answer is **YES**, because we are modifying the item of a list instead of the item of a tuple."
   ]
  },
  {
   "cell_type": "code",
   "execution_count": null,
   "metadata": {
    "id": "ijgm9XuyM3bf"
   },
   "outputs": [],
   "source": [
    "a_tuple = (1,[1,2,3],2)\n",
    "a_tuple[1].pop(-1) # remove the last element from the item in the 1st index of the tuple\n",
    "a_tuple"
   ]
  },
  {
   "cell_type": "markdown",
   "metadata": {
    "id": "vy5DH2lxogdb"
   },
   "source": [
    "Actually, the item at index 1 of the tuple is only a pointer to the list. The pointer remains unchanged here!"
   ]
  },
  {
   "cell_type": "markdown",
   "metadata": {
    "id": "A3OkP4H5-maN"
   },
   "source": [
    "### 4. Set\n",
    "\n",
    "\\#unordered #mutable #uniqueItems\n",
    "```\n",
    "╭──────────────╮\n",
    "│ 'a'    3     │\n",
    "│   '5'   123.4│\n",
    "│ 17.5  'str'  │\n",
    "│    79.6 72.1 │\n",
    "╰──────────────╯\n",
    "```"
   ]
  },
  {
   "cell_type": "markdown",
   "metadata": {
    "id": "O9pp0NdjHsPx"
   },
   "source": [
    "#### 4.1 Set creation"
   ]
  },
  {
   "cell_type": "code",
   "execution_count": null,
   "metadata": {
    "id": "p-m0sK4rGVaS"
   },
   "outputs": [],
   "source": [
    "set()"
   ]
  },
  {
   "cell_type": "code",
   "execution_count": null,
   "metadata": {
    "id": "zxXV2-5XHvW3"
   },
   "outputs": [],
   "source": [
    "{1, 3, 5}"
   ]
  },
  {
   "cell_type": "code",
   "execution_count": null,
   "metadata": {
    "id": "w_TP5hbMHzbe"
   },
   "outputs": [],
   "source": [
    "set([1,3,5]) # convert a list to a set"
   ]
  },
  {
   "cell_type": "code",
   "execution_count": null,
   "metadata": {
    "id": "faQqevMsH_pd"
   },
   "outputs": [],
   "source": [
    "{} # how about this?"
   ]
  },
  {
   "cell_type": "code",
   "execution_count": null,
   "metadata": {
    "id": "eTIvo85YIJyS"
   },
   "outputs": [],
   "source": [
    "type({}) # let's find out the data type of {}"
   ]
  },
  {
   "cell_type": "markdown",
   "metadata": {
    "id": "FjUr0WvyJcP5"
   },
   "source": [
    "However, please note that **all items in set should be immutable**."
   ]
  },
  {
   "cell_type": "markdown",
   "metadata": {
    "id": "WIxKkmlCIXpQ"
   },
   "source": [
    "#### 4.2 Retrieving/Modifying item of set"
   ]
  },
  {
   "cell_type": "code",
   "execution_count": null,
   "metadata": {
    "id": "l57uhUoVIkWc"
   },
   "outputs": [],
   "source": [
    "a_set = {1, 3, 5}"
   ]
  },
  {
   "cell_type": "markdown",
   "metadata": {
    "id": "9BSSQ2SLJELQ"
   },
   "source": [
    "What do the following code blocks do? "
   ]
  },
  {
   "cell_type": "code",
   "execution_count": null,
   "metadata": {
    "id": "0wpM9huDIzKp"
   },
   "outputs": [],
   "source": [
    "a_set[0]"
   ]
  },
  {
   "cell_type": "code",
   "execution_count": null,
   "metadata": {
    "id": "f57XAIAzI44B"
   },
   "outputs": [],
   "source": [
    "a_set.pop() # What is left in a_set?"
   ]
  },
  {
   "cell_type": "code",
   "execution_count": null,
   "metadata": {
    "id": "fkeE-fAyKJIA"
   },
   "outputs": [],
   "source": [
    "a_set.add(5) # Add 5 to a_set. What is left in a_set?"
   ]
  },
  {
   "cell_type": "markdown",
   "metadata": {
    "id": "xD7JkMuhJKp4"
   },
   "source": [
    "#### 4.3 Set operations\n",
    "\n",
    "There are 4 handy operations exclusive to set data type:\n",
    "1. Union\n",
    "2. Difference\n",
    "3. Intersection\n",
    "4. Symmetric Difference"
   ]
  },
  {
   "cell_type": "code",
   "execution_count": null,
   "metadata": {
    "id": "B86AYwomWYGO"
   },
   "outputs": [],
   "source": [
    "from IPython.display import Image\n",
    "print('Image source: https://www.learnbyexample.org/')\n",
    "Image(url='https://www.learnbyexample.org/wp-content/uploads/python/Python-Set-Operatioons.png')"
   ]
  },
  {
   "cell_type": "markdown",
   "metadata": {
    "id": "o90rQ22pWyxL"
   },
   "source": [
    "**1) Union**\n",
    "\n",
    "When we want to get all the elements in set A and set B, then we can use `union()` or `|` operator."
   ]
  },
  {
   "cell_type": "code",
   "execution_count": null,
   "metadata": {
    "id": "-6V4bNqIWpPO"
   },
   "outputs": [],
   "source": [
    "set_a = {1,3,5,2,4,6}\n",
    "set_b = {2,4,6,7,9,11}\n",
    "\n",
    "# set_a.union(set_b)\n",
    "set_a | set_b"
   ]
  },
  {
   "cell_type": "markdown",
   "metadata": {
    "id": "Pn4SR_xJXW15"
   },
   "source": [
    "**2) Difference**\n",
    "\n",
    "When we want to get all the elements in set A that do not appear in set B, then we can use `difference()` or `-` operator."
   ]
  },
  {
   "cell_type": "code",
   "execution_count": null,
   "metadata": {
    "id": "F-1sRkNxXkEk"
   },
   "outputs": [],
   "source": [
    "set_a = {1,3,5,2,4,6}\n",
    "set_b = {2,4,6,7,9,11}\n",
    "\n",
    "# set_a.difference(set_b)\n",
    "set_a - set_b"
   ]
  },
  {
   "cell_type": "markdown",
   "metadata": {
    "id": "L-DJn0rAXtgV"
   },
   "source": [
    "**3) Intersection**\n",
    "\n",
    "When we want to get all the elements that appears in both set A and set B, then we can use `intersection()` or `&` operator."
   ]
  },
  {
   "cell_type": "code",
   "execution_count": null,
   "metadata": {
    "id": "1hBnrFRVX2Kx"
   },
   "outputs": [],
   "source": [
    "set_a = {1,3,5,2,4,6}\n",
    "set_b = {2,4,6,7,9,11}\n",
    "\n",
    "# set_a.intersect(set_b)\n",
    "set_a & set_b"
   ]
  },
  {
   "cell_type": "markdown",
   "metadata": {
    "id": "2dHwHOkiYA9Q"
   },
   "source": [
    "**4) Symmetric Difference**\n",
    "\n",
    "When we want to get all the elements that appears either in set A or set B (exclusively), then we can use `symmetric_difference()` or `^` operator."
   ]
  },
  {
   "cell_type": "code",
   "execution_count": null,
   "metadata": {
    "id": "suRFHlljYCBP"
   },
   "outputs": [],
   "source": [
    "set_a = {1,3,5,2,4,6}\n",
    "set_b = {2,4,6,7,9,11}\n",
    "\n",
    "# set_a.symmetric_difference(set_b)\n",
    "set_a ^ set_b"
   ]
  },
  {
   "cell_type": "markdown",
   "metadata": {
    "id": "q0fCbDPmY4Ch"
   },
   "source": [
    "<b><font color='red'> Task:</font></b> How can we check if a super long string contains all 26 alphabets or not? If not, which alphabet(s) is/are missing?"
   ]
  },
  {
   "cell_type": "code",
   "execution_count": null,
   "metadata": {
    "id": "_lDbJdLhZCTy"
   },
   "outputs": [],
   "source": [
    "import string\n",
    "the_string = 'Supercalifragilisticexpialidocious$&#@*() Pneumonoultramicroscopicsilicovolcanoconiosis +-*/&#Q$*^&*@#$*&^'\n",
    "\n",
    "unique_char = set(the_string.lower()) & set(string.ascii_lowercase) # get all unique characters from the_string(in lower-case) and filter out all the symbols\n",
    "set(string.ascii_lowercase) - unique_char # getting the missing alphabets by subtracting the unique characters in the string from the full set of lower-case alphoabets"
   ]
  },
  {
   "cell_type": "markdown",
   "metadata": {
    "id": "gWzLILsPCS03"
   },
   "source": [
    "### 5. Dictionary\n",
    "\n",
    "\\#unordered #mutable\n",
    "\n",
    "Remember every item in a list is labeled by the index? In dictionary, every item('value') is labeled by a 'key'.\n",
    "\n",
    "```\n",
    "key  value\n",
    "┌───┬───┐\n",
    "│ 1 │'a'│\n",
    "├───┼───┤\n",
    "│'a'│ 1 │\n",
    "├───┼───┤\n",
    "│'t'│ 9 │\n",
    "├───┼───┤\n",
    "    ⋮\n",
    "```"
   ]
  },
  {
   "cell_type": "markdown",
   "metadata": {
    "id": "lTaHIn9REEMG"
   },
   "source": [
    "#### 5.1 Dictionary creation"
   ]
  },
  {
   "cell_type": "code",
   "execution_count": null,
   "metadata": {
    "id": "u6JZuBB5ZPZ_"
   },
   "outputs": [],
   "source": [
    "dict()"
   ]
  },
  {
   "cell_type": "code",
   "execution_count": null,
   "metadata": {
    "id": "M5DYkAScEJbk"
   },
   "outputs": [],
   "source": [
    "{}"
   ]
  },
  {
   "cell_type": "code",
   "execution_count": null,
   "metadata": {
    "id": "mHWgyV9sEK2i"
   },
   "outputs": [],
   "source": [
    "# every item is a key-value pair\n",
    "{1: 'a', \n",
    " 'a': 1, \n",
    " 't': 9} "
   ]
  },
  {
   "cell_type": "code",
   "execution_count": null,
   "metadata": {
    "id": "38SgSGqLEUn9"
   },
   "outputs": [],
   "source": [
    "# it can also be created by converting a list of tuples or list of lists\n",
    "# however, each inner tuple/list should only contain 2 items\n",
    "# the first item will be the 'key' and the second item will be the 'value'\n",
    "dict([(1,'a'),('a',1),('t',9)]) "
   ]
  },
  {
   "cell_type": "code",
   "execution_count": null,
   "metadata": {
    "id": "l67SxeASY_s5"
   },
   "outputs": [],
   "source": [
    "dict([(1,'a'),(1,'b')]) # what will be the resulting dictionary? "
   ]
  },
  {
   "cell_type": "markdown",
   "metadata": {
    "id": "fNMoZUqmUgIi"
   },
   "source": [
    "#### 5.2 Retrieving/Modifying item of dictionary"
   ]
  },
  {
   "cell_type": "code",
   "execution_count": null,
   "metadata": {
    "id": "ksz_geLtE7bD"
   },
   "outputs": [],
   "source": [
    "a_dict = {'a':1,'b':2,'c':3}"
   ]
  },
  {
   "cell_type": "code",
   "execution_count": null,
   "metadata": {
    "id": "EvYJYbG-YHtq"
   },
   "outputs": [],
   "source": [
    "a_dict['a'] # 'a' is the key of value 1, this will return 1"
   ]
  },
  {
   "cell_type": "code",
   "execution_count": null,
   "metadata": {
    "id": "8y9mXu1eYVNH"
   },
   "outputs": [],
   "source": [
    "a_dict['a'] = 3 # modifying the value with key 'a' to 3"
   ]
  },
  {
   "cell_type": "code",
   "execution_count": null,
   "metadata": {
    "id": "3fbMBMH2YgPh"
   },
   "outputs": [],
   "source": [
    "a_dict['d'] # what will be returned? "
   ]
  },
  {
   "cell_type": "code",
   "execution_count": null,
   "metadata": {
    "id": "8DxHIYtrYpJ_"
   },
   "outputs": [],
   "source": [
    "'a' in a_dict # check whether 'a' is one of the **keys** of a_dict"
   ]
  },
  {
   "cell_type": "code",
   "execution_count": null,
   "metadata": {
    "id": "S7RjVMOAgjTH"
   },
   "outputs": [],
   "source": [
    "a_dict.items() # get all key-value pairs as a list of tuple"
   ]
  },
  {
   "cell_type": "code",
   "execution_count": null,
   "metadata": {
    "id": "m6nD0xFwgozD"
   },
   "outputs": [],
   "source": [
    "a_dict.keys() # get a list of keys of a_dict"
   ]
  },
  {
   "cell_type": "code",
   "execution_count": null,
   "metadata": {
    "id": "ygCJ2UfmgwTf"
   },
   "outputs": [],
   "source": [
    "# how about getting all values from a_dict?\n",
    "a_dict.values()"
   ]
  },
  {
   "cell_type": "markdown",
   "metadata": {
    "id": "veI7tzLGpvl3"
   },
   "source": [
    "### 6. Discussion"
   ]
  },
  {
   "cell_type": "markdown",
   "metadata": {
    "id": "L3gTsV-2UALi"
   },
   "source": [
    "Below is a small summary of properties of aforementioned collective data types:\n",
    "\n",
    "Properties | List | Tuple | String | Set | Dictionary \n",
    "--- | --- | --- | --- | --- | ---\n",
    "Mutable (Able to modify item after creation) | True | False | False | True | True\n",
    "Ordered (Values associated with indices) | True | True | True | False | False\n",
    "Allow Duplicate Values | True | True | True | False | True\n",
    "Key-value pair | False | False | False | False | True"
   ]
  },
  {
   "cell_type": "markdown",
   "metadata": {
    "id": "xGfvjEAqXdxV"
   },
   "source": [
    "**[OPTIONAL]**:\n",
    "\n",
    "It is interesting to see the effect of searching an item from these collective data types based on the time/speed of access. \n",
    "\n",
    "Let us try to run the below code and see the effect."
   ]
  },
  {
   "cell_type": "markdown",
   "metadata": {
    "id": "0vwFEh5HYmMa"
   },
   "source": [
    "#### 6.1 Searching an item from a set"
   ]
  },
  {
   "cell_type": "code",
   "execution_count": null,
   "metadata": {
    "id": "LoUaJee1X4DW"
   },
   "outputs": [],
   "source": [
    "a_set = set([1,3,5])\n",
    "%timeit 6 in a_set"
   ]
  },
  {
   "cell_type": "markdown",
   "metadata": {
    "id": "fyqHOV6EYu0J"
   },
   "source": [
    "#### 6.2 Searching an item from a list"
   ]
  },
  {
   "cell_type": "code",
   "execution_count": null,
   "metadata": {
    "id": "Z-YDAOiJYPYs"
   },
   "outputs": [],
   "source": [
    "a_list = [1,3,5]\n",
    "%timeit 6 in a_list"
   ]
  },
  {
   "cell_type": "markdown",
   "metadata": {
    "id": "m9uFVd4RYyXp"
   },
   "source": [
    "#### 6.3 Searching a key from a dictionary"
   ]
  },
  {
   "cell_type": "code",
   "execution_count": null,
   "metadata": {
    "id": "BR0uAWMvY01s"
   },
   "outputs": [],
   "source": [
    "a_dict = {1:'a',3:'b',5:'c'}\n",
    "%timeit 6 in a_dict"
   ]
  },
  {
   "cell_type": "markdown",
   "metadata": {
    "id": "Jc6QcS6iZ3PS"
   },
   "source": [
    "#### 6.4 Searching a pattern from a string"
   ]
  },
  {
   "cell_type": "code",
   "execution_count": null,
   "metadata": {
    "id": "VhxlTs75aAuO"
   },
   "outputs": [],
   "source": [
    "a_string = '135'\n",
    "%timeit '6' in a_string"
   ]
  },
  {
   "cell_type": "markdown",
   "metadata": {
    "id": "jIu2jrSPZylj"
   },
   "source": [
    "Based on the above outputs, we can say that searching an item in a **list** is much longer than other collective data types. It is because of the difference in the implementation between **list** and other data types. \n",
    "\n",
    "For more information, you can refer to the time complexities of the algorithms used in search operations:\n",
    "1. [linear search](https://en.wikipedia.org/wiki/Linear_search) for list\n",
    "2. searching in [hash table](https://en.wikipedia.org/wiki/Hash_table) for set and dictionary\n",
    "3. [Two-way string-matching algorithm](https://en.wikipedia.org/wiki/Two-way_string-matching_algorithm) for string"
   ]
  },
  {
   "cell_type": "markdown",
   "metadata": {
    "id": "hMtCvLVNxNe8"
   },
   "source": [
    "### 7. In-class Practices"
   ]
  },
  {
   "cell_type": "markdown",
   "metadata": {
    "heading_collapsed": true,
    "id": "IM_qBNbYZb4v"
   },
   "source": [
    "#### 7.1 Combine Dictionaries"
   ]
  },
  {
   "cell_type": "markdown",
   "metadata": {
    "hidden": true,
    "id": "wPyn20ZaZb4v"
   },
   "source": [
    "Write a Python script to concatenate following dictionaries to create a new one.\n",
    "\n",
    "<br>\n",
    "\n",
    "    Sample Dictionary:\n",
    "    dic1={'one':10, 'two':20}\n",
    "    dic2={'three':30, 'four':40}\n",
    "    dic3={'five':50,'six':60}\n",
    "\n",
    "    Expected Result : {'one': 10, 'two': 20, 'three': 30, 'four': 40, 'five': 50, 'six': 60}\n",
    "\n",
    "Hint: try `?dict.update`"
   ]
  },
  {
   "cell_type": "markdown",
   "metadata": {
    "heading_collapsed": true,
    "id": "gd4fzb-_Zb40"
   },
   "source": [
    "<b><font color='red'>Solution</font></b>"
   ]
  },
  {
   "cell_type": "code",
   "execution_count": null,
   "metadata": {
    "ExecuteTime": {
     "end_time": "2021-03-17T01:03:13.575820Z",
     "start_time": "2021-03-17T01:03:13.556237Z"
    },
    "hidden": true,
    "id": "KS_GgLUbZb41"
   },
   "outputs": [],
   "source": [
    "# define the dictionaries\n",
    "dic1={'one':10, 'two':20}\n",
    "dic2={'three':30, 'four':40}\n",
    "dic3={'five':50,'six':60}"
   ]
  },
  {
   "cell_type": "code",
   "execution_count": null,
   "metadata": {
    "id": "jFBD4OfE1lqD"
   },
   "outputs": [],
   "source": [
    "# solution 1 - the straight-forward way\n",
    "# define a new empty dictionary\n",
    "dic4 = {}\n",
    "\n",
    "dic4.update(dic1) # update the key-value pairs in dic4 with the items of dic1\n",
    "dic4.update(dic2)\n",
    "dic4.update(dic3)\n",
    "\n",
    "print(\"dict 4: \",dic4)"
   ]
  },
  {
   "cell_type": "code",
   "execution_count": null,
   "metadata": {
    "id": "i9y3BL1z2Pyz"
   },
   "outputs": [],
   "source": [
    "# solution 2 - using loop\n",
    "# define a new empty dictionary\n",
    "dic4 = {}\n",
    "\n",
    "# iterate through a tuple of dictionaries\n",
    "for d in (dic1, dic2, dic3):\n",
    "    # update the key-value pairs in dic4 with dic1, dic2 and dic3 in 1st, 2nd and 3rd iteration respectively\n",
    "    dic4.update(d)\n",
    "\n",
    "print(\"dict 4: \",dic4)"
   ]
  },
  {
   "cell_type": "code",
   "execution_count": null,
   "metadata": {
    "id": "tbM2vz_G1y34"
   },
   "outputs": [],
   "source": [
    "# solution 3 - using kwargs(keyword arguments)\n",
    "dic4 = dict(**dic1, **dic2, **dic3)\n",
    "\n",
    "\"\"\"\n",
    "   dict(**dic1,         **dic2,            **dic3         )\n",
    "=  dict(one=10, two=20, three=30, four=40, five=50, six=60)\n",
    "\"\"\"\n",
    "\n",
    "print(\"dict 4: \",dic4)"
   ]
  },
  {
   "cell_type": "code",
   "execution_count": null,
   "metadata": {
    "id": "60cQ1i7Q4K24"
   },
   "outputs": [],
   "source": [
    "# dict(one=10, two=20, three=30, four=40, five=50, six=60)"
   ]
  },
  {
   "cell_type": "markdown",
   "metadata": {
    "heading_collapsed": true,
    "id": "rI_Rvur8aNNE"
   },
   "source": [
    "#### 7.2 convert list into dictionary"
   ]
  },
  {
   "cell_type": "markdown",
   "metadata": {
    "hidden": true,
    "id": "dO4nzVgJaNNE"
   },
   "source": [
    "Write a python code to combine the following two list into a dictionary. \n",
    "\n",
    "\n",
    "    Sample List:\n",
    "    keys = ['zero', 'one', 'two']\n",
    "    values = [0, 1, 2]\n",
    "    Expected Result :{'zero': 0, 'one': 1, 'two': 2}\n",
    "\n",
    "Hint: try `?zip`"
   ]
  },
  {
   "cell_type": "markdown",
   "metadata": {
    "heading_collapsed": true,
    "id": "nHnSYLTK6jgG"
   },
   "source": [
    "<b><font color='red'>Solution</font></b>"
   ]
  },
  {
   "cell_type": "code",
   "execution_count": null,
   "metadata": {
    "hidden": true,
    "id": "9ecPXhQTaNNE"
   },
   "outputs": [],
   "source": [
    "# define 2 lists\n",
    "keys = ['zero', 'one', 'two']\n",
    "values = [0, 1, 2]\n",
    "# using zip function to combine two lists itemwise and convert to dictionary\n",
    "sampleDict = dict(zip(keys, values))\n",
    "print(sampleDict)"
   ]
  },
  {
   "cell_type": "markdown",
   "metadata": {
    "heading_collapsed": true,
    "id": "BuYzwWS-aNNF"
   },
   "source": [
    "#### 7.3 List Merging"
   ]
  },
  {
   "cell_type": "markdown",
   "metadata": {
    "hidden": true,
    "id": "BRvl7g9kaNNF"
   },
   "source": [
    "There are two lists, and your final goal is to merge these two lists. Before joining, your manager asks you to save the **odd** indices from the first elements, and **even** indices elements into two lists and then combine them. \n",
    "<br> \n",
    "\n",
    "    list1 = [2,6,4,8,9,10,15,17,20,22]\n",
    "    list2 = [5,6,3,27,16,19,10,26,33,80]\n",
    "<br>\n",
    "\n",
    "    Expected output:\n",
    "    Element at odd-index positions from list1\n",
    "    [6, 8, 10, 17, 22]\n",
    "    Element at even-index positions from list2\n",
    "    [5, 3, 16, 10, 33]\n",
    "    Printing Final third list\n",
    "    [6, 8, 10, 17, 22, 5, 3, 16, 10, 33]\n",
    "\n",
    "Hint: try `?list.extend` and list slicing"
   ]
  },
  {
   "cell_type": "markdown",
   "metadata": {
    "heading_collapsed": true,
    "id": "YdNKdDyq_Nqw"
   },
   "source": [
    "<b><font color='red'>Solution</font></b>"
   ]
  },
  {
   "cell_type": "code",
   "execution_count": null,
   "metadata": {
    "hidden": true,
    "id": "lz0hTlRbaNNF"
   },
   "outputs": [],
   "source": [
    "# define 2 lists\n",
    "list1 = [2,6,4,8,9,10,15,17,20, 22]\n",
    "list2 = [5,6,3,27,16,19,10,26,33,80]\n",
    "#create a empty list to store the merged list\n",
    "list3 = list()\n",
    "\n",
    "# geting odd-indexed item using list slicing\n",
    "oddElements = list1[1::2]\n",
    "print(\"Element at odd-index positions from list1\")\n",
    "print(oddElements)\n",
    "\n",
    "# geting even-indexed item using list slicing\n",
    "evenElement = list2[0::2]\n",
    "print(\"Element at even-index positions from list2\")\n",
    "print(evenElement)\n",
    "\n",
    "# display the final odd,even index list and merged list.\n",
    "print(\"Printing Final third list\")\n",
    "list3.extend(oddElements)\n",
    "list3.extend(evenElement)\n",
    "print(list3)"
   ]
  },
  {
   "cell_type": "markdown",
   "metadata": {
    "id": "OvSuIYMpvAJe"
   },
   "source": [
    "## Exercise\n",
    "\n",
    "Now, try to write the code and add comments for the following questions.\n",
    "\n",
    "*You only need to use the techniques learnt in this notebook to complete the tasks*"
   ]
  },
  {
   "cell_type": "markdown",
   "metadata": {
    "heading_collapsed": true,
    "id": "WPtXZNIHaNNF"
   },
   "source": [
    "### Task A: list certain value in a list"
   ]
  },
  {
   "cell_type": "markdown",
   "metadata": {
    "hidden": true,
    "id": "yvMOCSIiaNNF"
   },
   "source": [
    "There is a nested list. Your task is to print the z in the string of ‘baz’. Please write the code to list the ‘z’. \n",
    "<br>\n",
    "\n",
    "    x = [10, [3.141, 20, [30, 'baz', 2.718]], 'foo'] \n"
   ]
  },
  {
   "cell_type": "markdown",
   "metadata": {
    "heading_collapsed": true,
    "id": "X8fKlyuS_qtG"
   },
   "source": [
    "<b><font color='red'>Solution</font></b>"
   ]
  },
  {
   "cell_type": "code",
   "execution_count": null,
   "metadata": {
    "hidden": true,
    "id": "1yyBGn_MaNNF"
   },
   "outputs": [],
   "source": [
    "# define the nested list\n",
    "x = [10, [3.141, 20, [30, 'baz', 2.718]], 'foo']\n",
    "\n",
    "\"\"\"\n",
    "All we need is to peel off the layers and get to the core\n",
    "x[1] → [3.141, 20, [30, 'baz', 2.718]]\n",
    "x[1][2] → [30, 'baz', 2.718]\n",
    "x[1][2][1] → 'baz'\n",
    "x[1][2][1][2] → 'z'\n",
    "\"\"\"\n",
    "x[1][2][1][2]"
   ]
  },
  {
   "cell_type": "markdown",
   "metadata": {
    "heading_collapsed": true,
    "id": "y1KyWQvyaNNG"
   },
   "source": [
    "### Task B: Access to the dictionary value"
   ]
  },
  {
   "cell_type": "markdown",
   "metadata": {
    "hidden": true,
    "id": "5sMfyXbbaNNG"
   },
   "source": [
    "There is one interview test ask you to write the code to access the value of marks of chemistry subject\n",
    "<br>\n",
    "\n",
    "    SampDict={'Class': {'Student' : {'name': 'Mike', 'Marks': {'physics' : 80, 'chemistry':70}}}}\n"
   ]
  },
  {
   "cell_type": "code",
   "execution_count": null,
   "metadata": {
    "hidden": true,
    "id": "ByYkklaRaNNG"
   },
   "outputs": [],
   "source": [
    "#define dictionary\n",
    "SampDict={'Class': {'Student' : {'name': 'Mike', 'Marks': {'physics' : 80, 'chemistry':70}}}}\n",
    "#display chemistry subject marks\n",
    "print(SampDict['Class']['Student']['Marks']['chemistry'])\n"
   ]
  },
  {
   "cell_type": "markdown",
   "metadata": {
    "id": "T-4aAwvbQvqp"
   },
   "source": [
    "### Task C: Calculator\n",
    "\n",
    "a) Write a python code that stores two integer numbers as ‘x’ and ‘y’, then performs the following operations: +,- ,÷,×,mod,x sin(y). \n",
    "- Ensure that your statements print in a way that isn’t ambiguous. \n",
    "- At the end print the types of both x and y."
   ]
  },
  {
   "cell_type": "code",
   "execution_count": null,
   "metadata": {
    "id": "hS8oXxXKRH4B"
   },
   "outputs": [],
   "source": [
    "# import sin() function from math library\n",
    "from math import sin\n",
    "\n",
    "# assign value to variable x\n",
    "\n",
    "# assign value to variable y\n",
    "\n",
    "# print out the results from the operations between x and y"
   ]
  },
  {
   "cell_type": "markdown",
   "metadata": {
    "id": "JLU7DOaJT7G6"
   },
   "source": [
    "b) Now, rather than hard coding ‘x’ and ‘y’, try taking input from the user. Did you have any problems just using ‘input()’? "
   ]
  },
  {
   "cell_type": "code",
   "execution_count": null,
   "metadata": {
    "id": "50EMqXkzRTEg"
   },
   "outputs": [],
   "source": [
    "# write the answer here\n"
   ]
  }
 ],
 "metadata": {
  "colab": {
   "collapsed_sections": [],
   "name": "FIT9136 Week 3 Lab Activities.ipynb",
   "provenance": [],
   "toc_visible": true
  },
  "kernelspec": {
   "display_name": "Python 3",
   "language": "python",
   "name": "python3"
  },
  "language_info": {
   "codemirror_mode": {
    "name": "ipython",
    "version": 3
   },
   "file_extension": ".py",
   "mimetype": "text/x-python",
   "name": "python",
   "nbconvert_exporter": "python",
   "pygments_lexer": "ipython3",
   "version": "3.7.6"
  },
  "latex_envs": {
   "LaTeX_envs_menu_present": true,
   "autoclose": false,
   "autocomplete": true,
   "bibliofile": "biblio.bib",
   "cite_by": "apalike",
   "current_citInitial": 1,
   "eqLabelWithNumbers": true,
   "eqNumInitial": 1,
   "hotkeys": {
    "equation": "Ctrl-E",
    "itemize": "Ctrl-I"
   },
   "labels_anchors": false,
   "latex_user_defs": false,
   "report_style_numbering": false,
   "user_envs_cfg": false
  },
  "toc": {
   "base_numbering": 1,
   "nav_menu": {},
   "number_sections": true,
   "sideBar": true,
   "skip_h1_title": false,
   "title_cell": "Table of Contents",
   "title_sidebar": "Contents",
   "toc_cell": false,
   "toc_position": {},
   "toc_section_display": true,
   "toc_window_display": false
  }
 },
 "nbformat": 4,
 "nbformat_minor": 0
}
