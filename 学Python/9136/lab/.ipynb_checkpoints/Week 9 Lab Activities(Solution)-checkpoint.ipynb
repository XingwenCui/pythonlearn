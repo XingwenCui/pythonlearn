{
 "cells": [
  {
   "cell_type": "markdown",
   "metadata": {
    "id": "PhIWVpPhxPOM"
   },
   "source": [
    "# FIT9136 Algorithms and programming foundations in Python "
   ]
  },
  {
   "cell_type": "markdown",
   "metadata": {
    "id": "DqMMlK-RxPOM"
   },
   "source": [
    "# Week 9 Lab Activities: File Manipulation, Testing And Exception Handling, Python Library And Packages"
   ]
  },
  {
   "cell_type": "markdown",
   "metadata": {
    "id": "ivqk2p4tqkHd"
   },
   "source": [
    "<small>#libraries #re #matplotlib #numpy #pandas</small>"
   ]
  },
  {
   "cell_type": "markdown",
   "metadata": {
    "id": "hQB2GEewhNtq"
   },
   "source": [
    "Have you ever wanted to implement some algorithms, <font size='4em' color='red'><b>BUT</b></font> they are too difficult to understand, if not impossible to write the code?\n",
    "\n",
    "![Frustrated Programmer Gif from Google](https://miro.medium.com/max/400/0*vqNh5KmPN5C8Uio9.gif)\n",
    "\n",
    "<small>(It is not advised to hit the keyboard by your head, or any other way to hurt yourself.)</small>\n",
    "\n",
    "With different Python libraries developed by a large group of great developers, our lives have become much easier because we can simply plug in and use the codes written by them to achieve the things we want to do.\n",
    "\n",
    "In this lab, we are going to explore several commonly used Python libraries:\n",
    "1. re\n",
    "2. pandas\n",
    "3. matplotlib\n",
    "4. numpy"
   ]
  },
  {
   "cell_type": "markdown",
   "metadata": {
    "id": "J_b9q5Hr60CH"
   },
   "source": [
    "## 1. re\n",
    "\n",
    "<blockquote>\n",
    "This module provides regular expression matching operations ... -<a href='https://docs.python.org/3/library/re.html'>Python 3 Docs</a>\n",
    "</blockquote>\n",
    "\n",
    "So, now we know we need to import **`re`** library in order to use regular expressions. "
   ]
  },
  {
   "cell_type": "code",
   "execution_count": null,
   "metadata": {
    "id": "GZGmfUXZ-cis"
   },
   "outputs": [],
   "source": [
    "import re # import re library"
   ]
  },
  {
   "cell_type": "markdown",
   "metadata": {
    "id": "-DrJNDCXIiAV"
   },
   "source": [
    "### 1.1 Commonly used methods"
   ]
  },
  {
   "cell_type": "markdown",
   "metadata": {
    "id": "NzyjVrBZJJSm"
   },
   "source": [
    "#### **A.** `re.search(pattern, string, flags=0)`\n",
    "\n",
    "<blockquote>\n",
    "Scan through string looking for the <b>first</b> location where the regular expression pattern produces a match, and return a corresponding match object. -Python 3 Doc\n",
    "</blockquote>"
   ]
  },
  {
   "cell_type": "code",
   "execution_count": null,
   "metadata": {
    "id": "QqeS7b_8Iqkl"
   },
   "outputs": [],
   "source": [
    "?re.search"
   ]
  },
  {
   "cell_type": "code",
   "execution_count": 1,
   "metadata": {
    "colab": {
     "base_uri": "https://localhost:8080/",
     "height": 232
    },
    "executionInfo": {
     "elapsed": 1279,
     "status": "error",
     "timestamp": 1632264206283,
     "user": {
      "displayName": "Fahimeh Saleh",
      "photoUrl": "https://lh3.googleusercontent.com/a-/AOh14Gje5X2fTGhjTW_ZWV0TW3nCbvrtPvoLMxJhPWyHyg=s64",
      "userId": "09569549651747675062"
     },
     "user_tz": -600
    },
    "id": "idALsFXvJohh",
    "outputId": "d18a1cb9-417b-40cc-90b0-9d54c91e96b0"
   },
   "outputs": [
    {
     "ename": "NameError",
     "evalue": "ignored",
     "output_type": "error",
     "traceback": [
      "\u001b[0;31m---------------------------------------------------------------------------\u001b[0m",
      "\u001b[0;31mNameError\u001b[0m                                 Traceback (most recent call last)",
      "\u001b[0;32m<ipython-input-1-eb3d5dfc639f>\u001b[0m in \u001b[0;36m<module>\u001b[0;34m()\u001b[0m\n\u001b[1;32m      3\u001b[0m \u001b[0mpattern\u001b[0m \u001b[0;34m=\u001b[0m \u001b[0;34m'abc'\u001b[0m\u001b[0;34m\u001b[0m\u001b[0;34m\u001b[0m\u001b[0m\n\u001b[1;32m      4\u001b[0m \u001b[0;34m\u001b[0m\u001b[0m\n\u001b[0;32m----> 5\u001b[0;31m \u001b[0mresult\u001b[0m \u001b[0;34m=\u001b[0m \u001b[0mre\u001b[0m\u001b[0;34m.\u001b[0m\u001b[0msearch\u001b[0m\u001b[0;34m(\u001b[0m\u001b[0mpattern\u001b[0m\u001b[0;34m,\u001b[0m \u001b[0msearch_string\u001b[0m\u001b[0;34m)\u001b[0m\u001b[0;34m\u001b[0m\u001b[0;34m\u001b[0m\u001b[0m\n\u001b[0m\u001b[1;32m      6\u001b[0m \u001b[0;34m\u001b[0m\u001b[0m\n\u001b[1;32m      7\u001b[0m \u001b[0mprint\u001b[0m\u001b[0;34m(\u001b[0m\u001b[0;34m\"result:\"\u001b[0m\u001b[0;34m,\u001b[0m \u001b[0mresult\u001b[0m\u001b[0;34m)\u001b[0m\u001b[0;34m\u001b[0m\u001b[0;34m\u001b[0m\u001b[0m\n",
      "\u001b[0;31mNameError\u001b[0m: name 're' is not defined"
     ]
    }
   ],
   "source": [
    "# searching 'abc' from '1234abc5678derg abc'\n",
    "search_string = '1234abc5678derg abc'\n",
    "pattern = 'abc'\n",
    "\n",
    "result = re.search(pattern, search_string)\n",
    "\n",
    "print(\"result:\", result)\n",
    "print(\"result.span():\", result.span())\n",
    "print(\"search_string[result.span()[0]: result.span()[1]] => search_string[4:7]:\", search_string[result.span()[0]: result.span()[1]]) # the index location of 'abc' is from 4(inclusive) to 7(exclusive)"
   ]
  },
  {
   "cell_type": "code",
   "execution_count": null,
   "metadata": {
    "id": "-JV1CX3LLyOl"
   },
   "outputs": [],
   "source": [
    "# searching '2bc' from '1234abc5678derg'\n",
    "search_string = '1234abc5678derg'\n",
    "pattern = '2bc'\n",
    "\n",
    "result = re.search(pattern, search_string)\n",
    "print(\"result:\", result) # if pattern not found, None is returned from re.search"
   ]
  },
  {
   "cell_type": "markdown",
   "metadata": {
    "id": "HewV6u2wMNAz"
   },
   "source": [
    "#### **B.** `re.findall(pattern, string, flags=0)`\n",
    "<blockquote>\n",
    "Return all <b>non-overlapping matches</b> of pattern in string, as a list of strings or tuples. -Python 3 Doc\n",
    "</blockquote>"
   ]
  },
  {
   "cell_type": "code",
   "execution_count": null,
   "metadata": {
    "id": "KXvx-47gMMiN"
   },
   "outputs": [],
   "source": [
    "?re.findall"
   ]
  },
  {
   "cell_type": "code",
   "execution_count": null,
   "metadata": {
    "id": "wXaqMfrbMiAF"
   },
   "outputs": [],
   "source": [
    "search_string = '1234abc5678 dergabc 30374 abcr3g'\n",
    "pattern = 'abc'\n",
    "\n",
    "result = re.findall(pattern, search_string)\n",
    "print(result) # all 'abc's found in search_string as a list"
   ]
  },
  {
   "cell_type": "markdown",
   "metadata": {
    "id": "6op1le8oPaCk"
   },
   "source": [
    "#### **C.** `re.sub(pattern, repl, string, count=0, flags=0)`\n",
    "\n",
    "<blockquote>\n",
    "Return the string obtained by replacing the <b>leftmost non-overlapping occurrences</b> of pattern in string by the replacement repl. If the pattern isn’t found, string is returned unchanged. -Python 3 Doc\n",
    "</blockquote>"
   ]
  },
  {
   "cell_type": "code",
   "execution_count": null,
   "metadata": {
    "id": "MM0PDgRPPqas"
   },
   "outputs": [],
   "source": [
    "?re.sub"
   ]
  },
  {
   "cell_type": "code",
   "execution_count": null,
   "metadata": {
    "id": "0X01ZFfoP4wm"
   },
   "outputs": [],
   "source": [
    "search_string = '1234abc5678 dergabc 30374 abcr3g'\n",
    "\n",
    "pattern = 'abc'\n",
    "repl = '   '\n",
    "\n",
    "result = re.sub(pattern, repl, search_string)\n",
    "print(result) # the replaced string"
   ]
  },
  {
   "cell_type": "markdown",
   "metadata": {
    "id": "W5Y1CIsd9RHY"
   },
   "source": [
    "### 1.2 Regular Expressions\n",
    "\n",
    "Now we know some of the methods implemented in the re library. However, what actually are regular expressions?\n",
    "\n",
    "<blockquote>\n",
    "A regular expression (shortened as regex or regexp...) is a sequence of characters that specifies a search pattern. - Wikipedia\n",
    "</blockquote>\n",
    "\n",
    "Some useful tools to test/visualise the regex:\n",
    "1. [regex101](https://regex101.com/): a webapp to test your regex\n",
    "2. [Regexper](https://regexper.com/): regex visualisation tool"
   ]
  },
  {
   "cell_type": "markdown",
   "metadata": {
    "id": "g4AjIhnteQYG"
   },
   "source": [
    "#### <b>A. Basic Syntax: A query string</b>\n",
    "\n",
    "- e.g.: `r\"abc\"` if we want to search \"abc\" (Simply the string you want to search after you press *ctrl+F* or *Command+F*)"
   ]
  },
  {
   "cell_type": "markdown",
   "metadata": {
    "id": "7uyQmF2lHaOn"
   },
   "source": [
    "<font color='red'><b>Question:</b></font> What does the `r` before the quote specify?"
   ]
  },
  {
   "cell_type": "code",
   "execution_count": null,
   "metadata": {
    "id": "JyLKC9uUhKMx"
   },
   "outputs": [],
   "source": [
    "str1 = \"abc\\n\"\n",
    "print(str1)"
   ]
  },
  {
   "cell_type": "code",
   "execution_count": null,
   "metadata": {
    "id": "FQtAFSQZGKku"
   },
   "outputs": [],
   "source": [
    "str2 = r\"abc\\n\"\n",
    "print(str2)"
   ]
  },
  {
   "cell_type": "markdown",
   "metadata": {
    "id": "59eF7mvFH-Vg"
   },
   "source": [
    "<font color='red'><b>Answer:</b></font> `r` refers to **raw string**. \n",
    "\n",
    "From the example above, the `\\n` is preserved in raw string. However, it becomes a new line in normal string."
   ]
  },
  {
   "cell_type": "markdown",
   "metadata": {
    "id": "vhjewmHnIW62"
   },
   "source": [
    "#### <b>B. (Some) Special characters in regex</b>\n",
    "\n"
   ]
  },
  {
   "cell_type": "markdown",
   "metadata": {
    "id": "aG8ALNdoTkbo"
   },
   "source": [
    "##### **B1.** `.` (Dot.): Wildcard. Can be any character except newline characters."
   ]
  },
  {
   "cell_type": "code",
   "execution_count": null,
   "metadata": {
    "id": "YqdZa1jUTq9i"
   },
   "outputs": [],
   "source": [
    "search_string = '11 1. Rand0M $trinG'\n",
    "\n",
    "pattern = r'1.'\n",
    "\n",
    "result = re.search(pattern, search_string)\n",
    "print(result)"
   ]
  },
  {
   "cell_type": "markdown",
   "metadata": {
    "id": "1EIf1YsOUyhc"
   },
   "source": [
    "<font color='red'><b>Question:</b></font> What if we want to search '1.' from \"11 1. Rand0M $trinG\" literally?</font>"
   ]
  },
  {
   "cell_type": "code",
   "execution_count": null,
   "metadata": {
    "id": "fNdgHh4cVHTJ"
   },
   "outputs": [],
   "source": [
    "search_string = '11 1. Rand0M $trinG'\n",
    "\n",
    "pattern = r'1\\.' # put a \\ before . to escape wildcard, same applies to escape all other special characters in regex\n",
    "\n",
    "result = re.search(pattern, search_string)\n",
    "print(result)"
   ]
  },
  {
   "cell_type": "markdown",
   "metadata": {
    "id": "qvRCbYo4TiZ9"
   },
   "source": [
    "##### **B2.** `*`: Causes the resulting RE to match 0 or more repetitions of the preceding RE, as many repetitions as are possible. \n",
    "\n",
    "e.g. `r\"ab*\"` will match ‘a’, ‘ab’, or ‘a’ followed by any number of ‘b’s.\n",
    "\n",
    "![image.png](data:image/png;base64,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)"
   ]
  },
  {
   "cell_type": "code",
   "execution_count": null,
   "metadata": {
    "id": "4_96NwBLIPX_"
   },
   "outputs": [],
   "source": [
    "search_string = '11 1. Rand0M $trinG'\n",
    "\n",
    "pattern = r'.*' # searching for strings with 0 or more characters\n",
    "\n",
    "result = re.findall(pattern, search_string)\n",
    "print(result)"
   ]
  },
  {
   "cell_type": "markdown",
   "metadata": {
    "id": "vFooc6e2dO_2"
   },
   "source": [
    "##### **B3.** `*?`: The '\\*' qualifier is *greedy*; it matches as much text as possible.\n",
    "\n",
    "Adding `?` after the `*` makes it *lazy*; as few characters as possible will be matched."
   ]
  },
  {
   "cell_type": "code",
   "execution_count": null,
   "metadata": {
    "id": "b1CEXlGicm8N"
   },
   "outputs": [],
   "source": [
    "search_string = '11 1. Rand0M $trinG Rand0M $trinG'\n",
    "\n",
    "pattern1 = r'R.*M' # greedy\n",
    "result1 = re.search(pattern1, search_string)\n",
    "\n",
    "pattern2 = r'R.*?M' # lazy\n",
    "result2 = re.search(pattern2, search_string)\n",
    "\n",
    "print(result1, result2)"
   ]
  },
  {
   "cell_type": "markdown",
   "metadata": {
    "id": "XDRENuSxfBqd"
   },
   "source": [
    "<font color='red'><b>Task:</b></font> Write a code to replace all emojis(starting with `\"(\"` and ending with `\")\"`) with `\"[emoji]\"` in the following text record."
   ]
  },
  {
   "cell_type": "code",
   "execution_count": null,
   "metadata": {
    "id": "WhjRl83Odv6_"
   },
   "outputs": [],
   "source": [
    "text_rec = \"\"\"\n",
    "A: Congratulations!(＾∇＾)(｡ì _ í｡) You've won a $1,000 Walmart gift card. Go to http://bit.ly/d3FJe1 to claim now.\n",
    "B: I am good. Nice try!(^_^)\n",
    "C: Your tax refund is pending acceptance.(>.<) Must accept within 24 hours: http://bit.ly/fIhE3W16432\n",
    "B: Why is everyone trying to scam me!! (///▽///)\n",
    "\"\"\"\n",
    "\n",
    "pattern = r\"\\(.*?\\)\" # search for characters after each '(' until reaching the first ')'\n",
    "repl = '[emoji]'\n",
    "\n",
    "result = re.sub(pattern, repl, text_rec)\n",
    "print(result)"
   ]
  },
  {
   "cell_type": "markdown",
   "metadata": {
    "id": "1c4w5MCspB3k"
   },
   "source": [
    "## 2. Pandas\n",
    "\n",
    "<blockquote>\n",
    "pandas is an open source, BSD-licensed library providing high-performance, easy-to-use data structures and data analysis tools for the Python programming language. - <a href='https://pandas.pydata.org/docs/index.html'>Pandas official site</a>\n",
    "</blockquote>"
   ]
  },
  {
   "cell_type": "code",
   "execution_count": 3,
   "metadata": {
    "executionInfo": {
     "elapsed": 655,
     "status": "ok",
     "timestamp": 1632264256710,
     "user": {
      "displayName": "Fahimeh Saleh",
      "photoUrl": "https://lh3.googleusercontent.com/a-/AOh14Gje5X2fTGhjTW_ZWV0TW3nCbvrtPvoLMxJhPWyHyg=s64",
      "userId": "09569549651747675062"
     },
     "user_tz": -600
    },
    "id": "cgiR8S3d_UmD"
   },
   "outputs": [],
   "source": [
    "import pandas as pd"
   ]
  },
  {
   "cell_type": "markdown",
   "metadata": {
    "id": "m_qx_7jD_FOQ"
   },
   "source": [
    "### 2.1 Create a pandas DataFrame\n",
    "\n",
    "There are several ways to create a pandas DataFrame."
   ]
  },
  {
   "cell_type": "markdown",
   "metadata": {
    "id": "uyaWFEpg_PfR"
   },
   "source": [
    "#### A. Read from tabular data files"
   ]
  },
  {
   "cell_type": "markdown",
   "metadata": {
    "id": "8kBBF92jAzG4"
   },
   "source": [
    "1. Tab-separated values(TSV)\n",
    "    \n",
    "    `read_table()`"
   ]
  },
  {
   "cell_type": "code",
   "execution_count": 4,
   "metadata": {
    "colab": {
     "base_uri": "https://localhost:8080/",
     "height": 392
    },
    "executionInfo": {
     "elapsed": 373,
     "status": "error",
     "timestamp": 1632264262525,
     "user": {
      "displayName": "Fahimeh Saleh",
      "photoUrl": "https://lh3.googleusercontent.com/a-/AOh14Gje5X2fTGhjTW_ZWV0TW3nCbvrtPvoLMxJhPWyHyg=s64",
      "userId": "09569549651747675062"
     },
     "user_tz": -600
    },
    "id": "IndNvKekh8s_",
    "outputId": "6af12992-f3d9-4e55-c44b-044f46341ddc"
   },
   "outputs": [
    {
     "ename": "FileNotFoundError",
     "evalue": "ignored",
     "output_type": "error",
     "traceback": [
      "\u001b[0;31m---------------------------------------------------------------------------\u001b[0m",
      "\u001b[0;31mFileNotFoundError\u001b[0m                         Traceback (most recent call last)",
      "\u001b[0;32m<ipython-input-4-1dfd3cd916c4>\u001b[0m in \u001b[0;36m<module>\u001b[0;34m()\u001b[0m\n\u001b[0;32m----> 1\u001b[0;31m \u001b[0mdf_tsv\u001b[0m \u001b[0;34m=\u001b[0m \u001b[0mpd\u001b[0m\u001b[0;34m.\u001b[0m\u001b[0mread_table\u001b[0m\u001b[0;34m(\u001b[0m\u001b[0;34m'FlyRNAi_data_baseline_vs_EGF.txt'\u001b[0m\u001b[0;34m)\u001b[0m\u001b[0;34m\u001b[0m\u001b[0;34m\u001b[0m\u001b[0m\n\u001b[0m\u001b[1;32m      2\u001b[0m \u001b[0mdf_tsv\u001b[0m\u001b[0;34m.\u001b[0m\u001b[0mhead\u001b[0m\u001b[0;34m(\u001b[0m\u001b[0;34m)\u001b[0m \u001b[0;31m# inspecting the first 5 rows of the DataFrame\u001b[0m\u001b[0;34m\u001b[0m\u001b[0;34m\u001b[0m\u001b[0m\n",
      "\u001b[0;32m/usr/local/lib/python3.7/dist-packages/pandas/io/parsers.py\u001b[0m in \u001b[0;36mread_table\u001b[0;34m(filepath_or_buffer, sep, delimiter, header, names, index_col, usecols, squeeze, prefix, mangle_dupe_cols, dtype, engine, converters, true_values, false_values, skipinitialspace, skiprows, skipfooter, nrows, na_values, keep_default_na, na_filter, verbose, skip_blank_lines, parse_dates, infer_datetime_format, keep_date_col, date_parser, dayfirst, cache_dates, iterator, chunksize, compression, thousands, decimal, lineterminator, quotechar, quoting, doublequote, escapechar, comment, encoding, dialect, error_bad_lines, warn_bad_lines, delim_whitespace, low_memory, memory_map, float_precision)\u001b[0m\n\u001b[1;32m    765\u001b[0m         \u001b[0;31m# default to avoid a ValueError\u001b[0m\u001b[0;34m\u001b[0m\u001b[0;34m\u001b[0m\u001b[0;34m\u001b[0m\u001b[0m\n\u001b[1;32m    766\u001b[0m         \u001b[0msep\u001b[0m \u001b[0;34m=\u001b[0m \u001b[0;34m\",\"\u001b[0m\u001b[0;34m\u001b[0m\u001b[0;34m\u001b[0m\u001b[0m\n\u001b[0;32m--> 767\u001b[0;31m     \u001b[0;32mreturn\u001b[0m \u001b[0mread_csv\u001b[0m\u001b[0;34m(\u001b[0m\u001b[0;34m**\u001b[0m\u001b[0mlocals\u001b[0m\u001b[0;34m(\u001b[0m\u001b[0;34m)\u001b[0m\u001b[0;34m)\u001b[0m\u001b[0;34m\u001b[0m\u001b[0;34m\u001b[0m\u001b[0m\n\u001b[0m\u001b[1;32m    768\u001b[0m \u001b[0;34m\u001b[0m\u001b[0m\n\u001b[1;32m    769\u001b[0m \u001b[0;34m\u001b[0m\u001b[0m\n",
      "\u001b[0;32m/usr/local/lib/python3.7/dist-packages/pandas/io/parsers.py\u001b[0m in \u001b[0;36mread_csv\u001b[0;34m(filepath_or_buffer, sep, delimiter, header, names, index_col, usecols, squeeze, prefix, mangle_dupe_cols, dtype, engine, converters, true_values, false_values, skipinitialspace, skiprows, skipfooter, nrows, na_values, keep_default_na, na_filter, verbose, skip_blank_lines, parse_dates, infer_datetime_format, keep_date_col, date_parser, dayfirst, cache_dates, iterator, chunksize, compression, thousands, decimal, lineterminator, quotechar, quoting, doublequote, escapechar, comment, encoding, dialect, error_bad_lines, warn_bad_lines, delim_whitespace, low_memory, memory_map, float_precision)\u001b[0m\n\u001b[1;32m    686\u001b[0m     )\n\u001b[1;32m    687\u001b[0m \u001b[0;34m\u001b[0m\u001b[0m\n\u001b[0;32m--> 688\u001b[0;31m     \u001b[0;32mreturn\u001b[0m \u001b[0m_read\u001b[0m\u001b[0;34m(\u001b[0m\u001b[0mfilepath_or_buffer\u001b[0m\u001b[0;34m,\u001b[0m \u001b[0mkwds\u001b[0m\u001b[0;34m)\u001b[0m\u001b[0;34m\u001b[0m\u001b[0;34m\u001b[0m\u001b[0m\n\u001b[0m\u001b[1;32m    689\u001b[0m \u001b[0;34m\u001b[0m\u001b[0m\n\u001b[1;32m    690\u001b[0m \u001b[0;34m\u001b[0m\u001b[0m\n",
      "\u001b[0;32m/usr/local/lib/python3.7/dist-packages/pandas/io/parsers.py\u001b[0m in \u001b[0;36m_read\u001b[0;34m(filepath_or_buffer, kwds)\u001b[0m\n\u001b[1;32m    452\u001b[0m \u001b[0;34m\u001b[0m\u001b[0m\n\u001b[1;32m    453\u001b[0m     \u001b[0;31m# Create the parser.\u001b[0m\u001b[0;34m\u001b[0m\u001b[0;34m\u001b[0m\u001b[0;34m\u001b[0m\u001b[0m\n\u001b[0;32m--> 454\u001b[0;31m     \u001b[0mparser\u001b[0m \u001b[0;34m=\u001b[0m \u001b[0mTextFileReader\u001b[0m\u001b[0;34m(\u001b[0m\u001b[0mfp_or_buf\u001b[0m\u001b[0;34m,\u001b[0m \u001b[0;34m**\u001b[0m\u001b[0mkwds\u001b[0m\u001b[0;34m)\u001b[0m\u001b[0;34m\u001b[0m\u001b[0;34m\u001b[0m\u001b[0m\n\u001b[0m\u001b[1;32m    455\u001b[0m \u001b[0;34m\u001b[0m\u001b[0m\n\u001b[1;32m    456\u001b[0m     \u001b[0;32mif\u001b[0m \u001b[0mchunksize\u001b[0m \u001b[0;32mor\u001b[0m \u001b[0miterator\u001b[0m\u001b[0;34m:\u001b[0m\u001b[0;34m\u001b[0m\u001b[0;34m\u001b[0m\u001b[0m\n",
      "\u001b[0;32m/usr/local/lib/python3.7/dist-packages/pandas/io/parsers.py\u001b[0m in \u001b[0;36m__init__\u001b[0;34m(self, f, engine, **kwds)\u001b[0m\n\u001b[1;32m    946\u001b[0m             \u001b[0mself\u001b[0m\u001b[0;34m.\u001b[0m\u001b[0moptions\u001b[0m\u001b[0;34m[\u001b[0m\u001b[0;34m\"has_index_names\"\u001b[0m\u001b[0;34m]\u001b[0m \u001b[0;34m=\u001b[0m \u001b[0mkwds\u001b[0m\u001b[0;34m[\u001b[0m\u001b[0;34m\"has_index_names\"\u001b[0m\u001b[0;34m]\u001b[0m\u001b[0;34m\u001b[0m\u001b[0;34m\u001b[0m\u001b[0m\n\u001b[1;32m    947\u001b[0m \u001b[0;34m\u001b[0m\u001b[0m\n\u001b[0;32m--> 948\u001b[0;31m         \u001b[0mself\u001b[0m\u001b[0;34m.\u001b[0m\u001b[0m_make_engine\u001b[0m\u001b[0;34m(\u001b[0m\u001b[0mself\u001b[0m\u001b[0;34m.\u001b[0m\u001b[0mengine\u001b[0m\u001b[0;34m)\u001b[0m\u001b[0;34m\u001b[0m\u001b[0;34m\u001b[0m\u001b[0m\n\u001b[0m\u001b[1;32m    949\u001b[0m \u001b[0;34m\u001b[0m\u001b[0m\n\u001b[1;32m    950\u001b[0m     \u001b[0;32mdef\u001b[0m \u001b[0mclose\u001b[0m\u001b[0;34m(\u001b[0m\u001b[0mself\u001b[0m\u001b[0;34m)\u001b[0m\u001b[0;34m:\u001b[0m\u001b[0;34m\u001b[0m\u001b[0;34m\u001b[0m\u001b[0m\n",
      "\u001b[0;32m/usr/local/lib/python3.7/dist-packages/pandas/io/parsers.py\u001b[0m in \u001b[0;36m_make_engine\u001b[0;34m(self, engine)\u001b[0m\n\u001b[1;32m   1178\u001b[0m     \u001b[0;32mdef\u001b[0m \u001b[0m_make_engine\u001b[0m\u001b[0;34m(\u001b[0m\u001b[0mself\u001b[0m\u001b[0;34m,\u001b[0m \u001b[0mengine\u001b[0m\u001b[0;34m=\u001b[0m\u001b[0;34m\"c\"\u001b[0m\u001b[0;34m)\u001b[0m\u001b[0;34m:\u001b[0m\u001b[0;34m\u001b[0m\u001b[0;34m\u001b[0m\u001b[0m\n\u001b[1;32m   1179\u001b[0m         \u001b[0;32mif\u001b[0m \u001b[0mengine\u001b[0m \u001b[0;34m==\u001b[0m \u001b[0;34m\"c\"\u001b[0m\u001b[0;34m:\u001b[0m\u001b[0;34m\u001b[0m\u001b[0;34m\u001b[0m\u001b[0m\n\u001b[0;32m-> 1180\u001b[0;31m             \u001b[0mself\u001b[0m\u001b[0;34m.\u001b[0m\u001b[0m_engine\u001b[0m \u001b[0;34m=\u001b[0m \u001b[0mCParserWrapper\u001b[0m\u001b[0;34m(\u001b[0m\u001b[0mself\u001b[0m\u001b[0;34m.\u001b[0m\u001b[0mf\u001b[0m\u001b[0;34m,\u001b[0m \u001b[0;34m**\u001b[0m\u001b[0mself\u001b[0m\u001b[0;34m.\u001b[0m\u001b[0moptions\u001b[0m\u001b[0;34m)\u001b[0m\u001b[0;34m\u001b[0m\u001b[0;34m\u001b[0m\u001b[0m\n\u001b[0m\u001b[1;32m   1181\u001b[0m         \u001b[0;32melse\u001b[0m\u001b[0;34m:\u001b[0m\u001b[0;34m\u001b[0m\u001b[0;34m\u001b[0m\u001b[0m\n\u001b[1;32m   1182\u001b[0m             \u001b[0;32mif\u001b[0m \u001b[0mengine\u001b[0m \u001b[0;34m==\u001b[0m \u001b[0;34m\"python\"\u001b[0m\u001b[0;34m:\u001b[0m\u001b[0;34m\u001b[0m\u001b[0;34m\u001b[0m\u001b[0m\n",
      "\u001b[0;32m/usr/local/lib/python3.7/dist-packages/pandas/io/parsers.py\u001b[0m in \u001b[0;36m__init__\u001b[0;34m(self, src, **kwds)\u001b[0m\n\u001b[1;32m   2008\u001b[0m         \u001b[0mkwds\u001b[0m\u001b[0;34m[\u001b[0m\u001b[0;34m\"usecols\"\u001b[0m\u001b[0;34m]\u001b[0m \u001b[0;34m=\u001b[0m \u001b[0mself\u001b[0m\u001b[0;34m.\u001b[0m\u001b[0musecols\u001b[0m\u001b[0;34m\u001b[0m\u001b[0;34m\u001b[0m\u001b[0m\n\u001b[1;32m   2009\u001b[0m \u001b[0;34m\u001b[0m\u001b[0m\n\u001b[0;32m-> 2010\u001b[0;31m         \u001b[0mself\u001b[0m\u001b[0;34m.\u001b[0m\u001b[0m_reader\u001b[0m \u001b[0;34m=\u001b[0m \u001b[0mparsers\u001b[0m\u001b[0;34m.\u001b[0m\u001b[0mTextReader\u001b[0m\u001b[0;34m(\u001b[0m\u001b[0msrc\u001b[0m\u001b[0;34m,\u001b[0m \u001b[0;34m**\u001b[0m\u001b[0mkwds\u001b[0m\u001b[0;34m)\u001b[0m\u001b[0;34m\u001b[0m\u001b[0;34m\u001b[0m\u001b[0m\n\u001b[0m\u001b[1;32m   2011\u001b[0m         \u001b[0mself\u001b[0m\u001b[0;34m.\u001b[0m\u001b[0munnamed_cols\u001b[0m \u001b[0;34m=\u001b[0m \u001b[0mself\u001b[0m\u001b[0;34m.\u001b[0m\u001b[0m_reader\u001b[0m\u001b[0;34m.\u001b[0m\u001b[0munnamed_cols\u001b[0m\u001b[0;34m\u001b[0m\u001b[0;34m\u001b[0m\u001b[0m\n\u001b[1;32m   2012\u001b[0m \u001b[0;34m\u001b[0m\u001b[0m\n",
      "\u001b[0;32mpandas/_libs/parsers.pyx\u001b[0m in \u001b[0;36mpandas._libs.parsers.TextReader.__cinit__\u001b[0;34m()\u001b[0m\n",
      "\u001b[0;32mpandas/_libs/parsers.pyx\u001b[0m in \u001b[0;36mpandas._libs.parsers.TextReader._setup_parser_source\u001b[0;34m()\u001b[0m\n",
      "\u001b[0;31mFileNotFoundError\u001b[0m: [Errno 2] No such file or directory: 'FlyRNAi_data_baseline_vs_EGF.txt'"
     ]
    }
   ],
   "source": [
    "df_tsv = pd.read_table('FlyRNAi_data_baseline_vs_EGF.txt')\n",
    "df_tsv.head() # inspecting the first 5 rows of the DataFrame"
   ]
  },
  {
   "cell_type": "markdown",
   "metadata": {
    "id": "AkZzzYPEA7gX"
   },
   "source": [
    "2. Comma-separated values(CSV)\n",
    "\n",
    "    `read_csv()`\n",
    "\n",
    "<font color='red'><b>Task</b></font>: Try to create a DataFrame instance `df_csv` from cities.csv file."
   ]
  },
  {
   "cell_type": "code",
   "execution_count": null,
   "metadata": {
    "id": "9nTy9i7UAr5S"
   },
   "outputs": [],
   "source": [
    "df_csv = pd.read_csv('cities.csv')\n",
    "df_csv.head()"
   ]
  },
  {
   "cell_type": "markdown",
   "metadata": {
    "id": "LOmDzLlwBURX"
   },
   "source": [
    "3. JSON (JavaScript Object Notation)\n",
    "\n",
    "    <small>(although this might not be the best idea)</small>\n",
    "\n",
    "    `read_json()`"
   ]
  },
  {
   "cell_type": "code",
   "execution_count": null,
   "metadata": {
    "id": "uaYm4t7lBURY"
   },
   "outputs": [],
   "source": [
    "df_json = pd.read_json('/content/drive/Shareddrives/FIT9136 Tutor Support/Weekly Teaching Materials/Week 9/Lab/webapp.json')\n",
    "df_json.head()"
   ]
  },
  {
   "cell_type": "markdown",
   "metadata": {
    "id": "1s8bhJWvCkUG"
   },
   "source": [
    "#### B. Create a new DataFrame instance directly"
   ]
  },
  {
   "cell_type": "code",
   "execution_count": 7,
   "metadata": {
    "colab": {
     "base_uri": "https://localhost:8080/",
     "height": 204
    },
    "executionInfo": {
     "elapsed": 629,
     "status": "ok",
     "timestamp": 1632264327929,
     "user": {
      "displayName": "Fahimeh Saleh",
      "photoUrl": "https://lh3.googleusercontent.com/a-/AOh14Gje5X2fTGhjTW_ZWV0TW3nCbvrtPvoLMxJhPWyHyg=s64",
      "userId": "09569549651747675062"
     },
     "user_tz": -600
    },
    "id": "rpZjQNT_CBOR",
    "outputId": "9917200d-0ac6-4709-f54e-453d85c69b34"
   },
   "outputs": [
    {
     "data": {
      "text/html": [
       "<div>\n",
       "<style scoped>\n",
       "    .dataframe tbody tr th:only-of-type {\n",
       "        vertical-align: middle;\n",
       "    }\n",
       "\n",
       "    .dataframe tbody tr th {\n",
       "        vertical-align: top;\n",
       "    }\n",
       "\n",
       "    .dataframe thead th {\n",
       "        text-align: right;\n",
       "    }\n",
       "</style>\n",
       "<table border=\"1\" class=\"dataframe\">\n",
       "  <thead>\n",
       "    <tr style=\"text-align: right;\">\n",
       "      <th></th>\n",
       "      <th>ascii_code</th>\n",
       "      <th>alphabet</th>\n",
       "    </tr>\n",
       "  </thead>\n",
       "  <tbody>\n",
       "    <tr>\n",
       "      <th>0</th>\n",
       "      <td>97</td>\n",
       "      <td>a</td>\n",
       "    </tr>\n",
       "    <tr>\n",
       "      <th>1</th>\n",
       "      <td>98</td>\n",
       "      <td>b</td>\n",
       "    </tr>\n",
       "    <tr>\n",
       "      <th>2</th>\n",
       "      <td>97</td>\n",
       "      <td>a</td>\n",
       "    </tr>\n",
       "    <tr>\n",
       "      <th>3</th>\n",
       "      <td>99</td>\n",
       "      <td>c</td>\n",
       "    </tr>\n",
       "    <tr>\n",
       "      <th>4</th>\n",
       "      <td>97</td>\n",
       "      <td>a</td>\n",
       "    </tr>\n",
       "  </tbody>\n",
       "</table>\n",
       "</div>"
      ],
      "text/plain": [
       "   ascii_code alphabet\n",
       "0          97        a\n",
       "1          98        b\n",
       "2          97        a\n",
       "3          99        c\n",
       "4          97        a"
      ]
     },
     "execution_count": 7,
     "metadata": {},
     "output_type": "execute_result"
    }
   ],
   "source": [
    "data = [(ord(char),char) for char in 'abacabcbacbacbacbabcacbbacbabcab'] # creating a list of tuples: [(ascii code, alphabet)]\n",
    "\n",
    "df_list_of_tuple = pd.DataFrame(data,columns=['ascii_code','alphabet']) # specify the column names\n",
    "df_list_of_tuple.head()"
   ]
  },
  {
   "cell_type": "code",
   "execution_count": 10,
   "metadata": {
    "colab": {
     "base_uri": "https://localhost:8080/",
     "height": 204
    },
    "executionInfo": {
     "elapsed": 399,
     "status": "ok",
     "timestamp": 1632264545503,
     "user": {
      "displayName": "Fahimeh Saleh",
      "photoUrl": "https://lh3.googleusercontent.com/a-/AOh14Gje5X2fTGhjTW_ZWV0TW3nCbvrtPvoLMxJhPWyHyg=s64",
      "userId": "09569549651747675062"
     },
     "user_tz": -600
    },
    "id": "LxPRql7cDhHh",
    "outputId": "1138cd42-c669-4f2c-b963-d28453aab08b"
   },
   "outputs": [
    {
     "data": {
      "text/html": [
       "<div>\n",
       "<style scoped>\n",
       "    .dataframe tbody tr th:only-of-type {\n",
       "        vertical-align: middle;\n",
       "    }\n",
       "\n",
       "    .dataframe tbody tr th {\n",
       "        vertical-align: top;\n",
       "    }\n",
       "\n",
       "    .dataframe thead th {\n",
       "        text-align: right;\n",
       "    }\n",
       "</style>\n",
       "<table border=\"1\" class=\"dataframe\">\n",
       "  <thead>\n",
       "    <tr style=\"text-align: right;\">\n",
       "      <th></th>\n",
       "      <th>ascii_code</th>\n",
       "      <th>alphabet</th>\n",
       "    </tr>\n",
       "  </thead>\n",
       "  <tbody>\n",
       "    <tr>\n",
       "      <th>0</th>\n",
       "      <td>97</td>\n",
       "      <td>a</td>\n",
       "    </tr>\n",
       "    <tr>\n",
       "      <th>1</th>\n",
       "      <td>98</td>\n",
       "      <td>b</td>\n",
       "    </tr>\n",
       "    <tr>\n",
       "      <th>2</th>\n",
       "      <td>97</td>\n",
       "      <td>a</td>\n",
       "    </tr>\n",
       "    <tr>\n",
       "      <th>3</th>\n",
       "      <td>99</td>\n",
       "      <td>c</td>\n",
       "    </tr>\n",
       "    <tr>\n",
       "      <th>4</th>\n",
       "      <td>97</td>\n",
       "      <td>a</td>\n",
       "    </tr>\n",
       "  </tbody>\n",
       "</table>\n",
       "</div>"
      ],
      "text/plain": [
       "   ascii_code alphabet\n",
       "0          97        a\n",
       "1          98        b\n",
       "2          97        a\n",
       "3          99        c\n",
       "4          97        a"
      ]
     },
     "execution_count": 10,
     "metadata": {},
     "output_type": "execute_result"
    }
   ],
   "source": [
    "data = {'ascii_code': [ord(char) for char in 'abacabcabcbacbacbabcacbbaccabacb'], \n",
    "        'alphabet': list('abacabcbacbacbacbabcacbbacbabcab')} # creating a dictionary where keys are the keys and the values are items\n",
    "\n",
    "df_dict_of_list = pd.DataFrame(data)\n",
    "df_dict_of_list.head()"
   ]
  },
  {
   "cell_type": "markdown",
   "metadata": {
    "id": "pIECTxuhGCUO"
   },
   "source": [
    "### 2.2 Basic Operations of DataFrame\n",
    "\n",
    "There are countless of operations of DataFrame. \n",
    "\n",
    "In this part, we will explore some of the methods by doing a task.\n",
    "\n",
    "<font color='red'><b>Task:</b></font> We want to: \n",
    "1. count the number of occurrence of each unique (ascii_code, alphabet) pairs in `df_dict_of_list` DataFrame and \n",
    "2. create a bar chart from it. \n",
    "\n",
    "The y-axis will be the count of the (ascii_code, alphabet) pairs, x-axis will be (ascii_code, alphabet) pairs and the bars of different alphabets will have different colors."
   ]
  },
  {
   "cell_type": "markdown",
   "metadata": {
    "id": "bKms1DE8RwyQ"
   },
   "source": [
    "Step 1: Use [`value_counts()`](https://pandas.pydata.org/docs/reference/api/pandas.DataFrame.value_counts.html) method to obtain a Series counts based on the number of occurence of each (ascii_code, alphabet) pairs."
   ]
  },
  {
   "cell_type": "code",
   "execution_count": 9,
   "metadata": {
    "colab": {
     "base_uri": "https://localhost:8080/"
    },
    "executionInfo": {
     "elapsed": 373,
     "status": "ok",
     "timestamp": 1632264542455,
     "user": {
      "displayName": "Fahimeh Saleh",
      "photoUrl": "https://lh3.googleusercontent.com/a-/AOh14Gje5X2fTGhjTW_ZWV0TW3nCbvrtPvoLMxJhPWyHyg=s64",
      "userId": "09569549651747675062"
     },
     "user_tz": -600
    },
    "id": "xQMAWizvMS39",
    "outputId": "5b546818-66f6-4465-b2ce-0d355d965e07"
   },
   "outputs": [
    {
     "data": {
      "text/plain": [
       "ascii_code  alphabet\n",
       "98          b           10\n",
       "97          a            9\n",
       "99          c            8\n",
       "            b            1\n",
       "            a            1\n",
       "98          a            1\n",
       "97          c            1\n",
       "            b            1\n",
       "dtype: int64"
      ]
     },
     "execution_count": 9,
     "metadata": {},
     "output_type": "execute_result"
    }
   ],
   "source": [
    "counts = df_dict_of_list.value_counts()\n",
    "counts"
   ]
  },
  {
   "cell_type": "markdown",
   "metadata": {
    "id": "xUhSXDmJSMmQ"
   },
   "source": [
    "Step 2: Convert the Series to DataFrame by [`to_frame()`](https://pandas.pydata.org/docs/reference/api/pandas.Series.to_frame.html?highlight=to_frame) method."
   ]
  },
  {
   "cell_type": "code",
   "execution_count": 11,
   "metadata": {
    "colab": {
     "base_uri": "https://localhost:8080/",
     "height": 328
    },
    "executionInfo": {
     "elapsed": 382,
     "status": "ok",
     "timestamp": 1632264561917,
     "user": {
      "displayName": "Fahimeh Saleh",
      "photoUrl": "https://lh3.googleusercontent.com/a-/AOh14Gje5X2fTGhjTW_ZWV0TW3nCbvrtPvoLMxJhPWyHyg=s64",
      "userId": "09569549651747675062"
     },
     "user_tz": -600
    },
    "id": "Mdm4QUMxRNKn",
    "outputId": "eeebe039-55d3-4386-c316-a31ef3c3f9fb"
   },
   "outputs": [
    {
     "data": {
      "text/html": [
       "<div>\n",
       "<style scoped>\n",
       "    .dataframe tbody tr th:only-of-type {\n",
       "        vertical-align: middle;\n",
       "    }\n",
       "\n",
       "    .dataframe tbody tr th {\n",
       "        vertical-align: top;\n",
       "    }\n",
       "\n",
       "    .dataframe thead th {\n",
       "        text-align: right;\n",
       "    }\n",
       "</style>\n",
       "<table border=\"1\" class=\"dataframe\">\n",
       "  <thead>\n",
       "    <tr style=\"text-align: right;\">\n",
       "      <th></th>\n",
       "      <th></th>\n",
       "      <th>0</th>\n",
       "    </tr>\n",
       "    <tr>\n",
       "      <th>ascii_code</th>\n",
       "      <th>alphabet</th>\n",
       "      <th></th>\n",
       "    </tr>\n",
       "  </thead>\n",
       "  <tbody>\n",
       "    <tr>\n",
       "      <th>98</th>\n",
       "      <th>b</th>\n",
       "      <td>10</td>\n",
       "    </tr>\n",
       "    <tr>\n",
       "      <th>97</th>\n",
       "      <th>a</th>\n",
       "      <td>9</td>\n",
       "    </tr>\n",
       "    <tr>\n",
       "      <th rowspan=\"3\" valign=\"top\">99</th>\n",
       "      <th>c</th>\n",
       "      <td>8</td>\n",
       "    </tr>\n",
       "    <tr>\n",
       "      <th>b</th>\n",
       "      <td>1</td>\n",
       "    </tr>\n",
       "    <tr>\n",
       "      <th>a</th>\n",
       "      <td>1</td>\n",
       "    </tr>\n",
       "    <tr>\n",
       "      <th>98</th>\n",
       "      <th>a</th>\n",
       "      <td>1</td>\n",
       "    </tr>\n",
       "    <tr>\n",
       "      <th rowspan=\"2\" valign=\"top\">97</th>\n",
       "      <th>c</th>\n",
       "      <td>1</td>\n",
       "    </tr>\n",
       "    <tr>\n",
       "      <th>b</th>\n",
       "      <td>1</td>\n",
       "    </tr>\n",
       "  </tbody>\n",
       "</table>\n",
       "</div>"
      ],
      "text/plain": [
       "                      0\n",
       "ascii_code alphabet    \n",
       "98         b         10\n",
       "97         a          9\n",
       "99         c          8\n",
       "           b          1\n",
       "           a          1\n",
       "98         a          1\n",
       "97         c          1\n",
       "           b          1"
      ]
     },
     "execution_count": 11,
     "metadata": {},
     "output_type": "execute_result"
    }
   ],
   "source": [
    "counts_df = counts.to_frame()\n",
    "counts_df"
   ]
  },
  {
   "cell_type": "markdown",
   "metadata": {
    "id": "2T1b4KXWSd_3"
   },
   "source": [
    "Step 3: Now, the dataframe is indexed by ascii_code and alphabet. We can reset the index by [`reset_index()`](https://pandas.pydata.org/docs/reference/api/pandas.DataFrame.reset_index.html?highlight=reset_index#pandas.DataFrame.reset_index)."
   ]
  },
  {
   "cell_type": "code",
   "execution_count": 12,
   "metadata": {
    "colab": {
     "base_uri": "https://localhost:8080/",
     "height": 297
    },
    "executionInfo": {
     "elapsed": 1159,
     "status": "ok",
     "timestamp": 1632264577380,
     "user": {
      "displayName": "Fahimeh Saleh",
      "photoUrl": "https://lh3.googleusercontent.com/a-/AOh14Gje5X2fTGhjTW_ZWV0TW3nCbvrtPvoLMxJhPWyHyg=s64",
      "userId": "09569549651747675062"
     },
     "user_tz": -600
    },
    "id": "GS6p5a3NSaUF",
    "outputId": "95637f74-863d-4b9a-9a2c-8796e7f2d593"
   },
   "outputs": [
    {
     "data": {
      "text/html": [
       "<div>\n",
       "<style scoped>\n",
       "    .dataframe tbody tr th:only-of-type {\n",
       "        vertical-align: middle;\n",
       "    }\n",
       "\n",
       "    .dataframe tbody tr th {\n",
       "        vertical-align: top;\n",
       "    }\n",
       "\n",
       "    .dataframe thead th {\n",
       "        text-align: right;\n",
       "    }\n",
       "</style>\n",
       "<table border=\"1\" class=\"dataframe\">\n",
       "  <thead>\n",
       "    <tr style=\"text-align: right;\">\n",
       "      <th></th>\n",
       "      <th>ascii_code</th>\n",
       "      <th>alphabet</th>\n",
       "      <th>0</th>\n",
       "    </tr>\n",
       "  </thead>\n",
       "  <tbody>\n",
       "    <tr>\n",
       "      <th>0</th>\n",
       "      <td>98</td>\n",
       "      <td>b</td>\n",
       "      <td>10</td>\n",
       "    </tr>\n",
       "    <tr>\n",
       "      <th>1</th>\n",
       "      <td>97</td>\n",
       "      <td>a</td>\n",
       "      <td>9</td>\n",
       "    </tr>\n",
       "    <tr>\n",
       "      <th>2</th>\n",
       "      <td>99</td>\n",
       "      <td>c</td>\n",
       "      <td>8</td>\n",
       "    </tr>\n",
       "    <tr>\n",
       "      <th>3</th>\n",
       "      <td>99</td>\n",
       "      <td>b</td>\n",
       "      <td>1</td>\n",
       "    </tr>\n",
       "    <tr>\n",
       "      <th>4</th>\n",
       "      <td>99</td>\n",
       "      <td>a</td>\n",
       "      <td>1</td>\n",
       "    </tr>\n",
       "    <tr>\n",
       "      <th>5</th>\n",
       "      <td>98</td>\n",
       "      <td>a</td>\n",
       "      <td>1</td>\n",
       "    </tr>\n",
       "    <tr>\n",
       "      <th>6</th>\n",
       "      <td>97</td>\n",
       "      <td>c</td>\n",
       "      <td>1</td>\n",
       "    </tr>\n",
       "    <tr>\n",
       "      <th>7</th>\n",
       "      <td>97</td>\n",
       "      <td>b</td>\n",
       "      <td>1</td>\n",
       "    </tr>\n",
       "  </tbody>\n",
       "</table>\n",
       "</div>"
      ],
      "text/plain": [
       "   ascii_code alphabet   0\n",
       "0          98        b  10\n",
       "1          97        a   9\n",
       "2          99        c   8\n",
       "3          99        b   1\n",
       "4          99        a   1\n",
       "5          98        a   1\n",
       "6          97        c   1\n",
       "7          97        b   1"
      ]
     },
     "execution_count": 12,
     "metadata": {},
     "output_type": "execute_result"
    }
   ],
   "source": [
    "counts_df.reset_index(inplace=True) # why inplace=True? what will happen if inplace is not specified?\n",
    "counts_df"
   ]
  },
  {
   "cell_type": "markdown",
   "metadata": {
    "id": "gMUAla6XS-Xv"
   },
   "source": [
    "Step 4: We can set the third column as 'count' instead.\n",
    "\n",
    "<small>https://stackoverflow.com/a/11346337</small>"
   ]
  },
  {
   "cell_type": "code",
   "execution_count": 13,
   "metadata": {
    "colab": {
     "base_uri": "https://localhost:8080/",
     "height": 297
    },
    "executionInfo": {
     "elapsed": 469,
     "status": "ok",
     "timestamp": 1632264611636,
     "user": {
      "displayName": "Fahimeh Saleh",
      "photoUrl": "https://lh3.googleusercontent.com/a-/AOh14Gje5X2fTGhjTW_ZWV0TW3nCbvrtPvoLMxJhPWyHyg=s64",
      "userId": "09569549651747675062"
     },
     "user_tz": -600
    },
    "id": "cvofhFzpS4Bb",
    "outputId": "d4006898-3239-45b5-a40e-cb0eb16cf676"
   },
   "outputs": [
    {
     "data": {
      "text/html": [
       "<div>\n",
       "<style scoped>\n",
       "    .dataframe tbody tr th:only-of-type {\n",
       "        vertical-align: middle;\n",
       "    }\n",
       "\n",
       "    .dataframe tbody tr th {\n",
       "        vertical-align: top;\n",
       "    }\n",
       "\n",
       "    .dataframe thead th {\n",
       "        text-align: right;\n",
       "    }\n",
       "</style>\n",
       "<table border=\"1\" class=\"dataframe\">\n",
       "  <thead>\n",
       "    <tr style=\"text-align: right;\">\n",
       "      <th></th>\n",
       "      <th>ascii_code</th>\n",
       "      <th>alphabet</th>\n",
       "      <th>count</th>\n",
       "    </tr>\n",
       "  </thead>\n",
       "  <tbody>\n",
       "    <tr>\n",
       "      <th>0</th>\n",
       "      <td>98</td>\n",
       "      <td>b</td>\n",
       "      <td>10</td>\n",
       "    </tr>\n",
       "    <tr>\n",
       "      <th>1</th>\n",
       "      <td>97</td>\n",
       "      <td>a</td>\n",
       "      <td>9</td>\n",
       "    </tr>\n",
       "    <tr>\n",
       "      <th>2</th>\n",
       "      <td>99</td>\n",
       "      <td>c</td>\n",
       "      <td>8</td>\n",
       "    </tr>\n",
       "    <tr>\n",
       "      <th>3</th>\n",
       "      <td>99</td>\n",
       "      <td>b</td>\n",
       "      <td>1</td>\n",
       "    </tr>\n",
       "    <tr>\n",
       "      <th>4</th>\n",
       "      <td>99</td>\n",
       "      <td>a</td>\n",
       "      <td>1</td>\n",
       "    </tr>\n",
       "    <tr>\n",
       "      <th>5</th>\n",
       "      <td>98</td>\n",
       "      <td>a</td>\n",
       "      <td>1</td>\n",
       "    </tr>\n",
       "    <tr>\n",
       "      <th>6</th>\n",
       "      <td>97</td>\n",
       "      <td>c</td>\n",
       "      <td>1</td>\n",
       "    </tr>\n",
       "    <tr>\n",
       "      <th>7</th>\n",
       "      <td>97</td>\n",
       "      <td>b</td>\n",
       "      <td>1</td>\n",
       "    </tr>\n",
       "  </tbody>\n",
       "</table>\n",
       "</div>"
      ],
      "text/plain": [
       "   ascii_code alphabet  count\n",
       "0          98        b     10\n",
       "1          97        a      9\n",
       "2          99        c      8\n",
       "3          99        b      1\n",
       "4          99        a      1\n",
       "5          98        a      1\n",
       "6          97        c      1\n",
       "7          97        b      1"
      ]
     },
     "execution_count": 13,
     "metadata": {},
     "output_type": "execute_result"
    }
   ],
   "source": [
    "counts_df.columns = ['ascii_code','alphabet','count']\n",
    "counts_df"
   ]
  },
  {
   "cell_type": "markdown",
   "metadata": {
    "id": "yWnsAxjATyYA"
   },
   "source": [
    "Step 5: We can create a new column called '(ascii_code,alphabet)' and the value will be in '({ascii_code},{alphabet})' format. This can be done by [`apply()`](https://pandas.pydata.org/docs/reference/api/pandas.DataFrame.apply.html?highlight=apply#pandas.DataFrame.apply) method."
   ]
  },
  {
   "cell_type": "code",
   "execution_count": 14,
   "metadata": {
    "colab": {
     "base_uri": "https://localhost:8080/",
     "height": 297
    },
    "executionInfo": {
     "elapsed": 411,
     "status": "ok",
     "timestamp": 1632264681163,
     "user": {
      "displayName": "Fahimeh Saleh",
      "photoUrl": "https://lh3.googleusercontent.com/a-/AOh14Gje5X2fTGhjTW_ZWV0TW3nCbvrtPvoLMxJhPWyHyg=s64",
      "userId": "09569549651747675062"
     },
     "user_tz": -600
    },
    "id": "lObhkhiaTWlI",
    "outputId": "4590189d-7c09-4600-c346-352f4347dfaf"
   },
   "outputs": [
    {
     "data": {
      "text/html": [
       "<div>\n",
       "<style scoped>\n",
       "    .dataframe tbody tr th:only-of-type {\n",
       "        vertical-align: middle;\n",
       "    }\n",
       "\n",
       "    .dataframe tbody tr th {\n",
       "        vertical-align: top;\n",
       "    }\n",
       "\n",
       "    .dataframe thead th {\n",
       "        text-align: right;\n",
       "    }\n",
       "</style>\n",
       "<table border=\"1\" class=\"dataframe\">\n",
       "  <thead>\n",
       "    <tr style=\"text-align: right;\">\n",
       "      <th></th>\n",
       "      <th>ascii_code</th>\n",
       "      <th>alphabet</th>\n",
       "      <th>count</th>\n",
       "      <th>(ascii_code,alphabet)</th>\n",
       "    </tr>\n",
       "  </thead>\n",
       "  <tbody>\n",
       "    <tr>\n",
       "      <th>0</th>\n",
       "      <td>98</td>\n",
       "      <td>b</td>\n",
       "      <td>10</td>\n",
       "      <td>(98,b)</td>\n",
       "    </tr>\n",
       "    <tr>\n",
       "      <th>1</th>\n",
       "      <td>97</td>\n",
       "      <td>a</td>\n",
       "      <td>9</td>\n",
       "      <td>(97,a)</td>\n",
       "    </tr>\n",
       "    <tr>\n",
       "      <th>2</th>\n",
       "      <td>99</td>\n",
       "      <td>c</td>\n",
       "      <td>8</td>\n",
       "      <td>(99,c)</td>\n",
       "    </tr>\n",
       "    <tr>\n",
       "      <th>3</th>\n",
       "      <td>99</td>\n",
       "      <td>b</td>\n",
       "      <td>1</td>\n",
       "      <td>(99,b)</td>\n",
       "    </tr>\n",
       "    <tr>\n",
       "      <th>4</th>\n",
       "      <td>99</td>\n",
       "      <td>a</td>\n",
       "      <td>1</td>\n",
       "      <td>(99,a)</td>\n",
       "    </tr>\n",
       "    <tr>\n",
       "      <th>5</th>\n",
       "      <td>98</td>\n",
       "      <td>a</td>\n",
       "      <td>1</td>\n",
       "      <td>(98,a)</td>\n",
       "    </tr>\n",
       "    <tr>\n",
       "      <th>6</th>\n",
       "      <td>97</td>\n",
       "      <td>c</td>\n",
       "      <td>1</td>\n",
       "      <td>(97,c)</td>\n",
       "    </tr>\n",
       "    <tr>\n",
       "      <th>7</th>\n",
       "      <td>97</td>\n",
       "      <td>b</td>\n",
       "      <td>1</td>\n",
       "      <td>(97,b)</td>\n",
       "    </tr>\n",
       "  </tbody>\n",
       "</table>\n",
       "</div>"
      ],
      "text/plain": [
       "   ascii_code alphabet  count (ascii_code,alphabet)\n",
       "0          98        b     10                (98,b)\n",
       "1          97        a      9                (97,a)\n",
       "2          99        c      8                (99,c)\n",
       "3          99        b      1                (99,b)\n",
       "4          99        a      1                (99,a)\n",
       "5          98        a      1                (98,a)\n",
       "6          97        c      1                (97,c)\n",
       "7          97        b      1                (97,b)"
      ]
     },
     "execution_count": 14,
     "metadata": {},
     "output_type": "execute_result"
    }
   ],
   "source": [
    "def concat_col(x):\n",
    "    return f\"({x['ascii_code']},{x['alphabet']})\"\n",
    "counts_df['(ascii_code,alphabet)'] = counts_df.apply(concat_col,axis = 1)\n",
    "\n",
    "# or\n",
    "# counts_df['(ascii_code,alphabet)'] = counts_df.apply(lambda x:f\"({x['ascii_code']},{x['alphabet']})\",axis = 1)\n",
    "counts_df"
   ]
  },
  {
   "cell_type": "markdown",
   "metadata": {
    "id": "Q84QEJxBXLo5"
   },
   "source": [
    "Step 6: We can further create a new column called 'color'. The value of this column is determined by the values of alphabet in that row. If alphabet is 'a', color will be 'r'; if alphabet is 'b', color will be 'g'; alphabet is 'c', color will be 'b'."
   ]
  },
  {
   "cell_type": "code",
   "execution_count": 15,
   "metadata": {
    "colab": {
     "base_uri": "https://localhost:8080/",
     "height": 297
    },
    "executionInfo": {
     "elapsed": 361,
     "status": "ok",
     "timestamp": 1632264707792,
     "user": {
      "displayName": "Fahimeh Saleh",
      "photoUrl": "https://lh3.googleusercontent.com/a-/AOh14Gje5X2fTGhjTW_ZWV0TW3nCbvrtPvoLMxJhPWyHyg=s64",
      "userId": "09569549651747675062"
     },
     "user_tz": -600
    },
    "id": "9ow5Y9FtXnwV",
    "outputId": "14bc7582-ad96-46db-e8c1-2ef211fa8bc5"
   },
   "outputs": [
    {
     "data": {
      "text/html": [
       "<div>\n",
       "<style scoped>\n",
       "    .dataframe tbody tr th:only-of-type {\n",
       "        vertical-align: middle;\n",
       "    }\n",
       "\n",
       "    .dataframe tbody tr th {\n",
       "        vertical-align: top;\n",
       "    }\n",
       "\n",
       "    .dataframe thead th {\n",
       "        text-align: right;\n",
       "    }\n",
       "</style>\n",
       "<table border=\"1\" class=\"dataframe\">\n",
       "  <thead>\n",
       "    <tr style=\"text-align: right;\">\n",
       "      <th></th>\n",
       "      <th>ascii_code</th>\n",
       "      <th>alphabet</th>\n",
       "      <th>count</th>\n",
       "      <th>(ascii_code,alphabet)</th>\n",
       "      <th>color</th>\n",
       "    </tr>\n",
       "  </thead>\n",
       "  <tbody>\n",
       "    <tr>\n",
       "      <th>0</th>\n",
       "      <td>98</td>\n",
       "      <td>b</td>\n",
       "      <td>10</td>\n",
       "      <td>(98,b)</td>\n",
       "      <td>g</td>\n",
       "    </tr>\n",
       "    <tr>\n",
       "      <th>1</th>\n",
       "      <td>97</td>\n",
       "      <td>a</td>\n",
       "      <td>9</td>\n",
       "      <td>(97,a)</td>\n",
       "      <td>r</td>\n",
       "    </tr>\n",
       "    <tr>\n",
       "      <th>2</th>\n",
       "      <td>99</td>\n",
       "      <td>c</td>\n",
       "      <td>8</td>\n",
       "      <td>(99,c)</td>\n",
       "      <td>b</td>\n",
       "    </tr>\n",
       "    <tr>\n",
       "      <th>3</th>\n",
       "      <td>99</td>\n",
       "      <td>b</td>\n",
       "      <td>1</td>\n",
       "      <td>(99,b)</td>\n",
       "      <td>g</td>\n",
       "    </tr>\n",
       "    <tr>\n",
       "      <th>4</th>\n",
       "      <td>99</td>\n",
       "      <td>a</td>\n",
       "      <td>1</td>\n",
       "      <td>(99,a)</td>\n",
       "      <td>r</td>\n",
       "    </tr>\n",
       "    <tr>\n",
       "      <th>5</th>\n",
       "      <td>98</td>\n",
       "      <td>a</td>\n",
       "      <td>1</td>\n",
       "      <td>(98,a)</td>\n",
       "      <td>r</td>\n",
       "    </tr>\n",
       "    <tr>\n",
       "      <th>6</th>\n",
       "      <td>97</td>\n",
       "      <td>c</td>\n",
       "      <td>1</td>\n",
       "      <td>(97,c)</td>\n",
       "      <td>b</td>\n",
       "    </tr>\n",
       "    <tr>\n",
       "      <th>7</th>\n",
       "      <td>97</td>\n",
       "      <td>b</td>\n",
       "      <td>1</td>\n",
       "      <td>(97,b)</td>\n",
       "      <td>g</td>\n",
       "    </tr>\n",
       "  </tbody>\n",
       "</table>\n",
       "</div>"
      ],
      "text/plain": [
       "   ascii_code alphabet  count (ascii_code,alphabet) color\n",
       "0          98        b     10                (98,b)     g\n",
       "1          97        a      9                (97,a)     r\n",
       "2          99        c      8                (99,c)     b\n",
       "3          99        b      1                (99,b)     g\n",
       "4          99        a      1                (99,a)     r\n",
       "5          98        a      1                (98,a)     r\n",
       "6          97        c      1                (97,c)     b\n",
       "7          97        b      1                (97,b)     g"
      ]
     },
     "execution_count": 15,
     "metadata": {},
     "output_type": "execute_result"
    }
   ],
   "source": [
    "color_dict = dict(zip('abc','rgb'))\n",
    "counts_df['color'] = counts_df.apply(lambda x: color_dict[x['alphabet']], axis = 1)\n",
    "\n",
    "counts_df"
   ]
  },
  {
   "cell_type": "markdown",
   "metadata": {
    "id": "foEH6xZva4eu"
   },
   "source": [
    "Step 7: Plot the graph with [`plot()`](https://pandas.pydata.org/docs/reference/api/pandas.DataFrame.plot.html?highlight=plot#pandas.DataFrame.plot) method."
   ]
  },
  {
   "cell_type": "code",
   "execution_count": 16,
   "metadata": {
    "colab": {
     "base_uri": "https://localhost:8080/",
     "height": 333
    },
    "executionInfo": {
     "elapsed": 518,
     "status": "ok",
     "timestamp": 1632264748705,
     "user": {
      "displayName": "Fahimeh Saleh",
      "photoUrl": "https://lh3.googleusercontent.com/a-/AOh14Gje5X2fTGhjTW_ZWV0TW3nCbvrtPvoLMxJhPWyHyg=s64",
      "userId": "09569549651747675062"
     },
     "user_tz": -600
    },
    "id": "UM9tRVOlU-Gf",
    "outputId": "1a9f1335-70b4-43fb-975d-56a129b70294"
   },
   "outputs": [
    {
     "data": {
      "text/plain": [
       "<matplotlib.axes._subplots.AxesSubplot at 0x7ff4428ee3d0>"
      ]
     },
     "execution_count": 16,
     "metadata": {},
     "output_type": "execute_result"
    },
    {
     "data": {
      "image/png": "[encoded data removed]",
      "text/plain": [
       "<Figure size 432x288 with 1 Axes>"
      ]
     },
     "metadata": {
      "needs_background": "light"
     },
     "output_type": "display_data"
    }
   ],
   "source": [
    "counts_df.plot(kind='bar',x='(ascii_code,alphabet)', y='count',color=counts_df['color'],legend=False,ylabel='count',title='Count of ascii_code and alphabet pairs')"
   ]
  },
  {
   "cell_type": "markdown",
   "metadata": {
    "id": "Ks8BT2dgh0fm"
   },
   "source": [
    "## 3. matplotlib and numpy\n",
    "\n",
    "<blockquote>\n",
    "Matplotlib is a comprehensive library for creating static, animated, and interactive visualizations in Python. - <a href='https://matplotlib.org/stable/index.html'>Matplotlib official site</a>\n",
    "</blockquote>\n",
    "\n",
    "<blockquote>\n",
    "The fundamental package for scientific computing with Python - <a href='https://numpy.org/'>Numpy official site</a>\n",
    "</blockquote>"
   ]
  },
  {
   "cell_type": "code",
   "execution_count": 17,
   "metadata": {
    "executionInfo": {
     "elapsed": 351,
     "status": "ok",
     "timestamp": 1632264756417,
     "user": {
      "displayName": "Fahimeh Saleh",
      "photoUrl": "https://lh3.googleusercontent.com/a-/AOh14Gje5X2fTGhjTW_ZWV0TW3nCbvrtPvoLMxJhPWyHyg=s64",
      "userId": "09569549651747675062"
     },
     "user_tz": -600
    },
    "id": "lNdqK-jwigsu"
   },
   "outputs": [],
   "source": [
    "import matplotlib.pyplot as plt\n",
    "import numpy as np"
   ]
  },
  {
   "cell_type": "markdown",
   "metadata": {
    "id": "pxQ21Ylki6JX"
   },
   "source": [
    "<font color='red'><b>Task:</b></font> Using matplotlib and numpy, create a scatterplot for the following functions over a range of -10 to 10 (for a challenge, plot them in the same window):\n",
    "- y = x+2\n",
    "- y = x^2\n",
    "- y = x^3\n",
    "\n",
    "1. Plot the 3 x-y relationships on the same graph\n",
    "2. Plot them on separate subplots"
   ]
  },
  {
   "cell_type": "code",
   "execution_count": 18,
   "metadata": {
    "colab": {
     "base_uri": "https://localhost:8080/",
     "height": 281
    },
    "executionInfo": {
     "elapsed": 451,
     "status": "ok",
     "timestamp": 1632264815322,
     "user": {
      "displayName": "Fahimeh Saleh",
      "photoUrl": "https://lh3.googleusercontent.com/a-/AOh14Gje5X2fTGhjTW_ZWV0TW3nCbvrtPvoLMxJhPWyHyg=s64",
      "userId": "09569549651747675062"
     },
     "user_tz": -600
    },
    "id": "_q69CEFgj9gv",
    "outputId": "8aa1f545-953b-42f2-d29c-71a0f91de82a"
   },
   "outputs": [
    {
     "data": {
      "image/png": "[encoded data removed]",
      "text/plain": [
       "<Figure size 432x288 with 1 Axes>"
      ]
     },
     "metadata": {
      "needs_background": "light"
     },
     "output_type": "display_data"
    }
   ],
   "source": [
    "# normally how we do it\n",
    "# x = [x for x in range(-10,11)]\n",
    "# linear = [l + 2 for l in x]\n",
    "# para = [p**2 for p in x]\n",
    "# cubic = [c**3 for c in x]\n",
    "\n",
    "# with numpy array\n",
    "# create an array of integers for x from -10 to 10\n",
    "x = np.array([x for x in range(-10,11)])\n",
    "# create the arrays for different y values according to the equations\n",
    "linear = x+2\n",
    "para = x**2\n",
    "cubic = x**3\n",
    "\n",
    "#this could easily be done using plot rather than scatter\n",
    "plt.scatter(x,linear,label=\"Linear\")\n",
    "plt.scatter(x,para,label=\"Parabolic\")\n",
    "plt.scatter(x,cubic,label=\"Cubic\")\n",
    "plt.legend()\n",
    "plt.title(\"An example of how Matplotlib works\")\n",
    "\n",
    "plt.show()"
   ]
  },
  {
   "cell_type": "code",
   "execution_count": 19,
   "metadata": {
    "colab": {
     "base_uri": "https://localhost:8080/",
     "height": 294
    },
    "executionInfo": {
     "elapsed": 444,
     "status": "ok",
     "timestamp": 1632264877078,
     "user": {
      "displayName": "Fahimeh Saleh",
      "photoUrl": "https://lh3.googleusercontent.com/a-/AOh14Gje5X2fTGhjTW_ZWV0TW3nCbvrtPvoLMxJhPWyHyg=s64",
      "userId": "09569549651747675062"
     },
     "user_tz": -600
    },
    "id": "F2AAQXaylS0c",
    "outputId": "90a43992-37ac-45cf-c931-7b0b736e5de5"
   },
   "outputs": [
    {
     "data": {
      "image/png": "[encoded data removed]",
      "text/plain": [
       "<Figure size 432x288 with 3 Axes>"
      ]
     },
     "metadata": {
      "needs_background": "light"
     },
     "output_type": "display_data"
    }
   ],
   "source": [
    "x = np.array([x for x in range(-10,11)])\n",
    "linear = x+2\n",
    "para = x**2\n",
    "cubic = x**3\n",
    "\n",
    "# create a subplot with 1 row and 3 columns\n",
    "fig, axes = plt.subplots(1,3)\n",
    "axes[0].scatter(x,linear,label=\"Linear\")\n",
    "axes[0].set_title('x+2')\n",
    "\n",
    "axes[1].scatter(x,para,label=\"Parabolic\")\n",
    "axes[1].set_title('x**2')\n",
    "\n",
    "axes[2].scatter(x,cubic,label=\"Cubic\")\n",
    "axes[2].set_title('x**3')\n",
    "\n",
    "\n",
    "fig.suptitle(\"An example of how Matplotlib works\")\n",
    "\n",
    "\n",
    "\n",
    "plt.show()"
   ]
  },
  {
   "cell_type": "markdown",
   "metadata": {
    "id": "303uXO0Xo3jE"
   },
   "source": [
    "## 4. Small Summary\n",
    "\n",
    "We have explored several useful libraries of Python in this week. \n",
    "\n",
    "At the start, it might be tempting to use libraries to solve every tasks that we have. However, before we use the libraries, it is always worth thinking: \"Is this library really making my life easier in this task? \"\n",
    "\n",
    "There will be no exercises this week. Have fun in assignment 2!"
   ]
  }
 ],
 "metadata": {
  "colab": {
   "name": "Week 9 Lab Activities(Solution).ipynb",
   "provenance": []
  },
  "kernelspec": {
   "display_name": "Python 3",
   "name": "python3"
  },
  "language_info": {
   "name": "python"
  }
 },
 "nbformat": 4,
 "nbformat_minor": 0
}
