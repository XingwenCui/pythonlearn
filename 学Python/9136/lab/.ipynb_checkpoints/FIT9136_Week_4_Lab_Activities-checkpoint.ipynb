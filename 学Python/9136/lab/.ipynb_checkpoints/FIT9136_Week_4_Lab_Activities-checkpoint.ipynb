{
 "cells": [
  {
   "cell_type": "markdown",
   "metadata": {
    "id": "dhvNKXEfU31W"
   },
   "source": [
    "# FIT9136 Algorithms and programming foundations in Python "
   ]
  },
  {
   "cell_type": "markdown",
   "metadata": {
    "id": "jB-mYmrBU31X"
   },
   "source": [
    "# Week 4 Lab Activities: Introduction to Data Structures, Collective Data Types and Control Structures II\n",
    "\n",
    "\\#IfElifElse \\#Loop #ListComprehension"
   ]
  },
  {
   "cell_type": "markdown",
   "metadata": {
    "id": "gkEo7Q9oMoxn"
   },
   "source": [
    "### 1. Logical Operations Revisited\n",
    "\n",
    "In the code below, we have defined 3 new variables(`var1`,`var2`,`var3`) based on variable `n`. \n",
    "\n",
    "<b><font color='red'>Warm Up Task:</font></b> Please evaluate the values of the new variables."
   ]
  },
  {
   "cell_type": "code",
   "execution_count": null,
   "metadata": {
    "id": "AQmnGi6XLBpX"
   },
   "outputs": [],
   "source": [
    "n = 17\n",
    "var1 = type(n) is int and n < 10\n",
    "var2 = (n > 15 and 'False') or 'True' #Be careful! 'False' and 'True' are strings, not boolean.\n",
    "var3 = var1 and var2\n",
    "print(var1, var2, var3)"
   ]
  },
  {
   "cell_type": "markdown",
   "metadata": {
    "id": "omwIg_MvOI8N"
   },
   "source": [
    "<b><font color='red'>Answer</font></b>\n",
    "\n",
    "```python\n",
    "var1 = type(17) is int and 17 < 10 → ?\n",
    "var2 = (17 > 15 and 'False') or 'True' → ?\n",
    "var3 = var1 and var2 → ?\n",
    "```"
   ]
  },
  {
   "cell_type": "markdown",
   "metadata": {
    "id": "WLIHMarAOzKf"
   },
   "source": [
    "Interpretations of the operations:\n",
    "1. `var1` is True only if n is integer and the value of n is less than 10.\n",
    "2. `var2` is 'False' when n is larger than 15, 'True' otherwise.\n",
    "3. `var3` is the value of `var2` when `var1` is True, False otherwise."
   ]
  },
  {
   "cell_type": "markdown",
   "metadata": {
    "id": "lNgeQ0i2Pets"
   },
   "source": [
    "#### 1.1 From Logical Operations to Logical Conditions\n",
    "\n",
    "The logical operaions above actually can be expanded to logical conditions using `if`, `elif` and `else` keywords.\n",
    "\n",
    "```python\n",
    "if <condition1>:\n",
    "    do something if <condition1> is True\n",
    "elif <condition2>:\n",
    "    do something if all conditions above are not met and condition2 is met\n",
    "else:\n",
    "    do something if all conditions above are not met\n",
    "```\n",
    "\n",
    "<small>*The operations under a logical condition have to be indented.</small>"
   ]
  },
  {
   "cell_type": "markdown",
   "metadata": {
    "id": "6JoSSlDfQ5V8"
   },
   "source": [
    "Now, let's use the example from section 1 and define the values of `var1`, `var2` and `var3` respectively using logical conditions."
   ]
  },
  {
   "cell_type": "code",
   "execution_count": null,
   "metadata": {
    "id": "CYETCI9oN0zo"
   },
   "outputs": [],
   "source": [
    "n = 17"
   ]
  },
  {
   "cell_type": "code",
   "execution_count": null,
   "metadata": {
    "id": "Io1e1jMURY1M"
   },
   "outputs": [],
   "source": [
    "# var1 is True only if n is integer and the value of n is less than 10.\n",
    "\n",
    "var1 = True # initialise var1 randomly\n",
    "if type(n) is int and n < 10: # if n is integer and the value of n is less than 10\n",
    "    var1 = True # assign var1 as True \n",
    "else:\n",
    "    var1 = False # assign var1 as False otherwise\n",
    "print(var1)"
   ]
  },
  {
   "cell_type": "code",
   "execution_count": null,
   "metadata": {
    "id": "KFXg-t-jRZP8"
   },
   "outputs": [],
   "source": [
    "# var2 is 'False' when n is larger than 15, 'True' otherwise.\n",
    "\n",
    "var2 = None # initialise var2 randomly\n",
    "if n > 15:\n",
    "    var2 = 'False' # assign var2 as 'False' if n > 15 \n",
    "else:\n",
    "    var2 = 'True' # assign var2 as 'True' otherwise\n",
    "print(var2)"
   ]
  },
  {
   "cell_type": "code",
   "execution_count": null,
   "metadata": {
    "id": "c6M04jVaR3Wb"
   },
   "outputs": [],
   "source": [
    "# var3 is the value of var2 when var1 is True, False otherwise.\n",
    "\n",
    "var3 = True\n",
    "\n",
    "if var1: # if var1 is True\n",
    "    var3 = var2 # assign value of var2 to var3\n",
    "else: # if var1 is False\n",
    "    var3 = var1 # Simply assign var3 as False\n",
    "print(var3)"
   ]
  },
  {
   "cell_type": "markdown",
   "metadata": {
    "id": "4-BELCmSWrX6"
   },
   "source": [
    "<b><font color='red'> Question:</font></b> Now, we want to set `var2` to `False`(boolean) if `n` is larger than 15, or `True`(boolean) otherwise. It can be implemented using the following if-else condition blocks. \n",
    "\n",
    "```python\n",
    "var2 = None # initialise var2 randomly\n",
    "if n > 15:\n",
    "    var2 = False # assign var2 as False if n > 15 \n",
    "else:\n",
    "    var2 = True # assign var2 as True otherwise\n",
    "```\n",
    "\n",
    "How can we convert this to one-liner logical condition statement?\n",
    "\n",
    "```python\n",
    "var2 = ?\n",
    "```"
   ]
  },
  {
   "cell_type": "markdown",
   "metadata": {
    "id": "usSRCcrZf1in"
   },
   "source": [
    "\n",
    "\n",
    "---\n",
    "\n"
   ]
  },
  {
   "cell_type": "markdown",
   "metadata": {
    "id": "GdmL7tVZIjcz"
   },
   "source": [
    "### 2. Loops\n",
    "\n",
    "Sometimes, we want to perform similar tasks for n times, and we don't want to write n lines. This is where loops become handy.\n",
    "\n",
    "There are 3 main components of a loop:\n",
    "\n",
    "1. **Ending condition**(You may not want to loop forever...~unless~...)\n",
    "2. The task you wish to perform in each iteration\n",
    "3. The variable(s) that record(s) the index/value of current iteration(optional)"
   ]
  },
  {
   "cell_type": "markdown",
   "metadata": {
    "id": "bQ6KVEetKdBU"
   },
   "source": [
    "#### 2.1 While-loop\n",
    "\n",
    "Sometimes we want to perform a task until certain conditions. However, we are uncertain how many iterations do we need. Intuitively, it will be easy to use while-loop.\n",
    "\n",
    "keyword: <font color='blue'><b>while</b></font>\n",
    "<pre>\n",
    "<font color='blue'>while</font> &lt;condition&gt;:\n",
    "    &lt;task&gt;\n",
    "</pre>\n",
    "\n",
    "In a while loop, it will perform the `<task>` until `<condition>` is **not** met."
   ]
  },
  {
   "cell_type": "markdown",
   "metadata": {
    "id": "6yil0Vs6LCSF"
   },
   "source": [
    "#### 2.2 For-loop\n",
    "\n",
    "keyword: <font color='blue'><b>for</b></font>, <font color='blue'><b>in</b></font>\n",
    "<pre>\n",
    "<font color='blue'>for</font> &lt;item&gt; <font color='blue'>in</font> &lt;iterables&gt;:\n",
    "    &lt;task&gt;\n",
    "</pre>\n",
    "\n",
    "In a for loop, it will perform the `<task>` on every `<item>` in `<iterables>`. The `<iterables>` can be any collective data type objects(list,dictionary etc.) or iterators(e.g. the object returned from `range()`)."
   ]
  },
  {
   "cell_type": "markdown",
   "metadata": {
    "id": "rtNqxIKAMtrC"
   },
   "source": [
    "#### 2.3 <font color='blue'>break</font>\n",
    "\n",
    "<font color='blue'><b>break</b></font> is a keyword that is used to terminate the loop. However, where to put the `break` is also important. "
   ]
  },
  {
   "cell_type": "code",
   "execution_count": null,
   "metadata": {
    "id": "BJZFzK8JMtFU"
   },
   "outputs": [],
   "source": [
    "for word in ['we','were','on','a','break']:\n",
    "    if word == 'break':\n",
    "        break\n",
    "    print(word, end = ' ')"
   ]
  },
  {
   "cell_type": "code",
   "execution_count": null,
   "metadata": {
    "id": "R0kUiY_cNVAj"
   },
   "outputs": [],
   "source": [
    "for word in ['we','were','on','a','break']:\n",
    "    print(word, end = ' ')\n",
    "    if word == 'break':\n",
    "        break"
   ]
  },
  {
   "cell_type": "markdown",
   "metadata": {
    "id": "-LdS710FOFgh"
   },
   "source": [
    "#### 2.4 <font color='blue'>continue</font>\n",
    "\n",
    "<font color='blue'><b>continue</b></font> is a keyword that is used to skip the lines after in the current iteration and start the next iteration."
   ]
  },
  {
   "cell_type": "code",
   "execution_count": null,
   "metadata": {
    "id": "OVwDSrCJOUrz"
   },
   "outputs": [],
   "source": [
    "words = ['python','is','not','boring','at','all']\n",
    "\n",
    "index = 0\n",
    "while index < len(words):\n",
    "    if words[index] == 'not':\n",
    "        continue\n",
    "    print(words[index], end = \" \")\n",
    "\n",
    "# Well, that's awkward..."
   ]
  },
  {
   "cell_type": "markdown",
   "metadata": {
    "id": "FdH7wL1fI8Q8"
   },
   "source": [
    "#### 2.5 Infinite Loops\n",
    "\n",
    "**Note: Infinite loop is not a preferred way to perform iterations because it might not end. This part is for demonstration only.**"
   ]
  },
  {
   "cell_type": "code",
   "execution_count": null,
   "metadata": {
    "id": "RTm8fnM_Imzf"
   },
   "outputs": [],
   "source": [
    "# do not run this on your computer!!\n",
    "# while True:\n",
    "#     pass"
   ]
  },
  {
   "cell_type": "markdown",
   "metadata": {
    "id": "c-cbOORxKC_9"
   },
   "source": [
    "<b><font color='red'> Question:</font></b> But we can make a pseudo-infinite-loop with for-loop too. How?"
   ]
  },
  {
   "cell_type": "markdown",
   "metadata": {
    "id": "bifsK1qWcrD3"
   },
   "source": [
    "<b><font color='red'>Answer</font></b>"
   ]
  },
  {
   "cell_type": "code",
   "execution_count": null,
   "metadata": {
    "id": "dRpJeiCYPnS6"
   },
   "outputs": [],
   "source": [
    "# do not run this on your computer!!\n"
   ]
  },
  {
   "cell_type": "markdown",
   "metadata": {
    "id": "U88cYd0zfEDo"
   },
   "source": [
    "### 3. List Comprehension\n",
    "\n",
    "<blockquote>\n",
    "List comprehension is an elegant way to define and create lists based on existing lists.&nbsp;&nbsp;&nbsp;&nbsp;&nbsp;- Programmiz\n",
    "</blockquote>\n",
    "<blockquote>\n",
    "List comprehensions provide a concise way to create lists.&nbsp;&nbsp;&nbsp;&nbsp;&nbsp;- Python 3.6 Documentation\n",
    "</blockquote>\n",
    "<blockquote>\n",
    "List comprehension offers a shorter syntax when you want to create a new list based on the values of an existing list.&nbsp;&nbsp;&nbsp;&nbsp;&nbsp;- w3schools\n",
    "</blockquote>\n",
    "\n",
    "List comprehension is quite a *pythonic* list operation. It can create a new list, iterate through an existing list and transform the items based on some conditions."
   ]
  },
  {
   "cell_type": "markdown",
   "metadata": {
    "id": "hGsIFjJrhUbK"
   },
   "source": [
    "**Example:** Let's say we have a list of integers and we want to create a new list where all odd numbers from the list are multiplied by 2.\n",
    "\n",
    "We can perform this task using the conventional loop and if-elif-else statements as follows:\n",
    "\n",
    "<pre>\n",
    "a_list = [1,2,3,4,5,6,7,10,11,15,17]\n",
    "new_list = <font color='blue'>[]</font>\n",
    "\n",
    "<font color='red'>for item in a_list:</font> # iterate through a_list\n",
    "    <font color='green'>if item % 2 != 0:</font> # if the item is odd\n",
    "        <font color='green'>new_list.append(item * 2)</font> # multiply the value by 2 and append to new_list\n",
    "    <font color='purple'>else:\n",
    "        new_list.append(item)</font> # for even numbers, simply append to new_list\n",
    "</pre>\n",
    "\n",
    "However, we can do the same thing using list comprehension in one line:\n",
    "<pre>\n",
    "a_list = [1,2,3,4,5,6,7,10,11,15,17]\n",
    "\n",
    "new_list = <font color='blue'>[</font><font color='green'>item * 2 if item % 2 != 0</font> <font color='purple'>else item</font> <font color='red'>for item in a_list</font><font color='blue'>]</font>\n",
    "</pre>"
   ]
  },
  {
   "cell_type": "markdown",
   "metadata": {
    "id": "otXMo9JfRCc6"
   },
   "source": [
    "<b><font color='red'>Challenge:</font></b> Try to create `new_list` by list comprehension based on the logic in the following code:\n",
    "```python\n",
    "a_list = ['abc', 'DEF', 'gHIj']\n",
    "new_list = []\n",
    "for item in a_list:\n",
    "    if item.isupper():\n",
    "        new_list.append(item.lower())\n",
    "    elif item.islower():\n",
    "        new_list.append(item.upper())\n",
    "    else:\n",
    "        new_list.append(item)\n",
    "```\n",
    "\n",
    "*The problem is: how can we handle the elif case?*"
   ]
  },
  {
   "cell_type": "markdown",
   "metadata": {
    "id": "_N0-kb7KSJ26"
   },
   "source": [
    "<b><font color='red'>Answer</font></b>"
   ]
  },
  {
   "cell_type": "code",
   "execution_count": null,
   "metadata": {
    "id": "XCfToFDcSOfw"
   },
   "outputs": [],
   "source": [
    "a_list = ['abc', 'DEF', 'gHIj']\n",
    "\n",
    "new_list = [?]\n",
    "\n",
    "new_list"
   ]
  },
  {
   "cell_type": "markdown",
   "metadata": {
    "id": "eWBma1G5_jx0"
   },
   "source": [
    "### 4. Demystifying Secret Numbers\n",
    "\n",
    "<small>After learning so many things, it is about time to do a mission.</small>\n",
    "\n",
    "In this task, you are given a string of mysterious numbers and three decoding dictionaries. \n",
    "\n",
    "The string is divided into 3 parts by lines of '==='. \n",
    "\n",
    "Each part of the string can be decoded by one decoding dictionary only.\n",
    "\n",
    "In the string, the each number is split by space or new line character '\\n'.\n",
    "\n",
    "For the dictionaries, the keys are the numbers and the values are the corresponding words of the numbers.\n",
    "\n",
    "**Your goal is to try to decode this string of mysterious numbers using the three dictionaries provided.**\n",
    "\n",
    "*Things you may consider:*\n",
    "1. How can we separate the string into 3 parts?\n",
    "2. How can we separate the numbers? Are they integers or string?\n",
    "3. How can we get the correct dictionary to decode the current part of the string?\n",
    "4. How can we get the word from the number using the correct dictionary?\n",
    "5. How can we join all the decoded words together?"
   ]
  },
  {
   "cell_type": "code",
   "execution_count": null,
   "metadata": {
    "id": "nFGxDm4lGGBU"
   },
   "outputs": [],
   "source": [
    "# Run this code cell to create the variables\n",
    "# mysterious numbers\n",
    "myst_nums = \"\"\"2658 8503 2582 3035 9951 5535 1763 5552 2276 2079 4906 2658 293 2582 3407 786 6164 3279 3825 595 4975\n",
    "===\n",
    "6152 1974 7262 7262 2070 1861 6055 9735 1398 183 7262 7708 3284 4175 2908 8000 9364 4979 2070 1861 6055 9735 8590 4691 4979 8618 4161 9302 4979 7840 7262\n",
    "===\n",
    "3589 3589 9817 5372 7278 3522 2890 7206 8258 2037 8445 1076 7853 5400 8159 4505 8364 8258 1258 2738 4527 8258 2635 6049 5576 6798 9432 9290 4362 8258 6142 978 9198\"\"\"\n",
    "\n",
    "\n",
    "# first look up dictionary\n",
    "dict1 = {6152: 'then', 9302: 'till', 9735: 'much', 1398: 'a', 8618: 'was', 3284: 'out', 7262: 'you', 1974: \"there's\", 4979: 'i', 4161: 'lost', 9364: 'crowds', 1861: 'feel', 7840: 'found', 183: 'stranger', 8590: 'in', 8000: 'the', 6055: 'that', 2070: \"don't\", 4691: 'danger', 4175: 'from', 7708: 'stand', 2908: 'all'}\n",
    "# second look up dictionary\n",
    "dict2 = {3279: 'when', 595: 'none', 2276: 'no', 1763: 'streets', 3407: 'tryna', 3825: \"there's\", 3035: 'fighting', 4906: 'ground', 293: 'just', 5552: 'with', 2582: 'strangers', 2658: \"we're\", 9951: 'in', 5535: 'the', 6164: 'release', 2079: 'common', 4975: 'around', 8503: 'all', 786: 'find'}\n",
    "# third look up dictionary\n",
    "dict3 = {9432: 'me', 3589: 'baby,', 5576: 'baby', 4505: 'not', 6142: 'can', 2738: 'is', 5372: 'you', 9817: \"won't\", 8258: 'i', 8445: 'really', 7853: 'stay', 6798: 'hold', 9198: 'breathe', 7278: 'please', 5400: 'if', 7206: 'me?', 6049: 'you,', 4362: 'so', 3522: 'come', 1258: 'know', 2635: 'need', 8159: \"you're\", 978: 'finally', 1076: 'wanna', 4527: 'that', 2890: 'rescue', 2037: \"don't\", 9290: 'close', 8364: 'all'}"
   ]
  },
  {
   "cell_type": "markdown",
   "metadata": {
    "id": "_TY2Wtp-5nTY"
   },
   "source": [
    "<b><font color='red'>Answer</font></b>"
   ]
  },
  {
   "cell_type": "code",
   "execution_count": null,
   "metadata": {
    "id": "SpbzXdIiHo3k"
   },
   "outputs": [],
   "source": [
    ""
   ]
  },
  {
   "cell_type": "markdown",
   "metadata": {
    "id": "OvSuIYMpvAJe"
   },
   "source": [
    "## Exercise\n",
    "\n",
    "Now, try to write the code and add comments for the following questions.\n",
    "\n",
    "*You only need to use the techniques learnt in this notebook to complete the tasks*"
   ]
  },
  {
   "cell_type": "markdown",
   "metadata": {
    "id": "snezZCItL0sY"
   },
   "source": [
    "### Task A: Matrix Multiplication\n",
    "\n",
    "Write a Python program to perform matrix multiplication of matrices X and Y.\n",
    "\n",
    "X has dimension of $i \\times j$, while Y has dimension of $ j \\times k$. \n",
    "\n",
    "For example: \n",
    "```python\n",
    "[[1,2,3],\n",
    " [4,5,6]]\n",
    "```\n",
    "has dimension of $2 \\times 3$.\n",
    "\n",
    "Let Z be the resulting matrix from X $\\times$ Y. Z will have dimension of $i \\times k$.\n",
    "\n",
    "The value of Z[a][b] = X[a][0] $\\times$ Y[0][b] + X[a][1] $\\times$ Y[1][b] + ... + X[a][j-1] $\\times$ Y[j-1][b]\n",
    "\n",
    "For example,\n",
    "```python\n",
    "X = [[1,2,3],\n",
    "     [4,5,6]]\n",
    "\n",
    "Y = [[7],\n",
    "     [8],\n",
    "     [9]]\n",
    "\n",
    "X x Y = [[1 * 7 + 2 * 8 + 3 * 9]\n",
    "         [4 * 7 + 5 * 8 + 6 * 9]]\n",
    "```\n",
    "\n",
    "```python\n",
    "Let:\n",
    "X = [[1,0,4],\n",
    "     [3,1,0],\n",
    "     [0,9,1]]\n",
    "\n",
    "Y = [[1,6],\n",
    "     [0,2],\n",
    "     [5,0]]\n",
    "```\n",
    "\n",
    "Please implement a python code to perform X$\\times$Y and print the resulting matrix."
   ]
  },
  {
   "cell_type": "markdown",
   "metadata": {
    "id": "Cc_TxlB5Ar0g"
   },
   "source": [
    "<b><font color='red'>Solution</font></b>"
   ]
  },
  {
   "cell_type": "code",
   "execution_count": null,
   "metadata": {
    "id": "PVcNO2VFL0sZ"
   },
   "outputs": [],
   "source": [
    "X = [[1,0,4],\n",
    "     [3,1,0],\n",
    "     [0,9,1]]\n",
    "\n",
    "Y = [[1,6],\n",
    "     [0,2],\n",
    "     [5,0]]\n",
    "     \n",
    "# define the result matrix with dimension of i x k\n",
    "\n",
    "# The calculations start here\n",
    "\n",
    "\n",
    "print('Final matrix:')\n",
    "# print out the resulting matrix\n",
    "print('[' + ',\\n '.join(str(r) for r in result) + ']')"
   ]
  },
  {
   "cell_type": "markdown",
   "metadata": {
    "id": "DVquHVsCL0sZ"
   },
   "source": [
    "### Task B: List manipulation\n",
    "\n",
    "Write a Python program to count the elements from the start of `myList` until an element is a tuple and print out the count.\n",
    "\n",
    "- myList = [10,20,30,(10,20),40]"
   ]
  },
  {
   "cell_type": "markdown",
   "metadata": {
    "id": "L7xDpYiXfQtq"
   },
   "source": [
    "<b><font color='red'>Solution</font></b>"
   ]
  },
  {
   "cell_type": "code",
   "execution_count": null,
   "metadata": {
    "id": "r4_giZ1jL0sZ"
   },
   "outputs": [],
   "source": [
    "myList = [10,20,30,(10,20),40]\n",
    "\n",
    "# Your code\n"
   ]
  },
  {
   "cell_type": "markdown",
   "metadata": {
    "id": "v3P_LpzObgYq"
   },
   "source": [
    "### Task C: Tom Riddle and His Horcruxes\n",
    "\n",
    "Tom Riddle has created 7 Horcruxes. He knows that the old Dumbledore and other fellows in Hogwarts are not capable of Python programming. So, he decided to store 3 of the horcruxes(`'🕮'` his diary, `'💍'` Marvolo Gaunt's ring and `'♕'` Rowena Ravenclaw's diadem) and his precious nose `'👃'` into a Python list of lists. Below is his Python implementation:\n",
    "\n",
    "```python\n",
    "horcruxes = [ [] ] * 4 # create a list containing 4 empty lists\n",
    "horcruxes[0].append('🕮') # put the diary in the first list\n",
    "horcruxes[1].append('💍') # put the ring in the second list\n",
    "horcruxes[2].append('♕') # put the diadem in the third list\n",
    "horcruxes[3].append('👃') # put the nost in the last list\n",
    "```\n",
    "\n",
    "He thought he would get the resulting list as `[['🕮'],['💍'],['♕'],['👃']]`. \n",
    "\n",
    "However, he gets `[['🕮','💍','♕','👃'],['🕮','💍','♕','👃'],['🕮','💍','♕','👃'],['🕮','💍','♕','👃']]` instead. Why is that? Also, how can he create the list he wants?"
   ]
  },
  {
   "cell_type": "markdown",
   "metadata": {
    "id": "f5AWgIbNfRzL"
   },
   "source": [
    "<b><font color='red'>Answer</font></b>"
   ]
  },
  {
   "cell_type": "markdown",
   "metadata": {
    "id": "1h9kxecZIJHE"
   },
   "source": [
    "\\# Your explanation\n",
    "\n",
    "- "
   ]
  },
  {
   "cell_type": "code",
   "execution_count": null,
   "metadata": {
    "id": "uiPPhugnIG0E"
   },
   "outputs": [],
   "source": [
    "# Your code\n"
   ]
  },
  {
   "cell_type": "markdown",
   "metadata": {
    "id": "HaNAHNDrgstZ"
   },
   "source": [
    "Oh, no! Now, you are invited to be a Death Eater after helping Tom!"
   ]
  },
  {
   "cell_type": "markdown",
   "metadata": {
    "id": "0fyhJJUri4kD"
   },
   "source": [
    "### Task D: The Greatest Fight of Wizards\n",
    "Now, Harry wrote a letter to challenge Voldemort. However, due to the lockdown, Harry and Voldemort need to stay at home and maintain social distancing. In light of that, Voldemort decides to write a Python program for Harry to challenge.\n",
    "\n",
    "In this program, it will repetitively ask Harry to type in the spells until either of Voldemort or Harry has 0 HP value. Voldemort and Harry both have 100 HP values initially. After Harry type in the spells each time, if the spell is in table 1 below, the corresponding damage will be made to Voldemort. However, if the spell is not in table 1, Harry will lose 15 HP.\n",
    "\n",
    "<table>\n",
    "<thead><td>Spell (case <b>insensitive</b>)</td><td>Damage to Voldemort</td><td>Damage to Harry</td></thead>\n",
    "<tr><td>Expelliarmus</td><td>20</td><td>0</td></tr>\n",
    "<tr><td>Incendio</td><td>15</td><td>0</td></tr>\n",
    "<tr><td>Stupefy</td><td>10</td><td>0</td></tr>\n",
    "<tr><td>Confringo</td><td>15</td><td>0</td></tr>\n",
    "<tr><td>Rictusempra</td><td>5</td><td>0</td></tr>\n",
    "<tr><td>None of above</td><td>0</td><td>15</td></tr>\n",
    "</table>\n",
    "<center><small>Table 1 - Effects of spells</small></center>\n",
    "\n",
    "If either Harry or Voldemort has 0 HP, the program will print out who is the survivor of this fight. Please write the program for Voldemort according to the above descriptions."
   ]
  },
  {
   "cell_type": "code",
   "execution_count": null,
   "metadata": {
    "id": "TSJTu9t6yLzp"
   },
   "outputs": [],
   "source": [
    "# Your code\n",
    "\n",
    "# initialize Harry and Voldemort's HPs\n",
    "\n",
    "\n",
    "# create a spell dictionary, where key is spell, value is damage to voldemort\n",
    "\n",
    "\n",
    "\n",
    "# iterate while both Harry and Voldemort have HPs > 0, make sure either HP of Harry or Voldemort decreases each iteration\n",
    "\n",
    "\n",
    "\n",
    "\n",
    "# if Harry survives\n",
    "\n",
    "# if Voldemort survives\n"
   ]
  }
 ],
 "metadata": {
  "colab": {
   "collapsed_sections": [],
   "name": "FIT9136 Week 4 Lab Activities.ipynb",
   "provenance": []
  },
  "kernelspec": {
   "display_name": "Python 3",
   "language": "python",
   "name": "python3"
  },
  "language_info": {
   "codemirror_mode": {
    "name": "ipython",
    "version": 3
   },
   "file_extension": ".py",
   "mimetype": "text/x-python",
   "name": "python",
   "nbconvert_exporter": "python",
   "pygments_lexer": "ipython3",
   "version": "3.7.6"
  }
 },
 "nbformat": 4,
 "nbformat_minor": 0
}
