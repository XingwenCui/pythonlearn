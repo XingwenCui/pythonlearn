{
 "cells": [
  {
   "cell_type": "markdown",
   "metadata": {
    "id": "eC8dqyRyJUhM"
   },
   "source": [
    "# FIT9136 Algorithms and programming foundations in Python"
   ]
  },
  {
   "cell_type": "markdown",
   "metadata": {
    "id": "K2SnbiS1JUhe"
   },
   "source": [
    "# Week 10 Lab Activities: Basic Algorithms for Searching and Sorting, Time Complexity I"
   ]
  },
  {
   "cell_type": "markdown",
   "metadata": {
    "id": "qr6Mg_Uc3ZEt"
   },
   "source": [
    "<small>\\#linearSearch \\#binarySearch \\#bubbleSort \\#selectionSort \\#insertionSort</small>"
   ]
  },
  {
   "cell_type": "markdown",
   "metadata": {
    "heading_collapsed": true,
    "id": "E2-5XJ0jD0XM"
   },
   "source": [
    "## 1. Search Algorithms"
   ]
  },
  {
   "cell_type": "markdown",
   "metadata": {
    "heading_collapsed": true,
    "hidden": true,
    "id": "4eeJeBNGECWW"
   },
   "source": [
    "### 1.1 Linear Search\n",
    "\n",
    "For each item in an ordered collecton <u>from the start to the end</u>:\n",
    "- compare the item with the query value. \n",
    "- stops when the query value is found or the end of the collection is reached.\n",
    "\n",
    "Below is a demonstration of searching **`33`** from `[10,14,19,26,27,31,33,35,42,44]`\n",
    "\n",
    "![Linear Search from Github](https://camo.githubusercontent.com/5cfe6f9610708af79ad630ab47faf788eb600b6dfe543903492675780aecc11d/68747470733a2f2f7777772e7475746f7269616c73706f696e742e636f6d2f646174615f737472756374757265735f616c676f726974686d732f696d616765732f6c696e6561725f7365617263682e676966)"
   ]
  },
  {
   "cell_type": "markdown",
   "metadata": {
    "hidden": true,
    "id": "DexkdXMtvxE7"
   },
   "source": [
    "####**Time complexity**\n",
    "- Best case: The first item is the match. → O(1)\n",
    "- Worst case: The last item is the match. → O(N) : Depends on the length of the list."
   ]
  },
  {
   "cell_type": "code",
   "execution_count": null,
   "metadata": {
    "hidden": true,
    "id": "YNMaYzebFfR9"
   },
   "outputs": [],
   "source": [
    "def linear_search(a_list, query):\n",
    "    \"\"\"\n",
    "    Checks whether query is in a_list.\n",
    "    Args:\n",
    "        1. a_list(list): The list to be searched.\n",
    "        2. query(object): The value to search for.\n",
    "    Returns:\n",
    "        bool: True if query is in a_list. False otherwise.\n",
    "    \"\"\"\n",
    "    for val in a_list:\n",
    "        if val == query:\n",
    "            return True\n",
    "    return False"
   ]
  },
  {
   "cell_type": "code",
   "execution_count": null,
   "metadata": {
    "hidden": true,
    "id": "01qo8-WYD3hp"
   },
   "outputs": [],
   "source": [
    "def linear_search(a_list, query):\n",
    "    \"\"\"\n",
    "    Checks whether query is in a_list and returns the index of the query from a_list if found.\n",
    "    Args:\n",
    "        1. a_list(list): The list to be searched.\n",
    "        2. query(object): The value to search for.\n",
    "    Returns:\n",
    "        int: The index of the query from a_list. -1 if query not found.\n",
    "    \"\"\"\n",
    "    for idx, val in enumerate(a_list):\n",
    "        if val == query:\n",
    "            return idx\n",
    "    return -1"
   ]
  },
  {
   "cell_type": "markdown",
   "metadata": {
    "hidden": true,
    "id": "4Ljpzh7hGpOt"
   },
   "source": [
    "<font color='red'><b>Task: </b></font> Write a function `linear_search_tuples(a_list,query)` that:\n",
    "- accepts a list of tuples with 2 items in each of a tuple and \n",
    "- only searches whether query exists in the second item of any of the tuples.\n",
    "\n",
    "E.g. \n",
    "\n",
    "```python\n",
    "linear_search_tuples([(1,'a'),(2,'c'),('abc','ee')],'c') == True\n",
    "linear_search_tuples([(1,'a'),(2,'c'),('abc','ee')],'abc') == False\n",
    "```"
   ]
  },
  {
   "cell_type": "code",
   "execution_count": null,
   "metadata": {
    "hidden": true,
    "id": "RS8s7q95Icta"
   },
   "outputs": [],
   "source": [
    "def linear_search_tuples(a_list,query):\n",
    "    # optional validations\n",
    "    if type(a_list) is not list:\n",
    "        raise TypeError('Invalid datatype: a_list')\n",
    "    if not all(type(item) is tuple and len(item) >= 2 for item in a_list):\n",
    "        raise ValueError('Invalid format: a_list')\n",
    "    # linear search\n",
    "    for item in a_list:\n",
    "        if query == item[1]:\n",
    "            return True\n",
    "    return False"
   ]
  },
  {
   "cell_type": "code",
   "execution_count": null,
   "metadata": {
    "colab": {
     "base_uri": "https://localhost:8080/"
    },
    "executionInfo": {
     "elapsed": 316,
     "status": "ok",
     "timestamp": 1632593700895,
     "user": {
      "displayName": "Kelvin Lo",
      "photoUrl": "https://lh3.googleusercontent.com/a-/AOh14Ggat1DO4WM3A1o0pmnr7y1jEmCWFqjCIpg9Yk0C=s64",
      "userId": "08004694506673442732"
     },
     "user_tz": -600
    },
    "hidden": true,
    "id": "5NZpXzkTKmZq",
    "outputId": "1fbb0d2e-8463-41ae-cdb9-65de4e4dedb5"
   },
   "outputs": [
    {
     "name": "stdout",
     "output_type": "stream",
     "text": [
      "True\n",
      "False\n"
     ]
    }
   ],
   "source": [
    "print(linear_search_tuples([(1,'a'),(2,'c'),('abc','ee')],'c'))\n",
    "print(linear_search_tuples([(1,'a'),(2,'c'),('abc','ee')],'abc'))"
   ]
  },
  {
   "cell_type": "markdown",
   "metadata": {
    "heading_collapsed": true,
    "hidden": true,
    "id": "NsEFg-WtMYYz"
   },
   "source": [
    "### 1.2 Binary Search\n",
    "\n",
    "1. Search <u>from the middle</u> of an ordered collecton:\n",
    "2. compare the item with the query value. \n",
    "3. if the query &gt; middle item, discard the right-hand side of the list. if the query is &lt; middle item, discard the left-hand side of the list. Go to step 1.\n",
    "4. stops when the query value is found or there are no items remaining in the list.\n",
    "\n",
    "Below is a demonstration of searching **`92`** from `[20,51,54,59,75,76,78,89,92]`\n",
    "\n",
    "![Binary Search from Google](https://www.codecademy.com/resources/blog/content/images/2018/10/binary-search-small.gif)"
   ]
  },
  {
   "cell_type": "markdown",
   "metadata": {
    "hidden": true,
    "id": "QiEe76F0vsCB"
   },
   "source": [
    "####**Time complexity**\n",
    "- Best case: The middle item is the match. → O(1)\n",
    "- Worst case: The match is found in the last iteration. → O(log(N)) : Depends on the length of the list, but the size of list is reduced by half in each iteration."
   ]
  },
  {
   "cell_type": "code",
   "execution_count": null,
   "metadata": {
    "hidden": true,
    "id": "Wg9IbI4KKpFl"
   },
   "outputs": [],
   "source": [
    "# not so space efficient approach: needs to copy lists recursively\n",
    "def binary_search(a_list, query):\n",
    "    \"\"\"\n",
    "    Checks whether query is in a_list.\n",
    "    Args:\n",
    "        1. a_list(list): The list to be searched.\n",
    "        2. query(object): The value to search for.\n",
    "    Returns:\n",
    "        bool: True if query is in a_list. False otherwise.\n",
    "    \"\"\"\n",
    "    search_list = a_list\n",
    "    iter_count = 1\n",
    "    while search_list:\n",
    "        # get the middle index of the list\n",
    "        middle = (len(search_list) - 1) // 2\n",
    "        print(f'{iter_count} iteration:\\nsearch_list: {search_list} | middle index: {middle} | item at middle index: {search_list[middle]}\\n===============')\n",
    "        if search_list[middle] == query:\n",
    "            return True\n",
    "        elif search_list[middle] > query: # discard the right-hand side of the list\n",
    "            search_list = search_list[:middle]\n",
    "        else: # discard the left-hand side of the list\n",
    "            search_list = search_list[middle+1:]\n",
    "        iter_count += 1\n",
    "    return False"
   ]
  },
  {
   "cell_type": "code",
   "execution_count": null,
   "metadata": {
    "hidden": true,
    "id": "W_tvh6f_PNVf"
   },
   "outputs": [],
   "source": [
    "print(binary_search([20,51,54,59,75,76,78,89,92],92))"
   ]
  },
  {
   "cell_type": "code",
   "execution_count": null,
   "metadata": {
    "hidden": true,
    "id": "uNClioq3PvAE"
   },
   "outputs": [],
   "source": [
    "# instead of shrinking the list each step, update the left, right and middle indices\n",
    "def binary_search(a_list, query):\n",
    "    \"\"\"\n",
    "    Checks whether query is in a_list.\n",
    "    Args:\n",
    "        1. a_list(list): The list to be searched.\n",
    "        2. query(object): The value to search for.\n",
    "    Returns:\n",
    "        bool: True if query is in a_list. False otherwise.\n",
    "    \"\"\"\n",
    "    left_index = 0\n",
    "    right_index = len(a_list) - 1\n",
    "    iter_count = 1\n",
    "    while left_index <= right_index:\n",
    "        # get the middle index of the list\n",
    "        middle = (left_index + right_index) // 2\n",
    "        print(f'{iter_count} iteration:\\nleft index: {left_index} | right index: {right_index} | middle index: {middle} | item at middle index: {a_list[middle]}\\n===============')\n",
    "        if a_list[middle] == query:\n",
    "            return True\n",
    "        elif a_list[middle] > query: # discard the right-hand side, update right_index as middle_index - 1\n",
    "            right_index = middle - 1\n",
    "        else: # discard the left-hand side of the list, update left_index as middle_index + 1\n",
    "            left_index = middle + 1\n",
    "        iter_count += 1\n",
    "    return False"
   ]
  },
  {
   "cell_type": "code",
   "execution_count": null,
   "metadata": {
    "hidden": true,
    "id": "JXhOr1hpR75y"
   },
   "outputs": [],
   "source": [
    "print(binary_search([20,51,54,59,75,76,78,89,92],92))"
   ]
  },
  {
   "cell_type": "markdown",
   "metadata": {
    "hidden": true,
    "id": "2CnIuTzhLC-B"
   },
   "source": [
    "<font color='red'><b>Question: </b></font> True or False? \n",
    "1. `binary_search([13,48,37,15,19,74,30],13)`\n",
    "2. `binary_search([13,48,37,15,19,74,30],30)`"
   ]
  },
  {
   "cell_type": "markdown",
   "metadata": {
    "hidden": true,
    "id": "nFWgaujrK_mR"
   },
   "source": [
    "<font color='red'><b>Answer: </b></font>\n",
    "1. True\n",
    "```\n",
    "1st iteration:\n",
    "middle index: 3 (value: 15) | 13 < 15 → go left\n",
    "2nd iteration:\n",
    "middle index: 1 (value: 48) | 13 < 48 → go left\n",
    "3rd iteration:\n",
    "middle index: 0 (value: 13) | 13 == 13 → True\n",
    "```\n",
    "2. False\n",
    "```\n",
    "1st iteration:\n",
    "middle index: 3 (value: 15) | 30 > 15 → go right\n",
    "2nd iteration:\n",
    "middle index: 5 (value: 74) | 30 < 74 → go left\n",
    "3rd iteration:\n",
    "middle index: 4 (value: 19) | 30 > 19 → go right\n",
    "4th iteration:\n",
    "right index < left index → False\n",
    "```\n",
    "\n",
    "**Binary Search only works perfectly on sorted lists.** \n",
    "\n",
    "However, you can still perform binary search on unsorted lists and may not get expected results. "
   ]
  },
  {
   "cell_type": "markdown",
   "metadata": {
    "id": "v4_tkjzPS7Vu"
   },
   "source": [
    "## 2. Sort Algorithm"
   ]
  },
  {
   "cell_type": "markdown",
   "metadata": {
    "id": "uKJYr_eVTIfi"
   },
   "source": [
    "### 2.1 Bubble Sort\n",
    "*Compare neighbouring items*\n",
    "\n",
    "![Bubble sort gif from medium](https://miro.medium.com/max/250/0*nh6F_qERbgD3xmV-.gif)\n",
    "\n",
    "<pre>\n",
    "Case 1:\n",
    "3,2,6,7,1,8\n",
    "-----------\n",
    "<font color='brown'><b>1st iteration:</b></font>\n",
    "<b>2</b>,<b>3</b>,6,7,1,8 [SWAP] (3 > 2)\n",
    "2,<b>3</b>,<b>6</b>,7,1,8 [NO SWAP]\n",
    "2,3,<b>6</b>,<b>7</b>,1,8 [NO SWAP]\n",
    "2,3,6,<b>1</b>,<b>7</b>,8 [SWAP] (7 > 1)\n",
    "2,3,6,1,<b>7</b>|<b>8</b> [NO SWAP]\n",
    "Number of comparisons: <font color='red'>5</font>\n",
    "Number of swaps: <font color='green'><b>2</b></font>\n",
    "<font color='blue'><b>Last</b></font> item (8) is sorted.\n",
    "-----------\n",
    "<font color='brown'><b>2st iteration:</b></font>\n",
    "<b>2</b>,<b>3</b>,6,1,7|8 [NO SWAP]\n",
    "2,<b>3</b>,<b>6</b>,1,7|8 [NO SWAP]\n",
    "2,3,<b>1</b>,<b>6</b>,7|8 [SWAP] (6 > 1)\n",
    "2,3,1,<b>6</b>|<b>7</b>,8 [NO SWAP]\n",
    "Number of comparisons: <font color='red'>4</font>\n",
    "Number of swaps: <font color='green'><b>1</b></font>\n",
    "<font color='blue'><b>Last 2</b></font> items (7,8) are sorted.\n",
    "-----------\n",
    "<font color='brown'><b>3rd iteration:</b></font>\n",
    "<b>2</b>,<b>3</b>,1,6|7,8 [NO SWAP]\n",
    "2,<b>1</b>,<b>3</b>,6|7,8 [SWAP] (3 > 1)\n",
    "2,1,<b>3</b>|<b>6</b>,7,8 [NO SWAP]\n",
    "Number of comparisons: <font color='red'>3</font>\n",
    "Number of swaps: <font color='green'><b>1</b></font>\n",
    "<font color='blue'><b>Last 3</b></font> items (6,7,8) are sorted.\n",
    "-----------\n",
    "<font color='brown'><b>4th iteration:</b></font>\n",
    "<b>1</b>,<b>2</b>,3|6,7,8 [SWAP] (2 > 1)\n",
    "1,<b>2</b>|<b>3</b>,6,7,8 [NO SWAP]\n",
    "Number of comparisons: <font color='red'>2</font>\n",
    "Number of swaps: <font color='green'><b>1</b></font>\n",
    "<font color='blue'><b>Last 4</b></font> items (3,6,7,8) are sorted.\n",
    "-----------\n",
    "<font color='brown'><b>5th iteration:</b></font>\n",
    "<b>1</b>|<b>2</b>,3,6,7,8 [NO SWAP]\n",
    "Number of comparisons: <font color='red'>1</font>\n",
    "Number of swaps: <font color='green'><b>0</b></font>\n",
    "<font color='blue'><b>Last 5</b></font> items (2,3,6,7,8) are sorted, the remaining item is also sorted.\n",
    "</pre>\n",
    "\n",
    "From above, we can observe:\n",
    "- Maximum number of iterations = <font color='brown'><b>len(list) - 1</b></font>\n",
    "- Number of comparisons in i-th iteration where i is from 1 to len(list) - 1: <font color='red'>len(list) - i</font>\n",
    "\n",
    "\n",
    "<pre>\n",
    "def bubble_sort(a_list):\n",
    "    sorted_list = a_list[:] # make a copy of the original list\n",
    "    for iter in <font color='brown'><b>range(1,len(sorted_list))</b></font>:\n",
    "        for index in <font color='red'>range(len(sorted_list) - iter)</font>:\n",
    "            if sorted_list[index] > sorted_list[index + 1]:\n",
    "                sorted_list[index], sorted_list[index + 1] = sorted_list[index + 1], sorted_list[index]\n",
    "    return sorted_list\n",
    "\n",
    "</pre>"
   ]
  },
  {
   "cell_type": "code",
   "execution_count": null,
   "metadata": {
    "id": "yw_9ChanS5Q3"
   },
   "outputs": [],
   "source": [
    "def bubble_sort(a_list):\n",
    "    sorted_list = a_list[:] # make a copy of the original list\n",
    "    for iter in range(1,len(sorted_list)):\n",
    "        for index in range(len(sorted_list) - iter):\n",
    "            if sorted_list[index] > sorted_list[index + 1]:\n",
    "                sorted_list[index], sorted_list[index + 1] = sorted_list[index + 1], sorted_list[index]\n",
    "    return sorted_list"
   ]
  },
  {
   "cell_type": "code",
   "execution_count": null,
   "metadata": {
    "colab": {
     "base_uri": "https://localhost:8080/"
    },
    "executionInfo": {
     "elapsed": 5,
     "status": "ok",
     "timestamp": 1632634677374,
     "user": {
      "displayName": "Kelvin Lo",
      "photoUrl": "https://lh3.googleusercontent.com/a-/AOh14Ggat1DO4WM3A1o0pmnr7y1jEmCWFqjCIpg9Yk0C=s64",
      "userId": "08004694506673442732"
     },
     "user_tz": -600
    },
    "id": "4ulLHZUvSR16",
    "outputId": "cc48f1f4-4385-4ce1-a4e8-61914aa37719"
   },
   "outputs": [
    {
     "data": {
      "text/plain": [
       "[1, 2, 3, 6, 7, 8]"
      ]
     },
     "execution_count": 4,
     "metadata": {},
     "output_type": "execute_result"
    }
   ],
   "source": [
    "bubble_sort([3,2,6,7,1,8])"
   ]
  },
  {
   "cell_type": "markdown",
   "metadata": {
    "id": "kq_mn56vn-y2"
   },
   "source": [
    "#### **Early stopping for bubble sort**\n",
    "\n",
    "<pre>\n",
    "Case 2:\n",
    "1,2,3,4,5,6\n",
    "-----------\n",
    "<font color='brown'><b>1st iteration:</b></font>\n",
    "<b>1</b>,<b>2</b>,3,4,5,6 [NO SWAP]\n",
    "1,<b>2</b>,<b>3</b>,4,5,6 [NO SWAP]\n",
    "1,2,<b>3</b>,<b>4</b>,5,6 [NO SWAP]\n",
    "1,2,3,<b>4</b>,<b>5</b>,6 [NO SWAP]\n",
    "1,2,3,4,<b>5</b>|<b>6</b> [NO SWAP]\n",
    "Number of comparisons: <font color='red'>5</font>\n",
    "Number of swaps: <font color='green'><b>0</b></font>\n",
    "<font color='blue'><b>Last</b></font> item (6) is sorted.\n",
    "Since there are <font color='green'><b>no swaps</b></font> in the whole iteration, we can tell the list is already sorted. We can stop the sorting process.\n",
    "</pre>"
   ]
  },
  {
   "cell_type": "markdown",
   "metadata": {
    "id": "y6sHFntUpFcZ"
   },
   "source": [
    "<font color='red'><b>Task: </b></font> Introduce early stopping to the code below."
   ]
  },
  {
   "cell_type": "code",
   "execution_count": null,
   "metadata": {
    "id": "CKok0O7om_bE"
   },
   "outputs": [],
   "source": [
    "# modify the code below\n",
    "def bubble_sort_early_stopping(a_list):\n",
    "    sorted_list = a_list[:] # make a copy of the original list\n",
    "    for iter in range(1,len(sorted_list)):\n",
    "        for index in range(len(sorted_list) - iter):\n",
    "            if sorted_list[index] > sorted_list[index + 1]:\n",
    "                sorted_list[index], sorted_list[index + 1] = sorted_list[index + 1], sorted_list[index]\n",
    "    return sorted_list"
   ]
  },
  {
   "cell_type": "markdown",
   "metadata": {
    "id": "IylUIH3LpW_H"
   },
   "source": [
    "<font color='red'><b>Solution</b></font>"
   ]
  },
  {
   "cell_type": "markdown",
   "metadata": {
    "id": "PSpKvpHHpkym"
   },
   "source": [
    "<pre>\n",
    "def bubble_sort_early_stopping(a_list):\n",
    "    sorted_list = a_list[:] # make a copy of the original list\n",
    "    for iter in <font color='brown'><b>range(1,len(list))</b></font>:\n",
    "        <font color='green'><b>num_swaps = 0</b></font>\n",
    "        for index in <font color='red'>range(len(list) - iter)</font>:\n",
    "            if sorted_list[index] > sorted_list[index + 1]:\n",
    "                sorted_list[index], sorted_list[index + 1] = sorted_list[index + 1], sorted_list[index]\n",
    "                <font color='green'><b>num_swaps += 1</b></font>\n",
    "            <font color='green'><b>if num_swaps == 0</b></font>:\n",
    "                break\n",
    "    return sorted_list\n",
    "\n",
    "</pre>"
   ]
  },
  {
   "cell_type": "code",
   "execution_count": 9,
   "metadata": {
    "ExecuteTime": {
     "end_time": "2021-10-08T06:29:05.416170Z",
     "start_time": "2021-10-08T06:29:05.399043Z"
    },
    "id": "1MXvQdIYpdUt"
   },
   "outputs": [],
   "source": [
    "def bubble_sort_early_stopping(a_list):\n",
    "    sorted_list = a_list[:] # make a copy of the original list\n",
    "    for iter in range(1,len(sorted_list)):\n",
    "        num_swaps = 0\n",
    "        for index in range(len(sorted_list) - iter):\n",
    "            if sorted_list[index] > sorted_list[index + 1]:\n",
    "                sorted_list[index], sorted_list[index + 1] = sorted_list[index + 1], sorted_list[index]\n",
    "                num_swaps += 1\n",
    "        if num_swaps == 0:\n",
    "            break\n",
    "    return sorted_list"
   ]
  },
  {
   "cell_type": "code",
   "execution_count": 10,
   "metadata": {
    "ExecuteTime": {
     "end_time": "2021-10-08T06:29:05.792300Z",
     "start_time": "2021-10-08T06:29:05.778728Z"
    },
    "colab": {
     "base_uri": "https://localhost:8080/"
    },
    "executionInfo": {
     "elapsed": 11,
     "status": "ok",
     "timestamp": 1632635532139,
     "user": {
      "displayName": "Kelvin Lo",
      "photoUrl": "https://lh3.googleusercontent.com/a-/AOh14Ggat1DO4WM3A1o0pmnr7y1jEmCWFqjCIpg9Yk0C=s64",
      "userId": "08004694506673442732"
     },
     "user_tz": -600
    },
    "id": "xEgSWcpxp8pA",
    "outputId": "ffe92c90-f9eb-49cf-b03b-c395ddc8293f"
   },
   "outputs": [
    {
     "data": {
      "text/plain": [
       "[1, 2, 3, 4, 5, 6]"
      ]
     },
     "execution_count": 10,
     "metadata": {},
     "output_type": "execute_result"
    }
   ],
   "source": [
    "bubble_sort_early_stopping([1,3,2,4,5,6])"
   ]
  },
  {
   "cell_type": "markdown",
   "metadata": {
    "id": "74xXT20NqnSP"
   },
   "source": [
    "#### **Time complexity of bubble sort**\n",
    "- Best case: O(N) (list is already sorted, only 1 iteration with N comparisons depending on the length of list)\n",
    "- Worst case: O(N^2)"
   ]
  },
  {
   "cell_type": "markdown",
   "metadata": {
    "id": "6kSzx4RwX30n"
   },
   "source": [
    "## Exercise"
   ]
  },
  {
   "cell_type": "markdown",
   "metadata": {
    "id": "OGSQux3xkX5n"
   },
   "source": [
    "### 1. More about bubble sort\n",
    "\n",
    "Write down the list after each iteration of sorting [1,6,3,5,9,11,7] with bubble sort algorithm in ascending order.\n",
    "\n",
    "E.g.\n",
    "```\n",
    "Sorting ['b','x','g','a','r','e','h']\n",
    "===============================================\n",
    "after 1st iteration: ['b','g','a','r','e','h','x']\n",
    "after 2nd iteration: ['b','a','g','e','h','r','x']\n",
    "after 3rd iteration: ['a','b','e','g','h','r','x']\n",
    "after 4th iteration: ['a','b','e','g','h','r','x']\n",
    "```"
   ]
  },
  {
   "cell_type": "markdown",
   "metadata": {
    "id": "pbXKikTXlt_b"
   },
   "source": [
    "<font color='red'><b>Solution</b></font>\n",
    "```\n",
    "after 1st iteration: [1,3,5,6,9,7,11]\n",
    "after 2nd iteration: [1,3,5,6,7,9,11]\n",
    "after 3rd iteration: [1,3,5,6,7,9,11]\n",
    "```"
   ]
  },
  {
   "cell_type": "markdown",
   "metadata": {
    "heading_collapsed": true,
    "id": "79dPAOKWJUiI"
   },
   "source": [
    "### 4. Time Complexity\n",
    "**Find Complexity for Following Codes:**"
   ]
  },
  {
   "cell_type": "markdown",
   "metadata": {
    "heading_collapsed": true,
    "id": "AWk-5amqJUiJ"
   },
   "source": [
    "### A"
   ]
  },
  {
   "cell_type": "code",
   "execution_count": null,
   "metadata": {
    "hidden": true,
    "id": "94aE6BL2JUiL"
   },
   "outputs": [],
   "source": [
    "a = [2,34,8,0]\n",
    "for each in a:\n",
    "    if each > 5:\n",
    "        print(each)"
   ]
  },
  {
   "cell_type": "markdown",
   "metadata": {
    "hidden": true,
    "id": "Ew1n-2JOAFyx"
   },
   "source": [
    "- **Answer :**"
   ]
  },
  {
   "cell_type": "markdown",
   "metadata": {
    "hidden": true,
    "id": "zNxsDOTxJUiP"
   },
   "source": [
    "* o(n): because the execution time is changing linearly based on size of the list in a"
   ]
  },
  {
   "cell_type": "markdown",
   "metadata": {
    "heading_collapsed": true,
    "id": "w7FiMH5YJUiR"
   },
   "source": [
    "### B"
   ]
  },
  {
   "cell_type": "code",
   "execution_count": null,
   "metadata": {
    "hidden": true,
    "id": "JI2i4FRMJUiS"
   },
   "outputs": [],
   "source": [
    "a = [2,34,8,0]\n",
    "b = [2,15,18,20]\n",
    "for each in a:\n",
    "    for each_b in b:\n",
    "        print(each == each_b)"
   ]
  },
  {
   "cell_type": "markdown",
   "metadata": {
    "hidden": true,
    "id": "U4QYkGpUAFyy"
   },
   "source": [
    "- **Answer :**"
   ]
  },
  {
   "cell_type": "markdown",
   "metadata": {
    "hidden": true,
    "id": "7Bh0IghHJUiX"
   },
   "source": [
    "* O(n^2): because for every item in a, we have to loop through the list b."
   ]
  },
  {
   "cell_type": "markdown",
   "metadata": {
    "heading_collapsed": true,
    "id": "CPlgSrM7JUiX"
   },
   "source": [
    "### C"
   ]
  },
  {
   "cell_type": "code",
   "execution_count": null,
   "metadata": {
    "hidden": true,
    "id": "75-yxrAtJUiY"
   },
   "outputs": [],
   "source": [
    "data = [1,2,2,3,5,6,8,9,10]\n",
    "n = len(data)-1\n",
    "while n>1:\n",
    "    print(data[n])\n",
    "    n = int(n/2)"
   ]
  },
  {
   "cell_type": "markdown",
   "metadata": {
    "hidden": true,
    "id": "O6kFwgKtAFyy"
   },
   "source": [
    "- **Answer :**"
   ]
  },
  {
   "cell_type": "markdown",
   "metadata": {
    "hidden": true,
    "id": "NKcLpWGyJUic"
   },
   "source": [
    "* O(logn): In each step of the loop, it reduces the size of the input data."
   ]
  }
 ],
 "metadata": {
  "colab": {
   "authorship_tag": "ABX9TyP4zLhII7QoZXz92L6ig7/e",
   "collapsed_sections": [],
   "name": "Week 10 Lab Activities(Solution).ipynb",
   "provenance": []
  },
  "kernelspec": {
   "display_name": "Python 3",
   "language": "python",
   "name": "python3"
  },
  "language_info": {
   "codemirror_mode": {
    "name": "ipython",
    "version": 3
   },
   "file_extension": ".py",
   "mimetype": "text/x-python",
   "name": "python",
   "nbconvert_exporter": "python",
   "pygments_lexer": "ipython3",
   "version": "3.8.8"
  },
  "latex_envs": {
   "LaTeX_envs_menu_present": true,
   "autoclose": false,
   "autocomplete": true,
   "bibliofile": "biblio.bib",
   "cite_by": "apalike",
   "current_citInitial": 1,
   "eqLabelWithNumbers": true,
   "eqNumInitial": 1,
   "hotkeys": {
    "equation": "Ctrl-E",
    "itemize": "Ctrl-I"
   },
   "labels_anchors": false,
   "latex_user_defs": false,
   "report_style_numbering": false,
   "user_envs_cfg": false
  }
 },
 "nbformat": 4,
 "nbformat_minor": 1
}
