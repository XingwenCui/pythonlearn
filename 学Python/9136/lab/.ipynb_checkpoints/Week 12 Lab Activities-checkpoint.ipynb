{
 "cells": [
  {
   "cell_type": "markdown",
   "metadata": {
    "id": "PEC3oKABVgJi"
   },
   "source": [
    "# FIT9136 Algorithms and programming foundations in Python"
   ]
  },
  {
   "cell_type": "markdown",
   "metadata": {
    "id": "nm7v5JOLVgJk"
   },
   "source": [
    "# Week 12 Lab Activities: Concepts of Divide-and-Conquer, Recursion, and Algorithm Design Techniques"
   ]
  },
  {
   "cell_type": "markdown",
   "metadata": {
    "heading_collapsed": true,
    "id": "SpNSA-XoVgJm"
   },
   "source": [
    "## Recursion"
   ]
  },
  {
   "cell_type": "markdown",
   "metadata": {
    "hidden": true,
    "id": "IP8U0biaVgJo"
   },
   "source": [
    "* **Divide-and-Conquer**:\n",
    "    * Solving a complex problem by breaking it into **smaller manageable sub-problems** \n",
    "    * Sub-problems can then be solved in a similar way (with the same solution)\n",
    "    * **Sub-solutions are then combined to produce the final solution for the original problem**\n",
    "    \n",
    "* **Recursion**:\n",
    "    * A <font color=\"blue\">divide-and-conquer</font> approach for solving computational problems\n",
    "    * Each problem is “recursively” <font color=\"blue\">decomposed into sub-problems</font> (which have the same properties the original problem but smaller in size)\n",
    "    * When the sub-problems have reached the <font color=\"blue\">simplest form</font>, i.e. a <font color=\"blue\">known solution</font> can be defined\n",
    "    * The <font color=\"blue\">known solutions of these sub-problems are then recomposed</font> together to produce the solution of the original problem"
   ]
  },
  {
   "cell_type": "markdown",
   "metadata": {
    "id": "xnKdihmIVgJ8"
   },
   "source": [
    "* **Benefits (Advantages) of recursion**:\n",
    "    * Recursion allows for easier parallel processing as function calls can be passed to other CPUS\n",
    "    * Recursion can be used to follow logic where the number of steps is not known, just the end state that the code is looking for.\n",
    "    * Certain problems lend themselves well to recursion. It takes practise to realise what problems can use recursion well.\n",
    "\n",
    "* **Detriments (Disadvantages) of recursion**:\n",
    "\t* Recursion can be quite difficult to conceptualise\n",
    "    * Very easy to create an infinite loop\n",
    "\t* Memory intensive if using tail recursion\n",
    "\t* Can only be used in program languages with functions"
   ]
  },
  {
   "cell_type": "markdown",
   "metadata": {
    "id": "DWpdVgbH4fOn"
   },
   "source": [
    "## Break down a recursive function\n",
    "\n",
    "Building up a recursive function might be challenging, but breaking down one is easy."
   ]
  },
  {
   "cell_type": "markdown",
   "metadata": {
    "id": "FoscG_3f5IBI"
   },
   "source": [
    "### Example\n",
    "\n",
    "Below is a mysterious recursive function:\n",
    "```python\n",
    "def myst_fun(N):\n",
    "    if N == 1:\n",
    "        return 1\n",
    "    elif N % 2 == 0:\n",
    "        return N + myst_fun(N//2)\n",
    "    else:\n",
    "        return N + myst_fun(3*N+1)\n",
    "\n",
    "```"
   ]
  },
  {
   "cell_type": "markdown",
   "metadata": {
    "id": "8LrWXXny7csH"
   },
   "source": [
    "Let's simulate the process of `myst_fun(10)`.\n",
    "<pre>\n",
    "  myst_fun(10)\n",
    "= <b>10           + myst_fun(5)</b>\n",
    "= 10           + <b>5           + myst_fun(16)</b>\n",
    "= 10           + 5           + <b>16           + myst_fun(8)</b>\n",
    "= 10           + 5           + 16           + <b>8           + myst_fun(4)</b>\n",
    "= 10           + 5           + 16           + 8           + <b>4           + myst_fun(2)</b>\n",
    "= 10           + 5           + 16           + 8           + 4           + <b>2           + myst_fun(1)</b>\n",
    "= 10           + 5           + 16           + 8           + 4           + 2           + <b>1</b>\n",
    "= 46\n",
    "</pre>"
   ]
  },
  {
   "cell_type": "code",
   "execution_count": null,
   "metadata": {
    "id": "ok4Ri4cp8n_a"
   },
   "outputs": [],
   "source": [
    "def myst_fun(N):\n",
    "    if N == 1:\n",
    "        return 1\n",
    "    elif N % 2 == 0:\n",
    "        return N + myst_fun(N//2)\n",
    "    else:\n",
    "        return N + myst_fun(3*N+1)"
   ]
  },
  {
   "cell_type": "code",
   "execution_count": null,
   "metadata": {
    "colab": {
     "base_uri": "https://localhost:8080/"
    },
    "executionInfo": {
     "elapsed": 256,
     "status": "ok",
     "timestamp": 1632925567323,
     "user": {
      "displayName": "Kelvin Lo",
      "photoUrl": "https://lh3.googleusercontent.com/a-/AOh14Ggat1DO4WM3A1o0pmnr7y1jEmCWFqjCIpg9Yk0C=s64",
      "userId": "08004694506673442732"
     },
     "user_tz": -600
    },
    "id": "5wirsKwg8o_2",
    "outputId": "cedf4b4f-fc41-4800-bbf0-e0d3ee877f59"
   },
   "outputs": [
    {
     "name": "stdout",
     "output_type": "stream",
     "text": [
      "46\n"
     ]
    }
   ],
   "source": [
    "print(myst_fun(10))"
   ]
  },
  {
   "cell_type": "markdown",
   "metadata": {
    "id": "doYRSvJ-8tzu"
   },
   "source": [
    "However, it may take you a day to simulate `myst_fun(71)`."
   ]
  },
  {
   "cell_type": "code",
   "execution_count": null,
   "metadata": {
    "colab": {
     "base_uri": "https://localhost:8080/"
    },
    "executionInfo": {
     "elapsed": 270,
     "status": "ok",
     "timestamp": 1632925590871,
     "user": {
      "displayName": "Kelvin Lo",
      "photoUrl": "https://lh3.googleusercontent.com/a-/AOh14Ggat1DO4WM3A1o0pmnr7y1jEmCWFqjCIpg9Yk0C=s64",
      "userId": "08004694506673442732"
     },
     "user_tz": -600
    },
    "id": "Q8zUROyx8xGY",
    "outputId": "5c6192de-62b5-45a3-a57b-34a709baf6b4"
   },
   "outputs": [
    {
     "data": {
      "text/plain": [
       "100790"
      ]
     },
     "execution_count": 22,
     "metadata": {},
     "output_type": "execute_result"
    }
   ],
   "source": [
    "myst_fun(71)"
   ]
  },
  {
   "cell_type": "markdown",
   "metadata": {
    "id": "ILe1z0Cv-Gmp"
   },
   "source": [
    "<b><font color='red'>Task:</font></b> Modify the above function such that it returns the peak(maximum value) of myst_fun instead of sum.\n",
    "\n",
    "For example, `myst_fun(10)` = 16, because 16 is the maximum in [10,5,**16**,8,4,2,1]."
   ]
  },
  {
   "cell_type": "code",
   "execution_count": null,
   "metadata": {
    "id": "z6SfiqrN-jVZ"
   },
   "outputs": [],
   "source": [
    "# Your implementation"
   ]
  },
  {
   "cell_type": "code",
   "execution_count": null,
   "metadata": {
    "colab": {
     "base_uri": "https://localhost:8080/"
    },
    "executionInfo": {
     "elapsed": 256,
     "status": "ok",
     "timestamp": 1632926429639,
     "user": {
      "displayName": "Kelvin Lo",
      "photoUrl": "https://lh3.googleusercontent.com/a-/AOh14Ggat1DO4WM3A1o0pmnr7y1jEmCWFqjCIpg9Yk0C=s64",
      "userId": "08004694506673442732"
     },
     "user_tz": -600
    },
    "id": "iYNAcKXN-9pm",
    "outputId": "6ac2fda9-b4a7-466d-800c-1547134b7e1c"
   },
   "outputs": [
    {
     "data": {
      "text/plain": [
       "16"
      ]
     },
     "execution_count": 30,
     "metadata": {},
     "output_type": "execute_result"
    }
   ],
   "source": [
    "myst_fun_peak(10)"
   ]
  },
  {
   "cell_type": "code",
   "execution_count": null,
   "metadata": {
    "colab": {
     "base_uri": "https://localhost:8080/"
    },
    "executionInfo": {
     "elapsed": 282,
     "status": "ok",
     "timestamp": 1632927371854,
     "user": {
      "displayName": "Kelvin Lo",
      "photoUrl": "https://lh3.googleusercontent.com/a-/AOh14Ggat1DO4WM3A1o0pmnr7y1jEmCWFqjCIpg9Yk0C=s64",
      "userId": "08004694506673442732"
     },
     "user_tz": -600
    },
    "id": "YWEd7OYZDkSw",
    "outputId": "96814494-ef88-4bb5-c8de-c0e44a524871"
   },
   "outputs": [
    {
     "data": {
      "text/plain": [
       "9232"
      ]
     },
     "execution_count": 31,
     "metadata": {},
     "output_type": "execute_result"
    }
   ],
   "source": [
    "myst_fun_peak(27)"
   ]
  },
  {
   "cell_type": "markdown",
   "metadata": {
    "id": "XMIHsCqkHRNv"
   },
   "source": [
    "Let's simulate the process of `myst_fun_peak(10)`.\n",
    "<pre>\n",
    "  myst_fun(10)\n",
    "= max(<b>10       , myst_fun(5)</b>)\n",
    "= max(10       , max(<b>5       , myst_fun(16)</b>))\n",
    "= max(10       , max(5       , max(<b>16       , myst_fun(8)</b>)))\n",
    "= max(10       , max(5       , max(16       , max(<b>8       , myst_fun(4)</b>))))\n",
    "= max(10       , max(5       , max(16       , max(8       , max(<b>4       , myst_fun(2)</b>)))))\n",
    "= max(10       , max(5       , max(16       , max(8       , max(4       , max(<b>2       , myst_fun(1)</b>))))))\n",
    "= max(10       , max(5       , max(16       , max(8       , max(4       , max(2       , <b>1</b>))))))\n",
    "= max(10       , max(5       , max(16       , max(8       , max(4       , <b>2</b>)))))\n",
    "= max(10       , max(5       , max(16       , max(8       , <b>4</b>))))\n",
    "= max(10       , max(5       , max(16       , <b>8</b>)))\n",
    "= max(10       , max(5       , <b>16</b>))\n",
    "= max(10       , <b>16</b>)\n",
    "= 16\n",
    "</pre>"
   ]
  },
  {
   "cell_type": "markdown",
   "metadata": {
    "id": "Dcks7RXVAu0J"
   },
   "source": [
    "## Build a recursive function"
   ]
  },
  {
   "cell_type": "markdown",
   "metadata": {
    "id": "hRSgVjZu4nN2"
   },
   "source": [
    "### Example: Fibonacci Number\n",
    "\n",
    "N-th Fibonacci number is obtained by the following formulae:\n",
    "\n",
    "- <font color='darkgreen'>$Fib(N) = Fib(N-1) + Fib(N-2)$</font>\n",
    "\n",
    "- <font color='orange'>$Fib(1) = Fib(2) = 1$</font>\n",
    "\n",
    "Based on that, we can implement a recursive function as follows:\n",
    "\n",
    "<pre>\n",
    "def fib(N):\n",
    "    <font color='orange'><b>if N == 1 or N == 2:\n",
    "        return 1</b></font>\n",
    "    else:\n",
    "        <font color='darkgreen'><b>return fib(N-1) + fib(N-2)</b></font>\n",
    "</pre>\n",
    "\n",
    "- When N = 1 or 2, it returns a value instead of calling itself again. This is called base case.\n",
    "- When N is neither 1 nor 2, it calls itself again. This is called recursive case.\n",
    "- However, when it calls itself, the argument N is one value closer to base case. It is tending to end. This is called convergence.\n"
   ]
  },
  {
   "cell_type": "markdown",
   "metadata": {
    "id": "sHi0vpheD-uI"
   },
   "source": [
    "## Exercise\n",
    "\n"
   ]
  },
  {
   "cell_type": "markdown",
   "metadata": {
    "id": "6uqYZ25mEbWV"
   },
   "source": [
    "### 1. Understanding recursive functions\n",
    "\n",
    "What does the following code do?\n",
    "\n",
    "A. \n",
    "\n",
    "```python\n",
    "def foo(b,a):\n",
    "    if a > b:\n",
    "        a,b = b,a\n",
    "    if b == a:\n",
    "        return 0\n",
    "    else:\n",
    "        return 1 + foo(b-1,a)\n",
    "```"
   ]
  },
  {
   "cell_type": "markdown",
   "metadata": {
    "id": "SgTlnKt9EUgm"
   },
   "source": [
    "**Answer**: "
   ]
  },
  {
   "cell_type": "markdown",
   "metadata": {
    "id": "0zooRxZdFYBQ"
   },
   "source": [
    "B.\n",
    "```python\n",
    "def fun(a, b): \n",
    "      if (b == 0): \n",
    "          return 1 \n",
    "      if (b % 2 == 0): \n",
    "          return fun(a*a, b//2)    \n",
    "      return fun(a*a, b//2)*a  \n",
    "```"
   ]
  },
  {
   "cell_type": "markdown",
   "metadata": {
    "id": "GjGP5tHVFhpl"
   },
   "source": [
    "**Answer**: "
   ]
  },
  {
   "cell_type": "markdown",
   "metadata": {
    "id": "PprCg1KmFrDP"
   },
   "source": [
    "### 2. Recursive binary search\n",
    "\n",
    "Try to implement the binary serach using recursion.\n",
    "\n",
    "`def binary_search_rec(the_list,query,low_idx=0,high_idx=None)`\n",
    "\n",
    "You have to consider:\n",
    "1. How to get mid_idx?\n",
    "2. What are the base cases?\n",
    "3. How do low_idx and high_idx change in each recursion to converge to base cases?"
   ]
  },
  {
   "cell_type": "code",
   "execution_count": null,
   "metadata": {
    "id": "NitLtD1FFeMg"
   },
   "outputs": [],
   "source": [
    "# Your implementation"
   ]
  },
  {
   "cell_type": "code",
   "execution_count": null,
   "metadata": {
    "colab": {
     "base_uri": "https://localhost:8080/"
    },
    "executionInfo": {
     "elapsed": 257,
     "status": "ok",
     "timestamp": 1632929189110,
     "user": {
      "displayName": "Kelvin Lo",
      "photoUrl": "https://lh3.googleusercontent.com/a-/AOh14Ggat1DO4WM3A1o0pmnr7y1jEmCWFqjCIpg9Yk0C=s64",
      "userId": "08004694506673442732"
     },
     "user_tz": -600
    },
    "id": "lE84S6LNKW8T",
    "outputId": "b7b9bdc1-e1e8-47f2-e0b0-2b39d42d59df"
   },
   "outputs": [
    {
     "name": "stdout",
     "output_type": "stream",
     "text": [
      "True\n"
     ]
    }
   ],
   "source": [
    "arr = [ 2, 3, 4, 10, 19, 23, 40, 50, 70 ] \n",
    "x = 23\n",
    "print(binary_search_rec(arr, x))"
   ]
  },
  {
   "cell_type": "markdown",
   "metadata": {
    "id": "J5gESVypKzA_"
   },
   "source": [
    "### 3. Recursive linear search\n",
    "\n",
    "Try to implement the linear serach using recursion.\n",
    "\n",
    "`def linear_search_rec(the_list,query,current_idx = 0)`\n",
    "\n",
    "Would the Big O complexity of Linear Search be changed if it were coded recursively?\n",
    "\n"
   ]
  },
  {
   "cell_type": "code",
   "execution_count": null,
   "metadata": {
    "id": "YZEl04ukKeyd"
   },
   "outputs": [],
   "source": [
    "# Your implementation"
   ]
  },
  {
   "cell_type": "code",
   "execution_count": null,
   "metadata": {
    "colab": {
     "base_uri": "https://localhost:8080/"
    },
    "executionInfo": {
     "elapsed": 260,
     "status": "ok",
     "timestamp": 1632929521560,
     "user": {
      "displayName": "Kelvin Lo",
      "photoUrl": "https://lh3.googleusercontent.com/a-/AOh14Ggat1DO4WM3A1o0pmnr7y1jEmCWFqjCIpg9Yk0C=s64",
      "userId": "08004694506673442732"
     },
     "user_tz": -600
    },
    "id": "5R7uzCOsLt1-",
    "outputId": "9db094a6-7303-46b6-d20b-551ca4102f51"
   },
   "outputs": [
    {
     "name": "stdout",
     "output_type": "stream",
     "text": [
      "True\n"
     ]
    }
   ],
   "source": [
    "li = [1,2,3,4,5,6,7,8,9,0]\n",
    "\n",
    "print(linear_search_rec(li,9))"
   ]
  },
  {
   "cell_type": "markdown",
   "metadata": {
    "id": "BG2pip0FL3O_"
   },
   "source": [
    "If its coded correctly, then the Big O should not change. The calculatory steps should remain the same per loop. In theory you could suggest that the if statement for the base case adds a bulk of +1 action per loop. You are correct, however when we run the code for an astronomical amount of runs, the Big O remains unchanged."
   ]
  },
  {
   "cell_type": "markdown",
   "metadata": {
    "id": "rjAIdYHEMuUG"
   },
   "source": [
    "### 4. Sum of multiples\n",
    "\n",
    "Given a number, return the total sum of that number multiplied by every number between 1 and 10. Do not use the sum() built-in function.\n",
    "\n",
    "Example:\n",
    "\n",
    "* total_sum(1) ➞ 55\n",
    "\n",
    "1 x 1 + 1 x 2 + 1 x 3 ...... 1 x 9 + 1 x 10 = 55\n",
    "\n",
    "* total_sum(6) ➞ 330\n",
    "\n",
    "6 x 1 + 6 x 2 + 6 x 3 ...... 6 x 9 + 6 x 10 = 330"
   ]
  },
  {
   "cell_type": "code",
   "execution_count": null,
   "metadata": {
    "id": "NAcDPdgALxzW"
   },
   "outputs": [],
   "source": [
    "# Your implementation"
   ]
  },
  {
   "cell_type": "markdown",
   "metadata": {
    "id": "EqwNzCFRM6W3"
   },
   "source": [
    "### 5. String length\n",
    "\n",
    "Write a function that returns the length of a string. Make your function recursive. Do not use len().\n",
    "\n",
    "Example:\n",
    "\n",
    "* string_length(\"apple\") ➞ 5\n",
    "\n",
    "* string_length(\"make\") ➞ 4\n",
    "\n",
    "* string_length(\"a\") ➞ 1\n",
    "\n",
    "* string_length(\"\") ➞ 0"
   ]
  },
  {
   "cell_type": "code",
   "execution_count": null,
   "metadata": {
    "id": "vtSfY1R0M_e6"
   },
   "outputs": [],
   "source": [
    "# Your implementation"
   ]
  }
 ],
 "metadata": {
  "colab": {
   "authorship_tag": "ABX9TyOzo2DRJ/KZL/d+g4XmE/8T",
   "collapsed_sections": [],
   "name": "Week 12 Lab Activities.ipynb",
   "provenance": []
  },
  "kernelspec": {
   "display_name": "Python 3",
   "name": "python3"
  },
  "language_info": {
   "name": "python"
  }
 },
 "nbformat": 4,
 "nbformat_minor": 0
}
