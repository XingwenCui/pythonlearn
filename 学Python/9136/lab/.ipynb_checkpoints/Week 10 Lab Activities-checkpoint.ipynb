{
 "cells": [
  {
   "cell_type": "markdown",
   "metadata": {
    "id": "eC8dqyRyJUhM"
   },
   "source": [
    "# FIT9136 Algorithms and programming foundations in Python"
   ]
  },
  {
   "cell_type": "markdown",
   "metadata": {
    "id": "K2SnbiS1JUhe"
   },
   "source": [
    "# Week 10 Lab Activities: Basic Algorithms for Searching and Sorting, Time Complexity I"
   ]
  },
  {
   "cell_type": "markdown",
   "metadata": {
    "id": "qr6Mg_Uc3ZEt"
   },
   "source": [
    "<small>\\#linearSearch \\#binarySearch \\#bubbleSort \\#selectionSort \\#insertionSort</small>"
   ]
  },
  {
   "cell_type": "markdown",
   "metadata": {
    "heading_collapsed": true,
    "id": "E2-5XJ0jD0XM"
   },
   "source": [
    "## 1. Search Algorithms"
   ]
  },
  {
   "cell_type": "markdown",
   "metadata": {
    "hidden": true,
    "id": "4eeJeBNGECWW"
   },
   "source": [
    "### 1.1 Linear Search\n",
    "\n",
    "For each item in an ordered collecton <u>from the start to the end</u>:\n",
    "- compare the item with the query value. \n",
    "- stops when the query value is found or the end of the collection is reached.\n",
    "\n",
    "Below is a demonstration of searching **`33`** from `[10,14,19,26,27,31,33,35,42,44]`\n",
    "\n",
    "![Linear Search from Github](https://camo.githubusercontent.com/5cfe6f9610708af79ad630ab47faf788eb600b6dfe543903492675780aecc11d/68747470733a2f2f7777772e7475746f7269616c73706f696e742e636f6d2f646174615f737472756374757265735f616c676f726974686d732f696d616765732f6c696e6561725f7365617263682e676966)"
   ]
  },
  {
   "cell_type": "markdown",
   "metadata": {
    "hidden": true,
    "id": "DexkdXMtvxE7"
   },
   "source": [
    "####**Time complexity**\n",
    "- Best case: The first item is the match. → O(1)\n",
    "- Worst case: The last item is the match. → O(N) : Depends on the length of the list."
   ]
  },
  {
   "cell_type": "code",
   "execution_count": 1,
   "metadata": {
    "hidden": true,
    "id": "YNMaYzebFfR9"
   },
   "outputs": [],
   "source": [
    "def linear_search(a_list, query):\n",
    "    \"\"\"\n",
    "    Checks whether query is in a_list.\n",
    "    Args:\n",
    "        1. a_list(list): The list to be searched.\n",
    "        2. query(object): The value to search for.\n",
    "    Returns:\n",
    "        bool: True if query is in a_list. False otherwise.\n",
    "    \"\"\"\n",
    "    for val in a_list:\n",
    "        if val == query:\n",
    "            return True\n",
    "    return False"
   ]
  },
  {
   "cell_type": "code",
   "execution_count": 2,
   "metadata": {
    "hidden": true,
    "id": "01qo8-WYD3hp"
   },
   "outputs": [],
   "source": [
    "def linear_search(a_list, query):\n",
    "    \"\"\"\n",
    "    Checks whether query is in a_list and returns the index of the query from a_list if found.\n",
    "    Args:\n",
    "        1. a_list(list): The list to be searched.\n",
    "        2. query(object): The value to search for.\n",
    "    Returns:\n",
    "        int: The index of the query from a_list. -1 if query not found.\n",
    "    \"\"\"\n",
    "    for idx, val in enumerate(a_list):\n",
    "        if val == query:\n",
    "            return idx\n",
    "    return -1"
   ]
  },
  {
   "cell_type": "markdown",
   "metadata": {
    "hidden": true,
    "id": "4Ljpzh7hGpOt"
   },
   "source": [
    "<font color='red'><b>Task: </b></font> Write a function `linear_search_tuples(a_list,query)` that:\n",
    "- accepts a list of tuples with 2 items in each of a tuple and \n",
    "- only searches whether query exists in the second item of any of the tuples.\n",
    "\n",
    "E.g. \n",
    "\n",
    "```python\n",
    "linear_search_tuples([(1,'a'),(2,'c'),('abc','ee')],'c') == True\n",
    "linear_search_tuples([(1,'a'),(2,'c'),('abc','ee')],'abc') == False\n",
    "```"
   ]
  },
  {
   "cell_type": "code",
   "execution_count": 6,
   "metadata": {
    "hidden": true,
    "id": "RS8s7q95Icta"
   },
   "outputs": [],
   "source": [
    "def linear_search_tuples(a_list,query):\n",
    "    # implement below\n",
    "    # optional validations\n",
    "    if not isinstance(a_list,list):\n",
    "        raise TypeError('Invalid data type')\n",
    "    if not all(type(item) is tuple and len(item)>=2 for item in a_list):\n",
    "        raise ValueError('Invalid data value')\n",
    "    \n",
    "    for i in a_list:\n",
    "        if i[1] == query:\n",
    "            return True\n",
    "    return False"
   ]
  },
  {
   "cell_type": "code",
   "execution_count": 7,
   "metadata": {
    "colab": {
     "base_uri": "https://localhost:8080/"
    },
    "executionInfo": {
     "elapsed": 316,
     "status": "ok",
     "timestamp": 1632593700895,
     "user": {
      "displayName": "Kelvin Lo",
      "photoUrl": "https://lh3.googleusercontent.com/a-/AOh14Ggat1DO4WM3A1o0pmnr7y1jEmCWFqjCIpg9Yk0C=s64",
      "userId": "08004694506673442732"
     },
     "user_tz": -600
    },
    "hidden": true,
    "id": "5NZpXzkTKmZq",
    "outputId": "1fbb0d2e-8463-41ae-cdb9-65de4e4dedb5"
   },
   "outputs": [
    {
     "name": "stdout",
     "output_type": "stream",
     "text": [
      "True\n",
      "False\n"
     ]
    },
    {
     "ename": "TypeError",
     "evalue": "linear_search_tuples() missing 1 required positional argument: 'query'",
     "output_type": "error",
     "traceback": [
      "\u001b[1;31m---------------------------------------------------------------------------\u001b[0m",
      "\u001b[1;31mTypeError\u001b[0m                                 Traceback (most recent call last)",
      "\u001b[1;32m<ipython-input-7-8b52e5d02409>\u001b[0m in \u001b[0;36m<module>\u001b[1;34m\u001b[0m\n\u001b[0;32m      1\u001b[0m \u001b[0mprint\u001b[0m\u001b[1;33m(\u001b[0m\u001b[0mlinear_search_tuples\u001b[0m\u001b[1;33m(\u001b[0m\u001b[1;33m[\u001b[0m\u001b[1;33m(\u001b[0m\u001b[1;36m1\u001b[0m\u001b[1;33m,\u001b[0m\u001b[1;34m'a'\u001b[0m\u001b[1;33m)\u001b[0m\u001b[1;33m,\u001b[0m\u001b[1;33m(\u001b[0m\u001b[1;36m2\u001b[0m\u001b[1;33m,\u001b[0m\u001b[1;34m'c'\u001b[0m\u001b[1;33m)\u001b[0m\u001b[1;33m,\u001b[0m\u001b[1;33m(\u001b[0m\u001b[1;34m'abc'\u001b[0m\u001b[1;33m,\u001b[0m\u001b[1;34m'ee'\u001b[0m\u001b[1;33m)\u001b[0m\u001b[1;33m]\u001b[0m\u001b[1;33m,\u001b[0m\u001b[1;34m'c'\u001b[0m\u001b[1;33m)\u001b[0m\u001b[1;33m)\u001b[0m\u001b[1;33m\u001b[0m\u001b[1;33m\u001b[0m\u001b[0m\n\u001b[0;32m      2\u001b[0m \u001b[0mprint\u001b[0m\u001b[1;33m(\u001b[0m\u001b[0mlinear_search_tuples\u001b[0m\u001b[1;33m(\u001b[0m\u001b[1;33m[\u001b[0m\u001b[1;33m(\u001b[0m\u001b[1;36m1\u001b[0m\u001b[1;33m,\u001b[0m\u001b[1;34m'a'\u001b[0m\u001b[1;33m)\u001b[0m\u001b[1;33m,\u001b[0m\u001b[1;33m(\u001b[0m\u001b[1;36m2\u001b[0m\u001b[1;33m,\u001b[0m\u001b[1;34m'c'\u001b[0m\u001b[1;33m)\u001b[0m\u001b[1;33m,\u001b[0m\u001b[1;33m(\u001b[0m\u001b[1;34m'abc'\u001b[0m\u001b[1;33m,\u001b[0m\u001b[1;34m'ee'\u001b[0m\u001b[1;33m)\u001b[0m\u001b[1;33m]\u001b[0m\u001b[1;33m,\u001b[0m\u001b[1;34m'abc'\u001b[0m\u001b[1;33m)\u001b[0m\u001b[1;33m)\u001b[0m\u001b[1;33m\u001b[0m\u001b[1;33m\u001b[0m\u001b[0m\n\u001b[1;32m----> 3\u001b[1;33m \u001b[0mlinear_search_tuples\u001b[0m\u001b[1;33m(\u001b[0m\u001b[1;33m[\u001b[0m\u001b[1;33m(\u001b[0m\u001b[1;36m1\u001b[0m\u001b[1;33m,\u001b[0m\u001b[1;36m2\u001b[0m\u001b[1;33m)\u001b[0m\u001b[1;33m,\u001b[0m\u001b[1;33m[\u001b[0m\u001b[1;36m1\u001b[0m\u001b[1;33m,\u001b[0m\u001b[1;36m3\u001b[0m\u001b[1;33m]\u001b[0m\u001b[1;33m]\u001b[0m\u001b[1;33m)\u001b[0m\u001b[1;33m\u001b[0m\u001b[1;33m\u001b[0m\u001b[0m\n\u001b[0m",
      "\u001b[1;31mTypeError\u001b[0m: linear_search_tuples() missing 1 required positional argument: 'query'"
     ]
    }
   ],
   "source": [
    "print(linear_search_tuples([(1,'a'),(2,'c'),('abc','ee')],'c'))\n",
    "print(linear_search_tuples([(1,'a'),(2,'c'),('abc','ee')],'abc'))\n",
    "linear_search_tuples([(1,2),[1,3]])"
   ]
  },
  {
   "cell_type": "markdown",
   "metadata": {
    "hidden": true,
    "id": "NsEFg-WtMYYz"
   },
   "source": [
    "### 1.2 Binary Search\n",
    "\n",
    "1. Search <u>from the middle</u> of an ordered collecton:\n",
    "2. compare the item with the query value. \n",
    "3. if the query &gt; middle item, discard the right-hand side of the list. if the query is &lt; middle item, discard the left-hand side of the list. Go to step 1.\n",
    "4. stops when the query value is found or there are no items remaining in the list.\n",
    "\n",
    "Below is a demonstration of searching **`92`** from `[20,51,54,59,75,76,78,89,92]`\n",
    "\n",
    "![Binary Search from Google](https://www.codecademy.com/resources/blog/content/images/2018/10/binary-search-small.gif)"
   ]
  },
  {
   "cell_type": "markdown",
   "metadata": {
    "hidden": true,
    "id": "QiEe76F0vsCB"
   },
   "source": [
    "####**Time complexity**\n",
    "- Best case: The middle item is the match. → O(1)\n",
    "- Worst case: The match is found in the last iteration. → O(log(N)) : Depends on the length of the list, but the size of list is reduced by half in each iteration."
   ]
  },
  {
   "cell_type": "code",
   "execution_count": 5,
   "metadata": {
    "hidden": true,
    "id": "Wg9IbI4KKpFl"
   },
   "outputs": [],
   "source": [
    "# not so space efficient approach: needs to copy lists recursively\n",
    "def binary_search(a_list, query):\n",
    "    \"\"\"\n",
    "    Checks whether query is in a_list.\n",
    "    Args:\n",
    "        1. a_list(list): The list to be searched.\n",
    "        2. query(object): The value to search for.\n",
    "    Returns:\n",
    "        bool: True if query is in a_list. False otherwise.\n",
    "    \"\"\"\n",
    "    search_list = a_list\n",
    "    iter_count = 1\n",
    "    while search_list:\n",
    "        # get the middle index of the list\n",
    "        middle = (len(search_list) - 1) // 2\n",
    "        print(f'{iter_count} iteration:\\nsearch_list: {search_list} | middle index: {middle} | item at middle index: {search_list[middle]}\\n===============')\n",
    "        if search_list[middle] == query:\n",
    "            return True\n",
    "        elif search_list[middle] > query: # discard the right-hand side of the list\n",
    "            search_list = search_list[:middle]\n",
    "        else: # discard the left-hand side of the list\n",
    "            search_list = search_list[middle+1:]\n",
    "        iter_count += 1\n",
    "    return False"
   ]
  },
  {
   "cell_type": "code",
   "execution_count": 6,
   "metadata": {
    "hidden": true,
    "id": "W_tvh6f_PNVf"
   },
   "outputs": [
    {
     "name": "stdout",
     "output_type": "stream",
     "text": [
      "1 iteration:\n",
      "search_list: [20, 51, 54, 59, 75, 76, 78, 89, 92] | middle index: 4 | item at middle index: 75\n",
      "===============\n",
      "2 iteration:\n",
      "search_list: [76, 78, 89, 92] | middle index: 1 | item at middle index: 78\n",
      "===============\n",
      "3 iteration:\n",
      "search_list: [89, 92] | middle index: 0 | item at middle index: 89\n",
      "===============\n",
      "4 iteration:\n",
      "search_list: [92] | middle index: 0 | item at middle index: 92\n",
      "===============\n",
      "True\n"
     ]
    }
   ],
   "source": [
    "print(binary_search([20,51,54,59,75,76,78,89,92],92))"
   ]
  },
  {
   "cell_type": "code",
   "execution_count": 1,
   "metadata": {
    "hidden": true,
    "id": "uNClioq3PvAE"
   },
   "outputs": [],
   "source": [
    "# instead of shrinking the list each step, update the left, right and middle indices\n",
    "def binary_search(a_list, query):\n",
    "    \"\"\"\n",
    "    Checks whether query is in a_list.\n",
    "    Args:\n",
    "        1. a_list(list): The list to be searched.\n",
    "        2. query(object): The value to search for.\n",
    "    Returns:\n",
    "        bool: True if query is in a_list. False otherwise.\n",
    "    \"\"\"\n",
    "    left_index = 0\n",
    "    right_index = len(a_list) - 1\n",
    "    iter_count = 1\n",
    "    while left_index <= right_index:\n",
    "        # get the middle index of the list\n",
    "        middle = (left_index + right_index) // 2\n",
    "        print(f'{iter_count} iteration:\\nleft index: {left_index} | right index: {right_index} | middle index: {middle} | item at middle index: {a_list[middle]}\\n===============')\n",
    "        if a_list[middle] == query:\n",
    "            return True\n",
    "        elif a_list[middle] > query: # discard the right-hand side, update right_index as middle_index - 1\n",
    "            right_index = middle - 1\n",
    "        else: # discard the left-hand side of the list, update left_index as middle_index + 1\n",
    "            left_index = middle + 1\n",
    "        iter_count += 1\n",
    "    return False"
   ]
  },
  {
   "cell_type": "code",
   "execution_count": 2,
   "metadata": {
    "hidden": true,
    "id": "JXhOr1hpR75y"
   },
   "outputs": [
    {
     "name": "stdout",
     "output_type": "stream",
     "text": [
      "1 iteration:\n",
      "left index: 0 | right index: 8 | middle index: 4 | item at middle index: 75\n",
      "===============\n",
      "2 iteration:\n",
      "left index: 5 | right index: 8 | middle index: 6 | item at middle index: 78\n",
      "===============\n",
      "3 iteration:\n",
      "left index: 7 | right index: 8 | middle index: 7 | item at middle index: 89\n",
      "===============\n",
      "4 iteration:\n",
      "left index: 8 | right index: 8 | middle index: 8 | item at middle index: 92\n",
      "===============\n",
      "True\n"
     ]
    }
   ],
   "source": [
    "print(binary_search([20,51,54,59,75,76,78,89,92],92))"
   ]
  },
  {
   "cell_type": "markdown",
   "metadata": {
    "hidden": true,
    "id": "2CnIuTzhLC-B"
   },
   "source": [
    "<font color='red'><b>Question: </b></font> True or False? \n",
    "1. `binary_search([13,48,37,15,19,74,30],13)`\n",
    "2. `binary_search([13,48,37,15,19,74,30],30)`"
   ]
  },
  {
   "cell_type": "markdown",
   "metadata": {
    "heading_collapsed": true,
    "id": "v4_tkjzPS7Vu"
   },
   "source": [
    "## 2. Sort Algorithm"
   ]
  },
  {
   "cell_type": "markdown",
   "metadata": {
    "heading_collapsed": true,
    "hidden": true,
    "id": "uKJYr_eVTIfi"
   },
   "source": [
    "### 2.1 Bubble Sort\n",
    "*Compare neighbouring items*\n",
    "\n",
    "![Bubble sort gif from medium](https://miro.medium.com/max/250/0*nh6F_qERbgD3xmV-.gif)"
   ]
  },
  {
   "cell_type": "code",
   "execution_count": 3,
   "metadata": {
    "hidden": true,
    "id": "yw_9ChanS5Q3"
   },
   "outputs": [],
   "source": [
    "def bubble_sort(a_list):\n",
    "    sorted_list = a_list[:] # make a copy of the original list\n",
    "    for iter in range(1,len(sorted_list)):\n",
    "        for index in range(len(sorted_list) - iter):\n",
    "            if sorted_list[index] > sorted_list[index + 1]:\n",
    "                sorted_list[index], sorted_list[index + 1] = sorted_list[index + 1], sorted_list[index]\n",
    "    return sorted_list"
   ]
  },
  {
   "cell_type": "code",
   "execution_count": 4,
   "metadata": {
    "colab": {
     "base_uri": "https://localhost:8080/"
    },
    "executionInfo": {
     "elapsed": 5,
     "status": "ok",
     "timestamp": 1632634677374,
     "user": {
      "displayName": "Kelvin Lo",
      "photoUrl": "https://lh3.googleusercontent.com/a-/AOh14Ggat1DO4WM3A1o0pmnr7y1jEmCWFqjCIpg9Yk0C=s64",
      "userId": "08004694506673442732"
     },
     "user_tz": -600
    },
    "hidden": true,
    "id": "4ulLHZUvSR16",
    "outputId": "cc48f1f4-4385-4ce1-a4e8-61914aa37719"
   },
   "outputs": [
    {
     "data": {
      "text/plain": [
       "[1, 2, 3, 6, 7, 8]"
      ]
     },
     "execution_count": 4,
     "metadata": {},
     "output_type": "execute_result"
    }
   ],
   "source": [
    "bubble_sort([3,2,6,7,1,8])"
   ]
  },
  {
   "cell_type": "markdown",
   "metadata": {
    "hidden": true,
    "id": "kq_mn56vn-y2"
   },
   "source": [
    "####**Early stopping for bubble sort**\n",
    "\n",
    "<pre>\n",
    "1,2,3,4,5,6\n",
    "-----------\n",
    "<font color='brown'><b>1st iteration:</b></font>\n",
    "<b>1</b>,<b>2</b>,3,4,5,6 [NO SWAP]\n",
    "1,<b>2</b>,<b>3</b>,4,5,6 [NO SWAP]\n",
    "1,2,<b>3</b>,<b>4</b>,5,6 [NO SWAP]\n",
    "1,2,3,<b>4</b>,<b>5</b>,6 [NO SWAP]\n",
    "1,2,3,4,<b>5</b>|<b>6</b> [NO SWAP]\n",
    "Number of comparisons: <font color='red'>5</font>\n",
    "Number of swaps: <font color='green'><b>0</b></font>\n",
    "<font color='blue'><b>Last</b></font> item (6) is sorted.\n",
    "Since there are <font color='green'><b>no swaps</b></font> in the whole iteration, we can tell the list is already sorted. We can stop the sorting process.\n",
    "</pre>"
   ]
  },
  {
   "cell_type": "markdown",
   "metadata": {
    "hidden": true,
    "id": "y6sHFntUpFcZ"
   },
   "source": [
    "<font color='red'><b>Task: </b></font> Introduce early stopping to the code below."
   ]
  },
  {
   "cell_type": "code",
   "execution_count": 10,
   "metadata": {
    "hidden": true,
    "id": "CKok0O7om_bE"
   },
   "outputs": [],
   "source": [
    "# modify the code below\n",
    "def bubble_sort_early_stopping(a_list):\n",
    "    sorted_list = a_list[:] # make a copy of the original list\n",
    "    \n",
    "    for iter in range(1,len(sorted_list)):\n",
    "        swap_num = 0\n",
    "        for index in range(len(sorted_list) - iter):\n",
    "            if sorted_list[index] > sorted_list[index + 1]:\n",
    "                sorted_list[index], sorted_list[index + 1] = sorted_list[index + 1], sorted_list[index]\n",
    "                swap_num+=1\n",
    "        if swap_num == 0:\n",
    "            return sorted_list\n",
    "    return sorted_list"
   ]
  },
  {
   "cell_type": "code",
   "execution_count": 11,
   "metadata": {
    "colab": {
     "base_uri": "https://localhost:8080/"
    },
    "executionInfo": {
     "elapsed": 11,
     "status": "ok",
     "timestamp": 1632635532139,
     "user": {
      "displayName": "Kelvin Lo",
      "photoUrl": "https://lh3.googleusercontent.com/a-/AOh14Ggat1DO4WM3A1o0pmnr7y1jEmCWFqjCIpg9Yk0C=s64",
      "userId": "08004694506673442732"
     },
     "user_tz": -600
    },
    "hidden": true,
    "id": "xEgSWcpxp8pA",
    "outputId": "ffe92c90-f9eb-49cf-b03b-c395ddc8293f"
   },
   "outputs": [
    {
     "data": {
      "text/plain": [
       "[1, 2, 3, 6, 7, 8]"
      ]
     },
     "execution_count": 11,
     "metadata": {},
     "output_type": "execute_result"
    }
   ],
   "source": [
    "bubble_sort_early_stopping([3,2,6,7,1,8])"
   ]
  },
  {
   "cell_type": "markdown",
   "metadata": {
    "heading_collapsed": true,
    "hidden": true,
    "id": "74xXT20NqnSP"
   },
   "source": [
    "#### **Time complexity of bubble sort**\n",
    "- Best case: O(N) (list is already sorted, only 1 iteration with N comparisons depending on the length of list)\n",
    "- Worst case: O(N^2)"
   ]
  },
  {
   "cell_type": "markdown",
   "metadata": {
    "heading_collapsed": true,
    "id": "6kSzx4RwX30n"
   },
   "source": [
    "## Exercise"
   ]
  },
  {
   "cell_type": "markdown",
   "metadata": {
    "hidden": true,
    "id": "OGSQux3xkX5n"
   },
   "source": [
    "### 3. More about bubble sort\n",
    "\n",
    "Write down the list after each iteration of sorting [1,6,3,5,9,11,7] with bubble sort algorithm in ascending order.\n",
    "\n",
    "E.g.\n",
    "```\n",
    "Sorting ['b','x','g','a','r','e','h']\n",
    "===============================================\n",
    "after 1st iteration: ['b','g','a','r','e','h','x']\n",
    "after 2nd iteration: ['b','a','g','e','h','r','x']\n",
    "after 3rd iteration: ['a','b','e','g','h','r','x']\n",
    "after 4th iteration: ['a','b','e','g','h','r','x']\n",
    "```"
   ]
  },
  {
   "cell_type": "markdown",
   "metadata": {
    "hidden": true,
    "id": "pbXKikTXlt_b"
   },
   "source": [
    "<font color='red'><b>Answer</b></font>\n",
    "```\n",
    "\n",
    "```"
   ]
  },
  {
   "cell_type": "code",
   "execution_count": 17,
   "metadata": {},
   "outputs": [],
   "source": [
    "def bubble_sort1(a_list):\n",
    "    for i in range(len(a_list)):\n",
    "        swap_num = 0\n",
    "        iter_num = 1\n",
    "        for j in range(len(a_list)-i):\n",
    "            if a_list[i] > a_list[i+1]:\n",
    "                a_list[i],a_list[i+1] = a_list[i+1],a_list[i]\n",
    "                print(\"after {}st iteration:{}\".format(iter_num,str(a_list)))\n",
    "                swap_num += 1\n",
    "        iter_num += 1\n",
    "        if swap_num == 0:\n",
    "            break\n",
    "    return a_list"
   ]
  },
  {
   "cell_type": "code",
   "execution_count": 18,
   "metadata": {},
   "outputs": [
    {
     "data": {
      "text/plain": [
       "[1, 6, 3, 5, 9, 11, 7]"
      ]
     },
     "execution_count": 18,
     "metadata": {},
     "output_type": "execute_result"
    }
   ],
   "source": [
    "bubble_sort1([1,6,3,5,9,11,7])"
   ]
  },
  {
   "cell_type": "markdown",
   "metadata": {
    "heading_collapsed": true,
    "hidden": true,
    "id": "79dPAOKWJUiI"
   },
   "source": [
    "### 4. Time Complexity\n",
    "**Find Complexity for Following Codes:**"
   ]
  },
  {
   "cell_type": "markdown",
   "metadata": {
    "heading_collapsed": true,
    "hidden": true,
    "id": "AWk-5amqJUiJ"
   },
   "source": [
    "### A"
   ]
  },
  {
   "cell_type": "code",
   "execution_count": null,
   "metadata": {
    "hidden": true,
    "id": "94aE6BL2JUiL"
   },
   "outputs": [],
   "source": [
    "a = [2,34,8,0]\n",
    "for each in a:\n",
    "    if each > 5:\n",
    "        print(each)"
   ]
  },
  {
   "cell_type": "markdown",
   "metadata": {
    "hidden": true,
    "id": "Ew1n-2JOAFyx"
   },
   "source": [
    "- **Answer :**"
   ]
  },
  {
   "cell_type": "markdown",
   "metadata": {
    "heading_collapsed": true,
    "hidden": true,
    "id": "w7FiMH5YJUiR"
   },
   "source": [
    "### B"
   ]
  },
  {
   "cell_type": "code",
   "execution_count": null,
   "metadata": {
    "hidden": true,
    "id": "JI2i4FRMJUiS"
   },
   "outputs": [],
   "source": [
    "a = [2,34,8,0]\n",
    "b = [2,15,18,20]\n",
    "for each in a:\n",
    "    for each_b in b:\n",
    "        print(each == each_b)"
   ]
  },
  {
   "cell_type": "markdown",
   "metadata": {
    "hidden": true,
    "id": "U4QYkGpUAFyy"
   },
   "source": [
    "- **Answer :**"
   ]
  },
  {
   "cell_type": "markdown",
   "metadata": {
    "heading_collapsed": true,
    "hidden": true,
    "id": "CPlgSrM7JUiX"
   },
   "source": [
    "### C"
   ]
  },
  {
   "cell_type": "code",
   "execution_count": null,
   "metadata": {
    "hidden": true,
    "id": "75-yxrAtJUiY"
   },
   "outputs": [],
   "source": [
    "data = [1,2,2,3,5,6,8,9,10]\n",
    "n = len(data)-1\n",
    "while n>1:\n",
    "    print(data[n])\n",
    "    n = int(n/2)"
   ]
  },
  {
   "cell_type": "markdown",
   "metadata": {
    "hidden": true,
    "id": "O6kFwgKtAFyy"
   },
   "source": [
    "- **Answer :**"
   ]
  }
 ],
 "metadata": {
  "colab": {
   "authorship_tag": "ABX9TyPmW9SwOJHEqiahJTCLTten",
   "collapsed_sections": [],
   "name": "Week 10 Lab Activities.ipynb",
   "provenance": []
  },
  "kernelspec": {
   "display_name": "Python 3",
   "language": "python",
   "name": "python3"
  },
  "language_info": {
   "codemirror_mode": {
    "name": "ipython",
    "version": 3
   },
   "file_extension": ".py",
   "mimetype": "text/x-python",
   "name": "python",
   "nbconvert_exporter": "python",
   "pygments_lexer": "ipython3",
   "version": "3.8.8"
  },
  "latex_envs": {
   "LaTeX_envs_menu_present": true,
   "autoclose": false,
   "autocomplete": true,
   "bibliofile": "biblio.bib",
   "cite_by": "apalike",
   "current_citInitial": 1,
   "eqLabelWithNumbers": true,
   "eqNumInitial": 1,
   "hotkeys": {
    "equation": "Ctrl-E",
    "itemize": "Ctrl-I"
   },
   "labels_anchors": false,
   "latex_user_defs": false,
   "report_style_numbering": false,
   "user_envs_cfg": false
  }
 },
 "nbformat": 4,
 "nbformat_minor": 1
}
