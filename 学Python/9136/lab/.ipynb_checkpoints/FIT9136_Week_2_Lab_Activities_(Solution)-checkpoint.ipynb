{
 "cells": [
  {
   "cell_type": "markdown",
   "metadata": {
    "id": "kRpwv76zY-UY"
   },
   "source": [
    "# FIT9136 Week 2 Lab Activities (Solution)\n",
    "\n",
    "<small>\\#AtomicDataTypes \\#Operations \\#Variables \\#Documentation \\#SystemIO \\#DataTypeConversion</small>"
   ]
  },
  {
   "cell_type": "code",
   "execution_count": null,
   "metadata": {
    "colab": {
     "base_uri": "https://localhost:8080/"
    },
    "id": "N9rrq4NLY6Fo",
    "outputId": "28515284-7a74-4ec6-f60f-f0fb14aad1b0"
   },
   "outputs": [
    {
     "name": "stdout",
     "output_type": "stream",
     "text": [
      "Hello Human! Welcome to the \u001b[40m\u001b[1;33mPython Universe\u001b[0m.\n"
     ]
    }
   ],
   "source": [
    "print('Hello Human! Welcome to the \\u001b[40m\\033[1;33mPython Universe\\u001b[0m.')"
   ]
  },
  {
   "cell_type": "markdown",
   "metadata": {
    "id": "SnR7JGHnZgMJ"
   },
   "source": [
    "Welcome to the world of Python, where **everything is an object**. The objects in Python are similar to the human world. They have their unique features (**values/variables**) and actions (**methods/operations**). Most importantly, every object in Python universe has an **identity**. Now let's explore this amazing world."
   ]
  },
  {
   "cell_type": "markdown",
   "metadata": {
    "id": "411KaCXgiAz1"
   },
   "source": [
    "## 1. Atomic Data types\n",
    "Now, let's meet the three primary elements(**Atomic Datatype**) in Python."
   ]
  },
  {
   "cell_type": "code",
   "execution_count": null,
   "metadata": {
    "id": "tqQIjwibZZBk"
   },
   "outputs": [],
   "source": [
    "type(1), type(0.1), type(True)"
   ]
  },
  {
   "cell_type": "markdown",
   "metadata": {
    "id": "UpKZnNPUbQt2"
   },
   "source": [
    "They are integer, float and boolean. From the example above:\n",
    "- `1` is an integer, \n",
    "- `0.1` is a float, \n",
    "- `True` is a boolean, which can represent the result of a logical condition.\n",
    "\n",
    "And of course, they have their identities. <br>To see their identities, we will use the function named `id()`, which will give us the physical memory location."
   ]
  },
  {
   "cell_type": "code",
   "execution_count": null,
   "metadata": {
    "id": "ibUALLqea7o9"
   },
   "outputs": [],
   "source": [
    "print('id of integer 1 is', id(1))"
   ]
  },
  {
   "cell_type": "code",
   "execution_count": null,
   "metadata": {
    "id": "E7bJr51iertP"
   },
   "outputs": [],
   "source": [
    "print('id of float 0.1 is', id(0.1))"
   ]
  },
  {
   "cell_type": "code",
   "execution_count": null,
   "metadata": {
    "id": "9oYyqoWFe3vp"
   },
   "outputs": [],
   "source": [
    "print('id of boolean True is', id(True))"
   ]
  },
  {
   "cell_type": "markdown",
   "metadata": {
    "id": "ks3RoTrlg5QN"
   },
   "source": [
    "Now, let's see what they can do.\n",
    "\n",
    "There are three main operations in Python, namely:\n",
    "1. arithmetic operation\n",
    "2. comparison operation\n",
    "3. logical operation"
   ]
  },
  {
   "cell_type": "markdown",
   "metadata": {
    "heading_collapsed": true,
    "id": "IvzbeVpNh5Zl"
   },
   "source": [
    "### 1.1 Arithmetic Operations\n",
    "\n",
    "Arithmetic operation gives us a **numeric value** from various mathemetical calculations between the numeric elements in the equation."
   ]
  },
  {
   "cell_type": "code",
   "execution_count": null,
   "metadata": {
    "hidden": true,
    "id": "eBcu0oeXfYmM"
   },
   "outputs": [],
   "source": [
    "1 + 1 # arithmetic operations between integers will give you an integer"
   ]
  },
  {
   "cell_type": "code",
   "execution_count": null,
   "metadata": {
    "hidden": true,
    "id": "xkLWOggUhMmV"
   },
   "outputs": [],
   "source": [
    "1. + 1 # arithmetic operations between integer and float will give you what?"
   ]
  },
  {
   "cell_type": "code",
   "execution_count": null,
   "metadata": {
    "hidden": true,
    "id": "dW-1vxaehS7L"
   },
   "outputs": [],
   "source": [
    "True + True # How about arithmetic operations between booleans? "
   ]
  },
  {
   "cell_type": "markdown",
   "metadata": {
    "hidden": true,
    "id": "5AQxqEbDAehN"
   },
   "source": [
    "More about arithmetic operations, please have a look at the [documentation](https://www.w3schools.com/python/python_operators.asp)."
   ]
  },
  {
   "cell_type": "markdown",
   "metadata": {
    "heading_collapsed": true,
    "id": "oVlA2DAEiiek"
   },
   "source": [
    "### 1.2 Comparison operations\n",
    "\n",
    "Comparison operations give us **boolean** values by comparing the values on the left side and right side."
   ]
  },
  {
   "cell_type": "code",
   "execution_count": null,
   "metadata": {
    "hidden": true,
    "id": "YpNtTgWIhoVd"
   },
   "outputs": [],
   "source": [
    "1 < 1 # is 1 smaller than 1?"
   ]
  },
  {
   "cell_type": "code",
   "execution_count": null,
   "metadata": {
    "hidden": true,
    "id": "R9RWKsQ6isX9"
   },
   "outputs": [],
   "source": [
    "1. == 1. # is 1.0 equals 1.0"
   ]
  },
  {
   "cell_type": "code",
   "execution_count": null,
   "metadata": {
    "hidden": true,
    "id": "utodE3hbi0c7"
   },
   "outputs": [],
   "source": [
    "1. >= 1 # is 1.0 larger than or equals 1?"
   ]
  },
  {
   "cell_type": "code",
   "execution_count": null,
   "metadata": {
    "hidden": true,
    "id": "fSt85-c5ksY7"
   },
   "outputs": [],
   "source": [
    "True == 1 # What is the numerical value of True?"
   ]
  },
  {
   "cell_type": "markdown",
   "metadata": {
    "hidden": true,
    "id": "db_9IGl0i48t"
   },
   "source": [
    "It might look ridiculous at the moment. \n",
    "<br>**Why do we need to compare values here?**\n",
    "\n",
    "Because, while writing the algorithms/code, we need to compare variables with each other, and the values can change in different conditions. For example, if we want to check the rainfall for today is less than 0.05, then the comparison operation will come in handy. The expression is written as **` rainfall < 0.05`**, where rainfall is a variable.\n",
    "\n",
    "It seems that **Comparison Operation** is flawless, but it is not. It does have [Limitation](https://docs.python.org/3.3/tutorial/floatingpoint.html). Let's have a look at below example:\n",
    "\n",
    "`1.1 + 2.2 == 3.3` is it true?"
   ]
  },
  {
   "cell_type": "code",
   "execution_count": null,
   "metadata": {
    "hidden": true,
    "id": "rwzLWcwJkJH5"
   },
   "outputs": [],
   "source": [
    "1.1 + 2.2 == 3.3"
   ]
  },
  {
   "cell_type": "markdown",
   "metadata": {
    "hidden": true,
    "id": "Nn2F-LTajead"
   },
   "source": [
    "Apart from numerical comparison operators, there is another operator called `is`. It compares the **id** of two objects. <br>What will the following operations give us?"
   ]
  },
  {
   "cell_type": "code",
   "execution_count": null,
   "metadata": {
    "hidden": true,
    "id": "rH-eV7X5jwnF"
   },
   "outputs": [],
   "source": [
    "1 is 1.0"
   ]
  },
  {
   "cell_type": "code",
   "execution_count": null,
   "metadata": {
    "hidden": true,
    "id": "pz1FAedTkODc"
   },
   "outputs": [],
   "source": [
    "0 is 0"
   ]
  },
  {
   "cell_type": "code",
   "execution_count": null,
   "metadata": {
    "hidden": true,
    "id": "n9A1pdTokQYz"
   },
   "outputs": [],
   "source": [
    "True is 1"
   ]
  },
  {
   "cell_type": "markdown",
   "metadata": {
    "hidden": true,
    "id": "FCF6Mr9hkVM7"
   },
   "source": [
    "The results could be explained by checking the ids of the variables."
   ]
  },
  {
   "cell_type": "code",
   "execution_count": null,
   "metadata": {
    "hidden": true,
    "id": "eCC_SC3xkgHb"
   },
   "outputs": [],
   "source": [
    "id(1), id(1.0)"
   ]
  },
  {
   "cell_type": "code",
   "execution_count": null,
   "metadata": {
    "hidden": true,
    "id": "kc9FPCt2kjVs"
   },
   "outputs": [],
   "source": [
    "id(True), id(1)"
   ]
  },
  {
   "cell_type": "markdown",
   "metadata": {
    "id": "eqKncIVlVgE7"
   },
   "source": [
    "### 1.3 Logical operations\n",
    "\n",
    "Let's have a look at the logical tables:\n",
    "\n",
    "\n",
    "<table>\n",
    "<tr>\n",
    "<td>\n",
    "<table>\n",
    "<tr><td><h5><b><font color='red'>and</font></b></h5></td><td><b>True</b></td><td><b>False</b></td></tr>\n",
    "<tr><td><b>True</b></td><td>True</td><td>False</td></tr>\n",
    "<tr><td><b>False</b></td><td>False</td><td>False</td></tr>\n",
    "</table>\n",
    "</td>\n",
    "<td> </td>\n",
    "<td>\n",
    "<table>\n",
    "<tr><td><h5><b><font color='red'>or</font></b></h5></td><td><b>True</b></td><td><b>False</b></td></tr>\n",
    "<tr><td><b>True</b></td><td>True</td><td>True</td></tr>\n",
    "<tr><td><b>False</b></td><td>True</td><td>False</td></tr>\n",
    "</table>\n",
    "</td>\n",
    "</tr>\n",
    "</table>\n",
    "\n",
    "We can see: \n",
    "1. `False` will be returned if any one of the conditions is `False` under the **<font color='red'>and</font>** condition.\n",
    "2. `True` will be returned if any one of the conditions is `True` under **<font color='red'>or</font>** condition.\n",
    "\n",
    "Let's try to think what will be returned in the following conditions. Are they `True` or `False`?"
   ]
  },
  {
   "cell_type": "code",
   "execution_count": null,
   "metadata": {
    "id": "b3gdzCd5VpBD"
   },
   "outputs": [],
   "source": [
    "True and True and False"
   ]
  },
  {
   "cell_type": "code",
   "execution_count": null,
   "metadata": {
    "id": "KpvoQELkZMs1"
   },
   "outputs": [],
   "source": [
    "True or False and True"
   ]
  },
  {
   "cell_type": "code",
   "execution_count": null,
   "metadata": {
    "id": "6LPk8nuyZUrK"
   },
   "outputs": [],
   "source": [
    "True and False or True"
   ]
  },
  {
   "cell_type": "markdown",
   "metadata": {
    "id": "SXX9q_83Z7Bx"
   },
   "source": [
    "The evaluation of conditions are actually considered **from left to right**. (Conditions within the innermost brackets are considered first). However, [`and` has a higher precedence than `or`](https://docs.python.org/3/reference/expressions.html#operator-precedence).\n",
    "\n",
    "1. `True and True and False` → `(True and True) and False` → `True and False` → `False`\n",
    "2. `True or False and True` → `True or (False and True)` → `True or False` → `True`\n",
    "3. `True and False or True` → `(True and False) or True` → `False or True` → `True`"
   ]
  },
  {
   "cell_type": "code",
   "execution_count": null,
   "metadata": {
    "colab": {
     "base_uri": "https://localhost:8080/",
     "height": 200
    },
    "id": "ejmRKI1tB-mw",
    "outputId": "eb5bdc0c-a0b6-48ef-fbe0-22f51f813b66"
   },
   "outputs": [
    {
     "name": "stdout",
     "output_type": "stream",
     "text": [
      "Image source: https://gifer.com/en/gifs/pacman\n"
     ]
    },
    {
     "data": {
      "text/html": [
       "<img src=\"https://i.gifer.com/origin/12/12d043d53cb8adeb6bd5dca9df506278_w200.gif\"/>"
      ],
      "text/plain": [
       "<IPython.core.display.Image object>"
      ]
     },
     "metadata": {
      "tags": []
     },
     "output_type": "display_data"
    },
    {
     "name": "stdout",
     "output_type": "stream",
     "text": [
      "Logical conditions are evaluated from left to right.\n"
     ]
    }
   ],
   "source": [
    "from IPython.display import Image\n",
    "print('Image source: https://gifer.com/en/gifs/pacman')\n",
    "display(Image(url='https://i.gifer.com/origin/12/12d043d53cb8adeb6bd5dca9df506278_w200.gif'))\n",
    "print('Logical conditions are evaluated from left to right.')"
   ]
  },
  {
   "cell_type": "markdown",
   "metadata": {
    "id": "CaVlzlGZCNHC"
   },
   "source": [
    "Here are some other practices, are they `True` or `False`?"
   ]
  },
  {
   "cell_type": "code",
   "execution_count": null,
   "metadata": {
    "id": "3HVmjBHSa__2"
   },
   "outputs": [],
   "source": [
    "True and (True or False) and True"
   ]
  },
  {
   "cell_type": "code",
   "execution_count": null,
   "metadata": {
    "id": "z-3ZeMLMbag7"
   },
   "outputs": [],
   "source": [
    "True or False and False"
   ]
  },
  {
   "cell_type": "code",
   "execution_count": null,
   "metadata": {
    "id": "drQmEARGbfgo"
   },
   "outputs": [],
   "source": [
    "False or False or True"
   ]
  },
  {
   "cell_type": "markdown",
   "metadata": {
    "id": "073A9Oldbe3w"
   },
   "source": [
    "You think that's it for the logical operators? Then, you might be a bit too naive. 😂 There's another operator called `not`. Well, it changes `True` to `False` and vice versa. More importantly, it is always evaluated before `and` and `or` on the same logical level. Let's try it!"
   ]
  },
  {
   "cell_type": "code",
   "execution_count": null,
   "metadata": {
    "id": "4vlJq6DPdK7D"
   },
   "outputs": [],
   "source": [
    "True or False and not False"
   ]
  },
  {
   "cell_type": "code",
   "execution_count": null,
   "metadata": {
    "id": "IwIXmODgdVpv"
   },
   "outputs": [],
   "source": [
    "not (True or False)"
   ]
  },
  {
   "cell_type": "code",
   "execution_count": null,
   "metadata": {
    "id": "lj4CIhMMdum3"
   },
   "outputs": [],
   "source": [
    "True and not False or False"
   ]
  },
  {
   "cell_type": "markdown",
   "metadata": {
    "id": "LlkeUqq3d4nO"
   },
   "source": [
    "How it works?\n",
    "1. `True or False and not False` → `True or (False and (not False))` → `True or False` → `True`\n",
    "2. `not (True or False)` → `not (True)` → `False`\n",
    "3. `True and not False or False` → `(True and (not False)) or False` →  `True  or False` → `True`"
   ]
  },
  {
   "cell_type": "markdown",
   "metadata": {
    "id": "y6DTGmI_ejZg"
   },
   "source": [
    "Next comes the tricky part. Actually, every data types have their own `boolean` values. `False` is always associated with the concept of **nothing** or `None`. For example, boolean value of `0` is `False`. We can retrieve the boolean value of any built-in objects by using `bool()` function."
   ]
  },
  {
   "cell_type": "code",
   "execution_count": null,
   "metadata": {
    "id": "jyGmuAR7e9HA"
   },
   "outputs": [],
   "source": [
    "bool(0)"
   ]
  },
  {
   "cell_type": "code",
   "execution_count": null,
   "metadata": {
    "id": "O4UyKX8ufAD-"
   },
   "outputs": [],
   "source": [
    "bool(0.0)"
   ]
  },
  {
   "cell_type": "markdown",
   "metadata": {
    "id": "4RR-il9yfoJf"
   },
   "source": [
    "Now, let's integrate this concept to the logical operators. Consider the following examples, let's guess the results!"
   ]
  },
  {
   "cell_type": "code",
   "execution_count": null,
   "metadata": {
    "id": "caz-7BvOf14I"
   },
   "outputs": [],
   "source": [
    "0 and 5 and False"
   ]
  },
  {
   "cell_type": "code",
   "execution_count": null,
   "metadata": {
    "id": "N-OuJI9vgEva"
   },
   "outputs": [],
   "source": [
    "False or 5 or 0.0"
   ]
  },
  {
   "cell_type": "code",
   "execution_count": null,
   "metadata": {
    "id": "SQAHVSQhgFNl"
   },
   "outputs": [],
   "source": [
    "0 or 5 and 10 or 2"
   ]
  },
  {
   "cell_type": "markdown",
   "metadata": {
    "id": "u1-32xa8gUG1"
   },
   "source": [
    "Guess them right?\n",
    "\n",
    "From the examples, we can see:\n",
    "1. under `or` conditions, it will return the first value that represents `True` or the last value that represents `False` if all conditions are `False`\n",
    "2. under `and` conditions, it will return the first value that represents `False` or the last value that represents `True` if all conditions are `True`\n",
    "\n",
    "Now, let's try more examples. Try to think what will be the results."
   ]
  },
  {
   "cell_type": "code",
   "execution_count": null,
   "metadata": {
    "id": "oP6181jSg2m2"
   },
   "outputs": [],
   "source": [
    "4 and False or (0 and 5.5) or (3 and 0.0)"
   ]
  },
  {
   "cell_type": "code",
   "execution_count": null,
   "metadata": {
    "id": "TLSgYQiIhpu-"
   },
   "outputs": [],
   "source": [
    "10 and 5 and 3 and 1"
   ]
  },
  {
   "cell_type": "code",
   "execution_count": null,
   "metadata": {
    "id": "gVpwJm4nhr4W"
   },
   "outputs": [],
   "source": [
    "-4 < 5 and 10.5 + 3 or 4"
   ]
  },
  {
   "cell_type": "markdown",
   "metadata": {
    "id": "8ydtyYvi6Nee"
   },
   "source": [
    "```\n",
    "* 4 and False or (0 and 5.5) or (3 and 0.0) \n",
    "    * (4 and False) or 0 or 0.0 \n",
    "    * False or 0 or 0.0 \n",
    "    * 0.0\n",
    "* 10 and 5 and 3 and 1 \n",
    "    * 5 and 3 and 1  \n",
    "    * 3 and 1 \n",
    "    * 1\n",
    "* -4 < 5 and 10.5 + 3 or 4 \n",
    "    * (True and 13.5) or 4 \n",
    "    * 13.5 or 4 \n",
    "    * 13.5\n",
    "```"
   ]
  },
  {
   "cell_type": "markdown",
   "metadata": {
    "id": "W01S3veMh4Ge"
   },
   "source": [
    "Oh! By the way, there is an order between the three types of operators. The precedence is:\n",
    "\n",
    "1. Arithmetic operator\n",
    "2. Comparison operator\n",
    "3. Logical opertor"
   ]
  },
  {
   "cell_type": "markdown",
   "metadata": {
    "heading_collapsed": true,
    "id": "qgN-Fl3Omar7"
   },
   "source": [
    "## 2. Variables"
   ]
  },
  {
   "cell_type": "markdown",
   "metadata": {
    "hidden": true,
    "id": "EWg6okDEmeKz"
   },
   "source": [
    "Variable is a very important component in programming. **Not only in Python, but in programming.**\n",
    "\n",
    "Sometimes, we want to evaluate something and we want to **reuse** the value. Intuitively, we have to store the value somewhere so that we can get the value back when we need to use it.\n",
    "\n",
    "However, how can we store the values in Python?"
   ]
  },
  {
   "cell_type": "markdown",
   "metadata": {
    "heading_collapsed": true,
    "hidden": true,
    "id": "QQctotWJsLvR"
   },
   "source": [
    "### 2.1 Variable assignment\n",
    "\n",
    "It is simpler than you think, we just need a `=` operator."
   ]
  },
  {
   "cell_type": "code",
   "execution_count": null,
   "metadata": {
    "hidden": true,
    "id": "ICE0fazZmZTd"
   },
   "outputs": [],
   "source": [
    "a_number = 1"
   ]
  },
  {
   "cell_type": "markdown",
   "metadata": {
    "hidden": true,
    "id": "WsvKPsEqnX9N"
   },
   "source": [
    "In the example above, we have just created a new *variable* called `a_number` that stores `1` as the value. <br>Now, lets access the value of the variable."
   ]
  },
  {
   "cell_type": "code",
   "execution_count": null,
   "metadata": {
    "hidden": true,
    "id": "eWy4bdMmnrJz"
   },
   "outputs": [],
   "source": [
    "a_number"
   ]
  },
  {
   "cell_type": "markdown",
   "metadata": {
    "hidden": true,
    "id": "iIzskRa8oFiR"
   },
   "source": [
    "But to be honest, you are somehow curious about how it works, aren't you? \n",
    "\n",
    "Actually, `a_number` is not a value. It is a *variable/object* (changed from pointer) that points to where `1` is located in the memory. \n",
    "<br>How to proof it? Let's compare the ids of `a_number` and `1`! `(Combined and modified)`"
   ]
  },
  {
   "cell_type": "code",
   "execution_count": null,
   "metadata": {
    "hidden": true,
    "id": "545Pp9tFov4L"
   },
   "outputs": [],
   "source": [
    "id(a_number), id(1)"
   ]
  },
  {
   "cell_type": "markdown",
   "metadata": {
    "hidden": true,
    "id": "91sE-HlHo1b5"
   },
   "source": [
    "Now, we can see the ids of `a_number` and `1` are the same."
   ]
  },
  {
   "cell_type": "markdown",
   "metadata": {
    "heading_collapsed": true,
    "hidden": true,
    "id": "OLjzr2H5sQyx"
   },
   "source": [
    "### 2.2 Variable naming\n",
    "\n",
    "Naming a variable is an art, just like how your name is created. Do we want to name something meaningless? Give some respect to the variables! So, try to give variables a meaningful names.\n",
    "\n",
    "**Moreover, there are two main formats we have to follow for variable naming:**\n",
    "1. camelCase\n",
    "2. under_score\n",
    "\n",
    "Let's try to name some variables."
   ]
  },
  {
   "cell_type": "code",
   "execution_count": null,
   "metadata": {
    "hidden": true,
    "id": "nrIwQPrNfItt"
   },
   "outputs": [],
   "source": [
    "# name of a student\n",
    "student_name, studentName\n",
    "# name of a tutor\n",
    "tutor_name, tutorName\n",
    "# youtube channel name\n",
    "yt_channel, ytChannel\n",
    "# product serial number\n",
    "serial_num, serialNum\n",
    "# sum of 2 numbers\n",
    "the_sum, theSum"
   ]
  },
  {
   "cell_type": "markdown",
   "metadata": {
    "hidden": true,
    "id": "Q2ugeILQjHeg"
   },
   "source": [
    "There is another important rule of variable naming: \n",
    "\n",
    "**If the name is already been used (to store another value or define a function), than don't use it.**\n",
    "\n",
    "For example, the built-in function names, such as `len`, `sorted`, `sum`."
   ]
  },
  {
   "cell_type": "markdown",
   "metadata": {
    "heading_collapsed": true,
    "id": "GbCdwNG5w6l_"
   },
   "source": [
    "## 3. Comments\n",
    "\n",
    "Everyone thinks their codes are the best. I have never doubted that. <br>However, wouldn't it be better when other people, and yourself maybe, can understand your code easily too? "
   ]
  },
  {
   "cell_type": "code",
   "execution_count": null,
   "metadata": {
    "hidden": true,
    "id": "NSM-ofGxyAPS"
   },
   "outputs": [],
   "source": [
    "# This is an inline-comment. It starts with a '#'\n",
    "# An inline comment is used to explain the high-level logic of one or several lines of code.\n",
    "# It can be placed on top of the code that it is explaining, or right after the code on the same line. "
   ]
  },
  {
   "cell_type": "code",
   "execution_count": null,
   "metadata": {
    "hidden": true,
    "id": "nCJQTRWlyZVz"
   },
   "outputs": [],
   "source": [
    "\"\"\"\n",
    "This is a comment block. It starts and ends with triple double-quotes.\n",
    "Comment block can be used to describe the script, or act as docstring of functions or methods.\n",
    "It describes the purpose, high-level logic and usage of scripts/functions/methods.\n",
    "\"\"\""
   ]
  },
  {
   "cell_type": "markdown",
   "metadata": {
    "heading_collapsed": true,
    "id": "jpgVAbQtloV7"
   },
   "source": [
    "## 4. System inputs and outputs\n",
    "\n",
    "Simply speaking, `input()` and `print()`."
   ]
  },
  {
   "cell_type": "markdown",
   "metadata": {
    "heading_collapsed": true,
    "hidden": true,
    "id": "be4GQuk2l5Ar"
   },
   "source": [
    "### 4.1 `input()` function\n",
    "\n",
    "It prompts user input and return it as a `string` object.\n",
    "\n",
    "However, how can we use input() function? Let's try `?` helper function."
   ]
  },
  {
   "cell_type": "code",
   "execution_count": null,
   "metadata": {
    "hidden": true,
    "id": "N9c3Z5zJ0Co_"
   },
   "outputs": [],
   "source": [
    "?input # What does it say?"
   ]
  },
  {
   "cell_type": "markdown",
   "metadata": {
    "hidden": true,
    "id": "jf9llNba7dkB"
   },
   "source": [
    "Now, we know `input()` function takes one keyword argument `prompt`, which is the string that will be displayed when asking for user input."
   ]
  },
  {
   "cell_type": "code",
   "execution_count": null,
   "metadata": {
    "hidden": true,
    "id": "VyNGrU9N6fLt"
   },
   "outputs": [],
   "source": [
    "input('Please type in something. ')"
   ]
  },
  {
   "cell_type": "markdown",
   "metadata": {
    "heading_collapsed": true,
    "hidden": true,
    "id": "VPSgwTuo-TNn"
   },
   "source": [
    "### 4.2 `print()` function\n",
    "\n",
    "Now, what about print() function?"
   ]
  },
  {
   "cell_type": "code",
   "execution_count": null,
   "metadata": {
    "hidden": true,
    "id": "MCiI_Yum-Nlc"
   },
   "outputs": [],
   "source": [
    "?print"
   ]
  },
  {
   "cell_type": "markdown",
   "metadata": {
    "hidden": true,
    "id": "-ICUd3qL-ote"
   },
   "source": [
    "```\n",
    "Prints the values to a stream, or to sys.stdout by default.\n",
    "Optional keyword arguments:\n",
    "file:  a file-like object (stream); defaults to the current sys.stdout.\n",
    "sep:   string inserted between values, default a space.\n",
    "end:   string appended after the last value, default a newline.\n",
    "flush: whether to forcibly flush the stream.\n",
    "```"
   ]
  },
  {
   "cell_type": "markdown",
   "metadata": {
    "hidden": true,
    "id": "OBg9Aswo--Nv"
   },
   "source": [
    "Let's try it!"
   ]
  },
  {
   "cell_type": "code",
   "execution_count": null,
   "metadata": {
    "hidden": true,
    "id": "kdZXy7pm-hzQ"
   },
   "outputs": [],
   "source": [
    "print('something','else')"
   ]
  },
  {
   "cell_type": "markdown",
   "metadata": {
    "heading_collapsed": true,
    "id": "xMo8UAp1_8-F"
   },
   "source": [
    "## 5. Type conversion between atomic datatypes\n",
    "\n",
    "Since different datatypes have different operations and properties, sometimes we have to convert the datatype of variables."
   ]
  },
  {
   "cell_type": "markdown",
   "metadata": {
    "hidden": true,
    "id": "wgxnClPHN_XY"
   },
   "source": [
    "### 5.1 Convert to integer\n",
    "`int()`"
   ]
  },
  {
   "cell_type": "code",
   "execution_count": null,
   "metadata": {
    "hidden": true,
    "id": "ekQ8Aiaj_FP2"
   },
   "outputs": [],
   "source": [
    "?int"
   ]
  },
  {
   "cell_type": "markdown",
   "metadata": {
    "hidden": true,
    "id": "SLdLEYTtNZ41"
   },
   "source": [
    "```\n",
    "int([x]) -> integer\n",
    "int(x, base=10) -> integer\n",
    "\n",
    "Convert a number or string to an integer, or return 0 if no arguments\n",
    "are given.  If x is a number, return x.__int__().  For floating point\n",
    "numbers, this truncates towards zero.\n",
    "\n",
    "If x is not a number or if base is given, then x must be a string,\n",
    "bytes, or bytearray instance representing an integer literal in the\n",
    "given base.  The literal can be preceded by '+' or '-' and be surrounded\n",
    "by whitespace.  The base defaults to 10.  Valid bases are 0 and 2-36.\n",
    "Base 0 means to interpret the base from the string as an integer literal.\n",
    "```"
   ]
  },
  {
   "cell_type": "code",
   "execution_count": null,
   "metadata": {
    "hidden": true,
    "id": "e4eu6Y_2NZEm"
   },
   "outputs": [],
   "source": [
    "int(True), int('123'), int(12.34) # converts boolean, string and float to integer"
   ]
  },
  {
   "cell_type": "markdown",
   "metadata": {
    "hidden": true,
    "id": "qquhQoGzOLRJ"
   },
   "source": [
    "### 5.2 Convert to float\n",
    "\n",
    "`float()`"
   ]
  },
  {
   "cell_type": "code",
   "execution_count": null,
   "metadata": {
    "hidden": true,
    "id": "1Tmu8XOSNuu0"
   },
   "outputs": [],
   "source": [
    "?float"
   ]
  },
  {
   "cell_type": "code",
   "execution_count": null,
   "metadata": {
    "hidden": true,
    "id": "ziKsQ0fXOVnc"
   },
   "outputs": [],
   "source": [
    "float(True), float('123'), float(123) # converts boolean, string and integer to float"
   ]
  },
  {
   "cell_type": "markdown",
   "metadata": {
    "hidden": true,
    "id": "bNYLfWWvOnxx"
   },
   "source": [
    "### 5.3 Convert to boolean\n",
    "\n",
    "`bool()`"
   ]
  },
  {
   "cell_type": "code",
   "execution_count": null,
   "metadata": {
    "hidden": true,
    "id": "JJLd8s0MOrZV"
   },
   "outputs": [],
   "source": [
    "?bool"
   ]
  },
  {
   "cell_type": "code",
   "execution_count": null,
   "metadata": {
    "hidden": true,
    "id": "unyjy4OROvDf"
   },
   "outputs": [],
   "source": [
    "bool('123'), bool(123), bool(12.34) # converts string, integer and float to boolean"
   ]
  },
  {
   "cell_type": "markdown",
   "metadata": {
    "heading_collapsed": true,
    "id": "Z64AAaYcY5fk"
   },
   "source": [
    "## 6. Small summary\n",
    "\n",
    "Summing up, today we have learnt:\n",
    "1. Atomic data types (integer, float, boolean)\n",
    "2. Variables assignment and naming\n",
    "3. Documentation/commenting (in-line, block)\n",
    "4. System input and output (`input()`, `print()`)\n",
    "5. Data type conversions between atomic data types and string\n",
    "\n",
    "\n",
    "---\n",
    "\n",
    "\n",
    "Now, let's integrate all the concepts together."
   ]
  },
  {
   "cell_type": "markdown",
   "metadata": {
    "heading_collapsed": true,
    "id": "aEwBQD7zZ7mr"
   },
   "source": [
    "## In-class task 1: Km to Miles Conversion\n",
    "\n",
    "Write a code to **get the user input** of a numeric value in kilometers and **print out** its value in miles.\n",
    "\n",
    "The formula that converts between km and miles is as follows:\n",
    "\n",
    "* $miles = km * 0.62137$"
   ]
  },
  {
   "cell_type": "code",
   "execution_count": null,
   "metadata": {
    "hidden": true,
    "id": "YVD2XxT_WuOD"
   },
   "outputs": [],
   "source": [
    "km = input('Please enter a value in km: ') # ask for user input and store it into a variable km\n",
    "km = float(km) # convert the input into float, because we will perform arithmetic operation on numbers\n",
    "miles = km * 0.62137 # metric conversion\n",
    "print(km,'km equals',miles,'miles.') # finally, gather all information we want and print them out in desired format"
   ]
  },
  {
   "cell_type": "markdown",
   "metadata": {
    "heading_collapsed": true,
    "id": "H-E4dLiUwRNz"
   },
   "source": [
    "## In-class task 2: Divisible?\n",
    "\n",
    "Write a code that asks the user to type two integers separately(`num1` and `num2`) and then print out whether `num1` is divisible by `num2`. (Hint: We can use the concept of the remainder)"
   ]
  },
  {
   "cell_type": "code",
   "execution_count": null,
   "metadata": {
    "hidden": true,
    "id": "NwltcGa0vl8w"
   },
   "outputs": [],
   "source": [
    "num1 = input('Please enter the first integer: ') # ask for the first integer\n",
    "num2 = input('Please enter the second integer: ') # ask for the second integer\n",
    "num1, num2 = int(num1), int(num2) # convert the two inputs from strings to integers(in a pythonic way)\n",
    "is_divisible = num1 % num2 == 0 # evaulate whether the remainder of num1 divided by num2 equals 0 and store it to is_divisible variable\n",
    "print('num1 disible by num2?', is_divisible) # print out the information we want"
   ]
  },
  {
   "cell_type": "markdown",
   "metadata": {
    "heading_collapsed": true,
    "id": "OvSuIYMpvAJe"
   },
   "source": [
    "## Exercise\n",
    "\n",
    "Now, try to add comments in the code.\n",
    "\n",
    "*You only need to use the techniques learnt in this notebook to complete the tasks*"
   ]
  },
  {
   "cell_type": "markdown",
   "metadata": {
    "heading_collapsed": true,
    "hidden": true,
    "id": "QrhQDLcLvcXC"
   },
   "source": [
    "### Task A: Temperature conversion\n",
    "\n",
    "Write a code that asks the user to type a number as the temperature in the Kelvin scale and then print out the temperature in the Fahrenheit scale.\n",
    "\n",
    "The conversion equation is as follows:\n",
    "\n",
    "* $Fahrenheit = (Kelvin − 273.15) × \\frac{9}{5} + 32$"
   ]
  },
  {
   "cell_type": "code",
   "execution_count": null,
   "metadata": {
    "hidden": true,
    "id": "t0nu3oORmaqj"
   },
   "outputs": [],
   "source": [
    "kelvin = input('Please enter temperature in Kelvin scale: ') # ask for user input of temperature in Kelvin scale\n",
    "kelvin = float(kelvin) # convert the input to float\n",
    "fahrenheit = (kelvin - 273.15) * 9 / 5 + 32 # convert Kelvin to Fahrenheit\n",
    "print(kelvin, 'Kelvin equals', fahrenheit, 'Fahrenheit.') # print out the conversion information"
   ]
  },
  {
   "cell_type": "markdown",
   "metadata": {
    "heading_collapsed": true,
    "hidden": true,
    "id": "alC1DAyszosY"
   },
   "source": [
    "### Task B: Is that a right-angled triangle?\n",
    "\n",
    "Write a code that asks the user to type three numbers separately, which are the length of the sides of the triangles, respectively. And print out whether the triangle is right-angled or not. (Hint: Pythagoras theorem and logical conditions)"
   ]
  },
  {
   "cell_type": "code",
   "execution_count": null,
   "metadata": {
    "hidden": true,
    "id": "Xw8dMjuE0StO"
   },
   "outputs": [],
   "source": [
    "# obtain user input for the lenghts of sides of the triangle\n",
    "side1 = input('Please enter the length of the first side: ')\n",
    "side2 = input('Please enter the length of the second side: ')\n",
    "side3 = input('Please enter the length of the third side: ')\n",
    "side1, side2, side3 = float(side1), float(side2), float(side3) # convert the user inputs into floats\n",
    "# using Pythagoras theorem to check whether the triangle is right-angled\n",
    "is_right_angled = side1 ** 2 + side2 ** 2 == side3 ** 2 or side1 ** 2 + side3 ** 2 == side2 ** 2 or side3 ** 2 + side2 ** 2 == side1 ** 2 \n",
    "print(\"Right-angled triangle:\",is_right_angled) # print out our evaluation result"
   ]
  },
  {
   "cell_type": "markdown",
   "metadata": {
    "heading_collapsed": true,
    "hidden": true,
    "id": "ZtjiELMQwsrI"
   },
   "source": [
    "### Task C: Logic\n",
    "\n",
    "Solve the following logical expressions **with steps**."
   ]
  },
  {
   "cell_type": "markdown",
   "metadata": {
    "hidden": true,
    "id": "jfOi3L252d5u"
   },
   "source": [
    "```\n",
    "1. 3.5 + 12 or True and False or 19 and 0\n",
    "2. 0.0 == 0 and True and (False or 3)\n",
    "3. 13 - 9 > 4 and 1 is 1\n",
    "```"
   ]
  },
  {
   "cell_type": "markdown",
   "metadata": {
    "hidden": true,
    "id": "Ny4GJ1sW3S9R"
   },
   "source": [
    "```\n",
    "1. 3.5 + 12 or True and False or 19 and 0 \n",
    "    * 15.5 or (True and False) or (19 and 0)\n",
    "    * 15.5 or False or 0 \n",
    "    * 15.5\n",
    "2. 0.0 == 0 and True and (False or 3) \n",
    "    * True and True and 3 \n",
    "    * 3\n",
    "3. 13 - 9 > 4 and 1 is 1 \n",
    "    * False and True \n",
    "    * False\n",
    "```\n"
   ]
  },
  {
   "cell_type": "code",
   "execution_count": null,
   "metadata": {
    "hidden": true
   },
   "outputs": [],
   "source": []
  }
 ],
 "metadata": {
  "colab": {
   "collapsed_sections": [
    "be4GQuk2l5Ar",
    "VPSgwTuo-TNn",
    "wgxnClPHN_XY",
    "qquhQoGzOLRJ",
    "bNYLfWWvOnxx",
    "alC1DAyszosY"
   ],
   "name": "FIT9136 Week 2 Lab Activities (Solution)",
   "provenance": []
  },
  "kernelspec": {
   "display_name": "Python 3",
   "language": "python",
   "name": "python3"
  },
  "language_info": {
   "codemirror_mode": {
    "name": "ipython",
    "version": 3
   },
   "file_extension": ".py",
   "mimetype": "text/x-python",
   "name": "python",
   "nbconvert_exporter": "python",
   "pygments_lexer": "ipython3",
   "version": "3.8.8"
  },
  "latex_envs": {
   "LaTeX_envs_menu_present": true,
   "autoclose": false,
   "autocomplete": true,
   "bibliofile": "biblio.bib",
   "cite_by": "apalike",
   "current_citInitial": 1,
   "eqLabelWithNumbers": true,
   "eqNumInitial": 1,
   "hotkeys": {
    "equation": "Ctrl-E",
    "itemize": "Ctrl-I"
   },
   "labels_anchors": false,
   "latex_user_defs": false,
   "report_style_numbering": false,
   "user_envs_cfg": false
  },
  "toc": {
   "base_numbering": 1,
   "nav_menu": {},
   "number_sections": true,
   "sideBar": true,
   "skip_h1_title": false,
   "title_cell": "Table of Contents",
   "title_sidebar": "Contents",
   "toc_cell": false,
   "toc_position": {},
   "toc_section_display": true,
   "toc_window_display": false
  }
 },
 "nbformat": 4,
 "nbformat_minor": 1
}
