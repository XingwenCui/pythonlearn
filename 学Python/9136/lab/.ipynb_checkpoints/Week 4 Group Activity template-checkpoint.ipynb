{
 "cells": [
  {
   "cell_type": "markdown",
   "metadata": {
    "colab_type": "text",
    "id": "ff0yit7ZFu-R"
   },
   "source": [
    "# Week 4 Group Practical Activity\n",
    "\n",
    "This is the place where you can do some group activities with your peers. Note that discussion in group activitities cannot be recorded, so make sure you make notes using markdown text or comment!\n",
    "\n",
    "## Schedule:\n",
    "*   1st minute or 2: say hello and introduce yourself to your group. [Please have your microphone on]\n",
    "*   Then, navigate to the following question, and start to discuss and work togehter!\n",
    "*   After 15 mins (spend 5mins for each task roughly), the breakout will be stopped, and instructors will go through them in the class.\n",
    "\n",
    "\n",
    "\n",
    "### Objective\n",
    "*   learn basic methods of str\n",
    "*   basic for loop, if statement\n",
    "*   container data type such as list, dict etc\n",
    "*   list comprehension\n"
   ]
  },
  {
   "cell_type": "code",
   "execution_count": 0,
   "metadata": {
    "colab": {},
    "colab_type": "code",
    "id": "SjF1j_SBF0BH"
   },
   "outputs": [],
   "source": []
  },
  {
   "cell_type": "markdown",
   "metadata": {
    "colab_type": "text",
    "id": "8bsxUH52Fu-S"
   },
   "source": [
    "# Contacts data\n",
    "In the following, a string variable, contacts_str, contains a list of contacts in string. Each contact has 'name', 'organization', 'gender', 'home phone', and 'work phone' fields"
   ]
  },
  {
   "cell_type": "code",
   "execution_count": 0,
   "metadata": {
    "colab": {},
    "colab_type": "code",
    "id": "7EytzC8HFu-T"
   },
   "outputs": [],
   "source": [
    "contacts_str = [\n",
    " 'Korry Walcar,Kwimbee,Female,4695919320,7546241389',\n",
    " 'Michaeline Winkell,Rhyzio,Female,5136464746,5177050746',\n",
    " 'Marabel Kernan,Skyble,Female,4083385919,8587870844',\n",
    " 'Richard Gaggen,Jabberstorm,Male,8015030995,6056335625',\n",
    " 'norean girone,Quatz,Female,8634529981,2698987672',\n",
    " 'Maison Mildner,Agivu,Male,5424753436,7799223458',\n",
    " 'rania jahndel,Demivee,female,4243467293,5029778464',\n",
    " 'Meg Mackniely,Camido,Female,6903093091,6808260560',\n",
    " 'Kaia Commander,Plambee,Female,8533385320,5389341932',\n",
    " 'Celene Beggini,Brainbox,Female,4401153410,8609613281',\n",
    " 'Friedrick Trace,Pixonyx,Male,9621904559,8656544513'\n",
    "]"
   ]
  },
  {
   "cell_type": "markdown",
   "metadata": {
    "colab_type": "text",
    "id": "WbWraQLWFu-V"
   },
   "source": [
    "## Task 1 parsing each contact string to a dict with keys 'name', 'organization', 'gender', 'home phone' and 'work phone'"
   ]
  },
  {
   "cell_type": "code",
   "execution_count": null,
   "metadata": {},
   "outputs": [],
   "source": [
    "# Write your code here"
   ]
  },
  {
   "cell_type": "markdown",
   "metadata": {
    "colab_type": "text",
    "id": "OUycwG28Fu-d"
   },
   "source": [
    "# Task 2 count the number of male and female respectively"
   ]
  },
  {
   "cell_type": "code",
   "execution_count": 0,
   "metadata": {
    "colab": {},
    "colab_type": "code",
    "id": "H2EURZzoFu-d",
    "outputId": "593f6ed1-c922-4287-a3e1-8bca1e37816f"
   },
   "outputs": [
    {
     "name": "stdout",
     "output_type": "stream",
     "text": [
      "male count: 3, female count 8\n"
     ]
    }
   ],
   "source": [
    "# Write your code here"
   ]
  },
  {
   "cell_type": "markdown",
   "metadata": {
    "colab_type": "text",
    "id": "fRE-o_PbFu-h"
   },
   "source": [
    "# Task 3 fix inconsistency in the name\n",
    "issue: some of names are not capitalized.\n",
    "using list comprehension"
   ]
  },
  {
   "cell_type": "code",
   "execution_count": 0,
   "metadata": {
    "colab": {},
    "colab_type": "code",
    "id": "YAksK8pqFu-h",
    "outputId": "4e28cffe-c4b2-4aad-f22d-57cb3d56a114"
   },
   "outputs": [
    {
     "name": "stdout",
     "output_type": "stream",
     "text": [
      "['norean girone', 'rania jahndel']\n"
     ]
    }
   ],
   "source": [
    "# Write your code here"
   ]
  }
 ],
 "metadata": {
  "colab": {
   "name": "Group Colab Notebook _Week 2_Sample Solution.ipynb",
   "provenance": [],
   "version": "0.3.2"
  },
  "kernelspec": {
   "display_name": "Python 3",
   "language": "python",
   "name": "python3"
  },
  "language_info": {
   "codemirror_mode": {
    "name": "ipython",
    "version": 3
   },
   "file_extension": ".py",
   "mimetype": "text/x-python",
   "name": "python",
   "nbconvert_exporter": "python",
   "pygments_lexer": "ipython3",
   "version": "3.7.6"
  }
 },
 "nbformat": 4,
 "nbformat_minor": 1
}
