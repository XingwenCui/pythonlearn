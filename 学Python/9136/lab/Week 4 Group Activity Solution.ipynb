{
 "cells": [
  {
   "cell_type": "markdown",
   "metadata": {
    "toc": true
   },
   "source": [
    "<h1>Table of Contents<span class=\"tocSkip\"></span></h1>\n",
    "<div class=\"toc\"><ul class=\"toc-item\"><li><span><a href=\"#Schedule:\" data-toc-modified-id=\"Schedule:-1\"><span class=\"toc-item-num\">1&nbsp;&nbsp;</span>Schedule:</a></span><ul class=\"toc-item\"><li><span><a href=\"#Objective\" data-toc-modified-id=\"Objective-1.1\"><span class=\"toc-item-num\">1.1&nbsp;&nbsp;</span>Objective</a></span></li></ul></li><li><span><a href=\"#Task-1-parsing-each-contact-string-to-a-dict-with-keys-'name',-'organization',-'gender',-'home-phone'-and-'work-phone'\" data-toc-modified-id=\"Task-1-parsing-each-contact-string-to-a-dict-with-keys-'name',-'organization',-'gender',-'home-phone'-and-'work-phone'-2\"><span class=\"toc-item-num\">2&nbsp;&nbsp;</span>Task 1 parsing each contact string to a dict with keys 'name', 'organization', 'gender', 'home phone' and 'work phone'</a></span></li></ul></div>"
   ]
  },
  {
   "cell_type": "markdown",
   "metadata": {
    "colab_type": "text",
    "id": "ff0yit7ZFu-R"
   },
   "source": [
    "# Week 4 Group Practical Activity\n",
    "\n",
    "This is the place where you can do some group activities with your peers. Note that discussion in group activitities cannot be recorded, so make sure you make notes using markdown text or comment!\n",
    "\n",
    "## Schedule:\n",
    "*   1st minute or 2: say hello and introduce yourself to your group. [Please have your microphone on]\n",
    "*   Then, navigate to the following question, and start to discuss and work togehter!\n",
    "*   After 15 mins (spend 5mins for each task roughly), the breakout will be stopped, and instructors will go through them in the class.\n",
    "\n",
    "\n",
    "\n",
    "### Objective\n",
    "*   learn basic methods of str\n",
    "*   basic for loop, if statement\n",
    "*   container data type such as list, dict etc\n",
    "*   list comprehension\n"
   ]
  },
  {
   "cell_type": "code",
   "execution_count": null,
   "metadata": {
    "colab": {},
    "colab_type": "code",
    "id": "SjF1j_SBF0BH"
   },
   "outputs": [],
   "source": [
    " "
   ]
  },
  {
   "cell_type": "markdown",
   "metadata": {
    "colab_type": "text",
    "id": "8bsxUH52Fu-S"
   },
   "source": [
    "# Contacts data\n",
    "In the following, a string variable, contacts_str, contains a list of contacts in string. Each contact has 'name', 'organization', 'gender', 'home phone', and 'work phone' fields"
   ]
  },
  {
   "cell_type": "code",
   "execution_count": 2,
   "metadata": {
    "colab": {},
    "colab_type": "code",
    "id": "7EytzC8HFu-T"
   },
   "outputs": [],
   "source": [
    "contacts_str = [\n",
    " 'Korry Walcar,Kwimbee,Female,4695919320,7546241389',\n",
    " 'Michaeline Winkell,Rhyzio,Female,5136464746,5177050746',\n",
    " 'Marabel Kernan,Skyble,Female,4083385919,8587870844',\n",
    " 'Richard Gaggen,Jabberstorm,Male,8015030995,6056335625',\n",
    " 'norean girone,Quatz,Female,8634529981,2698987672',\n",
    " 'Maison Mildner,Agivu,Male,5424753436,7799223458',\n",
    " 'rania jahndel,Demivee,female,4243467293,5029778464',\n",
    " 'Meg Mackniely,Camido,Female,6903093091,6808260560',\n",
    " 'Kaia Commander,Plambee,Female,8533385320,5389341932',\n",
    " 'Celene Beggini,Brainbox,Female,4401153410,8609613281',\n",
    " 'Friedrick Trace,Pixonyx,Male,9621904559,8656544513'\n",
    "]"
   ]
  },
  {
   "cell_type": "code",
   "execution_count": 3,
   "metadata": {},
   "outputs": [
    {
     "data": {
      "text/plain": [
       "'Korry Walcar,Kwimbee,Female,4695919320,7546241389'"
      ]
     },
     "execution_count": 3,
     "metadata": {},
     "output_type": "execute_result"
    }
   ],
   "source": [
    "contacts_str[0]"
   ]
  },
  {
   "cell_type": "code",
   "execution_count": 4,
   "metadata": {},
   "outputs": [
    {
     "data": {
      "text/plain": [
       "11"
      ]
     },
     "execution_count": 4,
     "metadata": {},
     "output_type": "execute_result"
    }
   ],
   "source": [
    "len(contacts_str)"
   ]
  },
  {
   "cell_type": "code",
   "execution_count": 6,
   "metadata": {},
   "outputs": [
    {
     "data": {
      "text/plain": [
       "str"
      ]
     },
     "execution_count": 6,
     "metadata": {},
     "output_type": "execute_result"
    }
   ],
   "source": [
    "type(contacts_str[0])"
   ]
  },
  {
   "cell_type": "markdown",
   "metadata": {
    "colab_type": "text",
    "id": "WbWraQLWFu-V"
   },
   "source": [
    "## Task 1 parsing each contact string to a dict with keys 'name', 'organization', 'gender', 'home phone' and 'work phone'"
   ]
  },
  {
   "cell_type": "code",
   "execution_count": 7,
   "metadata": {
    "colab": {
     "base_uri": "https://localhost:8080/",
     "height": 411
    },
    "colab_type": "code",
    "executionInfo": {
     "elapsed": 729,
     "status": "ok",
     "timestamp": 1536479254124,
     "user": {
      "displayName": "Shirin Ghaffarian Maghool",
      "photoUrl": "https://lh3.googleusercontent.com/a/default-user=s128",
      "userId": "112542626014852664457"
     },
     "user_tz": -600
    },
    "id": "xtv3NWpNFu-X",
    "outputId": "ef5532d1-0716-467c-b517-2664f74aac9d"
   },
   "outputs": [
    {
     "name": "stdout",
     "output_type": "stream",
     "text": [
      "['Korry Walcar', 'Kwimbee', 'Female', '4695919320', '7546241389']\n",
      "['Michaeline Winkell', 'Rhyzio', 'Female', '5136464746', '5177050746']\n",
      "['Marabel Kernan', 'Skyble', 'Female', '4083385919', '8587870844']\n",
      "['Richard Gaggen', 'Jabberstorm', 'Male', '8015030995', '6056335625']\n",
      "['norean girone', 'Quatz', 'Female', '8634529981', '2698987672']\n",
      "['Maison Mildner', 'Agivu', 'Male', '5424753436', '7799223458']\n",
      "['rania jahndel', 'Demivee', 'female', '4243467293', '5029778464']\n",
      "['Meg Mackniely', 'Camido', 'Female', '6903093091', '6808260560']\n",
      "['Kaia Commander', 'Plambee', 'Female', '8533385320', '5389341932']\n",
      "['Celene Beggini', 'Brainbox', 'Female', '4401153410', '8609613281']\n",
      "['Friedrick Trace', 'Pixonyx', 'Male', '9621904559', '8656544513']\n",
      "[{'name': 'Korry Walcar', 'organization': 'Kwimbee', 'gender': 'Female', 'home phone': '4695919320', 'work phone': '7546241389'}, {'name': 'Michaeline Winkell', 'organization': 'Rhyzio', 'gender': 'Female', 'home phone': '5136464746', 'work phone': '5177050746'}, {'name': 'Marabel Kernan', 'organization': 'Skyble', 'gender': 'Female', 'home phone': '4083385919', 'work phone': '8587870844'}, {'name': 'Richard Gaggen', 'organization': 'Jabberstorm', 'gender': 'Male', 'home phone': '8015030995', 'work phone': '6056335625'}, {'name': 'norean girone', 'organization': 'Quatz', 'gender': 'Female', 'home phone': '8634529981', 'work phone': '2698987672'}, {'name': 'Maison Mildner', 'organization': 'Agivu', 'gender': 'Male', 'home phone': '5424753436', 'work phone': '7799223458'}, {'name': 'rania jahndel', 'organization': 'Demivee', 'gender': 'female', 'home phone': '4243467293', 'work phone': '5029778464'}, {'name': 'Meg Mackniely', 'organization': 'Camido', 'gender': 'Female', 'home phone': '6903093091', 'work phone': '6808260560'}, {'name': 'Kaia Commander', 'organization': 'Plambee', 'gender': 'Female', 'home phone': '8533385320', 'work phone': '5389341932'}, {'name': 'Celene Beggini', 'organization': 'Brainbox', 'gender': 'Female', 'home phone': '4401153410', 'work phone': '8609613281'}, {'name': 'Friedrick Trace', 'organization': 'Pixonyx', 'gender': 'Male', 'home phone': '9621904559', 'work phone': '8656544513'}]\n"
     ]
    }
   ],
   "source": [
    "contacts_list= []\n",
    "for contact_str in contacts_str:\n",
    "    # split the values in the contact string\n",
    "    values = contact_str.split(',')\n",
    "    print(values)\n",
    "    \n",
    "    #create a dictionary\n",
    "    keys = ['name', 'organization', 'gender', 'home phone', 'work phone']\n",
    "    contact_dict = dict(zip(keys, values))\n",
    "    \n",
    "    # append contact dictionary to contacts_list\n",
    "    contacts_list.append(contact_dict)\n",
    "\n",
    "print(contacts_list)\n",
    "\n",
    "\n"
   ]
  },
  {
   "cell_type": "code",
   "execution_count": 8,
   "metadata": {
    "colab": {},
    "colab_type": "code",
    "id": "ouF85cESFu-Y",
    "outputId": "29891817-e14a-4bd9-fa37-a31d79581fc8"
   },
   "outputs": [
    {
     "data": {
      "text/plain": [
       "{'name': 'Korry Walcar',\n",
       " 'organization': 'Kwimbee',\n",
       " 'gender': 'Female',\n",
       " 'home phone': '4695919320',\n",
       " 'work phone': '7546241389'}"
      ]
     },
     "execution_count": 8,
     "metadata": {},
     "output_type": "execute_result"
    }
   ],
   "source": [
    "# testing by check the first contact\n",
    "contacts_list[0]"
   ]
  },
  {
   "cell_type": "markdown",
   "metadata": {
    "colab_type": "text",
    "id": "OUycwG28Fu-d"
   },
   "source": [
    "# Task 2 count the number of male and female respectively"
   ]
  },
  {
   "cell_type": "code",
   "execution_count": 4,
   "metadata": {
    "colab": {},
    "colab_type": "code",
    "id": "H2EURZzoFu-d",
    "outputId": "593f6ed1-c922-4287-a3e1-8bca1e37816f"
   },
   "outputs": [
    {
     "name": "stdout",
     "output_type": "stream",
     "text": [
      "male count: 3, female count 8\n"
     ]
    }
   ],
   "source": [
    "num_male = 0\n",
    "num_female = 0\n",
    "for contact in contacts_list:\n",
    "    if contact['gender'].lower() == 'male':\n",
    "        num_male += 1\n",
    "    elif contact['gender'].lower() == 'female':\n",
    "        num_female += 1\n",
    "    else:\n",
    "        pass\n",
    "print('male count: {0}, female count {1}'.format(num_male, num_female))"
   ]
  },
  {
   "cell_type": "code",
   "execution_count": 11,
   "metadata": {},
   "outputs": [],
   "source": [
    "genders=[contact['gender'].lower() for contact in contacts_list]"
   ]
  },
  {
   "cell_type": "code",
   "execution_count": 12,
   "metadata": {},
   "outputs": [
    {
     "data": {
      "text/plain": [
       "3"
      ]
     },
     "execution_count": 12,
     "metadata": {},
     "output_type": "execute_result"
    }
   ],
   "source": [
    "genders.count('male')"
   ]
  },
  {
   "cell_type": "code",
   "execution_count": 13,
   "metadata": {},
   "outputs": [
    {
     "data": {
      "text/plain": [
       "8"
      ]
     },
     "execution_count": 13,
     "metadata": {},
     "output_type": "execute_result"
    }
   ],
   "source": [
    "genders.count('female')"
   ]
  },
  {
   "cell_type": "markdown",
   "metadata": {
    "colab_type": "text",
    "id": "fRE-o_PbFu-h"
   },
   "source": [
    "# Task 3 fix inconsistency in the name\n",
    "issue: some of names are not capitalized.\n",
    "using list comprehension"
   ]
  },
  {
   "cell_type": "code",
   "execution_count": 5,
   "metadata": {
    "colab": {},
    "colab_type": "code",
    "id": "YAksK8pqFu-h",
    "outputId": "4e28cffe-c4b2-4aad-f22d-57cb3d56a114"
   },
   "outputs": [
    {
     "name": "stdout",
     "output_type": "stream",
     "text": [
      "['norean girone', 'rania jahndel']\n"
     ]
    }
   ],
   "source": [
    "# find the names which are not cpatialized\n",
    "inconsistency_name = [contact['name'] for contact in contacts_list if contact['name'].islower()]\n",
    "print(inconsistency_name)"
   ]
  },
  {
   "cell_type": "code",
   "execution_count": 6,
   "metadata": {
    "colab": {},
    "colab_type": "code",
    "id": "z9c3xDyiFu-k"
   },
   "outputs": [],
   "source": [
    "# fixed the problem\n",
    "for contact in contacts_list:\n",
    "    if contact['name'].islower():\n",
    "        contact['name'] = contact['name'].title()"
   ]
  },
  {
   "cell_type": "code",
   "execution_count": 7,
   "metadata": {
    "colab": {},
    "colab_type": "code",
    "id": "8UZk-gnoFu-m",
    "outputId": "7324085c-29c4-4c67-9b3a-858169c9b1c1"
   },
   "outputs": [
    {
     "name": "stdout",
     "output_type": "stream",
     "text": [
      "[]\n"
     ]
    }
   ],
   "source": [
    "# find the names which are not cpatialized\n",
    "inconsistency_name = [contact['name'] for contact in contacts_list if contact['name'].islower()]\n",
    "print(inconsistency_name)"
   ]
  }
 ],
 "metadata": {
  "colab": {
   "name": "Group Week 2 Solution.ipynb",
   "provenance": [],
   "version": "0.3.2"
  },
  "kernelspec": {
   "display_name": "Python 3",
   "language": "python",
   "name": "python3"
  },
  "language_info": {
   "codemirror_mode": {
    "name": "ipython",
    "version": 3
   },
   "file_extension": ".py",
   "mimetype": "text/x-python",
   "name": "python",
   "nbconvert_exporter": "python",
   "pygments_lexer": "ipython3",
   "version": "3.8.8"
  },
  "toc": {
   "base_numbering": 1,
   "nav_menu": {},
   "number_sections": true,
   "sideBar": true,
   "skip_h1_title": true,
   "title_cell": "Table of Contents",
   "title_sidebar": "Contents",
   "toc_cell": true,
   "toc_position": {},
   "toc_section_display": true,
   "toc_window_display": false
  }
 },
 "nbformat": 4,
 "nbformat_minor": 1
}
