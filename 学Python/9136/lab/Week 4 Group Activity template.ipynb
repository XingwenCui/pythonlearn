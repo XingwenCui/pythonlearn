{
 "cells": [
  {
   "cell_type": "markdown",
   "metadata": {
    "colab_type": "text",
    "id": "ff0yit7ZFu-R"
   },
   "source": [
    "# Week 4 Group Practical Activity\n",
    "\n",
    "This is the place where you can do some group activities with your peers. Note that discussion in group activitities cannot be recorded, so make sure you make notes using markdown text or comment!\n",
    "\n",
    "## Schedule:\n",
    "*   1st minute or 2: say hello and introduce yourself to your group. [Please have your microphone on]\n",
    "*   Then, navigate to the following question, and start to discuss and work togehter!\n",
    "*   After 15 mins (spend 5mins for each task roughly), the breakout will be stopped, and instructors will go through them in the class.\n",
    "\n",
    "\n",
    "\n",
    "### Objective\n",
    "*   learn basic methods of str\n",
    "*   basic for loop, if statement\n",
    "*   container data type such as list, dict etc\n",
    "*   list comprehension\n"
   ]
  },
  {
   "cell_type": "code",
   "execution_count": 0,
   "metadata": {
    "colab": {},
    "colab_type": "code",
    "id": "SjF1j_SBF0BH"
   },
   "outputs": [],
   "source": []
  },
  {
   "cell_type": "markdown",
   "metadata": {
    "colab_type": "text",
    "id": "8bsxUH52Fu-S"
   },
   "source": [
    "# Contacts data\n",
    "In the following, a string variable, contacts_str, contains a list of contacts in string. Each contact has 'name', 'organization', 'gender', 'home phone', and 'work phone' fields"
   ]
  },
  {
   "cell_type": "code",
   "execution_count": 1,
   "metadata": {
    "colab": {},
    "colab_type": "code",
    "id": "7EytzC8HFu-T"
   },
   "outputs": [],
   "source": [
    "contacts_str = [\n",
    " 'Korry Walcar,Kwimbee,Female,4695919320,7546241389',\n",
    " 'Michaeline Winkell,Rhyzio,Female,5136464746,5177050746',\n",
    " 'Marabel Kernan,Skyble,Female,4083385919,8587870844',\n",
    " 'Richard Gaggen,Jabberstorm,Male,8015030995,6056335625',\n",
    " 'norean girone,Quatz,Female,8634529981,2698987672',\n",
    " 'Maison Mildner,Agivu,Male,5424753436,7799223458',\n",
    " 'rania jahndel,Demivee,female,4243467293,5029778464',\n",
    " 'Meg Mackniely,Camido,Female,6903093091,6808260560',\n",
    " 'Kaia Commander,Plambee,Female,8533385320,5389341932',\n",
    " 'Celene Beggini,Brainbox,Female,4401153410,8609613281',\n",
    " 'Friedrick Trace,Pixonyx,Male,9621904559,8656544513'\n",
    "]"
   ]
  },
  {
   "cell_type": "markdown",
   "metadata": {
    "colab_type": "text",
    "id": "WbWraQLWFu-V"
   },
   "source": [
    "## Task 1 parsing each contact string to a dict with keys 'name', 'organization', 'gender', 'home phone' and 'work phone'"
   ]
  },
  {
   "cell_type": "code",
   "execution_count": 6,
   "metadata": {},
   "outputs": [
    {
     "name": "stdout",
     "output_type": "stream",
     "text": [
      "{'name': 'Korry Walcar', 'organization': 'Kwimbee', 'gender': 'Female', 'home phone': '4695919320', 'work phone': '7546241389'}\n"
     ]
    }
   ],
   "source": [
    "# Write your code here\n",
    "a = contacts_str[0]\n",
    "a = a.split(',')\n",
    "a\n",
    "new_dict = {}\n",
    "for i in a:\n",
    "    new_dict['name'] = a[0]\n",
    "    new_dict['organization'] = a[1]\n",
    "    new_dict['gender'] = a[2]\n",
    "    new_dict['home phone'] = a[3]\n",
    "    new_dict['work phone'] = a[4]\n",
    "print(new_dict)"
   ]
  },
  {
   "cell_type": "code",
   "execution_count": 11,
   "metadata": {},
   "outputs": [
    {
     "name": "stdout",
     "output_type": "stream",
     "text": [
      "[{'name': 'Korry Walcar', 'organization': 'Kwimbee', 'gender': 'Female', 'home phone': '4695919320', 'work phone': '7546241389'}, {'name': 'Michaeline Winkell', 'organization': 'Rhyzio', 'gender': 'Female', 'home phone': '5136464746', 'work phone': '5177050746'}, {'name': 'Marabel Kernan', 'organization': 'Skyble', 'gender': 'Female', 'home phone': '4083385919', 'work phone': '8587870844'}, {'name': 'Richard Gaggen', 'organization': 'Jabberstorm', 'gender': 'Male', 'home phone': '8015030995', 'work phone': '6056335625'}, {'name': 'norean girone', 'organization': 'Quatz', 'gender': 'Female', 'home phone': '8634529981', 'work phone': '2698987672'}, {'name': 'Maison Mildner', 'organization': 'Agivu', 'gender': 'Male', 'home phone': '5424753436', 'work phone': '7799223458'}, {'name': 'rania jahndel', 'organization': 'Demivee', 'gender': 'female', 'home phone': '4243467293', 'work phone': '5029778464'}, {'name': 'Meg Mackniely', 'organization': 'Camido', 'gender': 'Female', 'home phone': '6903093091', 'work phone': '6808260560'}, {'name': 'Kaia Commander', 'organization': 'Plambee', 'gender': 'Female', 'home phone': '8533385320', 'work phone': '5389341932'}, {'name': 'Celene Beggini', 'organization': 'Brainbox', 'gender': 'Female', 'home phone': '4401153410', 'work phone': '8609613281'}, {'name': 'Friedrick Trace', 'organization': 'Pixonyx', 'gender': 'Male', 'home phone': '9621904559', 'work phone': '8656544513'}]\n"
     ]
    }
   ],
   "source": [
    "person_lists = []\n",
    "for part_str in contacts_str:\n",
    "    a = part_str.split(',')\n",
    "    new_dict = {}\n",
    "    for i in a:\n",
    "        new_dict['name'] = a[0]\n",
    "        new_dict['organization'] = a[1]\n",
    "        new_dict['gender'] = a[2]\n",
    "        new_dict['home phone'] = a[3]\n",
    "        new_dict['work phone'] = a[4]\n",
    "    person_lists.append(new_dict)\n",
    "print(person_lists)"
   ]
  },
  {
   "cell_type": "markdown",
   "metadata": {
    "colab_type": "text",
    "id": "OUycwG28Fu-d"
   },
   "source": [
    "# Task 2 count the number of male and female respectively"
   ]
  },
  {
   "cell_type": "code",
   "execution_count": 10,
   "metadata": {
    "colab": {},
    "colab_type": "code",
    "id": "H2EURZzoFu-d",
    "outputId": "593f6ed1-c922-4287-a3e1-8bca1e37816f"
   },
   "outputs": [
    {
     "name": "stdout",
     "output_type": "stream",
     "text": [
      "male count:3,female count:8\n"
     ]
    }
   ],
   "source": [
    "# Write your code here\n",
    "male_num = 0\n",
    "female_num = 0\n",
    "for i in person_lists:\n",
    "    if i['gender'] == 'Male':\n",
    "        male_num += 1\n",
    "    else:\n",
    "        female_num += 1\n",
    "        \n",
    "print(\"male count:{},female count:{}\".format(male_num,female_num))"
   ]
  },
  {
   "cell_type": "markdown",
   "metadata": {
    "colab_type": "text",
    "id": "fRE-o_PbFu-h"
   },
   "source": [
    "# Task 3 fix inconsistency in the name\n",
    "issue: some of names are not capitalized.\n",
    "using list comprehension"
   ]
  },
  {
   "cell_type": "code",
   "execution_count": 13,
   "metadata": {
    "colab": {},
    "colab_type": "code",
    "id": "YAksK8pqFu-h",
    "outputId": "4e28cffe-c4b2-4aad-f22d-57cb3d56a114"
   },
   "outputs": [
    {
     "data": {
      "text/plain": [
       "['norean girone', 'rania jahndel']"
      ]
     },
     "execution_count": 13,
     "metadata": {},
     "output_type": "execute_result"
    }
   ],
   "source": [
    "# Write your code here\n",
    "[i['name'] for i in person_lists if i['name'].islower()]"
   ]
  },
  {
   "cell_type": "code",
   "execution_count": null,
   "metadata": {},
   "outputs": [],
   "source": []
  }
 ],
 "metadata": {
  "colab": {
   "name": "Group Colab Notebook _Week 2_Sample Solution.ipynb",
   "provenance": [],
   "version": "0.3.2"
  },
  "kernelspec": {
   "display_name": "Python 3",
   "language": "python",
   "name": "python3"
  },
  "language_info": {
   "codemirror_mode": {
    "name": "ipython",
    "version": 3
   },
   "file_extension": ".py",
   "mimetype": "text/x-python",
   "name": "python",
   "nbconvert_exporter": "python",
   "pygments_lexer": "ipython3",
   "version": "3.8.8"
  }
 },
 "nbformat": 4,
 "nbformat_minor": 1
}
