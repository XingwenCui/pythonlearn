{
 "cells": [
  {
   "cell_type": "markdown",
   "metadata": {
    "id": "wV6f6iFn2pHf",
    "toc": true
   },
   "source": [
    "<h1>Table of Contents<span class=\"tocSkip\"></span></h1>\n",
    "<div class=\"toc\"><ul class=\"toc-item\"><li><span><a href=\"#The-Phone-Book-Program\" data-toc-modified-id=\"The-Phone-Book-Program-1\"><span class=\"toc-item-num\">1&nbsp;&nbsp;</span>The Phone Book Program</a></span></li><li><span><a href=\"#Task-1:-The-Contact-Class\" data-toc-modified-id=\"Task-1:-The-Contact-Class-2\"><span class=\"toc-item-num\">2&nbsp;&nbsp;</span>Task 1: The Contact Class</a></span><ul class=\"toc-item\"><li><ul class=\"toc-item\"><li><span><a href=\"#Testing-the-class-and-methods\" data-toc-modified-id=\"Testing-the-class-and-methods-2.0.1\"><span class=\"toc-item-num\">2.0.1&nbsp;&nbsp;</span>Testing the class and methods</a></span></li></ul></li></ul></li><li><span><a href=\"#Task-2:-The-PhoneBook-class\" data-toc-modified-id=\"Task-2:-The-PhoneBook-class-3\"><span class=\"toc-item-num\">3&nbsp;&nbsp;</span>Task 2: The PhoneBook class</a></span></li><li><span><a href=\"#2.-Passcode-protected-Phone-Book-Class\" data-toc-modified-id=\"2.-Passcode-protected-Phone-Book-Class-4\"><span class=\"toc-item-num\">4&nbsp;&nbsp;</span>2. Passcode-protected Phone Book Class</a></span></li></ul></div>"
   ]
  },
  {
   "cell_type": "markdown",
   "metadata": {
    "id": "HutaKq6-zMKu"
   },
   "source": [
    "# Week 7 Lab Activities: Concepts of Decomposition and Abstract Data Types \n",
    "\n",
    "\n",
    "## The Phone Book Program\n",
    "\n",
    "Developing on your understanding from the concept of object oriented programming (Weeks 5 and 6), in this activity, you will creat a phone book program which would allow user to enter and store people’s contact details including name, organisation, and a list of contact phone numbers.\n",
    "You are required to implement two user-defined classes – Contact and PhoneBook – and the associated methods for each class that are useful for data processing."
   ]
  },
  {
   "cell_type": "markdown",
   "metadata": {
    "id": "SMF3VTw8lgvz"
   },
   "source": [
    "## Task 1: The Contact Class\n",
    "The first task is to create a Python class, called Contact, which contains:\n",
    "*   instance variables required for this Contact class to represent each individual contact data. A contact should contain:\n",
    "    * name, as a string\n",
    "    * organisation as a string\n",
    "    * phone numbers, can be implemented as a list\n",
    "*   a collection of methods defined for manipulating a person's contact:\n",
    "\n",
    "    *   \\__init\\__ : Contructor method\n",
    "    *   update_name: method to update the name of the person\n",
    "    *   match_name: accepts a string as an argument, and return True if the string was a prefix of the name of the person, or False if it is not.\n",
    "    *   update_organisation: method to update the organisation of the person\n",
    "    *   add_phone: adding a phone number\n",
    "    *   remove_phone\\(self, index\\): remove the phone number on the position of index.\n",
    "    *   update_phone\\(self, index, new_phone\\): update the phone number on index to new_phone.\n",
    "    *   Overriding magic methods:\n",
    "        *   \\__str\\__: use to format the output of the contact represented in this Contact class.\n",
    "        *   \\__eq\\__: use to specific whether two contacts are equal. In this simple task, assume that two contacts are consider to be equal, if both contacts have the same name and organisation, CASE INSENSITIVE.\n",
    "        *   \\__lt\\__, \\__gt\\__: use to specify whether one conact is smaller than or larger than the other contact, based on the lexicographic order (CASE INSENSITIVE) based on the name, followed by the organisation. These would be useful when we sort a list of contacts.\n"
   ]
  },
  {
   "cell_type": "markdown",
   "metadata": {
    "id": "_jYM7WC7q7vi"
   },
   "source": [
    "- **Answer :**"
   ]
  },
  {
   "cell_type": "code",
   "execution_count": null,
   "metadata": {
    "id": "HFaOGJhazAAX"
   },
   "outputs": [],
   "source": [
    "class Contact:\n",
    "    def __init__(self, name, organisation, phones = []):\n",
    "        #write your answer here\n",
    "\n",
    "        \n",
    "    def update_name(self, name):\n",
    "        #write your answer here\n",
    "\n",
    "        \n",
    "    def update_organisation(self,organisation):\n",
    "         #write your answer here\n",
    "\n",
    "        \n",
    "    def match_name(self, substr):\n",
    "        #write your answer here\n",
    "\n",
    "    \n",
    "    def add_phone(self,phone):\n",
    "        #write your answer here\n",
    "\n",
    "    \n",
    "    def remove_phone(self, index):\n",
    "        #write your answer here\n",
    "\n",
    "        \n",
    "    def update_phone(self, index, new_phone):\n",
    "        #write your answer here\n",
    "\n",
    "     \n",
    "    #__str__(self): This is  the overloaded method that is useful for formatting the output of the contact represented in this Contact class.\n",
    "    def __str__(self):\n",
    "        #write your answer here\n",
    "\n",
    "      \n",
    "      \n",
    "    def __eq__(self, other):\n",
    "        #write your answer here\n",
    "\n",
    "      \n",
    "    def __lt__(self, other):\n",
    "        #write your answer here\n",
    "\n",
    "        \n",
    "    def __gt__(self, other):\n",
    "        #write your answer here\n"
   ]
  },
  {
   "cell_type": "markdown",
   "metadata": {
    "id": "-Wi8oozZ40kE"
   },
   "source": [
    "#### Testing the class and methods"
   ]
  },
  {
   "cell_type": "code",
   "execution_count": null,
   "metadata": {
    "id": "SQxCIxHt40I2"
   },
   "outputs": [],
   "source": [
    "# creating two instances\n"
   ]
  },
  {
   "cell_type": "code",
   "execution_count": null,
   "metadata": {
    "colab": {
     "base_uri": "https://localhost:8080/",
     "height": 84
    },
    "id": "vRlC9I2S4_bD",
    "outputId": "44562c23-903f-4d67-a8b4-d120fcbe5934"
   },
   "outputs": [
    {
     "name": "stdout",
     "output_type": "stream",
     "text": [
      "Name: shirin Organisation: Monash\n",
      "Phone Number/s: 0425685212\n",
      "                0464545464\n",
      "                \n"
     ]
    }
   ],
   "source": [
    "# testing update_name method\n"
   ]
  },
  {
   "cell_type": "code",
   "execution_count": null,
   "metadata": {
    "colab": {
     "base_uri": "https://localhost:8080/",
     "height": 84
    },
    "id": "plQxHuSk5BEb",
    "outputId": "e0a392de-5537-47ee-bd2d-04100a124115"
   },
   "outputs": [
    {
     "name": "stdout",
     "output_type": "stream",
     "text": [
      "Name: shirin Organisation: Melbourne\n",
      "Phone Number/s: 0425685212\n",
      "                0464545464\n",
      "                \n"
     ]
    }
   ],
   "source": [
    "# testing update_organisation method\n"
   ]
  },
  {
   "cell_type": "code",
   "execution_count": null,
   "metadata": {
    "colab": {
     "base_uri": "https://localhost:8080/",
     "height": 51
    },
    "id": "S5gsEMRp5D6C",
    "outputId": "701d9bec-43ae-4492-c2d0-79d98082c0e4"
   },
   "outputs": [
    {
     "name": "stdout",
     "output_type": "stream",
     "text": [
      "True\n",
      "False\n"
     ]
    }
   ],
   "source": [
    "# testing match_name method\n"
   ]
  },
  {
   "cell_type": "code",
   "execution_count": null,
   "metadata": {
    "colab": {
     "base_uri": "https://localhost:8080/",
     "height": 101
    },
    "id": "Cyaq4KbX5Fha",
    "outputId": "ab4f188e-71ce-4e6e-9a70-eefdaa9616b7"
   },
   "outputs": [
    {
     "name": "stdout",
     "output_type": "stream",
     "text": [
      "Name: shirin Organisation: Melbourne\n",
      "Phone Number/s: 0425685212\n",
      "                0464545464\n",
      "                0433586891\n",
      "                \n"
     ]
    }
   ],
   "source": [
    "# testing add_phone method\n"
   ]
  },
  {
   "cell_type": "code",
   "execution_count": null,
   "metadata": {
    "colab": {
     "base_uri": "https://localhost:8080/",
     "height": 101
    },
    "id": "eSWxQzHf5HAr",
    "outputId": "1619a7de-42e3-4e13-ceee-a19eb8b1af64"
   },
   "outputs": [
    {
     "name": "stdout",
     "output_type": "stream",
     "text": [
      "Name: shirin Organisation: Melbourne\n",
      "Phone Number/s: 0425685212\n",
      "                0464545465\n",
      "                0433586891\n",
      "                \n"
     ]
    }
   ],
   "source": [
    "# testing update_phone method\n"
   ]
  },
  {
   "cell_type": "code",
   "execution_count": null,
   "metadata": {
    "colab": {
     "base_uri": "https://localhost:8080/",
     "height": 202
    },
    "id": "xT-m734C5Kvy",
    "outputId": "71dee66e-5ed6-4598-c660-2bbff80e3b72"
   },
   "outputs": [
    {
     "name": "stdout",
     "output_type": "stream",
     "text": [
      "Name: shirin Organisation: Melbourne\n",
      "Phone Number/s: 0425685212\n",
      "                0464545465\n",
      "                0433586891\n",
      "                \n",
      "Name: Lily Organisation: Monash\n",
      "Phone Number/s: 0425685212\n",
      "                \n",
      "c1 == c2? False\n",
      "c1 > c2? True\n",
      "c1 < c2? False\n"
     ]
    }
   ],
   "source": [
    "# testing __eq__, __lt__, __gt__ method\n"
   ]
  },
  {
   "cell_type": "code",
   "execution_count": null,
   "metadata": {
    "colab": {
     "base_uri": "https://localhost:8080/",
     "height": 151
    },
    "id": "WALLk5a85Mb5",
    "outputId": "ca4ef2c5-d1d1-452a-877b-5b601c0d5216"
   },
   "outputs": [
    {
     "name": "stdout",
     "output_type": "stream",
     "text": [
      "Name: shirin Organisation: Melbourne\n",
      "Phone Number/s: 0425685212\n",
      "                0464545465\n",
      "                0433586891\n",
      "                \n",
      "Name: Lily Organisation: Monash\n",
      "Phone Number/s: 0425685212\n",
      "                \n"
     ]
    }
   ],
   "source": [
    "# create a list of contact \n",
    "\n",
    "# printing out the contacts one by one, based on the current order\n"
   ]
  },
  {
   "cell_type": "code",
   "execution_count": null,
   "metadata": {
    "colab": {
     "base_uri": "https://localhost:8080/",
     "height": 151
    },
    "id": "juDxlbul5OHJ",
    "outputId": "3787d5b6-db2b-4c1d-c2fc-12ecc02f4b11"
   },
   "outputs": [
    {
     "name": "stdout",
     "output_type": "stream",
     "text": [
      "Name: Lily Organisation: Monash\n",
      "Phone Number/s: 0425685212\n",
      "                \n",
      "Name: shirin Organisation: Melbourne\n",
      "Phone Number/s: 0425685212\n",
      "                0464545465\n",
      "                0433586891\n",
      "                \n"
     ]
    }
   ],
   "source": [
    "# we sort the list of contact, happened in place\n",
    "\n",
    "# now printing out the contacts one by one again, and see the difference!\n"
   ]
  },
  {
   "cell_type": "code",
   "execution_count": null,
   "metadata": {
    "colab": {
     "base_uri": "https://localhost:8080/",
     "height": 34
    },
    "id": "A9JgZXk2EgX3",
    "outputId": "19f92688-7353-42d9-fcde-b91a6b812765"
   },
   "outputs": [
    {
     "data": {
      "text/plain": [
       "1"
      ]
     },
     "execution_count": 26,
     "metadata": {
      "tags": []
     },
     "output_type": "execute_result"
    }
   ],
   "source": [
    "# we can also use the index method, because we overloaded __eq__\n"
   ]
  },
  {
   "cell_type": "code",
   "execution_count": null,
   "metadata": {
    "id": "JuLgYZbwEhH1"
   },
   "outputs": [],
   "source": [
    "# however, if it is not in the list..... \n",
    "# contact_list.index(Contact('deep','Monash'))\n",
    "# proper exception handling needed, which will be taught later...."
   ]
  },
  {
   "cell_type": "markdown",
   "metadata": {
    "id": "zRW5LaS02Tzk"
   },
   "source": [
    "## Task 2: The PhoneBook class\n",
    "\n",
    "In this task, you are required to implement another class that is responsible for handling a collection of contacts.\n",
    "Please note: in order to complete this task you required to use Task 1.\n",
    "\n",
    "The following is a list of methods we have to implement:\n",
    "*   \\__init\\__ : Constructor method\n",
    "*   \\__len\\__: This is overloaded method that is commonly implement to return the number of items in the collection.\n",
    "*   add_entry : This method will add a new item which is a Contact class object to the collection represented in this PhoneBook class\n",
    "*   remove_entry(self, name, organisation): This method will remove the occurrences of the specific item (as indicated by name and organisation) from the contact collection represented in this PhoneBook class.\n",
    "*   search_byname(self, name): The method is to search and print out contacts that are at least partically match the given name (CASE INSENTITIVE).\n",
    "*   \\__str\\__(self): This is the overloaded method that is useful for formatting the output of the contact collection represented in this PhoneBook class. Construct a Python string which organises each item (according to ascending order) from the contact collection as a separate line in the output.\n",
    "\n",
    "\n",
    "\n",
    "**Consdier time limitation, pesudocode is acceptable!**"
   ]
  },
  {
   "cell_type": "code",
   "execution_count": null,
   "metadata": {
    "id": "fvk2SiabZ3zF"
   },
   "outputs": [],
   "source": [
    "# defining the PhoneBook class\n",
    "class PhoneBook:\n",
    "    def __init__(self):\n",
    "        #write your answer here\n",
    "  \n",
    "        \n",
    "    def __len__(self):\n",
    "        #write your answer here\n",
    "   \n",
    "    \n",
    "    def add_entry(self, contact):\n",
    "        #write your answer here\n",
    "        # we can use in statement because we overloaded __eq__ in Contact class\n",
    "\n",
    "    \n",
    "    def remove_entry(self, name, organisation):\n",
    "        #write your answer here\n",
    "\n",
    "    \n",
    "    def search_byname(self,name):\n",
    "        #write your answer here\n",
    "\n",
    "    \n",
    "    def __str__(self):\n",
    "        #write your answer here\n"
   ]
  },
  {
   "cell_type": "code",
   "execution_count": null,
   "metadata": {
    "id": "9Z0dlvyhZ59m"
   },
   "outputs": [],
   "source": [
    "# creating two Contact instances\n"
   ]
  },
  {
   "cell_type": "code",
   "execution_count": null,
   "metadata": {
    "colab": {
     "base_uri": "https://localhost:8080/",
     "height": 219
    },
    "id": "BA_E7aNeEuJ8",
    "outputId": "c1a5d46e-34bb-4555-d21c-ac5a98eec0b6"
   },
   "outputs": [
    {
     "name": "stdout",
     "output_type": "stream",
     "text": [
      "Name: Jerry Organisation: Monash\n",
      "Phone Number/s: 042568524\n",
      "                \n",
      "Name: Tom Organisation: Melbourne\n",
      "Phone Number/s: 0425685212\n",
      "                0464545464\n",
      "                \n",
      "\n"
     ]
    }
   ],
   "source": [
    "# Adding entry to Phonebook\n"
   ]
  },
  {
   "cell_type": "code",
   "execution_count": null,
   "metadata": {
    "colab": {
     "base_uri": "https://localhost:8080/",
     "height": 235
    },
    "id": "kGXuPFztEypc",
    "outputId": "d836f6e2-f58f-4152-e9fc-e9bdb1e6f583"
   },
   "outputs": [
    {
     "name": "stdout",
     "output_type": "stream",
     "text": [
      "Name: Jerry Organisation: Monash\n",
      "Phone Number/s: 042568524\n",
      "                \n",
      "\n"
     ]
    }
   ],
   "source": [
    "# Removing phone book entries\n"
   ]
  },
  {
   "cell_type": "code",
   "execution_count": null,
   "metadata": {
    "colab": {
     "base_uri": "https://localhost:8080/",
     "height": 168
    },
    "id": "vR-oSIc8E0zj",
    "outputId": "c689954e-2f28-4614-f1dd-e18933f47073"
   },
   "outputs": [
    {
     "name": "stdout",
     "output_type": "stream",
     "text": [
      "No such contact exist\n",
      "Name: Jerry Organisation: Monash\n",
      "Phone Number/s: 042568524\n",
      "                \n",
      "\n"
     ]
    }
   ],
   "source": [
    "# Removing phone book entries which is not exist\n"
   ]
  },
  {
   "cell_type": "code",
   "execution_count": null,
   "metadata": {
    "colab": {
     "base_uri": "https://localhost:8080/",
     "height": 151
    },
    "id": "0v6lhq9lE2nN",
    "outputId": "e58e8569-2814-456c-fab8-07d86728b1b9"
   },
   "outputs": [
    {
     "name": "stdout",
     "output_type": "stream",
     "text": [
      "Name: Jerry Organisation: Monash\n",
      "Phone Number/s: 042568524\n",
      "                \n"
     ]
    }
   ],
   "source": [
    "# search by name\n"
   ]
  },
  {
   "cell_type": "markdown",
   "metadata": {
    "id": "7AIFIUgsczpc"
   },
   "source": [
    "## 2. Passcode-protected Phone Book Class\n",
    "\n",
    "In this task, you will be implementing a more specific passcode-protected phone book class `PasscodePhoneBook` that **inherits from PhoneBook class** implemented above.\n",
    "\n",
    "This class inherits all properties from PhoneBook class. \n",
    "\n",
    "However, it has introduced:\n",
    "1. **`passcode`**: instance variable, which is initialised in the constructor. You have to decide the datatype of it\n",
    "2. **`validate_passcode(self)`**: a method that asks the user to enter the passcode and compares it to the value stored in the `passcode` instance variable. This method will return `True` when the user input matches the `passcode`. It will return `False` otherwise.\n",
    "\n",
    "Also, for all the methods under this class except \\_\\_len\\_\\_() and add_entry(), it has to validate the passcode from user input before performing the original operations. If the passcode entered is not correct, an error message will be printed out and the method will return `False`."
   ]
  },
  {
   "cell_type": "code",
   "execution_count": null,
   "metadata": {
    "id": "1VkDC-lhhVMq"
   },
   "outputs": [],
   "source": [
    "# defining the PasscodePhoneBook class inherited from PhoneBook class\n",
    "class PasscodePhoneBook(PhoneBook):\n",
    "    def __init__(self, passcode):\n",
    "        #write your answer here\n",
    "\n",
    "\n",
    "    def validate_passcode(self):\n",
    "        #write your answer here\n",
    "\n",
    "    \n",
    "    def remove_entry(self, name, organisation):\n",
    "        #write your answer here\n",
    "\n",
    "    \n",
    "    def search_byname(self,name):\n",
    "        #write your answer here\n",
    "\n",
    "    \n",
    "    def __str__(self):\n",
    "        #write your answer here\n",
    "        \n"
   ]
  },
  {
   "cell_type": "code",
   "execution_count": null,
   "metadata": {
    "id": "qHMLuaiGkotR"
   },
   "outputs": [],
   "source": [
    "# creating two Contact instances\n",
    "c1 = Contact('Tom','Melbourne',['0425685212','0464545464'])\n",
    "c2 = Contact('Jerry','Monash',['042568524'])"
   ]
  },
  {
   "cell_type": "code",
   "execution_count": null,
   "metadata": {
    "colab": {
     "base_uri": "https://localhost:8080/"
    },
    "id": "JPj-UsGlkh3h",
    "outputId": "45ffd334-5122-457e-e87b-4af2b45fb866"
   },
   "outputs": [
    {
     "name": "stdout",
     "output_type": "stream",
     "text": [
      "Please enter passcode: 1234567\n",
      "Name: Jerry Organisation: Monash\n",
      "Phone Number/s: 042568524\n",
      "                \n",
      "Name: Tom Organisation: Melbourne\n",
      "Phone Number/s: 0425685212\n",
      "                0464545464\n",
      "                \n",
      "\n"
     ]
    }
   ],
   "source": [
    "# Adding entry to Phonebook\n",
    "\n",
    "\n",
    "\n",
    "print(pass_phone_book)"
   ]
  },
  {
   "cell_type": "code",
   "execution_count": null,
   "metadata": {
    "colab": {
     "base_uri": "https://localhost:8080/"
    },
    "id": "0pTV22k8kvDH",
    "outputId": "a3dd553b-9a77-4d64-d499-b9267b0a75df"
   },
   "outputs": [
    {
     "name": "stdout",
     "output_type": "stream",
     "text": [
      "Please enter passcode: 1234567\n",
      "No such contact exist\n",
      "Please enter passcode: 1234567\n",
      "Name: Jerry Organisation: Monash\n",
      "Phone Number/s: 042568524\n",
      "                \n",
      "\n"
     ]
    }
   ],
   "source": [
    "# Removing phone book entries\n",
    "\n",
    "\n",
    "print(pass_phone_book)"
   ]
  },
  {
   "cell_type": "code",
   "execution_count": null,
   "metadata": {
    "colab": {
     "base_uri": "https://localhost:8080/"
    },
    "id": "rE11kAdJlZG0",
    "outputId": "cf34cd58-ead5-472f-fe68-0b96fcfb2c97"
   },
   "outputs": [
    {
     "name": "stdout",
     "output_type": "stream",
     "text": [
      "Please enter passcode: 1234567\n",
      "No such contact exist\n",
      "Please enter passcode: 1234567\n",
      "Name: Jerry Organisation: Monash\n",
      "Phone Number/s: 042568524\n",
      "                \n",
      "\n"
     ]
    }
   ],
   "source": [
    "# Removing phone book entries which is not exist\n",
    "\n",
    "\n",
    "print(pass_phone_book)"
   ]
  },
  {
   "cell_type": "code",
   "execution_count": null,
   "metadata": {
    "colab": {
     "base_uri": "https://localhost:8080/"
    },
    "id": "g67BoSxTl9or",
    "outputId": "2194c77f-0780-4271-9529-664e7ed4f67f"
   },
   "outputs": [
    {
     "name": "stdout",
     "output_type": "stream",
     "text": [
      "Please enter passcode: 1234567\n",
      "Name: Jerry Organisation: Monash\n",
      "Phone Number/s: 042568524\n",
      "                \n"
     ]
    }
   ],
   "source": [
    "# search by name\n",
    "pass_phone_book.search_byname('Jerry')"
   ]
  }
 ],
 "metadata": {
  "colab": {
   "collapsed_sections": [],
   "name": "FIT9136 Week 7 Lab Activities.ipynb",
   "provenance": [],
   "toc_visible": true
  },
  "kernelspec": {
   "display_name": "Python 3",
   "language": "python",
   "name": "python3"
  },
  "language_info": {
   "codemirror_mode": {
    "name": "ipython",
    "version": 3
   },
   "file_extension": ".py",
   "mimetype": "text/x-python",
   "name": "python",
   "nbconvert_exporter": "python",
   "pygments_lexer": "ipython3",
   "version": "3.8.8"
  },
  "latex_envs": {
   "LaTeX_envs_menu_present": true,
   "autoclose": false,
   "autocomplete": true,
   "bibliofile": "biblio.bib",
   "cite_by": "apalike",
   "current_citInitial": 1,
   "eqLabelWithNumbers": true,
   "eqNumInitial": 1,
   "hotkeys": {
    "equation": "Ctrl-E",
    "itemize": "Ctrl-I"
   },
   "labels_anchors": false,
   "latex_user_defs": false,
   "report_style_numbering": false,
   "user_envs_cfg": false
  },
  "toc": {
   "base_numbering": 1,
   "nav_menu": {},
   "number_sections": true,
   "sideBar": true,
   "skip_h1_title": true,
   "title_cell": "Table of Contents",
   "title_sidebar": "Contents",
   "toc_cell": true,
   "toc_position": {},
   "toc_section_display": true,
   "toc_window_display": false
  }
 },
 "nbformat": 4,
 "nbformat_minor": 1
}
