{
 "cells": [
  {
   "cell_type": "markdown",
   "metadata": {
    "id": "RDk2sbEPZb3b"
   },
   "source": [
    "# FIT9136 Algorithms and programming foundations in Python"
   ]
  },
  {
   "cell_type": "code",
   "execution_count": 18,
   "metadata": {},
   "outputs": [
    {
     "data": {
      "text/plain": [
       "'2keew'"
      ]
     },
     "execution_count": 18,
     "metadata": {},
     "output_type": "execute_result"
    }
   ],
   "source": [
    "m = 'welcome to week2'\n",
    "m[-1:-6:-1]"
   ]
  },
  {
   "cell_type": "markdown",
   "metadata": {
    "id": "HCr6VvsSZb3g"
   },
   "source": [
    "# Week 3 Lab Activities: Introduction to Data Structures, Collective Data Types and Control Structures I\n",
    "\n",
    "\\#string \\#list \\#set \\#tuple \\#dictionary \\#collectiveDataTypes"
   ]
  },
  {
   "cell_type": "markdown",
   "metadata": {
    "id": "uXU6D7TXaaIP"
   },
   "source": [
    "Simply speaking, collective data types are different kinds of lockers, which can store 0 or more *objects*."
   ]
  },
  {
   "cell_type": "markdown",
   "metadata": {
    "id": "Lofu_MsWxGF2"
   },
   "source": [
    "### 1. String\n",
    "\\#ordered \\#immutable\n",
    "\n",
    "```\n",
    "Index:    0  1  2  3  4  5   ...\n",
    "          ↓  ↓  ↓  ↓  ↓  ↓\n",
    "         'p  y  t  h  o  n'  ...\n",
    "```"
   ]
  },
  {
   "cell_type": "markdown",
   "metadata": {
    "id": "_oshalheyJQN"
   },
   "source": [
    "#### 1.1 Creating a string"
   ]
  },
  {
   "cell_type": "code",
   "execution_count": 19,
   "metadata": {
    "id": "b2Rdqn04x002"
   },
   "outputs": [
    {
     "data": {
      "text/plain": [
       "''"
      ]
     },
     "execution_count": 19,
     "metadata": {},
     "output_type": "execute_result"
    }
   ],
   "source": [
    "'' # empty string"
   ]
  },
  {
   "cell_type": "code",
   "execution_count": 20,
   "metadata": {
    "id": "aV_Yx2qSyO11"
   },
   "outputs": [
    {
     "data": {
      "text/plain": [
       "''"
      ]
     },
     "execution_count": 20,
     "metadata": {},
     "output_type": "execute_result"
    }
   ],
   "source": [
    "\"\" # also an empty string "
   ]
  },
  {
   "cell_type": "code",
   "execution_count": 21,
   "metadata": {
    "id": "4IG987M4ySCN"
   },
   "outputs": [
    {
     "data": {
      "text/plain": [
       "'python'"
      ]
     },
     "execution_count": 21,
     "metadata": {},
     "output_type": "execute_result"
    }
   ],
   "source": [
    "'python' # 'python' as a string"
   ]
  },
  {
   "cell_type": "markdown",
   "metadata": {
    "id": "aXnm618bGx6j"
   },
   "source": [
    "#### 1.2 String Formatting\n",
    "String Formatting combines the (other)variables and string to provide meaningful output (using placeholders).\n",
    "\n",
    "Mainly there are three different ways to do string formatting:\n",
    "  1. \"%\" modulo operator\n",
    "  2. \"str.format()\"\n",
    "  3. f-string\n",
    "\n",
    "Want to learn more? Check [this](https://realpython.com/python-string-formatting/) out!"
   ]
  },
  {
   "cell_type": "markdown",
   "metadata": {
    "id": "rJ0m9y6MHztc"
   },
   "source": [
    "**str.format()**\n",
    "\n",
    "```python\n",
    "# values of str(var1) and str(var2) will be put into the first and second brackets respectively.\n",
    "'some string with {} placeholders {}.'.format(var1, var2)\n",
    "```"
   ]
  },
  {
   "cell_type": "code",
   "execution_count": null,
   "metadata": {
    "id": "lZ4b2rouIeT2"
   },
   "outputs": [],
   "source": [
    "# Example\n",
    "the_name = 'Sherlock Holmes'\n",
    "interest = 'solving crimes'\n",
    "the_age = 79.9999999 # Never going to 80\n",
    "# using positional arguments\n",
    "'My name is {}, {:.0f} years old. I love {}.'.format(the_name, the_age, interest) # What dose :.0f do?"
   ]
  },
  {
   "cell_type": "code",
   "execution_count": null,
   "metadata": {
    "id": "OkFm7BffL79t"
   },
   "outputs": [],
   "source": [
    "# using keyword arguments\n",
    "'My name is {str_name}, {str_age:.0f} years old. I love {str_interest}.'.format(str_name = the_name, str_age = the_age, str_interest = interest)"
   ]
  },
  {
   "cell_type": "markdown",
   "metadata": {
    "id": "4fbt2TJ9ylsL"
   },
   "source": [
    "**f-string**\n",
    "```python\n",
    "f'Some string with {variables inside curly brackets}.'\n",
    "```"
   ]
  },
  {
   "cell_type": "code",
   "execution_count": 22,
   "metadata": {
    "id": "0-Xs-W6CyoM0"
   },
   "outputs": [
    {
     "data": {
      "text/plain": [
       "'My name is Sherlock Holmes, 80 years old. I love solving crimes.'"
      ]
     },
     "execution_count": 22,
     "metadata": {},
     "output_type": "execute_result"
    }
   ],
   "source": [
    "# Example\n",
    "the_name = 'Sherlock Holmes'\n",
    "interest = 'solving crimes'\n",
    "the_age = 79.9999999\n",
    "f'My name is {the_name}, {the_age:.0f} years old. I love {interest}.'"
   ]
  },
  {
   "cell_type": "markdown",
   "metadata": {
    "id": "RUsomc-WJqse"
   },
   "source": [
    "**%**: more than just modulo\n",
    "```python\n",
    "'Some string with (%variable placeholder formats starting with %)' % (variables)\n",
    "```"
   ]
  },
  {
   "cell_type": "code",
   "execution_count": 23,
   "metadata": {
    "id": "70ftuoSSJ1U0"
   },
   "outputs": [
    {
     "data": {
      "text/plain": [
       "'My name is Sherlock Holmes, 80 years old. I love solving crimes.'"
      ]
     },
     "execution_count": 23,
     "metadata": {},
     "output_type": "execute_result"
    }
   ],
   "source": [
    "# Example\n",
    "the_name = 'Sherlock Holmes'\n",
    "interest = 'solving crimes'\n",
    "the_age = 79.9999999\n",
    "# substitute the placeholders in positional order using tuple\n",
    "'My name is %s, %.0f years old. I love %s.' % (the_name, the_age, interest) # what are %s and %.0f?"
   ]
  },
  {
   "cell_type": "code",
   "execution_count": 24,
   "metadata": {
    "id": "v2DddPuKMCTk"
   },
   "outputs": [
    {
     "data": {
      "text/plain": [
       "'My name is Sherlock Holmes, 80 years old. I love solving crimes.'"
      ]
     },
     "execution_count": 24,
     "metadata": {},
     "output_type": "execute_result"
    }
   ],
   "source": [
    "# substitute the placeholders according to keys of dictionary\n",
    "'My name is %(str_name)s, %(str_age).0f years old. I love %(str_interest)s.' % {'str_name': the_name, 'str_age':the_age, 'str_interest':interest}"
   ]
  },
  {
   "cell_type": "markdown",
   "metadata": {
    "id": "uLnI7VO0zuMF"
   },
   "source": [
    "#### 1.3 Retrieving / Modifying items in string\n",
    "\n",
    "Every item of a list is labeled by an index, and the index starts with 0.\n",
    "\n",
    "We can retrieve an item of a list using its index."
   ]
  },
  {
   "cell_type": "code",
   "execution_count": 25,
   "metadata": {
    "id": "VlZHuQuT0N7K"
   },
   "outputs": [],
   "source": [
    "a_string = 'some thing'"
   ]
  },
  {
   "cell_type": "code",
   "execution_count": 26,
   "metadata": {
    "id": "zfmu_DK70Y9G"
   },
   "outputs": [
    {
     "name": "stdout",
     "output_type": "stream",
     "text": [
      "s\n"
     ]
    }
   ],
   "source": [
    "print(a_string[0]) # getting the 0th character from a_string"
   ]
  },
  {
   "cell_type": "code",
   "execution_count": 27,
   "metadata": {
    "id": "_7ubAOiOTz_Z"
   },
   "outputs": [
    {
     "name": "stdout",
     "output_type": "stream",
     "text": [
      "g\n"
     ]
    }
   ],
   "source": [
    "print(a_string[-1]) # getting the last character from a_string"
   ]
  },
  {
   "cell_type": "code",
   "execution_count": 28,
   "metadata": {
    "id": "9HEeiflU0ZRn"
   },
   "outputs": [
    {
     "name": "stdout",
     "output_type": "stream",
     "text": [
      "thing\n"
     ]
    }
   ],
   "source": [
    "print(a_string[5:]) # getting the sub-string starting from index 5 to the end, this technique is called slicing"
   ]
  },
  {
   "cell_type": "code",
   "execution_count": 29,
   "metadata": {
    "id": "qJMt__J-0i2E"
   },
   "outputs": [
    {
     "name": "stdout",
     "output_type": "stream",
     "text": [
      "some\n"
     ]
    }
   ],
   "source": [
    "print(a_string[:4]) # getting the sub-string from the start up to index 3 ← BE CAREFUL! It is 3 not 4!!"
   ]
  },
  {
   "cell_type": "code",
   "execution_count": 30,
   "metadata": {
    "id": "R3vhBdSA089U"
   },
   "outputs": [
    {
     "ename": "TypeError",
     "evalue": "'str' object does not support item assignment",
     "output_type": "error",
     "traceback": [
      "\u001b[1;31m---------------------------------------------------------------------------\u001b[0m",
      "\u001b[1;31mTypeError\u001b[0m                                 Traceback (most recent call last)",
      "\u001b[1;32m<ipython-input-30-59e050f038a2>\u001b[0m in \u001b[0;36m<module>\u001b[1;34m\u001b[0m\n\u001b[1;32m----> 1\u001b[1;33m \u001b[0ma_string\u001b[0m\u001b[1;33m[\u001b[0m\u001b[1;36m4\u001b[0m\u001b[1;33m]\u001b[0m \u001b[1;33m=\u001b[0m \u001b[1;34m'a'\u001b[0m \u001b[1;31m# We want to change the space into 'a'. What will happen?\u001b[0m\u001b[1;33m\u001b[0m\u001b[1;33m\u001b[0m\u001b[0m\n\u001b[0m",
      "\u001b[1;31mTypeError\u001b[0m: 'str' object does not support item assignment"
     ]
    }
   ],
   "source": [
    "a_string[4] = 'a' # We want to change the space into 'a'. What will happen?"
   ]
  },
  {
   "cell_type": "markdown",
   "metadata": {
    "id": "R_cAgMXf1TKc"
   },
   "source": [
    "Remember, string is *immutable*. That means we could not modify the items in a string. \n",
    "\n",
    "<b><font color='red'> Question:</font></b> However, how can we change a_string from 'some thing' to 'something'?"
   ]
  },
  {
   "cell_type": "markdown",
   "metadata": {
    "id": "Ahmea2vPQr51"
   },
   "source": [
    "<b><font color='red'>Answer</font></b>"
   ]
  },
  {
   "cell_type": "code",
   "execution_count": 33,
   "metadata": {
    "id": "MasfjKXc1tg2"
   },
   "outputs": [
    {
     "data": {
      "text/plain": [
       "'something'"
      ]
     },
     "execution_count": 33,
     "metadata": {},
     "output_type": "execute_result"
    }
   ],
   "source": [
    "# Retrieve the substrings from indices between 0 to 3 and 5 to the end, CONCATENATE(+) them, and assign the value back to a_string\n",
    "a_string = 'some thing'\n",
    "a_string = a_string[:4] + a_string[5:]\n",
    "new_string = a_string\n",
    "new_string"
   ]
  },
  {
   "cell_type": "markdown",
   "metadata": {
    "id": "Hfuff6JR1s1T"
   },
   "source": [
    "#### 1.4 Built-in methods of strings\n",
    "\n",
    "There are many useful built-in methods of the string objects. <br>Lets have a look at few of them:"
   ]
  },
  {
   "cell_type": "markdown",
   "metadata": {
    "id": "z8iZtyiC8S6U"
   },
   "source": [
    "**a. upper/lower/capitalise**: transform the string to uppercase/lowercase or capitalise the string."
   ]
  },
  {
   "cell_type": "code",
   "execution_count": 34,
   "metadata": {
    "id": "63AKflAVR9c7"
   },
   "outputs": [
    {
     "data": {
      "text/plain": [
       "'LOWER-CASE'"
      ]
     },
     "execution_count": 34,
     "metadata": {},
     "output_type": "execute_result"
    }
   ],
   "source": [
    "'lower-case'.upper() # transform the string to upper case"
   ]
  },
  {
   "cell_type": "code",
   "execution_count": 35,
   "metadata": {
    "id": "znS2QxNFSIFt"
   },
   "outputs": [
    {
     "data": {
      "text/plain": [
       "'upper-case'"
      ]
     },
     "execution_count": 35,
     "metadata": {},
     "output_type": "execute_result"
    }
   ],
   "source": [
    "'UPPER-CASE'.lower() # transform the string to lower case"
   ]
  },
  {
   "cell_type": "code",
   "execution_count": 36,
   "metadata": {
    "id": "L9Vj0rHbSNu7"
   },
   "outputs": [
    {
     "data": {
      "text/plain": [
       "'Lower case. the end.'"
      ]
     },
     "execution_count": 36,
     "metadata": {},
     "output_type": "execute_result"
    }
   ],
   "source": [
    "'lower case. the end.'.capitalize() # transform the first character of the string to upper case"
   ]
  },
  {
   "cell_type": "markdown",
   "metadata": {
    "id": "Z78ajnPIR81E"
   },
   "source": [
    "**b. isdigit/isalpha/isalnum**: check if the string only contains digits, characters or digits and characters respectively."
   ]
  },
  {
   "cell_type": "code",
   "execution_count": 37,
   "metadata": {
    "id": "sNZGn4GyS_58"
   },
   "outputs": [
    {
     "data": {
      "text/plain": [
       "(True, False, False)"
      ]
     },
     "execution_count": 37,
     "metadata": {},
     "output_type": "execute_result"
    }
   ],
   "source": [
    "# check if the following strings contain digits only\n",
    "'123'.isdigit(), '123.45'.isdigit(), 'abc'.isdigit()"
   ]
  },
  {
   "cell_type": "code",
   "execution_count": 38,
   "metadata": {
    "id": "IjoaFQWVTM4L"
   },
   "outputs": [
    {
     "data": {
      "text/plain": [
       "(False, False, True)"
      ]
     },
     "execution_count": 38,
     "metadata": {},
     "output_type": "execute_result"
    }
   ],
   "source": [
    "# check if the following strings contain characters only\n",
    "'123'.isalpha(), '123.45'.isalpha(), 'abc'.isalpha()"
   ]
  },
  {
   "cell_type": "code",
   "execution_count": 39,
   "metadata": {
    "id": "VlgW1wKCTSvD"
   },
   "outputs": [
    {
     "data": {
      "text/plain": [
       "(True, False, True)"
      ]
     },
     "execution_count": 39,
     "metadata": {},
     "output_type": "execute_result"
    }
   ],
   "source": [
    "# check if the following strings contain digits and characters only, '123.45' have '.' so it's not digits and characters\n",
    "'123'.isalnum(), '123.45'.isalnum(), 'abc'.isalnum()"
   ]
  },
  {
   "cell_type": "markdown",
   "metadata": {
    "id": "LCIjukvLTiuL"
   },
   "source": [
    "**c. startswith, endswith**: check if the string starts or ends with a pattern."
   ]
  },
  {
   "cell_type": "code",
   "execution_count": 44,
   "metadata": {
    "id": "B1MRWhEPUGML"
   },
   "outputs": [
    {
     "ename": "TypeError",
     "evalue": "endswith first arg must be str or a tuple of str, not int",
     "output_type": "error",
     "traceback": [
      "\u001b[1;31m---------------------------------------------------------------------------\u001b[0m",
      "\u001b[1;31mTypeError\u001b[0m                                 Traceback (most recent call last)",
      "\u001b[1;32m<ipython-input-44-ed8f140595ab>\u001b[0m in \u001b[0;36m<module>\u001b[1;34m\u001b[0m\n\u001b[1;32m----> 1\u001b[1;33m \u001b[1;34m'FIT9136 Python'\u001b[0m\u001b[1;33m.\u001b[0m\u001b[0mstartswith\u001b[0m\u001b[1;33m(\u001b[0m\u001b[1;34m'FI'\u001b[0m\u001b[1;33m)\u001b[0m\u001b[1;33m,\u001b[0m \u001b[1;34m'FIT9136 Python'\u001b[0m\u001b[1;33m.\u001b[0m\u001b[0mendswith\u001b[0m\u001b[1;33m(\u001b[0m\u001b[1;36m6\u001b[0m\u001b[1;33m)\u001b[0m \u001b[1;31m# What will be returned? Why is that?\u001b[0m\u001b[1;33m\u001b[0m\u001b[1;33m\u001b[0m\u001b[0m\n\u001b[0m",
      "\u001b[1;31mTypeError\u001b[0m: endswith first arg must be str or a tuple of str, not int"
     ]
    }
   ],
   "source": [
    "'FIT9136 Python'.startswith('FI'), 'FIT9136 Python'.endswith(6) # What will be returned? Why is that?"
   ]
  },
  {
   "cell_type": "code",
   "execution_count": 45,
   "metadata": {
    "id": "_2PNWaL2Uixl"
   },
   "outputs": [],
   "source": [
    "# remember, you can always seek help\n",
    "?str.endswith"
   ]
  },
  {
   "cell_type": "markdown",
   "metadata": {
    "id": "qQpexfIrU0zC"
   },
   "source": [
    "**d. find**: returns the index of first occurence of the pattern we want to search."
   ]
  },
  {
   "cell_type": "code",
   "execution_count": 47,
   "metadata": {
    "id": "0vaVk7POU-Ap"
   },
   "outputs": [
    {
     "data": {
      "text/plain": [
       "(8, -1)"
      ]
     },
     "execution_count": 47,
     "metadata": {},
     "output_type": "execute_result"
    }
   ],
   "source": [
    "sentence = 'FIT9136 is so interesting.'\n",
    "sentence.find('i'), sentence.find('E') # What will be returned?"
   ]
  },
  {
   "cell_type": "markdown",
   "metadata": {
    "id": "sDe4RtVdVd1U"
   },
   "source": [
    "**e. split**: split the string based on a pattern and returns a list of tokens."
   ]
  },
  {
   "cell_type": "code",
   "execution_count": 48,
   "metadata": {
    "id": "Il_xWKDdVyhD"
   },
   "outputs": [
    {
     "data": {
      "text/plain": [
       "['FIT9136', 'is', 'so', 'interesting.']"
      ]
     },
     "execution_count": 48,
     "metadata": {},
     "output_type": "execute_result"
    }
   ],
   "source": [
    "sentence = 'FIT9136 is so interesting.'\n",
    "sentence.split()"
   ]
  },
  {
   "cell_type": "code",
   "execution_count": 51,
   "metadata": {
    "id": "JIs4WZt8V2Tr"
   },
   "outputs": [
    {
     "data": {
      "text/plain": [
       "['FIT9136', 'interesting.']"
      ]
     },
     "execution_count": 51,
     "metadata": {},
     "output_type": "execute_result"
    }
   ],
   "source": [
    "# Now we want to split by pattern ' is so '\n",
    "sentence.split(' is so ')"
   ]
  },
  {
   "cell_type": "markdown",
   "metadata": {
    "id": "NjTqcVj570i8"
   },
   "source": [
    "For the details, please refer to the [documentation](https://docs.python.org/3/library/stdtypes.html#string-methods). "
   ]
  },
  {
   "cell_type": "markdown",
   "metadata": {
    "id": "W-3W7YTNbkXS"
   },
   "source": [
    "#### 1.5 String comparison\n",
    "\n",
    "'A' is greater or 'a' is greater?"
   ]
  },
  {
   "cell_type": "code",
   "execution_count": 52,
   "metadata": {
    "id": "it5yHF9Fc2uv"
   },
   "outputs": [
    {
     "data": {
      "text/plain": [
       "False"
      ]
     },
     "execution_count": 52,
     "metadata": {},
     "output_type": "execute_result"
    }
   ],
   "source": [
    "'A' > 'a' # True or False"
   ]
  },
  {
   "cell_type": "markdown",
   "metadata": {
    "id": "weuVP1rQdCjd"
   },
   "source": [
    "In Python, strings are compared **character by character** using their [ascii codes](https://www.asciitable.com/). Now, let's try to use `ord()` function to get the integer represention of 'A' and 'a' based on the ascii table."
   ]
  },
  {
   "cell_type": "code",
   "execution_count": 53,
   "metadata": {
    "id": "3bGjcxR3dBvl"
   },
   "outputs": [
    {
     "data": {
      "text/plain": [
       "(65, 97)"
      ]
     },
     "execution_count": 53,
     "metadata": {},
     "output_type": "execute_result"
    }
   ],
   "source": [
    "ord('A'), ord('a')"
   ]
  },
  {
   "cell_type": "markdown",
   "metadata": {
    "id": "ZF6axANMoLu6"
   },
   "source": [
    "#### 1.6 String length\n",
    "\n",
    "We can obtain the **number of items** in a collective data type object using `len()` function."
   ]
  },
  {
   "cell_type": "code",
   "execution_count": 54,
   "metadata": {
    "id": "CoZ3rRzLoe-U"
   },
   "outputs": [
    {
     "data": {
      "text/plain": [
       "4"
      ]
     },
     "execution_count": 54,
     "metadata": {},
     "output_type": "execute_result"
    }
   ],
   "source": [
    "len('abcd')"
   ]
  },
  {
   "cell_type": "markdown",
   "metadata": {
    "id": "TQ7-6yDCfV-S"
   },
   "source": [
    "### 2. List\n",
    "\n",
    "\\#ordered \\#mutable\n",
    "\n",
    "```\n",
    "Index:    0   1   2   ...\n",
    "          ↓   ↓   ↓\n",
    "        ┌───┬───┬───┬\n",
    "Value:  │'a'│ 5 │'z'│ ...\n",
    "        └───┴───┴───┴\n",
    "```"
   ]
  },
  {
   "cell_type": "markdown",
   "metadata": {
    "id": "Ijvy69dCmcc8"
   },
   "source": [
    "#### 2.1 List creation"
   ]
  },
  {
   "cell_type": "code",
   "execution_count": 55,
   "metadata": {
    "id": "k0v0XSJvYyKh"
   },
   "outputs": [
    {
     "data": {
      "text/plain": [
       "[]"
      ]
     },
     "execution_count": 55,
     "metadata": {},
     "output_type": "execute_result"
    }
   ],
   "source": [
    "list() # An empty list"
   ]
  },
  {
   "cell_type": "code",
   "execution_count": 56,
   "metadata": {
    "id": "rqdS1Ia4m16l"
   },
   "outputs": [
    {
     "data": {
      "text/plain": [
       "[]"
      ]
     },
     "execution_count": 56,
     "metadata": {},
     "output_type": "execute_result"
    }
   ],
   "source": [
    "[] # Another empty list"
   ]
  },
  {
   "cell_type": "code",
   "execution_count": 57,
   "metadata": {
    "id": "coi5S6wKm3Xj"
   },
   "outputs": [
    {
     "data": {
      "text/plain": [
       "['a', 5, 'z']"
      ]
     },
     "execution_count": 57,
     "metadata": {},
     "output_type": "execute_result"
    }
   ],
   "source": [
    "['a', 5, 'z'] # A list with items"
   ]
  },
  {
   "cell_type": "markdown",
   "metadata": {
    "id": "Aq2F7RWpnWOr"
   },
   "source": [
    "#### 2.2 Retriving / Modifying item of list\n",
    "\n"
   ]
  },
  {
   "cell_type": "code",
   "execution_count": 58,
   "metadata": {
    "id": "6KYjM1AtncH1"
   },
   "outputs": [],
   "source": [
    "a_list = ['a', 5, 'z'] # remember a_list, the variable, is just a pointer to the list object created"
   ]
  },
  {
   "cell_type": "markdown",
   "metadata": {
    "id": "XTuAzNgOnlvL"
   },
   "source": [
    "Every item of a list is labeled by an **index**, and the index starts with 0.\n",
    "\n",
    "We can retrieve or modify an item of a list using its index."
   ]
  },
  {
   "cell_type": "code",
   "execution_count": 59,
   "metadata": {
    "id": "sOfJPR-Tn72H"
   },
   "outputs": [
    {
     "data": {
      "text/plain": [
       "'a'"
      ]
     },
     "execution_count": 59,
     "metadata": {},
     "output_type": "execute_result"
    }
   ],
   "source": [
    "a_list[0] # getting the 0th item from a_list → ?"
   ]
  },
  {
   "cell_type": "code",
   "execution_count": 60,
   "metadata": {
    "id": "pzsel02KoRW0"
   },
   "outputs": [
    {
     "data": {
      "text/plain": [
       "['a', 5, 'abc']"
      ]
     },
     "execution_count": 60,
     "metadata": {},
     "output_type": "execute_result"
    }
   ],
   "source": [
    "a_list[2] = 'abc' # set the item at index 2 of a_list to 'abc'\n",
    "a_list # What will a_list look like?"
   ]
  },
  {
   "cell_type": "markdown",
   "metadata": {
    "id": "ufQkoKycdL6r"
   },
   "source": [
    "**We can also use the keyword `in` to check whether an item is in a collective data type object.**"
   ]
  },
  {
   "cell_type": "code",
   "execution_count": 61,
   "metadata": {
    "id": "OWLrIAMtdAQv"
   },
   "outputs": [
    {
     "data": {
      "text/plain": [
       "True"
      ]
     },
     "execution_count": 61,
     "metadata": {},
     "output_type": "execute_result"
    }
   ],
   "source": [
    "'a' in a_list # check if 'a' is in a_list"
   ]
  },
  {
   "cell_type": "markdown",
   "metadata": {
    "id": "IQxw5F7Zhkl4"
   },
   "source": [
    "#### 2.3 List comparison\n",
    "\n",
    "What? Lists can be compared?!!!!"
   ]
  },
  {
   "cell_type": "code",
   "execution_count": 62,
   "metadata": {
    "id": "Q1O1ubtwh74H"
   },
   "outputs": [],
   "source": [
    "a = [1, 2, 3]\n",
    "b = [1, 2, 3]\n",
    "c = [3, 2, 1]"
   ]
  },
  {
   "cell_type": "code",
   "execution_count": 63,
   "metadata": {
    "id": "GzRrCtk-hs5-"
   },
   "outputs": [
    {
     "data": {
      "text/plain": [
       "True"
      ]
     },
     "execution_count": 63,
     "metadata": {},
     "output_type": "execute_result"
    }
   ],
   "source": [
    "a == b"
   ]
  },
  {
   "cell_type": "code",
   "execution_count": 64,
   "metadata": {
    "id": "r1CaOY1yh1EX"
   },
   "outputs": [
    {
     "data": {
      "text/plain": [
       "False"
      ]
     },
     "execution_count": 64,
     "metadata": {},
     "output_type": "execute_result"
    }
   ],
   "source": [
    "a == c"
   ]
  },
  {
   "cell_type": "code",
   "execution_count": 65,
   "metadata": {
    "id": "HqaTOKYPh3et"
   },
   "outputs": [
    {
     "data": {
      "text/plain": [
       "False"
      ]
     },
     "execution_count": 65,
     "metadata": {},
     "output_type": "execute_result"
    }
   ],
   "source": [
    "a is b"
   ]
  },
  {
   "cell_type": "markdown",
   "metadata": {
    "id": "cUR8Bd_riG81"
   },
   "source": [
    "When we compare two lists using `==` operator, we are comparing the **values** of two lists **item-wise**. \n",
    "\n",
    "Since lists are **ordered**, so the order of items matters! That's why `a == b` while `a != c`.\n",
    "\n",
    "On the other hand, when we compare using `is`, we are comparing the ids of two lists. Since a and b are **different lists with same items**, so **a is not b**.\n",
    "\n",
    "How about the \"greated than\" or \"smaller than\" comparisons?"
   ]
  },
  {
   "cell_type": "code",
   "execution_count": 66,
   "metadata": {
    "id": "rsjrY72iijRb"
   },
   "outputs": [
    {
     "data": {
      "text/plain": [
       "True"
      ]
     },
     "execution_count": 66,
     "metadata": {},
     "output_type": "execute_result"
    }
   ],
   "source": [
    "[1, 2, 3] < [2, 1, 3]"
   ]
  },
  {
   "cell_type": "code",
   "execution_count": 67,
   "metadata": {
    "id": "c_K_PuUWksSa"
   },
   "outputs": [
    {
     "data": {
      "text/plain": [
       "True"
      ]
     },
     "execution_count": 67,
     "metadata": {},
     "output_type": "execute_result"
    }
   ],
   "source": [
    "[1, 2, 3] < [1, 3]"
   ]
  },
  {
   "cell_type": "markdown",
   "metadata": {
    "id": "vkMGDnFtEenB"
   },
   "source": [
    "**Yes**, your thinking is right. It checks based on the element's values in order."
   ]
  },
  {
   "cell_type": "markdown",
   "metadata": {
    "id": "2_Pz3zt5JlFw"
   },
   "source": [
    "### 3. Tuple\n",
    "\n",
    "\\#ordered #immutable\n",
    "\n",
    "Tuple is exactly like list, but:\n",
    "<blockquote>\n",
    "IT IS IMMUTABLE, which means you cannot modify the items of it.\n",
    "</blockquote>"
   ]
  },
  {
   "cell_type": "markdown",
   "metadata": {
    "id": "jd_DiCjNMG3y"
   },
   "source": [
    "#### 3.1 Tuple creation"
   ]
  },
  {
   "cell_type": "code",
   "execution_count": 68,
   "metadata": {
    "id": "icoJ8qxVMLH_"
   },
   "outputs": [
    {
     "data": {
      "text/plain": [
       "()"
      ]
     },
     "execution_count": 68,
     "metadata": {},
     "output_type": "execute_result"
    }
   ],
   "source": [
    "tuple()"
   ]
  },
  {
   "cell_type": "code",
   "execution_count": 69,
   "metadata": {
    "id": "Od-KGamTMPo2"
   },
   "outputs": [
    {
     "data": {
      "text/plain": [
       "()"
      ]
     },
     "execution_count": 69,
     "metadata": {},
     "output_type": "execute_result"
    }
   ],
   "source": [
    "()"
   ]
  },
  {
   "cell_type": "code",
   "execution_count": 70,
   "metadata": {
    "id": "tL_eUICbMTM-"
   },
   "outputs": [
    {
     "data": {
      "text/plain": [
       "1"
      ]
     },
     "execution_count": 70,
     "metadata": {},
     "output_type": "execute_result"
    }
   ],
   "source": [
    "(1) # Is this a tuple? How can we create a tuple with only one element?"
   ]
  },
  {
   "cell_type": "markdown",
   "metadata": {
    "id": "0FyouUv_MBlF"
   },
   "source": [
    "<b><font color='red'> Question:</font></b> Can we change a tuple from `(1,[1,2,3],2)` to `(1,[1,2],2)`?"
   ]
  },
  {
   "cell_type": "markdown",
   "metadata": {
    "id": "yBYlfAbZM7rW"
   },
   "source": [
    "The answer is **YES**, because we are modifying the item of a list instead of the item of a tuple."
   ]
  },
  {
   "cell_type": "code",
   "execution_count": null,
   "metadata": {
    "id": "ijgm9XuyM3bf"
   },
   "outputs": [],
   "source": [
    "a_tuple = (1,[1,2,3],2)\n",
    "a_tuple[1].pop(-1) # remove the last element from the item in the 1st index of the tuple\n",
    "a_tuple"
   ]
  },
  {
   "cell_type": "markdown",
   "metadata": {
    "id": "vy5DH2lxogdb"
   },
   "source": [
    "Actually, the item at index 1 of the tuple is only a pointer to the list. The pointer remains unchanged here!"
   ]
  },
  {
   "cell_type": "markdown",
   "metadata": {
    "id": "A3OkP4H5-maN"
   },
   "source": [
    "### 4. Set\n",
    "\n",
    "\\#unordered #mutable #uniqueItems\n",
    "```\n",
    "╭──────────────╮\n",
    "│ 'a'    3     │\n",
    "│   '5'   123.4│\n",
    "│ 17.5  'str'  │\n",
    "│    79.6 72.1 │\n",
    "╰──────────────╯\n",
    "```"
   ]
  },
  {
   "cell_type": "markdown",
   "metadata": {
    "id": "O9pp0NdjHsPx"
   },
   "source": [
    "#### 4.1 Set creation"
   ]
  },
  {
   "cell_type": "code",
   "execution_count": null,
   "metadata": {
    "id": "p-m0sK4rGVaS"
   },
   "outputs": [],
   "source": [
    "set()"
   ]
  },
  {
   "cell_type": "code",
   "execution_count": null,
   "metadata": {
    "id": "zxXV2-5XHvW3"
   },
   "outputs": [],
   "source": [
    "{1, 3, 5}"
   ]
  },
  {
   "cell_type": "code",
   "execution_count": null,
   "metadata": {
    "id": "w_TP5hbMHzbe"
   },
   "outputs": [],
   "source": [
    "set([1,3,5]) # convert a list to a set"
   ]
  },
  {
   "cell_type": "code",
   "execution_count": null,
   "metadata": {
    "id": "faQqevMsH_pd"
   },
   "outputs": [],
   "source": [
    "{} # how about this?"
   ]
  },
  {
   "cell_type": "code",
   "execution_count": null,
   "metadata": {
    "id": "eTIvo85YIJyS"
   },
   "outputs": [],
   "source": [
    "type({}) # let's find out the data type of {}"
   ]
  },
  {
   "cell_type": "markdown",
   "metadata": {
    "id": "FjUr0WvyJcP5"
   },
   "source": [
    "However, please note that **all items in set should be immutable**."
   ]
  },
  {
   "cell_type": "markdown",
   "metadata": {
    "id": "WIxKkmlCIXpQ"
   },
   "source": [
    "#### 4.2 Retrieving/Modifying item of set"
   ]
  },
  {
   "cell_type": "code",
   "execution_count": null,
   "metadata": {
    "id": "l57uhUoVIkWc"
   },
   "outputs": [],
   "source": [
    "a_set = {1, 3, 5}"
   ]
  },
  {
   "cell_type": "markdown",
   "metadata": {
    "id": "9BSSQ2SLJELQ"
   },
   "source": [
    "What do the following code blocks do? "
   ]
  },
  {
   "cell_type": "code",
   "execution_count": null,
   "metadata": {
    "id": "0wpM9huDIzKp"
   },
   "outputs": [],
   "source": [
    "a_set[0]"
   ]
  },
  {
   "cell_type": "code",
   "execution_count": null,
   "metadata": {
    "id": "f57XAIAzI44B"
   },
   "outputs": [],
   "source": [
    "a_set.pop() # What is left in a_set?"
   ]
  },
  {
   "cell_type": "code",
   "execution_count": null,
   "metadata": {
    "id": "fkeE-fAyKJIA"
   },
   "outputs": [],
   "source": [
    "a_set.add(5) # Add 5 to a_set. What is left in a_set?"
   ]
  },
  {
   "cell_type": "markdown",
   "metadata": {
    "id": "xD7JkMuhJKp4"
   },
   "source": [
    "#### 4.3 Set operations\n",
    "\n",
    "There are 4 handy operations exclusive to set data type:\n",
    "1. Union\n",
    "2. Difference\n",
    "3. Intersection\n",
    "4. Symmetric Difference"
   ]
  },
  {
   "cell_type": "code",
   "execution_count": 1,
   "metadata": {
    "id": "B86AYwomWYGO"
   },
   "outputs": [
    {
     "name": "stdout",
     "output_type": "stream",
     "text": [
      "Image source: https://www.learnbyexample.org/\n"
     ]
    },
    {
     "data": {
      "text/html": [
       "<img src=\"https://www.learnbyexample.org/wp-content/uploads/python/Python-Set-Operatioons.png\"/>"
      ],
      "text/plain": [
       "<IPython.core.display.Image object>"
      ]
     },
     "execution_count": 1,
     "metadata": {},
     "output_type": "execute_result"
    }
   ],
   "source": [
    "from IPython.display import Image\n",
    "print('Image source: https://www.learnbyexample.org/')\n",
    "Image(url='https://www.learnbyexample.org/wp-content/uploads/python/Python-Set-Operatioons.png')"
   ]
  },
  {
   "cell_type": "markdown",
   "metadata": {
    "id": "o90rQ22pWyxL"
   },
   "source": [
    "**1) Union**\n",
    "\n",
    "When we want to get all the elements in set A and set B, then we can use `union()` or `|` operator."
   ]
  },
  {
   "cell_type": "code",
   "execution_count": null,
   "metadata": {
    "id": "-6V4bNqIWpPO"
   },
   "outputs": [],
   "source": [
    "set_a = {1,3,5,2,4,6}\n",
    "set_b = {2,4,6,7,9,11}\n",
    "\n",
    "# set_a.union(set_b)\n",
    "set_a | set_b"
   ]
  },
  {
   "cell_type": "markdown",
   "metadata": {
    "id": "Pn4SR_xJXW15"
   },
   "source": [
    "**2) Difference**\n",
    "\n",
    "When we want to get all the elements in set A that do not appear in set B, then we can use `difference()` or `-` operator."
   ]
  },
  {
   "cell_type": "code",
   "execution_count": null,
   "metadata": {
    "id": "F-1sRkNxXkEk"
   },
   "outputs": [],
   "source": [
    "set_a = {1,3,5,2,4,6}\n",
    "set_b = {2,4,6,7,9,11}\n",
    "\n",
    "# set_a.difference(set_b)\n",
    "set_a - set_b"
   ]
  },
  {
   "cell_type": "markdown",
   "metadata": {
    "id": "L-DJn0rAXtgV"
   },
   "source": [
    "**3) Intersection**\n",
    "\n",
    "When we want to get all the elements that appears in both set A and set B, then we can use `intersection()` or `&` operator."
   ]
  },
  {
   "cell_type": "code",
   "execution_count": null,
   "metadata": {
    "id": "1hBnrFRVX2Kx"
   },
   "outputs": [],
   "source": [
    "set_a = {1,3,5,2,4,6}\n",
    "set_b = {2,4,6,7,9,11}\n",
    "\n",
    "# set_a.intersect(set_b)\n",
    "set_a & set_b"
   ]
  },
  {
   "cell_type": "markdown",
   "metadata": {
    "id": "2dHwHOkiYA9Q"
   },
   "source": [
    "**4) Symmetric Difference**\n",
    "\n",
    "When we want to get all the elements that appears either in set A or set B (exclusively), then we can use `symmetric_difference()` or `^` operator."
   ]
  },
  {
   "cell_type": "code",
   "execution_count": null,
   "metadata": {
    "id": "suRFHlljYCBP"
   },
   "outputs": [],
   "source": [
    "set_a = {1,3,5,2,4,6}\n",
    "set_b = {2,4,6,7,9,11}\n",
    "\n",
    "# set_a.symmetric_difference(set_b)\n",
    "set_a ^ set_b"
   ]
  },
  {
   "cell_type": "markdown",
   "metadata": {
    "id": "q0fCbDPmY4Ch"
   },
   "source": [
    "<b><font color='red'> Task:</font></b> How can we check if a super long string contains all 26 alphabets or not? If not, which alphabet(s) is/are missing?"
   ]
  },
  {
   "cell_type": "code",
   "execution_count": 71,
   "metadata": {
    "id": "_lDbJdLhZCTy"
   },
   "outputs": [
    {
     "data": {
      "text/plain": [
       "{'b', 'h', 'j', 'k', 'w', 'y', 'z'}"
      ]
     },
     "execution_count": 71,
     "metadata": {},
     "output_type": "execute_result"
    }
   ],
   "source": [
    "import string\n",
    "the_string = 'Supercalifragilisticexpialidocious$&#@*() Pneumonoultramicroscopicsilicovolcanoconiosis +-*/&#Q$*^&*@#$*&^'\n",
    "\n",
    "unique_char = set(the_string.lower()) & set(string.ascii_lowercase) # get all unique characters from the_string(in lower-case) and filter out all the symbols\n",
    "set(string.ascii_lowercase) - unique_char # getting the missing alphabets by subtracting the unique characters in the string from the full set of lower-case alphoabets"
   ]
  },
  {
   "cell_type": "markdown",
   "metadata": {
    "id": "gWzLILsPCS03"
   },
   "source": [
    "### 5. Dictionary\n",
    "\n",
    "\\#unordered #mutable\n",
    "\n",
    "Remember every item in a list is labeled by the index? In dictionary, every item('value') is labeled by a 'key'.\n",
    "\n",
    "```\n",
    "key  value\n",
    "┌───┬───┐\n",
    "│ 1 │'a'│\n",
    "├───┼───┤\n",
    "│'a'│ 1 │\n",
    "├───┼───┤\n",
    "│'t'│ 9 │\n",
    "├───┼───┤\n",
    "    ⋮\n",
    "```"
   ]
  },
  {
   "cell_type": "markdown",
   "metadata": {
    "id": "lTaHIn9REEMG"
   },
   "source": [
    "#### 5.1 Dictionary creation"
   ]
  },
  {
   "cell_type": "code",
   "execution_count": 72,
   "metadata": {
    "id": "u6JZuBB5ZPZ_"
   },
   "outputs": [
    {
     "data": {
      "text/plain": [
       "{}"
      ]
     },
     "execution_count": 72,
     "metadata": {},
     "output_type": "execute_result"
    }
   ],
   "source": [
    "dict()"
   ]
  },
  {
   "cell_type": "code",
   "execution_count": 73,
   "metadata": {
    "id": "M5DYkAScEJbk"
   },
   "outputs": [
    {
     "data": {
      "text/plain": [
       "{}"
      ]
     },
     "execution_count": 73,
     "metadata": {},
     "output_type": "execute_result"
    }
   ],
   "source": [
    "{}"
   ]
  },
  {
   "cell_type": "code",
   "execution_count": 74,
   "metadata": {
    "id": "mHWgyV9sEK2i"
   },
   "outputs": [
    {
     "data": {
      "text/plain": [
       "{1: 'a', 'a': 1, 't': 9}"
      ]
     },
     "execution_count": 74,
     "metadata": {},
     "output_type": "execute_result"
    }
   ],
   "source": [
    "# every item is a key-value pair\n",
    "{1: 'a', \n",
    " 'a': 1, \n",
    " 't': 9} "
   ]
  },
  {
   "cell_type": "code",
   "execution_count": 75,
   "metadata": {
    "id": "38SgSGqLEUn9"
   },
   "outputs": [
    {
     "data": {
      "text/plain": [
       "{1: 'a', 'a': 1, 't': 9}"
      ]
     },
     "execution_count": 75,
     "metadata": {},
     "output_type": "execute_result"
    }
   ],
   "source": [
    "# it can also be created by converting a list of tuples or list of lists\n",
    "# however, each inner tuple/list should only contain 2 items\n",
    "# the first item will be the 'key' and the second item will be the 'value'\n",
    "dict([(1,'a'),('a',1),('t',9)]) "
   ]
  },
  {
   "cell_type": "code",
   "execution_count": 76,
   "metadata": {
    "id": "l67SxeASY_s5"
   },
   "outputs": [
    {
     "data": {
      "text/plain": [
       "{1: 'b'}"
      ]
     },
     "execution_count": 76,
     "metadata": {},
     "output_type": "execute_result"
    }
   ],
   "source": [
    "dict([(1,'a'),(1,'b')]) # what will be the resulting dictionary? "
   ]
  },
  {
   "cell_type": "markdown",
   "metadata": {
    "id": "fNMoZUqmUgIi"
   },
   "source": [
    "#### 5.2 Retrieving/Modifying item of dictionary"
   ]
  },
  {
   "cell_type": "code",
   "execution_count": 77,
   "metadata": {
    "id": "ksz_geLtE7bD"
   },
   "outputs": [],
   "source": [
    "a_dict = {'a':1,'b':2,'c':3}"
   ]
  },
  {
   "cell_type": "code",
   "execution_count": 81,
   "metadata": {
    "id": "EvYJYbG-YHtq"
   },
   "outputs": [
    {
     "data": {
      "text/plain": [
       "3"
      ]
     },
     "execution_count": 81,
     "metadata": {},
     "output_type": "execute_result"
    }
   ],
   "source": [
    "a_dict['a'] # 'a' is the key of value 1, this will return 1"
   ]
  },
  {
   "cell_type": "code",
   "execution_count": 79,
   "metadata": {
    "id": "8y9mXu1eYVNH"
   },
   "outputs": [],
   "source": [
    "a_dict['a'] = 3 # modifying the value with key 'a' to 3"
   ]
  },
  {
   "cell_type": "code",
   "execution_count": 80,
   "metadata": {
    "id": "3fbMBMH2YgPh"
   },
   "outputs": [
    {
     "ename": "KeyError",
     "evalue": "'d'",
     "output_type": "error",
     "traceback": [
      "\u001b[1;31m---------------------------------------------------------------------------\u001b[0m",
      "\u001b[1;31mKeyError\u001b[0m                                  Traceback (most recent call last)",
      "\u001b[1;32m<ipython-input-80-c008b5909db1>\u001b[0m in \u001b[0;36m<module>\u001b[1;34m\u001b[0m\n\u001b[1;32m----> 1\u001b[1;33m \u001b[0ma_dict\u001b[0m\u001b[1;33m[\u001b[0m\u001b[1;34m'd'\u001b[0m\u001b[1;33m]\u001b[0m \u001b[1;31m# what will be returned?\u001b[0m\u001b[1;33m\u001b[0m\u001b[1;33m\u001b[0m\u001b[0m\n\u001b[0m",
      "\u001b[1;31mKeyError\u001b[0m: 'd'"
     ]
    }
   ],
   "source": [
    "a_dict['d'] # what will be returned? "
   ]
  },
  {
   "cell_type": "code",
   "execution_count": 82,
   "metadata": {
    "id": "8DxHIYtrYpJ_"
   },
   "outputs": [
    {
     "data": {
      "text/plain": [
       "True"
      ]
     },
     "execution_count": 82,
     "metadata": {},
     "output_type": "execute_result"
    }
   ],
   "source": [
    "'a' in a_dict # check whether 'a' is one of the **keys** of a_dict"
   ]
  },
  {
   "cell_type": "code",
   "execution_count": 83,
   "metadata": {
    "id": "S7RjVMOAgjTH"
   },
   "outputs": [
    {
     "data": {
      "text/plain": [
       "dict_items([('a', 3), ('b', 2), ('c', 3)])"
      ]
     },
     "execution_count": 83,
     "metadata": {},
     "output_type": "execute_result"
    }
   ],
   "source": [
    "a_dict.items() # get all key-value pairs as a list of tuple"
   ]
  },
  {
   "cell_type": "code",
   "execution_count": 84,
   "metadata": {
    "id": "m6nD0xFwgozD"
   },
   "outputs": [
    {
     "data": {
      "text/plain": [
       "dict_keys(['a', 'b', 'c'])"
      ]
     },
     "execution_count": 84,
     "metadata": {},
     "output_type": "execute_result"
    }
   ],
   "source": [
    "a_dict.keys() # get a list of keys of a_dict"
   ]
  },
  {
   "cell_type": "code",
   "execution_count": 85,
   "metadata": {
    "id": "ygCJ2UfmgwTf"
   },
   "outputs": [
    {
     "data": {
      "text/plain": [
       "dict_values([3, 2, 3])"
      ]
     },
     "execution_count": 85,
     "metadata": {},
     "output_type": "execute_result"
    }
   ],
   "source": [
    "# how about getting all values from a_dict?\n",
    "a_dict.values()"
   ]
  },
  {
   "cell_type": "markdown",
   "metadata": {
    "id": "veI7tzLGpvl3"
   },
   "source": [
    "### 6. Discussion"
   ]
  },
  {
   "cell_type": "markdown",
   "metadata": {
    "id": "L3gTsV-2UALi"
   },
   "source": [
    "Below is a small summary of properties of aforementioned collective data types:\n",
    "\n",
    "Properties | List | Tuple | String | Set | Dictionary \n",
    "--- | --- | --- | --- | --- | ---\n",
    "Mutable (Able to modify item after creation) | True | False | False | True | True\n",
    "Ordered (Values associated with indices) | True | True | True | False | False\n",
    "Allow Duplicate Values | True | True | True | False | True\n",
    "Key-value pair | False | False | False | False | True"
   ]
  },
  {
   "cell_type": "markdown",
   "metadata": {
    "id": "xGfvjEAqXdxV"
   },
   "source": [
    "**[OPTIONAL]**:\n",
    "\n",
    "It is interesting to see the effect of searching an item from these collective data types based on the time/speed of access. \n",
    "\n",
    "Let us try to run the below code and see the effect."
   ]
  },
  {
   "cell_type": "markdown",
   "metadata": {
    "id": "0vwFEh5HYmMa"
   },
   "source": [
    "#### 6.1 Searching an item from a set"
   ]
  },
  {
   "cell_type": "code",
   "execution_count": 86,
   "metadata": {
    "id": "LoUaJee1X4DW"
   },
   "outputs": [
    {
     "name": "stdout",
     "output_type": "stream",
     "text": [
      "31.9 ns ± 0.2 ns per loop (mean ± std. dev. of 7 runs, 10000000 loops each)\n"
     ]
    }
   ],
   "source": [
    "a_set = set([1,3,5])\n",
    "%timeit 6 in a_set"
   ]
  },
  {
   "cell_type": "markdown",
   "metadata": {
    "id": "fyqHOV6EYu0J"
   },
   "source": [
    "#### 6.2 Searching an item from a list"
   ]
  },
  {
   "cell_type": "code",
   "execution_count": 87,
   "metadata": {
    "id": "Z-YDAOiJYPYs"
   },
   "outputs": [
    {
     "name": "stdout",
     "output_type": "stream",
     "text": [
      "52.5 ns ± 0.392 ns per loop (mean ± std. dev. of 7 runs, 10000000 loops each)\n"
     ]
    }
   ],
   "source": [
    "a_list = [1,3,5]\n",
    "%timeit 6 in a_list"
   ]
  },
  {
   "cell_type": "markdown",
   "metadata": {
    "id": "m9uFVd4RYyXp"
   },
   "source": [
    "#### 6.3 Searching a key from a dictionary"
   ]
  },
  {
   "cell_type": "code",
   "execution_count": 88,
   "metadata": {
    "id": "BR0uAWMvY01s"
   },
   "outputs": [
    {
     "name": "stdout",
     "output_type": "stream",
     "text": [
      "32 ns ± 0.245 ns per loop (mean ± std. dev. of 7 runs, 10000000 loops each)\n"
     ]
    }
   ],
   "source": [
    "a_dict = {1:'a',3:'b',5:'c'}\n",
    "%timeit 6 in a_dict"
   ]
  },
  {
   "cell_type": "markdown",
   "metadata": {
    "id": "Jc6QcS6iZ3PS"
   },
   "source": [
    "#### 6.4 Searching a pattern from a string"
   ]
  },
  {
   "cell_type": "code",
   "execution_count": 89,
   "metadata": {
    "id": "VhxlTs75aAuO"
   },
   "outputs": [
    {
     "name": "stdout",
     "output_type": "stream",
     "text": [
      "31.3 ns ± 0.0711 ns per loop (mean ± std. dev. of 7 runs, 10000000 loops each)\n"
     ]
    }
   ],
   "source": [
    "a_string = '135'\n",
    "%timeit '6' in a_string"
   ]
  },
  {
   "cell_type": "markdown",
   "metadata": {
    "id": "jIu2jrSPZylj"
   },
   "source": [
    "Based on the above outputs, we can say that searching an item in a **list** is much longer than other collective data types. It is because of the difference in the implementation between **list** and other data types. \n",
    "\n",
    "For more information, you can refer to the time complexities of the algorithms used in search operations:\n",
    "1. [linear search](https://en.wikipedia.org/wiki/Linear_search) for list\n",
    "2. searching in [hash table](https://en.wikipedia.org/wiki/Hash_table) for set and dictionary\n",
    "3. [Two-way string-matching algorithm](https://en.wikipedia.org/wiki/Two-way_string-matching_algorithm) for string"
   ]
  },
  {
   "cell_type": "markdown",
   "metadata": {
    "id": "hMtCvLVNxNe8"
   },
   "source": [
    "### 7. In-class Practices"
   ]
  },
  {
   "cell_type": "markdown",
   "metadata": {
    "heading_collapsed": true,
    "id": "IM_qBNbYZb4v"
   },
   "source": [
    "#### 7.1 Combine Dictionaries"
   ]
  },
  {
   "cell_type": "markdown",
   "metadata": {
    "hidden": true,
    "id": "wPyn20ZaZb4v"
   },
   "source": [
    "Write a Python script to concatenate following dictionaries to create a new one.\n",
    "\n",
    "<br>\n",
    "\n",
    "    Sample Dictionary:\n",
    "    dic1={'one':10, 'two':20}\n",
    "    dic2={'three':30, 'four':40}\n",
    "    dic3={'five':50,'six':60}\n",
    "\n",
    "    Expected Result : {'one': 10, 'two': 20, 'three': 30, 'four': 40, 'five': 50, 'six': 60}\n",
    "\n",
    "Hint: try `?dict.update`"
   ]
  },
  {
   "cell_type": "markdown",
   "metadata": {
    "heading_collapsed": true,
    "id": "gd4fzb-_Zb40"
   },
   "source": [
    "<b><font color='red'>Solution</font></b>"
   ]
  },
  {
   "cell_type": "code",
   "execution_count": 91,
   "metadata": {
    "ExecuteTime": {
     "end_time": "2021-03-17T01:03:13.575820Z",
     "start_time": "2021-03-17T01:03:13.556237Z"
    },
    "hidden": true,
    "id": "KS_GgLUbZb41"
   },
   "outputs": [],
   "source": [
    "# define the dictionaries\n",
    "dic1={'one':10, 'two':20}\n",
    "dic2={'three':30, 'four':40}\n",
    "dic3={'five':50,'six':60}"
   ]
  },
  {
   "cell_type": "code",
   "execution_count": 92,
   "metadata": {
    "id": "jFBD4OfE1lqD"
   },
   "outputs": [
    {
     "name": "stdout",
     "output_type": "stream",
     "text": [
      "dict 4:  {'one': 10, 'two': 20, 'three': 30, 'four': 40, 'five': 50, 'six': 60}\n"
     ]
    }
   ],
   "source": [
    "# solution 1 - the straight-forward way\n",
    "# define a new empty dictionary\n",
    "dic4 = {}\n",
    "\n",
    "dic4.update(dic1) # update the key-value pairs in dic4 with the items of dic1\n",
    "dic4.update(dic2)\n",
    "dic4.update(dic3)\n",
    "\n",
    "print(\"dict 4: \",dic4)"
   ]
  },
  {
   "cell_type": "code",
   "execution_count": 5,
   "metadata": {
    "id": "i9y3BL1z2Pyz"
   },
   "outputs": [
    {
     "name": "stdout",
     "output_type": "stream",
     "text": [
      "dict 4:  {'one': 10, 'two': 20, 'three': 30, 'four': 40, 'five': 50, 'six': 60}\n"
     ]
    }
   ],
   "source": [
    "# solution 2 - using loop\n",
    "# define a new empty dictionary\n",
    "dic4 = {}\n",
    "\n",
    "# iterate through a tuple of dictionaries\n",
    "for d in (dic1, dic2, dic3):\n",
    "    # update the key-value pairs in dic4 with dic1, dic2 and dic3 in 1st, 2nd and 3rd iteration respectively\n",
    "    dic4.update(d)\n",
    "\n",
    "print(\"dict 4: \",dic4)"
   ]
  },
  {
   "cell_type": "code",
   "execution_count": 7,
   "metadata": {
    "id": "tbM2vz_G1y34"
   },
   "outputs": [
    {
     "name": "stdout",
     "output_type": "stream",
     "text": [
      "dict 4:  {'one': 10, 'two': 20, 'three': 30, 'four': 40, 'five': 50, 'six': 60}\n"
     ]
    }
   ],
   "source": [
    "# solution 3 - using kwargs(keyword arguments)\n",
    "dic4 = dict(**dic1, **dic2, **dic3)\n",
    "\n",
    "\"\"\"\n",
    "   dict(**dic1,         **dic2,            **dic3         )\n",
    "=  dict(one=10, two=20, three=30, four=40, five=50, six=60)\n",
    "\"\"\"\n",
    "\n",
    "print(\"dict 4: \",dic4)"
   ]
  },
  {
   "cell_type": "code",
   "execution_count": null,
   "metadata": {
    "id": "60cQ1i7Q4K24"
   },
   "outputs": [],
   "source": [
    "# dict(one=10, two=20, three=30, four=40, five=50, six=60)"
   ]
  },
  {
   "cell_type": "markdown",
   "metadata": {
    "heading_collapsed": true,
    "id": "rI_Rvur8aNNE"
   },
   "source": [
    "#### 7.2 convert list into dictionary"
   ]
  },
  {
   "cell_type": "markdown",
   "metadata": {
    "hidden": true,
    "id": "dO4nzVgJaNNE"
   },
   "source": [
    "Write a python code to combine the following two list into a dictionary. \n",
    "\n",
    "\n",
    "    Sample List:\n",
    "    keys = ['zero', 'one', 'two']\n",
    "    values = [0, 1, 2]\n",
    "    Expected Result :{'zero': 0, 'one': 1, 'two': 2}\n",
    "\n",
    "Hint: try `?zip`"
   ]
  },
  {
   "cell_type": "markdown",
   "metadata": {
    "heading_collapsed": true,
    "id": "nHnSYLTK6jgG"
   },
   "source": [
    "<b><font color='red'>Solution</font></b>"
   ]
  },
  {
   "cell_type": "code",
   "execution_count": 93,
   "metadata": {
    "hidden": true,
    "id": "9ecPXhQTaNNE"
   },
   "outputs": [
    {
     "name": "stdout",
     "output_type": "stream",
     "text": [
      "{'zero': 0, 'one': 1, 'two': 2}\n"
     ]
    }
   ],
   "source": [
    "# define 2 lists\n",
    "keys = ['zero', 'one', 'two']\n",
    "values = [0, 1, 2]\n",
    "# using zip function to combine two lists itemwise and convert to dictionary\n",
    "sampleDict = dict(zip(keys, values))\n",
    "print(sampleDict)"
   ]
  },
  {
   "cell_type": "markdown",
   "metadata": {
    "heading_collapsed": true,
    "id": "BuYzwWS-aNNF"
   },
   "source": [
    "#### 7.3 List Merging"
   ]
  },
  {
   "cell_type": "markdown",
   "metadata": {
    "hidden": true,
    "id": "BRvl7g9kaNNF"
   },
   "source": [
    "There are two lists, and your final goal is to merge these two lists. Before joining, your manager asks you to save the **odd** indices from the first elements, and **even** indices elements into two lists and then combine them. \n",
    "<br> \n",
    "\n",
    "    list1 = [2,6,4,8,9,10,15,17,20,22]\n",
    "    list2 = [5,6,3,27,16,19,10,26,33,80]\n",
    "<br>\n",
    "\n",
    "    Expected output:\n",
    "    Element at odd-index positions from list1\n",
    "    [6, 8, 10, 17, 22]\n",
    "    Element at even-index positions from list2\n",
    "    [5, 3, 16, 10, 33]\n",
    "    Printing Final third list\n",
    "    [6, 8, 10, 17, 22, 5, 3, 16, 10, 33]\n",
    "\n",
    "Hint: try `?list.extend` and list slicing"
   ]
  },
  {
   "cell_type": "markdown",
   "metadata": {
    "heading_collapsed": true,
    "id": "YdNKdDyq_Nqw"
   },
   "source": [
    "<b><font color='red'>Solution</font></b>"
   ]
  },
  {
   "cell_type": "code",
   "execution_count": 94,
   "metadata": {
    "hidden": true,
    "id": "lz0hTlRbaNNF"
   },
   "outputs": [
    {
     "name": "stdout",
     "output_type": "stream",
     "text": [
      "Element at odd-index positions from list1\n",
      "[6, 8, 10, 17, 22]\n",
      "Element at even-index positions from list2\n",
      "[5, 3, 16, 10, 33]\n",
      "Printing Final third list\n",
      "[6, 8, 10, 17, 22, 5, 3, 16, 10, 33]\n"
     ]
    }
   ],
   "source": [
    "# define 2 lists\n",
    "list1 = [2,6,4,8,9,10,15,17,20, 22]\n",
    "list2 = [5,6,3,27,16,19,10,26,33,80]\n",
    "#create a empty list to store the merged list\n",
    "list3 = list()\n",
    "\n",
    "# geting odd-indexed item using list slicing\n",
    "oddElements = list1[1::2]\n",
    "print(\"Element at odd-index positions from list1\")\n",
    "print(oddElements)\n",
    "\n",
    "# geting even-indexed item using list slicing\n",
    "evenElement = list2[0::2]\n",
    "print(\"Element at even-index positions from list2\")\n",
    "print(evenElement)\n",
    "\n",
    "# display the final odd,even index list and merged list.\n",
    "print(\"Printing Final third list\")\n",
    "list3.extend(oddElements)\n",
    "list3.extend(evenElement)\n",
    "print(list3)"
   ]
  },
  {
   "cell_type": "markdown",
   "metadata": {
    "id": "OvSuIYMpvAJe"
   },
   "source": [
    "## Exercise\n",
    "\n",
    "Now, try to write the code and add comments for the following questions.\n",
    "\n",
    "*You only need to use the techniques learnt in this notebook to complete the tasks*"
   ]
  },
  {
   "cell_type": "markdown",
   "metadata": {
    "heading_collapsed": true,
    "id": "WPtXZNIHaNNF"
   },
   "source": [
    "### Task A: list certain value in a list"
   ]
  },
  {
   "cell_type": "markdown",
   "metadata": {
    "hidden": true,
    "id": "yvMOCSIiaNNF"
   },
   "source": [
    "There is a nested list. Your task is to print the z in the string of ‘baz’. Please write the code to list the ‘z’. \n",
    "<br>\n",
    "\n",
    "    x = [10, [3.141, 20, [30, 'baz', 2.718]], 'foo'] \n"
   ]
  },
  {
   "cell_type": "markdown",
   "metadata": {
    "heading_collapsed": true,
    "id": "X8fKlyuS_qtG"
   },
   "source": [
    "<b><font color='red'>Solution</font></b>"
   ]
  },
  {
   "cell_type": "code",
   "execution_count": 95,
   "metadata": {
    "hidden": true,
    "id": "1yyBGn_MaNNF"
   },
   "outputs": [
    {
     "data": {
      "text/plain": [
       "'z'"
      ]
     },
     "execution_count": 95,
     "metadata": {},
     "output_type": "execute_result"
    }
   ],
   "source": [
    "# define the nested list\n",
    "x = [10, [3.141, 20, [30, 'baz', 2.718]], 'foo']\n",
    "\n",
    "\n",
    "\n",
    "x[1][2][1][2]\n",
    "          "
   ]
  },
  {
   "cell_type": "markdown",
   "metadata": {
    "heading_collapsed": true,
    "id": "y1KyWQvyaNNG"
   },
   "source": [
    "### Task B: Access to the dictionary value"
   ]
  },
  {
   "cell_type": "markdown",
   "metadata": {
    "hidden": true,
    "id": "5sMfyXbbaNNG"
   },
   "source": [
    "There is one interview test ask you to write the code to access the value of marks of chemistry subject\n",
    "<br>\n",
    "\n",
    "    SampDict={'Class': {'Student' : {'name': 'Mike', 'Marks': {'physics' : 80, 'chemistry':70}}}}\n"
   ]
  },
  {
   "cell_type": "code",
   "execution_count": 23,
   "metadata": {
    "hidden": true,
    "id": "ByYkklaRaNNG"
   },
   "outputs": [
    {
     "name": "stdout",
     "output_type": "stream",
     "text": [
      "70\n"
     ]
    }
   ],
   "source": [
    "#define dictionary\n",
    "SampDict={'Class': {'Student' : {'name': 'Mike', 'Marks': {'physics' : 80, 'chemistry':70}}}}\n",
    "#display chemistry subject marks\n",
    "print(SampDict['Class']['Student']['Marks']['chemistry'])\n"
   ]
  },
  {
   "cell_type": "code",
   "execution_count": 96,
   "metadata": {},
   "outputs": [
    {
     "ename": "SyntaxError",
     "evalue": "invalid syntax (<ipython-input-96-e9c3fe617dc7>, line 1)",
     "output_type": "error",
     "traceback": [
      "\u001b[1;36m  File \u001b[1;32m\"<ipython-input-96-e9c3fe617dc7>\"\u001b[1;36m, line \u001b[1;32m1\u001b[0m\n\u001b[1;33m    {'name':'Maek','Mike'}\u001b[0m\n\u001b[1;37m                         ^\u001b[0m\n\u001b[1;31mSyntaxError\u001b[0m\u001b[1;31m:\u001b[0m invalid syntax\n"
     ]
    }
   ],
   "source": [
    "{'name':'Maek','Mike':}"
   ]
  },
  {
   "cell_type": "markdown",
   "metadata": {
    "id": "T-4aAwvbQvqp"
   },
   "source": [
    "### Task C: Calculator\n",
    "\n",
    "a) Write a python code that stores two integer numbers as ‘x’ and ‘y’, then performs the following operations: +,- ,÷,×,mod,x sin(y). \n",
    "- Ensure that your statements print in a way that isn’t ambiguous. \n",
    "- At the end print the types of both x and y."
   ]
  },
  {
   "cell_type": "code",
   "execution_count": 97,
   "metadata": {
    "id": "hS8oXxXKRH4B"
   },
   "outputs": [
    {
     "name": "stdout",
     "output_type": "stream",
     "text": [
      "x:1\n",
      "y:2\n",
      "x + y = 3\n",
      "x\n"
     ]
    }
   ],
   "source": [
    "# import sin() function from math library\n",
    "from math import sin\n",
    "\n",
    "# assign value to variable x\n",
    "x = eval(input(\"x:\"))\n",
    "# assign value to variable y\n",
    "y = eval(input(\"y:\"))\n",
    "# print out the results from the operations between x and y\n",
    "print(\"x + y = {}\".format(x+y))\n",
    "print(\"x\")"
   ]
  },
  {
   "cell_type": "markdown",
   "metadata": {
    "id": "JLU7DOaJT7G6"
   },
   "source": [
    "b) Now, rather than hard coding ‘x’ and ‘y’, try taking input from the user. Did you have any problems just using ‘input()’? "
   ]
  },
  {
   "cell_type": "code",
   "execution_count": null,
   "metadata": {
    "id": "50EMqXkzRTEg"
   },
   "outputs": [],
   "source": [
    "# write the answer here\n"
   ]
  }
 ],
 "metadata": {
  "colab": {
   "collapsed_sections": [],
   "name": "FIT9136 Week 3 Lab Activities.ipynb",
   "provenance": [],
   "toc_visible": true
  },
  "kernelspec": {
   "display_name": "Python 3",
   "language": "python",
   "name": "python3"
  },
  "language_info": {
   "codemirror_mode": {
    "name": "ipython",
    "version": 3
   },
   "file_extension": ".py",
   "mimetype": "text/x-python",
   "name": "python",
   "nbconvert_exporter": "python",
   "pygments_lexer": "ipython3",
   "version": "3.8.8"
  },
  "latex_envs": {
   "LaTeX_envs_menu_present": true,
   "autoclose": false,
   "autocomplete": true,
   "bibliofile": "biblio.bib",
   "cite_by": "apalike",
   "current_citInitial": 1,
   "eqLabelWithNumbers": true,
   "eqNumInitial": 1,
   "hotkeys": {
    "equation": "Ctrl-E",
    "itemize": "Ctrl-I"
   },
   "labels_anchors": false,
   "latex_user_defs": false,
   "report_style_numbering": false,
   "user_envs_cfg": false
  },
  "toc": {
   "base_numbering": 1,
   "nav_menu": {},
   "number_sections": true,
   "sideBar": true,
   "skip_h1_title": false,
   "title_cell": "Table of Contents",
   "title_sidebar": "Contents",
   "toc_cell": false,
   "toc_position": {},
   "toc_section_display": true,
   "toc_window_display": false
  }
 },
 "nbformat": 4,
 "nbformat_minor": 1
}
