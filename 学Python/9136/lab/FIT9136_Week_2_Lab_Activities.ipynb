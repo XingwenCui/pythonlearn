{
 "cells": [
  {
   "cell_type": "markdown",
   "metadata": {
    "id": "kRpwv76zY-UY"
   },
   "source": [
    "# FIT9136 Week 2 Lab Activities\n",
    "\n",
    "<small>\\#AtomicDataTypes \\#Operations \\#Variables \\#Documentation \\#SystemIO \\#DataTypeConversion</small>"
   ]
  },
  {
   "cell_type": "code",
   "execution_count": 1,
   "metadata": {
    "colab": {
     "base_uri": "https://localhost:8080/"
    },
    "id": "N9rrq4NLY6Fo",
    "outputId": "28515284-7a74-4ec6-f60f-f0fb14aad1b0"
   },
   "outputs": [
    {
     "name": "stdout",
     "output_type": "stream",
     "text": [
      "Hello Human! Welcome to the \u001b[40m\u001b[1;33mPython Universe\u001b[0m.\n"
     ]
    }
   ],
   "source": [
    "print('Hello Human! Welcome to the \\u001b[40m\\033[1;33mPython Universe\\u001b[0m.')"
   ]
  },
  {
   "cell_type": "markdown",
   "metadata": {
    "id": "SnR7JGHnZgMJ"
   },
   "source": [
    "Welcome to the world of Python, where **everything is an object**. The objects in Python are similar to the human world. They have their unique features (**values/variables**) and actions (**methods/operations**). Most importantly, every object in Python universe has an **identity**. Now let's explore this amazing world."
   ]
  },
  {
   "cell_type": "markdown",
   "metadata": {
    "id": "411KaCXgiAz1"
   },
   "source": [
    "## 1. Atomic Data types\n",
    "Now, let's meet the three primary elements(**Atomic Datatype**) in Python."
   ]
  },
  {
   "cell_type": "code",
   "execution_count": 2,
   "metadata": {
    "id": "tqQIjwibZZBk"
   },
   "outputs": [
    {
     "data": {
      "text/plain": [
       "(int, float, bool)"
      ]
     },
     "execution_count": 2,
     "metadata": {},
     "output_type": "execute_result"
    }
   ],
   "source": [
    "type(1), type(0.1), type(True)"
   ]
  },
  {
   "cell_type": "markdown",
   "metadata": {
    "id": "UpKZnNPUbQt2"
   },
   "source": [
    "They are integer, float and boolean. From the example above:\n",
    "- `1` is an integer, \n",
    "- `0.1` is a float, \n",
    "- `True` is a boolean, which can represent the result of a logical condition.\n",
    "\n",
    "And of course, they have their identities.<br>To see their identities, we will use the function named `id()`, which will give us `the physical memory location.`"
   ]
  },
  {
   "cell_type": "code",
   "execution_count": 3,
   "metadata": {
    "id": "ibUALLqea7o9"
   },
   "outputs": [
    {
     "name": "stdout",
     "output_type": "stream",
     "text": [
      "id of integer 1 is 140725239490352\n"
     ]
    }
   ],
   "source": [
    "print('id of integer 1 is', id(1))"
   ]
  },
  {
   "cell_type": "code",
   "execution_count": 4,
   "metadata": {
    "id": "E7bJr51iertP"
   },
   "outputs": [
    {
     "name": "stdout",
     "output_type": "stream",
     "text": [
      "id of float 0.1 is 3062141957360\n"
     ]
    }
   ],
   "source": [
    "print('id of float 0.1 is', id(0.1))"
   ]
  },
  {
   "cell_type": "code",
   "execution_count": 5,
   "metadata": {
    "id": "9oYyqoWFe3vp"
   },
   "outputs": [
    {
     "name": "stdout",
     "output_type": "stream",
     "text": [
      "id of boolean True is 140725239207760\n"
     ]
    }
   ],
   "source": [
    "print('id of boolean True is', id(True))"
   ]
  },
  {
   "cell_type": "code",
   "execution_count": 6,
   "metadata": {},
   "outputs": [
    {
     "data": {
      "text/plain": [
       "140725239207760"
      ]
     },
     "execution_count": 6,
     "metadata": {},
     "output_type": "execute_result"
    }
   ],
   "source": [
    "id(True)"
   ]
  },
  {
   "cell_type": "markdown",
   "metadata": {
    "id": "ks3RoTrlg5QN"
   },
   "source": [
    "Now, let's see what they can do.\n",
    "\n",
    "There are three main operations in Python, namely:\n",
    "1. arithmetic operation\n",
    "2. comparison operation\n",
    "3. logical operation"
   ]
  },
  {
   "cell_type": "markdown",
   "metadata": {
    "id": "IvzbeVpNh5Zl"
   },
   "source": [
    "### 1.1 Arithmetic Operations\n",
    "\n",
    "Arithmetic operation gives us a **numeric value** from various mathemetical calculations between the numeric elements in the equation."
   ]
  },
  {
   "cell_type": "code",
   "execution_count": 7,
   "metadata": {
    "id": "eBcu0oeXfYmM"
   },
   "outputs": [
    {
     "data": {
      "text/plain": [
       "2"
      ]
     },
     "execution_count": 7,
     "metadata": {},
     "output_type": "execute_result"
    }
   ],
   "source": [
    "1 + 1 # arithmetic operations between integers will give you an integer"
   ]
  },
  {
   "cell_type": "code",
   "execution_count": 8,
   "metadata": {
    "id": "xkLWOggUhMmV"
   },
   "outputs": [
    {
     "data": {
      "text/plain": [
       "2.0"
      ]
     },
     "execution_count": 8,
     "metadata": {},
     "output_type": "execute_result"
    }
   ],
   "source": [
    "1. + 1 # arithmetic operations between integer and float will give you what?"
   ]
  },
  {
   "cell_type": "code",
   "execution_count": 10,
   "metadata": {
    "id": "dW-1vxaehS7L"
   },
   "outputs": [
    {
     "data": {
      "text/plain": [
       "2"
      ]
     },
     "execution_count": 10,
     "metadata": {},
     "output_type": "execute_result"
    }
   ],
   "source": [
    "True + True # How about arithmetic operations between booleans? "
   ]
  },
  {
   "cell_type": "code",
   "execution_count": 18,
   "metadata": {},
   "outputs": [
    {
     "data": {
      "text/plain": [
       "1"
      ]
     },
     "execution_count": 18,
     "metadata": {},
     "output_type": "execute_result"
    }
   ],
   "source": [
    "False + True"
   ]
  },
  {
   "cell_type": "code",
   "execution_count": 19,
   "metadata": {},
   "outputs": [
    {
     "data": {
      "text/plain": [
       "0"
      ]
     },
     "execution_count": 19,
     "metadata": {},
     "output_type": "execute_result"
    }
   ],
   "source": [
    "False + False"
   ]
  },
  {
   "cell_type": "markdown",
   "metadata": {
    "id": "5AQxqEbDAehN"
   },
   "source": [
    "More about arithmetic operations, please have a look at the [documentation](https://www.w3schools.com/python/python_operators.asp)."
   ]
  },
  {
   "cell_type": "markdown",
   "metadata": {
    "id": "oVlA2DAEiiek"
   },
   "source": [
    "### 1.2 Comparison operations\n",
    "\n",
    "Comparison operations give us **boolean** values by comparing the values on the left side and right side."
   ]
  },
  {
   "cell_type": "code",
   "execution_count": 11,
   "metadata": {
    "id": "YpNtTgWIhoVd"
   },
   "outputs": [
    {
     "data": {
      "text/plain": [
       "False"
      ]
     },
     "execution_count": 11,
     "metadata": {},
     "output_type": "execute_result"
    }
   ],
   "source": [
    "1 < 1 # is 1 smaller than 1?"
   ]
  },
  {
   "cell_type": "code",
   "execution_count": 12,
   "metadata": {
    "id": "R9RWKsQ6isX9"
   },
   "outputs": [
    {
     "data": {
      "text/plain": [
       "True"
      ]
     },
     "execution_count": 12,
     "metadata": {},
     "output_type": "execute_result"
    }
   ],
   "source": [
    "1. == 1. # is 1.0 equals 1.0"
   ]
  },
  {
   "cell_type": "code",
   "execution_count": 20,
   "metadata": {
    "id": "utodE3hbi0c7"
   },
   "outputs": [
    {
     "data": {
      "text/plain": [
       "True"
      ]
     },
     "execution_count": 20,
     "metadata": {},
     "output_type": "execute_result"
    }
   ],
   "source": [
    "1. >= 1 # is 1.0 larger than or equals 1?"
   ]
  },
  {
   "cell_type": "code",
   "execution_count": 14,
   "metadata": {
    "id": "fSt85-c5ksY7"
   },
   "outputs": [
    {
     "data": {
      "text/plain": [
       "True"
      ]
     },
     "execution_count": 14,
     "metadata": {},
     "output_type": "execute_result"
    }
   ],
   "source": [
    "True == 1 # What is the numerical value of True?"
   ]
  },
  {
   "cell_type": "code",
   "execution_count": 17,
   "metadata": {},
   "outputs": [
    {
     "data": {
      "text/plain": [
       "True"
      ]
     },
     "execution_count": 17,
     "metadata": {},
     "output_type": "execute_result"
    }
   ],
   "source": [
    "False == 0"
   ]
  },
  {
   "cell_type": "markdown",
   "metadata": {
    "id": "db_9IGl0i48t"
   },
   "source": [
    "It might look ridiculous at the moment. **Why do we need to compare values here?**\n",
    "\n",
    "<font color='red'>**Answer:**</font>\n",
    "```\n",
    "Your answer here\n",
    "```\n",
    "\n",
    "It seems that **Comparison Operation** is flawless, but it is not. It does have [Limitation](https://docs.python.org/3.3/tutorial/floatingpoint.html). Let's have a look at below example:\n",
    "\n",
    "`1.1 + 2.2 == 3.3` is it true?"
   ]
  },
  {
   "cell_type": "code",
   "execution_count": 21,
   "metadata": {
    "id": "rwzLWcwJkJH5"
   },
   "outputs": [
    {
     "data": {
      "text/plain": [
       "False"
      ]
     },
     "execution_count": 21,
     "metadata": {},
     "output_type": "execute_result"
    }
   ],
   "source": [
    "1.1 + 2.2 == 3.3"
   ]
  },
  {
   "cell_type": "markdown",
   "metadata": {
    "id": "Nn2F-LTajead"
   },
   "source": [
    "Apart from numerical comparison operators, there is another operator called `is`. It compares the **id** of two objects. What will the following operations give us?**"
   ]
  },
  {
   "cell_type": "code",
   "execution_count": 22,
   "metadata": {
    "id": "rH-eV7X5jwnF"
   },
   "outputs": [
    {
     "name": "stderr",
     "output_type": "stream",
     "text": [
      "<>:1: SyntaxWarning: \"is\" with a literal. Did you mean \"==\"?\n",
      "<>:1: SyntaxWarning: \"is\" with a literal. Did you mean \"==\"?\n",
      "<ipython-input-22-2ebf4c947f31>:1: SyntaxWarning: \"is\" with a literal. Did you mean \"==\"?\n",
      "  1 is 1.0\n"
     ]
    },
    {
     "data": {
      "text/plain": [
       "False"
      ]
     },
     "execution_count": 22,
     "metadata": {},
     "output_type": "execute_result"
    }
   ],
   "source": [
    "1 is 1.0"
   ]
  },
  {
   "cell_type": "code",
   "execution_count": 23,
   "metadata": {
    "id": "pz1FAedTkODc"
   },
   "outputs": [
    {
     "name": "stderr",
     "output_type": "stream",
     "text": [
      "<>:1: SyntaxWarning: \"is\" with a literal. Did you mean \"==\"?\n",
      "<>:1: SyntaxWarning: \"is\" with a literal. Did you mean \"==\"?\n",
      "<ipython-input-23-c9bd0d8624de>:1: SyntaxWarning: \"is\" with a literal. Did you mean \"==\"?\n",
      "  0 is 0\n"
     ]
    },
    {
     "data": {
      "text/plain": [
       "True"
      ]
     },
     "execution_count": 23,
     "metadata": {},
     "output_type": "execute_result"
    }
   ],
   "source": [
    "0 is 0"
   ]
  },
  {
   "cell_type": "code",
   "execution_count": 24,
   "metadata": {
    "id": "n9A1pdTokQYz"
   },
   "outputs": [
    {
     "name": "stderr",
     "output_type": "stream",
     "text": [
      "<>:1: SyntaxWarning: \"is\" with a literal. Did you mean \"==\"?\n",
      "<>:1: SyntaxWarning: \"is\" with a literal. Did you mean \"==\"?\n",
      "<ipython-input-24-0acca4945321>:1: SyntaxWarning: \"is\" with a literal. Did you mean \"==\"?\n",
      "  True is 1\n"
     ]
    },
    {
     "data": {
      "text/plain": [
       "False"
      ]
     },
     "execution_count": 24,
     "metadata": {},
     "output_type": "execute_result"
    }
   ],
   "source": [
    "True is 1"
   ]
  },
  {
   "cell_type": "markdown",
   "metadata": {
    "id": "FCF6Mr9hkVM7"
   },
   "source": [
    "The results could be explained by checking the ids of the variables."
   ]
  },
  {
   "cell_type": "code",
   "execution_count": 25,
   "metadata": {
    "id": "eCC_SC3xkgHb"
   },
   "outputs": [
    {
     "data": {
      "text/plain": [
       "(140725239490352, 3062164873296)"
      ]
     },
     "execution_count": 25,
     "metadata": {},
     "output_type": "execute_result"
    }
   ],
   "source": [
    "id(1), id(1.0)"
   ]
  },
  {
   "cell_type": "code",
   "execution_count": 26,
   "metadata": {
    "id": "kc9FPCt2kjVs"
   },
   "outputs": [
    {
     "data": {
      "text/plain": [
       "(140725239207760, 140725239490352)"
      ]
     },
     "execution_count": 26,
     "metadata": {},
     "output_type": "execute_result"
    }
   ],
   "source": [
    "id(True), id(1)"
   ]
  },
  {
   "cell_type": "markdown",
   "metadata": {
    "id": "eqKncIVlVgE7"
   },
   "source": [
    "### 1.3 Logical operations\n",
    "\n",
    "Let's have a look at the logical tables:\n",
    "\n",
    "\n",
    "<table>\n",
    "<tr>\n",
    "<td>\n",
    "<table>\n",
    "<tr><td><h5><b><font color='red'>and</font></b></h5></td><td><b>True</b></td><td><b>False</b></td></tr>\n",
    "<tr><td><b>True</b></td><td>True</td><td>False</td></tr>\n",
    "<tr><td><b>False</b></td><td>False</td><td>False</td></tr>\n",
    "</table>\n",
    "</td>\n",
    "<td> </td>\n",
    "<td>\n",
    "<table>\n",
    "<tr><td><h5><b><font color='red'>or</font></b></h5></td><td><b>True</b></td><td><b>False</b></td></tr>\n",
    "<tr><td><b>True</b></td><td>True</td><td>True</td></tr>\n",
    "<tr><td><b>False</b></td><td>True</td><td>False</td></tr>\n",
    "</table>\n",
    "</td>\n",
    "</tr>\n",
    "</table>\n",
    "\n",
    "We can see: \n",
    "1. `False` will be returned if any one of the conditions is `False` under the **<font color='red'>and</font>** condition.\n",
    "2. `True` will be returned if any one of the conditions is `True` under **<font color='red'>or</font>** condition.\n",
    "\n",
    "Let's try to think what will be returned in the following conditions. Are they `True` or `False`?"
   ]
  },
  {
   "cell_type": "code",
   "execution_count": 27,
   "metadata": {
    "id": "b3gdzCd5VpBD"
   },
   "outputs": [
    {
     "data": {
      "text/plain": [
       "False"
      ]
     },
     "execution_count": 27,
     "metadata": {},
     "output_type": "execute_result"
    }
   ],
   "source": [
    "True and True and False"
   ]
  },
  {
   "cell_type": "code",
   "execution_count": 28,
   "metadata": {
    "id": "KpvoQELkZMs1"
   },
   "outputs": [
    {
     "data": {
      "text/plain": [
       "True"
      ]
     },
     "execution_count": 28,
     "metadata": {},
     "output_type": "execute_result"
    }
   ],
   "source": [
    "True or False and True"
   ]
  },
  {
   "cell_type": "code",
   "execution_count": 29,
   "metadata": {
    "id": "6LPk8nuyZUrK"
   },
   "outputs": [
    {
     "data": {
      "text/plain": [
       "True"
      ]
     },
     "execution_count": 29,
     "metadata": {},
     "output_type": "execute_result"
    }
   ],
   "source": [
    "True and False or True"
   ]
  },
  {
   "cell_type": "markdown",
   "metadata": {
    "id": "SXX9q_83Z7Bx"
   },
   "source": [
    "The evaluation of conditions are actually considered **from left to right**. (Conditions within the innermost brackets are considered first). However, [`and` has a higher precedence than `or`](https://docs.python.org/3/reference/expressions.html#operator-precedence).\n",
    "\n",
    "1. `True and True and False` → `(True and True) and False` → `True and False` → `False`\n",
    "2. `True or False and True` → `True or (False and True)` → `True or False` → `True`\n",
    "3. <font color='red'>**`Your answer here`**</font>"
   ]
  },
  {
   "cell_type": "code",
   "execution_count": 30,
   "metadata": {
    "colab": {
     "base_uri": "https://localhost:8080/",
     "height": 200
    },
    "id": "ejmRKI1tB-mw",
    "outputId": "bb1c3cb5-3e93-48d9-c3bf-f2e9618224db"
   },
   "outputs": [
    {
     "name": "stdout",
     "output_type": "stream",
     "text": [
      "Image source: https://gifer.com/en/gifs/pacman\n"
     ]
    },
    {
     "data": {
      "text/html": [
       "<img src=\"https://i.gifer.com/origin/12/12d043d53cb8adeb6bd5dca9df506278_w200.gif\"/>"
      ],
      "text/plain": [
       "<IPython.core.display.Image object>"
      ]
     },
     "metadata": {},
     "output_type": "display_data"
    },
    {
     "name": "stdout",
     "output_type": "stream",
     "text": [
      "Logical conditions are evaluated from left to right.\n"
     ]
    }
   ],
   "source": [
    "from IPython.display import Image\n",
    "print('Image source: https://gifer.com/en/gifs/pacman')\n",
    "display(Image(url='https://i.gifer.com/origin/12/12d043d53cb8adeb6bd5dca9df506278_w200.gif'))\n",
    "print('Logical conditions are evaluated from left to right.')"
   ]
  },
  {
   "cell_type": "markdown",
   "metadata": {
    "id": "CaVlzlGZCNHC"
   },
   "source": [
    "Here are some other practices, are they `True` or `False`?"
   ]
  },
  {
   "cell_type": "code",
   "execution_count": 32,
   "metadata": {
    "id": "3HVmjBHSa__2"
   },
   "outputs": [
    {
     "data": {
      "text/plain": [
       "True"
      ]
     },
     "execution_count": 32,
     "metadata": {},
     "output_type": "execute_result"
    }
   ],
   "source": [
    "True and (True or False) and True"
   ]
  },
  {
   "cell_type": "code",
   "execution_count": 33,
   "metadata": {
    "id": "z-3ZeMLMbag7"
   },
   "outputs": [
    {
     "data": {
      "text/plain": [
       "True"
      ]
     },
     "execution_count": 33,
     "metadata": {},
     "output_type": "execute_result"
    }
   ],
   "source": [
    "True or False and False"
   ]
  },
  {
   "cell_type": "code",
   "execution_count": 34,
   "metadata": {
    "id": "drQmEARGbfgo"
   },
   "outputs": [
    {
     "data": {
      "text/plain": [
       "True"
      ]
     },
     "execution_count": 34,
     "metadata": {},
     "output_type": "execute_result"
    }
   ],
   "source": [
    "False or False or True"
   ]
  },
  {
   "cell_type": "markdown",
   "metadata": {
    "id": "073A9Oldbe3w"
   },
   "source": [
    "You think that's it for the logical operators? Then, you might be a bit too naive. 😂 There's another operator called `not`. Well, it changes `True` to `False` and vice versa. More importantly, it is always evaluated before `and` and `or` on the same logical level. Let's try it!"
   ]
  },
  {
   "cell_type": "code",
   "execution_count": 36,
   "metadata": {
    "id": "4vlJq6DPdK7D"
   },
   "outputs": [
    {
     "data": {
      "text/plain": [
       "True"
      ]
     },
     "execution_count": 36,
     "metadata": {},
     "output_type": "execute_result"
    }
   ],
   "source": [
    "True or False and not False"
   ]
  },
  {
   "cell_type": "code",
   "execution_count": 37,
   "metadata": {
    "id": "IwIXmODgdVpv"
   },
   "outputs": [
    {
     "data": {
      "text/plain": [
       "False"
      ]
     },
     "execution_count": 37,
     "metadata": {},
     "output_type": "execute_result"
    }
   ],
   "source": [
    "not (True or False)"
   ]
  },
  {
   "cell_type": "code",
   "execution_count": 38,
   "metadata": {
    "id": "lj4CIhMMdum3"
   },
   "outputs": [
    {
     "data": {
      "text/plain": [
       "True"
      ]
     },
     "execution_count": 38,
     "metadata": {},
     "output_type": "execute_result"
    }
   ],
   "source": [
    "True and not False or False"
   ]
  },
  {
   "cell_type": "markdown",
   "metadata": {
    "id": "LlkeUqq3d4nO"
   },
   "source": [
    "How it works?\n",
    "1. `True or False and not False` → `True or (False or (not False))` → `True or True` → `True`\n",
    "2. `not (True or False)` → `not (True)` → `False`\n",
    "3. <font color='red'>**`Your answer here`**</font>"
   ]
  },
  {
   "cell_type": "markdown",
   "metadata": {
    "id": "y6DTGmI_ejZg"
   },
   "source": [
    "Next comes the tricky part. Actually, every data types have their own `boolean` values. `False` is always associated with the concept of **nothing** or `None`. For example, boolean value of `0` is `False`. We can retrieve the boolean value of any built-in objects by using `bool()` function."
   ]
  },
  {
   "cell_type": "code",
   "execution_count": 39,
   "metadata": {
    "id": "jyGmuAR7e9HA"
   },
   "outputs": [
    {
     "data": {
      "text/plain": [
       "False"
      ]
     },
     "execution_count": 39,
     "metadata": {},
     "output_type": "execute_result"
    }
   ],
   "source": [
    "bool(0)"
   ]
  },
  {
   "cell_type": "code",
   "execution_count": 40,
   "metadata": {
    "id": "O4UyKX8ufAD-"
   },
   "outputs": [
    {
     "data": {
      "text/plain": [
       "False"
      ]
     },
     "execution_count": 40,
     "metadata": {},
     "output_type": "execute_result"
    }
   ],
   "source": [
    "bool(0.0)"
   ]
  },
  {
   "cell_type": "markdown",
   "metadata": {
    "id": "4RR-il9yfoJf"
   },
   "source": [
    "Now, let's integrate this concept to the logical operators. Consider the following examples, let's guess the results!"
   ]
  },
  {
   "cell_type": "code",
   "execution_count": 41,
   "metadata": {
    "id": "caz-7BvOf14I"
   },
   "outputs": [
    {
     "data": {
      "text/plain": [
       "0"
      ]
     },
     "execution_count": 41,
     "metadata": {},
     "output_type": "execute_result"
    }
   ],
   "source": [
    "0 and 5 and False"
   ]
  },
  {
   "cell_type": "code",
   "execution_count": 42,
   "metadata": {
    "id": "N-OuJI9vgEva"
   },
   "outputs": [
    {
     "data": {
      "text/plain": [
       "5"
      ]
     },
     "execution_count": 42,
     "metadata": {},
     "output_type": "execute_result"
    }
   ],
   "source": [
    "False or 5 or 0.0"
   ]
  },
  {
   "cell_type": "code",
   "execution_count": 43,
   "metadata": {
    "id": "SQAHVSQhgFNl"
   },
   "outputs": [
    {
     "data": {
      "text/plain": [
       "10"
      ]
     },
     "execution_count": 43,
     "metadata": {},
     "output_type": "execute_result"
    }
   ],
   "source": [
    "0 or 5 and 10 or 2"
   ]
  },
  {
   "cell_type": "markdown",
   "metadata": {
    "id": "u1-32xa8gUG1"
   },
   "source": [
    "Guess them right?\n",
    "\n",
    "From the examples, we can see:\n",
    "1. under `or` conditions, it will return ?\n",
    "2. under `and` conditions, it will return ?\n",
    "\n",
    "Now, let's try more examples. Try to think what will be the results."
   ]
  },
  {
   "cell_type": "code",
   "execution_count": null,
   "metadata": {
    "id": "oP6181jSg2m2"
   },
   "outputs": [],
   "source": [
    "4 and False or (0 and 5.5) or (3 and 0.0)"
   ]
  },
  {
   "cell_type": "code",
   "execution_count": null,
   "metadata": {
    "id": "TLSgYQiIhpu-"
   },
   "outputs": [],
   "source": [
    "10 and 5 and 3 and 1"
   ]
  },
  {
   "cell_type": "code",
   "execution_count": null,
   "metadata": {
    "id": "gVpwJm4nhr4W"
   },
   "outputs": [],
   "source": [
    "-4 < 5 and 10.5 + 3 or 4"
   ]
  },
  {
   "cell_type": "markdown",
   "metadata": {
    "id": "8ydtyYvi6Nee"
   },
   "source": [
    "```\n",
    "* 4 and False or (0 and 5.5) or (3 and 0.0) \n",
    "    * (4 and False) or 0 or 0.0 \n",
    "    * False or 0 or 0.0 \n",
    "    * 0.0\n",
    "* 10 and 5 and 3 and 1 \n",
    "    * ? \n",
    "    * ? \n",
    "    * ?\n",
    "* -4 < 5 and 10.5 + 3 or 4 \n",
    "    * ? \n",
    "    * ? \n",
    "    * ?\n",
    "```"
   ]
  },
  {
   "cell_type": "markdown",
   "metadata": {
    "id": "W01S3veMh4Ge"
   },
   "source": [
    "Oh! By the way, there is an order between the three types of operators. The precedence is:\n",
    "\n",
    "1. Arithmetic operator\n",
    "2. Comparison operator\n",
    "3. Logical opertor"
   ]
  },
  {
   "cell_type": "markdown",
   "metadata": {
    "heading_collapsed": true,
    "id": "qgN-Fl3Omar7"
   },
   "source": [
    "## 2. Variables"
   ]
  },
  {
   "cell_type": "markdown",
   "metadata": {
    "hidden": true,
    "id": "EWg6okDEmeKz"
   },
   "source": [
    "Variable is a very important component in programming. **Not only in Python, but in programming.** Why is that though?\n",
    "\n",
    "```\n",
    "Your answer\n",
    "```\n",
    "\n",
    "However, how can we store the values in Python?"
   ]
  },
  {
   "cell_type": "markdown",
   "metadata": {
    "hidden": true,
    "id": "QQctotWJsLvR"
   },
   "source": [
    "### 2.1 Variable assignment\n",
    "\n",
    "It is simpler than you think, we just need a `=` operator."
   ]
  },
  {
   "cell_type": "code",
   "execution_count": null,
   "metadata": {
    "hidden": true,
    "id": "ICE0fazZmZTd"
   },
   "outputs": [],
   "source": [
    "# Try to assign 1 to variable a_number\n",
    "? = ?"
   ]
  },
  {
   "cell_type": "markdown",
   "metadata": {
    "hidden": true,
    "id": "WsvKPsEqnX9N"
   },
   "source": [
    "In the example above, we have just created a new *variable* called `a_number` that stores `1` as the value. <br>Now, lets access the value of the variable."
   ]
  },
  {
   "cell_type": "code",
   "execution_count": null,
   "metadata": {
    "hidden": true,
    "id": "eWy4bdMmnrJz"
   },
   "outputs": [],
   "source": [
    "a_number"
   ]
  },
  {
   "cell_type": "markdown",
   "metadata": {
    "hidden": true,
    "id": "iIzskRa8oFiR"
   },
   "source": [
    "But to be honest, you are somehow curious of how it works, aren't you? \n",
    "\n",
    "Actually, `a_number` is not a value. It is a *pointer* instead. It points to where `1` is at in the memory. How to proof it? Let's compare the ids of `a_number` and `1`!"
   ]
  },
  {
   "cell_type": "code",
   "execution_count": null,
   "metadata": {
    "hidden": true,
    "id": "545Pp9tFov4L"
   },
   "outputs": [],
   "source": [
    "id(a_number), id(1)"
   ]
  },
  {
   "cell_type": "markdown",
   "metadata": {
    "hidden": true,
    "id": "91sE-HlHo1b5"
   },
   "source": [
    "Now, we can see the ids of `a_number` and `1` are the same."
   ]
  },
  {
   "cell_type": "markdown",
   "metadata": {
    "hidden": true,
    "id": "OLjzr2H5sQyx"
   },
   "source": [
    "### 2.2 Variable naming\n",
    "\n",
    "Naming a variable is an art, just like how your name is created. Do we want to name something meaningless? Give some respect to the variables! Try to give variables meaningful names. \n",
    "\n",
    "**Moreover, there are some formats we have to follow for variable names:**\n",
    "1. camelCase\n",
    "2. under_score\n",
    "\n",
    "Let's try to name some variables."
   ]
  },
  {
   "cell_type": "code",
   "execution_count": null,
   "metadata": {
    "hidden": true,
    "id": "nrIwQPrNfItt"
   },
   "outputs": [],
   "source": [
    "# name of a student\n",
    "\n",
    "# name of a tutor\n",
    "\n",
    "# youtube channel name\n",
    "\n",
    "# product serial number\n",
    "\n",
    "# sum of 2 numbers\n"
   ]
  },
  {
   "cell_type": "markdown",
   "metadata": {
    "hidden": true,
    "id": "Q2ugeILQjHeg"
   },
   "source": [
    "There is another important rule of variable naming: \n",
    "\n",
    "**If the name is already used (to store another value or to define a function), then don't use it.**\n",
    "\n",
    "For example, the built-in function names, such as `len`, `sorted`, `sum`."
   ]
  },
  {
   "cell_type": "markdown",
   "metadata": {
    "heading_collapsed": true,
    "id": "GbCdwNG5w6l_"
   },
   "source": [
    "## 3. Comments\n",
    "\n",
    "Everyone thinks their codes are the best. I have never doubted that. However, wouldn't it be even better when other people, and yourself maybe, can understand your code easily too? "
   ]
  },
  {
   "cell_type": "code",
   "execution_count": null,
   "metadata": {
    "hidden": true,
    "id": "NSM-ofGxyAPS"
   },
   "outputs": [],
   "source": [
    "# This is an inline-comment. It starts with a '#'\n",
    "# An inline comment is used to explain the high-level logic of one or several lines of code.\n",
    "# It can be placed on top of the code that it is explaining, or right after the code on the same line. "
   ]
  },
  {
   "cell_type": "code",
   "execution_count": null,
   "metadata": {
    "hidden": true,
    "id": "nCJQTRWlyZVz"
   },
   "outputs": [],
   "source": [
    "\"\"\"\n",
    "This is a comment block. It starts and ends with triple double-quotes.\n",
    "Comment block can be used to describe the script, or act as docstring of functions or methods.\n",
    "It describes the purpose, high-level logic and usage of scripts/functions/methods.\n",
    "\"\"\""
   ]
  },
  {
   "cell_type": "markdown",
   "metadata": {
    "heading_collapsed": true,
    "id": "jpgVAbQtloV7"
   },
   "source": [
    "## 4. System inputs and outputs\n",
    "\n",
    "Simply speaking, `input()` and `print()`."
   ]
  },
  {
   "cell_type": "markdown",
   "metadata": {
    "hidden": true,
    "id": "be4GQuk2l5Ar"
   },
   "source": [
    "### 4.1 `input()` function\n",
    "\n",
    "It prompts user input and return it as a `string` object.\n",
    "\n",
    "However, how can we use input() function? Let's try `?` helper function."
   ]
  },
  {
   "cell_type": "code",
   "execution_count": null,
   "metadata": {
    "hidden": true,
    "id": "N9c3Z5zJ0Co_"
   },
   "outputs": [],
   "source": [
    "?input # What does it say?"
   ]
  },
  {
   "cell_type": "markdown",
   "metadata": {
    "hidden": true,
    "id": "jf9llNba7dkB"
   },
   "source": [
    "Now, we know `input()` function takes one keyword argument `prompt`, which is the string that will be displayed when asking for user input."
   ]
  },
  {
   "cell_type": "code",
   "execution_count": null,
   "metadata": {
    "hidden": true,
    "id": "VyNGrU9N6fLt"
   },
   "outputs": [],
   "source": [
    "input('Please type in something. ')"
   ]
  },
  {
   "cell_type": "markdown",
   "metadata": {
    "hidden": true,
    "id": "VPSgwTuo-TNn"
   },
   "source": [
    "### 4.2 `print()` function\n",
    "\n",
    "Now, what about print() function?"
   ]
  },
  {
   "cell_type": "code",
   "execution_count": null,
   "metadata": {
    "hidden": true,
    "id": "MCiI_Yum-Nlc"
   },
   "outputs": [],
   "source": [
    "?print"
   ]
  },
  {
   "cell_type": "markdown",
   "metadata": {
    "hidden": true,
    "id": "OBg9Aswo--Nv"
   },
   "source": [
    "Let's try it!"
   ]
  },
  {
   "cell_type": "code",
   "execution_count": null,
   "metadata": {
    "hidden": true,
    "id": "kdZXy7pm-hzQ"
   },
   "outputs": [],
   "source": [
    "print('something','else')"
   ]
  },
  {
   "cell_type": "markdown",
   "metadata": {
    "heading_collapsed": true,
    "id": "xMo8UAp1_8-F"
   },
   "source": [
    "## 5. Type conversion between atomic datatypes\n",
    "\n",
    "Since different datatypes have different operations and properties, sometimes we have to convert the datatype of variables."
   ]
  },
  {
   "cell_type": "markdown",
   "metadata": {
    "hidden": true,
    "id": "wgxnClPHN_XY"
   },
   "source": [
    "### 5.1 Convert to integer\n",
    "`int()`"
   ]
  },
  {
   "cell_type": "code",
   "execution_count": null,
   "metadata": {
    "hidden": true,
    "id": "ekQ8Aiaj_FP2"
   },
   "outputs": [],
   "source": [
    "?int"
   ]
  },
  {
   "cell_type": "code",
   "execution_count": null,
   "metadata": {
    "hidden": true,
    "id": "e4eu6Y_2NZEm"
   },
   "outputs": [],
   "source": [
    "int(True), int('123'), int(12.34) # converts boolean, string and float to integer"
   ]
  },
  {
   "cell_type": "markdown",
   "metadata": {
    "hidden": true,
    "id": "qquhQoGzOLRJ"
   },
   "source": [
    "### 5.2 Convert to float\n",
    "\n",
    "`float()`"
   ]
  },
  {
   "cell_type": "code",
   "execution_count": null,
   "metadata": {
    "hidden": true,
    "id": "1Tmu8XOSNuu0"
   },
   "outputs": [],
   "source": [
    "?float"
   ]
  },
  {
   "cell_type": "code",
   "execution_count": null,
   "metadata": {
    "hidden": true,
    "id": "ziKsQ0fXOVnc"
   },
   "outputs": [],
   "source": [
    "float(True), float('123'), float(123) # converts boolean, string and integer to float"
   ]
  },
  {
   "cell_type": "markdown",
   "metadata": {
    "hidden": true,
    "id": "bNYLfWWvOnxx"
   },
   "source": [
    "### 5.3 Convert to boolean\n",
    "\n",
    "`bool()`"
   ]
  },
  {
   "cell_type": "code",
   "execution_count": null,
   "metadata": {
    "hidden": true,
    "id": "JJLd8s0MOrZV"
   },
   "outputs": [],
   "source": [
    "?bool"
   ]
  },
  {
   "cell_type": "code",
   "execution_count": null,
   "metadata": {
    "hidden": true,
    "id": "unyjy4OROvDf"
   },
   "outputs": [],
   "source": [
    "bool('123'), bool(123), bool(12.34) # converts string, integer and float to boolean"
   ]
  },
  {
   "cell_type": "markdown",
   "metadata": {
    "heading_collapsed": true,
    "id": "Z64AAaYcY5fk"
   },
   "source": [
    "## 6. Small summary\n",
    "\n",
    "Summing up, today we have learnt:\n",
    "1. Atomic data types (integer, float, boolean)\n",
    "2. Variables assignment and naming\n",
    "3. Documentation/commenting (in-line, block)\n",
    "4. System input and output (`input()`, `print()`)\n",
    "5. Data type conversions between atomic data types and string\n",
    "\n",
    "\n",
    "---\n",
    "\n",
    "\n",
    "Now, let's integrate all the concepts together."
   ]
  },
  {
   "cell_type": "markdown",
   "metadata": {
    "heading_collapsed": true,
    "id": "aEwBQD7zZ7mr"
   },
   "source": [
    "## In-class task 1: Km to Miles Conversion\n",
    "\n",
    "Write a code to **get the user input** of a numeric value in kilometers and **print out** its value in miles.\n",
    "\n",
    "The formula that converts between km and miles is as follows:\n",
    "\n",
    "* $miles = km * 0.62137$"
   ]
  },
  {
   "cell_type": "code",
   "execution_count": 48,
   "metadata": {
    "hidden": true,
    "id": "YVD2XxT_WuOD"
   },
   "outputs": [
    {
     "name": "stdout",
     "output_type": "stream",
     "text": [
      "2.5\n",
      "miles is: 1.5534249999999998\n"
     ]
    }
   ],
   "source": [
    "km = eval(input())\n",
    "miles = km*0.62137\n",
    "print(\"miles is:\",miles)"
   ]
  },
  {
   "cell_type": "markdown",
   "metadata": {
    "heading_collapsed": true,
    "id": "H-E4dLiUwRNz"
   },
   "source": [
    "## In-class task 2: Divisible?\n",
    "\n",
    "Write a code that asks the user to type two integers separately(`num1` and `num2`) and then print out whether `num1` is divisible by `num2`. (Hint: We can use the concept of the remainder)"
   ]
  },
  {
   "cell_type": "code",
   "execution_count": 51,
   "metadata": {
    "hidden": true,
    "id": "NwltcGa0vl8w"
   },
   "outputs": [
    {
     "name": "stdout",
     "output_type": "stream",
     "text": [
      "num180\n",
      "num22\n"
     ]
    },
    {
     "data": {
      "text/plain": [
       "0"
      ]
     },
     "execution_count": 51,
     "metadata": {},
     "output_type": "execute_result"
    }
   ],
   "source": [
    "# Your implementation\n",
    "num1 = eval(input(\"num1\"))\n",
    "num2 = eval(input(\"num2\"))\n",
    "num1%num2"
   ]
  },
  {
   "cell_type": "markdown",
   "metadata": {
    "id": "OvSuIYMpvAJe"
   },
   "source": [
    "## Exercise\n",
    "\n",
    "Now, try to add comments in the code.\n",
    "\n",
    "*You only need to use the techniques learnt in this notebook to complete the tasks*"
   ]
  },
  {
   "cell_type": "markdown",
   "metadata": {
    "heading_collapsed": true,
    "id": "QrhQDLcLvcXC"
   },
   "source": [
    "### Task A: Temperature conversion\n",
    "\n",
    "Write a code that asks the user to type a number as the temperature in the Kelvin scale and then print out the temperature in the Fahrenheit scale.\n",
    "\n",
    "The conversion equation is as follows:\n",
    "\n",
    "* $Fahrenheit = (Kelvin − 273.15) × \\frac{9}{5} + 32$"
   ]
  },
  {
   "cell_type": "code",
   "execution_count": 55,
   "metadata": {
    "hidden": true,
    "id": "t0nu3oORmaqj"
   },
   "outputs": [
    {
     "name": "stdout",
     "output_type": "stream",
     "text": [
      "enter the kelvin:78\n",
      "fahrenheit is  -319.27\n"
     ]
    }
   ],
   "source": [
    "kelvin  = eval(input(\"enter the kelvin:\"))\n",
    "fahrenheit = (kelvin - 273.15)*9/5 + 32\n",
    "print(\"fahrenheit is \",fahrenheit)"
   ]
  },
  {
   "cell_type": "markdown",
   "metadata": {
    "heading_collapsed": true,
    "id": "alC1DAyszosY"
   },
   "source": [
    "### Task B: Is that a right-angled triangle?\n",
    "\n",
    "Write a code that asks the user to type three numbers separately, which are the length of the sides of the triangles, respectively. And print out whether the triangle is right-angled or not. (Hint: Pythagoras theorem and logical conditions)"
   ]
  },
  {
   "cell_type": "code",
   "execution_count": 70,
   "metadata": {
    "hidden": true,
    "id": "Xw8dMjuE0StO"
   },
   "outputs": [
    {
     "name": "stdout",
     "output_type": "stream",
     "text": [
      "a2\n",
      "b4\n",
      "c6\n",
      "Whether the triangle is right-angled? False\n"
     ]
    }
   ],
   "source": [
    "# Your implementation\n",
    "a = eval(input(\"a\"))\n",
    "b = eval(input(\"b\"))\n",
    "c = eval(input(\"c\"))\n",
    "print(\"Whether the triangle is right-angled?\",a**2 == b**2 + c**2 or b**2 == a**2+c**2 or c**2 == a**2+b**2)\n"
   ]
  },
  {
   "cell_type": "markdown",
   "metadata": {
    "id": "ZtjiELMQwsrI"
   },
   "source": [
    "### Task C: Logic\n",
    "\n",
    "Solve the following logical expressions **with steps**."
   ]
  },
  {
   "cell_type": "markdown",
   "metadata": {
    "id": "jfOi3L252d5u"
   },
   "source": [
    "```\n",
    "1. 3.5 + 12 or True and False or 19 and 0\n",
    "2. 0.0 == 0 and True and (False or 3)\n",
    "3. 13 - 9 > 4 and 1 is 1\n",
    "```"
   ]
  },
  {
   "cell_type": "markdown",
   "metadata": {
    "id": "Ny4GJ1sW3S9R"
   },
   "source": [
    "<font color='red'>**Answer**</font>\n",
    "```\n",
    "1. 3.5 + 12 or True and False or 19 and 0 → ?\n",
    "2. 0.0 == 0 and True and (False or 3) → ?\n",
    "3. 13 - 9 > 4 and 1 is 1 → ?\n",
    "```\n"
   ]
  }
 ],
 "metadata": {
  "colab": {
   "collapsed_sections": [],
   "name": "FIT9136 Week 2 Lab Activities",
   "provenance": []
  },
  "kernelspec": {
   "display_name": "Python 3",
   "language": "python",
   "name": "python3"
  },
  "language_info": {
   "codemirror_mode": {
    "name": "ipython",
    "version": 3
   },
   "file_extension": ".py",
   "mimetype": "text/x-python",
   "name": "python",
   "nbconvert_exporter": "python",
   "pygments_lexer": "ipython3",
   "version": "3.8.8"
  },
  "latex_envs": {
   "LaTeX_envs_menu_present": true,
   "autoclose": false,
   "autocomplete": true,
   "bibliofile": "biblio.bib",
   "cite_by": "apalike",
   "current_citInitial": 1,
   "eqLabelWithNumbers": true,
   "eqNumInitial": 1,
   "hotkeys": {
    "equation": "Ctrl-E",
    "itemize": "Ctrl-I"
   },
   "labels_anchors": false,
   "latex_user_defs": false,
   "report_style_numbering": false,
   "user_envs_cfg": false
  },
  "toc": {
   "base_numbering": 1,
   "nav_menu": {},
   "number_sections": true,
   "sideBar": true,
   "skip_h1_title": false,
   "title_cell": "Table of Contents",
   "title_sidebar": "Contents",
   "toc_cell": false,
   "toc_position": {},
   "toc_section_display": true,
   "toc_window_display": false
  }
 },
 "nbformat": 4,
 "nbformat_minor": 1
}
