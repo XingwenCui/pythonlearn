{
 "cells": [
  {
   "cell_type": "markdown",
   "metadata": {
    "id": "eC8dqyRyJUhM"
   },
   "source": [
    "# FIT9136 Algorithms and programming foundations in Python"
   ]
  },
  {
   "cell_type": "markdown",
   "metadata": {
    "id": "K2SnbiS1JUhe"
   },
   "source": [
    "# Week 11 Lab Activities: Basic Algorithms for Searching and Sorting, Time Complexity II\n",
    "\n",
    "<small>\\#tree \\#binaryTree \\#BST \\#treeTraversal \\#BFS \\#DFS"
   ]
  },
  {
   "cell_type": "markdown",
   "metadata": {},
   "source": [
    "## 1. Sort Algorithm"
   ]
  },
  {
   "cell_type": "markdown",
   "metadata": {
    "heading_collapsed": true
   },
   "source": [
    "### 1.1 Selection Sort\n",
    "*Swap with the smallest item behind*\n",
    "\n",
    "![Selection Sort gif from medium](https://miro.medium.com/max/499/0*R0MHc4Hd26q6FPut)\n",
    "\n",
    "<pre>\n",
    "5,3,4,1,2\n",
    "<b>bold</b> item: smallest item searched\n",
    "<i>italic</i> item: current search\n",
    "<font color='red'>red</font> item: target\n",
    "-----------\n",
    "<font color='brown'><b>1st iteration:</b></font> Searching smallest value for index <font color='brown'><b>0</b></font>\n",
    "<font color='red'><b><i>5</i></b></font>,3,4,1,2 [5 is the smallest item so far]\n",
    "<font color='red'>5</font>,<b><i>3</i></b>,4,1,2 [3 is the smallest item so far]\n",
    "<font color='red'>5</font>,<b>3</b>,<i>4</i>,1,2\n",
    "<font color='red'>5</font>,3,4,<b><i>1</i></b>,2 [1 is the smallest item so far]\n",
    "<font color='red'>5</font>,3,4,<b>1</b>,<i>2</i>\n",
    "Swap items at index <font color='brown'><b>0</b></font> and index <b>3</b>.\n",
    "<font color='red'>1</font>|3,4,<b>5</b>,2\n",
    "Number of comparisons: <font color='orange'><b>4</b></font>(excluding target index)\n",
    "<font color='blue'><b>First</b></font> item (1) is sorted.\n",
    "-----------\n",
    "<font color='brown'><b>2nd iteration:</b></font> Searching smallest value for index <font color='brown'><b>1</b></font>\n",
    "1|<font color='red'><b><i>3</i></b></font>,4,5,2 [3 is the smallest item so far]\n",
    "1|<font color='red'><b>3</b></font>,<i>4</i>,5,2 \n",
    "1|<font color='red'><b>3</b></font>,4,<i>5</i>,2\n",
    "1|<font color='red'>3</font>,4,5,<b><i>2</i></b> [2 is the smallest item so far]\n",
    "Swap items at index <font color='brown'><b>1</b></font> and index <b>4</b>.\n",
    "1,<font color='red'>2</font>|4,5,<b>3</b>\n",
    "Number of comparisons: <font color='orange'><b>3</b></font>(excluding target index)\n",
    "<font color='blue'><b>First 2</b></font> items (1,2) are sorted.\n",
    "-----------\n",
    "<font color='brown'><b>3rd iteration:</b></font> Searching smallest value for index <font color='brown'><b>2</b></font>\n",
    "1,2|<font color='red'><b><i>4</i></b></font>,5,3 [4 is the smallest item so far]\n",
    "1,2|<font color='red'><b>4</b></font>,<i>5</i>,3\n",
    "1,2|<font color='red'>4</font>,5,<b><i>3</i></b> [3 is the smallest item so far]\n",
    "\n",
    "Swap items at index <font color='brown'><b>2</b></font> and index <b>4</b>.\n",
    "1,2,<font color='red'>3</font>|5,<b>4</b>\n",
    "Number of comparisons: <font color='orange'><b>2</b></font>(excluding target index)\n",
    "<font color='blue'><b>First 3</b></font> items (1,2,3) are sorted.\n",
    "-----------\n",
    "<font color='brown'><b>4th iteration:</b></font> Searching smallest value for index <font color='brown'><b>3</b></font>\n",
    "1,2,3|<font color='red'><b><i>5</i></b></font>,4 [5 is the smallest item so far]\n",
    "1,2,3|<font color='red'>5</font>,<b><i>4</i></b> [4 is the smallest item so far]\n",
    "\n",
    "Swap items at index <font color='brown'><b>3</b></font> and index <b>4</b>.\n",
    "1,2,3,<font color='red'>4</font>|<b>5</b>\n",
    "Number of comparisons: <font color='orange'><b>1</b></font>(excluding target index)\n",
    "<font color='blue'><b>First 4</b></font> items (1,2,3,4) are sorted. The remaining item is also sorted.\n",
    "</pre>\n",
    "\n",
    "From above, we can observe:\n",
    "- Number of iterations = <font color='brown'><b>len(list) - 1</b></font>\n",
    "- Target index at i-th iteration where i is from 1 to len(list) - 1 = <font color='red'>i - 1</font>\n",
    "- Number of comparisons at i-th iteration = <font color='orange'><b>len(list) - i</b></font>\n",
    "\n",
    "\n",
    "<pre>\n",
    "def selection_sort(a_list):\n",
    "    sorted_list = a_list[:] # make a copy of the original list\n",
    "    for <font color='red'>iter</font> in <font color='brown'><b>range(len(sorted_list) - 1)</b></font>:\n",
    "        smallest_idx = iter\n",
    "        for index in <font color='orange'><b>range(iter + 1, len(sorted_list))</b></font>:\n",
    "            if sorted_list[index] < sorted_list[smallest_idx]:\n",
    "                smallest_idx = index\n",
    "        <font color='red'>sorted_list[iter]</font>, sorted_list[smallest_idx] = sorted_list[smallest_idx], sorted_list[iter] # swap target index with the smallest index behind\n",
    "    return sorted_list\n",
    "\n",
    "</pre>"
   ]
  },
  {
   "cell_type": "code",
   "execution_count": 1,
   "metadata": {
    "ExecuteTime": {
     "end_time": "2021-10-07T05:17:29.781567Z",
     "start_time": "2021-10-07T05:17:29.774058Z"
    },
    "hidden": true
   },
   "outputs": [],
   "source": [
    "def selection_sort(a_list):\n",
    "    sorted_list = a_list[:] # make a copy of the original list\n",
    "    for iter in range(len(sorted_list) - 1):\n",
    "        smallest_idx = iter\n",
    "        # search for index of smallest value behind\n",
    "        for index in range(iter + 1, len(sorted_list)):\n",
    "            # if current item is smaller than current smallest item, update index of smallest item\n",
    "            if sorted_list[index] < sorted_list[smallest_idx]:\n",
    "                smallest_idx = index\n",
    "        sorted_list[iter], sorted_list[smallest_idx] = sorted_list[smallest_idx], sorted_list[iter] # swap target index with the smallest index behind\n",
    "    return sorted_list"
   ]
  },
  {
   "cell_type": "code",
   "execution_count": 24,
   "metadata": {},
   "outputs": [],
   "source": [
    "# sort largest first\n",
    "def seletion_sort_large(a_list):\n",
    "    sorted_list = a_list[:]\n",
    "    for i in range(len(sorted_list)-1,0,-1):\n",
    "        largest_index = i\n",
    "        for index in range(i):\n",
    "            if sorted_list[index]>sorted_list[largest_index]:\n",
    "                largest_index =index\n",
    "        sorted_list[i],sorted_list[largest_index] = sorted_list[largest_index],sorted_list[i]\n",
    "    return sorted_list"
   ]
  },
  {
   "cell_type": "code",
   "execution_count": 25,
   "metadata": {},
   "outputs": [
    {
     "data": {
      "text/plain": [
       "[1, 2, 3, 4, 5]"
      ]
     },
     "execution_count": 25,
     "metadata": {},
     "output_type": "execute_result"
    }
   ],
   "source": [
    "seletion_sort_large([5,3,4,1,2])"
   ]
  },
  {
   "cell_type": "code",
   "execution_count": 10,
   "metadata": {
    "ExecuteTime": {
     "end_time": "2021-10-07T05:17:38.388323Z",
     "start_time": "2021-10-07T05:17:38.374354Z"
    },
    "hidden": true
   },
   "outputs": [
    {
     "data": {
      "text/plain": [
       "[1, 2, 3, 4, 5]"
      ]
     },
     "execution_count": 10,
     "metadata": {},
     "output_type": "execute_result"
    }
   ],
   "source": [
    "selection_sort([5,3,4,1,2])"
   ]
  },
  {
   "cell_type": "markdown",
   "metadata": {
    "heading_collapsed": true,
    "hidden": true
   },
   "source": [
    "#### **Time complexity of selection sort**\n",
    "- O(N^2) (Number of iterations and comparisons both proportional to length of list)"
   ]
  },
  {
   "cell_type": "markdown",
   "metadata": {
    "heading_collapsed": true
   },
   "source": [
    "### 1.2 Insertion Sort\n",
    "*Insert after the last smaller item (than target) in front*\n",
    "\n",
    "![Insertion Sort gif from Google Search](https://thagomizer.com/img/InsertionSortCopyingVersion.gif)\n",
    "\n",
    "<pre>\n",
    "5,1,7,2\n",
    "<font color='red'>red</font> item: target\n",
    "-----------\n",
    "<font color='brown'><b>1st iteration:</b></font> Finding new index for item at index <font color='brown'><b>1</b></font>\n",
    "<font color='red'>1</font>,5,7,2 [Swap index 0 and 1]\n",
    "1,5|7,2\n",
    "<font color='blue'><b>First 2</b></font> items (1,5) are sorted.\n",
    "-----------\n",
    "<font color='brown'><b>2nd iteration:</b></font> Finding new index for item at index <font color='brown'><b>2</b></font>\n",
    "1,5,<font color='red'>7</font>|2 [All previous item of 7 is smaller, no swaps]\n",
    "<font color='blue'><b>First 3</b></font> items (1,2,7) are sorted.\n",
    "-----------\n",
    "<font color='brown'><b>3rd iteration:</b></font> Finding new index for item at index <font color='brown'><b>3</b></font>\n",
    "1,5,<font color='red'>2</font>,7 [Swap 2 and 7]\n",
    "1,<font color='red'>2</font>,5,7 [Swap 2 and 5]\n",
    "<font color='blue'><b>All</b></font> items are sorted.\n",
    "</pre>\n",
    "From above, we can observe:\n",
    "- Number of iterations = <font color='brown'><b>len(list) - 1</b></font>\n",
    "- Target index at i-th iteration where i is from 1 to len(list) - 1 = <font color='red'>i</font>\n",
    "- Maximum number of comparisons at i-th iteration = <font color='orange'><b>i</b></font>\n",
    "\n",
    "\n",
    "\n",
    "<pre>\n",
    "def insertion_sort(a_list):\n",
    "    sorted_list = a_list[:] # make a copy of the original list\n",
    "    for <font color='red'>iter</font> in <font color='brown'><b>range(1, len(sorted_list))</b></font>:\n",
    "        target_idx = iter\n",
    "        # swap with previous item until the previous item is smaller\n",
    "        # or until we reach start of list\n",
    "        while target_idx > 0:\n",
    "            if sorted_list[target_idx] < sorted_list[target_idx - 1]:\n",
    "                sorted_list[target_idx], sorted_list[target_idx - 1] = sorted_list[target_idx - 1], sorted_list[target_idx]\n",
    "                taeget_idx -= 1\n",
    "            else:\n",
    "                break\n",
    "    return sorted_list\n",
    "\n",
    "</pre>"
   ]
  },
  {
   "cell_type": "code",
   "execution_count": 27,
   "metadata": {},
   "outputs": [
    {
     "data": {
      "text/plain": [
       "[0, 1]"
      ]
     },
     "execution_count": 27,
     "metadata": {},
     "output_type": "execute_result"
    }
   ],
   "source": [
    "[i for i in range()]"
   ]
  },
  {
   "cell_type": "code",
   "execution_count": 33,
   "metadata": {},
   "outputs": [],
   "source": [
    "def insertion_sort_cxw(a_list):\n",
    "    sorted_list = a_list[:]\n",
    "    for i in range(1,len(sorted_list)):\n",
    "        index = i\n",
    "        while index > 0:\n",
    "            if sorted_list[index]<sorted_list[index-1]:\n",
    "                sorted_list[index],sorted_list[index-1] = sorted_list[index-1],sorted_list[index]\n",
    "                index -= 1\n",
    "            else:\n",
    "                break\n",
    "    return sorted_list\n",
    "        "
   ]
  },
  {
   "cell_type": "code",
   "execution_count": 34,
   "metadata": {},
   "outputs": [
    {
     "data": {
      "text/plain": [
       "[1, 2, 5, 7]"
      ]
     },
     "execution_count": 34,
     "metadata": {},
     "output_type": "execute_result"
    }
   ],
   "source": [
    "insertion_sort_cxw([5,1,7,2])"
   ]
  },
  {
   "cell_type": "code",
   "execution_count": null,
   "metadata": {},
   "outputs": [],
   "source": [
    "\n",
    "\n",
    "\n",
    "\n",
    "\n",
    "\n",
    "\n",
    "\n",
    "\n",
    "\n",
    "\n",
    "\n",
    "\n",
    "\n"
   ]
  },
  {
   "cell_type": "code",
   "execution_count": 3,
   "metadata": {
    "ExecuteTime": {
     "end_time": "2021-10-07T05:18:49.145929Z",
     "start_time": "2021-10-07T05:18:49.126518Z"
    },
    "hidden": true
   },
   "outputs": [],
   "source": [
    "def insertion_sort(a_list):\n",
    "    sorted_list = a_list[:] # make a copy of the original list\n",
    "    for iter in range(1, len(sorted_list)):\n",
    "        target_idx = iter\n",
    "        # swap with previous item until the previous item is smaller\n",
    "        # or until we reach start of list\n",
    "        while target_idx > 0:\n",
    "            if sorted_list[target_idx] < sorted_list[target_idx - 1]:\n",
    "                sorted_list[target_idx], sorted_list[target_idx - 1] = sorted_list[target_idx - 1], sorted_list[target_idx]\n",
    "                target_idx -= 1\n",
    "            else:\n",
    "                break\n",
    "    return sorted_list"
   ]
  },
  {
   "cell_type": "code",
   "execution_count": 4,
   "metadata": {
    "ExecuteTime": {
     "end_time": "2021-10-07T05:18:49.440151Z",
     "start_time": "2021-10-07T05:18:49.423971Z"
    },
    "hidden": true
   },
   "outputs": [
    {
     "data": {
      "text/plain": [
       "[1, 2, 5, 7]"
      ]
     },
     "execution_count": 4,
     "metadata": {},
     "output_type": "execute_result"
    }
   ],
   "source": [
    "insertion_sort([5,1,7,2])"
   ]
  },
  {
   "cell_type": "code",
   "execution_count": 2,
   "metadata": {},
   "outputs": [
    {
     "data": {
      "text/plain": [
       "True"
      ]
     },
     "execution_count": 2,
     "metadata": {},
     "output_type": "execute_result"
    }
   ],
   "source": [
    "'a'<'z'"
   ]
  },
  {
   "cell_type": "markdown",
   "metadata": {
    "hidden": true
   },
   "source": [
    "#### **Time complexity of insertion sort**\n",
    "- O(N^2) (Number of iterations and comparisons both proportional to length of list)"
   ]
  },
  {
   "cell_type": "markdown",
   "metadata": {
    "id": "yPcfeKkteUwx"
   },
   "source": [
    "## 2. Trees\n",
    "\n",
    "- Unit: Node\n",
    "- Each node has a key\n",
    "- Grows from a root node → No parent\n",
    "- Ends with leaf nodes → No child\n",
    "\n",
    "![Tree](data:image/png;base64,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)\n",
    "\n"
   ]
  },
  {
   "cell_type": "markdown",
   "metadata": {
    "id": "7N39XgUhmsOx"
   },
   "source": [
    "## 2. Binary Tree\n",
    "\n",
    "Inherits all properties from tree, but:\n",
    "- Each node has <u>at most 2 children</u>.\n",
    "\n",
    "<font color='red'><b>Question: </b></font> Is the tree above a binary tree?"
   ]
  },
  {
   "cell_type": "markdown",
   "metadata": {
    "id": "rjItA6FYnD2Q"
   },
   "source": [
    "<font color='red'><b>Answer: </b></font>"
   ]
  },
  {
   "cell_type": "markdown",
   "metadata": {
    "id": "0erDaXNonJ_m"
   },
   "source": [
    "## 3. Binary Search Tree\n",
    "\n",
    "Inherits all properties from binary tree, but the key in each node is:\n",
    "1. greater than or equal to any key stored in the left **sub-tree**, AND\n",
    "2. less than or equal to any key stored in the right **sub-tree**.\n",
    "\n",
    "<font color='red'><b>Question: </b></font> Is the tree above a binary search tree?"
   ]
  },
  {
   "cell_type": "markdown",
   "metadata": {
    "id": "oC1wLcmioQ7g"
   },
   "source": [
    "<font color='red'><b>Answer: </b></font>"
   ]
  },
  {
   "cell_type": "markdown",
   "metadata": {
    "id": "g3Kt2weaorWv"
   },
   "source": [
    "### 3.1 Searching in Binary Search Tree\n",
    "\n",
    "![Binary Search Tree from Wikipedia](https://upload.wikimedia.org/wikipedia/commons/thumb/d/da/Binary_search_tree.svg/240px-Binary_search_tree.svg.png)\n",
    "\n",
    "1. Start from root. \n",
    "2. If the key is larger than the query value, go left.\n",
    "3. If the key is less than the query value, go right.\n",
    "4. If the key equals to query value, return True.\n",
    "5. If there are no child(left/right specific) and the query is not found, return False.\n"
   ]
  },
  {
   "cell_type": "markdown",
   "metadata": {
    "id": "UC87-PcbpyMg"
   },
   "source": [
    "<font color='red'><b>Task: </b></font> Describe the process of searching 14 in the binary search tree above."
   ]
  },
  {
   "cell_type": "markdown",
   "metadata": {
    "id": "FIqDrD-Np-Lm"
   },
   "source": [
    "<font color='red'><b>Answer: </b></font> \n"
   ]
  },
  {
   "cell_type": "markdown",
   "metadata": {
    "id": "kMlYeQ_eqR4m"
   },
   "source": [
    "<font color='red'><b>Task: </b></font> Describe the process of searching 5 in the binary search tree above."
   ]
  },
  {
   "cell_type": "markdown",
   "metadata": {
    "id": "_wef32GQqR46"
   },
   "source": [
    "<font color='red'><b>Answer: </b></font> \n"
   ]
  },
  {
   "cell_type": "markdown",
   "metadata": {
    "id": "DwgQ1DXArlAI"
   },
   "source": [
    "## 4. Tree Traversal\n",
    "\n",
    "Different ways to visit all nodes of the tree. The tree below will be used in demonstration.\n",
    "\n",
    "![Tree](data:image/png;base64,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)"
   ]
  },
  {
   "cell_type": "markdown",
   "metadata": {
    "id": "W5LHmEHfr5HQ"
   },
   "source": [
    "### 4.1 Breadth-First Search(BFS)\n",
    "\n",
    "Concatenate layer by layer.\n",
    "\n",
    "BFS of the tree above: **<font color='red'>3</font>,<font color='purple'>6,2</font>,<font color='green'>8,4,7</font>,<font color='blue'>5,9</font>**"
   ]
  },
  {
   "cell_type": "markdown",
   "metadata": {
    "id": "qqnkSB3MtEH4"
   },
   "source": [
    "### 4.2 Inorder Depth-First Search(DFS)\n",
    "\n",
    "For each node:\n",
    "1. visit **left** child\n",
    "2. if left sub-tree are all visited, put key of the node(**self**) into the travese sequence\n",
    "3. visit the **right** child\n",
    "4. if left and right sub-trees are both visited, go to parent\n",
    "\n",
    "**Inorder DFS of the tree above: 5,8,6,4,3,2,9,7**"
   ]
  },
  {
   "cell_type": "markdown",
   "metadata": {
    "id": "vlhl9jVuuUQ0"
   },
   "source": [
    "### 4.3 Preorder Depth-First Search(DFS)\n",
    "\n",
    "For each node:\n",
    "1. put key of the node(**self**) into the travese sequence\n",
    "2. visit **left** child\n",
    "3. if left subtree is visited, visit the **right** child\n",
    "\n",
    "**Preorder DFS of the tree above: 3,6,8,5,4,2,7,9**"
   ]
  },
  {
   "cell_type": "markdown",
   "metadata": {
    "id": "nXZ9iKVVvI5P"
   },
   "source": [
    "### 4.4 Postorder Depth-First Search(DFS)\n",
    "\n",
    "For each node:\n",
    "1. visit **left** child\n",
    "2. if left subtree is visited, visit the **right** child\n",
    "3. if left and right subtrees are visited, put key of the node(**self**) into the travese sequence\n",
    "\n",
    "**Postorder DFS of the tree above: 5,8,4,6,9,7,2,3**"
   ]
  },
  {
   "cell_type": "markdown",
   "metadata": {
    "id": "3C43qcTPv7If"
   },
   "source": [
    "<font color='red'><b>Task: </b></font> Write down the BFS, Inorder DFS, Preorder DFS and Postorder DFS for the tree below.\n",
    "\n",
    "![Tree for task](data:image/png;base64,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)"
   ]
  },
  {
   "cell_type": "markdown",
   "metadata": {
    "id": "NN5dq7fLwUfY"
   },
   "source": [
    "<font color='red'><b>Answer: </b></font>\n",
    "\n",
    "- BFS: 2,88,93,12,7,5,19\n",
    "- Inorder DFS: 5,12,19,88,2,93,7\n",
    "- Preorder DFS: 2,88,12,5,19,93,7\n",
    "- Postorder DFS: 5,19,12,88,7,93,2"
   ]
  },
  {
   "cell_type": "markdown",
   "metadata": {
    "id": "6ZpVJ2QDxWt3"
   },
   "source": [
    "## 5. Infix to Postfix Conversion\n",
    "\n",
    "a. Write down the Inorder DFS and Postorder DFS for the binary expression tree below.\n",
    "\n",
    "![expression tree](data:image/png;base64,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)"
   ]
  },
  {
   "cell_type": "markdown",
   "metadata": {
    "id": "3ZHyk2xbyjxY"
   },
   "source": [
    "- Inorder DFS: ?\n",
    "- Postorder DFS: ?"
   ]
  },
  {
   "cell_type": "markdown",
   "metadata": {
    "id": "gdDFwcBbzQ1Z"
   },
   "source": [
    "b. From the tree above, we know 1 - 3 should be performed before multiplication. \n",
    "\n",
    "Add suitable parenthesis in the inroder DFS above that can correcly show the order of operations. This is known as the infix notation."
   ]
  },
  {
   "cell_type": "markdown",
   "metadata": {
    "id": "RCqRmOCXzoGH"
   },
   "source": [
    "- Infix: ?"
   ]
  },
  {
   "cell_type": "markdown",
   "metadata": {
    "id": "WdvJ9Mz38JSn"
   },
   "source": [
    "c. Now, we have the infix and postfix(postorder DFS) notations of the expression tree:\n",
    "<center>\n",
    "<pre>\n",
    "Infix: ?\n",
    "Postfix: ?\n",
    "</pre>\n",
    "</center>\n",
    "\n",
    "Let's separate the numbers and operators from infix and postfix respectively.\n",
    "```\n",
    "Numbers in infix:   ?\n",
    "Numbers in postfix: ?\n",
    "\n",
    "Operators in infix:  ?\n",
    "Operators in postfix: ?\n",
    "```\n",
    "\n",
    "From above, we can see the orders of numbers in infix and postfix are the same.\n",
    "\n",
    "Moreover, the operations with highest priority is put first in postfix.\n",
    "\n",
    "**Now, let's write a function that asks the user to enter an infix(without space) and print out the postfix of that particular postfix.**\n",
    "\n",
    "Idea to solve this task:\n",
    "\n",
    "1. When we see a number, simply put it to postfix.\n",
    "2. For operator, we need to use a Stack to store them. When we see an operator:\n",
    "    - If the operator has higher precedence than the top of Stack, push the operator to the Stack\n",
    "    - If operator is '(', push to Stack.\n",
    "    - If operator is ')', pop all the operators to postfix until reaching a '(' in Stack.\n",
    "    - If operator has lower or equal precedence than the top of Stack, pop Stack until reaching an operator with higher precedence. After that, push the operator to Stack.\n",
    "3. If we reach the end of the infix, pop all operators in Stack to the back of postfix."
   ]
  },
  {
   "cell_type": "code",
   "execution_count": null,
   "metadata": {
    "id": "fljTFwLVX47G"
   },
   "outputs": [],
   "source": [
    "# Stack Implementation\n",
    "class Stack:\n",
    "    # create a constructor to initialize the stack & count variable\n",
    "    def __init__(self):\n",
    "        self.the_stack = []\n",
    "        self.count = 0\n",
    "    \n",
    "    # overload len method to get the size/count of the stack\n",
    "    def __len__(self):\n",
    "        return self.count\n",
    "\n",
    "    # is_empty method checks if stack is empty or not\n",
    "    def is_empty(self):\n",
    "        return self.count == 0\n",
    "    \n",
    "    # push method push the item into stack\n",
    "    def push(self,item):\n",
    "        self.the_stack.append(item)\n",
    "        self.count += 1\n",
    "\n",
    "    # pop method pops out the item from top of the stack\n",
    "    def pop(self):\n",
    "        assert not self.is_empty()\n",
    "        self.count -= 1\n",
    "        return self.the_stack.pop()\n",
    "    # peek method helps us to look inside the values of stack\n",
    "    def peek(self):\n",
    "        assert not self.is_empty()\n",
    "        return self.the_stack[-1]\n",
    "    # string representation of the stack\n",
    "    def __str__(self):\n",
    "        return f'Stack({str(self.the_stack)})'"
   ]
  },
  {
   "cell_type": "code",
   "execution_count": 1,
   "metadata": {
    "ExecuteTime": {
     "end_time": "2021-10-07T05:27:14.556401Z",
     "start_time": "2021-10-07T05:27:14.543212Z"
    },
    "colab": {
     "base_uri": "https://localhost:8080/"
    },
    "executionInfo": {
     "elapsed": 5026,
     "status": "ok",
     "timestamp": 1632748402387,
     "user": {
      "displayName": "Kelvin Lo",
      "photoUrl": "https://lh3.googleusercontent.com/a-/AOh14Ggat1DO4WM3A1o0pmnr7y1jEmCWFqjCIpg9Yk0C=s64",
      "userId": "08004694506673442732"
     },
     "user_tz": -600
    },
    "id": "X6yWkAJMiP7_",
    "outputId": "c76deb1c-d088-4f69-ccc6-a6c911ed401f"
   },
   "outputs": [],
   "source": [
    "# Create set of operators"
   ]
  },
  {
   "cell_type": "markdown",
   "metadata": {
    "id": "dVQDgEx6CQY8"
   },
   "source": [
    "## Exercise"
   ]
  },
  {
   "cell_type": "markdown",
   "metadata": {},
   "source": [
    "### 1. Reverse selection sort\n",
    "\n",
    "Write a function `def selection_sort_reverse(a_list)` that sorts a_list in descending order with selection sort algorithm.\n",
    "\n",
    "```\n",
    "  selection_sort_reverse([5,3,4,1,2])\n",
    "→ [5, 4, 3, 2, 1]\n",
    "```"
   ]
  },
  {
   "cell_type": "code",
   "execution_count": 37,
   "metadata": {},
   "outputs": [],
   "source": [
    "def selection_sort_reverse(a_list):\n",
    "    sorted_list = a_list[:]\n",
    "    for i in range(len(sorted_list)-1):\n",
    "        largest_index = i\n",
    "        for index in range(i+1,len(sorted_list)):\n",
    "            if sorted_list[index] > sorted_list[largest_index]:\n",
    "                sorted_list[index],sorted_list[largest_index] = sorted_list[largest_index],sorted_list[index]\n",
    "    return sorted_list"
   ]
  },
  {
   "cell_type": "code",
   "execution_count": 38,
   "metadata": {},
   "outputs": [
    {
     "name": "stdout",
     "output_type": "stream",
     "text": [
      "[5, 4, 3, 2, 1]\n"
     ]
    }
   ],
   "source": [
    "print(selection_sort_reverse([5,3,4,1,2]))"
   ]
  },
  {
   "cell_type": "markdown",
   "metadata": {},
   "source": [
    "### 2. Insertion sort on customised objects\n",
    "\n",
    "Now, we want to build the ranks of different Players by their score. Write a function `def insertion_sort_players(a_list)` that sorts a list of Player instances based on the `score` attribute of each Player instance in descending order using the insertion sort algorithm. The Player class is defined below.\n",
    "\n",
    "```\n",
    "  insertion_sort_players([Player(130,'a'),Player(400,'b'),Player(250,'c'),Player(360,'d'),Player(720,'e'),Player(81,'f')]) \n",
    "→ [Player(720,'e'), Player(400,'b'), Player(360,'d'), Player(250,'c'), Player(130,'a'), Player(81,'f')]\n",
    "```"
   ]
  },
  {
   "cell_type": "code",
   "execution_count": 41,
   "metadata": {},
   "outputs": [],
   "source": [
    "class Player:\n",
    "    def __init__(self,score,name):\n",
    "        self.score = score\n",
    "        self.name = name\n",
    "    def __repr__(self):\n",
    "        return f\"Player({repr(self.score)},{repr(self.name)})\""
   ]
  },
  {
   "cell_type": "code",
   "execution_count": 44,
   "metadata": {},
   "outputs": [],
   "source": [
    "## Answer \n",
    "def insertion_sort_players(a_list):\n",
    "    sort_list = a_list[:]\n",
    "    for i in range(len(a_list)-1):\n",
    "        index = i\n",
    "        while index > 0:\n",
    "            if sort_list[index+1].score > sort_list[index].score:\n",
    "                sort_list[index],sort_list[index+1] = sort_list[index+1],sort_list[index]\n",
    "                index -= 1\n",
    "            else:\n",
    "                break\n",
    "    return sort_list\n",
    "            \n",
    "        "
   ]
  },
  {
   "cell_type": "code",
   "execution_count": 45,
   "metadata": {},
   "outputs": [
    {
     "name": "stdout",
     "output_type": "stream",
     "text": [
      "[Player(130,'a'), Player(720,'e'), Player(400,'b'), Player(360,'d'), Player(250,'c'), Player(81,'f')]\n"
     ]
    }
   ],
   "source": [
    "players = [Player(130,'a'),Player(400,'b'),Player(250,'c'),Player(360,'d'),Player(720,'e'),Player(81,'f')]\n",
    "print(insertion_sort_players(players))"
   ]
  },
  {
   "cell_type": "markdown",
   "metadata": {},
   "source": [
    "### 3. Building up a flight info display board <small>(Extra)</small>\n",
    "\n",
    "You want to build up a flight info display board for arrivals. Below are the implementations of Flight and FlightBoard classes. \n",
    "\n",
    "**(You do need to look into the code in details, but need to run the cell)**\n",
    "\n",
    "Attributes of Flight:\n",
    "1. flight_num(str): flight number\n",
    "2. arrival_time(str): arrival time of the flight in 'YYYY/MM/DD hh:mm:ss' format.\n",
    "\n",
    "Attributes of FlightBoard:\n",
    "1. flight_list(list[Flight]]): a list of Flight instances"
   ]
  },
  {
   "cell_type": "code",
   "execution_count": 5,
   "metadata": {
    "ExecuteTime": {
     "end_time": "2021-10-07T05:22:25.290734Z",
     "start_time": "2021-10-07T05:22:25.273785Z"
    }
   },
   "outputs": [],
   "source": [
    "class Flight:\n",
    "    \"\"\"\n",
    "    A class that represents a flight\n",
    "    \"\"\"\n",
    "    def __init__(self,flight_num, arrival_time):\n",
    "        \"\"\"\n",
    "        Constructor\n",
    "        Args:\n",
    "            1. flight_num(str): The flight number\n",
    "            2. arrival_time(str): The time of arrival in the format of 'YYYY/MM/DD hh:mm:ss'\n",
    "        \"\"\"\n",
    "        self.flight_num = flight_num\n",
    "        self.arrival_time = arrival_time\n",
    "    def __str__(self):\n",
    "        return f\"Flight({self.flight_num}, {self.arrival_time})\"\n",
    "    def __repr__(self):\n",
    "        return f\"Flight({self.flight_num}, {self.arrival_time})\"\n",
    "\n",
    "class FlightBoard:\n",
    "    \"\"\"\n",
    "    A class that represents a flight board that shows the arrival flights\n",
    "    \"\"\"\n",
    "    def __init__(self):\n",
    "        \"\"\"\n",
    "        Constructor\n",
    "        self.flight_list: a list of flights of arrivals that is on the display\n",
    "        \"\"\"\n",
    "        self.flight_list = []\n",
    "    def add_flight(self,flight):\n",
    "        \"\"\"\n",
    "        A method that adds a flight to the flight board\n",
    "        Args:\n",
    "        1. flight(Flight): a Flight object that is added to the flight board display\n",
    "        \"\"\"\n",
    "        self.flight_list.append(flight)\n",
    "    def __str__(self):\n",
    "        \"\"\"\n",
    "        Fancy printing of the flight board\n",
    "        \"\"\"\n",
    "        print_strings = ['\\u001b[40;1m\\u001b[37;1m ┌' + '─' * 9 + '┬' + '─' * 21 + '┐ \\u001b[0m']\n",
    "        print_strings.append('\\u001b[40;1m\\u001b[37;1m │\\u001b[37;1m ' + 'Flight ' + ' \\u001b[37;1m\\u001b[40;1m│\\u001b[37;1m\\u001b[40;1m ' + 'Time Of Arrival    ' + ' \\u001b[37;1m│ \\u001b[0m')\n",
    "        #print_strings.append('├' + '─' * 9 + '┼' + '─' * 21 + '┤')\n",
    "        for flight in self.flight_list:\n",
    "            if int(flight.flight_num[3:]) < 5000:\n",
    "                print_strings.append('\\u001b[37;1m\\u001b[40;1m │\\u001b[33;1m ' + flight.flight_num + ' \\u001b[37;1m│\\u001b[33;1m ' + flight.arrival_time + ' \\u001b[37;1m│ \\u001b[0m')\n",
    "            else:\n",
    "                print_strings.append('\\u001b[37;1m\\u001b[40;1m │\\u001b[36;1m ' + flight.flight_num + ' \\u001b[37;1m│\\u001b[36;1m ' + flight.arrival_time + ' \\u001b[37;1m│ \\u001b[0m')\n",
    "        print_strings += ['\\u001b[40;1m\\u001b[37;1m └' + '─' * 9 + '┴' + '─' * 21 + '┘ \\u001b[0m']\n",
    "\n",
    "        return '\\n'.join(print_strings)\n",
    "    def __repr__(self):\n",
    "        return f'FlightBoard({repr(self.flight_list)})'"
   ]
  },
  {
   "cell_type": "markdown",
   "metadata": {},
   "source": [
    "First thing first, let us create a FlightBoard with 20 unsorted Flight instances randomly.\n",
    "\n",
    "**(You do need to look into the code in details, but need to run the cell)**"
   ]
  },
  {
   "cell_type": "code",
   "execution_count": 6,
   "metadata": {
    "ExecuteTime": {
     "end_time": "2021-10-07T05:22:26.295887Z",
     "start_time": "2021-10-07T05:22:26.287751Z"
    }
   },
   "outputs": [],
   "source": [
    "# create an unsorted flight list randomly\n",
    "import random, string\n",
    "random.seed(12345)\n",
    "\n",
    "years = ['2021']\n",
    "months = [f'{str(i).zfill(2)}' for i in range(1,2)]\n",
    "days = [f'{str(i).zfill(2)}' for i in range(4,6)]\n",
    "hours = [f'{str(i).zfill(2)}' for i in range(2,5)]\n",
    "minutes = [f'{str(i).zfill(2)}' for i in range(60)]\n",
    "seconds = [f'{str(i).zfill(2)}' for i in range(60)]\n",
    "\n",
    "carriers = [\"\".join(random.choices(string.ascii_uppercase,k=2)) for _ in range(10)]\n",
    "\n",
    "flight_board = FlightBoard()\n",
    "\n",
    "for _ in range(10):\n",
    "    flight_board.add_flight(Flight(f'{random.choice(carriers)} {str(random.randint(0,4999)).zfill(4)}', f'{random.choice(years)}/{random.choice(months)}/{random.choice(days)} {random.choice(hours)}:{random.choice(minutes)}:{random.choice(seconds)}'))\n",
    "\n",
    "#flight_list = [Flight(f'{random.choice(carriers)} {str(random.randint(0,4999)).zfill(4)}', f'{random.choice(years)}/{random.choice(months)}/{random.choice(days)} {random.choice(hours)}:{random.choice(minutes)}:{random.choice(seconds)}') for _ in range(10)]\n",
    "code_share_flight = []\n",
    "for _ in range(10):\n",
    "    code_share_flight.append(Flight(f'{random.choice(carriers)} {str(random.randint(5000,9999)).zfill(4)}',random.choice(flight_board.flight_list).arrival_time))\n",
    "\n",
    "for flight in code_share_flight:\n",
    "    flight_board.add_flight(flight)"
   ]
  },
  {
   "cell_type": "markdown",
   "metadata": {},
   "source": [
    "Now, we have created a FlightBoard instance `flight_board` as follows."
   ]
  },
  {
   "cell_type": "code",
   "execution_count": 7,
   "metadata": {
    "ExecuteTime": {
     "end_time": "2021-10-07T05:22:27.733415Z",
     "start_time": "2021-10-07T05:22:27.729417Z"
    }
   },
   "outputs": [
    {
     "name": "stdout",
     "output_type": "stream",
     "text": [
      "\u001b[40;1m\u001b[37;1m ┌─────────┬─────────────────────┐ \u001b[0m\n",
      "\u001b[40;1m\u001b[37;1m │\u001b[37;1m Flight  \u001b[37;1m\u001b[40;1m│\u001b[37;1m\u001b[40;1m Time Of Arrival     \u001b[37;1m│ \u001b[0m\n",
      "\u001b[37;1m\u001b[40;1m │\u001b[33;1m VH 1556 \u001b[37;1m│\u001b[33;1m 2021/01/04 03:21:01 \u001b[37;1m│ \u001b[0m\n",
      "\u001b[37;1m\u001b[40;1m │\u001b[33;1m ZK 3403 \u001b[37;1m│\u001b[33;1m 2021/01/04 04:11:18 \u001b[37;1m│ \u001b[0m\n",
      "\u001b[37;1m\u001b[40;1m │\u001b[33;1m VH 3395 \u001b[37;1m│\u001b[33;1m 2021/01/05 02:33:38 \u001b[37;1m│ \u001b[0m\n",
      "\u001b[37;1m\u001b[40;1m │\u001b[33;1m OE 0329 \u001b[37;1m│\u001b[33;1m 2021/01/05 02:47:51 \u001b[37;1m│ \u001b[0m\n",
      "\u001b[37;1m\u001b[40;1m │\u001b[33;1m ZK 1522 \u001b[37;1m│\u001b[33;1m 2021/01/04 02:10:19 \u001b[37;1m│ \u001b[0m\n",
      "\u001b[37;1m\u001b[40;1m │\u001b[33;1m KA 1231 \u001b[37;1m│\u001b[33;1m 2021/01/05 02:24:20 \u001b[37;1m│ \u001b[0m\n",
      "\u001b[37;1m\u001b[40;1m │\u001b[33;1m KA 0404 \u001b[37;1m│\u001b[33;1m 2021/01/04 03:51:58 \u001b[37;1m│ \u001b[0m\n",
      "\u001b[37;1m\u001b[40;1m │\u001b[33;1m JF 0095 \u001b[37;1m│\u001b[33;1m 2021/01/04 03:39:03 \u001b[37;1m│ \u001b[0m\n",
      "\u001b[37;1m\u001b[40;1m │\u001b[33;1m KA 4028 \u001b[37;1m│\u001b[33;1m 2021/01/04 03:49:42 \u001b[37;1m│ \u001b[0m\n",
      "\u001b[37;1m\u001b[40;1m │\u001b[33;1m VH 4559 \u001b[37;1m│\u001b[33;1m 2021/01/05 02:57:21 \u001b[37;1m│ \u001b[0m\n",
      "\u001b[37;1m\u001b[40;1m │\u001b[36;1m OE 6665 \u001b[37;1m│\u001b[36;1m 2021/01/05 02:33:38 \u001b[37;1m│ \u001b[0m\n",
      "\u001b[37;1m\u001b[40;1m │\u001b[36;1m JF 7361 \u001b[37;1m│\u001b[36;1m 2021/01/05 02:33:38 \u001b[37;1m│ \u001b[0m\n",
      "\u001b[37;1m\u001b[40;1m │\u001b[36;1m ZK 5742 \u001b[37;1m│\u001b[36;1m 2021/01/04 03:49:42 \u001b[37;1m│ \u001b[0m\n",
      "\u001b[37;1m\u001b[40;1m │\u001b[36;1m KA 6200 \u001b[37;1m│\u001b[36;1m 2021/01/04 03:21:01 \u001b[37;1m│ \u001b[0m\n",
      "\u001b[37;1m\u001b[40;1m │\u001b[36;1m YC 6514 \u001b[37;1m│\u001b[36;1m 2021/01/05 02:57:21 \u001b[37;1m│ \u001b[0m\n",
      "\u001b[37;1m\u001b[40;1m │\u001b[36;1m VH 7164 \u001b[37;1m│\u001b[36;1m 2021/01/04 03:49:42 \u001b[37;1m│ \u001b[0m\n",
      "\u001b[37;1m\u001b[40;1m │\u001b[36;1m OJ 5541 \u001b[37;1m│\u001b[36;1m 2021/01/04 03:39:03 \u001b[37;1m│ \u001b[0m\n",
      "\u001b[37;1m\u001b[40;1m │\u001b[36;1m OJ 6490 \u001b[37;1m│\u001b[36;1m 2021/01/05 02:47:51 \u001b[37;1m│ \u001b[0m\n",
      "\u001b[37;1m\u001b[40;1m │\u001b[36;1m JF 5223 \u001b[37;1m│\u001b[36;1m 2021/01/05 02:24:20 \u001b[37;1m│ \u001b[0m\n",
      "\u001b[37;1m\u001b[40;1m │\u001b[36;1m OE 6441 \u001b[37;1m│\u001b[36;1m 2021/01/04 03:51:58 \u001b[37;1m│ \u001b[0m\n",
      "\u001b[40;1m\u001b[37;1m └─────────┴─────────────────────┘ \u001b[0m\n"
     ]
    }
   ],
   "source": [
    "print(flight_board)"
   ]
  },
  {
   "cell_type": "code",
   "execution_count": 8,
   "metadata": {
    "ExecuteTime": {
     "end_time": "2021-10-07T05:22:28.594931Z",
     "start_time": "2021-10-07T05:22:28.586302Z"
    }
   },
   "outputs": [
    {
     "data": {
      "text/plain": [
       "FlightBoard([Flight(VH 1556, 2021/01/04 03:21:01), Flight(ZK 3403, 2021/01/04 04:11:18), Flight(VH 3395, 2021/01/05 02:33:38), Flight(OE 0329, 2021/01/05 02:47:51), Flight(ZK 1522, 2021/01/04 02:10:19), Flight(KA 1231, 2021/01/05 02:24:20), Flight(KA 0404, 2021/01/04 03:51:58), Flight(JF 0095, 2021/01/04 03:39:03), Flight(KA 4028, 2021/01/04 03:49:42), Flight(VH 4559, 2021/01/05 02:57:21), Flight(OE 6665, 2021/01/05 02:33:38), Flight(JF 7361, 2021/01/05 02:33:38), Flight(ZK 5742, 2021/01/04 03:49:42), Flight(KA 6200, 2021/01/04 03:21:01), Flight(YC 6514, 2021/01/05 02:57:21), Flight(VH 7164, 2021/01/04 03:49:42), Flight(OJ 5541, 2021/01/04 03:39:03), Flight(OJ 6490, 2021/01/05 02:47:51), Flight(JF 5223, 2021/01/05 02:24:20), Flight(OE 6441, 2021/01/04 03:51:58)])"
      ]
     },
     "execution_count": 8,
     "metadata": {},
     "output_type": "execute_result"
    }
   ],
   "source": [
    "flight_board"
   ]
  },
  {
   "cell_type": "markdown",
   "metadata": {},
   "source": [
    "<b><font color='red'>Task:</font></b> In real life, the flights on the display board are sorted by time of arrival, and then the Flight number (e.g. 'CX 0104') in ascending order. Now, we have a list of Flight instances. Please write a function *sort_flights(flight_list)* that sorts the flights based on the aforementioned criteria using bubble/selection/insertion sort, the sorting is performed on flight_list directly(no list copying), so the method does not need to return the sorted list."
   ]
  },
  {
   "cell_type": "code",
   "execution_count": 2,
   "metadata": {
    "ExecuteTime": {
     "end_time": "2021-10-07T05:28:23.870655Z",
     "start_time": "2021-10-07T05:28:23.853477Z"
    }
   },
   "outputs": [],
   "source": [
    "## Answer"
   ]
  },
  {
   "cell_type": "code",
   "execution_count": 10,
   "metadata": {
    "ExecuteTime": {
     "end_time": "2021-10-07T05:22:53.996867Z",
     "start_time": "2021-10-07T05:22:53.986914Z"
    }
   },
   "outputs": [
    {
     "name": "stdout",
     "output_type": "stream",
     "text": [
      "\u001b[40;1m\u001b[37;1m ┌─────────┬─────────────────────┐ \u001b[0m\n",
      "\u001b[40;1m\u001b[37;1m │\u001b[37;1m Flight  \u001b[37;1m\u001b[40;1m│\u001b[37;1m\u001b[40;1m Time Of Arrival     \u001b[37;1m│ \u001b[0m\n",
      "\u001b[37;1m\u001b[40;1m │\u001b[33;1m ZK 1522 \u001b[37;1m│\u001b[33;1m 2021/01/04 02:10:19 \u001b[37;1m│ \u001b[0m\n",
      "\u001b[37;1m\u001b[40;1m │\u001b[36;1m KA 6200 \u001b[37;1m│\u001b[36;1m 2021/01/04 03:21:01 \u001b[37;1m│ \u001b[0m\n",
      "\u001b[37;1m\u001b[40;1m │\u001b[33;1m VH 1556 \u001b[37;1m│\u001b[33;1m 2021/01/04 03:21:01 \u001b[37;1m│ \u001b[0m\n",
      "\u001b[37;1m\u001b[40;1m │\u001b[33;1m JF 0095 \u001b[37;1m│\u001b[33;1m 2021/01/04 03:39:03 \u001b[37;1m│ \u001b[0m\n",
      "\u001b[37;1m\u001b[40;1m │\u001b[36;1m OJ 5541 \u001b[37;1m│\u001b[36;1m 2021/01/04 03:39:03 \u001b[37;1m│ \u001b[0m\n",
      "\u001b[37;1m\u001b[40;1m │\u001b[33;1m KA 4028 \u001b[37;1m│\u001b[33;1m 2021/01/04 03:49:42 \u001b[37;1m│ \u001b[0m\n",
      "\u001b[37;1m\u001b[40;1m │\u001b[36;1m VH 7164 \u001b[37;1m│\u001b[36;1m 2021/01/04 03:49:42 \u001b[37;1m│ \u001b[0m\n",
      "\u001b[37;1m\u001b[40;1m │\u001b[36;1m ZK 5742 \u001b[37;1m│\u001b[36;1m 2021/01/04 03:49:42 \u001b[37;1m│ \u001b[0m\n",
      "\u001b[37;1m\u001b[40;1m │\u001b[33;1m KA 0404 \u001b[37;1m│\u001b[33;1m 2021/01/04 03:51:58 \u001b[37;1m│ \u001b[0m\n",
      "\u001b[37;1m\u001b[40;1m │\u001b[36;1m OE 6441 \u001b[37;1m│\u001b[36;1m 2021/01/04 03:51:58 \u001b[37;1m│ \u001b[0m\n",
      "\u001b[37;1m\u001b[40;1m │\u001b[33;1m ZK 3403 \u001b[37;1m│\u001b[33;1m 2021/01/04 04:11:18 \u001b[37;1m│ \u001b[0m\n",
      "\u001b[37;1m\u001b[40;1m │\u001b[36;1m JF 5223 \u001b[37;1m│\u001b[36;1m 2021/01/05 02:24:20 \u001b[37;1m│ \u001b[0m\n",
      "\u001b[37;1m\u001b[40;1m │\u001b[33;1m KA 1231 \u001b[37;1m│\u001b[33;1m 2021/01/05 02:24:20 \u001b[37;1m│ \u001b[0m\n",
      "\u001b[37;1m\u001b[40;1m │\u001b[36;1m JF 7361 \u001b[37;1m│\u001b[36;1m 2021/01/05 02:33:38 \u001b[37;1m│ \u001b[0m\n",
      "\u001b[37;1m\u001b[40;1m │\u001b[36;1m OE 6665 \u001b[37;1m│\u001b[36;1m 2021/01/05 02:33:38 \u001b[37;1m│ \u001b[0m\n",
      "\u001b[37;1m\u001b[40;1m │\u001b[33;1m VH 3395 \u001b[37;1m│\u001b[33;1m 2021/01/05 02:33:38 \u001b[37;1m│ \u001b[0m\n",
      "\u001b[37;1m\u001b[40;1m │\u001b[33;1m OE 0329 \u001b[37;1m│\u001b[33;1m 2021/01/05 02:47:51 \u001b[37;1m│ \u001b[0m\n",
      "\u001b[37;1m\u001b[40;1m │\u001b[36;1m OJ 6490 \u001b[37;1m│\u001b[36;1m 2021/01/05 02:47:51 \u001b[37;1m│ \u001b[0m\n",
      "\u001b[37;1m\u001b[40;1m │\u001b[33;1m VH 4559 \u001b[37;1m│\u001b[33;1m 2021/01/05 02:57:21 \u001b[37;1m│ \u001b[0m\n",
      "\u001b[37;1m\u001b[40;1m │\u001b[36;1m YC 6514 \u001b[37;1m│\u001b[36;1m 2021/01/05 02:57:21 \u001b[37;1m│ \u001b[0m\n",
      "\u001b[40;1m\u001b[37;1m └─────────┴─────────────────────┘ \u001b[0m\n"
     ]
    }
   ],
   "source": [
    "sort_flights(flight_board.flight_list)\n",
    "print(flight_board)"
   ]
  },
  {
   "cell_type": "markdown",
   "metadata": {
    "id": "o3BHlSDNC9Xk"
   },
   "source": [
    "### 4. Tree Traversal\n",
    "\n",
    "Write down the BFS, Inorder DFS, Preorder DFS and Postorder DFS of the tree below:\n",
    "![image.png](data:image/png;base64,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)"
   ]
  },
  {
   "cell_type": "markdown",
   "metadata": {
    "id": "h16CI2z8DLnF"
   },
   "source": [
    "<font color='red'><b>Answer</b></font>:\n",
    "- **BFS:** TF9I316\n",
    "- **Inorder DFS:** FIT9136\n",
    "- **Preorder DFS:** TFI9316\n",
    "- **Postorder DFS:** IF1639T"
   ]
  },
  {
   "cell_type": "markdown",
   "metadata": {
    "heading_collapsed": true,
    "id": "eay8jQSHEuMl"
   },
   "source": [
    "### 5. Growing a tree\n",
    "\n",
    "Draw a binary tree based on its BFS, inorder DFS, preorder DFS and postorder DFS. (Challenging)\n",
    "\n",
    "- **BFS:** ALGORITHM\n",
    "- **Inorder DFS:** TOLAHRMGI\n",
    "- **Preorder DFS:** ALOTGRHMI\n",
    "- **Postorder DFS:** TOLHMRIGA"
   ]
  },
  {
   "cell_type": "markdown",
   "metadata": {
    "hidden": true,
    "id": "iXKa491hFopE"
   },
   "source": [
    "<font color='red'><b>Answer</b></font>:\n",
    "1. From BFS and preorder DFS, we know 'A' is the root.\n",
    "2. From BFS, we know 'L' must be a child of 'A'.\n",
    "3. From postorder DFS, we know 'G' must be a child of 'A'.\n",
    "4. Since 'L' comes before 'G' in BFS, **'L' is the left child of 'A'** and **'G' is the right child of 'A'**.\n",
    "\n",
    "![image.png](data:image/png;base64,iVBORw0KGgoAAAANSUhEUgAAAMwAAABgCAYAAABR/J1nAAAEwUlEQVR4Ae2di5GkIBBAjYuAjIdoSMZg2BrFGdbBT+son35XdbWutoqv+wHq1dl5/kAAAocJdIcjCYQABDzCUAQQEBBAGAEsQiGAMNQABAQEEEYAi1AIIAw1AAEBAYQRwCIUAghDDUBAQABhBLAIhQDCUAMQEBBAGAEsQiGAMNQABAQEEEYAi1AIIAw1AAEBAYQRwCIUAghDDUBAQABhBLAIhQDCUAMQEBBAGAEsQiGAMNQABAQEEEYA6+7QwfW+67p/f40d7j4txxcQQBgBrLtDU8J0Xe/d3Sfm+IcJIMxhVA8GLkaaHmMehL99KoTZ5pNh6+CteU3LjLfOevOaohnrmZhlSEXilAiTgJJ11RAkCcOK64M8GJM1LfPJEWYmUcjPSZDOv6dh8/TsvaKQhiptBsIUlXjn+8VTss9TM27+S0gVwpSQhdCGwZp/j5Q/skyPmnnEnD9ZCJM/B7Mu4WY/NZKEkYeb/+zZQpjsKZgaMD4Ni6ZjvZvu8r/fzbyenhXSaIXNQJhCko4whSRipxkIswOIzRCICSBMTINlCOwQQJgdQGyGQEwAYWIaLENghwDC7ABqbfPr3Q5/zhOA3nl21e6JNOdThzDn2a3uWUNBzv+KYPUi2JAkgDBJLOdW1liENch9Lhv37IUwP+Jac+HV3PYfpe/wYRDmMKp0YI2jSupKWrmO1LX9ch3CXKDZYs/c4jVdSPHXrgjzhWR/Reu9MdKs1wDCrLNJbtFSTK13CsnkHliJMAcgvUK0FpCWDuJgGXiEOUBKe9Fov/64RBAmprFY1jqqLDCMv8JiooIwqeoIU7CVTapXax9tEGZR/vSkCyCJXzVLgzChIBAlYcbGKq3SIAzTrw0ttjdp7GRUC6Mx4dsKnNuqabRRK4ymJJ/TQLaXFp7qhGFUkYkgidbAVpUwWnpBSZHfEdsyZxXCaOj57ij8K8dsVZrmhWk1cVeK+al9W+yomhWmxWQ9Vei/Pk9LnVaTwrSUoF8Xb67jtZKTpoRhVMmlw7HztpCfZoRppQc7Vnp1R9Wcq2aEqbuE9LW+VmkQRl+tcsUXCCDMBXjsqo8AwujLOVd8gQDCXIDHrvoIIIy+nBd8xYN3tvef730ab6zz4+fYjfUlfAsXYQouH11NG8Jn17v3f2k1v7eZfhpvpw9LZ8WSVxhno94kBpX6Vn1WTpz8ZgKuD/k3vQ9fXB/POAzW9+Pn2BHGe4S5uQxrObwLUqQ7ynFK1qW3PX2FeUeY99UGYMb6Akbdd6tYeIiA66dpWF/CXcr2NSPMNh+2PkEgCGOim5T3FG2cjs3TtfwdKsI8URCcY5sAwmzz+d7KlOybiaI1Q3j4szIln0YbbvqjilgRJoCMh+poJxabIfB5pGx654f4RnZw4XEzwkTpXhEmMVRHO7HYEoF5lInvWf4tI0yUboSJYOhdHMKbfhO/kzN+HHUKoZL3pn/1PUwMrPNMyQqpFpqR+YNKCEMJVkYg7whTGSyaCwGEoQYgICCAMAJYhEIAYagBCAgIIIwAFqEQQBhqAAICAggjgEUoBBCGGoCAgADCCGARCgGEoQYgICCAMAJYhEIAYagBCAgIIIwAFqEQQBhqAAICAggjgEUoBBCGGoCAgMAfM5cVbosOPxgAAAAASUVORK5CYII=)\n",
    "\n",
    "------\n",
    "\n",
    "5. From preorder DFS, we know 'O' is either a child of 'A' or 'L'. Since 'A' has 2 children already('L' and 'G'), so 'O' must be a child of 'L'.\n",
    "6. From inorder and postorder DFS, we know **'T' is the leftmost leaf of the tree and also the left child of 'O'**(Before 'O' in both inorder and postorder DFS).\n",
    "7. From inorder and postorder DFS, we know **'O' is the left child of 'L'**(Before 'L' in both inorder and postorder DFS)\n",
    "\n",
    "![image.png](data:image/png;base64,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)\n",
    "\n",
    "------\n",
    "\n",
    "8. From Inorder DFS, we know 'HRMGI' are on the right-hand side of root.\n",
    "9. From Inorder DFS, we know '**I' is the only right child of 'G'**.\n",
    "10. For remaining 'H','R' and 'M', it is 'HRM', 'RHM' and 'HMR' in inorder, preorder and postorder respectively. We can deduce 'R' is the parent of 'H' and 'M'. **'H' is the left child of 'R'**. **'M' is the right child of 'R'**. Moreover, **'R' is the left child of 'G'**.\n",
    "\n",
    "![image.png](data:image/png;base64,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)\n",
    "\n",
    "Finally, check whether the BFS and the DFS of the tree matches the description."
   ]
  },
  {
   "cell_type": "markdown",
   "metadata": {
    "heading_collapsed": true,
    "id": "RslL9HRlL0ar"
   },
   "source": [
    "## Extra material\n",
    "\n",
    "Note: The code implementations of BST and tree traversal are not examinable."
   ]
  },
  {
   "cell_type": "markdown",
   "metadata": {
    "heading_collapsed": true,
    "hidden": true,
    "id": "SIRKqDhOL3AD"
   },
   "source": [
    "### I. Binary Search Tree\n",
    "\n",
    "**Searching from BST:**\n",
    "\n",
    "![BST Search gif from penjee.com](https://blog.penjee.com/wp-content/uploads/2015/11/binary-search-tree-sorted-array-animation.gif)\n",
    "\n",
    "**Adding item to BST:**\n",
    "\n",
    "![BST Add gif from penjee.com](https://blog.penjee.com/wp-content/uploads/2015/11/binary-search-tree-insertion-animation.gif)"
   ]
  },
  {
   "cell_type": "code",
   "execution_count": null,
   "metadata": {
    "hidden": true,
    "id": "nsTvIayjL2Nn"
   },
   "outputs": [],
   "source": [
    "class TreeNode:\n",
    "    \"\"\"\n",
    "    A simple tree node that stores the value of the node and pointers to left and right children\n",
    "    \"\"\"\n",
    "    def __init__(self,value):\n",
    "        \"\"\"\n",
    "        Constructor: initialise the value of TreeNode\n",
    "        Arg:\n",
    "            1. value(int): The value of the TreeNode\n",
    "        \"\"\"\n",
    "        self.value = value\n",
    "        self.left_child = None\n",
    "        self.right_child = None\n",
    "    \n",
    "    def get_left_child(self):\n",
    "        return self.left_child\n",
    "\n",
    "    def get_right_child(self):\n",
    "        return self.right_child\n",
    "\n",
    "    def get_value(self):\n",
    "        return self.value\n",
    "\n",
    "    def set_left_child(self, node):\n",
    "        self.left_child = node\n",
    "\n",
    "    def set_right_child(self, node):\n",
    "        self.right_child = node\n",
    "\n",
    "    def __str__(self):\n",
    "        return f\"\\033[30mTreeNode({self.value}, left:{self.left_child and self.left_child.value}, right:{self.right_child and self.right_child.value})\"\n",
    "\n",
    "\n",
    "class BinarySearchTree:\n",
    "    def __init__(self):\n",
    "        self.root = None\n",
    "    \n",
    "\n",
    "    def add_node(self, value):\n",
    "        \"\"\"\n",
    "        Add a new node with the new value to the BST\n",
    "        Arg:\n",
    "            1. value(int): The value to be inserted to the BST\n",
    "        \"\"\"\n",
    "        # First of all, create a new node with the new value\n",
    "        new_node = TreeNode(value)\n",
    "        print(f'\\033[30m add {value}: ',end='')\n",
    "        if not self.root: # if the tree is not initialised\n",
    "            self.root = new_node # set the new node as the root, easy\n",
    "            print('\\033[30mAdd as root.')\n",
    "        else:\n",
    "            current_node = self.root # we walk from the root, set the current_node as the root node\n",
    "            while True:\n",
    "                print('\\033[30m'+str(current_node.get_value()),end='')\n",
    "                # Case 1: We have not found the available spot to add new item\n",
    "                if (current_node.get_value() >= value and current_node.get_left_child()): \n",
    "                    # if current node is larger than or equal to the new value, we go left\n",
    "                    current_node = current_node.get_left_child()\n",
    "                    print('\\033[35m\\033[1m --left--> \\033[21m',end='')\n",
    "                elif (current_node.get_value() < value and current_node.get_right_child()):\n",
    "                    # if current node is less than the new value, we go right\n",
    "                    current_node = current_node.get_right_child()\n",
    "                    print('\\033[94m\\033[1m --right--> \\033[21m',end='')\n",
    "                # Case 2: Available spot found\n",
    "                elif (current_node.get_value() >= value and not current_node.get_left_child()):\n",
    "                    # if current node is larger than or equal to the new value, we add the new node as the left child\n",
    "                    current_node.set_left_child(new_node)\n",
    "                    print('\\033[35m\\033[1m --left--> \\033[21m',end='')\n",
    "                    print('\\033[30madd')\n",
    "                    break\n",
    "                elif (current_node.get_value() < value and not current_node.get_right_child()):\n",
    "                    # if current node is less than the new value, we add the new node as the right child\n",
    "                    current_node.set_right_child(new_node)\n",
    "                    print('\\033[94m\\033[1m --right--> \\033[21m',end='')\n",
    "                    print('\\033[30madd')\n",
    "                    break\n",
    "\n",
    "    def get_minimum_child(self,node):\n",
    "        \"\"\"\n",
    "        Get the minimum leaf node of the current node. Simply go left.\n",
    "        Arg:\n",
    "            1. node(TreeNode): The starting node of the search\n",
    "        \"\"\"\n",
    "        current_node = node\n",
    "        while current_node.get_left_child():\n",
    "            current_node = current_node.get_left_child()\n",
    "\n",
    "        return current_node\n",
    "    \n",
    "    def remove_node(self,value):\n",
    "        \"\"\"\n",
    "        Search for the value in the tree, delete the node with matching value while maintaining the binary search tree structure\n",
    "        More information: https://www.techiedelight.com/deletion-from-bst/\n",
    "        However, the code here is implemented by myself, there might be some differences\n",
    "        This part can be difficult to understand, I recommend you to get some idea from visualisation first\n",
    "        Arg:\n",
    "            1. value(int): The integer we want to search in the binary search tree\n",
    "        \"\"\"\n",
    "        if not self.root:\n",
    "            # empty tree\n",
    "            print('\\033[30mThe tree has not been built.')\n",
    "            return False\n",
    "    \n",
    "        # set starting point as root of the tree\n",
    "        current_node = self.root\n",
    "        parent_node = None\n",
    "\n",
    "        # walking along the tree\n",
    "        while current_node and current_node.get_value() != value: # while we haven't reached the leaf node and the search value not found\n",
    "            parent_node = current_node # store the current node as the parent node\n",
    "            if value > current_node.get_value():\n",
    "                # go to right child\n",
    "                current_node = current_node.get_right_child()\n",
    "            elif value < current_node.get_value():\n",
    "                #go to left child\n",
    "                current_node = current_node.get_left_child()\n",
    "        \n",
    "        # reached the leaf node but the value is not found in the tree\n",
    "        if current_node is None:\n",
    "            print(f'\\033[30mNode {value} not found in tree.')\n",
    "            return False\n",
    "        \n",
    "        \"\"\"\n",
    "        The node is found\n",
    "        \"\"\"\n",
    "        if current_node.get_left_child() is None and current_node.get_right_child() is None:\n",
    "            # Case 1: the current_node has no children, simple case\n",
    "            if id(self.root) == id(current_node):\n",
    "                #if found item is root, simply remove root\n",
    "                self.root = None\n",
    "                print(f'\\033[30mRoot {self.root} is removed')\n",
    "            else:\n",
    "                print(f'\\033[30m{parent_node} has been updated to ',end='')\n",
    "                if id(parent_node.get_left_child()) == id(current_node):\n",
    "                    # if the current_node is the left child of the parent node, set the left chlid of the parent node as None\n",
    "                    parent_node.set_left_child(None)\n",
    "                elif id(parent_node.get_right_child()) == id(current_node):\n",
    "                    # if the current_node is the right child of the parent node, set the left chlid of the parent node as None\n",
    "                    parent_node.set_right_child(None)\n",
    "                print(parent_node)\n",
    "                \n",
    "        elif current_node.get_right_child() and current_node.get_left_child():\n",
    "            # Case 2: the target two children\n",
    "            # We have to replace this node with the smallest child node on the right hand side \n",
    "            # that is: always go left from the right child of the current node until there is no left child\n",
    "            \n",
    "            smallest_right_child = self.get_minimum_child(current_node.get_right_child())\n",
    "\n",
    "            self.remove_node(smallest_right_child.get_value())\n",
    "\n",
    "            if parent_node:\n",
    "                print(f'\\033[30m{parent_node} has been updated to ',end='')\n",
    "                if id(parent_node.get_left_child()) == id(current_node):\n",
    "                    # if the current_node is the left child of the parent node, set the left chlid of the parent node as None\n",
    "                    parent_node.set_left_child(smallest_right_child)\n",
    "                elif id(parent_node.get_right_child()) == id(current_node):\n",
    "                    # if the current_node is the right child of the parent node, set the left chlid of the parent node as None\n",
    "                    parent_node.set_right_child(smallest_right_child)\n",
    "                print(parent_node)\n",
    "            else:\n",
    "                self.root = smallest_right_child\n",
    "                print(f'\\033[30mUpdating root to {self.root}')\n",
    "\n",
    "            print(f'{smallest_right_child} has been updated to ',end='')\n",
    "            smallest_right_child.set_left_child(current_node.get_left_child())\n",
    "            if id(smallest_right_child) != id(current_node.get_right_child()):\n",
    "                smallest_right_child.set_right_child(current_node.get_right_child())\n",
    "            print(smallest_right_child)\n",
    "    \n",
    "        else:\n",
    "            # Case 3: the target has one child only\n",
    "            child = current_node.get_left_child() or current_node.get_right_child()\n",
    "\n",
    "            if parent_node:\n",
    "                print(f'\\033[30m{parent_node} has been updated to ',end='')\n",
    "                if id(parent_node.get_left_child()) == id(current_node):\n",
    "                    # if the current_node is the left child of the parent node, set the left chlid of the parent node as None\n",
    "                    parent_node.set_left_child(child)\n",
    "                elif id(parent_node.get_right_child()) == id(current_node):\n",
    "                    # if the current_node is the right child of the parent node, set the left chlid of the parent node as None\n",
    "                    parent_node.set_right_child(child)\n",
    "                print(parent_node)\n",
    "            else:\n",
    "                self.root = child\n",
    "                print(f'\\033[30mUpdating root to {self.root}')\n",
    "        \n",
    "        return True\n",
    "\n",
    "    def search(self,value):\n",
    "        \"\"\"\n",
    "        To search a value from BST\n",
    "        Args:\n",
    "            1. The value to be searched\n",
    "        Returns:\n",
    "            1. TreeNode or None: A TreeNode of the BST if value found, else None\n",
    "        \"\"\"\n",
    "        if not self.root:\n",
    "            return False\n",
    "        current_node = self.root\n",
    "        print('\\033[30m'+str(current_node.get_value()),end='')\n",
    "        while current_node and current_node.get_value() != value:\n",
    "            if current_node.get_value() > value:\n",
    "                print('\\033[35m\\033[1m --go left--> \\033[21m',end='')\n",
    "                current_node = current_node.get_left_child()\n",
    "            elif current_node.get_value() < value:\n",
    "                print('\\033[94m\\033[1m --go right--> \\033[21m',end='')\n",
    "                current_node = current_node.get_right_child()\n",
    "            if current_node:\n",
    "                print('\\033[30m'+str(current_node.get_value()),end='')\n",
    "            else:\n",
    "                print('\\033[30mOops! No nodes here',end='')\n",
    "\n",
    "        print()\n",
    "        \n",
    "        if not current_node:\n",
    "            return False\n",
    "        else:\n",
    "            return current_node"
   ]
  },
  {
   "cell_type": "code",
   "execution_count": 9,
   "metadata": {
    "colab": {
     "base_uri": "https://localhost:8080/"
    },
    "executionInfo": {
     "elapsed": 335,
     "status": "ok",
     "timestamp": 1632831999507,
     "user": {
      "displayName": "Kelvin Lo",
      "photoUrl": "https://lh3.googleusercontent.com/a-/AOh14Ggat1DO4WM3A1o0pmnr7y1jEmCWFqjCIpg9Yk0C=s64",
      "userId": "08004694506673442732"
     },
     "user_tz": -600
    },
    "hidden": true,
    "id": "_A9boqOuN6YT",
    "outputId": "0a5ea80d-ce3f-4420-db0b-5fc29a36ea05"
   },
   "outputs": [
    {
     "name": "stdout",
     "output_type": "stream",
     "text": [
      "=======================================================\n",
      "| Building BST:[99, 56, 14, 0, 11, 74, 4, 85, 88, 10] |\n",
      "=======================================================\n",
      "\u001b[30m add 99: \u001b[30mAdd as root.\n",
      "\u001b[30m add 56: \u001b[30m99\u001b[35m\u001b[1m --left--> \u001b[21m\u001b[30madd\n",
      "\u001b[30m add 14: \u001b[30m99\u001b[35m\u001b[1m --left--> \u001b[21m\u001b[30m56\u001b[35m\u001b[1m --left--> \u001b[21m\u001b[30madd\n",
      "\u001b[30m add 0: \u001b[30m99\u001b[35m\u001b[1m --left--> \u001b[21m\u001b[30m56\u001b[35m\u001b[1m --left--> \u001b[21m\u001b[30m14\u001b[35m\u001b[1m --left--> \u001b[21m\u001b[30madd\n",
      "\u001b[30m add 11: \u001b[30m99\u001b[35m\u001b[1m --left--> \u001b[21m\u001b[30m56\u001b[35m\u001b[1m --left--> \u001b[21m\u001b[30m14\u001b[35m\u001b[1m --left--> \u001b[21m\u001b[30m0\u001b[94m\u001b[1m --right--> \u001b[21m\u001b[30madd\n",
      "\u001b[30m add 74: \u001b[30m99\u001b[35m\u001b[1m --left--> \u001b[21m\u001b[30m56\u001b[94m\u001b[1m --right--> \u001b[21m\u001b[30madd\n",
      "\u001b[30m add 4: \u001b[30m99\u001b[35m\u001b[1m --left--> \u001b[21m\u001b[30m56\u001b[35m\u001b[1m --left--> \u001b[21m\u001b[30m14\u001b[35m\u001b[1m --left--> \u001b[21m\u001b[30m0\u001b[94m\u001b[1m --right--> \u001b[21m\u001b[30m11\u001b[35m\u001b[1m --left--> \u001b[21m\u001b[30madd\n",
      "\u001b[30m add 85: \u001b[30m99\u001b[35m\u001b[1m --left--> \u001b[21m\u001b[30m56\u001b[94m\u001b[1m --right--> \u001b[21m\u001b[30m74\u001b[94m\u001b[1m --right--> \u001b[21m\u001b[30madd\n",
      "\u001b[30m add 88: \u001b[30m99\u001b[35m\u001b[1m --left--> \u001b[21m\u001b[30m56\u001b[94m\u001b[1m --right--> \u001b[21m\u001b[30m74\u001b[94m\u001b[1m --right--> \u001b[21m\u001b[30m85\u001b[94m\u001b[1m --right--> \u001b[21m\u001b[30madd\n",
      "\u001b[30m add 10: \u001b[30m99\u001b[35m\u001b[1m --left--> \u001b[21m\u001b[30m56\u001b[35m\u001b[1m --left--> \u001b[21m\u001b[30m14\u001b[35m\u001b[1m --left--> \u001b[21m\u001b[30m0\u001b[94m\u001b[1m --right--> \u001b[21m\u001b[30m11\u001b[35m\u001b[1m --left--> \u001b[21m\u001b[30m4\u001b[94m\u001b[1m --right--> \u001b[21m\u001b[30madd\n",
      "============================================\n",
      "| Searching BST:[56, 74, 35, 3, 5, 49, 91] |\n",
      "============================================\n",
      "Finding 56\n",
      "\u001b[30m99\u001b[35m\u001b[1m --go left--> \u001b[21m\u001b[30m56\n",
      "\u001b[30mTreeNode(56, left:14, right:74) is found.\n",
      "\n",
      "Finding 74\n",
      "\u001b[30m99\u001b[35m\u001b[1m --go left--> \u001b[21m\u001b[30m56\u001b[94m\u001b[1m --go right--> \u001b[21m\u001b[30m74\n",
      "\u001b[30mTreeNode(74, left:None, right:85) is found.\n",
      "\n",
      "Finding 35\n",
      "\u001b[30m99\u001b[35m\u001b[1m --go left--> \u001b[21m\u001b[30m56\u001b[35m\u001b[1m --go left--> \u001b[21m\u001b[30m14\u001b[94m\u001b[1m --go right--> \u001b[21m\u001b[30mOops! No nodes here\n",
      "35 not found in BST.\n",
      "\n",
      "Finding 3\n",
      "\u001b[30m99\u001b[35m\u001b[1m --go left--> \u001b[21m\u001b[30m56\u001b[35m\u001b[1m --go left--> \u001b[21m\u001b[30m14\u001b[35m\u001b[1m --go left--> \u001b[21m\u001b[30m0\u001b[94m\u001b[1m --go right--> \u001b[21m\u001b[30m11\u001b[35m\u001b[1m --go left--> \u001b[21m\u001b[30m4\u001b[35m\u001b[1m --go left--> \u001b[21m\u001b[30mOops! No nodes here\n",
      "3 not found in BST.\n",
      "\n",
      "Finding 5\n",
      "\u001b[30m99\u001b[35m\u001b[1m --go left--> \u001b[21m\u001b[30m56\u001b[35m\u001b[1m --go left--> \u001b[21m\u001b[30m14\u001b[35m\u001b[1m --go left--> \u001b[21m\u001b[30m0\u001b[94m\u001b[1m --go right--> \u001b[21m\u001b[30m11\u001b[35m\u001b[1m --go left--> \u001b[21m\u001b[30m4\u001b[94m\u001b[1m --go right--> \u001b[21m\u001b[30m10\u001b[35m\u001b[1m --go left--> \u001b[21m\u001b[30mOops! No nodes here\n",
      "5 not found in BST.\n",
      "\n",
      "Finding 49\n",
      "\u001b[30m99\u001b[35m\u001b[1m --go left--> \u001b[21m\u001b[30m56\u001b[35m\u001b[1m --go left--> \u001b[21m\u001b[30m14\u001b[94m\u001b[1m --go right--> \u001b[21m\u001b[30mOops! No nodes here\n",
      "49 not found in BST.\n",
      "\n",
      "Finding 91\n",
      "\u001b[30m99\u001b[35m\u001b[1m --go left--> \u001b[21m\u001b[30m56\u001b[94m\u001b[1m --go right--> \u001b[21m\u001b[30m74\u001b[94m\u001b[1m --go right--> \u001b[21m\u001b[30m85\u001b[94m\u001b[1m --go right--> \u001b[21m\u001b[30m88\u001b[94m\u001b[1m --go right--> \u001b[21m\u001b[30mOops! No nodes here\n",
      "91 not found in BST.\n",
      "\n",
      "==================================\n",
      "| Deleting from BST:[10, 85, 86] |\n",
      "==================================\n",
      "\n",
      "  Deleting 10  \n",
      "---------------\n",
      "\u001b[30m\u001b[30mTreeNode(4, left:None, right:10) has been updated to \u001b[30mTreeNode(4, left:None, right:None)\n",
      "\n",
      "\n",
      "  Deleting 85  \n",
      "---------------\n",
      "\u001b[30m\u001b[30mTreeNode(74, left:None, right:85) has been updated to \u001b[30mTreeNode(74, left:None, right:88)\n",
      "\n",
      "\n",
      "  Deleting 86  \n",
      "---------------\n",
      "\u001b[30mNode 86 not found in tree.\n",
      "\n",
      "==============================================\n",
      "| Searching BST:[10, 85, 86, 88, 99, 16, 28] |\n",
      "==============================================\n",
      "Finding 10\n",
      "\u001b[30m99\u001b[35m\u001b[1m --go left--> \u001b[21m\u001b[30m56\u001b[35m\u001b[1m --go left--> \u001b[21m\u001b[30m14\u001b[35m\u001b[1m --go left--> \u001b[21m\u001b[30m0\u001b[94m\u001b[1m --go right--> \u001b[21m\u001b[30m11\u001b[35m\u001b[1m --go left--> \u001b[21m\u001b[30m4\u001b[94m\u001b[1m --go right--> \u001b[21m\u001b[30mOops! No nodes here\n",
      "10 not found in BST.\n",
      "\n",
      "Finding 85\n",
      "\u001b[30m99\u001b[35m\u001b[1m --go left--> \u001b[21m\u001b[30m56\u001b[94m\u001b[1m --go right--> \u001b[21m\u001b[30m74\u001b[94m\u001b[1m --go right--> \u001b[21m\u001b[30m88\u001b[35m\u001b[1m --go left--> \u001b[21m\u001b[30mOops! No nodes here\n",
      "85 not found in BST.\n",
      "\n",
      "Finding 86\n",
      "\u001b[30m99\u001b[35m\u001b[1m --go left--> \u001b[21m\u001b[30m56\u001b[94m\u001b[1m --go right--> \u001b[21m\u001b[30m74\u001b[94m\u001b[1m --go right--> \u001b[21m\u001b[30m88\u001b[35m\u001b[1m --go left--> \u001b[21m\u001b[30mOops! No nodes here\n",
      "86 not found in BST.\n",
      "\n",
      "Finding 88\n",
      "\u001b[30m99\u001b[35m\u001b[1m --go left--> \u001b[21m\u001b[30m56\u001b[94m\u001b[1m --go right--> \u001b[21m\u001b[30m74\u001b[94m\u001b[1m --go right--> \u001b[21m\u001b[30m88\n",
      "\u001b[30mTreeNode(88, left:None, right:None) is found.\n",
      "\n",
      "Finding 99\n",
      "\u001b[30m99\n",
      "\u001b[30mTreeNode(99, left:56, right:None) is found.\n",
      "\n",
      "Finding 16\n",
      "\u001b[30m99\u001b[35m\u001b[1m --go left--> \u001b[21m\u001b[30m56\u001b[35m\u001b[1m --go left--> \u001b[21m\u001b[30m14\u001b[94m\u001b[1m --go right--> \u001b[21m\u001b[30mOops! No nodes here\n",
      "16 not found in BST.\n",
      "\n",
      "Finding 28\n",
      "\u001b[30m99\u001b[35m\u001b[1m --go left--> \u001b[21m\u001b[30m56\u001b[35m\u001b[1m --go left--> \u001b[21m\u001b[30m14\u001b[94m\u001b[1m --go right--> \u001b[21m\u001b[30mOops! No nodes here\n",
      "28 not found in BST.\n",
      "\n"
     ]
    }
   ],
   "source": [
    "import random\n",
    "\n",
    "random.seed(1234)\n",
    "\n",
    "# demo\n",
    "\n",
    "items = random.sample(range(101),k = 10)\n",
    "print('=' * (len(str(items)) + len('Building BST:') + 4))\n",
    "print(f'| Building BST:{items} |')\n",
    "print('=' * (len(str(items)) + len('Building BST:') + 4))\n",
    "\n",
    "bst = BinarySearchTree()\n",
    "for value in items:\n",
    "    bst.add_node(value)\n",
    "\n",
    "items_search = random.sample(items, 2) + random.sample(set(range(101)) - set(items), 5)\n",
    "print('=' * (len(str(items_search)) + len('Searching BST:') + 4))\n",
    "print(f'| Searching BST:{items_search} |')\n",
    "print('=' * (len(str(items_search)) + len('Searching BST:') + 4))\n",
    "for value in items_search:\n",
    "    print(f'Finding {value}')\n",
    "    node = bst.search(value)\n",
    "    if node:\n",
    "        print(f'{node} is found.\\n')\n",
    "    else:\n",
    "        print(f'{value} not found in BST.\\n')\n",
    "\n",
    "items_del = random.sample(items,k = 2) + random.sample(set(range(101)) - set(items), 1)\n",
    "print('=' * (len(str(items_del)) + len('Deleting from BST:') + 4))\n",
    "print(f'| Deleting from BST:{items_del} |')\n",
    "print('=' * (len(str(items_del)) + len('Deleting from BST:') + 4))\n",
    "for value in items_del:\n",
    "    print(f'\\n  Deleting {value}  \\n' + '-' * (len('Deleting ' + str(value)) + 4) + '')\n",
    "    bst.remove_node(value)\n",
    "    print()\n",
    "\n",
    "items_search = items_del + random.sample(set(items) - set(items_del), 2) + random.sample(set(range(101)) - set(items), 2)\n",
    "print('=' * (len(str(items_search)) + len('Searching BST:') + 4))\n",
    "print(f'| Searching BST:{items_search} |')\n",
    "print('=' * (len(str(items_search)) + len('Searching BST:') + 4))\n",
    "for value in items_search:\n",
    "    print(f'Finding {value}')\n",
    "    node = bst.search(value)\n",
    "    if node:\n",
    "        print(f'{node} is found.\\n')\n",
    "    else:\n",
    "        print(f'{value} not found in BST.\\n')"
   ]
  },
  {
   "cell_type": "markdown",
   "metadata": {
    "heading_collapsed": true,
    "hidden": true,
    "id": "OnzBdJm7O2ac"
   },
   "source": [
    "### II. Tree traversal\n",
    "\n",
    "The demonstration below is based on this tree:\n",
    "\n",
    "![Tree for task](data:image/png;base64,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)"
   ]
  },
  {
   "cell_type": "code",
   "execution_count": null,
   "metadata": {
    "colab": {
     "base_uri": "https://localhost:8080/"
    },
    "executionInfo": {
     "elapsed": 297,
     "status": "ok",
     "timestamp": 1632829771965,
     "user": {
      "displayName": "Kelvin Lo",
      "photoUrl": "https://lh3.googleusercontent.com/a-/AOh14Ggat1DO4WM3A1o0pmnr7y1jEmCWFqjCIpg9Yk0C=s64",
      "userId": "08004694506673442732"
     },
     "user_tz": -600
    },
    "hidden": true,
    "id": "otNe1fwFN7ah",
    "outputId": "0de339d3-128a-46d8-9d25-45fb80000f9f"
   },
   "outputs": [
    {
     "name": "stdout",
     "output_type": "stream",
     "text": [
      "\n",
      "Inorder traversal of binary tree is\n",
      "5\n",
      "12\n",
      "19\n",
      "88\n",
      "2\n",
      "93\n",
      "7\n",
      "Preorder traversal of binary tree is\n",
      "2\n",
      "88\n",
      "12\n",
      "5\n",
      "19\n",
      "93\n",
      "7\n",
      "\n",
      "Postorder traversal of binary tree is\n",
      "5\n",
      "19\n",
      "12\n",
      "88\n",
      "7\n",
      "93\n",
      "2\n"
     ]
    }
   ],
   "source": [
    "# Python program to for tree traversals\n",
    " \n",
    "# A class that represents an individual node in a\n",
    "# Binary Tree\n",
    " \n",
    " \n",
    "class Node:\n",
    "    def __init__(self, key):\n",
    "        self.left = None\n",
    "        self.right = None\n",
    "        self.val = key\n",
    " \n",
    " \n",
    "# A function to do inorder tree traversal\n",
    "def printInorder(root):\n",
    " \n",
    "    if root:\n",
    " \n",
    "        # First recur on left child\n",
    "        printInorder(root.left)\n",
    " \n",
    "        # then print the data of node\n",
    "        print(root.val),\n",
    " \n",
    "        # now recur on right child\n",
    "        printInorder(root.right)\n",
    " \n",
    " \n",
    "# A function to do postorder tree traversal\n",
    "def printPostorder(root):\n",
    " \n",
    "    if root:\n",
    " \n",
    "        # First recur on left child\n",
    "        printPostorder(root.left)\n",
    " \n",
    "        # the recur on right child\n",
    "        printPostorder(root.right)\n",
    " \n",
    "        # now print the data of node\n",
    "        print(root.val),\n",
    " \n",
    " \n",
    "# A function to do preorder tree traversal\n",
    "def printPreorder(root):\n",
    " \n",
    "    if root:\n",
    " \n",
    "        # First print the data of node\n",
    "        print(root.val),\n",
    " \n",
    "        # Then recur on left child\n",
    "        printPreorder(root.left)\n",
    " \n",
    "        # Finally recur on right child\n",
    "        printPreorder(root.right)\n",
    " \n",
    " \n",
    "# Driver code\n",
    "root = Node(2)\n",
    "root.left = Node(88)\n",
    "root.right = Node(93)\n",
    "root.left.left = Node(12)\n",
    "root.left.left.left = Node(5)\n",
    "root.left.left.right = Node(19)\n",
    "root.right.right = Node(7)\n",
    "\n",
    "print( \"\\nInorder traversal of binary tree is\")\n",
    "printInorder(root)\n",
    "\n",
    "print( \"Preorder traversal of binary tree is\")\n",
    "printPreorder(root)\n",
    " \n",
    "print (\"\\nPostorder traversal of binary tree is\")\n",
    "printPostorder(root)"
   ]
  }
 ],
 "metadata": {
  "colab": {
   "authorship_tag": "ABX9TyP8e0GalttOn7tx9OzdFwcr",
   "collapsed_sections": [],
   "name": "Week 11 Lab Activities (Solution).ipynb",
   "provenance": []
  },
  "kernelspec": {
   "display_name": "Python 3",
   "language": "python",
   "name": "python3"
  },
  "language_info": {
   "codemirror_mode": {
    "name": "ipython",
    "version": 3
   },
   "file_extension": ".py",
   "mimetype": "text/x-python",
   "name": "python",
   "nbconvert_exporter": "python",
   "pygments_lexer": "ipython3",
   "version": "3.8.8"
  },
  "latex_envs": {
   "LaTeX_envs_menu_present": true,
   "autoclose": false,
   "autocomplete": true,
   "bibliofile": "biblio.bib",
   "cite_by": "apalike",
   "current_citInitial": 1,
   "eqLabelWithNumbers": true,
   "eqNumInitial": 1,
   "hotkeys": {
    "equation": "Ctrl-E",
    "itemize": "Ctrl-I"
   },
   "labels_anchors": false,
   "latex_user_defs": false,
   "report_style_numbering": false,
   "user_envs_cfg": false
  }
 },
 "nbformat": 4,
 "nbformat_minor": 1
}
