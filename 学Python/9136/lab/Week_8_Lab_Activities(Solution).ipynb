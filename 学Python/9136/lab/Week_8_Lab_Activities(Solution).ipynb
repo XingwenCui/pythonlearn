{
 "cells": [
  {
   "cell_type": "markdown",
   "metadata": {
    "id": "tntgVPTXhTOJ"
   },
   "source": [
    "# FIT9136 Algorithms and programming foundations in Python "
   ]
  },
  {
   "cell_type": "markdown",
   "metadata": {
    "id": "HkKpvHEvhTOM"
   },
   "source": [
    "# Week 8 Lab Activities: File Manipulation, Testing And Exception Handling, Python Library And Packages"
   ]
  },
  {
   "cell_type": "markdown",
   "metadata": {
    "id": "QdXd8OM-gsOD"
   },
   "source": [
    "Please place the following files under the same folder as this notebook:\n",
    "- textfile.txt\n",
    "- addresses.csv\n"
   ]
  },
  {
   "cell_type": "markdown",
   "metadata": {
    "id": "Q4L48zZtQIYp"
   },
   "source": [
    "## Part A. File Manipulation"
   ]
  },
  {
   "cell_type": "markdown",
   "metadata": {
    "id": "FNItKWnJQjY5"
   },
   "source": [
    "### File Reading and Writing\n",
    "\n",
    "Depending on the file type, we can use different functions or libraries to read from or write to a file."
   ]
  },
  {
   "cell_type": "markdown",
   "metadata": {
    "id": "3IyMx6SUSDly"
   },
   "source": [
    "#### 1. File in general\n",
    "\n",
    "If the file content is just some random text which does not follow any specific formats, we can use the `open()` function to open the file: \n",
    "- in 'r'(read) mode and use `read()`/`readlines()`/`readline()` methods to read the file content.\n",
    "- in 'w'(write) or 'a'(append) mode and use `write()` methods to write string to file."
   ]
  },
  {
   "cell_type": "code",
   "execution_count": 4,
   "metadata": {
    "id": "ITSSinTaQEDf"
   },
   "outputs": [],
   "source": [
    "# apart from the file name, we can also specify whether we want to read/write/append, and the decoder used when reading the file\n",
    "?open"
   ]
  },
  {
   "cell_type": "markdown",
   "metadata": {
    "id": "qoAnXxkHTTZ8"
   },
   "source": [
    "**[File Object methods](https://docs.python.org/3/tutorial/inputoutput.html#methods-of-file-objects)**\n",
    "\n",
    "- `read()` : reads the whole file as a single string\n",
    "- `readline()`: returns the next line in the file. First time caliing will return us the first line, second time calling will return us the line after, and so on.\n",
    "- `readlines()`: returns a list of string, where each item in the list is a line in the file.\n",
    "- `write()`: write a string to the file opened."
   ]
  },
  {
   "cell_type": "code",
   "execution_count": 5,
   "metadata": {
    "id": "Rz8HmZnYSuVw"
   },
   "outputs": [
    {
     "name": "stdout",
     "output_type": "stream",
     "text": [
      "\"TV\\n1. Spider-Man\\n2. Spider-Man Strikes Back\\n3. Spider-Man: The Dragon's Challenge\\nFilm\\n4. Spider-Man\\n5. Spider-Man 2\\n6. Spider-Man 3\\n7. The Amazing Spider-Man\\n8. The Amazing Spider-Man 2\\n9. Spider-Man: Homecoming\\n10. Spider-Man: Far From Home\\n11. Spider-Man: No Way Home\"\n"
     ]
    }
   ],
   "source": [
    "with open('textfile.txt') as f:\n",
    "    print(repr(f.read()))"
   ]
  },
  {
   "cell_type": "code",
   "execution_count": 6,
   "metadata": {
    "id": "4WaLyr5DSzGP"
   },
   "outputs": [
    {
     "name": "stdout",
     "output_type": "stream",
     "text": [
      "'TV\\n'\n",
      "'1. Spider-Man\\n'\n",
      "'2. Spider-Man Strikes Back\\n'\n",
      "\"3. Spider-Man: The Dragon's Challenge\\n\"\n",
      "'Film\\n'\n",
      "'4. Spider-Man\\n'\n",
      "'5. Spider-Man 2\\n'\n",
      "'6. Spider-Man 3\\n'\n",
      "'7. The Amazing Spider-Man\\n'\n",
      "'8. The Amazing Spider-Man 2\\n'\n",
      "'9. Spider-Man: Homecoming\\n'\n",
      "'10. Spider-Man: Far From Home\\n'\n",
      "'11. Spider-Man: No Way Home'\n"
     ]
    }
   ],
   "source": [
    "with open('textfile.txt') as f:\n",
    "    line = f.readline()\n",
    "    while line:\n",
    "        print(repr(line))\n",
    "        line = f.readline()"
   ]
  },
  {
   "cell_type": "code",
   "execution_count": 7,
   "metadata": {
    "id": "OlxgsgqBl_Tl"
   },
   "outputs": [
    {
     "name": "stdout",
     "output_type": "stream",
     "text": [
      "['TV\\n', '1. Spider-Man\\n', '2. Spider-Man Strikes Back\\n', \"3. Spider-Man: The Dragon's Challenge\\n\", 'Film\\n', '4. Spider-Man\\n', '5. Spider-Man 2\\n', '6. Spider-Man 3\\n', '7. The Amazing Spider-Man\\n', '8. The Amazing Spider-Man 2\\n', '9. Spider-Man: Homecoming\\n', '10. Spider-Man: Far From Home\\n', '11. Spider-Man: No Way Home']\n"
     ]
    }
   ],
   "source": [
    "with open('textfile.txt') as f:\n",
    "    print(repr(f.readlines()))"
   ]
  },
  {
   "cell_type": "code",
   "execution_count": 8,
   "metadata": {
    "id": "1iqHC5e0wYjg"
   },
   "outputs": [],
   "source": [
    "with open('newfile.txt', 'w') as f:\n",
    "    f.write('this is a new file.')"
   ]
  },
  {
   "cell_type": "code",
   "execution_count": 9,
   "metadata": {
    "id": "CAQ5eb9jwjRk"
   },
   "outputs": [],
   "source": [
    "with open('newfile.txt', 'a') as f:\n",
    "    f.write('\\nthis is a line appended to the existing file.')"
   ]
  },
  {
   "cell_type": "markdown",
   "metadata": {
    "id": "LnMza2TJ2QYj"
   },
   "source": [
    "<font color='red'>**Task**</font>: Let's write a script that reads `textfile.txt`, extract every other line(The 1st, 3rd, 5th.. lines) and write those to a **new** file called `newfile.txt`."
   ]
  },
  {
   "cell_type": "code",
   "execution_count": 11,
   "metadata": {
    "id": "pnuGElne3IVE"
   },
   "outputs": [],
   "source": [
    "with open('textfile.txt') as f:\n",
    "    lines = [line for index, line in enumerate(f.readlines()) if index % 2 == 0]\n",
    "\n",
    "with open('newfile.txt','w') as f:\n",
    "    f.write(''.join(lines))"
   ]
  },
  {
   "cell_type": "markdown",
   "metadata": {
    "id": "6T_agYVqm4ji"
   },
   "source": [
    "#### 2. Comma-Separated Values(CSV) File\n",
    "\n",
    "CSV file can be read and written easily with the help of [**pandas**](https://pandas.pydata.org/docs/) library. We will explore the usage of pandas library further next week. \n",
    "\n",
    "***It is actually an ordinary text file that has a specific format.*** Each line of the file represents a row(a datum), and the columns are separated by commas. Let's have a look of `addresses.csv` file."
   ]
  },
  {
   "cell_type": "code",
   "execution_count": 15,
   "metadata": {
    "id": "COFbQj5KYoY2"
   },
   "outputs": [
    {
     "name": "stdout",
     "output_type": "stream",
     "text": [
      "John,Doe,120 jefferson st.,Riverside, NJ, 08075\n",
      "Jack,McGinnis,220 hobo Av.,Phila, PA,09119\n",
      "\"John \"\"Da Man\"\"\",Repici,120 Jefferson St.,Riverside, NJ,08075\n",
      "Stephen,Tyler,\"7452 Terrace \"\"At the Plaza\"\" road\",SomeTown,SD, 91234\n",
      ",Blankman,,SomeTown, SD, 00298\n",
      "\"Joan \"\"the bone\"\", Anne\",Jet,\"9th, at Terrace plc\",Desert City,CO,00123\n",
      "\n"
     ]
    }
   ],
   "source": [
    "with open('addresses.csv') as f:\n",
    "    print(f.read())"
   ]
  },
  {
   "cell_type": "markdown",
   "metadata": {
    "id": "lWBnj-euY0k1"
   },
   "source": [
    "We can see there are 6 data with 7 columns in the file. However, the column names, which normally are defined in the first line, are missing.\n",
    "\n",
    "Below, let's see how we could use pandas to read csv files."
   ]
  },
  {
   "cell_type": "markdown",
   "metadata": {
    "id": "OyeQwc8NWdWu"
   },
   "source": [
    "**I: Set up and import pandas**"
   ]
  },
  {
   "cell_type": "code",
   "execution_count": 13,
   "metadata": {
    "id": "GVIWbnHJTdC2"
   },
   "outputs": [],
   "source": [
    "# uncomment the line below to install pandas if it is not already installed\n",
    "#!pip install pandas"
   ]
  },
  {
   "cell_type": "code",
   "execution_count": 1,
   "metadata": {
    "id": "XDlUZrC6mhWO"
   },
   "outputs": [],
   "source": [
    "import pandas as pd # import pandas and set pd as its alias"
   ]
  },
  {
   "cell_type": "markdown",
   "metadata": {
    "id": "ZeOKipgfWi3n"
   },
   "source": [
    "**II: Read input file as [DataFrame](https://pandas.pydata.org/docs/reference/frame.html) object**"
   ]
  },
  {
   "cell_type": "code",
   "execution_count": 2,
   "metadata": {
    "id": "7KYDc23k1ziv"
   },
   "outputs": [],
   "source": [
    "# we can use read_csv method to create a pandas DataFrame from a csv file\n",
    "?pd.read_csv"
   ]
  },
  {
   "cell_type": "code",
   "execution_count": 2,
   "metadata": {
    "id": "S1p2yWmdUwS4"
   },
   "outputs": [],
   "source": [
    "df = pd.read_csv('addresses.csv', names=['firstname','lastname','street','suburb','state','postcode']) # a DataFrame is created from the csv file and stored as df"
   ]
  },
  {
   "cell_type": "markdown",
   "metadata": {
    "id": "k3aXpKWqWxF9"
   },
   "source": [
    "**III: Perform operations on the DataFrame(Will be further explored next week)**"
   ]
  },
  {
   "cell_type": "code",
   "execution_count": 3,
   "metadata": {
    "id": "feTuuGiSV5Dv"
   },
   "outputs": [
    {
     "data": {
      "text/html": [
       "<div>\n",
       "<style scoped>\n",
       "    .dataframe tbody tr th:only-of-type {\n",
       "        vertical-align: middle;\n",
       "    }\n",
       "\n",
       "    .dataframe tbody tr th {\n",
       "        vertical-align: top;\n",
       "    }\n",
       "\n",
       "    .dataframe thead th {\n",
       "        text-align: right;\n",
       "    }\n",
       "</style>\n",
       "<table border=\"1\" class=\"dataframe\">\n",
       "  <thead>\n",
       "    <tr style=\"text-align: right;\">\n",
       "      <th></th>\n",
       "      <th>firstname</th>\n",
       "      <th>lastname</th>\n",
       "      <th>street</th>\n",
       "      <th>suburb</th>\n",
       "      <th>state</th>\n",
       "      <th>postcode</th>\n",
       "    </tr>\n",
       "  </thead>\n",
       "  <tbody>\n",
       "    <tr>\n",
       "      <th>0</th>\n",
       "      <td>John</td>\n",
       "      <td>Doe</td>\n",
       "      <td>120 jefferson st.</td>\n",
       "      <td>Riverside</td>\n",
       "      <td>NJ</td>\n",
       "      <td>8075</td>\n",
       "    </tr>\n",
       "    <tr>\n",
       "      <th>1</th>\n",
       "      <td>Jack</td>\n",
       "      <td>McGinnis</td>\n",
       "      <td>220 hobo Av.</td>\n",
       "      <td>Phila</td>\n",
       "      <td>PA</td>\n",
       "      <td>9119</td>\n",
       "    </tr>\n",
       "    <tr>\n",
       "      <th>2</th>\n",
       "      <td>John \"Da Man\"</td>\n",
       "      <td>Repici</td>\n",
       "      <td>120 Jefferson St.</td>\n",
       "      <td>Riverside</td>\n",
       "      <td>NJ</td>\n",
       "      <td>8075</td>\n",
       "    </tr>\n",
       "    <tr>\n",
       "      <th>3</th>\n",
       "      <td>Stephen</td>\n",
       "      <td>Tyler</td>\n",
       "      <td>7452 Terrace \"At the Plaza\" road</td>\n",
       "      <td>SomeTown</td>\n",
       "      <td>SD</td>\n",
       "      <td>91234</td>\n",
       "    </tr>\n",
       "    <tr>\n",
       "      <th>4</th>\n",
       "      <td>NaN</td>\n",
       "      <td>Blankman</td>\n",
       "      <td>NaN</td>\n",
       "      <td>SomeTown</td>\n",
       "      <td>SD</td>\n",
       "      <td>298</td>\n",
       "    </tr>\n",
       "  </tbody>\n",
       "</table>\n",
       "</div>"
      ],
      "text/plain": [
       "       firstname  lastname                            street     suburb state  \\\n",
       "0           John       Doe                 120 jefferson st.  Riverside    NJ   \n",
       "1           Jack  McGinnis                      220 hobo Av.      Phila    PA   \n",
       "2  John \"Da Man\"    Repici                 120 Jefferson St.  Riverside    NJ   \n",
       "3        Stephen     Tyler  7452 Terrace \"At the Plaza\" road   SomeTown    SD   \n",
       "4            NaN  Blankman                               NaN   SomeTown    SD   \n",
       "\n",
       "   postcode  \n",
       "0      8075  \n",
       "1      9119  \n",
       "2      8075  \n",
       "3     91234  \n",
       "4       298  "
      ]
     },
     "execution_count": 3,
     "metadata": {},
     "output_type": "execute_result"
    }
   ],
   "source": [
    "# we can inspect the DataFrame with head() method, which shows the first 5 rows of data\n",
    "df.head()"
   ]
  },
  {
   "cell_type": "code",
   "execution_count": 4,
   "metadata": {
    "id": "SQzBHWGWV7Ed"
   },
   "outputs": [
    {
     "data": {
      "text/html": [
       "<div>\n",
       "<style scoped>\n",
       "    .dataframe tbody tr th:only-of-type {\n",
       "        vertical-align: middle;\n",
       "    }\n",
       "\n",
       "    .dataframe tbody tr th {\n",
       "        vertical-align: top;\n",
       "    }\n",
       "\n",
       "    .dataframe thead th {\n",
       "        text-align: right;\n",
       "    }\n",
       "</style>\n",
       "<table border=\"1\" class=\"dataframe\">\n",
       "  <thead>\n",
       "    <tr style=\"text-align: right;\">\n",
       "      <th></th>\n",
       "      <th>firstname</th>\n",
       "      <th>lastname</th>\n",
       "      <th>street</th>\n",
       "      <th>suburb</th>\n",
       "      <th>state</th>\n",
       "      <th>postcode</th>\n",
       "    </tr>\n",
       "  </thead>\n",
       "  <tbody>\n",
       "    <tr>\n",
       "      <th>count</th>\n",
       "      <td>5</td>\n",
       "      <td>6</td>\n",
       "      <td>5</td>\n",
       "      <td>6</td>\n",
       "      <td>6</td>\n",
       "      <td>6.000000</td>\n",
       "    </tr>\n",
       "    <tr>\n",
       "      <th>unique</th>\n",
       "      <td>5</td>\n",
       "      <td>6</td>\n",
       "      <td>5</td>\n",
       "      <td>4</td>\n",
       "      <td>5</td>\n",
       "      <td>NaN</td>\n",
       "    </tr>\n",
       "    <tr>\n",
       "      <th>top</th>\n",
       "      <td>Stephen</td>\n",
       "      <td>Jet</td>\n",
       "      <td>120 jefferson st.</td>\n",
       "      <td>SomeTown</td>\n",
       "      <td>NJ</td>\n",
       "      <td>NaN</td>\n",
       "    </tr>\n",
       "    <tr>\n",
       "      <th>freq</th>\n",
       "      <td>1</td>\n",
       "      <td>1</td>\n",
       "      <td>1</td>\n",
       "      <td>2</td>\n",
       "      <td>2</td>\n",
       "      <td>NaN</td>\n",
       "    </tr>\n",
       "    <tr>\n",
       "      <th>mean</th>\n",
       "      <td>NaN</td>\n",
       "      <td>NaN</td>\n",
       "      <td>NaN</td>\n",
       "      <td>NaN</td>\n",
       "      <td>NaN</td>\n",
       "      <td>19487.333333</td>\n",
       "    </tr>\n",
       "    <tr>\n",
       "      <th>std</th>\n",
       "      <td>NaN</td>\n",
       "      <td>NaN</td>\n",
       "      <td>NaN</td>\n",
       "      <td>NaN</td>\n",
       "      <td>NaN</td>\n",
       "      <td>35380.155843</td>\n",
       "    </tr>\n",
       "    <tr>\n",
       "      <th>min</th>\n",
       "      <td>NaN</td>\n",
       "      <td>NaN</td>\n",
       "      <td>NaN</td>\n",
       "      <td>NaN</td>\n",
       "      <td>NaN</td>\n",
       "      <td>123.000000</td>\n",
       "    </tr>\n",
       "    <tr>\n",
       "      <th>25%</th>\n",
       "      <td>NaN</td>\n",
       "      <td>NaN</td>\n",
       "      <td>NaN</td>\n",
       "      <td>NaN</td>\n",
       "      <td>NaN</td>\n",
       "      <td>2242.250000</td>\n",
       "    </tr>\n",
       "    <tr>\n",
       "      <th>50%</th>\n",
       "      <td>NaN</td>\n",
       "      <td>NaN</td>\n",
       "      <td>NaN</td>\n",
       "      <td>NaN</td>\n",
       "      <td>NaN</td>\n",
       "      <td>8075.000000</td>\n",
       "    </tr>\n",
       "    <tr>\n",
       "      <th>75%</th>\n",
       "      <td>NaN</td>\n",
       "      <td>NaN</td>\n",
       "      <td>NaN</td>\n",
       "      <td>NaN</td>\n",
       "      <td>NaN</td>\n",
       "      <td>8858.000000</td>\n",
       "    </tr>\n",
       "    <tr>\n",
       "      <th>max</th>\n",
       "      <td>NaN</td>\n",
       "      <td>NaN</td>\n",
       "      <td>NaN</td>\n",
       "      <td>NaN</td>\n",
       "      <td>NaN</td>\n",
       "      <td>91234.000000</td>\n",
       "    </tr>\n",
       "  </tbody>\n",
       "</table>\n",
       "</div>"
      ],
      "text/plain": [
       "       firstname lastname             street    suburb state      postcode\n",
       "count          5        6                  5         6     6      6.000000\n",
       "unique         5        6                  5         4     5           NaN\n",
       "top      Stephen      Jet  120 jefferson st.  SomeTown    NJ           NaN\n",
       "freq           1        1                  1         2     2           NaN\n",
       "mean         NaN      NaN                NaN       NaN   NaN  19487.333333\n",
       "std          NaN      NaN                NaN       NaN   NaN  35380.155843\n",
       "min          NaN      NaN                NaN       NaN   NaN    123.000000\n",
       "25%          NaN      NaN                NaN       NaN   NaN   2242.250000\n",
       "50%          NaN      NaN                NaN       NaN   NaN   8075.000000\n",
       "75%          NaN      NaN                NaN       NaN   NaN   8858.000000\n",
       "max          NaN      NaN                NaN       NaN   NaN  91234.000000"
      ]
     },
     "execution_count": 4,
     "metadata": {},
     "output_type": "execute_result"
    }
   ],
   "source": [
    "# Showing statistics of categorical and numerical features\n",
    "stat_df = df.describe(include='all')\n",
    "stat_df"
   ]
  },
  {
   "cell_type": "markdown",
   "metadata": {
    "id": "AK_N6WxcXzGt"
   },
   "source": [
    "**IV: Export DataFrame to csv file**"
   ]
  },
  {
   "cell_type": "code",
   "execution_count": 20,
   "metadata": {
    "id": "G-mT2WHHXb6q"
   },
   "outputs": [],
   "source": [
    "# exporting the statistics to csv file\n",
    "stat_df.to_csv('addresses_stats.csv')"
   ]
  },
  {
   "cell_type": "markdown",
   "metadata": {
    "id": "-CH20TVvmkHw"
   },
   "source": [
    "<font color='red'>**Task**</font>: Let's write a script that reads `textfile.txt` and create a csv file `spider_man.csv` with 2 columns: `name` and `category` to store the name of the video and whether it is TV or Film respectively. Below is what the output csv will look like:\n",
    "\n",
    "![image.png](data:image/png;base64,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)\n",
    "\n",
    "Hint: Do we need to use pandas in this task?"
   ]
  },
  {
   "cell_type": "code",
   "execution_count": 21,
   "metadata": {
    "id": "si5KFk1EaBr_"
   },
   "outputs": [],
   "source": [
    "with open('textfile.txt') as f:\n",
    "    lines = f.readlines()\n",
    "\n",
    "lines = [l.strip() for l in lines]\n",
    "csv_output = 'name,category\\n' # column name as first line\n",
    "category = None\n",
    "for line in lines:\n",
    "    if line == 'TV':\n",
    "        # if line is TV, that means 1. this line is not an item, 2. the following lines are TV items\n",
    "        category = 'TV'\n",
    "        continue\n",
    "    elif line == 'Film':\n",
    "        # if line is Film, that means 1. this line is not an item, 2. the following lines are Film items\n",
    "        category = 'Film'\n",
    "        continue\n",
    "    # item lines\n",
    "    if category:\n",
    "        csv_output += ' '.join(line.split()[1:]) + ',' + category + '\\n' # remove the index in front, add a comma, and the category\n",
    "\n",
    "with open('spider_man.csv', 'w') as f: # dump the whole string to the csv file\n",
    "    f.write(csv_output)"
   ]
  },
  {
   "cell_type": "markdown",
   "metadata": {
    "id": "A1f9jiE9st2H"
   },
   "source": [
    "## Part B Testing and Exception Handling\n",
    "\n",
    "In this part, we will face your biggest fear: **ERROR**, or something more terrifying: **ERROR NOT FOUND**. \n",
    "\n",
    "First, we will identify *some* common errors. Then, we will discuss how we can fix and handle the errors when we are programming.\n",
    "\n",
    "![](https://static.wikia.nocookie.net/harrypotter/images/d/d7/Snape_boggart.gif/revision/latest?cb=20140416074637)"
   ]
  },
  {
   "cell_type": "markdown",
   "metadata": {
    "id": "55Tmv4Rjty4F"
   },
   "source": [
    "### Activity 1: Get to know what you fear\n",
    "\n",
    "1. Run the code cell\n",
    "2. read the error message and identify the error type\n",
    "3. fix them."
   ]
  },
  {
   "cell_type": "markdown",
   "metadata": {
    "id": "djPHFvp6uYGH"
   },
   "source": [
    "<font color='red'>**Case 1: check 1 + 2 is equal to 3**</font>"
   ]
  },
  {
   "cell_type": "code",
   "execution_count": 18,
   "metadata": {
    "id": "fTZMn3b5oR2C"
   },
   "outputs": [
    {
     "ename": "SyntaxError",
     "evalue": "cannot assign to operator (<ipython-input-18-8ca2c3fac6f3>, line 1)",
     "output_type": "error",
     "traceback": [
      "\u001b[1;36m  File \u001b[1;32m\"<ipython-input-18-8ca2c3fac6f3>\"\u001b[1;36m, line \u001b[1;32m1\u001b[0m\n\u001b[1;33m    1 + 2 = 3\u001b[0m\n\u001b[1;37m    ^\u001b[0m\n\u001b[1;31mSyntaxError\u001b[0m\u001b[1;31m:\u001b[0m cannot assign to operator\n"
     ]
    }
   ],
   "source": [
    "1 + 2 = 3"
   ]
  },
  {
   "cell_type": "markdown",
   "metadata": {
    "id": "sdxTwaxQvIjV"
   },
   "source": [
    "**Ans:** `=` should be `==`\n",
    "```python\n",
    "1 + 2 == 3\n",
    "```"
   ]
  },
  {
   "cell_type": "markdown",
   "metadata": {
    "id": "9EtyPq-_wZVi"
   },
   "source": [
    "<font color='red'>**Case 2: try to join the items in the list with comma**</font>"
   ]
  },
  {
   "cell_type": "code",
   "execution_count": 11,
   "metadata": {
    "id": "AblO6Shjuf_W"
   },
   "outputs": [
    {
     "name": "stdout",
     "output_type": "stream",
     "text": [
      "a\n",
      "b\n",
      "c\n",
      "d\n"
     ]
    }
   ],
   "source": [
    "print('\\n'.join(['a','b','c','d']))"
   ]
  },
  {
   "cell_type": "markdown",
   "metadata": {
    "id": "Hjq2M-fZvZJH"
   },
   "source": [
    "**Ans:** Imbalanced brakets, an extra bracket in front of `[`\n",
    "```python\n",
    "print(','.join(['a','b','c','d']))\n",
    "```"
   ]
  },
  {
   "cell_type": "markdown",
   "metadata": {
    "id": "qilE1pp3wcTA"
   },
   "source": [
    "Cases 1 and 2 are **SyntaxErrors**. Simply speaking, code with wrong grammar."
   ]
  },
  {
   "cell_type": "markdown",
   "metadata": {
    "id": "IzfkafCWUwZC"
   },
   "source": [
    "\n",
    "\n",
    "---\n",
    "\n"
   ]
  },
  {
   "cell_type": "markdown",
   "metadata": {
    "id": "oECkiHOSw3nA"
   },
   "source": [
    "<font color='red'>**Case 3: printing 'a2'**</font>"
   ]
  },
  {
   "cell_type": "code",
   "execution_count": null,
   "metadata": {
    "id": "j9ysyxpvuAM0"
   },
   "outputs": [],
   "source": [
    "print('a' + 2)"
   ]
  },
  {
   "cell_type": "markdown",
   "metadata": {
    "id": "3YKpaUWAxG_s"
   },
   "source": [
    "**Ans:** addition between string and integer\n",
    "```python\n",
    "print('a' + '2')\n",
    "```\n",
    "\n",
    "This is an example of **TypeError**, where an operation is performed on an incorrect/unsupported object type. In this case, string concatenation with an integer."
   ]
  },
  {
   "cell_type": "markdown",
   "metadata": {
    "id": "kS5KDoqnUx1a"
   },
   "source": [
    "\n",
    "\n",
    "---\n",
    "\n"
   ]
  },
  {
   "cell_type": "markdown",
   "metadata": {
    "id": "ynzmP_4JziDG"
   },
   "source": [
    "<font color='red'>**Case 4: printing 'I have an apple I have a pen Apple Pen'**</font>"
   ]
  },
  {
   "cell_type": "code",
   "execution_count": null,
   "metadata": {
    "id": "N2c5XDiAziDN"
   },
   "outputs": [],
   "source": [
    "print(I, have, an, apple, I, have, a, pen, Apple, Pen)"
   ]
  },
  {
   "cell_type": "markdown",
   "metadata": {
    "id": "5Nt5PShoziDN"
   },
   "source": [
    "**Ans:** all arguments inside the print function are undefined variables instead of string.\n",
    "```python\n",
    "print('I', 'have', 'an', 'apple', 'I', 'have', 'a', 'pen', 'Apple', 'Pen')\n",
    "```\n",
    "\n",
    "This is known as **NameError**, where we are using a variable or function that is not recognised by the interpreter."
   ]
  },
  {
   "cell_type": "markdown",
   "metadata": {
    "id": "MeOWYSq1UzHx"
   },
   "source": [
    "\n",
    "\n",
    "---\n",
    "\n"
   ]
  },
  {
   "cell_type": "markdown",
   "metadata": {
    "id": "WwN_M-a43Wwk"
   },
   "source": [
    "<font color='red'>**Case 5: printing 5 / i, where i is from 5 to 0**</font>"
   ]
  },
  {
   "cell_type": "code",
   "execution_count": null,
   "metadata": {
    "id": "GV48X0Ow3Wwr"
   },
   "outputs": [],
   "source": [
    "for i in range(5,-1,-1):\n",
    "    print(5/i)"
   ]
  },
  {
   "cell_type": "markdown",
   "metadata": {
    "id": "lDnw9JDF3Wwr"
   },
   "source": [
    "**Ans:** we cannot divide a value by 0. We can simply remove/skip the divide by 0 case.\n",
    "\n",
    "```python\n",
    "for i in range(5,0,-1):\n",
    "    print(5/i)\n",
    "```\n",
    "\n",
    "This is known as **ZeroDivisionError**, quite self-explanatory by its name."
   ]
  },
  {
   "cell_type": "markdown",
   "metadata": {
    "id": "_v1_9yUtU13J"
   },
   "source": [
    "\n",
    "\n",
    "---\n",
    "\n"
   ]
  },
  {
   "cell_type": "markdown",
   "metadata": {
    "id": "xc0E5fTp4vmV"
   },
   "source": [
    "<font color='red'>**Case 6: trying to get the numerical representation of the character 'a'**</font>"
   ]
  },
  {
   "cell_type": "code",
   "execution_count": null,
   "metadata": {
    "id": "_MmDUFAd4vmc"
   },
   "outputs": [],
   "source": [
    "print(int('a'))"
   ]
  },
  {
   "cell_type": "markdown",
   "metadata": {
    "id": "q_-ykwvU4vmc"
   },
   "source": [
    "**Ans:** 'a' cannot be converted to an integer. In order to get the numerical representation of 'a', we could use `ord()` function instead.\n",
    "\n",
    "```python\n",
    "print(ord('a'))\n",
    "```\n",
    "\n",
    "This is known as **ValueError**: \n",
    "\n",
    "- valid function, valid value with correct data type, but the function does not work on that value."
   ]
  },
  {
   "cell_type": "markdown",
   "metadata": {
    "id": "BkYwVm5AU4lO"
   },
   "source": [
    "\n",
    "\n",
    "---\n",
    "\n"
   ]
  },
  {
   "cell_type": "markdown",
   "metadata": {
    "id": "4IRj_n6bDdBZ"
   },
   "source": [
    "<font color='red'>**Case 7: trying to print the last item of the_list**</font>"
   ]
  },
  {
   "cell_type": "code",
   "execution_count": null,
   "metadata": {
    "id": "ETFi07SxDdBt"
   },
   "outputs": [],
   "source": [
    "the_list = [1,2,3]\n",
    "print(the_list[3])"
   ]
  },
  {
   "cell_type": "markdown",
   "metadata": {
    "id": "n2HWrAJ9DdBu"
   },
   "source": [
    "**Ans:** The maximum index is 2 in this list. (index starts from 0)\n",
    "\n",
    "```python\n",
    "print(the_list[2])\n",
    "```\n",
    "\n",
    "This is known as **IndexError**, where we are trying to retrieve the item in a collective data type with an index out of the valid range."
   ]
  },
  {
   "cell_type": "markdown",
   "metadata": {
    "id": "mPIA3iLsU6GB"
   },
   "source": [
    "\n",
    "\n",
    "---\n",
    "\n"
   ]
  },
  {
   "cell_type": "markdown",
   "metadata": {
    "id": "s1KBIFy7Ec2_"
   },
   "source": [
    "<font color='red'>**Case 8: trying to get the score of a student**</font>"
   ]
  },
  {
   "cell_type": "code",
   "execution_count": null,
   "metadata": {
    "id": "gIhTC8JnEc3A"
   },
   "outputs": [],
   "source": [
    "class Student:\n",
    "    def __init__(self, score):\n",
    "        self.mark = score\n",
    "\n",
    "stu = Student(80)\n",
    "print(stu.score)"
   ]
  },
  {
   "cell_type": "markdown",
   "metadata": {
    "id": "7NBeIVnEEc3B"
   },
   "source": [
    "**Ans:** The score of student is stored in `self.mark` instance variable. `score` is not an attribute of the instance. We could get `stu.mark` instead.\n",
    "\n",
    "```python\n",
    "print(stu.mark)\n",
    "```\n",
    "\n",
    "This is known as **AttributeError**, which is raised when an attribute reference or assignment fails."
   ]
  },
  {
   "cell_type": "markdown",
   "metadata": {
    "id": "_TZnVnhJxBkt"
   },
   "source": [
    "\n",
    "\n",
    "---\n",
    "\n",
    "\n",
    "<font color='brown'>**There are many more errors that could exist in our scripts. You can explore further by reading the [documentation](https://docs.python.org/3/library/exceptions.html).**</font>"
   ]
  },
  {
   "cell_type": "markdown",
   "metadata": {
    "id": "VosVXClKPtfc"
   },
   "source": [
    "### Activity 2: Exception handling\n",
    "\n",
    "In this activity, we will reuse some parts of the Contact and PhoneBook classes from week 7."
   ]
  },
  {
   "cell_type": "markdown",
   "metadata": {
    "id": "8Rifz9N3WR4y"
   },
   "source": [
    "#### 2A. What could possibly go wrong?\n",
    "\n",
    "The code cell below is the simple version of Contact class implementation. \n",
    "\n",
    "<font color='red'>**Question:**</font> Can you think of **what errors** could possibly be raised from the code? How can we **handle** this error in a better way?(Just the idea)"
   ]
  },
  {
   "cell_type": "code",
   "execution_count": 1,
   "metadata": {
    "id": "ODGdw0LEw8RZ"
   },
   "outputs": [],
   "source": [
    "class Contact:\n",
    "    def __init__(self, name, organisation, phones = []):\n",
    "        self.name = name\n",
    "        self.organisation = organisation\n",
    "        self.phones = phones\n",
    "\n",
    "    def add_phone(self,phone):\n",
    "        if phone in self.phones:\n",
    "            print(\"Phone number already exists!\")\n",
    "        else:\n",
    "            self.phones.append(phone)\n",
    "    \n",
    "    def remove_phone(self, index):\n",
    "        if index in range(0,len(self.phones)):\n",
    "            del self.phones[index]\n",
    "            return True\n",
    "        else:\n",
    "            print(\"Index out of range\")\n",
    "            return False"
   ]
  },
  {
   "cell_type": "markdown",
   "metadata": {
    "id": "vQ5pAZ0ung4X"
   },
   "source": [
    "**Ans:** We are assuming `phones` must be a list when we implement all the methods. \n",
    "\n",
    "What will happen when we create a Contact instance with an integer as `phones`?"
   ]
  },
  {
   "cell_type": "code",
   "execution_count": 2,
   "metadata": {
    "id": "-mhqDPnvn543"
   },
   "outputs": [],
   "source": [
    "# creating a new Contact instance\n",
    "c = Contact('test','FIT9136', 123456)"
   ]
  },
  {
   "cell_type": "code",
   "execution_count": 3,
   "metadata": {
    "id": "6t7lQqAFoO6_"
   },
   "outputs": [
    {
     "ename": "TypeError",
     "evalue": "argument of type 'int' is not iterable",
     "output_type": "error",
     "traceback": [
      "\u001b[1;31m---------------------------------------------------------------------------\u001b[0m",
      "\u001b[1;31mTypeError\u001b[0m                                 Traceback (most recent call last)",
      "\u001b[1;32m<ipython-input-3-067ec04367c8>\u001b[0m in \u001b[0;36m<module>\u001b[1;34m\u001b[0m\n\u001b[0;32m      1\u001b[0m \u001b[1;31m# adding a new phone number to c\u001b[0m\u001b[1;33m\u001b[0m\u001b[1;33m\u001b[0m\u001b[1;33m\u001b[0m\u001b[0m\n\u001b[1;32m----> 2\u001b[1;33m \u001b[0mc\u001b[0m\u001b[1;33m.\u001b[0m\u001b[0madd_phone\u001b[0m\u001b[1;33m(\u001b[0m\u001b[1;36m34567\u001b[0m\u001b[1;33m)\u001b[0m \u001b[1;31m# what is the error message?\u001b[0m\u001b[1;33m\u001b[0m\u001b[1;33m\u001b[0m\u001b[0m\n\u001b[0m",
      "\u001b[1;32m<ipython-input-1-29e2694ec5ee>\u001b[0m in \u001b[0;36madd_phone\u001b[1;34m(self, phone)\u001b[0m\n\u001b[0;32m      6\u001b[0m \u001b[1;33m\u001b[0m\u001b[0m\n\u001b[0;32m      7\u001b[0m     \u001b[1;32mdef\u001b[0m \u001b[0madd_phone\u001b[0m\u001b[1;33m(\u001b[0m\u001b[0mself\u001b[0m\u001b[1;33m,\u001b[0m\u001b[0mphone\u001b[0m\u001b[1;33m)\u001b[0m\u001b[1;33m:\u001b[0m\u001b[1;33m\u001b[0m\u001b[1;33m\u001b[0m\u001b[0m\n\u001b[1;32m----> 8\u001b[1;33m         \u001b[1;32mif\u001b[0m \u001b[0mphone\u001b[0m \u001b[1;32min\u001b[0m \u001b[0mself\u001b[0m\u001b[1;33m.\u001b[0m\u001b[0mphones\u001b[0m\u001b[1;33m:\u001b[0m\u001b[1;33m\u001b[0m\u001b[1;33m\u001b[0m\u001b[0m\n\u001b[0m\u001b[0;32m      9\u001b[0m             \u001b[0mprint\u001b[0m\u001b[1;33m(\u001b[0m\u001b[1;34m\"Phone number already exists!\"\u001b[0m\u001b[1;33m)\u001b[0m\u001b[1;33m\u001b[0m\u001b[1;33m\u001b[0m\u001b[0m\n\u001b[0;32m     10\u001b[0m         \u001b[1;32melse\u001b[0m\u001b[1;33m:\u001b[0m\u001b[1;33m\u001b[0m\u001b[1;33m\u001b[0m\u001b[0m\n",
      "\u001b[1;31mTypeError\u001b[0m: argument of type 'int' is not iterable"
     ]
    }
   ],
   "source": [
    "# adding a new phone number to c\n",
    "c.add_phone(34567) # what is the error message?"
   ]
  },
  {
   "cell_type": "markdown",
   "metadata": {
    "id": "NKcoLY64pAM4"
   },
   "source": [
    "We can see a TypeError is raised when we call `add_phone` method because `self.phones` is not a list. \n",
    "\n",
    "When `phones` is not a list, we could have prevented the programmer to create the Contact instance by raising error.\n",
    "\n",
    "In most time, it is a better idea to validate the variable values once they are created to avoid futher consequential error."
   ]
  },
  {
   "cell_type": "markdown",
   "metadata": {
    "id": "gLMSalhOqt8n"
   },
   "source": [
    "#### 2B. Identify the root cause of error\n",
    "\n",
    "Now that we know the error caused can be traced back to assigning a value with the wrong data type to `self.phones`. \n",
    "\n",
    "We could validate the `phones` argument in the constructor method before assigning the value to the instance variable `self.phones`.\n",
    "\n",
    "**I. We could raise an AssertionError with `assert` keyword following the syntax below:**\n",
    "```python\n",
    "assert <contition to be met>, \"error message thrown otherwise\"\n",
    "```\n",
    "\n",
    "**II. We could also raise a TypeError with `raise` keyword by:**\n",
    "```python\n",
    "raise TypeError('error message thrown')\n",
    "```\n",
    "\n",
    "Of course, there are many more ways to handle the situation, such as <font color='red'>**using if-else conditions, which may NOT raise any error**</font>. \n",
    "\n",
    "But first, let's try to implement the above ideas."
   ]
  },
  {
   "cell_type": "code",
   "execution_count": 4,
   "metadata": {
    "id": "cNFOxJNA6Eq1"
   },
   "outputs": [],
   "source": [
    "# Approach I: AssertionError\n",
    "class ContactA:\n",
    "    def __init__(self, name, organisation, phones = []):\n",
    "        self.name = name\n",
    "        self.organisation = organisation\n",
    "        # raise assertion error is phones is not a list, implement here\n",
    "        assert isinstance(phones,list), 'phones should be a list'\n",
    "        self.phones = phones"
   ]
  },
  {
   "cell_type": "code",
   "execution_count": 5,
   "metadata": {
    "id": "jIysQk2B8HYy"
   },
   "outputs": [
    {
     "ename": "AssertionError",
     "evalue": "phones should be a list",
     "output_type": "error",
     "traceback": [
      "\u001b[1;31m---------------------------------------------------------------------------\u001b[0m",
      "\u001b[1;31mAssertionError\u001b[0m                            Traceback (most recent call last)",
      "\u001b[1;32m<ipython-input-5-eba1b0b8ba25>\u001b[0m in \u001b[0;36m<module>\u001b[1;34m\u001b[0m\n\u001b[0;32m      1\u001b[0m \u001b[1;31m# creating invalid ContactA instance\u001b[0m\u001b[1;33m\u001b[0m\u001b[1;33m\u001b[0m\u001b[1;33m\u001b[0m\u001b[0m\n\u001b[1;32m----> 2\u001b[1;33m \u001b[0mc1\u001b[0m \u001b[1;33m=\u001b[0m \u001b[0mContactA\u001b[0m\u001b[1;33m(\u001b[0m\u001b[1;34m'a'\u001b[0m\u001b[1;33m,\u001b[0m\u001b[1;34m'b'\u001b[0m\u001b[1;33m,\u001b[0m\u001b[1;34m'c'\u001b[0m\u001b[1;33m)\u001b[0m\u001b[1;33m\u001b[0m\u001b[1;33m\u001b[0m\u001b[0m\n\u001b[0m",
      "\u001b[1;32m<ipython-input-4-22037b5471cc>\u001b[0m in \u001b[0;36m__init__\u001b[1;34m(self, name, organisation, phones)\u001b[0m\n\u001b[0;32m      5\u001b[0m         \u001b[0mself\u001b[0m\u001b[1;33m.\u001b[0m\u001b[0morganisation\u001b[0m \u001b[1;33m=\u001b[0m \u001b[0morganisation\u001b[0m\u001b[1;33m\u001b[0m\u001b[1;33m\u001b[0m\u001b[0m\n\u001b[0;32m      6\u001b[0m         \u001b[1;31m# raise assertion error is phones is not a list, implement here\u001b[0m\u001b[1;33m\u001b[0m\u001b[1;33m\u001b[0m\u001b[1;33m\u001b[0m\u001b[0m\n\u001b[1;32m----> 7\u001b[1;33m         \u001b[1;32massert\u001b[0m \u001b[0misinstance\u001b[0m\u001b[1;33m(\u001b[0m\u001b[0mphones\u001b[0m\u001b[1;33m,\u001b[0m\u001b[0mlist\u001b[0m\u001b[1;33m)\u001b[0m\u001b[1;33m,\u001b[0m \u001b[1;34m'phones should be a list'\u001b[0m\u001b[1;33m\u001b[0m\u001b[1;33m\u001b[0m\u001b[0m\n\u001b[0m\u001b[0;32m      8\u001b[0m         \u001b[0mself\u001b[0m\u001b[1;33m.\u001b[0m\u001b[0mphones\u001b[0m \u001b[1;33m=\u001b[0m \u001b[0mphones\u001b[0m\u001b[1;33m\u001b[0m\u001b[1;33m\u001b[0m\u001b[0m\n",
      "\u001b[1;31mAssertionError\u001b[0m: phones should be a list"
     ]
    }
   ],
   "source": [
    "# creating invalid ContactA instance\n",
    "c1 = ContactA('a','b','c')"
   ]
  },
  {
   "cell_type": "code",
   "execution_count": 6,
   "metadata": {
    "id": "qHCmnkXX73Fr"
   },
   "outputs": [],
   "source": [
    "# Approach II: TypeError\n",
    "class ContactT:\n",
    "    def __init__(self, name, organisation, phones = []):\n",
    "        self.name = name\n",
    "        self.organisation = organisation\n",
    "        # raise type error if phones is not a list, implement here\n",
    "        if not isinstance(phones,list):\n",
    "            raise TypeError('phones should be a list')\n",
    "        self.phones = phones"
   ]
  },
  {
   "cell_type": "code",
   "execution_count": 7,
   "metadata": {
    "id": "vXdk5X1v8MCg"
   },
   "outputs": [
    {
     "ename": "TypeError",
     "evalue": "phones should be a list",
     "output_type": "error",
     "traceback": [
      "\u001b[1;31m---------------------------------------------------------------------------\u001b[0m",
      "\u001b[1;31mTypeError\u001b[0m                                 Traceback (most recent call last)",
      "\u001b[1;32m<ipython-input-7-94d9bb80d63b>\u001b[0m in \u001b[0;36m<module>\u001b[1;34m\u001b[0m\n\u001b[0;32m      1\u001b[0m \u001b[1;31m# creating invalid ContactT instance\u001b[0m\u001b[1;33m\u001b[0m\u001b[1;33m\u001b[0m\u001b[1;33m\u001b[0m\u001b[0m\n\u001b[1;32m----> 2\u001b[1;33m \u001b[0mc2\u001b[0m \u001b[1;33m=\u001b[0m \u001b[0mContactT\u001b[0m\u001b[1;33m(\u001b[0m\u001b[1;34m'a'\u001b[0m\u001b[1;33m,\u001b[0m\u001b[1;34m'b'\u001b[0m\u001b[1;33m,\u001b[0m\u001b[1;34m'c'\u001b[0m\u001b[1;33m)\u001b[0m\u001b[1;33m\u001b[0m\u001b[1;33m\u001b[0m\u001b[0m\n\u001b[0m",
      "\u001b[1;32m<ipython-input-6-c3226a3d905d>\u001b[0m in \u001b[0;36m__init__\u001b[1;34m(self, name, organisation, phones)\u001b[0m\n\u001b[0;32m      6\u001b[0m         \u001b[1;31m# raise type error if phones is not a list, implement here\u001b[0m\u001b[1;33m\u001b[0m\u001b[1;33m\u001b[0m\u001b[1;33m\u001b[0m\u001b[0m\n\u001b[0;32m      7\u001b[0m         \u001b[1;32mif\u001b[0m \u001b[1;32mnot\u001b[0m \u001b[0misinstance\u001b[0m\u001b[1;33m(\u001b[0m\u001b[0mphones\u001b[0m\u001b[1;33m,\u001b[0m\u001b[0mlist\u001b[0m\u001b[1;33m)\u001b[0m\u001b[1;33m:\u001b[0m\u001b[1;33m\u001b[0m\u001b[1;33m\u001b[0m\u001b[0m\n\u001b[1;32m----> 8\u001b[1;33m             \u001b[1;32mraise\u001b[0m \u001b[0mTypeError\u001b[0m\u001b[1;33m(\u001b[0m\u001b[1;34m'phones should be a list'\u001b[0m\u001b[1;33m)\u001b[0m\u001b[1;33m\u001b[0m\u001b[1;33m\u001b[0m\u001b[0m\n\u001b[0m\u001b[0;32m      9\u001b[0m         \u001b[0mself\u001b[0m\u001b[1;33m.\u001b[0m\u001b[0mphones\u001b[0m \u001b[1;33m=\u001b[0m \u001b[0mphones\u001b[0m\u001b[1;33m\u001b[0m\u001b[1;33m\u001b[0m\u001b[0m\n",
      "\u001b[1;31mTypeError\u001b[0m: phones should be a list"
     ]
    }
   ],
   "source": [
    "# creating invalid ContactT instance\n",
    "c2 = ContactT('a','b','c')"
   ]
  },
  {
   "cell_type": "markdown",
   "metadata": {
    "id": "sBRxCvw5uM0b"
   },
   "source": [
    "<font color='red'>**Question:**</font> When to use `assert`, when to use `raise`? What are the differences between them?"
   ]
  },
  {
   "cell_type": "markdown",
   "metadata": {
    "id": "I7Rfgd-durJh"
   },
   "source": [
    "`assert`: \n",
    "- will raise AssertionError.\n",
    "- fast and easy, great for throwaway code or bench testing\n",
    "\n",
    "`raise`: \n",
    "- will raise a specific type of error, e.g. TypeError, ValueError.\n",
    "- specific, more helpful in debugging, especially when the project is large-scaled"
   ]
  },
  {
   "cell_type": "markdown",
   "metadata": {
    "id": "4cdBefFELCqT"
   },
   "source": [
    "### 2C. Catching the error\n",
    "\n",
    "Sometimes, we don't want the program to end because of an error. In that scenario, we could \"catch\" the error by using `try` and `except` blocks:\n",
    "\n",
    "```python\n",
    "try:\n",
    "    # some code that may raise error\n",
    "except <the error type>:\n",
    "    # the code to run after try when error is raised in try block\n",
    "else:\n",
    "    # the code to run after try when error is NOT raised in try block\n",
    "finally:\n",
    "    # the code to run anyway after try, except, else\n",
    "```"
   ]
  },
  {
   "cell_type": "markdown",
   "metadata": {
    "id": "dRCOI6hR0avs"
   },
   "source": [
    "Now, let's modify the code above. Instead of raising the error and stopping the program, we can catch the error and assign an empty list to `self.phones` if error is raised."
   ]
  },
  {
   "cell_type": "code",
   "execution_count": 12,
   "metadata": {
    "id": "7VoNxNS5REBZ"
   },
   "outputs": [],
   "source": [
    "# Approach I: AssertionError\n",
    "class ContactA:\n",
    "    def __init__(self, name, organisation, phones = []):\n",
    "        self.name = name\n",
    "        self.organisation = organisation\n",
    "        try:\n",
    "            # raise assertion error is phones is not a list\n",
    "            assert isinstance(phones,list), 'phones should be a list'\n",
    "            self.phones = phones\n",
    "        except AssertionError as e:\n",
    "            print(e) # error message is stored as variable e\n",
    "            # assign empty list to self.phones\n",
    "            self.phones = []"
   ]
  },
  {
   "cell_type": "code",
   "execution_count": 13,
   "metadata": {
    "id": "hktiehgO1HEO"
   },
   "outputs": [
    {
     "name": "stdout",
     "output_type": "stream",
     "text": [
      "phones should be a list\n"
     ]
    }
   ],
   "source": [
    "# creating invalid ContactA instance\n",
    "c1 = ContactA('a','b','c')"
   ]
  },
  {
   "cell_type": "code",
   "execution_count": 14,
   "metadata": {
    "id": "iIXP3GAh1HEP"
   },
   "outputs": [],
   "source": [
    "# Approach II: TypeError\n",
    "class ContactT:\n",
    "    def __init__(self, name, organisation, phones = []):\n",
    "        self.name = name\n",
    "        self.organisation = organisation\n",
    "        try:\n",
    "            # raise type error if phones is not a list\n",
    "            if not isinstance(phones,list):\n",
    "                raise TypeError('phones should be a list')\n",
    "            self.phones = phones\n",
    "        except TypeError:\n",
    "            # assign empty list to self.phones\n",
    "            self.phones = []\n",
    "        "
   ]
  },
  {
   "cell_type": "code",
   "execution_count": 15,
   "metadata": {
    "id": "exlYvBoN1HEP"
   },
   "outputs": [],
   "source": [
    "# creating invalid ContactT instance\n",
    "c2 = ContactT('a','b','c')"
   ]
  },
  {
   "cell_type": "markdown",
   "metadata": {
    "id": "RB-RJfD_18Bx"
   },
   "source": [
    "Sometimes we want to handle different error in different ways. \n",
    "\n",
    "When we raise AssertionError in all scenario, we would not be able to do that easily. This is a good example showing why errors should be specific."
   ]
  },
  {
   "cell_type": "markdown",
   "metadata": {
    "id": "MCGC72A62thm"
   },
   "source": [
    "<font color='red'>**Task:**</font> Let's write a function `calc_bmi():` that asks user to input his/her weight(kg) and height(m) one by one and prints out the BMI of the user. The Body Mass Index(BMI) can be calculated by the following formula:\n",
    "\n",
    "<small>$BMI = \\frac{weight}{height^{2}}$</small>\n",
    "\n",
    "- The user input is expected to be a float number. \n",
    "- If the user input is not a float number, the function will print \"Invalid input.\"\n",
    "- If the height is 0, the function will print \"Height cannot be zero.\"\n",
    "- No matter the user inputs are valid or not, the function will print out \"End.\" at last."
   ]
  },
  {
   "cell_type": "code",
   "execution_count": 13,
   "metadata": {
    "id": "mjbyBjat2cI_"
   },
   "outputs": [],
   "source": [
    "def calc_bmi():\n",
    "    \"\"\"\n",
    "    Calculates BMI from user input of weight and height\n",
    "    \"\"\"\n",
    "    weight = input('Please enter weight in kg: ')\n",
    "    height = input('Please enter height in m: ')\n",
    "    try:\n",
    "        bmi = float(weight) / (float(height) ** 2)\n",
    "    except ValueError:\n",
    "        print('Invalid input.')\n",
    "    except ZeroDivisionError:\n",
    "        print('Height cannot be zero.')\n",
    "    else:\n",
    "        print(f'Your bmi is {bmi:.2f}')\n",
    "    finally:\n",
    "        print('End.')"
   ]
  },
  {
   "cell_type": "code",
   "execution_count": 17,
   "metadata": {
    "colab": {
     "base_uri": "https://localhost:8080/"
    },
    "id": "pMpFrhL6_S5X",
    "outputId": "d96f6a5a-f5d8-4a95-ec9c-ba9849084a0e"
   },
   "outputs": [
    {
     "name": "stdout",
     "output_type": "stream",
     "text": [
      "Please enter weight in kg: qa\n",
      "Please enter height in m: s\n",
      "Invalid input.\n",
      "End.\n"
     ]
    }
   ],
   "source": [
    "calc_bmi()"
   ]
  },
  {
   "cell_type": "code",
   "execution_count": 15,
   "metadata": {
    "colab": {
     "base_uri": "https://localhost:8080/"
    },
    "id": "vvikeCRg_UVG",
    "outputId": "605a0b77-7eb0-4a45-fdf8-21a97d3f0f14"
   },
   "outputs": [
    {
     "name": "stdout",
     "output_type": "stream",
     "text": [
      "Please enter weight in kg: 77.6\n",
      "Please enter height in m: 2\n",
      "Your bmi is 19.40\n",
      "End.\n"
     ]
    }
   ],
   "source": [
    "calc_bmi()"
   ]
  },
  {
   "cell_type": "code",
   "execution_count": null,
   "metadata": {
    "colab": {
     "base_uri": "https://localhost:8080/"
    },
    "id": "n5z6iSBUCGs7",
    "outputId": "2261a06f-ff98-4d46-9b4b-4464fbcdd8d7"
   },
   "outputs": [
    {
     "name": "stdout",
     "output_type": "stream",
     "text": [
      "Please enter weight in kg: 68.9\n",
      "Please enter height in m: 1.75\n",
      "Your bmi is 22.50\n",
      "End.\n"
     ]
    }
   ],
   "source": [
    "calc_bmi()"
   ]
  },
  {
   "cell_type": "markdown",
   "metadata": {
    "id": "o1oY0RyTJHv2"
   },
   "source": [
    "<font size='4em'><b>NEXT WEEK</b></font> we will explore several python packages, such as:\n",
    "- [re](https://docs.python.org/3/library/re.html) (regular expression)\n",
    "- [pandas](https://pandas.pydata.org/docs/user_guide/10min.html)\n",
    "- [matplotlib](https://matplotlib.org/stable/tutorials/index.html)\n",
    "- [numpy](https://numpy.org/numpy-tutorials/)\n",
    "\n",
    "Feel free to have a look first. You may think about the following questions:\n",
    "- What can we do with this package?\n",
    "- When will we need to use this package? Is it always helpful?\n",
    "- How can we use the functions in this package?\n",
    "\n",
    "\n",
    "Stay tuned!"
   ]
  },
  {
   "cell_type": "markdown",
   "metadata": {
    "id": "zywr30zvJClv"
   },
   "source": [
    "## Exercise"
   ]
  },
  {
   "cell_type": "markdown",
   "metadata": {
    "id": "TzmOTYx0LdGl"
   },
   "source": [
    "### 1. Try-Except\n",
    "\n",
    "Below is a simplified implementation of Contact class from last week. Please identify all possible errors and use try-except blocks to raise and catch the errors."
   ]
  },
  {
   "cell_type": "code",
   "execution_count": 1,
   "metadata": {
    "id": "FVUzB_jNIPFp"
   },
   "outputs": [],
   "source": [
    "class Contact:\n",
    "    def __init__(self, name, organisation, phones = []):\n",
    "        \"\"\"\n",
    "        Construct all attributes of the instance. (No need to modify this part)\n",
    "        \"\"\"\n",
    "        try:\n",
    "            if not isinstance(name,str):\n",
    "                raise TypeError('name should be a string!')\n",
    "            self.name = name\n",
    "        except TypeError as e:\n",
    "            print(e)\n",
    "            self.name = ''\n",
    "        \n",
    "        try:\n",
    "            if not isinstance(organisation,str):\n",
    "                raise TypeError('organisation should be a string!')\n",
    "            self.organisation = organisation\n",
    "        except TypeError as e:\n",
    "            print(e)\n",
    "            self.organisation = ''\n",
    "        \n",
    "        try:\n",
    "            if not isinstance(phones,list):\n",
    "                raise TypeError('phones should be a list of string!')\n",
    "            self.phones = [p for p in phones if self.validate_phone(p)]\n",
    "        except TypeError as e:\n",
    "            print(e)\n",
    "            self.phones = []\n",
    "\n",
    "    def validate_phone(self, num):\n",
    "        \"\"\"\n",
    "        A method to validate phone number. (No need to modify this part)\n",
    "        Args:\n",
    "            1. num: the phone number needs to be validated\n",
    "        Returns:\n",
    "            bool: whether num is a valid phone number\n",
    "        \"\"\"\n",
    "        return isinstance(num,str) and len(num) in range(10,15) and num.isdigit()\n",
    "        \n",
    "        \n",
    "    def match_name(self, substr):\n",
    "        \"\"\"\n",
    "        See if the name starts with substr(case-insensitive)\n",
    "        Args:\n",
    "            1. substr(str): the string to test whether name is starting with\n",
    "        Returns:\n",
    "            bool: whether self.name is starting with substr\n",
    "        \"\"\"\n",
    "        try:\n",
    "            if self.name.lower().startswith(substr.lower()):\n",
    "                return True\n",
    "            else:\n",
    "                return False\n",
    "        except:\n",
    "            # we want to return False if any error is raised\n",
    "            return False\n",
    "          \n",
    "    def update_phone(self, index, new_phone):\n",
    "        \"\"\"\n",
    "        Update the phone number in at certain index.\n",
    "        Args:\n",
    "            1. index(int): the index of the phone list that needs update\n",
    "            2. new_phone(str): the new phone number value\n",
    "        \"\"\"\n",
    "        try:\n",
    "            assert self.validate_phone(new_phone), 'Invalid phone number.'\n",
    "            self.phones[index] = new_phone\n",
    "        except IndexError:\n",
    "            print('Index out of range.')\n",
    "        except TypeError:\n",
    "            print('Index should be an integer.')\n",
    "        except AssertionError as e:\n",
    "            print(e)\n",
    "     \n",
    "    def __str__(self):\n",
    "        \"\"\"\n",
    "        Usage:\n",
    "            str(self)\n",
    "        Returns:\n",
    "            str: the string representation of the instance \n",
    "        \"\"\"\n",
    "        formatted_str = \"\"\"Name: {}\n",
    "Organisation: {}\n",
    "Phone Number(s):\n",
    "{}\"\"\"\n",
    "        return formatted_str.format(self.name, self.organisation, '\\n'.join(self.phones))\n",
    "      \n",
    "      \n",
    "    def __eq__(self, other):\n",
    "        \"\"\"\n",
    "        Compares the name and organisation between two Contact instances and see if they are equal\n",
    "        Usage:\n",
    "            self == other\n",
    "        Returns:\n",
    "            bool: whether the name and organisation of two Contact instances are equal\n",
    "        \"\"\"\n",
    "        try:\n",
    "            if not isinstance(other, Contact):\n",
    "                raise TypeError('Incomparable data types.')\n",
    "        except TypeError as e:\n",
    "            print(e)\n",
    "            return False\n",
    "        else:\n",
    "            return self.name.lower() + self.organisation.lower() == other.name.lower() + other.organisation.lower()\n",
    "      \n",
    "    def __lt__(self, other):\n",
    "        \"\"\"\n",
    "        Compares the name and organisation between two Contact instances based on the lexicographic order and see if the name and organisation of self is ordered in front of other\n",
    "        Usage:\n",
    "            self < other\n",
    "        Returns:\n",
    "            bool: whether the name and organisation of self has a higher order than (in front of) other\n",
    "        \"\"\"\n",
    "        try:\n",
    "            if not isinstance(other, Contact):\n",
    "                raise TypeError('Incomparable data types.')\n",
    "        except TypeError as e:\n",
    "            print(e)\n",
    "            return False\n",
    "        else:\n",
    "            return self.name.lower() + self.organisation.lower() < other.name.lower() + other.organisation.lower()\n",
    "        \n",
    "    def __gt__(self, other):\n",
    "        \"\"\"\n",
    "        Compares the name and organisation between two Contact instances based on the lexicographic order and see if the name and organisation of self is ordered after other\n",
    "        Usage:\n",
    "            self < other\n",
    "        Returns:\n",
    "            bool: whether the name and organisation of self has a lower order than (after) other\n",
    "        \"\"\"\n",
    "        try:\n",
    "            if not isinstance(other, Contact):\n",
    "                raise TypeError('Incomparable data types.')\n",
    "        except TypeError as e:\n",
    "            print(e)\n",
    "            return False\n",
    "        else:\n",
    "            return self.name.lower() + self.organisation.lower() > other.name.lower() + other.organisation.lower()"
   ]
  },
  {
   "cell_type": "markdown",
   "metadata": {
    "id": "eYdSE74ugvGq"
   },
   "source": [
    "Not a very elegant solution, but this is not a bad exercise of try-except😉"
   ]
  },
  {
   "cell_type": "markdown",
   "metadata": {
    "id": "tVgMk0MBcqz2"
   },
   "source": [
    "Test examples"
   ]
  },
  {
   "cell_type": "code",
   "execution_count": 2,
   "metadata": {
    "colab": {
     "base_uri": "https://localhost:8080/"
    },
    "id": "mYN0BeiKadUj",
    "outputId": "4b04b3ec-9907-4a8a-adcd-491d93ea353a"
   },
   "outputs": [
    {
     "name": "stdout",
     "output_type": "stream",
     "text": [
      "name should be a string!\n",
      "organisation should be a string!\n",
      "phones should be a list of string!\n",
      "'', '', []\n"
     ]
    }
   ],
   "source": [
    "c1 = Contact(1,2,3)\n",
    "print(repr(c1.name), repr(c1.organisation), repr(c1.phones), sep=', ')"
   ]
  },
  {
   "cell_type": "code",
   "execution_count": 3,
   "metadata": {
    "colab": {
     "base_uri": "https://localhost:8080/"
    },
    "id": "3snwrcYgbZyN",
    "outputId": "fa487318-a964-4297-9108-133600a2f8df"
   },
   "outputs": [
    {
     "name": "stdout",
     "output_type": "stream",
     "text": [
      "Invalid phone number.\n",
      "Index out of range.\n"
     ]
    }
   ],
   "source": [
    "c1.update_phone(1,123456)\n",
    "c1.update_phone(1,'1234567890')"
   ]
  },
  {
   "cell_type": "code",
   "execution_count": 4,
   "metadata": {
    "colab": {
     "base_uri": "https://localhost:8080/"
    },
    "id": "dvY4C9QzcG4I",
    "outputId": "30c52b49-6543-499b-ca63-c6b226ae47e2"
   },
   "outputs": [
    {
     "name": "stdout",
     "output_type": "stream",
     "text": [
      "Incomparable data types.\n",
      "False\n"
     ]
    }
   ],
   "source": [
    "print(c1 < '3')"
   ]
  },
  {
   "cell_type": "markdown",
   "metadata": {
    "ExecuteTime": {
     "end_time": "2020-09-30T10:45:15.614472Z",
     "start_time": "2020-09-30T10:45:15.612587Z"
    },
    "id": "i6fowxtihTO8"
   },
   "source": [
    "### 2. insert_dictionary\n",
    "\n",
    "Write a function `insert_dictionary():` which accepts 3 arguments:\n",
    "\n",
    "* a_dictionary: a dictionary\n",
    "\n",
    "* a_key: a string\n",
    "\n",
    "* a_value: an integer\n",
    "\n",
    "The function adds the key-value pair({a_key: a_value}) to a_dictionary.\n",
    "\n",
    "* If the key is present in the dictionary, do not update the value. Instead print \"Key present\".\n",
    "\n",
    "* Furthermore, if any of the parameters are not valid, the function should raise an exception and show an appropriate message.\n",
    "\n",
    "You may apply any kind of error handling techniques learnt so far.\n"
   ]
  },
  {
   "cell_type": "code",
   "execution_count": null,
   "metadata": {
    "id": "0FPuCt5ohTO-"
   },
   "outputs": [],
   "source": [
    "#Write your code here\n",
    "def insert_dictionary(a_dictionary, a_key, a_value):\n",
    "    if not(type(a_dictionary) is dict):\n",
    "        raise TypeError(\"a_dictionary isn't a dictionary\")\n",
    "    if not(type(a_key) is str):\n",
    "        raise TypeError(\"a_key isn't a string\")\n",
    "    if not(type(a_value) is int):\n",
    "        raise TypeError(\"a_value isn't an integer\")\n",
    "    if (a_key in a_dictionary):\n",
    "        print('Key present')\n",
    "    else:\n",
    "        a_dictionary[a_key] = a_value\n",
    "        \n",
    "#This code has the minimum error handling based on the questions requirments. You can try to add more validation into the code."
   ]
  }
 ],
 "metadata": {
  "colab": {
   "collapsed_sections": [],
   "name": "Week 8 Lab Activities(Solution).ipynb",
   "provenance": [],
   "toc_visible": true
  },
  "kernelspec": {
   "display_name": "Python 3",
   "language": "python",
   "name": "python3"
  },
  "language_info": {
   "codemirror_mode": {
    "name": "ipython",
    "version": 3
   },
   "file_extension": ".py",
   "mimetype": "text/x-python",
   "name": "python",
   "nbconvert_exporter": "python",
   "pygments_lexer": "ipython3",
   "version": "3.8.8"
  }
 },
 "nbformat": 4,
 "nbformat_minor": 1
}
