{
 "cells": [
  {
   "cell_type": "markdown",
   "metadata": {
    "id": "kFmcZ7ASghFo"
   },
   "source": [
    "# FIT9136 Algorithms and programming foundations in Python "
   ]
  },
  {
   "cell_type": "markdown",
   "metadata": {
    "id": "uj7Uy_jWghFq"
   },
   "source": [
    "# Week 5 Lab Activities: Concepts of Decomposition and Abstract Data Types I\n",
    "\n",
    "<small>\\#fileIO \\#function \\#class \\#variableScope \\#method</small>"
   ]
  },
  {
   "cell_type": "markdown",
   "metadata": {
    "id": "hzsi-KDgPVWI"
   },
   "source": [
    "## Lab Setup: File I/O\n",
    "\n",
    "Before we start today's lab, we have to learn how to read from or write onto a file using python. Below, we have a variable `dummy_xml` that stores a multi-line string."
   ]
  },
  {
   "cell_type": "code",
   "execution_count": 4,
   "metadata": {
    "id": "PuyIkBKARGUF"
   },
   "outputs": [],
   "source": [
    "dummy_xml = \"\"\"<book id=\"bk101\">\n",
    "    <author>Gambardella, Matthew</author>\n",
    "    <title>XML Developer's Guide</title>\n",
    "    <genre>Computer</genre>\n",
    "    <price>44.95</price>\n",
    "    <publish_date>2000-10-01</publish_date>\n",
    "    <description>An in-depth look at creating applications with XML.</description>\n",
    "</book>\n",
    "<book class=\"new-book\" id=\"bk102\">\n",
    "    <author>Ralls, Kim</author>\n",
    "    <title>Midnight Rain</title>\n",
    "    <genre>Fantasy</genre>\n",
    "    <price>5.95</price>\n",
    "    <publish_date>2000-12-16</publish_date>\n",
    "    <description>A former architect battles corporate zombies, an evil sorceress, and her own childhood to become queen of the world.</description>\n",
    "</book>\n",
    "<book id=\"bk103\">\n",
    "    <author>Corets, Eva</author>\n",
    "    <title>Maeve Ascendant</title>\n",
    "    <genre>Fantasy</genre>\n",
    "    <price>5.95</price>\n",
    "    <publish_date>2000-11-17</publish_date>\n",
    "    <description>After the collapse of a nanotechnology society in England, the young survivors lay the foundation for a new society.</description>\n",
    "</book>\n",
    "<book class=\"featured-book\" id=\"bk104\">\n",
    "    <author>Corets, Eva</author>\n",
    "    <title>Oberon's Legacy</title>\n",
    "    <genre>Fantasy</genre>\n",
    "    <price>5.95</price>\n",
    "    <publish_date>2001-03-10</publish_date>\n",
    "    <description>In post-apocalypse England, the mysterious agent known only as Oberon helps to create a new life for the inhabitants of London. Sequel to Maeve Ascendant.</description>\n",
    "</book>\"\"\""
   ]
  },
  {
   "cell_type": "markdown",
   "metadata": {
    "id": "y0P5e18kP5Ig"
   },
   "source": [
    "Now, we want to export to a file named \"dummy_xml\"(without any file extension). This is how we do it:\n",
    "1. Create a file object by `open` function under `w`(write) mode.\n",
    "2. Write the string to the opened file by the `write` method of file object.\n",
    "3. Close the file (automatically done after the `with` block)"
   ]
  },
  {
   "cell_type": "code",
   "execution_count": 5,
   "metadata": {
    "id": "tfS5uo45DKUV"
   },
   "outputs": [],
   "source": [
    "# f is file object created by open() function\n",
    "# try ?open\n",
    "with open('dummy_xml', 'w') as f:\n",
    "    f.write(dummy_xml)"
   ]
  },
  {
   "cell_type": "markdown",
   "metadata": {
    "id": "j6Jsoez5Tqrl"
   },
   "source": [
    "Next, we will read the file and get the contents of it:\n",
    "1. Open the file\n",
    "2. Read the content\n",
    "3. Close the file (automatically done after the `with` block)"
   ]
  },
  {
   "cell_type": "code",
   "execution_count": 6,
   "metadata": {
    "id": "jMFJT4juO10I"
   },
   "outputs": [],
   "source": [
    "# opening 'dummy_xml' file using 'r' mode of open() function\n",
    "with open('dummy_xml', 'r') as f:\n",
    "    dummy_xml = f.read() # read() method of a file object will return the whole text from the file"
   ]
  },
  {
   "cell_type": "markdown",
   "metadata": {
    "id": "I0J7Fnu9M7bf"
   },
   "source": [
    "It is **strongly suggested** to have a more detailed look into `open()` function [here](https://docs.python.org/3/library/functions.html#open), and the methods of file object [here](https://docs.python.org/3/tutorial/inputoutput.html#reading-and-writing-files).\n",
    "\n"
   ]
  },
  {
   "cell_type": "markdown",
   "metadata": {
    "id": "Jjf7kzyPdUAm"
   },
   "source": [
    "## A. Functions"
   ]
  },
  {
   "cell_type": "markdown",
   "metadata": {
    "id": "HFTof5oUDTIp"
   },
   "source": [
    "### 1. Intro: Every chaos starts with a long piece of code"
   ]
  },
  {
   "cell_type": "markdown",
   "metadata": {
    "id": "UhgJX8-Obgxz"
   },
   "source": [
    "*Let's start this lab with a simple question: Can you explain the following code at a glance?*"
   ]
  },
  {
   "cell_type": "code",
   "execution_count": 14,
   "metadata": {},
   "outputs": [
    {
     "data": {
      "text/plain": [
       "[{'id': 'bk101',\n",
       "  'author': 'Gambardella, Matthew',\n",
       "  'title': \"XML Developer's Guid\"},\n",
       " {'id': 'bk102', 'author': 'Ralls, Kim', 'title': 'Midnight Rain'},\n",
       " {'id': 'bk103', 'author': 'Corets, Ev', 'title': 'Maeve Ascendan'},\n",
       " {'id': 'bk104', 'author': 'Corets, Ev', 'title': \"Oberon's Legacy\"}]"
      ]
     },
     "execution_count": 14,
     "metadata": {},
     "output_type": "execute_result"
    }
   ],
   "source": [
    "xml_books = [i for i in dummy_xml.split('</book>') if i] # separating book items from dummy_xml\n",
    "books = []\n",
    "for xml_book in xml_books:\n",
    "    book = {}\n",
    "    lines = xml_book.split('\\n')\n",
    "    for line in lines:\n",
    "        line = line.strip()\n",
    "        if line.startswith('<book'):\n",
    "            book['id'] = line[-7:-2]\n",
    "        if 'id' in book and line.startswith('<author>'):\n",
    "            author = line.strip('<author>').strip(\"</author>\")\n",
    "            \n",
    "            book['author'] = author\n",
    "        if 'id' in book and line.startswith('<title>'):\n",
    "            title = line.strip('<title>').strip('</title>')\n",
    "            \n",
    "            book['title'] = title\n",
    "    books.append(book)\n",
    "books"
   ]
  },
  {
   "cell_type": "code",
   "execution_count": 7,
   "metadata": {
    "id": "cibE6qOVqtTe"
   },
   "outputs": [
    {
     "name": "stdout",
     "output_type": "stream",
     "text": [
      "[{'id': 'bk101', 'author': 'Gambardella Matthew', 'title': 'XML Developers Guid'},\n",
      "{'id': 'bk102', 'author': 'Ralls Kim', 'title': 'Midnight Rain'},\n",
      "{'id': 'bk103', 'author': 'Corets Ev', 'title': 'Maeve Ascendan'},\n",
      "{'id': 'bk104', 'author': 'Corets Ev', 'title': 'Oberons Legacy'}]\n"
     ]
    }
   ],
   "source": [
    "xml_books = [i for i in dummy_xml.split('</book>') if i] # separating book items from dummy_xml\n",
    "books = []\n",
    "\n",
    "for xml_book in xml_books: # iterate through the book items\n",
    "    book = {} # for each book, create a dictionary\n",
    "    lines = xml_book.split('\\n') # each book has multiple lines, we read it line by line by splitting with newline character '\\n'\n",
    "    for line in lines: # for each line of the current book\n",
    "        line = line.strip() # remove all leading and trailing spaces\n",
    "        if line.startswith('<book'): # obtain the book id\n",
    "            book['id'] = line[-7:-2]\n",
    "        if 'id' in book and line.startswith('<author>'): # obtain author and remove non-alphabet characters\n",
    "            author = line.strip('<author>').strip('</author>') \n",
    "            author_clean = ''\n",
    "            for char in author:\n",
    "                if char.isalpha() or char == ' ':\n",
    "                    author_clean += char\n",
    "            book['author'] = author_clean # add author info into the dictionary\n",
    "        if 'id' in book and line.startswith('<title>'): # obtain title and remove non-alphabet characters\n",
    "            title = line.strip('<title>').strip('</title>')\n",
    "            title_clean = ''\n",
    "            for char in title:\n",
    "                if char.isalpha() or char == ' ':\n",
    "                    title_clean += char\n",
    "            book['title'] = title_clean # add title info into the dictionary\n",
    "    books.append(book)\n",
    "\n",
    "print('['  + ',\\n'.join(str(book) for book in books) + ']')"
   ]
  },
  {
   "cell_type": "markdown",
   "metadata": {
    "id": "IPO36nGhAMQQ"
   },
   "source": [
    "It is quite challenging, isn't it? \n",
    "\n",
    "Yes, it is often a headache to read a long piece of code. \n",
    "\n",
    "\n"
   ]
  },
  {
   "cell_type": "markdown",
   "metadata": {
    "id": "lbR-nc1CEGri"
   },
   "source": [
    "### 2. What is the problem?"
   ]
  },
  {
   "cell_type": "markdown",
   "metadata": {
    "id": "3dcR84myRaVr"
   },
   "source": [
    "The code above is like a very lengthy essay without any paragraphs or sections. \n",
    "\n",
    "It is essential for us to break it down into smaller parts. This concept is also known as **modularisation**."
   ]
  },
  {
   "cell_type": "markdown",
   "metadata": {
    "id": "uiU9udeDESme"
   },
   "source": [
    "In computer programming, **function** is the key of code modularisation. Below is the syntax of a python function:\n",
    "\n",
    "```python\n",
    "def function_name(arguments): # arguments are optional\n",
    "    # do something\n",
    "    return something # optional, if no return statement, the function will return None\n",
    "```\n",
    "\n",
    "A **<font color='blue'>function</font>**: \n",
    "1. takes in arguments as a set of variables\n",
    "2. perform operations based on arguments\n",
    "3. return the resulting values after operations\n"
   ]
  },
  {
   "cell_type": "markdown",
   "metadata": {
    "id": "PZxsdMPPS13k"
   },
   "source": [
    "A function is often created to perform repetitive tasks on different variables(arguments). \n",
    "\n",
    "When we want to perform the task, we can simply call the function by `function_name(arguments)`.\n",
    "\n",
    "This idea is particularly handy when we want to do the task for 100000 times. Instead of *copying the code for 100000 times*, we can simply write the function for *1 time* and call it for 100000 times!\n",
    "\n",
    "Using functions can also make debugging easier because we can test each function one by one.\n",
    "\n",
    "Furthermore, with the repetitive code eliminated, we don't have to modify the code with same logic for multiple times."
   ]
  },
  {
   "cell_type": "markdown",
   "metadata": {
    "id": "4n_OQMIQVyK9"
   },
   "source": [
    "### 3. Reusing Functions"
   ]
  },
  {
   "cell_type": "markdown",
   "metadata": {
    "id": "pFJ3NRuSLLkg"
   },
   "source": [
    "From the example code above, can you spot out some repetitive parts?\n",
    "\n",
    "We can actually see that the process of extracting author and title are essentially the same.\n",
    "\n",
    "```python\n",
    "# extracting author\n",
    "author = line.strip('<author>').strip('</author>')\n",
    "author_clean = ''\n",
    "for char in author:\n",
    "    if char.isalpha() or char == ' ':\n",
    "        author_clean += char\n",
    "```\n",
    "```python\n",
    "# extracting title\n",
    "title = line.strip('<title>').strip('</title>')\n",
    "title_clean = ''\n",
    "for char in title:\n",
    "    if char.isalpha() or char == ' ':\n",
    "        title_clean += char\n",
    "```\n",
    "\n",
    "We can summarise and transform them into the following code:\n",
    "```python\n",
    "item = line.strip('<' + tag + '>').strip('</' + tag + '>')\n",
    "item_clean = ''\n",
    "for char in item:\n",
    "    if char.isalpha() or char == ' ':\n",
    "        item_clean += char\n",
    "```\n",
    "where:\n",
    "1. `line` is a variable, which contains the current line string\n",
    "2. `tag` is a variable, which can be 'title' or 'author'\n",
    "\n",
    "We can see that `line` and `tag` are pre-defined variables, so they will be arguments of the function.\n",
    "\n",
    "<br>\n",
    "\n",
    "**Finally**, we can wrap the code above by a function. \n",
    "\n",
    "In this example, we have defined `line` and `tag` as [positional arguments](https://docs.python.org/3/glossary.html#term-argument).\n",
    "```python\n",
    "def get_tag_content(line, tag):\n",
    "    item = line.strip('<' + tag + '>').strip('</' + tag + '>')\n",
    "    item_clean = ''\n",
    "    for char in item:\n",
    "        if char.isalpha() or char == ' ':\n",
    "            item_clean += char\n",
    "    return item_clean\n",
    "```"
   ]
  },
  {
   "cell_type": "markdown",
   "metadata": {
    "id": "IcQUXe5HNiop"
   },
   "source": [
    "The modularised code will be as follows:"
   ]
  },
  {
   "cell_type": "code",
   "execution_count": 17,
   "metadata": {
    "id": "7ilJ0Fc8_gQ-"
   },
   "outputs": [
    {
     "name": "stdout",
     "output_type": "stream",
     "text": [
      "[{'id': 'bk101', 'author': 'Gambardella Matthew', 'title': 'XML Developers Guid', 'genre': 'Comput'},\n",
      "{'id': 'bk102', 'author': 'Ralls Kim', 'title': 'Midnight Rain', 'genre': 'Fantasy'},\n",
      "{'id': 'bk103', 'author': 'Corets Ev', 'title': 'Maeve Ascendan', 'genre': 'Fantasy'},\n",
      "{'id': 'bk104', 'author': 'Corets Ev', 'title': 'Oberons Legacy', 'genre': 'Fantasy'}]\n"
     ]
    }
   ],
   "source": [
    "xml_books = [i for i in dummy_xml.split('</book>') if i] # separating book items from dummy_xml\n",
    "\n",
    "def get_tag_content(line, tag) -> str:\n",
    "    \"\"\"\n",
    "    Obtain all alphabetic characters of a string within a pair of xml tags\n",
    "    Args:\n",
    "        1. line(str): an xml string that starts and ends with the same tag\n",
    "        2. tag(str): the tag name\n",
    "    Returns:\n",
    "        1. str: the cleaned tag content\n",
    "    \"\"\"\n",
    "    item = line.strip('<' + tag + '>').strip('</' + tag + '>')\n",
    "    item_clean = ''\n",
    "    # remove all no alphabetic characters\n",
    "    for char in item:\n",
    "        if char.isalpha() or char == ' ':\n",
    "            item_clean += char\n",
    "    return item_clean\n",
    "\n",
    "books = []\n",
    "for xml_book in xml_books:\n",
    "    book = {}\n",
    "    lines = xml_book.split('\\n') # split book items\n",
    "    for line in lines:\n",
    "        line = line.strip()\n",
    "        if line.startswith('<book'): # obtain book id\n",
    "            # is this a good approach to get the id? This is a bit \"hardcoding\"!\n",
    "            # we are assuming the LAST 7th to 3rd characters must be the book id\n",
    "            book['id'] = line[-7:-2] \n",
    "        if 'id' in book and line.startswith('<author>'): # obtain author name\n",
    "            book['author'] = get_tag_content(line, 'author')\n",
    "        if 'id' in book and line.startswith('<title>'): # obtain book title\n",
    "            book['title'] = get_tag_content(line, 'title')\n",
    "        if 'id' in book and line.startswith('<genre>'):\n",
    "            book['genre'] = get_tag_content(line,'genre')\n",
    "    books.append(book)\n",
    "\n",
    "print('['  + ',\\n'.join(str(book) for book in books) + ']')"
   ]
  },
  {
   "cell_type": "markdown",
   "metadata": {
    "id": "pwM0lbhsWeZm"
   },
   "source": [
    "Now, it looks much better!\n",
    "\n",
    "<b><font color='red'>Task 1:</font></b> Can you add two lines of code to extract the cleaned 'genre' of each book?\n",
    "\n",
    "<b><font color='red'>Answer</font></b>\n",
    "\n",
    "*You can modify the code cell above."
   ]
  },
  {
   "cell_type": "code",
   "execution_count": 16,
   "metadata": {},
   "outputs": [],
   "source": [
    "if 'id' in book and line.startswith('<genre>'):\n",
    "    book['genre'] = get_tag_content(line,'genre')"
   ]
  },
  {
   "cell_type": "markdown",
   "metadata": {
    "id": "uK3hKAPjdjSG"
   },
   "source": [
    "<b><font color='red'>Task 2:</font></b> From the code above, we are obtaining the book id simply by getting the string from specific index range(`line[-7:-2]`). However, this method is not flexible at all. For the book below, we can see that the book id is not located between indices -7(inclusive) and -2(exclusive). Can you write a function that can help us retrieving the book id(or even other attributes, e.g. class, within the xml tag) correctly?\n",
    "\n",
    "<pre>\n",
    "<b>&lt;book id=\"bk105\" class=\"normal\"&gt;</b>\n",
    "    &lt;author&gt;Corets, Eva&lt;/author&gt;\n",
    "    &lt;title&gt;The Sundered Grail&lt;/title&gt;\n",
    "    &lt;genre&gt;Fantasy&lt;/genre&gt;\n",
    "    &lt;price&gt;5.95&lt;/price&gt;\n",
    "    &lt;publish_date&gt;2001-09-10&lt;/publish_date&gt;\n",
    "    &lt;description&gt;The two daughters of Maeve, half-sisters, battle one another for control of England. Sequel to Oberon's Legacy.&lt;/description&gt;\n",
    "&lt;/book&gt;\n",
    "</pre>"
   ]
  },
  {
   "cell_type": "markdown",
   "metadata": {
    "id": "byFgrhjkq1rR"
   },
   "source": [
    "<b><font color='red'>Solution</font></b>"
   ]
  },
  {
   "cell_type": "code",
   "execution_count": 41,
   "metadata": {
    "id": "3SFecQ0oNG1d"
   },
   "outputs": [
    {
     "data": {
      "text/plain": [
       "'bk105'"
      ]
     },
     "execution_count": 41,
     "metadata": {},
     "output_type": "execute_result"
    }
   ],
   "source": [
    "# Your implementation\n",
    "def get_attr(line,tag):\n",
    "    line = line.split('>')[0]\n",
    "    tag_content = line.split()\n",
    "\n",
    "    for i in tag_content:\n",
    "        if i.startswith(tag):\n",
    "            value = i.lstrip(tag+\"=\")\n",
    "            value = value.strip('\"\"')\n",
    "            return value\n",
    "    return False\n",
    "\n",
    "(get_attr(test_string,'id'))"
   ]
  },
  {
   "cell_type": "code",
   "execution_count": 38,
   "metadata": {},
   "outputs": [
    {
     "data": {
      "text/plain": [
       "'book id=\"bk105\" class=\"normal\">This is a book</book>'"
      ]
     },
     "execution_count": 38,
     "metadata": {},
     "output_type": "execute_result"
    }
   ],
   "source": [
    "test_string = '<book id=\"bk105\" class=\"normal\">This is a book</book>'\n",
    "test_string.lstrip('<')"
   ]
  },
  {
   "cell_type": "code",
   "execution_count": 37,
   "metadata": {
    "colab": {
     "base_uri": "https://localhost:8080/"
    },
    "executionInfo": {
     "elapsed": 282,
     "status": "ok",
     "timestamp": 1629169985725,
     "user": {
      "displayName": "Kelvin Lo",
      "photoUrl": "https://lh3.googleusercontent.com/a-/AOh14Ggat1DO4WM3A1o0pmnr7y1jEmCWFqjCIpg9Yk0C=s64",
      "userId": "08004694506673442732"
     },
     "user_tz": -600
    },
    "id": "lLHmwsd_NIKo",
    "outputId": "b819f264-bc33-4045-866a-017d37b8a38d"
   },
   "outputs": [
    {
     "name": "stdout",
     "output_type": "stream",
     "text": [
      "get_attr(test_string, 'id') : '\"bk105\"'\n",
      "get_attr(test_string, 'class') : '\"normal\"'\n",
      "get_attr(test_string, 'random') : False\n"
     ]
    }
   ],
   "source": [
    "# demo\n",
    "test_string = '<book id=\"bk105\" class=\"normal\">This is a book</book>'\n",
    "print(f\"get_attr(test_string, 'id') : {repr(get_attr(test_string, 'id'))}\")\n",
    "print(f\"get_attr(test_string, 'class') : {repr(get_attr(test_string, 'class'))}\")\n",
    "print(f\"get_attr(test_string, 'random') : {repr(get_attr(test_string, 'random'))}\")"
   ]
  },
  {
   "cell_type": "markdown",
   "metadata": {
    "id": "pAyCNtRkQVqJ"
   },
   "source": [
    "### 4. Variable scope\n",
    "\n",
    "Variable scope can be a tricky issue when it comes to modularisation. \n",
    "\n",
    "Long story short, a variable defined in different \"level\" *may not* be accessible within the function, because a variable has its own *lifetime*."
   ]
  },
  {
   "cell_type": "markdown",
   "metadata": {
    "id": "Y0vWH855R23J"
   },
   "source": [
    "#### 4.1 Local scope\n",
    "\n",
    "A variable created inside a function. It can only be accessible within the function.\n",
    "\n",
    "Guess the outputs of the following code cells below!"
   ]
  },
  {
   "cell_type": "code",
   "execution_count": 42,
   "metadata": {
    "id": "61LWpUPdNd1r"
   },
   "outputs": [
    {
     "name": "stdout",
     "output_type": "stream",
     "text": [
      "within a_fun: 1\n"
     ]
    },
    {
     "ename": "NameError",
     "evalue": "name 'local_var' is not defined",
     "output_type": "error",
     "traceback": [
      "\u001b[1;31m---------------------------------------------------------------------------\u001b[0m",
      "\u001b[1;31mNameError\u001b[0m                                 Traceback (most recent call last)",
      "\u001b[1;32m<ipython-input-42-e7b75a681d19>\u001b[0m in \u001b[0;36m<module>\u001b[1;34m\u001b[0m\n\u001b[0;32m      5\u001b[0m \u001b[1;33m\u001b[0m\u001b[0m\n\u001b[0;32m      6\u001b[0m \u001b[0ma_fun\u001b[0m\u001b[1;33m(\u001b[0m\u001b[1;33m)\u001b[0m\u001b[1;33m\u001b[0m\u001b[1;33m\u001b[0m\u001b[0m\n\u001b[1;32m----> 7\u001b[1;33m \u001b[0mprint\u001b[0m\u001b[1;33m(\u001b[0m\u001b[1;34mf'outside a_fun: {local_var}'\u001b[0m\u001b[1;33m)\u001b[0m \u001b[1;31m# getting local_var outside the function\u001b[0m\u001b[1;33m\u001b[0m\u001b[1;33m\u001b[0m\u001b[0m\n\u001b[0m",
      "\u001b[1;31mNameError\u001b[0m: name 'local_var' is not defined"
     ]
    }
   ],
   "source": [
    "# Example 1\n",
    "def a_fun():\n",
    "    local_var = 1 # a local variable defined within a_fun\n",
    "    print(f'within a_fun: {local_var}') # getting local_var within the function\n",
    "\n",
    "a_fun()\n",
    "print(f'outside a_fun: {local_var}') # getting local_var outside the function"
   ]
  },
  {
   "cell_type": "code",
   "execution_count": 43,
   "metadata": {
    "id": "oKq74l6ISdFa"
   },
   "outputs": [
    {
     "name": "stdout",
     "output_type": "stream",
     "text": [
      "within a_fun: 1\n"
     ]
    },
    {
     "ename": "NameError",
     "evalue": "name 'local_var' is not defined",
     "output_type": "error",
     "traceback": [
      "\u001b[1;31m---------------------------------------------------------------------------\u001b[0m",
      "\u001b[1;31mNameError\u001b[0m                                 Traceback (most recent call last)",
      "\u001b[1;32m<ipython-input-43-f36936363a3b>\u001b[0m in \u001b[0;36m<module>\u001b[1;34m\u001b[0m\n\u001b[0;32m      8\u001b[0m     \u001b[0mprint\u001b[0m\u001b[1;33m(\u001b[0m\u001b[1;34mf'within b_fun: {local_var}'\u001b[0m\u001b[1;33m)\u001b[0m \u001b[1;31m# getting local_var outside a_fun\u001b[0m\u001b[1;33m\u001b[0m\u001b[1;33m\u001b[0m\u001b[0m\n\u001b[0;32m      9\u001b[0m \u001b[1;33m\u001b[0m\u001b[0m\n\u001b[1;32m---> 10\u001b[1;33m \u001b[0ma_fun\u001b[0m\u001b[1;33m(\u001b[0m\u001b[1;33m)\u001b[0m\u001b[1;33m\u001b[0m\u001b[1;33m\u001b[0m\u001b[0m\n\u001b[0m",
      "\u001b[1;32m<ipython-input-43-f36936363a3b>\u001b[0m in \u001b[0;36ma_fun\u001b[1;34m()\u001b[0m\n\u001b[0;32m      3\u001b[0m     \u001b[0mlocal_var\u001b[0m \u001b[1;33m=\u001b[0m \u001b[1;36m1\u001b[0m \u001b[1;31m# a local variable defined within a_fun\u001b[0m\u001b[1;33m\u001b[0m\u001b[1;33m\u001b[0m\u001b[0m\n\u001b[0;32m      4\u001b[0m     \u001b[0mprint\u001b[0m\u001b[1;33m(\u001b[0m\u001b[1;34mf'within a_fun: {local_var}'\u001b[0m\u001b[1;33m)\u001b[0m \u001b[1;31m# getting local_var within the function\u001b[0m\u001b[1;33m\u001b[0m\u001b[1;33m\u001b[0m\u001b[0m\n\u001b[1;32m----> 5\u001b[1;33m     \u001b[0mb_fun\u001b[0m\u001b[1;33m(\u001b[0m\u001b[1;33m)\u001b[0m\u001b[1;33m\u001b[0m\u001b[1;33m\u001b[0m\u001b[0m\n\u001b[0m\u001b[0;32m      6\u001b[0m \u001b[1;33m\u001b[0m\u001b[0m\n\u001b[0;32m      7\u001b[0m \u001b[1;32mdef\u001b[0m \u001b[0mb_fun\u001b[0m\u001b[1;33m(\u001b[0m\u001b[1;33m)\u001b[0m\u001b[1;33m:\u001b[0m\u001b[1;33m\u001b[0m\u001b[1;33m\u001b[0m\u001b[0m\n",
      "\u001b[1;32m<ipython-input-43-f36936363a3b>\u001b[0m in \u001b[0;36mb_fun\u001b[1;34m()\u001b[0m\n\u001b[0;32m      6\u001b[0m \u001b[1;33m\u001b[0m\u001b[0m\n\u001b[0;32m      7\u001b[0m \u001b[1;32mdef\u001b[0m \u001b[0mb_fun\u001b[0m\u001b[1;33m(\u001b[0m\u001b[1;33m)\u001b[0m\u001b[1;33m:\u001b[0m\u001b[1;33m\u001b[0m\u001b[1;33m\u001b[0m\u001b[0m\n\u001b[1;32m----> 8\u001b[1;33m     \u001b[0mprint\u001b[0m\u001b[1;33m(\u001b[0m\u001b[1;34mf'within b_fun: {local_var}'\u001b[0m\u001b[1;33m)\u001b[0m \u001b[1;31m# getting local_var outside a_fun\u001b[0m\u001b[1;33m\u001b[0m\u001b[1;33m\u001b[0m\u001b[0m\n\u001b[0m\u001b[0;32m      9\u001b[0m \u001b[1;33m\u001b[0m\u001b[0m\n\u001b[0;32m     10\u001b[0m \u001b[0ma_fun\u001b[0m\u001b[1;33m(\u001b[0m\u001b[1;33m)\u001b[0m\u001b[1;33m\u001b[0m\u001b[1;33m\u001b[0m\u001b[0m\n",
      "\u001b[1;31mNameError\u001b[0m: name 'local_var' is not defined"
     ]
    }
   ],
   "source": [
    "# Example 2\n",
    "def a_fun():\n",
    "    local_var = 1 # a local variable defined within a_fun\n",
    "    print(f'within a_fun: {local_var}') # getting local_var within the function\n",
    "    b_fun()\n",
    "\n",
    "def b_fun():\n",
    "    print(f'within b_fun: {local_var}') # getting local_var outside a_fun\n",
    "\n",
    "a_fun()"
   ]
  },
  {
   "cell_type": "markdown",
   "metadata": {
    "id": "dUJDvcsxa6Uv"
   },
   "source": [
    "#### 4.2 Global scope\n",
    "\n",
    "A variable created in the main body of the code is accessible everywhere."
   ]
  },
  {
   "cell_type": "code",
   "execution_count": null,
   "metadata": {
    "id": "oqDdOsHLS0Bl"
   },
   "outputs": [],
   "source": [
    "global_var = 1\n",
    "\n",
    "def a_fun():\n",
    "    print(f'global_var inside a_fun = {global_var}')\n",
    "\n",
    "a_fun()\n",
    "print(f'global_var in main body = {global_var}')"
   ]
  },
  {
   "cell_type": "markdown",
   "metadata": {
    "id": "iWTLmihdbv8Q"
   },
   "source": [
    "#### 4.3 Making local variables global\n",
    "\n",
    "Want to create or reference to a global variable inside a function? <font color='blue'>```global```</font> keyword is the solution."
   ]
  },
  {
   "cell_type": "code",
   "execution_count": 44,
   "metadata": {
    "id": "lIHG4i62bq9i"
   },
   "outputs": [
    {
     "name": "stdout",
     "output_type": "stream",
     "text": [
      "x after a_fun = 2\n"
     ]
    }
   ],
   "source": [
    "# Example 1 - CHANGING value of global variable inside function\n",
    "x = 1\n",
    "\n",
    "def a_fun():\n",
    "    global x # make variable x within this function reference to the global variable x\n",
    "    x = 2 # changing the value of x to 2\n",
    "\n",
    "a_fun()\n",
    "print(f'x after a_fun = {x}')"
   ]
  },
  {
   "cell_type": "code",
   "execution_count": 4,
   "metadata": {
    "id": "2pCW4i2mcm3d"
   },
   "outputs": [
    {
     "name": "stdout",
     "output_type": "stream",
     "text": [
      "y after a_fun = 2\n"
     ]
    }
   ],
   "source": [
    "# Example 2 - CREATING a global variable inside function\n",
    "def a_fun():\n",
    "    global y # create a new global variable y\n",
    "    y = 2 # assigning the value of x to 2\n",
    "\n",
    "a_fun()\n",
    "print(f'y after a_fun = {x}')"
   ]
  },
  {
   "cell_type": "markdown",
   "metadata": {
    "id": "twhT7GtHou00"
   },
   "source": [
    "## B. Class\n",
    "\n",
    "A Class is where we hold everything together.\n",
    "\n",
    "So far, the programming style we have learnt is called **procedural programming**, which contains steps of instrunctions for the computer to run.\n",
    "\n",
    "Now, we will explore another programming style, **object-oriented programming**. \n",
    "\n",
    "Remember in week 2 we have mentioned \"Everything in Python is an object\"? *We are here building the flesh to contain the soul.* "
   ]
  },
  {
   "cell_type": "markdown",
   "metadata": {
    "id": "jGziKNttBxJq"
   },
   "source": [
    "### 1. How would you describe an object?\n",
    "\n",
    "Let's say... a laptop. \n",
    "\n",
    "<font color='red'>**Question:**</font> How would you describe a laptop?"
   ]
  },
  {
   "cell_type": "markdown",
   "metadata": {
    "id": "NJt7I5eICLtp"
   },
   "source": [
    "<font color='red'>**Answer:**</font> \n",
    "\n",
    "**Features**\n",
    "- ?\n",
    "- ?\n",
    "\n",
    "**Functionality**\n",
    "- ?\n",
    "- ?"
   ]
  },
  {
   "cell_type": "markdown",
   "metadata": {
    "id": "XehYmFOmFLK5"
   },
   "source": [
    "### 2. Implementing the object using Class\n",
    "\n",
    "This is how we can do it: \n",
    "\n",
    "- **Features** will be transformed to **variables**, which *can* be initialised in the magic \\_\\_init\\_\\_ method(constructor).\n",
    "- **Functionality** will be transformed into **methods**(functions inside a Class).\n",
    "\n",
    "**NOTE:** Please read more about *magic methods* [here](https://docs.python.org/3/reference/datamodel.html#basic-customization)(Section 3.3.1).\n",
    "\n",
    "Let's create a simple Laptop Class now."
   ]
  },
  {
   "cell_type": "code",
   "execution_count": 45,
   "metadata": {
    "id": "SuDcMGexg017"
   },
   "outputs": [],
   "source": [
    "class Laptop:\n",
    "    def __init__(self, brand):\n",
    "        self.brand = brand\n",
    "        self.colour = ''\n",
    "    def play_video(self, id):\n",
    "        from IPython.display import YouTubeVideo\n",
    "        display(YouTubeVideo(id, width=800, height=400))"
   ]
  },
  {
   "cell_type": "markdown",
   "metadata": {
    "id": "mTG1DHGPN5TT"
   },
   "source": [
    "We can see the Class Laptop is created with the keyword <font color='blue'>`class`</font>. There are two methods in this Class, which are the constructor(\\_\\_init\\_\\_) and play_video.\n",
    "\n",
    "<font color='red'>**Question:**</font> But wait! What is the mysterious `self`?"
   ]
  },
  {
   "cell_type": "markdown",
   "metadata": {
    "id": "PT9Z3bSQVuLW"
   },
   "source": [
    "### 3. Creating an instance\n",
    "\n",
    "Let's create a Laptop instance here."
   ]
  },
  {
   "cell_type": "code",
   "execution_count": null,
   "metadata": {
    "id": "yQC_fUWqOwic"
   },
   "outputs": [],
   "source": [
    "# Creating a new Laptop instance and assign to the variable mbp\n",
    "# 'Apple' is the value passing to the constructor method as brand argument\n",
    "mbp = Laptop('Apple')"
   ]
  },
  {
   "cell_type": "markdown",
   "metadata": {
    "id": "sDkvWW-QXDt6"
   },
   "source": [
    "### 4. Calling a method of an instance\n",
    "\n",
    "Since we have defined play_video already, let's try calling it."
   ]
  },
  {
   "cell_type": "code",
   "execution_count": null,
   "metadata": {
    "id": "whGgDBj9XIKq"
   },
   "outputs": [],
   "source": [
    "mbp.play_video('I2wURDqiXdM') # I2wURDqiXdM is the value for the id argument"
   ]
  },
  {
   "cell_type": "markdown",
   "metadata": {
    "id": "KSVKQK6siF55"
   },
   "source": [
    "### 5. Class variables\n",
    "\n",
    "Class variables are the variables which the values are shared among all instance of the same Class.\n",
    "\n",
    "**They are defined within the Class, but outside of any methods.**"
   ]
  },
  {
   "cell_type": "code",
   "execution_count": 46,
   "metadata": {
    "id": "GOqny8CCibzX"
   },
   "outputs": [],
   "source": [
    "class OneClass:\n",
    "    class_variable = 'is defined here without self'\n",
    "    def __init__(self):\n",
    "        OneClass.class_variable = 'is accessible by adding the class name as the prefix'\n",
    "        self.class_variable = 'is an instance variable'"
   ]
  },
  {
   "cell_type": "code",
   "execution_count": 47,
   "metadata": {
    "id": "bQ0I1Xk-jH8H"
   },
   "outputs": [
    {
     "name": "stdout",
     "output_type": "stream",
     "text": [
      "is defined here without self\n"
     ]
    }
   ],
   "source": [
    "# What will be printed?\n",
    "print(OneClass.class_variable)"
   ]
  },
  {
   "cell_type": "code",
   "execution_count": 48,
   "metadata": {
    "id": "2t4gQ_4GjL76"
   },
   "outputs": [
    {
     "name": "stdout",
     "output_type": "stream",
     "text": [
      "OneClass.class_variable = is accessible by adding the class name as the prefix\n",
      "an_object.class_variable = is an instance variable\n"
     ]
    }
   ],
   "source": [
    "# What will be printed?\n",
    "an_instance = OneClass()\n",
    "print(f'OneClass.class_variable = {OneClass.class_variable}')\n",
    "print(f'an_object.class_variable = {an_instance.class_variable}')"
   ]
  },
  {
   "cell_type": "markdown",
   "metadata": {
    "id": "V-1YWa_FOtXK"
   },
   "source": [
    "## C. In-class practice\n",
    "\n",
    "### Pythonlympics - Swimming\n",
    "\n",
    "In this task, we will build a project to simulate a swimming competition <small>(with some animation)</small>. \n",
    "\n",
    "Please follow the instructions below carefully and implement them correctly."
   ]
  },
  {
   "cell_type": "markdown",
   "metadata": {
    "id": "DJE3h_pvngbG"
   },
   "source": [
    "#### I. Swimmer Class\n",
    "\n",
    "First of all, a race must have its swimmers. Let us create a Swimmer Class.\n",
    "\n",
    "In this class, there will be a **constructor** that asks user to input the name and initialise the instance variable `name` with the value of the input.\n",
    "\n",
    "There are the **other 2 methods** for Swimmer class, which is described in the docString of the Swimmer class.\n",
    "\n",
    "Let's complete the Swimmer class below."
   ]
  },
  {
   "cell_type": "code",
   "execution_count": 11,
   "metadata": {
    "id": "7DYW-rO2jhpn"
   },
   "outputs": [],
   "source": [
    "class Swimmer:\n",
    "    \"\"\"\n",
    "    A class to represent a swimmer.\n",
    "    ...\n",
    "    Attribute\n",
    "    ----------\n",
    "    name(str): name of the person\n",
    "\n",
    "    Methods\n",
    "    -------\n",
    "    get_name():\n",
    "        Returns the name of swimmer\n",
    "    \n",
    "    set_name():\n",
    "        Asks for user input and changes the name of swimmer with the input\n",
    "    \"\"\"\n",
    "    # Constructor method\n",
    "    def __init__(self,name):\n",
    "        self.name = name\n",
    "    # get_name method\n",
    "    def get_name(self):\n",
    "        return self.name\n",
    "    # set_name method\n",
    "    def set_name(self,name):\n",
    "        self.name = name\n"
   ]
  },
  {
   "cell_type": "code",
   "execution_count": 14,
   "metadata": {},
   "outputs": [
    {
     "data": {
      "text/plain": [
       "'cxw'"
      ]
     },
     "execution_count": 14,
     "metadata": {},
     "output_type": "execute_result"
    }
   ],
   "source": [
    "player = Swimmer('cxw')\n",
    "player.get_name()"
   ]
  },
  {
   "cell_type": "markdown",
   "metadata": {
    "id": "jlFFNzxwoTrC"
   },
   "source": [
    "#### II. Pool Class\n",
    "\n",
    "The second essential element for a swimming competition is, of course, a pool. \n",
    "\n",
    "There are 2 methods for Pool class, which are provided below."
   ]
  },
  {
   "cell_type": "code",
   "execution_count": 50,
   "metadata": {
    "id": "808zdjtEQWTK"
   },
   "outputs": [],
   "source": [
    "from IPython.display import clear_output\n",
    "class Pool:\n",
    "    \"\"\"\n",
    "    A class to represent a swimming pool.\n",
    "    ...\n",
    "    Attribute\n",
    "    ----------\n",
    "    dist(int): The length of the pool.\n",
    "\n",
    "    Methods\n",
    "    -------\n",
    "    show_pool():\n",
    "        Prints the pool and the progress of each swimmer.\n",
    "    \"\"\"\n",
    "    def __init__(self, dist):\n",
    "        \"\"\"Constructs all the necessary attributes for the pool object.\"\"\"\n",
    "        self.dist = dist\n",
    "    \n",
    "    def show_pool(self, progress):\n",
    "        \"\"\"\n",
    "        Prints the pool and the progress of each swimmer.\n",
    "        Args:\n",
    "            1. progress( list(tuple(Swimmer,int)) ): a list of tuples, where the first item is a Swimmer instance and second item is the total distance of the swimmer swam\n",
    "        \"\"\"\n",
    "        clear_output(wait=True) \n",
    "\n",
    "        print('\\t\\t' + '┌' + '─' * self.dist + '┐')\n",
    "        lines = []\n",
    "        for player in progress:\n",
    "            lines.append(player[0].get_name() + '\\t' * (2 - round(len(player[0].get_name()) // 10)) +  '│' + '█' * min(player[1], self.dist) + ' ' * (self.dist - min(player[1], self.dist)) + '│')\n",
    "        print(('\\n\\t\\t' + '├' + '─' * self.dist + '┤\\n').join(lines))\n",
    "        print('\\t\\t' + '└' + '─' * self.dist + '┘')"
   ]
  },
  {
   "cell_type": "markdown",
   "metadata": {
    "id": "0uDOxafhokdo"
   },
   "source": [
    "#### III. SwimGame Class\n",
    "\n",
    "Finally, we have the race itself. \n",
    "\n",
    "In SwimGame Class, the main body start_game() is already implemented.\n",
    "\n",
    "However, we still need create and initialise several instance variables in the **constructor** method following the descriptions in the docString. \n",
    "\n",
    "Next, we also have to create the **reset_game** method to reset some instance variables based on the descriptions."
   ]
  },
  {
   "cell_type": "code",
   "execution_count": 51,
   "metadata": {
    "id": "RKgYqrXCQZRw"
   },
   "outputs": [],
   "source": [
    "from random import randint\n",
    "import time\n",
    "class SwimGame:\n",
    "    \"\"\"\n",
    "    A class to represent a swimming race.\n",
    "    ...\n",
    "    Attribute\n",
    "    ----------\n",
    "    swimmers(list(Swimmer)): A list of num_swimmer Swimmer instances.\n",
    "    dist(int): Pool length.\n",
    "    progress(list(tuple(Swimmer,int))): a list of tuples, where the first item is a Swimmer instance and second item is the total distance of the swimmer swam\n",
    "    pool(Pool): Pool instance.\n",
    "\n",
    "    Methods\n",
    "    -------\n",
    "    start_game():\n",
    "        Simulates the race.\n",
    "    reset_game():\n",
    "        Resets the progress to 0 for all Swimmers.\n",
    "    \"\"\"\n",
    "    # Constructor method\n",
    "\n",
    "    def start_game(self):\n",
    "        \"\"\"\n",
    "        Where the game starts.\n",
    "        \"\"\"\n",
    "        finish = [] # A list to store the finishing order of different Swimmers\n",
    "        speeds = [6] * len(self.progress) # storing the current steps of each swimmer, initialised as 6 for every Swimmer\n",
    "        while not all([p[1] >= self.dist for p in self.progress]): # while there is still any swimmer not finished\n",
    "            caption = [] # A list to store all the captions for this step\n",
    "            finish_this_round = [] # A list to store all swimmers finishing in the current step, an item will be tuple(Swimmer instnace, current step)\n",
    "            for i, swimmer in enumerate(self.progress): # i is the Swimmer index, swimmer is list(Swimmer instance, total step)\n",
    "                if swimmer[0] in finish: # if the Swimmer has finished, we skip this swimmer\n",
    "                    continue\n",
    "                if swimmer[1] < self.dist: # otherwise, still not finished\n",
    "                    step = randint(max(speeds[i] - 4, 1), min(speeds[i] + 2, 8)) # assign a random step for the swimmer, with a bit of momentum considered based on the last step\n",
    "                    speeds[i] = step # update the current step\n",
    "                    swimmer[1] += step # update the total step of Swimmer\n",
    "                    # Add some caption if the Swimmer is too fast/slow\n",
    "                    if step >= 6: \n",
    "                        caption.append(f'{swimmer[0].get_name()} is swimming FAST!')\n",
    "                    if step <= 2:\n",
    "                        caption.append(f'{swimmer[0].get_name()} is slowing down!')\n",
    "                if swimmer[1] >= self.dist and swimmer[0] not in finish: # if the swimmer finishing in this round, append to finish_this_round list\n",
    "                    finish_this_round.append((swimmer[0],step))\n",
    "                finish_this_round = sorted(finish_this_round,key=lambda x: x[1],reverse=True) # sort finish_this_round with the current step, Swimmer with bigger current step ranks first\n",
    "            for p in finish_this_round: # Add the Swimmers finishing this round to finish list, order is preserved\n",
    "                finish.append(p[0])\n",
    "            self.pool.show_pool(self.progress) # Of course, display the pool in after every step\n",
    "            print('\\n'.join(caption)) # Add some caption after that\n",
    "            time.sleep(0.7) # stop the program for 0.7s to show the change of the steps\n",
    "        print('rank:') # show the ranks, its recorded in finish list\n",
    "        for i, swimmer in enumerate(finish):\n",
    "            print(f'{i+1}\\t{swimmer.get_name()}')\n",
    "        \n",
    "    # reset_game method\n",
    "\n"
   ]
  },
  {
   "cell_type": "markdown",
   "metadata": {
    "id": "o6CkI5KopYTp"
   },
   "source": [
    "#### IV. Let the race begin\n",
    "\n",
    "Finally, it's the moment of truth. Let us create a SwimGame instance and let the race begin!"
   ]
  },
  {
   "cell_type": "code",
   "execution_count": 52,
   "metadata": {
    "id": "kCOr0YVVpuW5"
   },
   "outputs": [
    {
     "ename": "TypeError",
     "evalue": "SwimGame() takes no arguments",
     "output_type": "error",
     "traceback": [
      "\u001b[1;31m---------------------------------------------------------------------------\u001b[0m",
      "\u001b[1;31mTypeError\u001b[0m                                 Traceback (most recent call last)",
      "\u001b[1;32m<ipython-input-52-7454170231df>\u001b[0m in \u001b[0;36m<module>\u001b[1;34m\u001b[0m\n\u001b[1;32m----> 1\u001b[1;33m \u001b[0mgame\u001b[0m \u001b[1;33m=\u001b[0m \u001b[0mSwimGame\u001b[0m\u001b[1;33m(\u001b[0m\u001b[1;36m5\u001b[0m\u001b[1;33m,\u001b[0m\u001b[1;36m60\u001b[0m\u001b[1;33m)\u001b[0m \u001b[1;31m# create a race with 5 candidates in a 60 unit length pool\u001b[0m\u001b[1;33m\u001b[0m\u001b[1;33m\u001b[0m\u001b[0m\n\u001b[0m\u001b[0;32m      2\u001b[0m \u001b[0mgame\u001b[0m\u001b[1;33m.\u001b[0m\u001b[0mstart_game\u001b[0m\u001b[1;33m(\u001b[0m\u001b[1;33m)\u001b[0m \u001b[1;31m# race start!!\u001b[0m\u001b[1;33m\u001b[0m\u001b[1;33m\u001b[0m\u001b[0m\n",
      "\u001b[1;31mTypeError\u001b[0m: SwimGame() takes no arguments"
     ]
    }
   ],
   "source": [
    "game = SwimGame(5,60) # create a race with 5 candidates in a 60 unit length pool\n",
    "game.start_game() # race start!!"
   ]
  },
  {
   "cell_type": "markdown",
   "metadata": {
    "id": "encFvyvzLkDQ"
   },
   "source": [
    "## D. Exercise"
   ]
  },
  {
   "cell_type": "code",
   "execution_count": 19,
   "metadata": {},
   "outputs": [
    {
     "data": {
      "text/plain": [
       "[['-', '-'], ['-', '-'], ['-', '-']]"
      ]
     },
     "execution_count": 19,
     "metadata": {},
     "output_type": "execute_result"
    }
   ],
   "source": [
    "[['-' for j in range(2)] for i in range(3)]"
   ]
  },
  {
   "cell_type": "markdown",
   "metadata": {
    "id": "rafSabO4L4xH"
   },
   "source": [
    "### 1. Tic-Tac-Toe\n",
    "\n",
    "Tic-Tac-Toe is a grid based game where 1 players wins if their symbols make a straight line on a 3x3 board. Players take turns placing 1 symbol down until either there is a winner or no more moves can be made (if you have not played Tic-Tac-Toe, a quick google search is in order.)\n",
    "\n",
    "Try making your board using lists of lists. By making your grid in this way, you are able to refer to a location using Cartesian coordinates (x and y coordinates like on a graph).\n",
    "\n",
    "In order to play the game, you will need to make a menu, and implement victory checks.\n",
    "\n",
    "Note: this is a very big task. Try your best with it, and at a minimum, make a working grid that can be printed."
   ]
  },
  {
   "cell_type": "code",
   "execution_count": null,
   "metadata": {
    "id": "3Oyrs1ROJ-rp"
   },
   "outputs": [],
   "source": [
    "from IPython.display import clear_output\n",
    "\n",
    "class TTTGameBoard:\n",
    "    \"\"\"\n",
    "    A class to represent the Tic-Tac-Toe game board.\n",
    "    ...\n",
    "    Attribute\n",
    "    ----------\n",
    "    board_repr(str): The string to display the board with placeholders to store the moves of players.\n",
    "    board_list(list(list(str))): A 2-dimensional list to store the board states in a row-column manner.\n",
    "\n",
    "    Methods\n",
    "    -------\n",
    "    print_board():\n",
    "        Print current board state.\n",
    "    update_board(row, col, symbol):\n",
    "        Set board_list[row][col] to symbol.\n",
    "    check_win():\n",
    "        Check if there is a winner in the current state.\n",
    "    get_symbol(row, col):\n",
    "        Returns the symbol in board_list[row][col].\n",
    "    \"\"\"\n",
    "    def __init__(self):\n",
    "        \"\"\"Constructs all the necessary attributes for the TTTGameBoard object.\"\"\"\n",
    "        self.board_repr = \"\"\"\n",
    "  col\\t0\\t\\t1\\t\\t2\\t\n",
    "row\\t\\t│\\t\\t│\\t\\t\n",
    "0\\t{}\\t│\\t{}\\t│\\t{}\\t\n",
    " \\t\\t│\\t\\t│\\t\\t\n",
    " ───────────────┼───────────────┼────────────────\n",
    "\\t\\t│\\t\\t│\\t\\t\n",
    "1\\t{}\\t│\\t{}\\t│\\t{}\\t\n",
    " \\t\\t│\\t\\t│\\t\\t\n",
    " ───────────────┼───────────────┼────────────────\n",
    "\\t\\t│\\t\\t│\\t\\t\n",
    "2\\t{}\\t│\\t{}\\t│\\t{}\\t\n",
    " \\t\\t│\\t\\t│\\t\\t\n",
    "\"\"\"\n",
    "        self.board_list = [['-' for j in range(3)] for i in range(3)]\n",
    "    \n",
    "    def print_board(self):\n",
    "        \"\"\"Print current board state.\"\"\"\n",
    "        clear_output(wait=True)\n",
    "        board_list_flattened = []\n",
    "        for row in self.board_list:\n",
    "            board_list_flattened.extend(row)\n",
    "        print(self.board_repr.format(*board_list_flattened))\n",
    "    \n",
    "    # implement update_board method below\n",
    "    def update_board(self,row,col,symbol):\n",
    "        self.board_list[row][col] = symbol\n",
    "\n",
    "    \n",
    "    def check_win(self):\n",
    "        \"\"\"\n",
    "        Check if there is a winner in the current state.\n",
    "        Returns:\n",
    "            str or bool: if there is a winner, returns the winner symbol. Returns False otherwise.\n",
    "        \"\"\"\n",
    "        # implement check_win algorithm below\n",
    "        \n",
    "    \n",
    "    def get_symbol(self, row, col):\n",
    "        \"\"\"\n",
    "        Returns the symbol in board_list[row][col].\n",
    "        Args:\n",
    "            1. row(int): row index.\n",
    "            2. col(int): column index.\n",
    "        Returns:\n",
    "            str: the symbol in board_list[row][col]\n",
    "        \"\"\"\n",
    "        # implement get_symbol operation below\n",
    "\n",
    "        "
   ]
  },
  {
   "cell_type": "code",
   "execution_count": null,
   "metadata": {
    "id": "r6qMnPvXQIkr"
   },
   "outputs": [],
   "source": [
    "class TTTPlayer:\n",
    "    \"\"\"\n",
    "    A class to represent a player.\n",
    "    ...\n",
    "    Attribute\n",
    "    ----------\n",
    "    symbol(str): the symbol that represents the player\n",
    "\n",
    "    Methods\n",
    "    -------\n",
    "    place_token(board):\n",
    "        Ask for user input and place the symbol on the board.\n",
    "    \"\"\"\n",
    "    def __init__(self, symbol):\n",
    "        \"\"\"\n",
    "        Constructs all the necessary attributes for the TTTPlayer object.\n",
    "        Args:\n",
    "            1. symbol(str): symbol that represents the player.\n",
    "        \"\"\"\n",
    "        self.symbol = symbol\n",
    "    \n",
    "    def place_token(self, board):\n",
    "        \"\"\"\n",
    "        Ask for user input and place the symbol on the board.\n",
    "        Args:\n",
    "            1. board(TTTGameBoard): a TTTGameBoard instance\n",
    "        \"\"\"\n",
    "        # implement place_token operation below\n",
    "        # ask for user input\n",
    "        \n",
    "\n",
    "        # verify user input and ask for user input repetitively until the user input is valid\n",
    "        \n",
    "\n",
    "\n",
    "\n",
    "        # update the board with the valid input\n",
    "        \n"
   ]
  },
  {
   "cell_type": "code",
   "execution_count": null,
   "metadata": {
    "id": "9rT8JHAXZBgJ"
   },
   "outputs": [],
   "source": [
    "class TTTGame:\n",
    "    \"\"\"\n",
    "    A class to represent a Tic-Tac-Toe Game.\n",
    "    ...\n",
    "    Attribute\n",
    "    ----------\n",
    "    players(list(TTTPlayer)): a list of 2 TTTPlayer instances.\n",
    "    board(TTTGameBoard): a TTTGameBoard instance.\n",
    "\n",
    "    Methods\n",
    "    -------\n",
    "    start_game():\n",
    "        Ask players to place a symbol on the board alternately until there is a winner or there is no valid place left.\n",
    "    \"\"\"\n",
    "    def __init__(self):\n",
    "        \"\"\"Constructs all the necessary attributes for the TTTGame object.\"\"\"\n",
    "        self.players = [TTTPlayer('🔴'),TTTPlayer('⚪')]\n",
    "        self.board = TTTGameBoard()\n",
    "    \n",
    "    def start_game(self):\n",
    "        \"\"\"Ask players to place a symbol on the board alternately until there is a winner or there is no valid place left.\"\"\"\n",
    "        winner = False\n",
    "        # implement start_game operation below\n",
    "        # 9 iterations, because there are only 9 spaces\n",
    "\n",
    "            # print the board\n",
    "\n",
    "            # get current player and print the information\n",
    "\n",
    "\n",
    "            # ask player to place their symbol on the board\n",
    "\n",
    "            # check if there is a winner\n",
    "            \n",
    "            # if there is a winner, print the board, the winner and break the loop\n",
    "                \n",
    "        \n",
    "        \n",
    "        # if the for loop has ended and there is no winner, print it's a draw\n",
    "            "
   ]
  },
  {
   "cell_type": "code",
   "execution_count": null,
   "metadata": {
    "id": "z_giDvVoOiRY"
   },
   "outputs": [],
   "source": [
    "ttt = TTTGame()"
   ]
  },
  {
   "cell_type": "code",
   "execution_count": null,
   "metadata": {
    "id": "4NVJoXQPaiMv"
   },
   "outputs": [],
   "source": [
    "ttt.start_game()"
   ]
  }
 ],
 "metadata": {
  "colab": {
   "authorship_tag": "ABX9TyP/CAFNrvu/1+J/2q0dnpFV",
   "collapsed_sections": [],
   "name": "(New) FIT9136 Week 5 Lab Activities.ipynb",
   "provenance": []
  },
  "kernelspec": {
   "display_name": "Python 3",
   "language": "python",
   "name": "python3"
  },
  "language_info": {
   "codemirror_mode": {
    "name": "ipython",
    "version": 3
   },
   "file_extension": ".py",
   "mimetype": "text/x-python",
   "name": "python",
   "nbconvert_exporter": "python",
   "pygments_lexer": "ipython3",
   "version": "3.8.8"
  }
 },
 "nbformat": 4,
 "nbformat_minor": 1
}
