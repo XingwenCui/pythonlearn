{
 "cells": [
  {
   "cell_type": "code",
   "execution_count": null,
   "id": "e4e8f7c7",
   "metadata": {},
   "outputs": [],
   "source": []
  },
  {
   "cell_type": "code",
   "execution_count": 48,
   "id": "eef26f60",
   "metadata": {},
   "outputs": [],
   "source": [
    "class Stack:\n",
    "    \n",
    "    def __init__(self):\n",
    "        self.stack = []\n",
    "        self.count = 0   #不能用size,因为下边有size方法，同名会报错\n",
    "    \n",
    "    def push(self,item):\n",
    "        self.stack.append(item)\n",
    "        self.count += 1\n",
    "    \n",
    "    def pop(self):\n",
    "        self.stack.pop()\n",
    "        self.count -= 1\n",
    "    \n",
    "    def peek(self):\n",
    "        if len(self.stack) <= 0:\n",
    "            None\n",
    "        else:\n",
    "            return self.stack[-1]\n",
    "    \n",
    "    def is_empty(self):\n",
    "        return self.size == 0   #如果return后边的式子成立，则以True返回\n",
    "    \n",
    "    def size(self):\n",
    "        return self.count\n",
    "    def __len__(self):\n",
    "        return self.count"
   ]
  },
  {
   "cell_type": "code",
   "execution_count": 51,
   "id": "1d1e8e4f",
   "metadata": {},
   "outputs": [
    {
     "data": {
      "text/plain": [
       "2"
      ]
     },
     "execution_count": 51,
     "metadata": {},
     "output_type": "execute_result"
    }
   ],
   "source": [
    "s = Stack()\n",
    "s.push(2)\n",
    "s.push(3)\n",
    "s.peek()\n",
    "s.pop()\n",
    "s.peek()"
   ]
  },
  {
   "cell_type": "code",
   "execution_count": 46,
   "id": "5ea8f543",
   "metadata": {},
   "outputs": [
    {
     "data": {
      "text/plain": [
       "2"
      ]
     },
     "execution_count": 46,
     "metadata": {},
     "output_type": "execute_result"
    }
   ],
   "source": [
    "s.size()"
   ]
  },
  {
   "cell_type": "code",
   "execution_count": 47,
   "id": "a29257eb",
   "metadata": {},
   "outputs": [
    {
     "data": {
      "text/plain": [
       "2"
      ]
     },
     "execution_count": 47,
     "metadata": {},
     "output_type": "execute_result"
    }
   ],
   "source": [
    "len(s)"
   ]
  },
  {
   "cell_type": "code",
   "execution_count": null,
   "id": "9801131d",
   "metadata": {},
   "outputs": [],
   "source": []
  }
 ],
 "metadata": {
  "kernelspec": {
   "display_name": "Python 3",
   "language": "python",
   "name": "python3"
  },
  "language_info": {
   "codemirror_mode": {
    "name": "ipython",
    "version": 3
   },
   "file_extension": ".py",
   "mimetype": "text/x-python",
   "name": "python",
   "nbconvert_exporter": "python",
   "pygments_lexer": "ipython3",
   "version": "3.8.8"
  }
 },
 "nbformat": 4,
 "nbformat_minor": 5
}
