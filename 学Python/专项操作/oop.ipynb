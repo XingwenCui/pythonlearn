{
 "cells": [
  {
   "cell_type": "code",
   "execution_count": 2,
   "id": "8f7b218b",
   "metadata": {},
   "outputs": [],
   "source": [
    "std1 = { 'name': 'Michael', 'score': 98 }\n",
    "std2 = { 'name': 'Bob', 'score': 81 }"
   ]
  },
  {
   "cell_type": "code",
   "execution_count": 3,
   "id": "9529edeb",
   "metadata": {},
   "outputs": [
    {
     "name": "stdout",
     "output_type": "stream",
     "text": [
      "Michael: 98\n",
      "Bob: 81\n"
     ]
    }
   ],
   "source": [
    "#面向过程\n",
    "def print_score(std):\n",
    "    print('%s: %s' % (std['name'], std['score']))\n",
    "\n",
    "print_score(std1)\n",
    "print_score(std2)"
   ]
  },
  {
   "cell_type": "code",
   "execution_count": 21,
   "id": "e63ff3ce",
   "metadata": {},
   "outputs": [
    {
     "name": "stdout",
     "output_type": "stream",
     "text": [
      "Bart Simpson: 59\n",
      "Lisa Simpson: 87\n",
      "C\n"
     ]
    },
    {
     "data": {
      "text/plain": [
       "'Bart Simpson'"
      ]
     },
     "execution_count": 21,
     "metadata": {},
     "output_type": "execute_result"
    }
   ],
   "source": [
    "class Student(object):\n",
    "\n",
    "    def __init__(self, name, score):   #认为强制填入的属性，self是开头必填的\n",
    "        self.name = name\n",
    "        self.score = score\n",
    "\n",
    "    def print_score(self):  #self是必加的，在class内部定义函数\n",
    "        print('%s: %s' % (self.name, self.score))\n",
    "    def get_grade(self):\n",
    "        if self.score >= 90:\n",
    "            return 'A'\n",
    "        elif self.score >= 60:\n",
    "            return 'B'\n",
    "        else:\n",
    "            return 'C'\n",
    "\n",
    "bart = Student('Bart Simpson', 59)\n",
    "lisa = Student('Lisa Simpson', 87)\n",
    "bart.print_score()\n",
    "lisa.print_score()\n",
    "print(bart.get_grade())\n",
    "bart.score = 99   #外部可以修改class内的属性\n",
    "bart.score\n",
    "bart.name = 'cxw'\n",
    "bart.name"
   ]
  },
  {
   "cell_type": "code",
   "execution_count": 2,
   "id": "d0fa7e79",
   "metadata": {},
   "outputs": [
    {
     "name": "stdout",
     "output_type": "stream",
     "text": [
      "Bart Simpson: 59\n",
      "Bart Simpson: 90\n"
     ]
    },
    {
     "data": {
      "text/plain": [
       "NotImplemented"
      ]
     },
     "execution_count": 2,
     "metadata": {},
     "output_type": "execute_result"
    }
   ],
   "source": [
    "class Student(object):\n",
    "\n",
    "    def __init__(self, name, score):   #认为强制填入的属性，self是开头必填的\n",
    "        self.__name = name  #加上__变成private，如果是__name__就是公开访问的public\n",
    "        self.__score = score\n",
    "\n",
    "    def print_score(self):  #self是必加的，在class内部定义函数\n",
    "        print('%s: %s' % (self.__name, self.__score))  #加上__就是private\n",
    "    def get_grade(self):\n",
    "        if self.__score >= 90:   #上边改了下边也要都改\n",
    "            return 'A'\n",
    "        elif self.__score >= 60:\n",
    "            return 'B'\n",
    "        else:\n",
    "            return 'C'\n",
    "    def get_name(self):   #获取不可访问的值，只能看\n",
    "        return self.__name\n",
    "    def get_score(self):\n",
    "        return self.__score\n",
    "    def set_score(self, score):\n",
    "        self.__score = score   \n",
    "    \n",
    "bart = Student('Bart Simpson', 59)\n",
    "lisa = Student('Lisa Simpson', 87)\n",
    "# bart.__name  #不能访问了，内部属性安全了\n",
    "bart.get_grade()\n",
    "bart.print_score()\n",
    "bart.set_score(90)  #改了\n",
    "bart.print_score()\n",
    "dir(bart)\n",
    "dir('abcd')\n",
    "'abcd'.__len__()\n"
   ]
  },
  {
   "cell_type": "markdown",
   "id": "b94bf576",
   "metadata": {},
   "source": [
    "## 继承和多态"
   ]
  },
  {
   "cell_type": "code",
   "execution_count": 45,
   "id": "53be09d8",
   "metadata": {},
   "outputs": [
    {
     "name": "stdout",
     "output_type": "stream",
     "text": [
      "Animal is running...\n",
      "Eating meat...\n"
     ]
    }
   ],
   "source": [
    "class Animal(object):  #父类\n",
    "    def run(self):\n",
    "        print('Animal is running...')\n",
    "class Dog(Animal):    #子类，由animal继承的，获得父辈全部功能\n",
    "    def run(self):    #子类的run覆盖了父类的run\n",
    "        print('Dog is running...')\n",
    "\n",
    "\n",
    "    def eat(self):   #对子类增加的方法\n",
    "        print('Eating meat...')  \n",
    "\n",
    "class Cat(Animal):\n",
    "    pass\n",
    "\n",
    "dog = Dog()\n",
    "dog.run()\n",
    "dog.eat()"
   ]
  },
  {
   "cell_type": "code",
   "execution_count": 4,
   "id": "76db827f",
   "metadata": {},
   "outputs": [
    {
     "name": "stdout",
     "output_type": "stream",
     "text": [
      "Student\n"
     ]
    },
    {
     "data": {
      "text/plain": [
       "'Gero'"
      ]
     },
     "execution_count": 4,
     "metadata": {},
     "output_type": "execute_result"
    }
   ],
   "source": [
    "class Student(object):\n",
    "    name = 'Student'\n",
    "s = Student()\n",
    "print(s.name)\n",
    "s.name = 'Gero'\n",
    "s.name"
   ]
  },
  {
   "cell_type": "code",
   "execution_count": 4,
   "id": "6d2c029e",
   "metadata": {},
   "outputs": [
    {
     "ename": "SyntaxError",
     "evalue": "invalid syntax (<ipython-input-4-707a16fa2188>, line 9)",
     "output_type": "error",
     "traceback": [
      "\u001b[1;36m  File \u001b[1;32m\"<ipython-input-4-707a16fa2188>\"\u001b[1;36m, line \u001b[1;32m9\u001b[0m\n\u001b[1;33m    elseif:\u001b[0m\n\u001b[1;37m           ^\u001b[0m\n\u001b[1;31mSyntaxError\u001b[0m\u001b[1;31m:\u001b[0m invalid syntax\n"
     ]
    }
   ],
   "source": [
    "try:\n",
    "\n",
    "    1 / 0\n",
    "\n",
    "except:\n",
    "\n",
    "    print('exception')\n",
    "\n",
    "elseif:\n",
    "\n",
    "    print('else')\n",
    "\n",
    "finally:\n",
    "\n",
    "    print('finally')\n",
    "\n",
    " "
   ]
  }
 ],
 "metadata": {
  "kernelspec": {
   "display_name": "Python 3",
   "language": "python",
   "name": "python3"
  },
  "language_info": {
   "codemirror_mode": {
    "name": "ipython",
    "version": 3
   },
   "file_extension": ".py",
   "mimetype": "text/x-python",
   "name": "python",
   "nbconvert_exporter": "python",
   "pygments_lexer": "ipython3",
   "version": "3.8.8"
  }
 },
 "nbformat": 4,
 "nbformat_minor": 5
}
