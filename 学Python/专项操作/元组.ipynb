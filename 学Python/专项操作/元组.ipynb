{
 "cells": [
  {
   "cell_type": "markdown",
   "id": "093ec0d4",
   "metadata": {},
   "source": [
    "元组tuple与列表list类似，**区别就是不能修改** ，用()创建 "
   ]
  },
  {
   "cell_type": "code",
   "execution_count": 5,
   "id": "97664d67",
   "metadata": {},
   "outputs": [
    {
     "name": "stdout",
     "output_type": "stream",
     "text": [
      "<class 'tuple'>\n",
      "<class 'int'>\n",
      "<class 'tuple'>\n"
     ]
    }
   ],
   "source": [
    "#元组创建\n",
    "a_tuple = ()\n",
    "print(type(a_tuple))\n",
    "a_tuple = (0)\n",
    "print(type(a_tuple))\n",
    "a_tuple = (0,)    #如果只有一个元素括号里要加逗号\n",
    "print(type(a_tuple))"
   ]
  },
  {
   "cell_type": "code",
   "execution_count": 9,
   "id": "a1d9f6bd",
   "metadata": {},
   "outputs": [
    {
     "name": "stdout",
     "output_type": "stream",
     "text": [
      "2\n",
      "a\n",
      "2\n"
     ]
    }
   ],
   "source": [
    "a_tuple = (1,2,3,'a','v','c',[1,2,'a'])\n",
    "print(a_tuple[1])\n",
    "a_tuple = ('a',2)\n",
    "x,y = a_tuple\n",
    "print(x)\n",
    "print(y)"
   ]
  },
  {
   "cell_type": "markdown",
   "id": "f554f4be",
   "metadata": {},
   "source": [
    "## 应用场景\n",
    "函数的参数和返回值，一个函数可以接收任意多个参数，或者一次返回多个数据  \n",
    "格式字符串，格式化字符串后面的（）本质就是一个元组  \n",
    "让列表不可修改，保护数据安全"
   ]
  },
  {
   "cell_type": "code",
   "execution_count": 3,
   "id": "b3ab1a16",
   "metadata": {},
   "outputs": [
    {
     "name": "stdout",
     "output_type": "stream",
     "text": [
      "zxx的年龄是18\n"
     ]
    }
   ],
   "source": [
    "Info = ('zxx',18)\n",
    "\n",
    "print(\"%s的年龄是%d\"%Info)  #Info就是元组"
   ]
  },
  {
   "cell_type": "code",
   "execution_count": 6,
   "id": "094e134b",
   "metadata": {},
   "outputs": [
    {
     "name": "stdout",
     "output_type": "stream",
     "text": [
      "<class 'list'>\n",
      "<class 'tuple'>\n"
     ]
    }
   ],
   "source": [
    "#列表与元组的转换\n",
    "x = list(Info)\n",
    "print(type(x))\n",
    "\n",
    "y = tuple(x)\n",
    "print(type(y))"
   ]
  }
 ],
 "metadata": {
  "kernelspec": {
   "display_name": "Python 3",
   "language": "python",
   "name": "python3"
  },
  "language_info": {
   "codemirror_mode": {
    "name": "ipython",
    "version": 3
   },
   "file_extension": ".py",
   "mimetype": "text/x-python",
   "name": "python",
   "nbconvert_exporter": "python",
   "pygments_lexer": "ipython3",
   "version": "3.8.8"
  }
 },
 "nbformat": 4,
 "nbformat_minor": 5
}
