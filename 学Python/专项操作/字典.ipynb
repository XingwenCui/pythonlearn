{
 "cells": [
  {
   "cell_type": "markdown",
   "id": "d034b64d",
   "metadata": {},
   "source": [
    "## 字典(dict)键值对集合\n",
    "<键key（**不可变**，不能用列表）:值value（任意形式）>  \n",
    "通常用于存储 描述一个物体的相关信息"
   ]
  },
  {
   "cell_type": "markdown",
   "id": "e5c3979a",
   "metadata": {},
   "source": [
    "## 创建"
   ]
  },
  {
   "cell_type": "code",
   "execution_count": 10,
   "id": "5fc08a6b",
   "metadata": {},
   "outputs": [
    {
     "name": "stdout",
     "output_type": "stream",
     "text": [
      "{}\n",
      "{}\n",
      "{1: 2, 3: 4}\n",
      "{'one': 1, 'two': 2}\n",
      "{'a': 1, 'b': 2}\n"
     ]
    }
   ],
   "source": [
    "#创建字典\n",
    "a_dict = {}\n",
    "print(a_dict)\n",
    "a_dict = dict()\n",
    "print(a_dict)\n",
    "a_dict = {1:2,3:4}\n",
    "print(a_dict)\n",
    "a_dict = {'one':1,'two':2}\n",
    "print(a_dict)\n",
    "a_dict = dict([('a',1),('b',2)])   #用dict()时中间可以是list，中间包括tuple\n",
    "print(a_dict)"
   ]
  },
  {
   "cell_type": "markdown",
   "id": "88b048a1",
   "metadata": {},
   "source": [
    "## 取值"
   ]
  },
  {
   "cell_type": "code",
   "execution_count": 2,
   "id": "1a465df7",
   "metadata": {},
   "outputs": [
    {
     "name": "stdout",
     "output_type": "stream",
     "text": [
      "xiaoming\n"
     ]
    }
   ],
   "source": [
    "xiaoming_dict = {'name':'xiaoming'}\n",
    "print(xiaoming_dict['name'])\n",
    "#再取值时如果指定的key不存在，程序会报错"
   ]
  },
  {
   "cell_type": "markdown",
   "id": "1f636b2e",
   "metadata": {},
   "source": [
    "## 增/改"
   ]
  },
  {
   "cell_type": "code",
   "execution_count": 13,
   "id": "1d00e42d",
   "metadata": {
    "scrolled": false
   },
   "outputs": [
    {
     "name": "stdout",
     "output_type": "stream",
     "text": [
      "{'one': 1, 'two': 2, 'three': [1, 2, 3], 5: [1, 2]}\n",
      "{'one': 1234, 'two': 2, 'three': [1, 2, 3], 5: [1, 2]}\n"
     ]
    }
   ],
   "source": [
    "#增\n",
    "a_dict = {'one':1,\"two\":2,\"three\":[1,2,3]}\n",
    "a_dict[5] = [1,2]  #直接在后边增\n",
    "print(a_dict)\n",
    "a_dict['one'] = 1234   #存在的话就改\n",
    "print(a_dict)"
   ]
  },
  {
   "cell_type": "markdown",
   "id": "8bff92e2",
   "metadata": {},
   "source": [
    "## 删除"
   ]
  },
  {
   "cell_type": "code",
   "execution_count": 4,
   "id": "38aaa8a9",
   "metadata": {},
   "outputs": [
    {
     "name": "stdout",
     "output_type": "stream",
     "text": [
      "{'two': 2, 'three': [1, 2, 3]}\n",
      "{'two': 2}\n"
     ]
    }
   ],
   "source": [
    "#删\n",
    "a_dict = {'one':1,\"two\":2,\"three\":[1,2,3]}\n",
    "del a_dict['one']\n",
    "print(a_dict)\n",
    "# del a_dict['one']   #不存在报错\n",
    "# print(a_dict)\n",
    "\n",
    "a_dict.pop('three')   #删除并返回对应值\n",
    "print(a_dict)"
   ]
  },
  {
   "cell_type": "markdown",
   "id": "b43281a2",
   "metadata": {},
   "source": [
    "## 统计 合并 清空操作\n"
   ]
  },
  {
   "cell_type": "code",
   "execution_count": 13,
   "id": "7ab2daca",
   "metadata": {},
   "outputs": [
    {
     "name": "stdout",
     "output_type": "stream",
     "text": [
      "3\n",
      "{'one': 1, 'two': 2, 'three': [1, 2, 3], 'name': 'xiaoming'}\n"
     ]
    },
    {
     "data": {
      "text/plain": [
       "{}"
      ]
     },
     "execution_count": 13,
     "metadata": {},
     "output_type": "execute_result"
    }
   ],
   "source": [
    "a_dict = {'one':1,\"two\":2,\"three\":[1,2,3]}\n",
    "\n",
    "# 1.统计键值对数量\n",
    "print(len(a_dict))\n",
    "\n",
    "# 2.合并字典(update),如果更新的包含原有键值对，则更新键值对\n",
    "xiaoming_dict = {'name':'xiaoming'}\n",
    "\n",
    "a_dict.update(xiaoming_dict)\n",
    "print(a_dict)\n",
    "\n",
    "#清空clear\n",
    "a_dict.clear()\n",
    "a_dict"
   ]
  },
  {
   "cell_type": "markdown",
   "id": "adfdfd8a",
   "metadata": {},
   "source": [
    "## 循环遍历"
   ]
  },
  {
   "cell_type": "code",
   "execution_count": 16,
   "id": "b97d9358",
   "metadata": {},
   "outputs": [
    {
     "name": "stdout",
     "output_type": "stream",
     "text": [
      "name - xiaoming\n",
      "qq - 1234556\n",
      "phone - 10086\n"
     ]
    }
   ],
   "source": [
    "#用for循环遍历字典的键值对\n",
    "xiaoming_dict = {'name':'xiaoming','qq':'1234556','phone':\"10086\"}\n",
    "\n",
    "#迭代遍历字典\n",
    "for k in xiaoming_dict:    #变量k是每一次循环中，获取到的键值对的key\n",
    "    print(\"%s - %s\"%(k,xiaoming_dict[k]))"
   ]
  },
  {
   "cell_type": "markdown",
   "id": "e219281a",
   "metadata": {},
   "source": [
    "## 应用场景\n",
    "- 使用多个键值对，存储描述一个物体的相关信息--描述更复杂的数据信息\n",
    "- 将多个字典放在一个列表中，再进行遍历，再循环体内部对每一个字典进行相同处理"
   ]
  },
  {
   "cell_type": "code",
   "execution_count": 20,
   "id": "a0d514b8",
   "metadata": {},
   "outputs": [
    {
     "name": "stdout",
     "output_type": "stream",
     "text": [
      "{'name': 'xiaoming', 'qq': '1234556', 'phone': '10086'}\n",
      "{'name': 'li', 'qq': '98765', 'phone': '877568'}\n"
     ]
    }
   ],
   "source": [
    "card_list = [{'name':'xiaoming','qq':'1234556','phone':\"10086\"},{'name':'li','qq':'98765','phone':'877568'}]\n",
    "\n",
    "for card_info in card_list:\n",
    "    print(card_info)"
   ]
  },
  {
   "cell_type": "code",
   "execution_count": 6,
   "id": "6b22d5c7",
   "metadata": {},
   "outputs": [
    {
     "data": {
      "text/plain": [
       "True"
      ]
     },
     "execution_count": 6,
     "metadata": {},
     "output_type": "execute_result"
    }
   ],
   "source": [
    "a_dict = {'one':1,\"two\":2,\"three\":[1,2,3]}\n",
    "'one' in a_dict  #是否在字典中"
   ]
  },
  {
   "cell_type": "code",
   "execution_count": 17,
   "id": "fcddb917",
   "metadata": {},
   "outputs": [
    {
     "data": {
      "text/plain": [
       "dict_items([('one', 1), ('two', 2), ('three', [1, 2, 3])])"
      ]
     },
     "execution_count": 17,
     "metadata": {},
     "output_type": "execute_result"
    }
   ],
   "source": [
    "a_dict.items()#返回一组列表元组，分别对应键值"
   ]
  },
  {
   "cell_type": "code",
   "execution_count": 19,
   "id": "3797babf",
   "metadata": {},
   "outputs": [
    {
     "data": {
      "text/plain": [
       "dict_keys(['one', 'two', 'three'])"
      ]
     },
     "execution_count": 19,
     "metadata": {},
     "output_type": "execute_result"
    }
   ],
   "source": [
    "a_dict.keys()"
   ]
  },
  {
   "cell_type": "code",
   "execution_count": 20,
   "id": "a6c5755c",
   "metadata": {},
   "outputs": [
    {
     "data": {
      "text/plain": [
       "dict_values([1, 2, [1, 2, 3]])"
      ]
     },
     "execution_count": 20,
     "metadata": {},
     "output_type": "execute_result"
    }
   ],
   "source": [
    "a_dict.values()"
   ]
  },
  {
   "cell_type": "code",
   "execution_count": 23,
   "id": "fa00481d",
   "metadata": {},
   "outputs": [
    {
     "data": {
      "text/plain": [
       "'無'"
      ]
     },
     "execution_count": 23,
     "metadata": {},
     "output_type": "execute_result"
    }
   ],
   "source": [
    "a_dict.get(1,\"無\")   #查找相应键，没有返回后边参数"
   ]
  },
  {
   "cell_type": "code",
   "execution_count": 24,
   "id": "49d268eb",
   "metadata": {},
   "outputs": [
    {
     "data": {
      "text/plain": [
       "1"
      ]
     },
     "execution_count": 24,
     "metadata": {},
     "output_type": "execute_result"
    }
   ],
   "source": [
    "a_dict.get('one')  #有就返回值"
   ]
  }
 ],
 "metadata": {
  "kernelspec": {
   "display_name": "Python 3",
   "language": "python",
   "name": "python3"
  },
  "language_info": {
   "codemirror_mode": {
    "name": "ipython",
    "version": 3
   },
   "file_extension": ".py",
   "mimetype": "text/x-python",
   "name": "python",
   "nbconvert_exporter": "python",
   "pygments_lexer": "ipython3",
   "version": "3.8.8"
  }
 },
 "nbformat": 4,
 "nbformat_minor": 5
}
