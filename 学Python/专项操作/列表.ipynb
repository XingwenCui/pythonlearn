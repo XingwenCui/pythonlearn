{
 "cells": [
  {
   "cell_type": "markdown",
   "id": "2ba855bf",
   "metadata": {},
   "source": [
    "## 1.取值和取索引"
   ]
  },
  {
   "cell_type": "code",
   "execution_count": 2,
   "id": "e09598c8",
   "metadata": {},
   "outputs": [
    {
     "name": "stdout",
     "output_type": "stream",
     "text": [
      "12\n",
      "[2, '3']\n",
      "[12, 2, '3', 'H']\n",
      "['H', 'hello', ['ss', 'abc', '2', 12]]\n",
      "[['ss', 'abc', '2', 12], 'hello', 'H', '3', 2, 12]\n",
      "[12, '2', 'abc', 'ss']\n",
      "False\n"
     ]
    }
   ],
   "source": [
    "ls = [12,2,'3','H','hello',['ss','abc','2',12]]\n",
    "print(ls[0])  #直接选索引，就是取出值\n",
    "print(ls[1:3])#取从[m,n)的内容\n",
    "print(ls[:4]) #[:m]取从0到m的值，不包括m\n",
    "print(ls[3:]) #从m开始，包括左边的值 \n",
    "print(ls[::-1]) #从左到右，以步长为-1取值\n",
    "print(ls[::-1][0][::-1])\n",
    "print(1 in ls)"
   ]
  },
  {
   "cell_type": "code",
   "execution_count": 8,
   "id": "6c216b1a",
   "metadata": {},
   "outputs": [
    {
     "data": {
      "text/plain": [
       "2"
      ]
     },
     "execution_count": 8,
     "metadata": {},
     "output_type": "execute_result"
    }
   ],
   "source": [
    "ls.index(\"3\")    #index返回值的索引位置"
   ]
  },
  {
   "cell_type": "code",
   "execution_count": 20,
   "id": "78daccff",
   "metadata": {},
   "outputs": [
    {
     "data": {
      "text/plain": [
       "['sss', 'fdf', 53, 1, 2, 3]"
      ]
     },
     "execution_count": 20,
     "metadata": {},
     "output_type": "execute_result"
    }
   ],
   "source": [
    "ls1 = [1,2,3]\n",
    "ls2 = ['sss','fdf',53]\n",
    "ls3 = ls2 +ls1\n",
    "ls3"
   ]
  },
  {
   "cell_type": "code",
   "execution_count": 22,
   "id": "ce971ccb",
   "metadata": {},
   "outputs": [
    {
     "data": {
      "text/plain": [
       "[1, 1, 1, 1, 1, 1]"
      ]
     },
     "execution_count": 22,
     "metadata": {},
     "output_type": "execute_result"
    }
   ],
   "source": [
    "a_list = [1]*6\n",
    "a_list  #这里边每个1都是同一个存储位置"
   ]
  },
  {
   "cell_type": "markdown",
   "id": "3e890b78",
   "metadata": {},
   "source": [
    "## 2.修改"
   ]
  },
  {
   "cell_type": "code",
   "execution_count": 10,
   "id": "8860b85b",
   "metadata": {},
   "outputs": [
    {
     "data": {
      "text/plain": [
       "['张三', 'adam', '王五', '刘六']"
      ]
     },
     "execution_count": 10,
     "metadata": {},
     "output_type": "execute_result"
    }
   ],
   "source": [
    "name_list = [\"张三\",\"李四\",\"王五\",\"刘六\"]\n",
    "name_list[1] = \"adam\"   #直接索引值，赋变量，修改\n",
    "name_list"
   ]
  },
  {
   "cell_type": "markdown",
   "id": "20fee683",
   "metadata": {},
   "source": [
    "## 3.增 .append(item)  .insert(index,item)  .extend()"
   ]
  },
  {
   "cell_type": "code",
   "execution_count": 12,
   "id": "7dda12bb",
   "metadata": {},
   "outputs": [
    {
     "name": "stdout",
     "output_type": "stream",
     "text": [
      "[1, 2, '3', 'H', 'hello', ['ss', 'abc', '2', 12], 'woshi']\n",
      "[1, 2, 'woshi', '3', 'H', 'hello', ['ss', 'abc', '2', 12], 'woshi']\n",
      "[1, 2, 'woshi', '3', 'H', 'hello', ['ss', 'abc', '2', 12], 'woshi', '张三', '李四', '王五', '刘六']\n"
     ]
    }
   ],
   "source": [
    "ls = [1,2,'3','H','hello',['ss','abc','2',12]]\n",
    "\n",
    "#append方法向列表末尾增加数据\n",
    "ls.append('woshi')\n",
    "print(ls)\n",
    "\n",
    "#insert(self,index,shuju)向制定索引位置增加数据\n",
    "ls.insert(2,'woshi')   #在制定位置：2 增加元素\n",
    "print(ls)\n",
    "\n",
    "#extend()可以把其他列表中的完整内容追加到当前列表末尾\n",
    "temp_list = [\"张三\",\"李四\",\"王五\",\"刘六\"]\n",
    "ls.extend(temp_list)\n",
    "print(ls)"
   ]
  },
  {
   "cell_type": "markdown",
   "id": "c9708e82",
   "metadata": {},
   "source": [
    "## 4.删除 .remove .pop .clear"
   ]
  },
  {
   "cell_type": "code",
   "execution_count": 33,
   "id": "236bf3f1",
   "metadata": {},
   "outputs": [
    {
     "name": "stdout",
     "output_type": "stream",
     "text": [
      "[1, 2, 'H', 'hello', ['ss', 'abc', '2', 12]]\n",
      "[1, 2, 'H', 'hello']\n",
      "[2, 'H', 'hello']\n",
      "[]\n",
      "[2, '3', 'H', 'hello', ['ss', 'abc', '2', 12]]\n"
     ]
    }
   ],
   "source": [
    "#删\n",
    "ls = [1,2,'3','H','hello',['ss','abc','2',12]]\n",
    "\n",
    "#remove方法可以从列表中删除指定元素,如果元素不存在会报错\n",
    "ls.remove('3')\n",
    "print(ls)\n",
    "\n",
    "#pop默认把列表最后一个元素删除并返回,括号加索引可以删除返回指定索引值\n",
    "ls.pop()\n",
    "print(ls)\n",
    "ls.pop(0)\n",
    "print(ls)\n",
    "\n",
    "#clear清空列表\n",
    "ls.clear()\n",
    "print(ls)\n",
    "\n",
    "#del删除数据，本质上是将一个变量从内存中删除,不推荐使用，如果用del删除变量，则后续代码不能使用该变量如 del ls 后边不能用ls\n",
    "ls = [1,2,'3','H','hello',['ss','abc','2',12]]\n",
    "del ls[0]\n",
    "print(ls)"
   ]
  },
  {
   "cell_type": "code",
   "execution_count": 44,
   "id": "68ab4abb",
   "metadata": {},
   "outputs": [
    {
     "name": "stdout",
     "output_type": "stream",
     "text": [
      "[1, '3', 'H', 'hello', ['ss', 'abc', '2', 12]]\n"
     ]
    },
    {
     "data": {
      "text/plain": [
       "[1, 2, '3', 'H', 'hello', ['ss', 'abc', '2']]"
      ]
     },
     "execution_count": 44,
     "metadata": {},
     "output_type": "execute_result"
    }
   ],
   "source": [
    "ls = [1,2,'3','H','hello',['ss','abc','2',12]]\n",
    "ls.remove(2)   #只能有一个参数，没有返回值\n",
    "print(ls)      #删除遇到的第一个1\n",
    "# ls.remove(12)   #列表中的列表元素不能用这个删除\n",
    "ls = [1,2,'3','H','hello',['ss','abc','2',12]]\n",
    "ls[5].remove(12) #先定位再删除\n",
    "ls"
   ]
  },
  {
   "cell_type": "markdown",
   "id": "d8782bcd",
   "metadata": {},
   "source": [
    "## 5.列表的数据统计 len count"
   ]
  },
  {
   "cell_type": "code",
   "execution_count": 37,
   "id": "7b4de08f",
   "metadata": {},
   "outputs": [
    {
     "name": "stdout",
     "output_type": "stream",
     "text": [
      "6\n",
      "0\n",
      "1\n"
     ]
    }
   ],
   "source": [
    "ls = [1,2,'3','H','hello',['ss','abc','2',12]]\n",
    "#len(length长度)函数可以统计列表中元素总数\n",
    "print(len(ls))\n",
    "\n",
    "#count可以统计列表中某个元素出现的次数\n",
    "print(ls.count(\"1\"))\n",
    "print(ls.count(1))"
   ]
  },
  {
   "cell_type": "markdown",
   "id": "a5a72a46",
   "metadata": {},
   "source": [
    "## 6.列表排序与反转 .sort()  .reverse()"
   ]
  },
  {
   "cell_type": "code",
   "execution_count": 52,
   "id": "ae0611c4",
   "metadata": {},
   "outputs": [
    {
     "name": "stdout",
     "output_type": "stream",
     "text": [
      "[1, 2, 4, 8, 23, 65]\n",
      "[65, 23, 8, 4, 2, 1]\n"
     ]
    }
   ],
   "source": [
    "ls = [1,2,'3','H','hello',['ss','abc','2',12]]\n",
    "# ls.sort(reverse=False)   #排序,false升序，不同类型不能排序\n",
    "ls = [2,1,4,65,23,8]\n",
    "ls.sort()   #默认false升序，default=false\n",
    "print(ls)\n",
    "# reverse = True是降序\n",
    "ls.sort(reverse=True)   \n",
    "print(ls)\n"
   ]
  },
  {
   "cell_type": "code",
   "execution_count": 55,
   "id": "11565c6a",
   "metadata": {},
   "outputs": [
    {
     "data": {
      "text/plain": [
       "[['ss', 'abc', '2', 12], 'hello', 'H', '3', 2, 1]"
      ]
     },
     "execution_count": 55,
     "metadata": {},
     "output_type": "execute_result"
    }
   ],
   "source": [
    "ls = [1,2,'3','H','hello',['ss','abc','2',12]]\n",
    "ls.reverse()  #置换无返回值\n",
    "ls"
   ]
  },
  {
   "cell_type": "markdown",
   "id": "bbc78428",
   "metadata": {},
   "source": [
    "## 7.循环遍历\n",
    "- 遍历就是从头到尾依次从列表中获取数据\n",
    " - 在循环体内部对每一个元素执行相同操作\n",
    "- 迭代(iteration)遍历（重复）\n",
    "- 使用`for`就能实现迭代遍历"
   ]
  },
  {
   "cell_type": "code",
   "execution_count": 5,
   "id": "7089914f",
   "metadata": {},
   "outputs": [
    {
     "name": "stdout",
     "output_type": "stream",
     "text": [
      "1 2 3 H hello ['ss', 'abc', '2', 12] "
     ]
    }
   ],
   "source": [
    "ls = [1,2,'3','H','hello',['ss','abc','2',12]]\n",
    "\n",
    "for num in ls:\n",
    "    print(num,end = \" \")"
   ]
  },
  {
   "cell_type": "code",
   "execution_count": 66,
   "id": "6b269ea1",
   "metadata": {},
   "outputs": [
    {
     "data": {
      "text/plain": [
       "[1, 3.0, 5]"
      ]
     },
     "execution_count": 66,
     "metadata": {},
     "output_type": "execute_result"
    }
   ],
   "source": [
    "num_list = [1,2,3.0,4,5]\n",
    "odd_list = []\n",
    "for i in num_list:\n",
    "    if i%2 != 0:\n",
    "        odd_list.append(i)\n",
    "odd_list"
   ]
  },
  {
   "cell_type": "markdown",
   "id": "1b54ed61",
   "metadata": {},
   "source": [
    "## 8.列表应用场景\n",
    "- 存储相同类型的数据\n",
    "- 通过迭代遍历，在循环体内部，针对列表中的每一项元素，执行相同操作"
   ]
  },
  {
   "cell_type": "code",
   "execution_count": 69,
   "id": "e11b8096",
   "metadata": {},
   "outputs": [
    {
     "name": "stdout",
     "output_type": "stream",
     "text": [
      "['This', 'is', 'A', 'sentence']\n",
      "This is A sentence\n"
     ]
    }
   ],
   "source": [
    "simple_list = ['This','is','a','sentence']\n",
    "simple_list[2] = 'A'\n",
    "print(simple_list)\n",
    "print(' '.join(simple_list))"
   ]
  },
  {
   "cell_type": "code",
   "execution_count": 2,
   "id": "db39e635",
   "metadata": {},
   "outputs": [
    {
     "name": "stdout",
     "output_type": "stream",
     "text": [
      "[1, 4, 9, 16, 25, 36, 49, 64, 81, 100]\n",
      "[1, 4, 9, 16, 25, 36, 49, 64, 81, 100]\n"
     ]
    }
   ],
   "source": [
    "#列表生成式，循环生成\n",
    "#普通循环\n",
    "ls = []\n",
    "for i in range(1,11):\n",
    "    ls.append(i**2)\n",
    "print(ls)\n",
    "\n",
    "#式子生成\n",
    "ls1 = [x*x for x in range(1,11)]    #要生成的元素在前面，后面跟for循环\n",
    "print(ls1)"
   ]
  },
  {
   "cell_type": "code",
   "execution_count": 3,
   "id": "e3c82fa1",
   "metadata": {},
   "outputs": [
    {
     "data": {
      "text/plain": [
       "[4, 16, 36, 64, 100]"
      ]
     },
     "execution_count": 3,
     "metadata": {},
     "output_type": "execute_result"
    }
   ],
   "source": [
    "[x*x for x in range(1,11) if x%2 == 0]  #后面可以跟if语句"
   ]
  },
  {
   "cell_type": "code",
   "execution_count": 4,
   "id": "6bb736c4",
   "metadata": {},
   "outputs": [
    {
     "data": {
      "text/plain": [
       "['AX', 'AY', 'AZ', 'BX', 'BY', 'BZ', 'CX', 'CY', 'CZ']"
      ]
     },
     "execution_count": 4,
     "metadata": {},
     "output_type": "execute_result"
    }
   ],
   "source": [
    "#两层for循环\n",
    "[m + n for m in \"ABC\" for n in \"XYZ\"]"
   ]
  },
  {
   "cell_type": "code",
   "execution_count": 5,
   "id": "74e77d74",
   "metadata": {},
   "outputs": [
    {
     "data": {
      "text/plain": [
       "['AX', 'AY', 'AZ', 'BX', 'BY', 'BZ', 'CX', 'CY', 'CZ']"
      ]
     },
     "execution_count": 5,
     "metadata": {},
     "output_type": "execute_result"
    }
   ],
   "source": [
    "ls = []\n",
    "for m in 'ABC':\n",
    "    for n in 'XYZ':\n",
    "        ls.append(m+n)\n",
    "ls"
   ]
  },
  {
   "cell_type": "code",
   "execution_count": 3,
   "id": "f6b31786",
   "metadata": {},
   "outputs": [
    {
     "name": "stdout",
     "output_type": "stream",
     "text": [
      "1\n",
      "1\n",
      "2\n",
      "3\n",
      "5\n",
      "8\n"
     ]
    }
   ],
   "source": [
    "#斐波拉契数列\n",
    "def fib(max):\n",
    "    a = 0\n",
    "    b = 1\n",
    "    for n in range(max):\n",
    "        print(b)\n",
    "        a,b = b, a+b\n",
    "    return\n",
    "fib(6)"
   ]
  },
  {
   "cell_type": "code",
   "execution_count": 12,
   "id": "7880bc6a",
   "metadata": {},
   "outputs": [
    {
     "name": "stdout",
     "output_type": "stream",
     "text": [
      "1\n",
      "1\n",
      "2\n",
      "3\n",
      "5\n",
      "8\n",
      "13\n",
      "21\n",
      "34\n"
     ]
    },
    {
     "data": {
      "text/plain": [
       "'done'"
      ]
     },
     "execution_count": 12,
     "metadata": {},
     "output_type": "execute_result"
    }
   ],
   "source": [
    "def fib(max):\n",
    "    n, a, b = 0, 0, 1\n",
    "    while n < max:\n",
    "        print(b)\n",
    "        a,b = b,a + b\n",
    "        n = n + 1\n",
    "    return 'done'\n",
    "fib(9)"
   ]
  },
  {
   "cell_type": "code",
   "execution_count": 1,
   "id": "c749901f",
   "metadata": {},
   "outputs": [],
   "source": [
    "#杨辉三角\n",
    "def triangles(max):\n",
    "    a = 1\n",
    "    for i in range(max+1):\n",
    "        print([])"
   ]
  },
  {
   "cell_type": "code",
   "execution_count": 2,
   "id": "5405d5a7",
   "metadata": {},
   "outputs": [
    {
     "data": {
      "text/plain": [
       "15"
      ]
     },
     "execution_count": 2,
     "metadata": {},
     "output_type": "execute_result"
    }
   ],
   "source": [
    "def lazy_sum(*args):\n",
    "    def sum():\n",
    "        ax = 0\n",
    "        for n in args:\n",
    "            ax = ax + n\n",
    "        return ax\n",
    "    return sum\n",
    "f = lazy_sum(1,2,3,4,5)\n",
    "f()"
   ]
  }
 ],
 "metadata": {
  "kernelspec": {
   "display_name": "Python 3",
   "language": "python",
   "name": "python3"
  },
  "language_info": {
   "codemirror_mode": {
    "name": "ipython",
    "version": 3
   },
   "file_extension": ".py",
   "mimetype": "text/x-python",
   "name": "python",
   "nbconvert_exporter": "python",
   "pygments_lexer": "ipython3",
   "version": "3.8.8"
  }
 },
 "nbformat": 4,
 "nbformat_minor": 5
}
