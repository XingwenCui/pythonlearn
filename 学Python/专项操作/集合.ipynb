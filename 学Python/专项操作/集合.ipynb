{
 "cells": [
  {
   "cell_type": "markdown",
   "id": "8b25d869",
   "metadata": {},
   "source": [
    "## 集合（set）：唯一、无序的集合"
   ]
  },
  {
   "cell_type": "code",
   "execution_count": 8,
   "id": "2ea4a31b",
   "metadata": {},
   "outputs": [
    {
     "name": "stdout",
     "output_type": "stream",
     "text": [
      "set()\n",
      "{0, 1, 2}\n",
      "{1, 2, 3, 4, 'one'}\n"
     ]
    }
   ],
   "source": [
    "#创建set\n",
    "a_set = set()\n",
    "print(a_set)\n",
    "a_set = set([1,2,2,0])  #set()里的东西一定是可迭代的\n",
    "print(a_set)\n",
    "#a_set = set(1,2,3)   #这样就不行\n",
    "a_set = {1,2,3,4,'one'}\n",
    "print(a_set)"
   ]
  },
  {
   "cell_type": "code",
   "execution_count": 9,
   "id": "d665a09e",
   "metadata": {},
   "outputs": [
    {
     "ename": "TypeError",
     "evalue": "'set' object is not subscriptable",
     "output_type": "error",
     "traceback": [
      "\u001b[1;31m---------------------------------------------------------------------------\u001b[0m",
      "\u001b[1;31mTypeError\u001b[0m                                 Traceback (most recent call last)",
      "\u001b[1;32m<ipython-input-9-6e586b3c6acb>\u001b[0m in \u001b[0;36m<module>\u001b[1;34m\u001b[0m\n\u001b[1;32m----> 1\u001b[1;33m \u001b[0ma_set\u001b[0m\u001b[1;33m[\u001b[0m\u001b[1;36m1\u001b[0m\u001b[1;33m]\u001b[0m\u001b[1;33m\u001b[0m\u001b[1;33m\u001b[0m\u001b[0m\n\u001b[0m",
      "\u001b[1;31mTypeError\u001b[0m: 'set' object is not subscriptable"
     ]
    }
   ],
   "source": [
    "a_set[1]  #set无下标，因为没有顺序，不能访问"
   ]
  },
  {
   "cell_type": "code",
   "execution_count": 21,
   "id": "5297fe45",
   "metadata": {},
   "outputs": [
    {
     "name": "stdout",
     "output_type": "stream",
     "text": [
      "{1, 2, 3, 4, (1, 2, 3, 'a'), 'abc', 'a', 'C'}\n"
     ]
    }
   ],
   "source": [
    "#a_set = {1,2,3,4,'a','abc',[1,2,3,'a']}  #集合中的元素时不可改的，所以不能有列表\n",
    "a_set = {1,2,3,4,'a','abc',(1,2,3,'a')}\n",
    "#添加元素\n",
    "a_set.add('C')\n",
    "print(a_set)"
   ]
  },
  {
   "cell_type": "code",
   "execution_count": 25,
   "id": "99e7c9af",
   "metadata": {},
   "outputs": [
    {
     "name": "stdout",
     "output_type": "stream",
     "text": [
      "{2, 3, 4, (1, 2, 3, 'a'), 'abc', 'a'}\n"
     ]
    }
   ],
   "source": [
    "#移除元素\n",
    "a_set = {1,2,3,4,'a','abc',(1,2,3,'a')}\n",
    "a_set.remove(1)\n",
    "print(a_set)\n",
    "# a_set.remove(21)   #集合中没有元素会报错"
   ]
  },
  {
   "cell_type": "code",
   "execution_count": 29,
   "id": "487b854a",
   "metadata": {},
   "outputs": [
    {
     "name": "stdout",
     "output_type": "stream",
     "text": [
      "{1, 3, 4, (1, 2, 3, 'a'), 'abc', 'a'}\n",
      "{1, 3, 4, (1, 2, 3, 'a'), 'abc', 'a'}\n"
     ]
    }
   ],
   "source": [
    "a_set = {1,2,3,4,'a','abc',(1,2,3,'a')}\n",
    "a_set.discard(2)\n",
    "print(a_set)\n",
    "a_set.discard(21)  #不存在不会报错\n",
    "print(a_set)"
   ]
  },
  {
   "cell_type": "code",
   "execution_count": 30,
   "id": "ec65f17f",
   "metadata": {},
   "outputs": [
    {
     "name": "stdout",
     "output_type": "stream",
     "text": [
      "1\n",
      "{2, 3, 4, (1, 2, 3, 'a'), 'abc', 'a'}\n"
     ]
    }
   ],
   "source": [
    "a_set = {1,2,3,4,'a','abc',(1,2,3,'a')}\n",
    "print(a_set.pop()) #随机删除一个元素并返回\n",
    "print(a_set)     "
   ]
  },
  {
   "cell_type": "code",
   "execution_count": 33,
   "id": "d3a46c38",
   "metadata": {},
   "outputs": [
    {
     "data": {
      "text/plain": [
       "set()"
      ]
     },
     "execution_count": 33,
     "metadata": {},
     "output_type": "execute_result"
    }
   ],
   "source": [
    "a_set = {1,2,3,4,'a','abc',(1,2,3,'a')}\n",
    "a_set.clear()   #清空\n",
    "a_set"
   ]
  },
  {
   "cell_type": "code",
   "execution_count": 35,
   "id": "a3a12ef3",
   "metadata": {},
   "outputs": [
    {
     "name": "stdout",
     "output_type": "stream",
     "text": [
      "{1, 2, 3, 4, 5, 6, 7, 8, 9, 10}\n",
      "{1, 2, 3, 4, 5, 6, 7, 8, 9, 10}\n"
     ]
    }
   ],
   "source": [
    "#集合间操作\n",
    "#并,合到一起\n",
    "a_set = {1,2,3,4,5,6}\n",
    "b_set = {4,5,6,7,8,9,10}\n",
    "print(a_set.union(b_set))\n",
    "print(a_set|b_set)"
   ]
  },
  {
   "cell_type": "code",
   "execution_count": 37,
   "id": "9636cf57",
   "metadata": {},
   "outputs": [
    {
     "name": "stdout",
     "output_type": "stream",
     "text": [
      "{4, 5, 6}\n",
      "{4, 5, 6}\n"
     ]
    }
   ],
   "source": [
    "#交，保留相同的\n",
    "print(a_set.intersection(b_set))\n",
    "print(a_set&b_set)"
   ]
  },
  {
   "cell_type": "code",
   "execution_count": 39,
   "id": "2ead80b3",
   "metadata": {},
   "outputs": [
    {
     "name": "stdout",
     "output_type": "stream",
     "text": [
      "{1, 2, 3}\n",
      "{1, 2, 3}\n",
      "{8, 9, 10, 7}\n"
     ]
    }
   ],
   "source": [
    "#差，去除相同的，留下独有的\n",
    "print(a_set.difference(b_set))\n",
    "print(a_set - b_set)\n",
    "print(b_set - a_set)"
   ]
  },
  {
   "cell_type": "code",
   "execution_count": 40,
   "id": "0d57ca1d",
   "metadata": {},
   "outputs": [
    {
     "name": "stdout",
     "output_type": "stream",
     "text": [
      "{1, 2, 3, 7, 8, 9, 10}\n",
      "{1, 2, 3, 7, 8, 9, 10}\n"
     ]
    }
   ],
   "source": [
    "#补，双方独有的\n",
    "print(a_set.symmetric_difference(b_set))\n",
    "print(a_set^b_set)"
   ]
  },
  {
   "cell_type": "code",
   "execution_count": 41,
   "id": "9d172992",
   "metadata": {},
   "outputs": [
    {
     "ename": "TypeError",
     "evalue": "'set' object does not support item assignment",
     "output_type": "error",
     "traceback": [
      "\u001b[1;31m---------------------------------------------------------------------------\u001b[0m",
      "\u001b[1;31mTypeError\u001b[0m                                 Traceback (most recent call last)",
      "\u001b[1;32m<ipython-input-41-e91278d4e98c>\u001b[0m in \u001b[0;36m<module>\u001b[1;34m\u001b[0m\n\u001b[0;32m      1\u001b[0m \u001b[0ma\u001b[0m \u001b[1;33m=\u001b[0m \u001b[1;33m{\u001b[0m\u001b[1;36m1\u001b[0m\u001b[1;33m,\u001b[0m\u001b[1;36m2\u001b[0m\u001b[1;33m,\u001b[0m\u001b[1;36m3\u001b[0m\u001b[1;33m,\u001b[0m\u001b[1;36m4\u001b[0m\u001b[1;33m}\u001b[0m\u001b[1;33m\u001b[0m\u001b[1;33m\u001b[0m\u001b[0m\n\u001b[1;32m----> 2\u001b[1;33m \u001b[0ma\u001b[0m\u001b[1;33m[\u001b[0m\u001b[1;36m0\u001b[0m\u001b[1;33m]\u001b[0m \u001b[1;33m=\u001b[0m \u001b[1;36m5\u001b[0m\u001b[1;33m\u001b[0m\u001b[1;33m\u001b[0m\u001b[0m\n\u001b[0m\u001b[0;32m      3\u001b[0m \u001b[0mprint\u001b[0m\u001b[1;33m(\u001b[0m\u001b[0ma\u001b[0m\u001b[1;33m)\u001b[0m\u001b[1;33m\u001b[0m\u001b[1;33m\u001b[0m\u001b[0m\n",
      "\u001b[1;31mTypeError\u001b[0m: 'set' object does not support item assignment"
     ]
    }
   ],
   "source": [
    "a = {1,2,3,4}\n",
    "a[0] = 5   #不能改，报错\n",
    "print(a)"
   ]
  }
 ],
 "metadata": {
  "kernelspec": {
   "display_name": "Python 3",
   "language": "python",
   "name": "python3"
  },
  "language_info": {
   "codemirror_mode": {
    "name": "ipython",
    "version": 3
   },
   "file_extension": ".py",
   "mimetype": "text/x-python",
   "name": "python",
   "nbconvert_exporter": "python",
   "pygments_lexer": "ipython3",
   "version": "3.8.8"
  }
 },
 "nbformat": 4,
 "nbformat_minor": 5
}
