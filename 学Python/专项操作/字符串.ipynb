{
 "cells": [
  {
   "cell_type": "markdown",
   "id": "72d6d15d",
   "metadata": {},
   "source": [
    "# String (type str)\n",
    "string is collection of **characters**, a string of characters, with a pair of quotation marks'',\"\"  \n",
    "**characters** are any keystrokes"
   ]
  },
  {
   "cell_type": "code",
   "execution_count": 10,
   "id": "1d1b0309",
   "metadata": {},
   "outputs": [
    {
     "name": "stdout",
     "output_type": "stream",
     "text": [
      "11\n",
      "3\n",
      "2\n",
      "3\n"
     ]
    }
   ],
   "source": [
    "hello_str = \"hello world\"\n",
    "\n",
    "#1.统计字符串长度\n",
    "print(len(hello_str))\n",
    "\n",
    "#2.统计某一个小字符串出现的次数\n",
    "print(hello_str.count('l'))\n",
    "\n",
    "#3.某一个子字符串第一次出现的位置\n",
    "print(hello_str.index('l'))\n",
    "print(hello_str.index('lo'))"
   ]
  },
  {
   "cell_type": "markdown",
   "id": "9c666743",
   "metadata": {},
   "source": [
    "## String操作类型 -- 判断 is"
   ]
  },
  {
   "cell_type": "code",
   "execution_count": 12,
   "id": "3b57f006",
   "metadata": {
    "scrolled": true
   },
   "outputs": [
    {
     "name": "stdout",
     "output_type": "stream",
     "text": [
      "True\n"
     ]
    }
   ],
   "source": [
    "#1.判断空白字符\n",
    "space_str = ' \\t\\n\\r'   #\\t\\r等换行类字符也是空白字符\n",
    "print(space_str.isspace())"
   ]
  },
  {
   "cell_type": "code",
   "execution_count": 21,
   "id": "b11320b9",
   "metadata": {},
   "outputs": [
    {
     "name": "stdout",
     "output_type": "stream",
     "text": [
      "一\n",
      "False\n",
      "False\n",
      "True\n"
     ]
    }
   ],
   "source": [
    "#2.判断字符串中是否只包含数字\n",
    "num_str = \"一\"\n",
    "\n",
    "print(num_str)\n",
    "print(num_str.isdecimal())   #只包含数字\n",
    "print(num_str.isdigit())     #只包含数字，unicode字符串\n",
    "print(num_str.isnumeric())   #只包含数字，可以是汉字"
   ]
  },
  {
   "cell_type": "markdown",
   "id": "c8390946",
   "metadata": {},
   "source": [
    "## 查找替换"
   ]
  },
  {
   "cell_type": "code",
   "execution_count": 29,
   "id": "46c20439",
   "metadata": {},
   "outputs": [
    {
     "name": "stdout",
     "output_type": "stream",
     "text": [
      "True\n",
      "True\n",
      "2\n",
      "-1\n",
      "hello world\n",
      "hello python\n"
     ]
    }
   ],
   "source": [
    "hello_str = \"hello world\"\n",
    "\n",
    "#1.判断是否以制定字符串开始\n",
    "print(hello_str.startswith(\"hell\"))\n",
    "\n",
    "#2.判断是否以指定字符串结束\n",
    "print(hello_str.endswith('ld'))\n",
    "\n",
    "#3.查找指定字符串\n",
    "print(hello_str.find('ll'))  #类似index，但find如果找不到会返回-1\n",
    "print(hello_str.find('aaa'))\n",
    "\n",
    "#4.替换字符串\n",
    "#replace方法执行完成之后会返回一个新字符串，但不会修改原有字符串内容\n",
    "hello_str.replace('world','python')\n",
    "print(hello_str)\n",
    "print(hello_str.replace('world','python'))"
   ]
  },
  {
   "cell_type": "markdown",
   "id": "a79e2aa0",
   "metadata": {},
   "source": [
    "## 文本对齐"
   ]
  },
  {
   "cell_type": "code",
   "execution_count": 13,
   "id": "5df571ed",
   "metadata": {},
   "outputs": [
    {
     "name": "stdout",
     "output_type": "stream",
     "text": [
      "|　　　登鹳雀楼　　　|\n",
      "|　　　王之涣　　　　|\n",
      "|　　白日依山尽　　　|\n",
      "|　　黄河入海流　　　|\n",
      "|　　欲穷千里目　　　|\n",
      "|　　更上一层楼　　　|\n",
      "|登鹳雀楼      |\n",
      "|王之涣       |\n",
      "|白日依山尽     |\n",
      "|黄河入海流     |\n",
      "|欲穷千里目     |\n",
      "|更上一层楼     |\n"
     ]
    }
   ],
   "source": [
    "poem = [\"登鹳雀楼\",'王之涣','白日依山尽','黄河入海流','欲穷千里目','更上一层楼']\n",
    "for poem_str in poem:\n",
    "    print(\"|%s|\"%poem_str.center(10,\"　\"))   #居中对齐\n",
    "    \n",
    "for poem_str in poem:\n",
    "    print(\"|%s|\"%poem_str.ljust(10,\" \"))  #靠左对齐\n",
    "    "
   ]
  },
  {
   "cell_type": "markdown",
   "id": "f09375d7",
   "metadata": {},
   "source": [
    "## 去除空白字符"
   ]
  },
  {
   "cell_type": "code",
   "execution_count": 20,
   "id": "dfedbf09",
   "metadata": {},
   "outputs": [
    {
     "name": "stdout",
     "output_type": "stream",
     "text": [
      "   登鹳雀楼   \n",
      "   王之涣    \n",
      "  白日依山尽   \n",
      "  黄河入海流   \n",
      "  欲穷千里目   \n",
      "  更上一层楼   \n"
     ]
    }
   ],
   "source": [
    "poem = [\"\\t\\n登鹳雀楼\",\n",
    "        '王之涣',\n",
    "        '白日依山尽\\t\\n',\n",
    "        '黄河入海流',\n",
    "        '欲穷千里目',\n",
    "        '更上一层楼']\n",
    "\n",
    "for poem_str in poem:\n",
    "    \n",
    "    #先使用strip方法去除字符串中的空白字符，再用center方法居中显示文本\n",
    "    print(\"%s\"%poem_str.strip().center(10))"
   ]
  },
  {
   "cell_type": "markdown",
   "id": "0aa2dd1d",
   "metadata": {},
   "source": [
    "## 拆分拼接字符串"
   ]
  },
  {
   "cell_type": "code",
   "execution_count": 25,
   "id": "22e58edc",
   "metadata": {},
   "outputs": [
    {
     "name": "stdout",
     "output_type": "stream",
     "text": [
      "白日依山尽 黄河入海流\t欲穷千里目\t更上一层楼\n",
      "\n",
      "['白日依山尽', '黄河入海流', '欲穷千里目', '更上一层楼']\n",
      "白日依山尽 黄河入海流 欲穷千里目 更上一层楼\n"
     ]
    }
   ],
   "source": [
    "poem_str = \"白日依山尽 黄河入海流\\t欲穷千里目\\t更上一层楼\\n\"\n",
    "print(poem_str)\n",
    "\n",
    "#1.拆分字符串\n",
    "poem_list = poem_str.split()  #不输入参数，会默认以空字符串拆分\n",
    "print(poem_list)\n",
    "\n",
    "#2.合并字符串\n",
    "result = \" \".join(poem_list)    #以\" \"作为分隔符，返回列表\n",
    "print(result)"
   ]
  },
  {
   "cell_type": "markdown",
   "id": "d3df1ae8",
   "metadata": {},
   "source": [
    "## 字符串切片"
   ]
  },
  {
   "cell_type": "code",
   "execution_count": 29,
   "id": "196a6598",
   "metadata": {},
   "outputs": [
    {
     "name": "stdout",
     "output_type": "stream",
     "text": [
      "1 1357\n",
      "2 456789\n",
      "3 123\n",
      "4 147\n",
      "5 456789\n",
      "6 8\n",
      "7 987654321\n",
      "8 123456789\n",
      "9 78\n",
      "10 98\n"
     ]
    }
   ],
   "source": [
    "#slicing切片\n",
    "\n",
    "a = '123456789'\n",
    "print(\"1\",a[0:8:2])  #0-8,以2为步长\n",
    "print(\"2\",a[3:])#从3位置开始\n",
    "print(\"3\",a[:3])#到3位置且不包括\n",
    "print(\"4\",a[::3])  #冒号参数省略了\n",
    "print(\"5\",a[3::])\n",
    "print(\"6\",a[-2])# 也可以反过来\n",
    "print(\"7\",a[-1::-1]) #以-1为步长切片相当于反着切，即倒转，也可以把前边的-1省略\n",
    "print(\"8\",a[::])\n",
    "print(\"9\",a[-3:-1:1])\n",
    "print(\"10\",a[-1:-3:-1])  #按顺序切，否则切不出来"
   ]
  },
  {
   "cell_type": "code",
   "execution_count": 4,
   "id": "077a8202",
   "metadata": {},
   "outputs": [
    {
     "data": {
      "text/plain": [
       "'HELLO WORLD'"
      ]
     },
     "execution_count": 4,
     "metadata": {},
     "output_type": "execute_result"
    }
   ],
   "source": [
    "s.upper()"
   ]
  },
  {
   "cell_type": "code",
   "execution_count": 5,
   "id": "98c98156",
   "metadata": {},
   "outputs": [
    {
     "data": {
      "text/plain": [
       "'hello world'"
      ]
     },
     "execution_count": 5,
     "metadata": {},
     "output_type": "execute_result"
    }
   ],
   "source": [
    "s.lower()"
   ]
  },
  {
   "cell_type": "code",
   "execution_count": 3,
   "id": "678ca561",
   "metadata": {},
   "outputs": [
    {
     "name": "stdout",
     "output_type": "stream",
     "text": [
      "3\n",
      "0\n"
     ]
    }
   ],
   "source": [
    "print(s.count('l'))\n",
    "print(s.count('L'))   #需要精确定位，区分大小写)"
   ]
  },
  {
   "cell_type": "code",
   "execution_count": 16,
   "id": "e66c62ac",
   "metadata": {},
   "outputs": [
    {
     "name": "stdout",
     "output_type": "stream",
     "text": [
      "['Hello', 'World']\n",
      "['He', '', 'o Wor', 'd']\n",
      "1538140087024\n"
     ]
    }
   ],
   "source": [
    "print(s.split())   #无参数就是默认以空格分开成str，逗号隔开并返回列表\n",
    "print(s.split(\"l\"))  #有参数以参数分开，ll连起来的，所以中间是一个空str\n",
    "print(id(\"\"))"
   ]
  },
  {
   "cell_type": "code",
   "execution_count": 26,
   "id": "abcefa8f",
   "metadata": {},
   "outputs": [
    {
     "name": "stdout",
     "output_type": "stream",
     "text": [
      "hello my name is cxw\n",
      "Hello World\n",
      "ello World\n",
      "Hello World\n"
     ]
    },
    {
     "data": {
      "text/plain": [
       "'Hello Worl'"
      ]
     },
     "execution_count": 26,
     "metadata": {},
     "output_type": "execute_result"
    }
   ],
   "source": [
    "s1 = \"  hello my name is cxw   \"\n",
    "print(s1.strip())   #移除str头尾指定character默认为空格\n",
    "print(s.strip('h'))\n",
    "print(s.strip('H'))\n",
    "# print(s.strip('H','d'))  #只能有一个参数\n",
    "print(s.strip(\"o\"))   #o 不在首位，不删除\n",
    "s.strip('d')"
   ]
  },
  {
   "cell_type": "code",
   "execution_count": 29,
   "id": "dff3bad4",
   "metadata": {},
   "outputs": [
    {
     "name": "stdout",
     "output_type": "stream",
     "text": [
      "Hell0 W0rld\n",
      "Hell0 World\n"
     ]
    }
   ],
   "source": [
    "print(s.replace('o','0'))  #将所有o 替换成0\n",
    "print(s.replace('o','0',1))  #后边的参数1是最多替换1次"
   ]
  },
  {
   "cell_type": "code",
   "execution_count": 33,
   "id": "6af473b5",
   "metadata": {},
   "outputs": [
    {
     "name": "stdout",
     "output_type": "stream",
     "text": [
      "False\n",
      "True\n"
     ]
    }
   ],
   "source": [
    "print(s.isalpha()) #s中都是文字，s中有空格\n",
    "s2 = 'helloWorld'\n",
    "print(s2.isalpha())"
   ]
  },
  {
   "cell_type": "code",
   "execution_count": 37,
   "id": "3a36b2af",
   "metadata": {},
   "outputs": [
    {
     "name": "stdout",
     "output_type": "stream",
     "text": [
      "False\n",
      "True\n"
     ]
    }
   ],
   "source": [
    "print(s.isdigit()) #s中都是数字\n",
    "s2 = '1233'\n",
    "print(s2.isdigit())"
   ]
  },
  {
   "cell_type": "code",
   "execution_count": 42,
   "id": "b031776f",
   "metadata": {},
   "outputs": [
    {
     "data": {
      "text/plain": [
       "'1 hello world'"
      ]
     },
     "execution_count": 42,
     "metadata": {},
     "output_type": "execute_result"
    }
   ],
   "source": [
    "s3 = '1 hello world'\n",
    "s3.capitalize()  #str第一个字符大写，如果第一个字符是空格或数字就完了"
   ]
  },
  {
   "cell_type": "code",
   "execution_count": 55,
   "id": "98cf9bc4",
   "metadata": {},
   "outputs": [
    {
     "name": "stdout",
     "output_type": "stream",
     "text": [
      "True\n",
      "True\n",
      "True\n",
      "True\n"
     ]
    }
   ],
   "source": [
    "print(s.endswith('')) #判断str后边是否以制定参数为结尾，\n",
    "print(s.endswith('d'))\n",
    "s2 = \"ss  \"\n",
    "print(s2.endswith(' '))\n",
    "print(s.endswith('o',0,5))  #0开始，5位置结束，不包括5"
   ]
  },
  {
   "cell_type": "code",
   "execution_count": 67,
   "id": "c0ca2903",
   "metadata": {},
   "outputs": [
    {
     "name": "stdout",
     "output_type": "stream",
     "text": [
      "-1\n",
      "0\n",
      "4\n",
      "3\n",
      "7\n"
     ]
    }
   ],
   "source": [
    "print(s.find('h'))  #寻找是否有要查找的，没有则返回-1\n",
    "print(s.find('H'))\n",
    "print(s.find('o'))  #有多个o的时候返回第一个找到的\n",
    "print(s.find('lo'))  #字符组合时返回发现的位置\n",
    "print(s.find('o',5,len(s)))  #从5开始，len(s)结束"
   ]
  },
  {
   "cell_type": "code",
   "execution_count": 71,
   "id": "c1a6336c",
   "metadata": {},
   "outputs": [
    {
     "ename": "ValueError",
     "evalue": "substring not found",
     "output_type": "error",
     "traceback": [
      "\u001b[1;31m---------------------------------------------------------------------------\u001b[0m",
      "\u001b[1;31mValueError\u001b[0m                                Traceback (most recent call last)",
      "\u001b[1;32m<ipython-input-71-5e7a9af31aa3>\u001b[0m in \u001b[0;36m<module>\u001b[1;34m\u001b[0m\n\u001b[1;32m----> 1\u001b[1;33m \u001b[0ms\u001b[0m\u001b[1;33m.\u001b[0m\u001b[0mindex\u001b[0m\u001b[1;33m(\u001b[0m\u001b[1;34m\"2\"\u001b[0m\u001b[1;33m)\u001b[0m \u001b[1;31m#与find一样，找不到会报错\u001b[0m\u001b[1;33m\u001b[0m\u001b[1;33m\u001b[0m\u001b[0m\n\u001b[0m",
      "\u001b[1;31mValueError\u001b[0m: substring not found"
     ]
    }
   ],
   "source": [
    "s.index(\"2\") #与find一样，找不到会报错"
   ]
  },
  {
   "cell_type": "code",
   "execution_count": 89,
   "id": "c9f18258",
   "metadata": {},
   "outputs": [
    {
     "name": "stdout",
     "output_type": "stream",
     "text": [
      "s-1-2-3-s-d-d-d\n",
      "s d a s a d a\n",
      "1-s-2-nn\n"
     ]
    }
   ],
   "source": [
    "s1 = '-'\n",
    "print(s1.join('s123sddd'))\n",
    "s2 = ' '\n",
    "print(s2.join('sdasada'))\n",
    "\n",
    "s.join('asss')\n",
    "seq = ['1','s','2','nn']\n",
    "print(s1.join(seq))    #以s1为链接，链接（）中的连续序列：str，list，tuple，返回新str！"
   ]
  },
  {
   "cell_type": "code",
   "execution_count": 95,
   "id": "fb24f411",
   "metadata": {},
   "outputs": [
    {
     "name": "stdout",
     "output_type": "stream",
     "text": [
      "gerocui\n",
      "gero cui\n"
     ]
    },
    {
     "ename": "TypeError",
     "evalue": "unsupported operand type(s) for -: 'str' and 'str'",
     "output_type": "error",
     "traceback": [
      "\u001b[1;31m---------------------------------------------------------------------------\u001b[0m",
      "\u001b[1;31mTypeError\u001b[0m                                 Traceback (most recent call last)",
      "\u001b[1;32m<ipython-input-95-ead3c12e38ae>\u001b[0m in \u001b[0;36m<module>\u001b[1;34m\u001b[0m\n\u001b[0;32m      3\u001b[0m \u001b[0mprint\u001b[0m\u001b[1;33m(\u001b[0m\u001b[0mf1\u001b[0m \u001b[1;33m+\u001b[0m \u001b[0mf2\u001b[0m\u001b[1;33m)\u001b[0m\u001b[1;33m\u001b[0m\u001b[1;33m\u001b[0m\u001b[0m\n\u001b[0;32m      4\u001b[0m \u001b[0mprint\u001b[0m\u001b[1;33m(\u001b[0m\u001b[0mf1\u001b[0m \u001b[1;33m+\u001b[0m \u001b[1;34m' '\u001b[0m\u001b[1;33m+\u001b[0m \u001b[0mf2\u001b[0m\u001b[1;33m)\u001b[0m \u001b[1;31m#str的简单加\u001b[0m\u001b[1;33m\u001b[0m\u001b[1;33m\u001b[0m\u001b[0m\n\u001b[1;32m----> 5\u001b[1;33m \u001b[0mf1\u001b[0m \u001b[1;33m-\u001b[0m \u001b[0mf2\u001b[0m\u001b[1;33m\u001b[0m\u001b[1;33m\u001b[0m\u001b[0m\n\u001b[0m",
      "\u001b[1;31mTypeError\u001b[0m: unsupported operand type(s) for -: 'str' and 'str'"
     ]
    }
   ],
   "source": [
    "f1 = \"gero\"\n",
    "f2 = \"cui\"\n",
    "print(f1 + f2)\n",
    "print(f1 + ' '+ f2) #str的简单加"
   ]
  },
  {
   "cell_type": "code",
   "execution_count": 96,
   "id": "2465c82c",
   "metadata": {},
   "outputs": [
    {
     "data": {
      "text/plain": [
       "'e'"
      ]
     },
     "execution_count": 96,
     "metadata": {},
     "output_type": "execute_result"
    }
   ],
   "source": [
    "s[1]  #直接提取该位置上的字符"
   ]
  },
  {
   "cell_type": "code",
   "execution_count": 138,
   "id": "ea45f261",
   "metadata": {},
   "outputs": [
    {
     "name": "stdout",
     "output_type": "stream",
     "text": [
      "el\n",
      "1 1357\n",
      "2 456789\n",
      "3 123\n",
      "4 147\n",
      "5 456789\n",
      "6 8\n",
      "7 987654321\n",
      "8 123456789\n",
      "9 78\n",
      "10 98\n"
     ]
    }
   ],
   "source": [
    "#slicing切片\n",
    "print(s[1:3])\n",
    "a = '123456789'\n",
    "print(\"1\",a[0:8:2])  #0-8,以2为步长\n",
    "print(\"2\",a[3:])#从3位置开始\n",
    "print(\"3\",a[:3])#到3位置且不包括\n",
    "print(\"4\",a[::3])  #冒号参数省略了\n",
    "print(\"5\",a[3::])\n",
    "print(\"6\",a[-2])# 也可以反过来\n",
    "print(\"7\",a[::-1]) #以-1为步长切片相当于反着切，即倒转\n",
    "print(\"8\",a[::])\n",
    "print(\"9\",a[-3:-1:1])\n",
    "print(\"10\",a[-1:-3:-1])  #按顺序切，否则切不出来"
   ]
  }
 ],
 "metadata": {
  "kernelspec": {
   "display_name": "Python 3",
   "language": "python",
   "name": "python3"
  },
  "language_info": {
   "codemirror_mode": {
    "name": "ipython",
    "version": 3
   },
   "file_extension": ".py",
   "mimetype": "text/x-python",
   "name": "python",
   "nbconvert_exporter": "python",
   "pygments_lexer": "ipython3",
   "version": "3.8.8"
  }
 },
 "nbformat": 4,
 "nbformat_minor": 5
}
