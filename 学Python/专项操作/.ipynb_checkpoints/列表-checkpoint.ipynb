{
 "cells": [
  {
   "cell_type": "code",
   "execution_count": 14,
   "id": "e09598c8",
   "metadata": {},
   "outputs": [
    {
     "name": "stdout",
     "output_type": "stream",
     "text": [
      "2\n",
      "[2, '3']\n",
      "[1, 2, '3', 'H']\n",
      "['H', 'hello', ['ss', 'abc', '2', 12]]\n",
      "[['ss', 'abc', '2', 12], 'hello', 'H', '3', 2, 1]\n",
      "[12, '2', 'abc', 'ss']\n",
      "True\n"
     ]
    }
   ],
   "source": [
    "ls = [1,2,'3','H','hello',['ss','abc','2',12]]\n",
    "print(ls[1])\n",
    "print(ls[1:3])\n",
    "print(ls[:4])\n",
    "print(ls[3:])\n",
    "print(ls[::-1])\n",
    "print(ls[::-1][0][::-1])\n",
    "print(1 in ls)"
   ]
  },
  {
   "cell_type": "code",
   "execution_count": 20,
   "id": "78daccff",
   "metadata": {},
   "outputs": [
    {
     "data": {
      "text/plain": [
       "['sss', 'fdf', 53, 1, 2, 3]"
      ]
     },
     "execution_count": 20,
     "metadata": {},
     "output_type": "execute_result"
    }
   ],
   "source": [
    "ls1 = [1,2,3]\n",
    "ls2 = ['sss','fdf',53]\n",
    "ls3 = ls2 +ls1\n",
    "ls3"
   ]
  },
  {
   "cell_type": "code",
   "execution_count": 22,
   "id": "ce971ccb",
   "metadata": {},
   "outputs": [
    {
     "data": {
      "text/plain": [
       "[1, 1, 1, 1, 1, 1]"
      ]
     },
     "execution_count": 22,
     "metadata": {},
     "output_type": "execute_result"
    }
   ],
   "source": [
    "a_list = [1]*6\n",
    "a_list  #这里边每个1都是同一个存储位置"
   ]
  },
  {
   "cell_type": "markdown",
   "id": "20fee683",
   "metadata": {},
   "source": [
    "### 增 .append(item)  .insert(index,item)"
   ]
  },
  {
   "cell_type": "code",
   "execution_count": 30,
   "id": "7dda12bb",
   "metadata": {},
   "outputs": [
    {
     "name": "stdout",
     "output_type": "stream",
     "text": [
      "[1, 2, '3', 'H', 'hello', ['ss', 'abc', '2', 12], 'woshi']\n",
      "[1, 2, 'woshi', '3', 'H', 'hello', ['ss', 'abc', '2', 12], 'woshi']\n"
     ]
    }
   ],
   "source": [
    "ls = [1,2,'3','H','hello',['ss','abc','2',12]]\n",
    "ls.append('woshi')\n",
    "print(ls)\n",
    "ls.insert(2,'woshi')   #在制定位置：2 增加元素\n",
    "print(ls)"
   ]
  },
  {
   "cell_type": "code",
   "execution_count": 34,
   "id": "236bf3f1",
   "metadata": {},
   "outputs": [
    {
     "name": "stdout",
     "output_type": "stream",
     "text": [
      "['ss', 'abc', '2', 12]\n",
      "[1, 2, '3', 'H', 'hello']\n"
     ]
    },
    {
     "data": {
      "text/plain": [
       "'3'"
      ]
     },
     "execution_count": 34,
     "metadata": {},
     "output_type": "execute_result"
    }
   ],
   "source": [
    "#删\n",
    "ls = [1,2,'3','H','hello',['ss','abc','2',12]]\n",
    "print(ls.pop())    #如无参数，删除最后一个元素并return it\n",
    "print(ls)          #此时ls已经变了\n",
    "ls = [1,2,'3','H','hello',['ss','abc','2',12]]\n",
    "ls.pop(2)          #加参数就是取出对应位置的元素"
   ]
  },
  {
   "cell_type": "code",
   "execution_count": 44,
   "id": "68ab4abb",
   "metadata": {},
   "outputs": [
    {
     "name": "stdout",
     "output_type": "stream",
     "text": [
      "[1, '3', 'H', 'hello', ['ss', 'abc', '2', 12]]\n"
     ]
    },
    {
     "data": {
      "text/plain": [
       "[1, 2, '3', 'H', 'hello', ['ss', 'abc', '2']]"
      ]
     },
     "execution_count": 44,
     "metadata": {},
     "output_type": "execute_result"
    }
   ],
   "source": [
    "ls = [1,2,'3','H','hello',['ss','abc','2',12]]\n",
    "ls.remove(2)   #只能有一个参数，没有返回值\n",
    "print(ls)      #删除遇到的第一个1\n",
    "# ls.remove(12)   #列表中的列表元素不能用这个删除\n",
    "ls = [1,2,'3','H','hello',['ss','abc','2',12]]\n",
    "ls[5].remove(12) #先定位再删除\n",
    "ls"
   ]
  },
  {
   "cell_type": "code",
   "execution_count": 52,
   "id": "ae0611c4",
   "metadata": {},
   "outputs": [
    {
     "name": "stdout",
     "output_type": "stream",
     "text": [
      "[1, 2, 4, 8, 23, 65]\n",
      "[65, 23, 8, 4, 2, 1]\n"
     ]
    }
   ],
   "source": [
    "ls = [1,2,'3','H','hello',['ss','abc','2',12]]\n",
    "# ls.sort(reverse=False)   #排序,false升序，不同类型不能排序\n",
    "ls = [2,1,4,65,23,8]\n",
    "ls.sort()   #默认false升序\n",
    "print(ls)\n",
    "ls.sort(reverse=True)\n",
    "print(ls)\n"
   ]
  },
  {
   "cell_type": "code",
   "execution_count": 55,
   "id": "11565c6a",
   "metadata": {},
   "outputs": [
    {
     "data": {
      "text/plain": [
       "[['ss', 'abc', '2', 12], 'hello', 'H', '3', 2, 1]"
      ]
     },
     "execution_count": 55,
     "metadata": {},
     "output_type": "execute_result"
    }
   ],
   "source": [
    "ls = [1,2,'3','H','hello',['ss','abc','2',12]]\n",
    "ls.reverse()  #置换无返回值\n",
    "ls"
   ]
  },
  {
   "cell_type": "code",
   "execution_count": 58,
   "id": "e6a2db1c",
   "metadata": {},
   "outputs": [
    {
     "data": {
      "text/plain": [
       "[]"
      ]
     },
     "execution_count": 58,
     "metadata": {},
     "output_type": "execute_result"
    }
   ],
   "source": [
    "ls = [1,2,'3','H','hello',['ss','abc','2',12]]\n",
    "ls.clear()   #清空列表\n",
    "ls"
   ]
  },
  {
   "cell_type": "code",
   "execution_count": 64,
   "id": "76c698a1",
   "metadata": {},
   "outputs": [
    {
     "data": {
      "text/plain": [
       "[1, 2, '3', 'H', 'hello', ['ss', 'abc', '2', 12], 2, 3, 4, 'sss']"
      ]
     },
     "execution_count": 64,
     "metadata": {},
     "output_type": "execute_result"
    }
   ],
   "source": [
    "ls = [1,2,'3','H','hello',['ss','abc','2',12]]\n",
    "ls.extend([2,3,4])   #在列表后边增加序列元素\n",
    "ls\n",
    "ls.extend(['sss'])\n",
    "ls"
   ]
  },
  {
   "cell_type": "code",
   "execution_count": 66,
   "id": "6b269ea1",
   "metadata": {},
   "outputs": [
    {
     "data": {
      "text/plain": [
       "[1, 3.0, 5]"
      ]
     },
     "execution_count": 66,
     "metadata": {},
     "output_type": "execute_result"
    }
   ],
   "source": [
    "num_list = [1,2,3.0,4,5]\n",
    "odd_list = []\n",
    "for i in num_list:\n",
    "    if i%2 != 0:\n",
    "        odd_list.append(i)\n",
    "odd_list"
   ]
  },
  {
   "cell_type": "code",
   "execution_count": 69,
   "id": "e11b8096",
   "metadata": {},
   "outputs": [
    {
     "name": "stdout",
     "output_type": "stream",
     "text": [
      "['This', 'is', 'A', 'sentence']\n",
      "This is A sentence\n"
     ]
    }
   ],
   "source": [
    "simple_list = ['This','is','a','sentence']\n",
    "simple_list[2] = 'A'\n",
    "print(simple_list)\n",
    "print(' '.join(simple_list))"
   ]
  },
  {
   "cell_type": "code",
   "execution_count": 71,
   "id": "6e0fc62e",
   "metadata": {},
   "outputs": [
    {
     "data": {
      "text/plain": [
       "1"
      ]
     },
     "execution_count": 71,
     "metadata": {},
     "output_type": "execute_result"
    }
   ],
   "source": [
    "ls = [1,2,11,'3','H','hello',['ss','abc','2',12,1]]\n",
    "ls.count(1)  #计算元素在列表中出现的次数，与字符串不同，列表中的列表不算"
   ]
  }
 ],
 "metadata": {
  "kernelspec": {
   "display_name": "Python 3",
   "language": "python",
   "name": "python3"
  },
  "language_info": {
   "codemirror_mode": {
    "name": "ipython",
    "version": 3
   },
   "file_extension": ".py",
   "mimetype": "text/x-python",
   "name": "python",
   "nbconvert_exporter": "python",
   "pygments_lexer": "ipython3",
   "version": "3.8.8"
  }
 },
 "nbformat": 4,
 "nbformat_minor": 5
}
