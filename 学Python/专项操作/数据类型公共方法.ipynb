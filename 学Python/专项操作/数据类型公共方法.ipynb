{
 "cells": [
  {
   "cell_type": "markdown",
   "id": "f327b860",
   "metadata": {},
   "source": [
    "## 内置函数len del max min cmp"
   ]
  },
  {
   "cell_type": "markdown",
   "id": "c74c4129",
   "metadata": {},
   "source": [
    "## 切片[M:N:K]  字符，列表，元组"
   ]
  },
  {
   "cell_type": "markdown",
   "id": "6777b69e",
   "metadata": {},
   "source": [
    "## 运算符 + * = > "
   ]
  },
  {
   "cell_type": "markdown",
   "id": "7381943b",
   "metadata": {},
   "source": [
    "## 成员运算符 in、not in（对字典操作是对应的是键）"
   ]
  },
  {
   "cell_type": "markdown",
   "id": "c2b83857",
   "metadata": {},
   "source": [
    "## 完整的for循环-- for else"
   ]
  },
  {
   "cell_type": "markdown",
   "id": "874930cd",
   "metadata": {},
   "source": [
    "### 应用场景\n",
    "在迭代遍历**嵌套**的数据类型时，如：一个列表包含多个字典  \n",
    "判断某一个字典中是否存在指定值，如果存在，提示并退出循环，如果不存在，循环结束后得到统一的提示"
   ]
  },
  {
   "cell_type": "code",
   "execution_count": 9,
   "id": "c7fd5e5f",
   "metadata": {},
   "outputs": [
    {
     "name": "stdout",
     "output_type": "stream",
     "text": [
      "{'name': 'atu'}\n",
      "{'name': 'xiaoma'}\n",
      "無\n",
      "循环结束\n"
     ]
    }
   ],
   "source": [
    "students = [{'name':\"atu\"},{'name':'xiaoma'}]\n",
    "find_name = \"\"\n",
    "for stu_dict in students:\n",
    "    \n",
    "    print(stu_dict)\n",
    "    \n",
    "    if stu_dict['name']  == find_name:\n",
    "        print('找到了')\n",
    "        \n",
    "        #如果已经找到，应该直接退出循环，而不遍历后续元素\n",
    "        break\n",
    "else:       #如果没找到，会执行else，否则不会\n",
    "        print('無')\n",
    "    \n",
    "print('循环结束')"
   ]
  }
 ],
 "metadata": {
  "kernelspec": {
   "display_name": "Python 3",
   "language": "python",
   "name": "python3"
  },
  "language_info": {
   "codemirror_mode": {
    "name": "ipython",
    "version": 3
   },
   "file_extension": ".py",
   "mimetype": "text/x-python",
   "name": "python",
   "nbconvert_exporter": "python",
   "pygments_lexer": "ipython3",
   "version": "3.8.8"
  }
 },
 "nbformat": 4,
 "nbformat_minor": 5
}
