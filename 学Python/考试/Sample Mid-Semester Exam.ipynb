{
 "cells": [
  {
   "cell_type": "markdown",
   "metadata": {
    "id": "iS9fSRHzk5UO"
   },
   "source": [
    "# Sample Mid Semester Exam Questions"
   ]
  },
  {
   "cell_type": "markdown",
   "metadata": {
    "id": "c5uhPH8S650A"
   },
   "source": [
    "## 1. String Manipulation"
   ]
  },
  {
   "cell_type": "markdown",
   "metadata": {
    "id": "mxWUw3X8650B"
   },
   "source": [
    "Write a funtion `def convertString(str_list, N):` that takes in a list of strings(`str_list`) and an integer (`N`) and convert the string into uppercase if the length of string is greater than N. The function will return the converted list.\n",
    "\n",
    "<b>Example 1</b>\n",
    "\n",
    "* <b>Input:  </b> String_list = [“Programming”, “Coding”, “Python”, “Hello”], N = 7\n",
    "\n",
    "* <b>Output:  </b> [“PROGRAMMING”, “Coding”, “Python”, “Hello”]\n",
    "\n",
    "* <b>Explanation:  </b> Length of “Programming” is 12, which is greater than 7. Other string have less than 7 string length.\n",
    "\n",
    "<b>Example 2</b>\n",
    "\n",
    "* <b>Input:  </b> String_list = [“Range”, “Python”, “Hello”], N = 6\n",
    "\n",
    "* <b>Output:  </b> [“Range”, “Python”, “Hello”]\n",
    "\n",
    "* <b>Explanation:  </b> No string have greater than 6 string length.\n"
   ]
  },
  {
   "cell_type": "code",
   "execution_count": 8,
   "metadata": {},
   "outputs": [
    {
     "data": {
      "text/plain": [
       "['PROGRAMMING', 'Coding', 'Python', 'Hello']"
      ]
     },
     "execution_count": 8,
     "metadata": {},
     "output_type": "execute_result"
    }
   ],
   "source": [
    "str_list = ['Programming', 'Coding', 'Python', 'Hello']\n",
    "len(str_list)\n",
    "len(str_list[0])\n",
    "str_list[0] = str_list[0].upper()\n",
    "str_list"
   ]
  },
  {
   "cell_type": "code",
   "execution_count": 19,
   "metadata": {
    "id": "upFqwrGk650C"
   },
   "outputs": [
    {
     "data": {
      "text/plain": [
       "['PROGRAMMING', 'Coding', 'Python', 'Hello']"
      ]
     },
     "execution_count": 19,
     "metadata": {},
     "output_type": "execute_result"
    }
   ],
   "source": [
    "# Your implementation\n",
    "def convertString(str_list, N):\n",
    "    convertList = []\n",
    "    for i in range(len(str_list)):\n",
    "        if len(str_list[i])>N:\n",
    "            str_list[i] = str_list[i].upper()\n",
    "    return str_list\n",
    "String_list = ['Programming','Coding','Python','Hello']\n",
    "convertString(['Programming','Coding','Python','Hello'],N = 7)\n",
    "            "
   ]
  },
  {
   "cell_type": "markdown",
   "metadata": {
    "id": "A_NE3rt0650G"
   },
   "source": [
    "## 2. DataTypes"
   ]
  },
  {
   "cell_type": "markdown",
   "metadata": {
    "id": "unSJ3V5k650G"
   },
   "source": [
    "You are given an list of integers. The unique elements of a list are the elements that appear exactly once in the array. Write a function `def sumOfUnique(nums):` that takes `nums` as a list of integers and return the sum of all the unique elements of nums. \n",
    "\n",
    "<b>Example 1</b>\n",
    "\n",
    "* <b>Input:  </b> nums = [1,2,3,2]  \n",
    "\n",
    "* <b>Output:  </b> 4\n",
    "\n",
    "* <b>Explanation:  </b> The unique elements are [1,3], and the sum is 4.\n",
    "\n",
    "<b>Example 2</b>\n",
    "\n",
    "* <b>Input:  </b> nums =  [1,1,1,1,1] \n",
    "\n",
    "* <b>Output:  </b> 0\n",
    "\n",
    "* <b>Explanation:  </b> There are no unique elements, and the sum is 0.\n",
    "\n",
    "<b>Example 3</b>\n",
    "\n",
    "* <b>Input:  </b> nums = [1,2,3,4,5] \n",
    "\n",
    "* <b>Output:  </b> 15\n",
    "\n",
    "* <b>Explanation:  </b> The unique elements are [1,2,3,4,5], and the sum is 15."
   ]
  },
  {
   "cell_type": "code",
   "execution_count": 5,
   "metadata": {
    "id": "GVhVDqRM650H"
   },
   "outputs": [
    {
     "data": {
      "text/plain": [
       "4"
      ]
     },
     "execution_count": 5,
     "metadata": {},
     "output_type": "execute_result"
    }
   ],
   "source": [
    "# Your implementation\n",
    "def sumOfUnique(nums):\n",
    "    ls = []\n",
    "    for i in range(len(nums)):\n",
    "        if nums.count(nums[i])>1:\n",
    "            continue\n",
    "        else:\n",
    "            ls.append(nums[i])\n",
    "    return sum(ls)\n",
    "sumOfUnique([1,2,3,2,])"
   ]
  },
  {
   "cell_type": "markdown",
   "metadata": {
    "id": "NAoMMO_6650J"
   },
   "source": [
    "## 3. Control Structure"
   ]
  },
  {
   "cell_type": "markdown",
   "metadata": {
    "id": "RV-kbXQj650J"
   },
   "source": [
    "Write a function `def divisible(N,denominator):` to print all integer numbers between 0 and `N` (inclusive) that are divisible by `denominator`. Each number that is divisible should be printed on separate lines from largest to smallest. When the function is finished, it should print \"End\".\n",
    "\n",
    "<b> Note </b> If N is less than 1, then instead of the above, the program should print: \"N must be greater than 0.\"\n",
    "\n",
    "\n",
    "<b>Example 1</b>\n",
    "\n",
    "* <b>Input:  </b> N = 10 denominator = 5 \n",
    "\n",
    "* <b>Output:  </b> \n",
    "\n",
    "10 is divisible by 5!\n",
    "\n",
    "5 is divisible by 5!\n",
    "\n",
    "End\n",
    "\n",
    "\n",
    "* <b>Explanation:  </b> Between 0-10 there is two number which is divisible by 5. (i.e., the remainder is 0) 10/5 = 2, 5/5= 1\n",
    "\n",
    "<b>Example 2</b>\n",
    "\n",
    "* <b>Input:  </b> N = 0 denominator = 8 \n",
    "\n",
    "* <b>Output:  </b> \"N must be greater than 0\"\n",
    "\n",
    "* <b>Explanation:  </b> The N can not be 0"
   ]
  },
  {
   "cell_type": "code",
   "execution_count": 42,
   "metadata": {
    "id": "JnDbbrwZ650K"
   },
   "outputs": [],
   "source": [
    "# Your implementation\n",
    "def divisible(N,denominator):\n",
    "    int(N)\n",
    "    if N<1:\n",
    "        print(\"N must be greater than 0\")\n",
    "    elif denominator == 0:\n",
    "        print('denominator must not be 0')\n",
    "    else:\n",
    "        for i in range(N,0,-1):\n",
    "            if i%denominator == 0:\n",
    "                print(\"{} is divisible by {}!\".format(i,denominator))\n",
    "            else:\n",
    "                continue\n",
    "        print(\"End\")\n",
    "    return \n"
   ]
  },
  {
   "cell_type": "code",
   "execution_count": 43,
   "metadata": {},
   "outputs": [
    {
     "name": "stdout",
     "output_type": "stream",
     "text": [
      "10 is divisible by 5!\n",
      "5 is divisible by 5!\n",
      "End\n"
     ]
    }
   ],
   "source": [
    "divisible(10,5)"
   ]
  },
  {
   "cell_type": "code",
   "execution_count": 44,
   "metadata": {},
   "outputs": [
    {
     "name": "stdout",
     "output_type": "stream",
     "text": [
      "21 is divisible by 3!\n",
      "18 is divisible by 3!\n",
      "15 is divisible by 3!\n",
      "12 is divisible by 3!\n",
      "9 is divisible by 3!\n",
      "6 is divisible by 3!\n",
      "3 is divisible by 3!\n",
      "End\n"
     ]
    }
   ],
   "source": [
    "divisible(23,3)"
   ]
  },
  {
   "cell_type": "code",
   "execution_count": 45,
   "metadata": {},
   "outputs": [
    {
     "name": "stdout",
     "output_type": "stream",
     "text": [
      "denominator must not be 0\n"
     ]
    }
   ],
   "source": [
    "divisible(10,0)"
   ]
  },
  {
   "cell_type": "markdown",
   "metadata": {
    "id": "X2ZjgAKl650L"
   },
   "source": [
    "## 4. File Operations"
   ]
  },
  {
   "cell_type": "markdown",
   "metadata": {
    "id": "tnA57rkf650L"
   },
   "source": [
    "Write a function `def checkArmstrong(filename)` that reads the file with `filename` and **prints** out whether numbers in each line of the file are Armstrong numbers or not.\n",
    "\n",
    "<b> Note: </b> An Armstrong number is an integer such that the sum of cubes of its digits is equal to the number itself. For example, 371 is an Armstrong number since 3^3 + 7^3 + 1^3 = 371.\n",
    "\n",
    "<b>Example 1</b>\n",
    "\n",
    "* <b>Input:  </b> file that contains: \n",
    "\n",
    "153\n",
    "\n",
    "130\n",
    "\n",
    "128\n",
    "\n",
    "\n",
    "* <b>Output:  </b> \n",
    "\n",
    "True\n",
    "\n",
    "False\n",
    "\n",
    "False\n",
    "\n",
    "\n",
    "* <b>Explanation:  </b> \n",
    "\n",
    "(1 \\* 1 \\* 1) + (5 \\* 5 \\* 5) + (3 \\* 3 \\* 3) = 153\n",
    "\n",
    "(1 \\* 1 \\* 1) + (3 \\* 3 \\* 3) + (0 \\* 0 \\* 0) = 28\n",
    "\n",
    "(1 \\* 1 \\* 1) + (2 \\* 2 \\* 2) + (8 \\* 8 \\* 8) = 521\n",
    "\n",
    "\n",
    "<b>Example 2</b>\n",
    "\n",
    "* <b>Input:  </b> file that contains:\n",
    "\n",
    "150\n",
    "\n",
    "371\n",
    "\n",
    "343\n",
    "\n",
    "\n",
    "* <b>Output:  </b> \n",
    "\n",
    "False\n",
    "\n",
    "True\n",
    "\n",
    "False\n",
    "\n",
    "\n",
    "* <b>Explanation:  </b> \n",
    "\n",
    "(1 \\* 1 \\* 1) + (5 \\* 5 \\* 5) + (0 \\* 0 \\* 0) = 126\n",
    "\n",
    "(3 \\* 3 \\* 3) + (7 \\* 7 \\* 7) + (1 \\* 1 \\* 1) = 371\n",
    "\n",
    "(3 \\* 3 \\* 3) + (4 \\* 4 \\* 4) + (3 \\* 3 \\* 3) = 118\n"
   ]
  },
  {
   "cell_type": "code",
   "execution_count": 44,
   "metadata": {
    "id": "Pl-hicHm650M"
   },
   "outputs": [
    {
     "name": "stdout",
     "output_type": "stream",
     "text": [
      "True\n",
      "False\n",
      "False\n"
     ]
    }
   ],
   "source": [
    "# Your implementation\n",
    "test = ['153','130','128']\n",
    "with open('test.txt','w') as f:\n",
    "    f.write('\\n'.join(test))\n",
    "def checkArmstrong(filename):\n",
    "    with open(filename,'r') as file:\n",
    "        for i in file.readlines():\n",
    "            i = i.strip()\n",
    "            sum = 0\n",
    "            for item in i:\n",
    "                sum += int(item)**3\n",
    "            if sum == int(i):\n",
    "                print('True') \n",
    "            else:\n",
    "                print('False') \n",
    "checkArmstrong('test.txt')"
   ]
  },
  {
   "cell_type": "markdown",
   "metadata": {
    "id": "QbvW2X--650N"
   },
   "source": [
    "## 5. Class and object"
   ]
  },
  {
   "cell_type": "markdown",
   "metadata": {
    "id": "WP_9N2l-650N"
   },
   "source": [
    "Write a python program to create a class “Student”, which would allow user to enter and store student's information including Name, ID, and list of marks achieved by the student in the specific unit.\n",
    "\n",
    "This Student class contains:\n",
    "\n",
    "*   instance variables required to represent each individual student data. A student should contain:\n",
    "    * name, as a string\n",
    "    * id as a integer\n",
    "    * marks, can be implemented as a dictionary\n",
    "    \n",
    "*   a collection of methods defined for manipulating a student's contact:\n",
    "\n",
    "    *   \\_\\_init\\_\\_ : Contructor method.\n",
    "    *   update_mark: method to update the mark of the specif unit.\n",
    "    *   avg_mark: method to return the average mark of the student.\n",
    "    *   \\_\\_str\\_\\_: use to print all the details of the student in a proper format.\n",
    "    *   \\_\\_eq\\_\\_: use to check if the two objects of student class are same or not.\n",
    "    \n",
    "<b> IMPORTANT </b> After completing the class, you have to test the functionality of each method."
   ]
  },
  {
   "cell_type": "code",
   "execution_count": 6,
   "metadata": {
    "id": "lU5ZHWR-650O"
   },
   "outputs": [],
   "source": [
    "# Your implementation\n",
    "class Student(object):\n",
    "    def __init__(self,name,ID,marks={}):\n",
    "        self.name = name\n",
    "        self.ID = ID\n",
    "        self.marks = marks\n",
    "    def update_mark(self,unit,mark):\n",
    "        self.marks[unit] = mark\n",
    "    def avg_mark(self):\n",
    "        total_marks = 0\n",
    "        total_units = len(self.marks)\n",
    "        for i in self.marks.value():\n",
    "            total_marks += i\n",
    "        avg = total_marks/total_units    \n",
    "        \n",
    "        return avg\n",
    "    def __str__(self):\n",
    "        print(\"{}'s {} grade is {}\".format(self.name,self.ID,self.marks))\n",
    "    def __eq__(self,other):\n",
    "        if isinstance(other,Student):\n",
    "            if other.name == self.name and other.ID == self.ID:\n",
    "                print(\"They are same\")\n",
    "            else:\n",
    "                return False\n",
    "        return True"
   ]
  },
  {
   "cell_type": "code",
   "execution_count": 7,
   "metadata": {},
   "outputs": [],
   "source": [
    "student1 = Student(\"shirin\", 11111, {\"Python\":50, \"Java\":60, \"C+\":80})\n",
    "student3 = Student(\"shirin\", 11111, {\"Python\":50, \"Java\":60, \"C+\":80})\n",
    "student2 = Student(\"lily\", 11111, {\"Python\":10, \"Java\":10, \"C+\":10})"
   ]
  },
  {
   "cell_type": "code",
   "execution_count": 9,
   "metadata": {},
   "outputs": [
    {
     "name": "stdout",
     "output_type": "stream",
     "text": [
      "lily's 11111 grade is {'Python': 10, 'Java': 10, 'C+': 10, 'cs': 20}\n",
      "They are same\n",
      "shirin's 11111 grade is {'Python': 50, 'Java': 60, 'C+': 80}\n"
     ]
    },
    {
     "ename": "TypeError",
     "evalue": "__str__ returned non-string (type NoneType)",
     "output_type": "error",
     "traceback": [
      "\u001b[1;31m---------------------------------------------------------------------------\u001b[0m",
      "\u001b[1;31mTypeError\u001b[0m                                 Traceback (most recent call last)",
      "\u001b[1;32m<ipython-input-9-6fd339a01dfe>\u001b[0m in \u001b[0;36m<module>\u001b[1;34m\u001b[0m\n\u001b[0;32m      3\u001b[0m \u001b[0mf\u001b[0m\u001b[1;33m.\u001b[0m\u001b[0m__str__\u001b[0m\u001b[1;33m(\u001b[0m\u001b[1;33m)\u001b[0m\u001b[1;33m\u001b[0m\u001b[1;33m\u001b[0m\u001b[0m\n\u001b[0;32m      4\u001b[0m \u001b[0mstudent1\u001b[0m\u001b[1;33m.\u001b[0m\u001b[0m__eq__\u001b[0m\u001b[1;33m(\u001b[0m\u001b[0mstudent3\u001b[0m\u001b[1;33m)\u001b[0m\u001b[1;33m\u001b[0m\u001b[1;33m\u001b[0m\u001b[0m\n\u001b[1;32m----> 5\u001b[1;33m \u001b[0mprint\u001b[0m\u001b[1;33m(\u001b[0m\u001b[0mstudent1\u001b[0m\u001b[1;33m)\u001b[0m\u001b[1;33m\u001b[0m\u001b[1;33m\u001b[0m\u001b[0m\n\u001b[0m",
      "\u001b[1;31mTypeError\u001b[0m: __str__ returned non-string (type NoneType)"
     ]
    }
   ],
   "source": [
    "f = Student(\"lily\", 11111, {\"Python\":10, \"Java\":10, \"C+\":10})\n",
    "f.update_mark('cs',20)\n",
    "f.__str__()\n",
    "student1.__eq__(student3)\n",
    "print(student1)"
   ]
  }
 ],
 "metadata": {
  "colab": {
   "authorship_tag": "ABX9TyNim4C898yVCDGDy68F7/HW",
   "collapsed_sections": [],
   "name": "Sample Mid-Semester Exam.ipynb",
   "provenance": []
  },
  "kernelspec": {
   "display_name": "Python 3",
   "language": "python",
   "name": "python3"
  },
  "language_info": {
   "codemirror_mode": {
    "name": "ipython",
    "version": 3
   },
   "file_extension": ".py",
   "mimetype": "text/x-python",
   "name": "python",
   "nbconvert_exporter": "python",
   "pygments_lexer": "ipython3",
   "version": "3.8.8"
  }
 },
 "nbformat": 4,
 "nbformat_minor": 1
}
