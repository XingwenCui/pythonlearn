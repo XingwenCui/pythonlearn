{
 "cells": [
  {
   "cell_type": "markdown",
   "metadata": {
    "id": "YxhTOZC3hsR3"
   },
   "source": [
    "# Lab Activity A - Sample\n",
    "\n",
    "# FIT9136 Algorithms And Programming Foundations In Python - S2 2021"
   ]
  },
  {
   "cell_type": "markdown",
   "metadata": {
    "id": "G6MknhIeq7t4"
   },
   "source": [
    "## Introduction\n",
    "\n",
    "This is a sample lab activity, which **does not contribute to the marks of this unit**.\n",
    "\n",
    "It consists of 1 question in total. \n",
    "\n",
    "**YOU ARE REQUIRED TO PUT COMMENTS THAT CAN EXPLAIN THE LOGIC OF THE CODE.**\n"
   ]
  },
  {
   "cell_type": "markdown",
   "metadata": {
    "id": "H3lxORU0vSBJ"
   },
   "source": [
    "## 1. Permutations and Combinations\n",
    "\n",
    "a) Please write a program that ask the user to enter 2 or more integers split by commas, for example, `1,2,33`. If there are non-integer items in the input, for example `7,88,abc`, then the program will only extract integer items from it, which will be `7` and `88` from the example. Then the program will get all the permutations of 2 elements from all the numerical items from input represented by a list of tuples and print the list.\n",
    "\n",
    "If the input is invalid, then the program will print out 'Invlid input.' instead.\n",
    "\n",
    "<pre>\n",
    "<b>Example 1:</b>\n",
    "Input:\n",
    "1,2,3,1\n",
    "Output:\n",
    "<i>[(1,1),(1,2),(1,3),(2,1),(2,3),(3,1),(3,2)]</i>\n",
    "</pre>\n",
    "\n",
    "<pre>\n",
    "<b>Example 2:</b>\n",
    "Input:\n",
    "1,a\n",
    "Output:\n",
    "<i>Invalid input.</i>\n",
    "</pre>"
   ]
  },
  {
   "cell_type": "code",
   "execution_count": null,
   "metadata": {
    "colab": {
     "base_uri": "https://localhost:8080/"
    },
    "id": "DwnMT1v6LqtB",
    "outputId": "cd711dd4-5501-4229-9b6e-44e0afd7852a"
   },
   "outputs": [
    {
     "name": "stdout",
     "output_type": "stream",
     "text": [
      "Please enter numbers separated by comma:1,2,3,1\n",
      "[(1, 2), (3, 2), (1, 3), (3, 1), (2, 1), (2, 3), (1, 1)]\n"
     ]
    }
   ],
   "source": [
    "# Demo of example 1"
   ]
  },
  {
   "cell_type": "markdown",
   "metadata": {
    "id": "1p3-vqRV6WeZ"
   },
   "source": [
    "<font color='red'><b>Answer</b></font>"
   ]
  },
  {
   "cell_type": "code",
   "execution_count": null,
   "metadata": {
    "id": "v_D7GeI4L8AR"
   },
   "outputs": [],
   "source": [
    "input1 = input('Please enter numbers separated by comma:')\n",
    "input1 = [int(i) for i in input1.split(',') if i.isdigit()] # split input by comma and validate each item is integer or not\n",
    "\n",
    "if len(input1) < 2: # if there are less than 2 valid items\n",
    "    print('invalid input.')\n",
    "else:\n",
    "    input1_permute = []\n",
    "    # use two for-loops to get all permutations of the indices of the input\n",
    "    for idx1 in range(len(input1)):\n",
    "        for idx2 in range(len(input1)):\n",
    "            if idx1 == idx2: # each item can only be used once in a permutation, so idx1 must not equal idx 2\n",
    "                continue\n",
    "            input1_permute.append((input1[idx1], input1[idx2])) # otherwise, append the permutation to our list\n",
    "    input1_permute = list(set(input1_permute)) # there might be some duplicated permutations, we use set to remove those and convert the set back to a list\n",
    "    print(input1_permute)"
   ]
  },
  {
   "cell_type": "markdown",
   "metadata": {
    "id": "V1AVs1D9vn03"
   },
   "source": [
    "b) Please write a program that ask the user to enter 2 or more integers split by commas **for two times**, and stored separately. Then, the program will select 2 numerical items from the first input without replacement, $a$ and $b$, and 2 numerical items from the second input without replacement, $c$ and $d$. Lastly, the program will obtain and print out the maximum value of $\\frac{a}{c}+\\frac{d}{b} - \\frac{a\\times b}{c+d}$ and the values of $a$, $b$, $c$ and $d$ respectively.\n",
    "\n",
    "If the input is invalid, the program will print out 'Invalid input.' and exit.\n",
    "\n",
    "<pre>\n",
    "<b>Example 1:</b>\n",
    "Input 1:\n",
    "<i>1,2,3</i>\n",
    "Input 2:\n",
    "<i>4,9,6,ab</i>\n",
    "Output:\n",
    "<i>max value:9.51923076923077\n",
    "a:3\n",
    "b:1\n",
    "c:4\n",
    "d:9</i>\n",
    "</pre>\n",
    "\n",
    "<pre>\n",
    "<b>Example 1:</b>\n",
    "Input 1:\n",
    "<i>1,2,3</i>\n",
    "Input 2:\n",
    "<i>4,a</i>\n",
    "Output:\n",
    "<i>Invalid input.</i>\n",
    "</pre>"
   ]
  },
  {
   "cell_type": "code",
   "execution_count": null,
   "metadata": {
    "colab": {
     "base_uri": "https://localhost:8080/"
    },
    "id": "vlZSW8jvvQ6R",
    "outputId": "8f09a154-0470-4142-9f30-38e3f10b5847"
   },
   "outputs": [
    {
     "name": "stdout",
     "output_type": "stream",
     "text": [
      "Please enter numbers separated by comma:1,2,3\n",
      "Please enter another set of numbers separated by comma:4,9,6,ab\n",
      "max value:9.51923076923077\n",
      "a:3\n",
      "b:1\n",
      "c:4\n",
      "d:9\n"
     ]
    }
   ],
   "source": [
    "# Demo of example 1"
   ]
  },
  {
   "cell_type": "code",
   "execution_count": null,
   "metadata": {
    "colab": {
     "base_uri": "https://localhost:8080/"
    },
    "id": "cb4qEfrrUCUP",
    "outputId": "35500ffb-3901-4f81-d9d6-8b6a7a3666d1"
   },
   "outputs": [
    {
     "name": "stdout",
     "output_type": "stream",
     "text": [
      "Please enter numbers separated by comma:1,2,3\n",
      "Please enter another set of numbers separated by comma:4,a\n",
      "invalid input.\n"
     ]
    }
   ],
   "source": [
    "# Demo of example 2"
   ]
  },
  {
   "cell_type": "markdown",
   "metadata": {
    "id": "rVGkdFRhUAxu"
   },
   "source": [
    "<font color='red'><b>Answer</b></font>"
   ]
  },
  {
   "cell_type": "code",
   "execution_count": null,
   "metadata": {
    "id": "eh0QFFGAUJN2"
   },
   "outputs": [],
   "source": [
    "input1 = input('Please enter numbers separated by comma:')\n",
    "input2 = input('Please enter another set of numbers separated by comma:')\n",
    "\n",
    "input1 = [int(i) for i in input1.split(',') if i.isdigit()] # split input by comma and validate each item is integer or not\n",
    "input2 = [int(i) for i in input2.split(',') if i.isdigit()]\n",
    "\n",
    "if len(input1) < 2 or len(input2) < 2: # if there are less than 2 valid items\n",
    "    print('invalid input.')\n",
    "\n",
    "else:\n",
    "    input1_permute = []\n",
    "    # use two for-loops to get all permutations of the indices of the input\n",
    "    for idx1 in range(len(input1)):\n",
    "        for idx2 in range(len(input1)):\n",
    "            if idx1 == idx2: # each item can only be used once in a permutation, so idx1 must not equal idx 2\n",
    "                continue\n",
    "            input1_permute.append((input1[idx1], input1[idx2])) # otherwise, append the permutation to our list\n",
    "    input1_permute = list(set(input1_permute)) # there might be some duplicated permutations, we use set to remove those and convert the set back to a list\n",
    "\n",
    "    # get the permutations from input 2\n",
    "    input2_permute = []\n",
    "    for idx1 in range(len(input2)):\n",
    "        for idx2 in range(len(input2)):\n",
    "            if idx1 == idx2:\n",
    "                continue\n",
    "            input2_permute.append((input2[idx1], input2[idx2]))\n",
    "    input2_permute = list(set(input2_permute))\n",
    "\n",
    "    max_value, a, b, c, d = 0, 0, 0, 0, 0\n",
    "    # use two for-loops to get the combinations of permutations of inputs 1 and 2\n",
    "    for per1 in input1_permute:\n",
    "        for per2 in input2_permute:\n",
    "            the_value = per1[0]/per2[0]+per2[1]/per1[1]-(per1[0]*per1[1]/(per2[0] + per2[1])) # calculate the value based on the formula\n",
    "            if the_value > max_value: # if the value is larger than the current maximum value, we update the maximum value, as well as a, b, c, d\n",
    "                max_value = the_value \n",
    "                a = per1[0]\n",
    "                b = per1[1]\n",
    "                c = per2[0]\n",
    "                d = per2[1]\n",
    "\n",
    "    print(f'max value:{max_value}\\na:{a}\\nb:{b}\\nc:{c}\\nd:{d}')"
   ]
  },
  {
   "cell_type": "code",
   "execution_count": null,
   "metadata": {
    "id": "89X4roIiYF7j"
   },
   "outputs": [],
   "source": [
    ""
   ]
  }
 ],
 "metadata": {
  "colab": {
   "collapsed_sections": [],
   "name": "Lab Activity A - Sample(Solution)",
   "provenance": []
  },
  "kernelspec": {
   "display_name": "Python 3",
   "name": "python3"
  },
  "language_info": {
   "name": "python"
  }
 },
 "nbformat": 4,
 "nbformat_minor": 0
}
