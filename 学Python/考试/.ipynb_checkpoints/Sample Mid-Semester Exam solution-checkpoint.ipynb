{
 "cells": [
  {
   "cell_type": "markdown",
   "metadata": {
    "id": "iS9fSRHzk5UO"
   },
   "source": [
    "# Sample Mid Semester Exam Questions"
   ]
  },
  {
   "cell_type": "markdown",
   "metadata": {
    "id": "c5uhPH8S650A"
   },
   "source": [
    "## 1. String Manipulation"
   ]
  },
  {
   "cell_type": "markdown",
   "metadata": {
    "id": "mxWUw3X8650B"
   },
   "source": [
    "Write a funtion `def convertString(str_list, N):` that takes in a list of strings(`str_list`) and an integer (`N`) and convert the string into uppercase if the length of string is greater than N. The function will return the converted list.\n",
    "\n",
    "<b>Example 1</b>\n",
    "\n",
    "* <b>Input:  </b> String_list = [“Programming”, “Coding”, “Python”, “Hello”], N = 7\n",
    "\n",
    "* <b>Output:  </b> [“PROGRAMMING”, “Coding”, “Python”, “Hello”]\n",
    "\n",
    "* <b>Explanation:  </b> Length of “Programming” is 12, which is greater than 7. Other string have less than 7 string length.\n",
    "\n",
    "<b>Example 2</b>\n",
    "\n",
    "* <b>Input:  </b> String_list = [“Range”, “Python”, “Hello”], N = 6\n",
    "\n",
    "* <b>Output:  </b> [“Range”, “Python”, “Hello”]\n",
    "\n",
    "* <b>Explanation:  </b> No string have greater than 6 string length.\n"
   ]
  },
  {
   "cell_type": "code",
   "execution_count": null,
   "metadata": {
    "id": "upFqwrGk650C"
   },
   "outputs": [],
   "source": [
    "def convertString(str_list, N):\n",
    "    \"\"\"\n",
    "    Convert string to uppercase in a list of string if the length of string is more than N\n",
    "    Args:\n",
    "        1. str_list(list): A list of string that needs to be processed\n",
    "        2. N(int): A threshold for the minimum length of string that needs to be processed\n",
    "    Returns:\n",
    "        1. list: A list with processed string\n",
    "    \"\"\"\n",
    "    for ind in range(len(str_list)): #iterate through the items of the list by the index\n",
    "        if len(str_list[ind]) > N: # if the length of string in current item is greater than N\n",
    "            str_list[ind] = str_list[ind].upper() # convert the string to uppercase\n",
    "    return str_list"
   ]
  },
  {
   "cell_type": "code",
   "execution_count": null,
   "metadata": {
    "id": "0933LvVq650D"
   },
   "outputs": [],
   "source": [
    "#test your function:\n",
    "convertString([\"Programming\", \"Coding\", \"Python\", \"Hello\"], 7)\n"
   ]
  },
  {
   "cell_type": "code",
   "execution_count": null,
   "metadata": {
    "id": "5H3cPSyK650F"
   },
   "outputs": [],
   "source": [
    "#test your function:\n",
    "convertString( [\"Range\", \"Python\", \"Hello\"], 6)"
   ]
  },
  {
   "cell_type": "markdown",
   "metadata": {
    "id": "A_NE3rt0650G"
   },
   "source": [
    "## 2. DataTypes"
   ]
  },
  {
   "cell_type": "markdown",
   "metadata": {
    "id": "unSJ3V5k650G"
   },
   "source": [
    "You are given an list of integers. The unique elements of a list are the elements that appear exactly once in the array. Write a function `def sumOfUnique(nums):` that takes `nums` as a list of integers and return the sum of all the unique elements of nums. \n",
    "\n",
    "<b>Example 1</b>\n",
    "\n",
    "* <b>Input:  </b> nums = [1,2,3,2]  \n",
    "\n",
    "* <b>Output:  </b> 4\n",
    "\n",
    "* <b>Explanation:  </b> The unique elements are [1,3], and the sum is 4.\n",
    "\n",
    "<b>Example 2</b>\n",
    "\n",
    "* <b>Input:  </b> nums =  [1,1,1,1,1] \n",
    "\n",
    "* <b>Output:  </b> 0\n",
    "\n",
    "* <b>Explanation:  </b> There are no unique elements, and the sum is 0.\n",
    "\n",
    "<b>Example 3</b>\n",
    "\n",
    "* <b>Input:  </b> nums = [1,2,3,4,5] \n",
    "\n",
    "* <b>Output:  </b> 15\n",
    "\n",
    "* <b>Explanation:  </b> The unique elements are [1,2,3,4,5], and the sum is 15."
   ]
  },
  {
   "cell_type": "code",
   "execution_count": null,
   "metadata": {
    "id": "GVhVDqRM650H"
   },
   "outputs": [],
   "source": [
    "def sumOfUnique(nums):\n",
    "    \"\"\"\n",
    "    A function that sums up all the non-duplicate items in the given list of integers\n",
    "    Args:\n",
    "        1. nums(list): A list of integers\n",
    "    Returns:\n",
    "        1. int: The sum of non-duplicate items in nums\n",
    "    \"\"\"\n",
    "    value_count = {} # initialise a dictionary that stores the count of each number in the given list, key is the number, value is the count of that number\n",
    "    \n",
    "    for num in nums: # iterate through the given list of integers\n",
    "        if num in value_count.keys(): # if the current number already exists in the key of the value_count dictionary\n",
    "            value_count[num] +=1 # add the count of that number(value of that key) by 1 \n",
    "        else: # if the current number does not exit in the key of the dictionary\n",
    "            value_count[num] = 1 # create a new key for the number, and assign the count of that number as 1\n",
    "            \n",
    "    sum = 0 # initialise a variable that records the sum of non-duplicate values\n",
    "    \n",
    "    for key, value in value_count.items(): # iterate through all items in the dictionary, dict().items() returns a list of tuples, where each tuple is a key-value pair\n",
    "        if value == 1: # if the count of the number is 1 (i.e. non-duplicate)\n",
    "            sum += key # add the number to the sum\n",
    "    return sum"
   ]
  },
  {
   "cell_type": "code",
   "execution_count": null,
   "metadata": {
    "id": "QEkmkcgv650H"
   },
   "outputs": [],
   "source": [
    "#test your function:\n",
    "sumOfUnique([1,2,3,2] )"
   ]
  },
  {
   "cell_type": "code",
   "execution_count": null,
   "metadata": {
    "id": "1v0g9a9u650I"
   },
   "outputs": [],
   "source": [
    "#test your function:\n",
    "sumOfUnique([1,1,1,1,1] )"
   ]
  },
  {
   "cell_type": "code",
   "execution_count": null,
   "metadata": {
    "id": "djLbVBYr650I"
   },
   "outputs": [],
   "source": [
    "#test your function:\n",
    "sumOfUnique([1,2,3,4,5] )"
   ]
  },
  {
   "cell_type": "markdown",
   "metadata": {
    "id": "NAoMMO_6650J"
   },
   "source": [
    "## 3. Control Structure"
   ]
  },
  {
   "cell_type": "markdown",
   "metadata": {
    "id": "RV-kbXQj650J"
   },
   "source": [
    "Write a function `def divisible(N,denominator):` to print all integer numbers between 0 and `N` (inclusive) that are divisible by `denominator`. Each number that is divisible should be printed on separate lines from largest to smallest. When the function is finished, it should print \"End\".\n",
    "\n",
    "<b> Note </b> If N is less than 1, then instead of the above, the program should print: \"N must be greater than 0.\"\n",
    "\n",
    "\n",
    "<b>Example 1</b>\n",
    "\n",
    "* <b>Input:  </b> N = 10 denominator = 5 \n",
    "\n",
    "* <b>Output:  </b> \n",
    "\n",
    "10 is divisible by 5!\n",
    "\n",
    "5 is divisible by 5!\n",
    "\n",
    "End\n",
    "\n",
    "\n",
    "* <b>Explanation:  </b> Between 0-10 there is two number which is divisible by 5. (i.e., the remainder is 0) 10/5 = 2, 5/5= 1\n",
    "\n",
    "<b>Example 2</b>\n",
    "\n",
    "* <b>Input:  </b> N = 0 denominator = 8 \n",
    "\n",
    "* <b>Output:  </b> \"N must be greater than 0\"\n",
    "\n",
    "* <b>Explanation:  </b> The N can not be 0"
   ]
  },
  {
   "cell_type": "code",
   "execution_count": null,
   "metadata": {
    "id": "JnDbbrwZ650K"
   },
   "outputs": [],
   "source": [
    "def divisible(N,denominator):\n",
    "    \"\"\"\n",
    "    A function to get all numbers that can be divided by denominator ranging from N to 1\n",
    "    Args:\n",
    "        1. N(int): The upper bound(inclusive) of the positive integers that need to be tested\n",
    "        2. denominator(int): The number to be divided by 1 to N\n",
    "    \"\"\"\n",
    "    if N==0: # Invalid case 1: N == 0\n",
    "        print(\"N must be greater than 0.\")\n",
    "    elif denominator == 0: # Invalid case 2: denominator should not be 0: divided by 0 error\n",
    "        print(\"Denominator must not be 0\")\n",
    "    else: # Valid case\n",
    "        for number in range(N, 0, -1): # We test from N to 1 in descending order\n",
    "            remainder = number%denominator # get the remainder of the current number divided by denominator\n",
    "            if remainder == 0: # if remainder is 0, it means the current number is divisible by denominator\n",
    "                print( str(number) + \" is divisible by \"+ str(denominator)) # print out the current number\n",
    "\n",
    "        print(\"End\")"
   ]
  },
  {
   "cell_type": "code",
   "execution_count": null,
   "metadata": {
    "colab": {
     "base_uri": "https://localhost:8080/"
    },
    "executionInfo": {
     "elapsed": 2294,
     "status": "ok",
     "timestamp": 1619511537105,
     "user": {
      "displayName": "Jameel Baig",
      "photoUrl": "https://lh3.googleusercontent.com/a-/AOh14GjTZYqvF80zYL4eDxa6IgD4XBADtgapVeAs1p17=s64",
      "userId": "01614983561664794167"
     },
     "user_tz": -600
    },
    "id": "sGni0Dqg650K",
    "outputId": "24b35ad4-4810-4364-ea9b-a6ef9e2f0670"
   },
   "outputs": [
    {
     "name": "stdout",
     "output_type": "stream",
     "text": [
      "20 is divisible by 5\n",
      "15 is divisible by 5\n",
      "10 is divisible by 5\n",
      "5 is divisible by 5\n",
      "End\n"
     ]
    }
   ],
   "source": [
    "#test your function:\n",
    "divisible(23,5)"
   ]
  },
  {
   "cell_type": "code",
   "execution_count": null,
   "metadata": {
    "colab": {
     "base_uri": "https://localhost:8080/"
    },
    "executionInfo": {
     "elapsed": 915,
     "status": "ok",
     "timestamp": 1619415002543,
     "user": {
      "displayName": "Kelvin Lo",
      "photoUrl": "",
      "userId": "08004694506673442732"
     },
     "user_tz": -600
    },
    "id": "LGPu0xUz650L",
    "outputId": "c4bc2292-60a9-4c96-834b-3f5d883cc320"
   },
   "outputs": [
    {
     "name": "stdout",
     "output_type": "stream",
     "text": [
      "N must be greater than 0.\n"
     ]
    }
   ],
   "source": [
    "#test your function:\n",
    "divisible(0,8)"
   ]
  },
  {
   "cell_type": "code",
   "execution_count": null,
   "metadata": {
    "colab": {
     "base_uri": "https://localhost:8080/"
    },
    "executionInfo": {
     "elapsed": 3363,
     "status": "ok",
     "timestamp": 1619415006419,
     "user": {
      "displayName": "Kelvin Lo",
      "photoUrl": "",
      "userId": "08004694506673442732"
     },
     "user_tz": -600
    },
    "id": "IAC9F4Xlpy9r",
    "outputId": "8ec278ae-8ba3-4bce-d01d-39a154df68d7"
   },
   "outputs": [
    {
     "name": "stdout",
     "output_type": "stream",
     "text": [
      "Denominator must not be 0\n"
     ]
    }
   ],
   "source": [
    "divisible(8,0)"
   ]
  },
  {
   "cell_type": "markdown",
   "metadata": {
    "id": "X2ZjgAKl650L"
   },
   "source": [
    "## 4. File Operations"
   ]
  },
  {
   "cell_type": "markdown",
   "metadata": {
    "id": "tnA57rkf650L"
   },
   "source": [
    "Write a function `def checkArmstrong(filename)` that reads the file with `filename` and **prints** out whether numbers in each line of the file are Armstrong numbers or not.\n",
    "\n",
    "<b> Note: </b> An Armstrong number is an integer such that the sum of cubes of its digits is equal to the number itself. For example, 371 is an Armstrong number since 3^3 + 7^3 + 1^3 = 371.\n",
    "\n",
    "<b>Example 1</b>\n",
    "\n",
    "* <b>Input:  </b> file that contains: \n",
    "\n",
    "153\n",
    "\n",
    "130\n",
    "\n",
    "128\n",
    "\n",
    "\n",
    "* <b>Output:  </b> \n",
    "\n",
    "True\n",
    "\n",
    "False\n",
    "\n",
    "False\n",
    "\n",
    "\n",
    "* <b>Explanation:  </b> \n",
    "\n",
    "(1 \\* 1 \\* 1) + (5 \\* 5 \\* 5) + (3 \\* 3 \\* 3) = 153\n",
    "\n",
    "(1 \\* 1 \\* 1) + (3 \\* 3 \\* 3) + (0 \\* 0 \\* 0) = 28\n",
    "\n",
    "(1 \\* 1 \\* 1) + (2 \\* 2 \\* 2) + (8 \\* 8 \\* 8) = 521\n",
    "\n",
    "\n",
    "<b>Example 2</b>\n",
    "\n",
    "* <b>Input:  </b> file that contains:\n",
    "\n",
    "150\n",
    "\n",
    "371\n",
    "\n",
    "343\n",
    "\n",
    "\n",
    "* <b>Output:  </b> \n",
    "\n",
    "False\n",
    "\n",
    "True\n",
    "\n",
    "False\n",
    "\n",
    "\n",
    "* <b>Explanation:  </b> \n",
    "\n",
    "(1 \\* 1 \\* 1) + (5 \\* 5 \\* 5) + (0 \\* 0 \\* 0) = 126\n",
    "\n",
    "(3 \\* 3 \\* 3) + (7 \\* 7 \\* 7) + (1 \\* 1 \\* 1) = 371\n",
    "\n",
    "(3 \\* 3 \\* 3) + (4 \\* 4 \\* 4) + (3 \\* 3 \\* 3) = 118\n"
   ]
  },
  {
   "cell_type": "code",
   "execution_count": null,
   "metadata": {
    "id": "EYp7-5VttQUm"
   },
   "outputs": [],
   "source": [
    "# generating test file\n",
    "tests = ['126','371','118']\n",
    "with open('test.txt','w') as f:\n",
    "    f.write('\\n'.join(tests))"
   ]
  },
  {
   "cell_type": "code",
   "execution_count": null,
   "metadata": {
    "id": "Pl-hicHm650M"
   },
   "outputs": [],
   "source": [
    "def checkArmstrong(filename):\n",
    "    \"\"\"\n",
    "    Given a file, with each line as an integer, we have to check whether the integer is an Armstrong number\n",
    "    Args:\n",
    "        1. filenmame(string): the path of the input file to be read\n",
    "    \"\"\"\n",
    "    with open(filename) as file:\n",
    "\n",
    "        for line in file.readlines(): # for every line in the file\n",
    "\n",
    "            line = line.strip() # remove the newline character of the line\n",
    "            digits_total = 0 # a variable that stores the sum of cube of each digit\n",
    "            the_number = int(line) # the integer value of current line\n",
    "\n",
    "            for digit in line: # for every digit in the current line\n",
    "                digits_total += int(digit) ** 3 # add the cube of current digit to digit_total\n",
    "            \n",
    "            if digits_total == the_number: # if the sum of cube of digit equals to the value of current line (i.e. Armstrong)\n",
    "                print(True)\n",
    "            else:\n",
    "                print(False)"
   ]
  },
  {
   "cell_type": "code",
   "execution_count": null,
   "metadata": {
    "colab": {
     "base_uri": "https://localhost:8080/"
    },
    "executionInfo": {
     "elapsed": 1161,
     "status": "ok",
     "timestamp": 1619415981705,
     "user": {
      "displayName": "Kelvin Lo",
      "photoUrl": "",
      "userId": "08004694506673442732"
     },
     "user_tz": -600
    },
    "id": "wRN7ft9M650N",
    "outputId": "0eec8f5a-6d93-4404-ecbb-05726feb9036"
   },
   "outputs": [
    {
     "name": "stdout",
     "output_type": "stream",
     "text": [
      "False\n",
      "True\n",
      "False\n"
     ]
    }
   ],
   "source": [
    "checkArmstrong(\"test.txt\")"
   ]
  },
  {
   "cell_type": "markdown",
   "metadata": {
    "id": "QbvW2X--650N"
   },
   "source": [
    "## 5. Class and object"
   ]
  },
  {
   "cell_type": "markdown",
   "metadata": {
    "id": "WP_9N2l-650N"
   },
   "source": [
    "Write a python program to create a class “Student”, which would allow user to enter and store student's information including Name, ID, and list of marks achieved by the student in the specific unit.\n",
    "\n",
    "This Student class contains:\n",
    "\n",
    "*   instance variables required to represent each individual student data. A student should contain:\n",
    "    * name, as a string\n",
    "    * id as a integer\n",
    "    * marks, can be implemented as a dictionary\n",
    "    \n",
    "*   a collection of methods defined for manipulating a student's contact:\n",
    "\n",
    "    *   \\_\\_init\\_\\_ : Contructor method.\n",
    "    *   update_mark: method to update the mark of the specif unit.\n",
    "    *   avg_mark: method to return the average mark of the student.\n",
    "    *   \\_\\_str\\_\\_: use to print all the details of the student in a proper format.\n",
    "    *   \\_\\_eq\\_\\_: use to check if the two objects of student class are same or not.\n",
    "    \n",
    "<b> IMPORTANT </b> After completing the class, you have to test the functionality of each method."
   ]
  },
  {
   "cell_type": "code",
   "execution_count": null,
   "metadata": {
    "id": "lU5ZHWR-650O"
   },
   "outputs": [],
   "source": [
    "class Student:\n",
    "    \n",
    "    def __init__(self, name, ID, marks = {}):\n",
    "        \"\"\"\n",
    "        Constructor: initialise the instance variables\n",
    "        Args:\n",
    "            1. name(string): name of student\n",
    "            2. ID(string) : ID of student\n",
    "            2. marks(dictionary): The marks of different units (key(string): unit code, value(float): mark)\n",
    "        \"\"\"\n",
    "        self.stud_ID = ID\n",
    "        self.stud_name = name\n",
    "        self.stud_marks = marks\n",
    "\n",
    "    def update_mark(self, unit, mark):\n",
    "        \"\"\"\n",
    "        Update the mark of a specific unit of this student\n",
    "        Args:\n",
    "            1. unit(string): the unit code\n",
    "            2. mark(float): the mark of the unit\n",
    "        \"\"\"\n",
    "        self.stud_marks[unit] = mark\n",
    "\n",
    "    def avg_mark(self):\n",
    "        \"\"\"\n",
    "        Get the average mark of different units\n",
    "        Returns:\n",
    "            1. float: average mark of all units\n",
    "        \"\"\"\n",
    "        totalMarks = 0 # initialise a variable to store the sum of marks across different units\n",
    "        unitCount = len(self.stud_marks) # obtain the number of units taken by the student(length of the stud_marks dictionary)\n",
    "        \n",
    "        for key, value in self.stud_marks.items(): # for each item in the dictionary\n",
    "            totalMarks += value # add the mark of current item to totalMarks\n",
    "        \n",
    "        avg = totalMarks/unitCount # average of mark is calculated by sum of mark divided by number of units taken\n",
    "        return avg\n",
    "\n",
    "    def __str__(self):\n",
    "        \"\"\"\n",
    "        A function that returns the string representation of the Student class instance\n",
    "        Returns:\n",
    "            1. string: String representation of the Student class instance\n",
    "        \"\"\"\n",
    "        std_info = \"Id: \"+ str(self.stud_ID)            #Id: student ID\n",
    "        std_info += \"\\nName: \"+ self.stud_name          #Name: student name\n",
    "        std_info += \"\\nMarks: \" + str(self.stud_marks)  #Marks: the string representation of stud_marks dictionary\n",
    "       \n",
    "        return std_info\n",
    "\n",
    "    def __eq__(self, other):\n",
    "        \"\"\"\n",
    "        A function that compares the current instance to other Student instance and see if they matches\n",
    "        Usage:\n",
    "            - self == other\n",
    "        Returns:\n",
    "            1. bool: An indicator of whether two instances have the same ID and name\n",
    "        \"\"\"\n",
    "        if isinstance(other, Student): # first of all, check if other is an instance of Student class\n",
    "            if self.stud_ID == other.stud_ID and self.stud_name == other.stud_name: # check same ID and name\n",
    "                return True\n",
    "            else:\n",
    "                return False\n",
    "        else:\n",
    "            return False"
   ]
  },
  {
   "cell_type": "code",
   "execution_count": null,
   "metadata": {
    "id": "XuzmZogF650P"
   },
   "outputs": [],
   "source": [
    "#test your code by instantiating an object and calling each method\n",
    "student1 = Student(\"shirin\", 11111, {\"Python\":50, \"Java\":60, \"C+\":80})\n",
    "student3 = Student(\"shirin\", 11111, {\"Python\":50, \"Java\":60, \"C+\":80})\n",
    "student2 = Student(\"lily\", 11111, {\"Python\":10, \"Java\":10, \"C+\":10})"
   ]
  },
  {
   "cell_type": "code",
   "execution_count": null,
   "metadata": {
    "id": "UCuJ0jjPmNEW"
   },
   "outputs": [],
   "source": [
    "student1.update_mark(\"Python\",100)"
   ]
  },
  {
   "cell_type": "code",
   "execution_count": null,
   "metadata": {
    "id": "LIWg0LAsmNEW"
   },
   "outputs": [],
   "source": [
    "print(student1)"
   ]
  },
  {
   "cell_type": "code",
   "execution_count": null,
   "metadata": {
    "id": "TLdH7IT4mNEW"
   },
   "outputs": [],
   "source": [
    "student1==student3"
   ]
  },
  {
   "cell_type": "code",
   "execution_count": null,
   "metadata": {
    "id": "J20osiqamNEW"
   },
   "outputs": [],
   "source": [
    "student2.avg_mark()"
   ]
  }
 ],
 "metadata": {
  "colab": {
   "authorship_tag": "ABX9TyPlX0lmqs5ScMQaLebu1xno",
   "collapsed_sections": [],
   "name": "Sample Mid-Semester Exam(Solution).ipynb",
   "provenance": []
  },
  "kernelspec": {
   "display_name": "Python 3",
   "name": "python3"
  },
  "language_info": {
   "name": "python"
  }
 },
 "nbformat": 4,
 "nbformat_minor": 0
}
