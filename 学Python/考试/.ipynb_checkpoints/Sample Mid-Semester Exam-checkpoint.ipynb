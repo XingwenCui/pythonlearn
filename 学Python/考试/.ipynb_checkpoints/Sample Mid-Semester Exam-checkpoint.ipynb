{
 "cells": [
  {
   "cell_type": "markdown",
   "metadata": {
    "id": "iS9fSRHzk5UO"
   },
   "source": [
    "# Sample Mid Semester Exam Questions"
   ]
  },
  {
   "cell_type": "markdown",
   "metadata": {
    "id": "c5uhPH8S650A"
   },
   "source": [
    "## 1. String Manipulation"
   ]
  },
  {
   "cell_type": "markdown",
   "metadata": {
    "id": "mxWUw3X8650B"
   },
   "source": [
    "Write a funtion `def convertString(str_list, N):` that takes in a list of strings(`str_list`) and an integer (`N`) and convert the string into uppercase if the length of string is greater than N. The function will return the converted list.\n",
    "\n",
    "<b>Example 1</b>\n",
    "\n",
    "* <b>Input:  </b> String_list = [“Programming”, “Coding”, “Python”, “Hello”], N = 7\n",
    "\n",
    "* <b>Output:  </b> [“PROGRAMMING”, “Coding”, “Python”, “Hello”]\n",
    "\n",
    "* <b>Explanation:  </b> Length of “Programming” is 12, which is greater than 7. Other string have less than 7 string length.\n",
    "\n",
    "<b>Example 2</b>\n",
    "\n",
    "* <b>Input:  </b> String_list = [“Range”, “Python”, “Hello”], N = 6\n",
    "\n",
    "* <b>Output:  </b> [“Range”, “Python”, “Hello”]\n",
    "\n",
    "* <b>Explanation:  </b> No string have greater than 6 string length.\n"
   ]
  },
  {
   "cell_type": "code",
   "execution_count": null,
   "metadata": {
    "id": "upFqwrGk650C"
   },
   "outputs": [],
   "source": [
    "# Your implementation"
   ]
  },
  {
   "cell_type": "markdown",
   "metadata": {
    "id": "A_NE3rt0650G"
   },
   "source": [
    "## 2. DataTypes"
   ]
  },
  {
   "cell_type": "markdown",
   "metadata": {
    "id": "unSJ3V5k650G"
   },
   "source": [
    "You are given an list of integers. The unique elements of a list are the elements that appear exactly once in the array. Write a function `def sumOfUnique(nums):` that takes `nums` as a list of integers and return the sum of all the unique elements of nums. \n",
    "\n",
    "<b>Example 1</b>\n",
    "\n",
    "* <b>Input:  </b> nums = [1,2,3,2]  \n",
    "\n",
    "* <b>Output:  </b> 4\n",
    "\n",
    "* <b>Explanation:  </b> The unique elements are [1,3], and the sum is 4.\n",
    "\n",
    "<b>Example 2</b>\n",
    "\n",
    "* <b>Input:  </b> nums =  [1,1,1,1,1] \n",
    "\n",
    "* <b>Output:  </b> 0\n",
    "\n",
    "* <b>Explanation:  </b> There are no unique elements, and the sum is 0.\n",
    "\n",
    "<b>Example 3</b>\n",
    "\n",
    "* <b>Input:  </b> nums = [1,2,3,4,5] \n",
    "\n",
    "* <b>Output:  </b> 15\n",
    "\n",
    "* <b>Explanation:  </b> The unique elements are [1,2,3,4,5], and the sum is 15."
   ]
  },
  {
   "cell_type": "code",
   "execution_count": null,
   "metadata": {
    "id": "GVhVDqRM650H"
   },
   "outputs": [],
   "source": [
    "# Your implementation"
   ]
  },
  {
   "cell_type": "markdown",
   "metadata": {
    "id": "NAoMMO_6650J"
   },
   "source": [
    "## 3. Control Structure"
   ]
  },
  {
   "cell_type": "markdown",
   "metadata": {
    "id": "RV-kbXQj650J"
   },
   "source": [
    "Write a function `def divisible(N,denominator):` to print all integer numbers between 0 and `N` (inclusive) that are divisible by `denominator`. Each number that is divisible should be printed on separate lines from largest to smallest. When the function is finished, it should print \"End\".\n",
    "\n",
    "<b> Note </b> If N is less than 1, then instead of the above, the program should print: \"N must be greater than 0.\"\n",
    "\n",
    "\n",
    "<b>Example 1</b>\n",
    "\n",
    "* <b>Input:  </b> N = 10 denominator = 5 \n",
    "\n",
    "* <b>Output:  </b> \n",
    "\n",
    "10 is divisible by 5!\n",
    "\n",
    "5 is divisible by 5!\n",
    "\n",
    "End\n",
    "\n",
    "\n",
    "* <b>Explanation:  </b> Between 0-10 there is two number which is divisible by 5. (i.e., the remainder is 0) 10/5 = 2, 5/5= 1\n",
    "\n",
    "<b>Example 2</b>\n",
    "\n",
    "* <b>Input:  </b> N = 0 denominator = 8 \n",
    "\n",
    "* <b>Output:  </b> \"N must be greater than 0\"\n",
    "\n",
    "* <b>Explanation:  </b> The N can not be 0"
   ]
  },
  {
   "cell_type": "code",
   "execution_count": null,
   "metadata": {
    "id": "JnDbbrwZ650K"
   },
   "outputs": [],
   "source": [
    "# Your implementation"
   ]
  },
  {
   "cell_type": "markdown",
   "metadata": {
    "id": "X2ZjgAKl650L"
   },
   "source": [
    "## 4. File Operations"
   ]
  },
  {
   "cell_type": "markdown",
   "metadata": {
    "id": "tnA57rkf650L"
   },
   "source": [
    "Write a function `def checkArmstrong(filename)` that reads the file with `filename` and **prints** out whether numbers in each line of the file are Armstrong numbers or not.\n",
    "\n",
    "<b> Note: </b> An Armstrong number is an integer such that the sum of cubes of its digits is equal to the number itself. For example, 371 is an Armstrong number since 3^3 + 7^3 + 1^3 = 371.\n",
    "\n",
    "<b>Example 1</b>\n",
    "\n",
    "* <b>Input:  </b> file that contains: \n",
    "\n",
    "153\n",
    "\n",
    "130\n",
    "\n",
    "128\n",
    "\n",
    "\n",
    "* <b>Output:  </b> \n",
    "\n",
    "True\n",
    "\n",
    "False\n",
    "\n",
    "False\n",
    "\n",
    "\n",
    "* <b>Explanation:  </b> \n",
    "\n",
    "(1 \\* 1 \\* 1) + (5 \\* 5 \\* 5) + (3 \\* 3 \\* 3) = 153\n",
    "\n",
    "(1 \\* 1 \\* 1) + (3 \\* 3 \\* 3) + (0 \\* 0 \\* 0) = 28\n",
    "\n",
    "(1 \\* 1 \\* 1) + (2 \\* 2 \\* 2) + (8 \\* 8 \\* 8) = 521\n",
    "\n",
    "\n",
    "<b>Example 2</b>\n",
    "\n",
    "* <b>Input:  </b> file that contains:\n",
    "\n",
    "150\n",
    "\n",
    "371\n",
    "\n",
    "343\n",
    "\n",
    "\n",
    "* <b>Output:  </b> \n",
    "\n",
    "False\n",
    "\n",
    "True\n",
    "\n",
    "False\n",
    "\n",
    "\n",
    "* <b>Explanation:  </b> \n",
    "\n",
    "(1 \\* 1 \\* 1) + (5 \\* 5 \\* 5) + (0 \\* 0 \\* 0) = 126\n",
    "\n",
    "(3 \\* 3 \\* 3) + (7 \\* 7 \\* 7) + (1 \\* 1 \\* 1) = 371\n",
    "\n",
    "(3 \\* 3 \\* 3) + (4 \\* 4 \\* 4) + (3 \\* 3 \\* 3) = 118\n"
   ]
  },
  {
   "cell_type": "code",
   "execution_count": null,
   "metadata": {
    "id": "Pl-hicHm650M"
   },
   "outputs": [],
   "source": [
    "# Your implementation"
   ]
  },
  {
   "cell_type": "markdown",
   "metadata": {
    "id": "QbvW2X--650N"
   },
   "source": [
    "## 5. Class and object"
   ]
  },
  {
   "cell_type": "markdown",
   "metadata": {
    "id": "WP_9N2l-650N"
   },
   "source": [
    "Write a python program to create a class “Student”, which would allow user to enter and store student's information including Name, ID, and list of marks achieved by the student in the specific unit.\n",
    "\n",
    "This Student class contains:\n",
    "\n",
    "*   instance variables required to represent each individual student data. A student should contain:\n",
    "    * name, as a string\n",
    "    * id as a integer\n",
    "    * marks, can be implemented as a dictionary\n",
    "    \n",
    "*   a collection of methods defined for manipulating a student's contact:\n",
    "\n",
    "    *   \\_\\_init\\_\\_ : Contructor method.\n",
    "    *   update_mark: method to update the mark of the specif unit.\n",
    "    *   avg_mark: method to return the average mark of the student.\n",
    "    *   \\_\\_str\\_\\_: use to print all the details of the student in a proper format.\n",
    "    *   \\_\\_eq\\_\\_: use to check if the two objects of student class are same or not.\n",
    "    \n",
    "<b> IMPORTANT </b> After completing the class, you have to test the functionality of each method."
   ]
  },
  {
   "cell_type": "code",
   "execution_count": null,
   "metadata": {
    "id": "lU5ZHWR-650O"
   },
   "outputs": [],
   "source": [
    "# Your implementation"
   ]
  }
 ],
 "metadata": {
  "colab": {
   "authorship_tag": "ABX9TyNim4C898yVCDGDy68F7/HW",
   "collapsed_sections": [],
   "name": "Sample Mid-Semester Exam.ipynb",
   "provenance": []
  },
  "kernelspec": {
   "display_name": "Python 3",
   "name": "python3"
  },
  "language_info": {
   "name": "python"
  }
 },
 "nbformat": 4,
 "nbformat_minor": 0
}
