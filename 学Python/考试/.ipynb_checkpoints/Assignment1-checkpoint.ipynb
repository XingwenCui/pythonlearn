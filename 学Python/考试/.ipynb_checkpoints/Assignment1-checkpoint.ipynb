{
 "cells": [
  {
   "cell_type": "markdown",
   "metadata": {
    "id": "uIUUzXFmKN5T"
   },
   "source": [
    "# e-Mid Semester Test (Sample Solution) \n",
    "# FIT9136 Algorithms And Programming Foundations In Python - S2 2021\n",
    "\n"
   ]
  },
  {
   "cell_type": "markdown",
   "metadata": {
    "id": "G6MknhIeq7t4"
   },
   "source": [
    "\n",
    "## Introduction\n",
    "\n",
    "* This mid-semester test is worth a total of **25 marks** and represents **15%** of the total assessment in this unit.\n",
    "\n",
    "* This mid-semester test consists of 6 parts. Answer all the questions in each part.\n",
    "\n",
    "* The mark distribution for each part is listed below:\n",
    "\n",
    "<table>\n",
    "<thead><td>Parts</td><td>Marks</td></thead>\n",
    "<tr><td><b>A - String Statistics</b></td><td>3</td></tr>\n",
    "<tr><td><b>B - Special Numbers</b></td><td>3</td></tr>\n",
    "<tr><td><b>C - File I/O</b></td><td>4</td></tr>\n",
    "<tr><td><b>D - Rock, Paper, Scissors</b></td><td>5</td></tr>\n",
    "<tr><td><b>E - Coffee Shop</b></td><td>4</td></tr>\n",
    "<tr><td><b>F - Secret Code Decoder</b></td><td>6</td></tr>\n",
    "<tr><td><b><font color='red'>total</font></b></td><td>25</td></tr>\n",
    "</table>\n"
   ]
  },
  {
   "cell_type": "markdown",
   "metadata": {
    "id": "azKfj7OedglE"
   },
   "source": [
    "## 1. String Statistics(3 Marks)\n",
    "<small>\\#CollectiveDatatypes</small>\n",
    "\n",
    "Implement a function `def str_stat(a_string):` that accepts a string as an argument and return a dictionary that stores the count of each **lower-case**  character.\n",
    "\n",
    "**Example**: \n",
    "`str_stat('AaAbbCc')` will return `{'a': 1, 'b': 2, 'c': 1}`\n",
    "\n",
    "**Note**: You can assume `a_string` must be a string."
   ]
  },
  {
   "cell_type": "markdown",
   "metadata": {
    "id": "Fg7LI7prtMpO"
   },
   "source": [
    "<font color='red'><b>Solution</b></font>"
   ]
  },
  {
   "cell_type": "code",
   "execution_count": null,
   "metadata": {
    "id": "4X19P7Oyh6HS"
   },
   "outputs": [],
   "source": [
    "def str_stat(a_string):\n",
    "    count_dict = dict()\n",
    "    for char in a_string: # iterate through the whole string character by character\n",
    "        if char.islower(): # check if the character is lower-case\n",
    "            if char not in count_dict: # if the character does not exist in the key of count_dict, we initialize the value as 1\n",
    "                count_dict[char] = 1\n",
    "            else: # if the character has appeared before, simply increase its count by 1\n",
    "                count_dict[char] += 1\n",
    "    return count_dict"
   ]
  },
  {
   "cell_type": "markdown",
   "metadata": {
    "id": "m2gpSomodg0k"
   },
   "source": [
    "## 2. Special Numbers(3 Marks)\n",
    "<small>\\#NumericOperations</small>\n",
    "\n",
    "A defective number is a number $n$ for which ***the sum of divisors*** is less than $2\\times n$.\n",
    "\n",
    "A divisor $m$ of number $n$ means $n$ is **completely divisible** by $m$, i.e. the remainder of $\\frac{n}{m}$ is 0.\n",
    "\n",
    "For example, $21$ is a defective number because the sum of divisors of $21$ is $1 + 3 + 7 + 21 = 32 < 21 * 2 = 42$\n",
    "\n",
    "Please implement a function `def is_defective(a_num):` which accepts a positive integer as argument, then **evaluate and return** whether the integer is a defective number (`True`) or not(`False`). \n",
    "\n",
    "For example, `is_defective(21)` will return `True`.\n",
    "\n",
    "*you can assume `a_num` is always valid."
   ]
  },
  {
   "cell_type": "markdown",
   "metadata": {
    "id": "hPDOT969tNIn"
   },
   "source": [
    "<font color='red'><b>Solution</b></font>"
   ]
  },
  {
   "cell_type": "code",
   "execution_count": null,
   "metadata": {
    "id": "ifRCEtXame7J"
   },
   "outputs": [],
   "source": [
    "def is_defective(a_num):\n",
    "    # obtain all the divisors\n",
    "    # from 1 to half of a_num, check if there are remainders after a_num is divided by the number\n",
    "    # and add a_num itself to the list\n",
    "    \n",
    "    factors = [a_num % i == 0 and i for i in range(1, a_num//2 + 1)] + [a_num] \n",
    "    sum_factors = sum(factors) # get the sum of all divisors\n",
    "    return sum_factors < 2 * a_num # check if the sum of divisors is less the double of a_num"
   ]
  },
  {
   "cell_type": "markdown",
   "metadata": {
    "id": "-zCu3hM_CDvE"
   },
   "source": [
    "## 3. File I/O (4 Marks)\n",
    "<small>\\#FileOperations</small>\n",
    "\n",
    "You are given a file 'input.txt' in the following format:\n",
    "```\n",
    "This is a sentence.\n",
    "This is another sentence.\n",
    "```\n",
    "Please write a function `def file_process(infile, outfile):` that reads the input file with the argument `infile` as the input filename and create a new file with the filename provided by the argument `outfile` that stores every word(capitalized) from the input file in separate lines, following the format below:\n",
    "```\n",
    "This\n",
    "Is\n",
    "A\n",
    "Sentence.\n",
    "This\n",
    "Is\n",
    "Another\n",
    "Sentence.\n",
    "```\n",
    "You may assume every word is split by white space character only."
   ]
  },
  {
   "cell_type": "markdown",
   "metadata": {
    "id": "UTJvuVnHtCFC"
   },
   "source": [
    "<font color='red'><b>Solution</b></font>"
   ]
  },
  {
   "cell_type": "code",
   "execution_count": null,
   "metadata": {
    "id": "tsFJyygp0dAA"
   },
   "outputs": [],
   "source": [
    "def file_process(infile, outfile):\n",
    "    with open(infile) as fh:\n",
    "        input_lines = fh.readlines() # read all lines from input.txt and store each lines separately in a list\n",
    "    input_lines = [line.strip() for line in input_lines] # remove \\n in every line\n",
    "    tokens = []\n",
    "    for line in input_lines:\n",
    "        tokens.extend([token.capitalize() for token in line.split()]) # split every line, capitalise every word and store in tokens list\n",
    "    with open(outfile,'w') as fh:\n",
    "        fh.write('\\n'.join(tokens)) # use \\n to concatenate all tokens in tokens list and dump to output file"
   ]
  },
  {
   "cell_type": "markdown",
   "metadata": {
    "id": "ZLrFj6sBBpPF"
   },
   "source": [
    "## 4. Rock, Paper, Scissors (5 Marks)\n",
    "<small>\\#Iterations \\#CollectiveDataTypes</small>\n",
    "\n",
    "Rock, Paper, Scissors is a very simple 2-player game. In each round, every player needs to throw either `rock`, `paper` or `scissors`. The rules of the game are as follows:\n",
    "1. `rock` wins `scissors`\n",
    "2. `paper` wins `rock`\n",
    "3. `scissors` wins `paper`\n",
    "4. draw if both players throw the same thing\n",
    "\n",
    "The players will need to play 3 rounds and **whoever wins at least 2 rounds is considered as the winner**. As a result, there might be no winner at all after 3 rounds.\n",
    "\n",
    "You will receive a list of 3 game round results in the form of list of 3 tuples. Each tuple represents a game round. The first item of the tuple is what the player 1 throws, while the second item of the tuple is what the player 2 throws. \n",
    "\n",
    "In the list, `'0'` represents `rock`, `'5'` represents `paper`, `'2'` represents `scissors`. \n",
    "\n",
    "Below is an example of the list:\n",
    "\n",
    "```\n",
    "games = [('2','5'),('5','5'),('0','2')]\n",
    "```\n",
    "\n",
    "Now, please write a function `def rps_analyse(games):` that: \n",
    "1. analyses the game list(`games`)\n",
    "2. prints out \"Player 1 wins\" if player 1 wins.\n",
    "3. prints out \"Player 2 wins\" if player 2 wins.\n",
    "4. prints out \"Draw\" if no one wins.\n",
    "\n",
    "From the example list above, the function will print out \"Player 1 wins\", because player 1 won the first and the last rounds(2 rounds)."
   ]
  },
  {
   "cell_type": "markdown",
   "metadata": {
    "id": "Gf19G9lNGPNT"
   },
   "source": [
    "<font color='red'><b>Solution</b></font>"
   ]
  },
  {
   "cell_type": "code",
   "execution_count": null,
   "metadata": {
    "id": "zM0nw6BLGQ5V"
   },
   "outputs": [],
   "source": [
    "def rps_analyse(games):\n",
    "    p1_win = [('2','5'),('0','2'),('5','0')] # all the situations where player 1 wins the round\n",
    "    p2_win = [(p[1],p[0]) for p in p1_win] # all situations where player 2 wins the round\n",
    "    p1 = 0 # stores how many games have player 1 won\n",
    "    p2 = 0 # stores how many games have player 2 won\n",
    "    for game in games:\n",
    "        if game in p1_win: # if player 1 wins, increase p1 by 1\n",
    "            p1 += 1\n",
    "        if game in p2_win: # if player 2 wins, increase p2 by 1\n",
    "            p2 += 1\n",
    "    if p1 >= 2: # if player 1 wins at least 2 games\n",
    "        print('Player 1 wins')\n",
    "    elif p2 >= 2: # if player 2 wins at least 2 games\n",
    "        print('Player 2 wins')\n",
    "    else: # if no player wins at least 2 games\n",
    "        print('Draw')"
   ]
  },
  {
   "cell_type": "markdown",
   "metadata": {
    "id": "jZCkqfR-NsK-"
   },
   "source": [
    "<font color='red'><b>Mark Distribution</b></font>"
   ]
  },
  {
   "cell_type": "markdown",
   "metadata": {
    "id": "VU2eEIuHNsje"
   },
   "source": [
    "**2 Marks** - Obtaining the winner of each round of the game (binary marking, 0 if fail to do so)\n",
    "\n",
    "**1 Mark** - Counting the number of winning rounds of each player\n",
    "\n",
    "**2 Marks** - Evaluating(1 mark) and printing(1 mark) the results correctly (It is ok for other understandable printing formats)"
   ]
  },
  {
   "cell_type": "markdown",
   "metadata": {
    "id": "RtlfsKRV3cbn"
   },
   "source": [
    "## 5. Coffee Shop (4 Marks)\n",
    "<small>\\#Class \\#VariableScope</small>\n",
    "\n",
    "You are creating a new class `StarucksBranch` in python representing a coffee shop branch of an international coffee brand. \n",
    "\n",
    "We have already known that every object of `StarucksBranch` shares the same `company_name` **class variable** value as '*Starucks*'. \n",
    "\n",
    "However, different `StarucksBranch` objects have unique `branch_id` variable values, which will be **initialised using the argument of the constructor method** and stored as an **instance variable**.\n",
    "\n",
    "a) Please implement the class `StarucksBranch` with the following variables:\n",
    "* `company_name` as class variable\n",
    "* `branch_id` as instance variable\n",
    "\n",
    "And the following class methods:\n",
    "* `__init__`: constructor of the class"
   ]
  },
  {
   "cell_type": "markdown",
   "metadata": {
    "id": "MwyuwKuG88du"
   },
   "source": [
    "<font color='red'><b>Solution</b></font>"
   ]
  },
  {
   "cell_type": "code",
   "execution_count": null,
   "metadata": {
    "id": "x3HTU7t87FOx"
   },
   "outputs": [],
   "source": [
    "class StarucksBranch:\n",
    "    company_name = 'Starucks'\n",
    "    def __init__(self, branch_id):\n",
    "        self.branch_id = branch_id"
   ]
  },
  {
   "cell_type": "markdown",
   "metadata": {
    "id": "xhaszgZ78L87"
   },
   "source": [
    "b) Now, we have created a new `StarucksBranch` instance with the following statement:\n",
    "```\n",
    "sb = StarucksBranch('001')\n",
    "```\n",
    "\n",
    "How can we retrieve the value of the class variable `company_name` ?"
   ]
  },
  {
   "cell_type": "markdown",
   "metadata": {
    "id": "kBOU-WaT89Rh"
   },
   "source": [
    "<font color='red'><b>Solution</b></font>"
   ]
  },
  {
   "cell_type": "markdown",
   "metadata": {
    "id": "W0L6yIm48g21"
   },
   "source": [
    "```\n",
    "StarucksBranch.company_name\n",
    "```"
   ]
  },
  {
   "cell_type": "markdown",
   "metadata": {
    "id": "7i93EzHzSsBQ"
   },
   "source": [
    "## 6. Secret Code Decoder (6 Marks)\n",
    "<small>\\#CollectiveDataTypes \\#StringManipulation</small>\n",
    "\n",
    "You are a secret agent, *Bond*, of MI6. Now you have received an encrypted message and you need to decode this important message in order to save the world. \n",
    "\n",
    "The message is encrypted with a secret prefix code, which means the codes of each corresponding alphabet must not be the prefix of another codes. With this feature, there will be no ambiguities when decoding the encrypted strings. \n",
    "\n",
    "*Please also note that there will only be '1', '2', 'A' and 'B' characters in the encrypted string. Also, each character in the encrypted string can only be used once to decode one alphabet.* The codes of alphabets can be summarised as the following table:\n",
    "\n",
    "<table>\n",
    "<thead><tr><td>alphabet</td><td>code</td></tr></thead>\n",
    "<tr><td>A</td><td>AB</td></tr>\n",
    "<tr><td>B</td><td>2A</td></tr>\n",
    "<tr><td>C</td><td>B21</td></tr>\n",
    "<tr><td>D</td><td>BAB</td></tr>\n",
    "<tr><td>E</td><td>BA1</td></tr>\n",
    "<tr><td>F</td><td>AA</td></tr>\n",
    "<tr><td>G</td><td>11</td></tr>\n",
    "<tr><td>H</td><td>21</td></tr>\n",
    "<tr><td>I</td><td>B12</td></tr>\n",
    "<tr><td>J</td><td>B2A</td></tr>\n",
    "<tr><td>K</td><td>BB1</td></tr>\n",
    "<tr><td>L</td><td>BBA</td></tr>\n",
    "<tr><td>M</td><td>1A</td></tr>\n",
    "<tr><td>N</td><td>A2</td></tr>\n",
    "<tr><td>O</td><td>B1B</td></tr>\n",
    "<tr><td>P</td><td>BAA</td></tr>\n",
    "<tr><td>Q</td><td>A1</td></tr>\n",
    "<tr><td>R</td><td>1B</td></tr>\n",
    "<tr><td>S</td><td>B1A</td></tr>\n",
    "<tr><td>T</td><td>B2B</td></tr>\n",
    "<tr><td>U</td><td>BB2</td></tr>\n",
    "<tr><td>V</td><td>BA2</td></tr>\n",
    "<tr><td>W</td><td>2B</td></tr>\n",
    "<tr><td>X</td><td>B11</td></tr>\n",
    "<tr><td>Y</td><td>B22</td></tr>\n",
    "<tr><td>Z</td><td>22</td></tr>\n",
    "<tr><td>white space character(' ')</td><td>12</td></tr>\n",
    "</table>\n",
    "\n",
    "**In order to decode this secret code, you have to find the longest valid substrings from left to right iteratively.**\n",
    "\n",
    "For example, <b><font color='red'>BAA</font><font color='green'>1B</font><font  color='orange'>B1B</font><font color='brown'>11</font><font color='grey'>1B</font><font color='blue'>AB</font><font color='purple'>1A</font></b> will be the encrypted string for \"<b><font color='red'>P</font><font color='green'>R</font><font  color='orange'>O</font><font color='brown'>G</font><font color='grey'>R</font><font color='blue'>A</font><font color='purple'>M</font></b>\". In this example, for the first character 'P', since 'B', 'BA' and 'BAA1' are invalid substrings, so the longest substring will be 'BAA'. The strings after can be decoded with the same mechanism.\n",
    "\n"
   ]
  },
  {
   "cell_type": "markdown",
   "metadata": {
    "id": "tz78zuF2mUQi"
   },
   "source": [
    "a) Please decode the following message 'B2B1BB12B21BB1B22'."
   ]
  },
  {
   "cell_type": "markdown",
   "metadata": {
    "id": "ntBRmwusmfmO"
   },
   "source": [
    "<font color='red'><b>Solution</b></font>"
   ]
  },
  {
   "cell_type": "markdown",
   "metadata": {
    "id": "TrMNDtWW5MXp"
   },
   "source": [
    "```\n",
    "TRICKY\n",
    "```"
   ]
  },
  {
   "cell_type": "markdown",
   "metadata": {
    "id": "1PCkRN3A5CyS"
   },
   "source": [
    "b) You know it is very time consuming to decode the message by paper and pen, so you decided to write a function `def decode_mi6():` that **ask for user input** of the encrypted string and **prints out** the decoded string. If the user input is invalid, the program will print out \"Invalid code!\" instead. For example, '11B1' is an invalid user input because it cannot be decoded.\n",
    "\n",
    "You are given a list of tuple `secret_codes`, where the first item of each tuple is the alphabet and the second item is its correspoding code. You may find this list useful to solve this task."
   ]
  },
  {
   "cell_type": "markdown",
   "metadata": {
    "id": "N6B1QBJjfYCT"
   },
   "source": [
    "<font color='red'><b>Solution</b></font>"
   ]
  },
  {
   "cell_type": "code",
   "execution_count": null,
   "metadata": {
    "id": "UDQl9-oscwUe"
   },
   "outputs": [],
   "source": [
    "secret_codes = [\n",
    "('A',\t'AB'),\n",
    "('B',\t'2A'),\n",
    "('C',\t'B21'),\n",
    "('D',\t'BAB'),\n",
    "('E',\t'BA1'),\n",
    "('F',\t'AA'),\n",
    "('G',\t'11'),\n",
    "('H',\t'21'),\n",
    "('I',\t'B12'),\n",
    "('J',\t'B2A'),\n",
    "('K',\t'BB1'),\n",
    "('L',\t'BBA'),\n",
    "('M',\t'1A'),\n",
    "('N',\t'A2'),\n",
    "('O',\t'B1B'),\n",
    "('P',\t'BAA'),\n",
    "('Q',\t'A1'),\n",
    "('R',\t'1B'),\n",
    "('S',\t'B1A'),\n",
    "('T',\t'B2B'),\n",
    "('U',\t'BB2'),\n",
    "('V',\t'BA2'),\n",
    "('W',\t'2B'),\n",
    "('X',\t'B11'),\n",
    "('Y',\t'B22'),\n",
    "('Z',\t'22'),\n",
    "(' ',\t'12')\n",
    "]\n",
    "\n",
    "def decode_mi6():\n",
    "    user_input = input('Please enter encrypted string: ')\n",
    "    if set(user_input) - set('12AB'): # check whether input string consists of '1', '2', 'A', 'B' only\n",
    "        print('Invalid code!')\n",
    "    \n",
    "    else:\n",
    "        code_dict = {v: k for k, v in secret_codes} # create a look-up dictionary where the key is the code and the value is the alphabet\n",
    "        current_substr = '' # a variable to store the current substring of the encrypted string\n",
    "        decoded_str = '' # the decoded characters\n",
    "        \n",
    "        for char in user_input:\n",
    "            current_substr += char # for every character, append to current_substr\n",
    "            \n",
    "            if current_substr in code_dict: # if current_substr matches one of the keys in code_dict, that means it can be decoded\n",
    "                decoded_str += code_dict[current_substr] # append decoded alphabet to decoded_str\n",
    "                current_substr = '' # reset current_substr\n",
    "        \n",
    "        # after iterating through the whole encrypted string\n",
    "        if current_substr: # if there is still some encrypted string not decoded, then it is invalid\n",
    "            print('Invalid code!')\n",
    "        else: # else it is valid\n",
    "            print('The decoded string is:', decoded_str)"
   ]
  }
 ],
 "metadata": {
  "colab": {
   "collapsed_sections": [],
   "name": "Assignment1(Questions&SampleSolution).ipynb",
   "provenance": []
  },
  "kernelspec": {
   "display_name": "Python 3",
   "name": "python3"
  },
  "language_info": {
   "name": "python"
  }
 },
 "nbformat": 4,
 "nbformat_minor": 0
}
