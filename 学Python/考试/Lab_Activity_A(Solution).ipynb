{
 "cells": [
  {
   "cell_type": "markdown",
   "metadata": {
    "id": "YxhTOZC3hsR3"
   },
   "source": [
    "# Lab Activity A\n",
    "\n",
    "# FIT9136 Algorithms And Programming Foundations In Python - S2 2021"
   ]
  },
  {
   "cell_type": "markdown",
   "metadata": {
    "id": "G6MknhIeq7t4"
   },
   "source": [
    "## Introduction\n",
    "\n",
    "* This lab activity is worth a total of **11 marks** and represents **2.5%** of the total assessment in this unit.\n",
    "\n",
    "* This lab activities consists of 3 questions in total. \n",
    "\n",
    "* The mark distribution for each part is listed below:.\n",
    "\n",
    "<table>\n",
    "<thead><td>Question</td><td>Marks</td></thead>\n",
    "<tr><td><b>1 - Flight Info System</b></td><td>3</td></tr>\n",
    "<tr><td><b>2 - Credit Card Validator</b></td><td>4</td></tr>\n",
    "<tr><td><b>3 - Sentiment Analyser</b></td><td>4</td></tr>\n",
    "<tr><td><b><font color='red'>total</font></b></td><td><b><font color='red'>11</td></b></tr>\n",
    "</table>\n",
    "\n",
    "* The marking criteria for this lab activity is as below:\n",
    "\n",
    "<table>\n",
    "<thead><td>Criteria</td><td>Marks percentage</td></thead>\n",
    "<tr><td><b>Functionality</b></td><td><b>80%</b></td></tr>\n",
    "<tr><td><b>Commenting</b></td><td><b>20%</b></td></tr>\n",
    "\n",
    "<tr><td><b><font color='red'>total</font></b></td><td><b><font color='red'>100%</td></b></tr>\n",
    "</table>\n",
    "\n",
    "* **Comments that can explain the logic of the code are necessary.**\n",
    "\n",
    "* You are required to submit two files on the Moodle: This jupyter notebook as <font color='red'><b>StudentID.ipynb</b></font>,  its exported PDF file as <font color='red'><b>StudentID.pdf</b></font>. For example, if your student id is 12345678, then you will submit:\n",
    "1. 12345678.ipynb \n",
    "2. 12345678.pdf.\n",
    "\n",
    "* Academic integrity guidelines should be strictly followed. For more information, please refer to [the official webpage](https://www.monash.edu/students/study-support/academic-integrity).\n"
   ]
  },
  {
   "cell_type": "markdown",
   "metadata": {
    "id": "HHqv-BruhTAH"
   },
   "source": [
    "## 1. Flight Info System(3 marks)\n",
    "\n",
    "Please write a short program that ask user to input a flight code and print out the flight information.\n",
    "\n",
    "The flight code should start with *two alphabets as the carrier code*, followed by a space, and then *3 or 4 digits as the flight number*, e.g. `QF 1234` or `VA 012`.\n",
    "\n",
    "The *carrier code*(alphabets) can tell us the flight operator from the following lookup table:\n",
    "\n",
    "<table>\n",
    "<thead><td>Carrier code</td><td>Flight operator</td></thead>\n",
    "<tr><td>QF</td><td>Qantas</td></tr>\n",
    "<tr><td>VA</td><td>Virgin Australia</td></tr>\n",
    "<tr><td>CX</td><td>Cathay Pacific</td></tr>\n",
    "<tr><td>JL</td><td>Japan Airlines</td></tr>\n",
    "<tr><td>BA</td><td>British Airways</td></tr>\n",
    "</table>\n",
    "\n",
    "The *flight number*(digits) can tell us the destination of the flight with the follow rule:\n",
    "\n",
    "<table>\n",
    "<thead><td><b>REMAINDER</b> of numerical value of flight number divided by 17</td><td>Destination</td></thead>\n",
    "<tr><td>0</td><td>Melbourne</td></tr>\n",
    "<tr><td>1</td><td>Sydney</td></tr>\n",
    "<tr><td>2</td><td>Brisbane</td></tr>\n",
    "<tr><td>3</td><td>Adelaide</td></tr>\n",
    "<tr><td>4</td><td>Perth</td></tr>\n",
    "<tr><td>5</td><td>Darwin</td></tr>\n",
    "<tr><td>6</td><td>Canberra</td></tr>\n",
    "<tr><td>7</td><td>Hobart</td></tr>\n",
    "<tr><td>8</td><td>Cairns</td></tr>\n",
    "<tr><td>9</td><td>Townsville</td></tr>\n",
    "<tr><td>10</td><td>Auckland</td></tr>\n",
    "<tr><td>11</td><td>Wellington</td></tr>\n",
    "<tr><td>12</td><td>Christchurch</td></tr>\n",
    "<tr><td>13</td><td>Queenstown</td></tr>\n",
    "<tr><td>14</td><td>London Heathrow</td></tr>\n",
    "<tr><td>15</td><td>New York JFK</td></tr>\n",
    "<tr><td>16</td><td>Tokyo Narita</td></tr>\n",
    "</table>\n",
    "\n",
    "If the flight code is valid, the program will print out the flight information with the following format:\n",
    "\n",
    "<pre>\n",
    "<b>Example 1:</b> \n",
    "Input: \n",
    "CX 133\n",
    "Output:\n",
    "<i>Flight <b>CX 133</b> is operated by <b>Cathay Pacific</b> flying to <b>London Heathrow</b>.</i>\n",
    "</pre>\n",
    "Since the remiander of $133 \\div 17 $ is 14, so the flight is going to London Heathrow.\n",
    "<pre>\n",
    "<b>Example 2:</b> \n",
    "Input: \n",
    "QF 1234\n",
    "Output:\n",
    "<i>Flight <b>QF 1234</b> is operated by <b>Qantas</b> flying to <b>Auckland</b>.</i>\n",
    "</pre>\n",
    "Since the remiander of $1234 \\div 17 $ is 10, so the flight is going to Auckland.\n",
    "\n",
    "\n",
    "---\n",
    "\n",
    "\n",
    "However, if the flight code is invalid, the program will print out error message 'Invalid flight code.' and quit.\n",
    "\n",
    "<pre>\n",
    "<b>Example 3:</b> \n",
    "Input: \n",
    "AB 133\n",
    "Output:\n",
    "<i>Invalid flight code.</i>\n",
    "</pre>\n",
    "\n",
    "It is because 'AB' is not a valid carrier code."
   ]
  },
  {
   "cell_type": "code",
   "execution_count": null,
   "metadata": {
    "colab": {
     "base_uri": "https://localhost:8080/"
    },
    "id": "6W5DJtFMsoHR",
    "outputId": "4f5995c0-6012-42a7-eb84-6caaefe8bb30"
   },
   "outputs": [
    {
     "name": "stdout",
     "output_type": "stream",
     "text": [
      "Please enter flight code:CX 133\n",
      "Flight CX 133 is operated by Cathay Pacific flying to London Heathrow.\n"
     ]
    }
   ],
   "source": [
    "# Demo of Example 1"
   ]
  },
  {
   "cell_type": "code",
   "execution_count": null,
   "metadata": {
    "colab": {
     "base_uri": "https://localhost:8080/"
    },
    "id": "HRS_E1XRs0zA",
    "outputId": "7ce1bc48-18bc-4d82-c361-09a1f2f74c6e"
   },
   "outputs": [
    {
     "name": "stdout",
     "output_type": "stream",
     "text": [
      "Please enter flight code:QF 1234\n",
      "Flight QF 1234 is operated by Qantas flying to Auckland.\n"
     ]
    }
   ],
   "source": [
    "# Demo of Example 2"
   ]
  },
  {
   "cell_type": "code",
   "execution_count": null,
   "metadata": {
    "colab": {
     "base_uri": "https://localhost:8080/"
    },
    "id": "NV0wHA_ks_7_",
    "outputId": "40dda830-04c4-4b7c-870d-8ccab4fc4285"
   },
   "outputs": [
    {
     "name": "stdout",
     "output_type": "stream",
     "text": [
      "Please enter flight code:AB 133\n",
      "Invalid flight code.\n"
     ]
    }
   ],
   "source": [
    "# Demo of Example 3"
   ]
  },
  {
   "cell_type": "markdown",
   "metadata": {
    "id": "1p3-vqRV6WeZ"
   },
   "source": [
    "<font color='red'><b>Answer</b></font>"
   ]
  },
  {
   "cell_type": "code",
   "execution_count": null,
   "metadata": {
    "id": "PaKdTdObhSQ4"
   },
   "outputs": [],
   "source": [
    "# You are provided a list of destination below, which you might find it useful.\n",
    "destinations = [\n",
    "    'Melbourne',\n",
    "    'Sydney',\n",
    "    'Brisbane',\n",
    "    'Adelaide',\n",
    "    'Perth',\n",
    "    'Darwin',\n",
    "    'Canberra',\n",
    "    'Hobart',\n",
    "    'Cairns',\n",
    "    'Townsville',\n",
    "    'Auckland',\n",
    "    'Wellington',\n",
    "    'Christchurch',\n",
    "    'Queenstown',\n",
    "    'London Heathrow',\n",
    "    'New York JFK',\n",
    "    'Tokyo Narita'\n",
    "]\n",
    "# -------------Solution--------------\n",
    "\n",
    "# create dictionary for carrier code-airline name lookup\n",
    "carrier_dict = {\n",
    "    'QF': 'Qantas',\n",
    "    'VA': 'Virgin Australia',\n",
    "    'CX': 'Cathay Pacific',\n",
    "    'JL': 'Japan Airlines',\n",
    "    'BA': 'British Airways'\n",
    "}\n",
    "\n",
    "flight_code = input('Please enter flight code:')\n",
    "if len(flight_code.split()) != 2: # the input should consist of two parts, carrier code and the flight number\n",
    "    print('Invalid flight code.')\n",
    "else:\n",
    "    [operator, flight_num] = flight_code.split() # obtain the carrier code and flight number\n",
    "    if operator not in carrier_dict or not (len(flight_num) == 3 or len(flight_num) == 4) or not flight_num.isdigit(): # validate the format of carrier code and flight number\n",
    "        print('Invalid flight code.') \n",
    "    else:\n",
    "        print(f'Flight {flight_code} is operated by {carrier_dict[operator]} flying to {destinations[int(flight_num) % 17]}.') # retrieve corresponding information by looking up the dictionary and the list\n"
   ]
  },
  {
   "cell_type": "markdown",
   "metadata": {
    "id": "TeKE8OFN1qRo"
   },
   "source": [
    "## 2. Credit Card Validator(4 marks)\n",
    "\n",
    "Some may not know, the numbers on your credit cards are not simply randomly generated. In this task, you will create a program to validate a credit card number.\n",
    "\n",
    "*Luhn algorithm* is a very common algorithm used to verify a credit card number. *In this task, we have modified the algorithm a bit.* The steps are as follows:\n",
    "\n",
    "1. Drop the last digit from the number(The check digit)\n",
    "2. Reverse the numbers\n",
    "3. Multiply the digits in *odd positions* by 2 and subtract 9 to all any result higher than 9\n",
    "4. Add all the numbers together\n",
    "5. Get the remainder of the sum divided by 10\n",
    "6. The sum of remainder and the last digit removed in step 1 should be divisible by 8 if the credit card number is valid\n",
    "\n",
    "\n",
    "Example:\n",
    "<table>4539179349284192\n",
    "<tr><td>Original Number</td><td>4</td><td>5</td><td>3</td><td>9</td><td>1</td><td>7</td><td>9</td><td>3</td><td>4</td><td>9</td><td>2</td><td>8</td><td>4</td><td>1</td><td>9</td><td><b><font color='red'>2</font></b></td></tr>\n",
    "<tr><td>Drop Last Digit</td><td>4</td><td>5</td><td>3</td><td>9</td><td>1</td><td>7</td><td>9</td><td>3</td><td>4</td><td>9</td><td>2</td><td>8</td><td>4</td><td>1</td><td>9</td><td> </td></tr>\n",
    "<tr><td>Reverse the numbers</td><td>9</td><td>1</td><td>4</td><td>8</td><td>2</td><td>9</td><td>4</td><td>3</td><td>9</td><td>7</td><td>1</td><td>9</td><td>3</td><td>5</td><td>4</td><td> </td></tr>\n",
    "<tr><td>Multiply the digits in odd positions by 2</td><td>18</td><td>1</td><td>8</td><td>8</td><td>4</td><td>9</td><td>8</td><td>3</td><td>18</td><td>7</td><td>2</td><td>9</td><td>6</td><td>5</td><td>8</td><td> </td></tr>\n",
    "<tr><td>Subtract 9 to all any result higher than 9</td><td>9</td><td>1</td><td>8</td><td>8</td><td>4</td><td>9</td><td>8</td><td>3</td><td>9</td><td>7</td><td>2</td><td>9</td><td>6</td><td>5</td><td>8</td><td> </td></tr>\n",
    "<tr><td>Add all the numbers together</td><td>96</td><td> </td><td> </td><td> </td><td> </td><td> </td><td> </td><td> </td><td> </td><td> </td><td> </td><td> </td><td> </td><td> </td><td> </td><td> </td></tr>\n",
    "<tr><td>Get remainder divided by 10</td><td>6</td><td> </td><td> </td><td> </td><td> </td><td> </td><td> </td><td> </td><td> </td><td> </td><td> </td><td> </td><td> </td><td> </td><td> </td><td> </td></tr>\n",
    "<tr><td>Add remainder to last digit</td><td>6+<b><font color='red'>2</font></b></td><td>=</td><td>8</td><td> </td><td> </td><td> </td><td> </td><td> </td><td> </td><td> </td><td> </td><td> </td><td> </td><td> </td><td> </td><td> </td></tr>\n",
    "<tr><td>The sum is divisible by 8?</td><td>True</td><td> </td><td> </td><td> </td><td> </td><td> </td><td> </td><td> </td><td> </td><td> </td><td> </td><td> </td><td> </td><td> </td><td> </td><td> </td></tr>\n",
    "</table>\n",
    "\n",
    "The program will ask for user to enter a credit card number with length between 14 - 19 digits and validate it. If the number is valid, the program will print out 'The number is valid'. If the number is invalid, the program will print out 'The number is invalid.'"
   ]
  },
  {
   "cell_type": "code",
   "execution_count": null,
   "metadata": {
    "colab": {
     "base_uri": "https://localhost:8080/"
    },
    "id": "KoMN8UxFzr1c",
    "outputId": "c722c108-4b77-4c0a-ebe8-a4990fffc83f"
   },
   "outputs": [
    {
     "name": "stdout",
     "output_type": "stream",
     "text": [
      "Please enter a credit card number:4539179349284192\n",
      "The number is valid.\n"
     ]
    }
   ],
   "source": [
    "# Demo of Example"
   ]
  },
  {
   "cell_type": "markdown",
   "metadata": {
    "id": "gAjheMv0rbgW"
   },
   "source": [
    "<font color='red'><b>Answer</b></font>"
   ]
  },
  {
   "cell_type": "code",
   "execution_count": null,
   "metadata": {
    "id": "8jCePl6xlwZe"
   },
   "outputs": [],
   "source": [
    "user_input = input('Please enter a credit card number:')\n",
    "if len(user_input) not in range(14,20) or not user_input.isdigit(): # check length and whether the input is digit-only\n",
    "    print('The number is invalid.')\n",
    "else:\n",
    "    last_digit = user_input[-1] # Store Last Digit\n",
    "    card_num = user_input[-2::-1] # Drop last digit and reverse\n",
    "    card_num = [int(num) for num in card_num] # convert all the numbers from strings to integers\n",
    "    card_num = [num * 2 if idx % 2 == 0 else num for idx, num in enumerate(card_num)] # Multiply the digits in odd positions by 2\n",
    "    card_num = [num - 9 if num > 9 else num for num in card_num] # Subtract 9 to all any result higher than 9\n",
    "    the_sum = sum(card_num) # Add all the numbers together\n",
    "    the_remainder = the_sum % 10 # Get remainder divided by 10\n",
    "    the_remainder_sum = the_remainder + int(last_digit) # Add remainder to last digit\n",
    "    if the_remainder_sum % 8 == 0:\n",
    "        print('The number is valid.') # The sum is divisible by 8\n",
    "    else:\n",
    "        print('The number is invalid.')"
   ]
  },
  {
   "cell_type": "markdown",
   "metadata": {
    "id": "5IpIk1XCeNPf"
   },
   "source": [
    "## 3. Sentiment Analyser(4 marks)\n",
    "\n",
    "In this task, we will write a program to analyse the sentiments of a string based on the following criteria:\n",
    "\n",
    "1. calmness score: the proportion of small letter in the whole string, **excluding the symbols, spaces and numbers** ($\\frac{count_{small\\_letter}}{length_{whole\\ string}}$). Take the string `'12## abC d'` as example, <snall>$count_{small\\_letter}$</small> will be 3 and <small>$length_{whole\\ string}$</small> will be 4.\n",
    "2. excitement score: \n",
    "- `0` if there is no 'wow'(case insensitive) in the string\n",
    "- `3` if there is at least 3 'wow' in the string\n",
    "- `5` if there is at least 5 'wow' in the string\n",
    "\n",
    "This program will first ask for user input, then print out the calmness score, and the excitement score.\n",
    "\n",
    "<pre>\n",
    "<b>Example 1:</b>\n",
    "Input:\n",
    "woWowow ow ow i am so calm.\n",
    "Output:\n",
    "<i>calmness score: 0.95\n",
    "excitement score: 3</i>\n",
    "</pre>\n",
    "In example 1, all characters are small letters, so the calmness score is $\\frac{19}{20}$ = 0.95. There are 3 'wow's in the word 'woWowow', so the excitement score is 3.\n",
    "\n",
    "<pre>\n",
    "<b>Example 2:</b>\n",
    "Input:\n",
    "I AM SO EXCITED! woah!!!\n",
    "Output:\n",
    "<i>calmness score: 0.25\n",
    "excitement score: 0</i>\n",
    "</pre>\n",
    "In example 2, only 4 out of 16 characters are small letters, so the calmness score is $\\frac{4}{16}$ = 0.25. There are 0 'wow' in the string, so the excitement score is 0."
   ]
  },
  {
   "cell_type": "code",
   "execution_count": null,
   "metadata": {
    "colab": {
     "base_uri": "https://localhost:8080/"
    },
    "id": "hq7KDXQsAuxI",
    "outputId": "5a066707-fb00-4a40-ad8a-cc03ac742665"
   },
   "outputs": [
    {
     "name": "stdout",
     "output_type": "stream",
     "text": [
      "Please enter a string:woWowow ow ow i am so calm.\n",
      "calmness score: 0.95\n",
      "excitement score: 3\n"
     ]
    }
   ],
   "source": [
    "# Demo of example 1"
   ]
  },
  {
   "cell_type": "code",
   "execution_count": null,
   "metadata": {
    "colab": {
     "base_uri": "https://localhost:8080/"
    },
    "id": "MkharoxIA1i3",
    "outputId": "71ba9acc-4d26-4213-cfce-693f4d238bf6"
   },
   "outputs": [
    {
     "name": "stdout",
     "output_type": "stream",
     "text": [
      "Please enter a string:I AM SO EXCITED! woah!!!\n",
      "calmness score: 0.25\n",
      "excitement score: 0\n"
     ]
    }
   ],
   "source": [
    "# Demo of example 2"
   ]
  },
  {
   "cell_type": "markdown",
   "metadata": {
    "id": "GTGRfUiAjvEv"
   },
   "source": [
    "<font color='red'><b>Answer</b></font>"
   ]
  },
  {
   "cell_type": "code",
   "execution_count": null,
   "metadata": {
    "id": "SKdiK8zpGwsi"
   },
   "outputs": [],
   "source": [
    "the_string = input('Please enter a string:')\n",
    "the_string_list = list(the_string)\n",
    "the_string_no_symbol = [char for char in the_string_list if char.isalpha()] # extract all characters of [a-zA-Z] only\n",
    "the_string_lower_case = [char for char in the_string_no_symbol if char.islower()] # extract all lower-case characters\n",
    "calmness_score = len(the_string_lower_case)/len(the_string_no_symbol) # calculate the calmness score based on the formula\n",
    "wow_count = 0\n",
    "for i in range(len(the_string) - 3): # iterate through the whole string with a window of 3 characters, i.e. the_string[0:3], the_string[1:4],...,the_string[-3:]\n",
    "    if the_string[i:i+3].lower() == 'wow': # if the current window is 'wow', update the count\n",
    "        wow_count += 1\n",
    "excitement_score = 0 # no wow\n",
    "if wow_count >= 3:\n",
    "    excitement_score = 3 # at least 3 wow\n",
    "if wow_count >= 5:\n",
    "    excitement_score = 5 # at lease 5 wow\n",
    "\n",
    "print(f'calmness score: {calmness_score}\\nexcitement score: {excitement_score}')"
   ]
  }
 ],
 "metadata": {
  "colab": {
   "collapsed_sections": [],
   "name": "Lab Activity A(Solution for Students).ipynb",
   "provenance": []
  },
  "kernelspec": {
   "display_name": "Python 3",
   "language": "python",
   "name": "python3"
  },
  "language_info": {
   "codemirror_mode": {
    "name": "ipython",
    "version": 3
   },
   "file_extension": ".py",
   "mimetype": "text/x-python",
   "name": "python",
   "nbconvert_exporter": "python",
   "pygments_lexer": "ipython3",
   "version": "3.8.8"
  }
 },
 "nbformat": 4,
 "nbformat_minor": 1
}
